{
 "cells": [
  {
   "cell_type": "code",
   "execution_count": 1,
   "metadata": {
    "collapsed": true
   },
   "outputs": [],
   "source": [
    "class Foo(object):\n",
    "    h = (1, 2, 3)\n",
    "    \n",
    "    def foo1(self):\n",
    "        return 5\n",
    "    \n",
    "    def foo2(self):\n",
    "        print(\"OK\")\n",
    "        \n",
    "    def foo3(self):\n",
    "        return self.h"
   ]
  },
  {
   "cell_type": "code",
   "execution_count": 29,
   "metadata": {
    "collapsed": true
   },
   "outputs": [],
   "source": [
    "class Bar(object):\n",
    "    def __init__(self):\n",
    "        self.f = Foo()\n",
    "    \n",
    "    def bar1(self):\n",
    "        return -10\n",
    "    \n",
    "    def bar2(self):\n",
    "        print(\"Howdy!\")\n",
    "        \n",
    "    def __getattr__(self, name):\n",
    "        try:\n",
    "            return getattr(self.f, name)\n",
    "        except AttributeError:\n",
    "            raise AttributeError(\"'{}' and '{}' objects have no attribute '{}'\".format(self.__class__.__name__, \n",
    "                                                                                       self.f.__class__.__name__, \n",
    "                                                                                       name))"
   ]
  },
  {
   "cell_type": "code",
   "execution_count": 30,
   "metadata": {
    "collapsed": false
   },
   "outputs": [
    {
     "name": "stdout",
     "output_type": "stream",
     "text": [
      "-10\n",
      "Howdy!\n",
      "5\n",
      "OK\n"
     ]
    },
    {
     "data": {
      "text/plain": [
       "(1, 2, 3)"
      ]
     },
     "execution_count": 30,
     "metadata": {},
     "output_type": "execute_result"
    }
   ],
   "source": [
    "b = Bar()\n",
    "print(b.bar1())\n",
    "b.bar2()\n",
    "print(b.foo1())\n",
    "b.foo2()\n",
    "b.foo3()"
   ]
  },
  {
   "cell_type": "code",
   "execution_count": 31,
   "metadata": {
    "collapsed": false
   },
   "outputs": [
    {
     "ename": "AttributeError",
     "evalue": "'Bar' and 'Foo' objects have no attribute 'bar3'",
     "output_type": "error",
     "traceback": [
      "\u001b[1;31m---------------------------------------------------------------------------\u001b[0m",
      "\u001b[1;31mAttributeError\u001b[0m                            Traceback (most recent call last)",
      "\u001b[1;32m<ipython-input-31-ef01b9e3e9c7>\u001b[0m in \u001b[0;36m<module>\u001b[1;34m()\u001b[0m\n\u001b[1;32m----> 1\u001b[1;33m \u001b[0mb\u001b[0m\u001b[1;33m.\u001b[0m\u001b[0mbar3\u001b[0m\u001b[1;33m(\u001b[0m\u001b[1;33m)\u001b[0m\u001b[1;33m\u001b[0m\u001b[0m\n\u001b[0m",
      "\u001b[1;32m<ipython-input-29-aea1afc31e54>\u001b[0m in \u001b[0;36m__getattr__\u001b[1;34m(self, name)\u001b[0m\n\u001b[0;32m     15\u001b[0m             raise AttributeError(\"'{}' and '{}' objects have no attribute '{}'\".format(self.__class__.__name__, \n\u001b[0;32m     16\u001b[0m                                                                                        \u001b[0mself\u001b[0m\u001b[1;33m.\u001b[0m\u001b[0mf\u001b[0m\u001b[1;33m.\u001b[0m\u001b[0m__class__\u001b[0m\u001b[1;33m.\u001b[0m\u001b[0m__name__\u001b[0m\u001b[1;33m,\u001b[0m\u001b[1;33m\u001b[0m\u001b[0m\n\u001b[1;32m---> 17\u001b[1;33m                                                                                        name))\n\u001b[0m",
      "\u001b[1;31mAttributeError\u001b[0m: 'Bar' and 'Foo' objects have no attribute 'bar3'"
     ]
    }
   ],
   "source": [
    "b.bar3()"
   ]
  },
  {
   "cell_type": "code",
   "execution_count": 32,
   "metadata": {
    "collapsed": false
   },
   "outputs": [
    {
     "ename": "AttributeError",
     "evalue": "'Bar' and 'Foo' objects have no attribute 'foo4'",
     "output_type": "error",
     "traceback": [
      "\u001b[1;31m---------------------------------------------------------------------------\u001b[0m",
      "\u001b[1;31mAttributeError\u001b[0m                            Traceback (most recent call last)",
      "\u001b[1;32m<ipython-input-32-5d025fdaa61d>\u001b[0m in \u001b[0;36m<module>\u001b[1;34m()\u001b[0m\n\u001b[1;32m----> 1\u001b[1;33m \u001b[0mb\u001b[0m\u001b[1;33m.\u001b[0m\u001b[0mfoo4\u001b[0m\u001b[1;33m(\u001b[0m\u001b[1;33m)\u001b[0m\u001b[1;33m\u001b[0m\u001b[0m\n\u001b[0m",
      "\u001b[1;32m<ipython-input-29-aea1afc31e54>\u001b[0m in \u001b[0;36m__getattr__\u001b[1;34m(self, name)\u001b[0m\n\u001b[0;32m     15\u001b[0m             raise AttributeError(\"'{}' and '{}' objects have no attribute '{}'\".format(self.__class__.__name__, \n\u001b[0;32m     16\u001b[0m                                                                                        \u001b[0mself\u001b[0m\u001b[1;33m.\u001b[0m\u001b[0mf\u001b[0m\u001b[1;33m.\u001b[0m\u001b[0m__class__\u001b[0m\u001b[1;33m.\u001b[0m\u001b[0m__name__\u001b[0m\u001b[1;33m,\u001b[0m\u001b[1;33m\u001b[0m\u001b[0m\n\u001b[1;32m---> 17\u001b[1;33m                                                                                        name))\n\u001b[0m",
      "\u001b[1;31mAttributeError\u001b[0m: 'Bar' and 'Foo' objects have no attribute 'foo4'"
     ]
    }
   ],
   "source": [
    "b.foo4()"
   ]
  }
 ],
 "metadata": {
  "kernelspec": {
   "display_name": "Python 2",
   "language": "python",
   "name": "python2"
  },
  "language_info": {
   "codemirror_mode": {
    "name": "ipython",
    "version": 2
   },
   "file_extension": ".py",
   "mimetype": "text/x-python",
   "name": "python",
   "nbconvert_exporter": "python",
   "pygments_lexer": "ipython2",
   "version": "2.7.11"
  }
 },
 "nbformat": 4,
 "nbformat_minor": 0
}
