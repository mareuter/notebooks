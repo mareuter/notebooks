{
 "cells": [
  {
   "cell_type": "code",
   "execution_count": null,
   "metadata": {},
   "outputs": [],
   "source": [
    "import ephem\n",
    "import math\n",
    "import matplotlib.pyplot as plt\n",
    "import numpy as np\n",
    "%matplotlib inline"
   ]
  },
  {
   "cell_type": "code",
   "execution_count": null,
   "metadata": {},
   "outputs": [],
   "source": [
    "observer = ephem.Observer()\n",
    "observer.lat = \"35:58:10\"\n",
    "observer.lon = \"-84:19:0\"\n",
    "observer.date = (2018, 5, 26, 22, 0, 0)\n",
    "\n",
    "moon = ephem.Moon()"
   ]
  },
  {
   "cell_type": "code",
   "execution_count": null,
   "metadata": {},
   "outputs": [],
   "source": [
    "lib_lat = []\n",
    "lib_lon = []\n",
    "lib_tot = []\n",
    "phase_angle = []\n",
    "time_steps = 1000\n",
    "time_constant = 1.0\n",
    "for i in range(time_steps):\n",
    "    moon.compute(observer)\n",
    "    lib_lat.append(moon.libration_lat)\n",
    "    lib_lon.append(moon.libration_long)\n",
    "    tot = math.sqrt(lib_lat[-1]**2 + lib_lon[-1]**2)\n",
    "    pa = math.atan2(lib_lon[-1], lib_lat[-1])\n",
    "    pa += 2.0 * math.pi if pa < 0 else 0.0\n",
    "    phase_angle.append(pa)\n",
    "    #tot *= sign\n",
    "    lib_tot.append(tot)\n",
    "    observer.date += time_constant * ephem.hour"
   ]
  },
  {
   "cell_type": "code",
   "execution_count": null,
   "metadata": {},
   "outputs": [],
   "source": [
    "alib_lat = np.degrees(np.array(lib_lat))\n",
    "alib_lon = np.degrees(np.array(lib_lon))\n",
    "alib_tot = np.degrees(np.array(lib_tot))\n",
    "aphase_angle = np.degrees(np.array(phase_angle))\n",
    "time = np.arange(time_steps)"
   ]
  },
  {
   "cell_type": "code",
   "execution_count": null,
   "metadata": {},
   "outputs": [],
   "source": [
    "plt.plot(time, alib_lat, label=\"Lib Lat\")\n",
    "plt.plot(time, alib_lon, label=\"Lib Lon\")\n",
    "plt.plot(time, alib_tot, label=\"Lib Tot\")\n",
    "plt.legend()\n",
    "plt.show()"
   ]
  },
  {
   "cell_type": "code",
   "execution_count": null,
   "metadata": {},
   "outputs": [],
   "source": [
    "plt.plot(time, aphase_angle)\n",
    "plt.show()"
   ]
  },
  {
   "cell_type": "code",
   "execution_count": null,
   "metadata": {},
   "outputs": [],
   "source": [
    "x = np.cos(np.radians(aphase_angle))\n",
    "y = np.sin(np.radians(aphase_angle))"
   ]
  },
  {
   "cell_type": "code",
   "execution_count": null,
   "metadata": {},
   "outputs": [],
   "source": [
    "plt.plot(x, y)"
   ]
  },
  {
   "cell_type": "code",
   "execution_count": null,
   "metadata": {},
   "outputs": [],
   "source": [
    "x[180:220]"
   ]
  },
  {
   "cell_type": "code",
   "execution_count": null,
   "metadata": {},
   "outputs": [],
   "source": [
    "y[180:220]"
   ]
  },
  {
   "cell_type": "code",
   "execution_count": null,
   "metadata": {},
   "outputs": [],
   "source": []
  }
 ],
 "metadata": {
  "kernelspec": {
   "display_name": "Python 3",
   "language": "python",
   "name": "python3"
  },
  "language_info": {
   "codemirror_mode": {
    "name": "ipython",
    "version": 3
   },
   "file_extension": ".py",
   "mimetype": "text/x-python",
   "name": "python",
   "nbconvert_exporter": "python",
   "pygments_lexer": "ipython3",
   "version": "3.8.2"
  }
 },
 "nbformat": 4,
 "nbformat_minor": 2
}
