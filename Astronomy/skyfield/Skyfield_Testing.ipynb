{
 "cells": [
  {
   "cell_type": "code",
   "execution_count": null,
   "id": "5424313c",
   "metadata": {},
   "outputs": [],
   "source": [
    "from datetime import datetime, timedelta\n",
    "\n",
    "import numpy as np\n",
    "from skyfield import almanac\n",
    "from skyfield.api import Angle, N, W, Loader, PlanetaryConstants, utc, wgs84\n",
    "from skyfield.data import iers\n",
    "from skyfield.framelib import ecliptic_frame\n",
    "from skyfield.trigonometry import position_angle_of\n",
    "\n",
    "import magnitude_lib as ml"
   ]
  },
  {
   "cell_type": "code",
   "execution_count": null,
   "id": "e405e549",
   "metadata": {},
   "outputs": [],
   "source": [
    "latitude = (35 + 58/60 + 10/3600) * N\n",
    "longitude = (84 + 19/60) * W\n",
    "obs_date_time = datetime(2013, 10, 18, 22, 0, 0)\n",
    "obs_date_time = obs_date_time.replace(tzinfo=utc)\n",
    "obs_midnight = obs_date_time.date()\n",
    "obs_midnight_next = obs_midnight + timedelta(days=1)"
   ]
  },
  {
   "cell_type": "code",
   "execution_count": null,
   "id": "cddbf908",
   "metadata": {},
   "outputs": [],
   "source": [
    "obs_date_time"
   ]
  },
  {
   "cell_type": "code",
   "execution_count": null,
   "id": "ae56c837",
   "metadata": {},
   "outputs": [],
   "source": [
    "load = Loader(\"~/skyfield\")\n",
    "url = load.build_url(\"finals2000A.all\")\n",
    "with load.open(url) as f:\n",
    "    finals_data = iers.parse_x_y_dut1_from_finals_all(f)\n",
    "ts = load.timescale(builtin=False)\n",
    "iers.install_polar_motion_table(ts, finals_data)"
   ]
  },
  {
   "cell_type": "code",
   "execution_count": null,
   "id": "addea68f",
   "metadata": {},
   "outputs": [],
   "source": [
    "eph = load(\"de421.bsp\")\n",
    "moon, sun, earth = eph[\"Moon\"], eph[\"Sun\"], eph[\"Earth\"]"
   ]
  },
  {
   "cell_type": "code",
   "execution_count": null,
   "id": "8111e453",
   "metadata": {},
   "outputs": [],
   "source": [
    "pc = PlanetaryConstants()\n",
    "pc.read_text(load('moon_080317.tf'))\n",
    "pc.read_text(load('pck00008.tpc'))\n",
    "pc.read_binary(load('moon_pa_de421_1900-2050.bpc'))\n",
    "moon_frame = pc.build_frame_named('MOON_ME_DE421')"
   ]
  },
  {
   "cell_type": "code",
   "execution_count": null,
   "id": "0b1ebece",
   "metadata": {},
   "outputs": [],
   "source": [
    "location = wgs84.latlon(latitude, longitude)\n",
    "topos = earth + location\n",
    "obs_date = ts.utc(obs_date_time)"
   ]
  },
  {
   "cell_type": "code",
   "execution_count": null,
   "id": "1a547123",
   "metadata": {},
   "outputs": [],
   "source": [
    "print(f\"Dublin JD: {obs_date.ut1 - 2415020}\")"
   ]
  },
  {
   "cell_type": "code",
   "execution_count": null,
   "id": "0213557c",
   "metadata": {},
   "outputs": [],
   "source": [
    "elong = almanac.moon_phase(eph, obs_date)\n",
    "fi = almanac.fraction_illuminated(eph, \"Moon\", obs_date)\n",
    "moon_phases = almanac.moon_phases(eph)\n",
    "rise_and_set = almanac.risings_and_settings(eph, moon, location)\n",
    "transits = almanac.meridian_transits(eph, moon, location)"
   ]
  },
  {
   "cell_type": "code",
   "execution_count": null,
   "id": "2e29e726",
   "metadata": {},
   "outputs": [],
   "source": [
    "print(f'Moon elongation: {elong} degrees')\n",
    "print(f\"Moon fraction illuminated: {fi}\")"
   ]
  },
  {
   "cell_type": "code",
   "execution_count": null,
   "id": "d09df657",
   "metadata": {},
   "outputs": [],
   "source": [
    "obs_date_future = obs_date + 29.75\n",
    "tf, yf = almanac.find_discrete(obs_date, obs_date_future, moon_phases)\n",
    "print(tf.utc_iso())\n",
    "print(yf)\n",
    "print([almanac.MOON_PHASES[yi] for yi in yf])"
   ]
  },
  {
   "cell_type": "code",
   "execution_count": null,
   "id": "1a01954a",
   "metadata": {},
   "outputs": [],
   "source": [
    "obs_date_past = obs_date - 29.75\n",
    "tp, yp = almanac.find_discrete(obs_date_past, obs_date, moon_phases)\n",
    "print(tp.utc_iso())\n",
    "print(yp)\n",
    "print([almanac.MOON_PHASES[yi] for yi in yp])"
   ]
  },
  {
   "cell_type": "code",
   "execution_count": null,
   "id": "bc260fe4",
   "metadata": {},
   "outputs": [],
   "source": [
    "next_nm = tf[np.where(yf == 0)[0]]\n",
    "previous_nm = tp[np.where(yp == 0)]\n",
    "next_fm = tf[np.where(yf == 2)]\n",
    "print(f\"Moon age: {obs_date - previous_nm[0]} days\")\n",
    "print(f\"Time to New Moon: {(next_nm.utc_datetime()[0] - obs_date.utc_datetime()).total_seconds() / 3600} hours\")\n",
    "print(f\"Time from Previous New Moon: {(obs_date.utc_datetime() - previous_nm.utc_datetime()[0]).total_seconds() / 3600} hours\")\n",
    "print(f\"Time to Full Moon: {(next_fm.utc_datetime()[0] - obs_date.utc_datetime()).total_seconds() / (24 * 3600)} days\")"
   ]
  },
  {
   "cell_type": "code",
   "execution_count": null,
   "id": "4c65d207",
   "metadata": {},
   "outputs": [],
   "source": [
    "astrometric = topos.at(obs_date).observe(moon)\n",
    "apparent = astrometric.apparent()\n",
    "ra, dec, distance = apparent.radec('date')"
   ]
  },
  {
   "cell_type": "code",
   "execution_count": null,
   "id": "90e31362",
   "metadata": {},
   "outputs": [],
   "source": [
    "print(f\"Moon RA: {ra.hours * 15}\")\n",
    "print(f\"Moon Dec: {dec.degrees}\")\n",
    "print(f\"Moon distance: {distance.km} km\")"
   ]
  },
  {
   "cell_type": "code",
   "execution_count": null,
   "id": "644d901c",
   "metadata": {},
   "outputs": [],
   "source": [
    "alt, az, _ = apparent.altaz()"
   ]
  },
  {
   "cell_type": "code",
   "execution_count": null,
   "id": "69c6d91d",
   "metadata": {},
   "outputs": [],
   "source": [
    "print(f\"Moon altitude: {alt.degrees}\")\n",
    "print(f\"Moon azimuth: {az.degrees}\")"
   ]
  },
  {
   "cell_type": "code",
   "execution_count": null,
   "id": "c8058186",
   "metadata": {},
   "outputs": [],
   "source": [
    "magnitude = ml.ephem_magnitude(elong.radians, distance.au)\n",
    "mag2 = ml.ephem_magnitude(np.deg2rad(178.56298828125), 386484.25078267464*6.6845871226706E-9)"
   ]
  },
  {
   "cell_type": "code",
   "execution_count": null,
   "id": "75085f22",
   "metadata": {},
   "outputs": [],
   "source": [
    "print(f\"Moon magnitude: {magnitude:.2f}\")\n",
    "print(f\"Moon magnitude2: {mag2:.2f}\")"
   ]
  },
  {
   "cell_type": "code",
   "execution_count": null,
   "id": "074f6d0f",
   "metadata": {},
   "outputs": [],
   "source": [
    "p = moon.at(obs_date).observe(sun).apparent()\n",
    "lat, lon, distance = p.frame_latlon(moon_frame)\n",
    "lon_degrees = (lon.degrees + 180.0) % 360.0 - 180.0\n",
    "print('Sub-solar latitude: {:.5f} degrees'.format(lat.degrees))\n",
    "print('Sub-solar longitude: {:.5f} degrees'.format(lon_degrees))"
   ]
  },
  {
   "cell_type": "code",
   "execution_count": null,
   "id": "788f8706",
   "metadata": {},
   "outputs": [],
   "source": [
    "if lon.degrees <= 90.0:\n",
    "    colong = 90.0 - lon.degrees\n",
    "else:\n",
    "    colong = 450.0 - lon.degrees\n",
    "print(f\"Selenographic colongitude: {colong:.3f}\")"
   ]
  },
  {
   "cell_type": "code",
   "execution_count": null,
   "id": "853a823f",
   "metadata": {},
   "outputs": [],
   "source": [
    "p = (earth - moon).at(obs_date)\n",
    "lat, lon, distance = p.frame_latlon(moon_frame)\n",
    "lon_degrees = (lon.degrees + 180.0) % 360.0 - 180.0\n",
    "print('Libration in latitude: {:.3f} degrees'.format(lat.degrees))\n",
    "print('Libration in longitude: {:.3f} degrees'.format(lon_degrees))\n",
    "lib_phase = np.arctan2(lon.radians, lat.radians)\n",
    "lib_phase += 2.0 * np.pi if lib_phase < 0 else 0.0\n",
    "print(f'Libration phase angle: {np.rad2deg(lib_phase):.5f} degrees')"
   ]
  },
  {
   "cell_type": "code",
   "execution_count": null,
   "id": "eea61b21",
   "metadata": {},
   "outputs": [],
   "source": [
    "obs_m = ts.utc(obs_midnight)\n",
    "obs_mn = ts.utc(obs_midnight_next)\n",
    "t, y = almanac.find_discrete(obs_m, obs_mn, rise_and_set)\n",
    "for ti, yi in zip(t, y):\n",
    "    print(ti.utc_iso(), 'Rise' if yi else 'Set')"
   ]
  },
  {
   "cell_type": "code",
   "execution_count": null,
   "id": "25eed107",
   "metadata": {},
   "outputs": [],
   "source": [
    "tt, yt = almanac.find_discrete(obs_m, obs_mn, transits)\n",
    "transit = tt[np.where(yt == 1)][0]\n",
    "print(transit.utc_iso(), \"Transit\")"
   ]
  },
  {
   "cell_type": "code",
   "execution_count": null,
   "id": "778f2134",
   "metadata": {},
   "outputs": [],
   "source": [
    "moon_radius = pc.assignments[\"BODY301_RADII\"][0]\n",
    "apparent_diameter = Angle(radians=np.arcsin(moon_radius / distance.km) * 2.0)\n",
    "print(f'{apparent_diameter.degrees:.6f} degrees')"
   ]
  },
  {
   "cell_type": "code",
   "execution_count": null,
   "id": "f9f45a97",
   "metadata": {},
   "outputs": [],
   "source": [
    "apparent_diameter2 = Angle(radians=np.arcsin(1740. / 386484.25078267464) * 2.0)\n",
    "print(f'{apparent_diameter2.degrees:.6f} degrees')"
   ]
  },
  {
   "cell_type": "code",
   "execution_count": null,
   "id": "70f3ab73",
   "metadata": {},
   "outputs": [],
   "source": [
    "print(moon_radius)"
   ]
  },
  {
   "cell_type": "code",
   "execution_count": null,
   "id": "23c5c8f8",
   "metadata": {},
   "outputs": [],
   "source": [
    "s = moon.at(obs_date).observe(sun)\n",
    "e = moon.at(obs_date).observe(earth)\n",
    "pa = e.separation_from(s)\n",
    "print(f\"Phase Angle: {pa}\")"
   ]
  },
  {
   "cell_type": "code",
   "execution_count": null,
   "id": "26992eb3",
   "metadata": {},
   "outputs": [],
   "source": [
    "north_pole = moon + pc.build_latlon_degrees(moon_frame, 90.0, 0.0)\n",
    "np_app = topos.at(obs_date).observe(north_pole).apparent()\n",
    "a = np_app.altaz()[:-1]\n",
    "np_pa = position_angle_of((alt, az), a)\n",
    "#np_pa_degrees = (np_pa.degrees + 180.0) % 360.0 - 180.0\n",
    "print(f\"PA of North Pole = {np_pa.degrees} degrees\")"
   ]
  },
  {
   "cell_type": "code",
   "execution_count": null,
   "id": "94f89abc",
   "metadata": {},
   "outputs": [],
   "source": []
  },
  {
   "cell_type": "code",
   "execution_count": null,
   "id": "afadee1d",
   "metadata": {},
   "outputs": [],
   "source": []
  }
 ],
 "metadata": {
  "kernelspec": {
   "display_name": "Python 3 (ipykernel)",
   "language": "python",
   "name": "python3"
  },
  "language_info": {
   "codemirror_mode": {
    "name": "ipython",
    "version": 3
   },
   "file_extension": ".py",
   "mimetype": "text/x-python",
   "name": "python",
   "nbconvert_exporter": "python",
   "pygments_lexer": "ipython3",
   "version": "3.10.4"
  }
 },
 "nbformat": 4,
 "nbformat_minor": 5
}
