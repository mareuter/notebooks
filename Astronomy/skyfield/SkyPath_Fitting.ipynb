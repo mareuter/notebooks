{
 "cells": [
  {
   "cell_type": "code",
   "execution_count": null,
   "id": "7e951451",
   "metadata": {},
   "outputs": [],
   "source": [
    "from datetime import datetime, timedelta\n",
    "\n",
    "import numpy as np\n",
    "from skyfield import almanac\n",
    "from skyfield.api import Angle, N, W, Loader, PlanetaryConstants, utc, wgs84\n",
    "from skyfield.framelib import ecliptic_frame\n",
    "from skyfield.trigonometry import position_angle_of"
   ]
  },
  {
   "cell_type": "code",
   "execution_count": null,
   "id": "55c49e3f",
   "metadata": {},
   "outputs": [],
   "source": [
    "latitude = (35 + 58/60 + 10/3600) * N\n",
    "longitude = (84 + 19/60) * W\n",
    "# obs_date_time = datetime(2013, 10, 18, 22, 0, 0)\n",
    "# obs_date_time = obs_date_time.replace(tzinfo=utc)\n",
    "# obs_midnight = obs_date_time.date()\n",
    "# obs_midnight_next = obs_midnight + timedelta(days=1)"
   ]
  },
  {
   "cell_type": "code",
   "execution_count": null,
   "id": "feafc075",
   "metadata": {},
   "outputs": [],
   "source": [
    "load = Loader(\"~/skyfield\")\n",
    "ts = load.timescale(builtin=False)"
   ]
  },
  {
   "cell_type": "code",
   "execution_count": null,
   "id": "f31967a1",
   "metadata": {},
   "outputs": [],
   "source": [
    "eph = load(\"de421.bsp\")\n",
    "moon, sun, earth = eph[\"Moon\"], eph[\"Sun\"], eph[\"Earth\"]"
   ]
  },
  {
   "cell_type": "code",
   "execution_count": null,
   "id": "460a163c",
   "metadata": {},
   "outputs": [],
   "source": [
    "pc = PlanetaryConstants()\n",
    "pc.read_text(load('moon_080317.tf'))\n",
    "pc.read_text(load('pck00008.tpc'))\n",
    "pc.read_binary(load('moon_pa_de421_1900-2050.bpc'))\n",
    "moon_frame = pc.build_frame_named('MOON_ME_DE421')"
   ]
  },
  {
   "cell_type": "code",
   "execution_count": null,
   "id": "6c481984",
   "metadata": {},
   "outputs": [],
   "source": [
    "location = wgs84.latlon(latitude, longitude)\n",
    "topos = earth + location"
   ]
  },
  {
   "cell_type": "code",
   "execution_count": null,
   "id": "2fc5cbbe",
   "metadata": {},
   "outputs": [],
   "source": [
    "obs_date = ts.utc(2013, 11, 10, 22, 0, 0)\n",
    "tmp = obs_date.utc_datetime()\n",
    "max_minutes = 1440 * 1\n",
    "obs_times = ts.utc(tmp.year, tmp.month, tmp.day, 0, range(0, max_minutes, 10), 0)"
   ]
  },
  {
   "cell_type": "code",
   "execution_count": null,
   "id": "3d64b5d8",
   "metadata": {},
   "outputs": [],
   "source": [
    "astrometric = topos.at(obs_times).observe(moon)\n",
    "apparent = astrometric.apparent()\n",
    "ra, dec, distance = apparent.radec('date')\n",
    "alt, az, _ = apparent.altaz()"
   ]
  },
  {
   "cell_type": "code",
   "execution_count": null,
   "id": "2ba3237f",
   "metadata": {},
   "outputs": [],
   "source": [
    "import matplotlib.pyplot as plt\n",
    "plt.plot(obs_times.utc_datetime(), alt.degrees, 'o')"
   ]
  },
  {
   "cell_type": "code",
   "execution_count": null,
   "id": "9a5fd67b",
   "metadata": {},
   "outputs": [],
   "source": [
    "plt.plot(obs_times.utc_datetime(), np.sin(dec.radians), 'o')"
   ]
  },
  {
   "cell_type": "code",
   "execution_count": null,
   "id": "6d94b1ed",
   "metadata": {},
   "outputs": [],
   "source": [
    "plt.plot(obs_times.utc_datetime(), np.cos(dec.radians), 'o')"
   ]
  },
  {
   "cell_type": "code",
   "execution_count": null,
   "id": "9ddd5479",
   "metadata": {},
   "outputs": [],
   "source": [
    "plt.plot(obs_times.utc_datetime(), ra.hours, 'o')"
   ]
  },
  {
   "cell_type": "code",
   "execution_count": null,
   "id": "2ebf49ac",
   "metadata": {},
   "outputs": [],
   "source": [
    "sin_lat = np.sin(np.deg2rad(latitude))\n",
    "cos_lat = np.cos(np.deg2rad(latitude))\n",
    "print(sin_lat, cos_lat)"
   ]
  },
  {
   "cell_type": "code",
   "execution_count": null,
   "id": "ea822a1e",
   "metadata": {},
   "outputs": [],
   "source": [
    "def altitude_fit(t, a, b, c, d):\n",
    "    return a * c + b * d * np.cos(t)"
   ]
  },
  {
   "cell_type": "code",
   "execution_count": null,
   "id": "70b5117d",
   "metadata": {},
   "outputs": [],
   "source": [
    "from scipy.optimize import curve_fit"
   ]
  },
  {
   "cell_type": "code",
   "execution_count": null,
   "id": "fc64c891",
   "metadata": {},
   "outputs": [],
   "source": [
    "times = np.array([d.timestamp() for d in obs_times.utc_datetime()])\n",
    "times = times - times[0]\n",
    "times *= (2 * np.pi) / (24 * 3600)\n",
    "# print(times)\n",
    "fixed_alt = lambda t, c, d: altitude_fit(t, sin_lat, cos_lat, c, d)\n",
    "# bounds = ((sin_lat, -np.inf, cos_lat, -np.inf), (sin_lat+0.001, np.inf, cos_lat+0.001, np.inf))\n",
    "param, param_cov = curve_fit(fixed_alt, times, np.sin(alt.radians))"
   ]
  },
  {
   "cell_type": "code",
   "execution_count": null,
   "id": "a4dc306b",
   "metadata": {},
   "outputs": [],
   "source": [
    "param"
   ]
  },
  {
   "cell_type": "code",
   "execution_count": null,
   "id": "2ed29adb",
   "metadata": {},
   "outputs": [],
   "source": [
    "alt_fit = altitude_fit(times, sin_lat, cos_lat, *param)"
   ]
  },
  {
   "cell_type": "code",
   "execution_count": null,
   "id": "0a3cf637",
   "metadata": {},
   "outputs": [],
   "source": [
    "plt.plot(obs_times.utc_datetime(), np.rad2deg(np.arcsin(alt_fit)))"
   ]
  },
  {
   "cell_type": "code",
   "execution_count": null,
   "id": "96ba5e1e",
   "metadata": {},
   "outputs": [],
   "source": [
    "hour_angle = obs_times.gmst + longitude/15 - ra.hours"
   ]
  },
  {
   "cell_type": "code",
   "execution_count": null,
   "id": "dfc2c83b",
   "metadata": {},
   "outputs": [],
   "source": [
    "hour_angle *= 15"
   ]
  },
  {
   "cell_type": "code",
   "execution_count": null,
   "id": "9aaf64e8",
   "metadata": {},
   "outputs": [],
   "source": [
    "alt_func = np.arcsin(sin_lat * np.sin(dec.radians) + cos_lat * np.cos(dec.radians) * np.cos(np.deg2rad(hour_angle)))"
   ]
  },
  {
   "cell_type": "code",
   "execution_count": null,
   "id": "fca0a957",
   "metadata": {},
   "outputs": [],
   "source": [
    "plt.plot(obs_times.utc_datetime(), np.rad2deg(alt_func))"
   ]
  },
  {
   "cell_type": "code",
   "execution_count": null,
   "id": "4e5d5dc5",
   "metadata": {},
   "outputs": [],
   "source": [
    "diff = alt.degrees - np.rad2deg(alt_func)"
   ]
  },
  {
   "cell_type": "code",
   "execution_count": null,
   "id": "279cb7aa",
   "metadata": {},
   "outputs": [],
   "source": [
    "plt.plot(times, diff)"
   ]
  },
  {
   "cell_type": "code",
   "execution_count": null,
   "id": "323736ea",
   "metadata": {},
   "outputs": [],
   "source": [
    "def alt_fit2(t, a, b, c, d, e, f, g, h, i, j):\n",
    "    return a * np.sin(e * t + f) * np.sin(g * t + i) + np.cos(b * t + c) * np.cos(h * t + j) + d"
   ]
  },
  {
   "cell_type": "code",
   "execution_count": null,
   "id": "3ddce809",
   "metadata": {},
   "outputs": [],
   "source": [
    "def alt_fit3(t, a, b, c, d, e, f, g):\n",
    "    return a * np.sin(c * t + d) + b * np.cos(e * t + f) * np.cos(g * t)"
   ]
  },
  {
   "cell_type": "code",
   "execution_count": null,
   "id": "db8383b2",
   "metadata": {},
   "outputs": [],
   "source": [
    "fixed_alt3 = lambda t, c, d, e, f, g: alt_fit3(t, sin_lat, cos_lat, c, d, e, f, g)"
   ]
  },
  {
   "cell_type": "code",
   "execution_count": null,
   "id": "c81f536a",
   "metadata": {},
   "outputs": [],
   "source": [
    "param, param_cov = curve_fit(alt_fit2, times, alt.degrees,\n",
    "                             p0=(np.max(alt.degrees), 1/1440, 1, 1/14400, 1, 1, 0.1, 0.1, 0.1, 0.1),\n",
    "                             maxfev=1000000)"
   ]
  },
  {
   "cell_type": "code",
   "execution_count": null,
   "id": "9c37bb0a",
   "metadata": {},
   "outputs": [],
   "source": [
    "param"
   ]
  },
  {
   "cell_type": "code",
   "execution_count": null,
   "id": "1e66fe55",
   "metadata": {},
   "outputs": [],
   "source": [
    "plt.plot(times, alt.degrees, 'o')\n",
    "plt.plot(times, alt_fit2(times, *param))"
   ]
  },
  {
   "cell_type": "code",
   "execution_count": null,
   "id": "ee79d22f",
   "metadata": {},
   "outputs": [],
   "source": []
  }
 ],
 "metadata": {
  "kernelspec": {
   "display_name": "Python 3 (ipykernel)",
   "language": "python",
   "name": "python3"
  },
  "language_info": {
   "codemirror_mode": {
    "name": "ipython",
    "version": 3
   },
   "file_extension": ".py",
   "mimetype": "text/x-python",
   "name": "python",
   "nbconvert_exporter": "python",
   "pygments_lexer": "ipython3",
   "version": "3.10.4"
  }
 },
 "nbformat": 4,
 "nbformat_minor": 5
}
