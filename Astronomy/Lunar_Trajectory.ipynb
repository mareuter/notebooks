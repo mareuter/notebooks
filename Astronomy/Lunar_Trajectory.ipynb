{
 "cells": [
  {
   "cell_type": "code",
   "execution_count": null,
   "metadata": {},
   "outputs": [],
   "source": [
    "from datetime import datetime, timedelta\n",
    "\n",
    "import matplotlib.pyplot as plt\n",
    "import numpy as np\n",
    "import pytz\n",
    "from scipy import interpolate\n",
    "\n",
    "from pylunar import MoonInfo\n",
    "\n",
    "%matplotlib inline"
   ]
  },
  {
   "cell_type": "code",
   "execution_count": null,
   "metadata": {},
   "outputs": [],
   "source": [
    "location = ((32, 24, 0), (-111, 0, 0))\n",
    "#location = ((42, 21, 30), (-71, 3, 35))\n",
    "obs_datetime = (2020, 10, 1, 5, 0, 0)\n",
    "ob_obj = datetime(*obs_datetime)\n",
    "mi = MoonInfo(location[0], location[1])\n",
    "current_tz = pytz.timezone('US/Arizona')\n",
    "#current_tz = pytz.timezone('US/Eastern')"
   ]
  },
  {
   "cell_type": "code",
   "execution_count": null,
   "metadata": {},
   "outputs": [],
   "source": [
    "end_date = datetime(2020, 12, 31, 5, 0, 0)\n",
    "day_inc = 1"
   ]
  },
  {
   "cell_type": "code",
   "execution_count": null,
   "metadata": {},
   "outputs": [],
   "source": [
    "def location_on_sky(t, lat, dec):\n",
    "    a = np.sin(lat) * np.sin(dec)\n",
    "    b = np.cos(lat) * np.cos(dec)\n",
    "    return np.degrees(np.arcsin(a + b * np.cos(t)))"
   ]
  },
  {
   "cell_type": "code",
   "execution_count": null,
   "metadata": {},
   "outputs": [],
   "source": [
    "fig = plt.figure(figsize=(15, 10))\n",
    "ax = fig.add_subplot(121)\n",
    "latitude = mi.observer.lat\n",
    "while ob_obj <= end_date:\n",
    "    utctime = datetime(*ob_obj.timetuple()[:6], tzinfo=pytz.UTC)\n",
    "    localtime = utctime.astimezone(current_tz)\n",
    "    local_midnight = current_tz.localize(datetime(*localtime.timetuple()[:3]))\n",
    "    next_local_midnight = local_midnight + timedelta(hours=24)\n",
    "\n",
    "    current_time = local_midnight\n",
    "    az_list = []\n",
    "    alt_list = []\n",
    "    ra_list = []\n",
    "    dec_list = []\n",
    "    lst_list = []\n",
    "    while current_time <= next_local_midnight:\n",
    "        mi.update(current_time.utctimetuple()[:6])\n",
    "        lst_list.append(mi.observer.sidereal_time())\n",
    "        az_list.append(mi.azimuth())\n",
    "        alt_list.append(mi.altitude())\n",
    "        ra_list.append(mi.ra())\n",
    "        dec_list.append(mi.dec())\n",
    "        current_time += timedelta(minutes=30)\n",
    "\n",
    "    az = np.array(az_list)\n",
    "    alt = np.array(alt_list)\n",
    "    ra = np.array(ra_list)\n",
    "    dec = np.array(dec_list)\n",
    "    ptime = np.arange(az.size)\n",
    "\n",
    "    ra_r = np.radians(ra)\n",
    "    if ra_r[-1] < ra_r[0]:\n",
    "        diff = ra_r[1:] - ra_r[:-1]\n",
    "        index = np.where(diff < 0)[0][0] + 1\n",
    "        scale_ra_r = ra_r[index:] + (2 * np.pi)\n",
    "        np.put(ra_r, np.arange(index, ra_r.size), scale_ra_r)\n",
    "    dec_r = np.radians(dec)\n",
    "    density = 75\n",
    "\n",
    "    ra_intp = interpolate.interp1d(ptime, ra_r)\n",
    "    dec_intp = interpolate.interp1d(ptime, dec_r)\n",
    "\n",
    "    xpp = np.linspace(ptime[0], ptime[-1], density)\n",
    "\n",
    "    ra_xp = ra_intp(xpp)\n",
    "    dec_xp = dec_intp(xpp)\n",
    "\n",
    "    if lst_list[0] < lst_list[-1]:\n",
    "        lst_start = lst_list[0]\n",
    "    else:\n",
    "        lst_start = lst_list[0] - 2 * np.pi\n",
    "\n",
    "    lst_xp = np.linspace(lst_start, lst_list[-1] + 2 * np.pi, density)\n",
    "    xp = lst_xp - ra_xp\n",
    "\n",
    "    ax.plot(ptime, alt, '.', xpp, location_on_sky(xp, latitude, dec_xp), '-')\n",
    "\n",
    "    ax.axhline(y=0.0, color='k')\n",
    "    ax.set_title(ob_obj.strftime(\"%Y/%m/%d\"))\n",
    "\n",
    "    fig.canvas.draw()\n",
    "    plt.pause(1.0)\n",
    "\n",
    "    ax.clear()\n",
    "    ob_obj += timedelta(days=day_inc)"
   ]
  },
  {
   "cell_type": "code",
   "execution_count": null,
   "metadata": {},
   "outputs": [],
   "source": []
  }
 ],
 "metadata": {
  "interpreter": {
   "hash": "6a15c76cff066730375c7d1e35cc7d9b4c20868ffec2f0658f07e3b3b0683925"
  },
  "kernelspec": {
   "display_name": "Python 3 (ipykernel)",
   "language": "python",
   "name": "python3"
  },
  "language_info": {
   "codemirror_mode": {
    "name": "ipython",
    "version": 3
   },
   "file_extension": ".py",
   "mimetype": "text/x-python",
   "name": "python",
   "nbconvert_exporter": "python",
   "pygments_lexer": "ipython3",
   "version": "3.10.4"
  }
 },
 "nbformat": 4,
 "nbformat_minor": 4
}
