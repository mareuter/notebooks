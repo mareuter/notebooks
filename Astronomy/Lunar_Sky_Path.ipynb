{
 "cells": [
  {
   "cell_type": "code",
   "execution_count": null,
   "id": "26cca56d",
   "metadata": {},
   "outputs": [],
   "source": [
    "import matplotlib.pyplot as plt\n",
    "import numpy as np\n",
    "\n",
    "import pylunar"
   ]
  },
  {
   "cell_type": "code",
   "execution_count": null,
   "id": "44020d09",
   "metadata": {},
   "outputs": [],
   "source": [
    "declination = np.deg2rad(0.0)\n",
    "latitude = np.deg2rad(32.0)"
   ]
  },
  {
   "cell_type": "code",
   "execution_count": null,
   "id": "3f2bbbc7",
   "metadata": {},
   "outputs": [],
   "source": [
    "hour_angle = np.deg2rad(np.arange(0, 180, 0.5) - 90.0)\n",
    "#print(hour_angle)"
   ]
  },
  {
   "cell_type": "code",
   "execution_count": null,
   "id": "3a336e32",
   "metadata": {},
   "outputs": [],
   "source": [
    "mi = pylunar.MoonInfo((32, 0, 0), (-110, 0, 0))\n",
    "obs = mi.observer\n",
    "obs.pressure = 0\n",
    "obs.horizon = \"-0:34\"\n",
    "moon = mi.moon"
   ]
  },
  {
   "cell_type": "code",
   "execution_count": null,
   "id": "7913ae46",
   "metadata": {},
   "outputs": [],
   "source": [
    "rising = obs.next_rising(moon, start=\"2022/4/24\")\n",
    "#setting = obs.next_setting(moon, start=\"2022/4/24\")\n",
    "obs.date = rising\n",
    "moon.compute(obs)"
   ]
  },
  {
   "cell_type": "code",
   "execution_count": null,
   "id": "8d0cc1ff",
   "metadata": {},
   "outputs": [],
   "source": [
    "#print(rising, setting)"
   ]
  },
  {
   "cell_type": "code",
   "execution_count": null,
   "id": "8b614c13",
   "metadata": {},
   "outputs": [],
   "source": [
    "import ephem\n",
    "declination = moon.dec\n",
    "alt = []\n",
    "az = []\n",
    "for i in range(0, 12):\n",
    "    alt.append(moon.alt)\n",
    "    az.append(moon.az)\n",
    "    obs.date += ephem.hour\n",
    "    moon.compute(obs)\n",
    "altitude1 = np.rad2deg(np.array(alt))\n",
    "azimuth1 = np.rad2deg(np.array(az))\n",
    "print(altitude1)"
   ]
  },
  {
   "cell_type": "code",
   "execution_count": null,
   "id": "fe13b3d0",
   "metadata": {},
   "outputs": [],
   "source": [
    "azimuth = np.rad2deg(np.arctan2(np.sin(hour_angle), np.cos(hour_angle)*np.sin(latitude) - np.tan(declination)*np.cos(latitude)))\n",
    "altitude = np.rad2deg(np.arcsin(np.sin(latitude)*np.sin(declination) + np.cos(latitude)*np.cos(declination)*np.cos(hour_angle)))"
   ]
  },
  {
   "cell_type": "code",
   "execution_count": null,
   "id": "01023183",
   "metadata": {},
   "outputs": [],
   "source": [
    "plt.plot(azimuth + 180, altitude)\n",
    "plt.plot(azimuth1, altitude1, 'o')"
   ]
  },
  {
   "cell_type": "code",
   "execution_count": null,
   "id": "4679ec13",
   "metadata": {},
   "outputs": [],
   "source": []
  }
 ],
 "metadata": {
  "kernelspec": {
   "display_name": "Python 3 (ipykernel)",
   "language": "python",
   "name": "python3"
  },
  "language_info": {
   "codemirror_mode": {
    "name": "ipython",
    "version": 3
   },
   "file_extension": ".py",
   "mimetype": "text/x-python",
   "name": "python",
   "nbconvert_exporter": "python",
   "pygments_lexer": "ipython3",
   "version": "3.10.4"
  }
 },
 "nbformat": 4,
 "nbformat_minor": 5
}
