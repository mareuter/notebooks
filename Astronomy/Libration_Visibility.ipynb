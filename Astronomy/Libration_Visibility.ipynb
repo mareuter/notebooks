{
 "cells": [
  {
   "cell_type": "code",
   "execution_count": null,
   "metadata": {},
   "outputs": [],
   "source": [
    "import collections\n",
    "import ephem\n",
    "import math\n",
    "import matplotlib.pyplot as plt\n",
    "import numpy as np\n",
    "#%matplotlib inline"
   ]
  },
  {
   "cell_type": "code",
   "execution_count": null,
   "metadata": {},
   "outputs": [],
   "source": [
    "Feature = collections.namedtuple(\"Feature\", \"latitude longitude\")"
   ]
  },
  {
   "cell_type": "code",
   "execution_count": null,
   "metadata": {},
   "outputs": [],
   "source": [
    "def find_vis_long(long):\n",
    "    return ((math.pi / 2) - min(long)) / (max(long) - min(long))"
   ]
  },
  {
   "cell_type": "code",
   "execution_count": null,
   "metadata": {},
   "outputs": [],
   "source": [
    "def find_feature_angle(f):\n",
    "    x = math.degrees(math.atan2(f.longitude[1], f.latitude[1]))\n",
    "    x += 360.0 if x < 0 else 0.0\n",
    "    return x"
   ]
  },
  {
   "cell_type": "code",
   "execution_count": null,
   "metadata": {},
   "outputs": [],
   "source": [
    "def find_delta_phase_angle(pa, fa):\n",
    "    dpa = pa - fa\n",
    "    x = dpa > 180.0\n",
    "    x = x.astype(int) * 360.0\n",
    "    dpa -= x\n",
    "    return dpa"
   ]
  },
  {
   "cell_type": "code",
   "execution_count": null,
   "metadata": {},
   "outputs": [],
   "source": [
    "# Mare Smythii\n",
    "f1 = Feature(latitude=np.radians(np.array([-7.684334732779745, -1.71, 4.266823790779825])), \n",
    "             longitude=np.radians(np.array([81.16044008945715, 87.05, 92.93850100254303])))\n",
    "# Mare Australe\n",
    "f2 = Feature(latitude=np.radians(np.array([-63.94923734167575, -47.77, -31.591821188721646])),\n",
    "             longitude=np.radians(np.array([70.5202567544471, 91.99, 113.4504706826697])))\n",
    "# Mare Marginis\n",
    "f3 = Feature(latitude=np.radians(np.array([8.3117369442041, 12.70, 17.0920218257959])),\n",
    "             longitude=np.radians(np.array([80.41428488610364, 86.52, 92.61630362389656])))\n",
    "# Mare Humboltanium\n",
    "f4 = Feature(latitude=np.radians(np.array([53.7400238662091, 56.92, 60.1041672377911])),\n",
    "             longitude=np.radians(np.array([74.6707049736925, 81.54, 88.4149638543077])))\n",
    "\n",
    "f_list = [f1, f2, f3, f4]\n",
    "f_name = [\"Mare Smythii\", \"Mare Australe\", \"Mare Marginis\", \"Mare Humboltanium\"]"
   ]
  },
  {
   "cell_type": "code",
   "execution_count": null,
   "metadata": {},
   "outputs": [],
   "source": [
    "def make_plots(i, f, name, obs_date=None):\n",
    "    observer = ephem.Observer()\n",
    "    observer.lat = \"35:58:10\"\n",
    "    observer.lon = \"-84:19:0\"\n",
    "    if obs_date is None:\n",
    "        #observer.date = (2018, 5, 26, 22, 0, 0)\n",
    "        observer.date = (2017, 4, 4, 23, 30, 0)\n",
    "        #observer.date = (2017, 11, 24, 22, 0, 0)\n",
    "        #observer.date = (2017, 12, 3, 22, 0, 0)\n",
    "    else:\n",
    "        observer.date = obs_date\n",
    "    moon = ephem.Moon()\n",
    "    \n",
    "    feature_angle = find_feature_angle(f)\n",
    "    \n",
    "    lib_lat = []\n",
    "    lib_lon = []\n",
    "    lib_tot = []\n",
    "    phase_angle = []\n",
    "    vis_arr = []\n",
    "    time_steps = 1000\n",
    "    time_constant = 1.0\n",
    "    for i in range(time_steps):\n",
    "        moon.compute(observer)\n",
    "        lib_lat.append(moon.libration_lat)\n",
    "        lib_lon.append(moon.libration_long)\n",
    "        tot = math.sqrt(lib_lat[-1]**2 + lib_lon[-1]**2)\n",
    "        pa = math.atan2(lib_lon[-1], lib_lat[-1])\n",
    "        pa += 2.0 * math.pi if pa < 0 else 0.0\n",
    "        phase_angle.append(pa)\n",
    "        lib_tot.append(tot)\n",
    "        longitude = f.longitude - moon.libration_long\n",
    "        vis_arr.append(find_vis_long(longitude))\n",
    "        observer.date += time_constant * ephem.hour\n",
    "\n",
    "    alib_lat = np.degrees(np.array(lib_lat))\n",
    "    alib_lon = np.degrees(np.array(lib_lon))\n",
    "    alib_tot = np.degrees(np.array(lib_tot))\n",
    "    aphase_angle = np.degrees(np.array(phase_angle))\n",
    "    time = np.arange(time_steps)\n",
    "    avis_arr = np.array(vis_arr)\n",
    "    #delta_pa = aphase_angle - feature_angle\n",
    "    delta_pa = find_delta_phase_angle(aphase_angle, feature_angle)\n",
    "    \n",
    "    print(name)\n",
    "    print(avis_arr[0], alib_lon[0], alib_lat[0], alib_tot[0], aphase_angle[0], feature_angle, delta_pa[0])\n",
    "\n",
    "    fig = plt.figure(i)\n",
    "    fig.suptitle(name)\n",
    "    axes = fig.subplots(2, 2)\n",
    "    axes[0][0].plot(alib_tot, avis_arr)\n",
    "    axes[0][1].plot(alib_lat, avis_arr)\n",
    "    axes[1][0].plot(alib_lon, avis_arr)\n",
    "    axes[1][1].plot(delta_pa, avis_arr)"
   ]
  },
  {
   "cell_type": "code",
   "execution_count": null,
   "metadata": {},
   "outputs": [],
   "source": [
    "make_plots(0, f1, f_name[0])"
   ]
  },
  {
   "cell_type": "code",
   "execution_count": null,
   "metadata": {},
   "outputs": [],
   "source": [
    "make_plots(1, f2, f_name[1])"
   ]
  },
  {
   "cell_type": "code",
   "execution_count": null,
   "metadata": {},
   "outputs": [],
   "source": [
    "make_plots(2, f3, f_name[2])"
   ]
  },
  {
   "cell_type": "code",
   "execution_count": null,
   "metadata": {},
   "outputs": [],
   "source": [
    "make_plots(3, f4, f_name[3])"
   ]
  },
  {
   "cell_type": "code",
   "execution_count": null,
   "metadata": {},
   "outputs": [],
   "source": [
    "# Unit tests\n",
    "make_plots(4, Feature(latitude=np.radians(np.array([-8., -2., 4.])), \n",
    "                      longitude=np.radians(np.array([81., 87., 93.]))), \n",
    "           \"A\", obs_date=(2017, 5, 27, 12, 21, 0))"
   ]
  },
  {
   "cell_type": "code",
   "execution_count": null,
   "metadata": {},
   "outputs": [],
   "source": [
    "# Unit tests\n",
    "make_plots(4, Feature(latitude=np.radians(np.array([-8., -2., 4.])), \n",
    "                      longitude=np.radians(np.array([81., 87., 93.]))), \n",
    "           \"A\", obs_date=(2017, 11, 24, 22, 0, 0))"
   ]
  },
  {
   "cell_type": "code",
   "execution_count": null,
   "metadata": {},
   "outputs": [],
   "source": [
    "# Unit tests\n",
    "make_plots(4, Feature(latitude=np.radians(np.array([8.5, 13., 17.5])), \n",
    "                      longitude=np.radians(np.array([80.5, 86.5, 92.5]))), \n",
    "           \"B\", obs_date=(2017, 5, 27, 12, 21, 0))"
   ]
  },
  {
   "cell_type": "code",
   "execution_count": null,
   "metadata": {},
   "outputs": [],
   "source": [
    "# Unit tests\n",
    "make_plots(4, Feature(latitude=np.radians(np.array([8.5, 13., 17.5])), \n",
    "                      longitude=np.radians(np.array([80.5, 86.5, 92.5]))), \n",
    "           \"B\", obs_date=(2017, 11, 24, 22, 0, 0))"
   ]
  },
  {
   "cell_type": "code",
   "execution_count": null,
   "metadata": {},
   "outputs": [],
   "source": []
  }
 ],
 "metadata": {
  "kernelspec": {
   "display_name": "Python 3",
   "language": "python",
   "name": "python3"
  },
  "language_info": {
   "codemirror_mode": {
    "name": "ipython",
    "version": 3
   },
   "file_extension": ".py",
   "mimetype": "text/x-python",
   "name": "python",
   "nbconvert_exporter": "python",
   "pygments_lexer": "ipython3",
   "version": "3.8.2"
  }
 },
 "nbformat": 4,
 "nbformat_minor": 2
}
