{
 "cells": [
  {
   "cell_type": "code",
   "execution_count": null,
   "metadata": {},
   "outputs": [],
   "source": [
    "import matplotlib.pyplot as plt\n",
    "\n",
    "import lsst.afw.cameraGeom.utils as cameraGeomUtils\n",
    "import lsst.afw.display as afwDisplay\n",
    "import lsst.daf.butler as dafButler\n",
    "\n",
    "%matplotlib inline \n",
    "%config InlineBackend.figure_format = 'retina'\n",
    "\n",
    "afwDisplay.setDefaultBackend(\"matplotlib\")"
   ]
  },
  {
   "cell_type": "code",
   "execution_count": null,
   "metadata": {},
   "outputs": [],
   "source": [
    "dataPath = \"/repo/main\"\n",
    "collections = [\"LATISS/raw/all\", \"LATISS/calib/u/mreuter/20210611\"]\n",
    "butler = dafButler.Butler(dataPath, collections=collections, instrument=\"LATISS\")"
   ]
  },
  {
   "cell_type": "code",
   "execution_count": null,
   "metadata": {},
   "outputs": [],
   "source": [
    "obs_date = 20200314\n",
    "seq_num = 332\n",
    "dataId = {\"instrument\": \"LATISS\", \"detector\": 0,\n",
    "          \"exposure.day_obs\": obs_date, \"exposure.seq_num\": seq_num}\n",
    "raw = butler.get('raw', dataId)\n",
    "output_filename = \"M87.fits\""
   ]
  },
  {
   "cell_type": "code",
   "execution_count": null,
   "metadata": {},
   "outputs": [],
   "source": [
    "# you only need this in every cell because I'm using %matplotlib notebook. DM Bug??\n",
    "disp = afwDisplay.Display(1)\n",
    "disp.scale('asinh', 'zscale')\n",
    "disp.mtv(raw, title=dataId.items())"
   ]
  },
  {
   "cell_type": "code",
   "execution_count": null,
   "metadata": {},
   "outputs": [],
   "source": [
    "from lsst.ip.isr import AssembleCcdTask\n",
    "\n",
    "config = AssembleCcdTask.ConfigClass()          # Configuration options\n",
    "config.doTrim = True\n",
    "assembleTask = AssembleCcdTask(config=config)   # Build the Task object\n",
    "exposure = assembleTask.assembleCcd(raw)        # Do the work."
   ]
  },
  {
   "cell_type": "code",
   "execution_count": null,
   "metadata": {},
   "outputs": [],
   "source": [
    "disp = afwDisplay.Display(1)\n",
    "disp.scale('asinh', 'zscale')\n",
    "disp.mtv(exposure, title=dataId.items())"
   ]
  },
  {
   "cell_type": "code",
   "execution_count": null,
   "metadata": {},
   "outputs": [],
   "source": [
    "bias = butler.get('bias', dataId)\n",
    "dark = butler.get('dark', dataId)\n",
    "#linearizer = butler.get('linearizer', dataId)\n",
    "defects = butler.get('defects', dataId)\n",
    "#flat = butler.get('flat', dataId)"
   ]
  },
  {
   "cell_type": "code",
   "execution_count": null,
   "metadata": {},
   "outputs": [],
   "source": [
    "from lsst.ip.isr import IsrTask\n",
    "isrConfig = IsrTask.ConfigClass()\n",
    "isrConfig.doWrite = False\n",
    "isrConfig.doDark = True\n",
    "#isrConfig.doSaturation = False\n",
    "#isrConfig.doSaturationInterpolation = False\n",
    "#isrConfig.overscanNumLeadingColumnsToSkip = 20\n",
    "isrConfig.doLinearize = False\n",
    "isrConfig.doFlat = False\n",
    "isrTask = IsrTask(config=isrConfig)\n",
    "#postIsr = isrTask.run(raw, bias=bias, defects=defects).exposure\n",
    "postIsr = isrTask.run(raw, bias=bias, dark=dark, defects=defects).exposure"
   ]
  },
  {
   "cell_type": "code",
   "execution_count": null,
   "metadata": {},
   "outputs": [],
   "source": [
    "disp = afwDisplay.Display(1)\n",
    "disp.scale('asinh', 'zscale')\n",
    "disp.mtv(postIsr, title=dataId.items())"
   ]
  },
  {
   "cell_type": "code",
   "execution_count": null,
   "metadata": {},
   "outputs": [],
   "source": [
    "postIsr.writeFits(output_filename)"
   ]
  },
  {
   "cell_type": "code",
   "execution_count": null,
   "metadata": {},
   "outputs": [],
   "source": [
    "#print(isrConfig)"
   ]
  },
  {
   "cell_type": "code",
   "execution_count": null,
   "metadata": {},
   "outputs": [],
   "source": [
    "from lsst.pipe.tasks.characterizeImage import CharacterizeImageTask\n",
    "imCharConfig = CharacterizeImageTask.ConfigClass()\n",
    "imCharConfig.doMeasurePsf = True\n",
    "imCharConfig.doApCorr = False\n",
    "imCharConfig.doDeblend = False\n",
    "imCharConfig.repair.cosmicray.nCrPixelMax = 200000\n",
    "imCharTask = CharacterizeImageTask(config=imCharConfig)\n",
    "_ = imCharTask.run(postIsr)"
   ]
  },
  {
   "cell_type": "code",
   "execution_count": null,
   "metadata": {},
   "outputs": [],
   "source": [
    "disp = afwDisplay.Display(1)\n",
    "disp.scale('asinh', 'zscale')\n",
    "disp.mtv(postIsr, title=dataId.items())"
   ]
  },
  {
   "cell_type": "code",
   "execution_count": null,
   "metadata": {},
   "outputs": [],
   "source": []
  }
 ],
 "metadata": {
  "kernelspec": {
   "display_name": "LSST",
   "language": "python",
   "name": "lsst"
  },
  "language_info": {
   "codemirror_mode": {
    "name": "ipython",
    "version": 3
   },
   "file_extension": ".py",
   "mimetype": "text/x-python",
   "name": "python",
   "nbconvert_exporter": "python",
   "pygments_lexer": "ipython3",
   "version": "3.8.8"
  }
 },
 "nbformat": 4,
 "nbformat_minor": 4
}
