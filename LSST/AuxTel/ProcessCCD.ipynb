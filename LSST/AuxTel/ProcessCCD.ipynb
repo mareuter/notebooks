{
 "cells": [
  {
   "cell_type": "code",
   "execution_count": null,
   "metadata": {},
   "outputs": [],
   "source": [
    "import matplotlib.pyplot as plt\n",
    "\n",
    "import lsst.afw.cameraGeom.utils as cameraGeomUtils\n",
    "import lsst.afw.display as afwDisplay\n",
    "import lsst.daf.persistence as dafPersist\n",
    "\n",
    "%matplotlib inline \n",
    "%config InlineBackend.figure_format = 'retina'\n",
    "\n",
    "afwDisplay.setDefaultBackend(\"matplotlib\")"
   ]
  },
  {
   "cell_type": "code",
   "execution_count": null,
   "metadata": {},
   "outputs": [],
   "source": [
    "dataPath = \"/project/shared/auxTel\"\n",
    "butler = dafPersist.Butler(dataPath)"
   ]
  },
  {
   "cell_type": "code",
   "execution_count": null,
   "metadata": {},
   "outputs": [],
   "source": [
    "dataId = dict(dayObs='2020-03-14', seqnum=323)\n",
    "raw = butler.get('raw', dataId)\n",
    "output_filename = \"M104.fits\""
   ]
  },
  {
   "cell_type": "code",
   "execution_count": null,
   "metadata": {},
   "outputs": [],
   "source": [
    "disp = afwDisplay.Display(1)    # you only need this in every cell because I'm using %matplotlib notebook. DM Bug??\n",
    "disp.scale('asinh', 'zscale')\n",
    "disp.mtv(raw, title=dataId.items())"
   ]
  },
  {
   "cell_type": "code",
   "execution_count": null,
   "metadata": {},
   "outputs": [],
   "source": [
    "from lsst.ip.isr import AssembleCcdTask\n",
    "\n",
    "config = AssembleCcdTask.ConfigClass()          # Configuration options\n",
    "config.doTrim = True\n",
    "assembleTask = AssembleCcdTask(config=config)   # Build the Task object\n",
    "exposure = assembleTask.assembleCcd(raw)        # Do the work."
   ]
  },
  {
   "cell_type": "code",
   "execution_count": null,
   "metadata": {},
   "outputs": [],
   "source": [
    "disp = afwDisplay.Display(1)\n",
    "disp.scale('asinh', 'zscale')\n",
    "disp.mtv(exposure, title=dataId.items())"
   ]
  },
  {
   "cell_type": "code",
   "execution_count": null,
   "metadata": {},
   "outputs": [],
   "source": [
    "bias = butler.get('bias', dataId)\n",
    "dark = butler.get('dark', dataId)\n",
    "#linearizer = butler.get('linearizer', dataId)\n",
    "#defects = butler.get('defects', dataId)\n",
    "#flat = butler.get('flat', dataId)"
   ]
  },
  {
   "cell_type": "code",
   "execution_count": null,
   "metadata": {},
   "outputs": [],
   "source": [
    "from lsst.ip.isr import IsrTask\n",
    "isrConfig = IsrTask.ConfigClass()\n",
    "isrConfig.doDark = False\n",
    "isrConfig.doWrite = False\n",
    "isrConfig.doSaturation = False\n",
    "isrConfig.doSaturationInterpolation = False\n",
    "isrConfig.overscanNumLeadingColumnsToSkip = 20\n",
    "isrConfig.doLinearize = False\n",
    "isrConfig.doDefect = False\n",
    "isrConfig.doFlat = False\n",
    "isrTask = IsrTask(config=isrConfig)\n",
    "postIsr = isrTask.run(raw, bias=bias, dark=dark).exposure"
   ]
  },
  {
   "cell_type": "code",
   "execution_count": null,
   "metadata": {},
   "outputs": [],
   "source": [
    "disp = afwDisplay.Display(1)\n",
    "disp.scale('asinh', 'zscale')\n",
    "disp.mtv(postIsr, title=dataId.items())"
   ]
  },
  {
   "cell_type": "code",
   "execution_count": null,
   "metadata": {},
   "outputs": [],
   "source": [
    "postIsr.writeFits(output_filename)"
   ]
  }
 ],
 "metadata": {
  "kernelspec": {
   "display_name": "LSST",
   "language": "python",
   "name": "lsst"
  },
  "language_info": {
   "codemirror_mode": {
    "name": "ipython",
    "version": 3
   },
   "file_extension": ".py",
   "mimetype": "text/x-python",
   "name": "python",
   "nbconvert_exporter": "python",
   "pygments_lexer": "ipython3",
   "version": "3.7.6"
  }
 },
 "nbformat": 4,
 "nbformat_minor": 4
}
