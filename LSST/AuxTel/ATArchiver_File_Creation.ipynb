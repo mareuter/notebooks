{
 "cells": [
  {
   "cell_type": "code",
   "execution_count": null,
   "metadata": {},
   "outputs": [],
   "source": [
    "import os\n",
    "\n",
    "from astropy.time import Time\n",
    "import holoviews as hv\n",
    "from holoviews import opts\n",
    "hv.extension('bokeh', logo=False)\n",
    "import numpy as np\n",
    "import pandas as pd\n",
    "\n",
    "from lsst_efd_client import EfdClient"
   ]
  },
  {
   "cell_type": "code",
   "execution_count": null,
   "metadata": {},
   "outputs": [],
   "source": [
    "location = \"summit_efd\"\n",
    "efd = EfdClient(location)"
   ]
  },
  {
   "cell_type": "code",
   "execution_count": null,
   "metadata": {},
   "outputs": [],
   "source": [
    "start = Time('2020-03-16 20:00:00', scale='tai')\n",
    "end = Time('2020-03-17 07:00:00', scale='tai')"
   ]
  },
  {
   "cell_type": "code",
   "execution_count": null,
   "metadata": {},
   "outputs": [],
   "source": [
    "atcamera_df = await efd.select_time_series('lsst.sal.ATCamera.logevent_endReadout',\n",
    "                                           ['private_sndStamp', 'imageName', 'timeStamp'],\n",
    "                                           start, end)\n",
    "#print(atcamera_df)"
   ]
  },
  {
   "cell_type": "code",
   "execution_count": null,
   "metadata": {},
   "outputs": [],
   "source": [
    "atarchiver_df = await efd.select_time_series('lsst.sal.ATArchiver.logevent_imageInOODS',\n",
    "                                             ['private_sndStamp', 'statusCode', 'description'],\n",
    "                                             start, end)\n",
    "#print(atarchiver_df)"
   ]
  },
  {
   "cell_type": "code",
   "execution_count": null,
   "metadata": {},
   "outputs": [],
   "source": [
    "aths_df = await efd.select_time_series('lsst.sal.ATHeaderService.logevent_largeFileObjectAvailable',\n",
    "                                       ['private_sndStamp', 'url', 'generator'],\n",
    "                                       start, end)\n",
    "#print(aths_df)"
   ]
  },
  {
   "cell_type": "code",
   "execution_count": null,
   "metadata": {},
   "outputs": [],
   "source": [
    "atcamera_send_time = []\n",
    "atarchiver_send_time = []\n",
    "atarchiver_arrival_time = []\n",
    "aths_send_time = []\n",
    "for row in atcamera_df.itertuples():\n",
    "    atcamera_time = row.private_sndStamp\n",
    "    atcamera_image = row.imageName\n",
    "    index = atarchiver_df['description'].str.contains(f\"{atcamera_image}\", na=False)\n",
    "    try:\n",
    "        if atarchiver_df['statusCode'][index].values[0] == 0.0:\n",
    "            atarchiver_time = atarchiver_df['private_sndStamp'][index].values[0]\n",
    "            have_archiver_file = True\n",
    "        else:\n",
    "            have_archiver_file = False\n",
    "    except IndexError:\n",
    "        have_archiver_file = False\n",
    "    index = aths_df['url'].str.contains(f\"{atcamera_image}\", na=False)\n",
    "    try:\n",
    "        aths_time = aths_df['private_sndStamp'][index].values[0]\n",
    "        have_header_file = True\n",
    "    except IndexError:\n",
    "        have_header_file = False\n",
    "    \n",
    "    if have_header_file and have_archiver_file:\n",
    "        atcamera_send_time.append(atcamera_time)\n",
    "        atarchiver_send_time.append(atarchiver_time)\n",
    "        aths_send_time.append(aths_time)\n",
    "        atarchiver_arrival_time.append(atarchiver_time - atcamera_time)"
   ]
  },
  {
   "cell_type": "code",
   "execution_count": null,
   "metadata": {},
   "outputs": [],
   "source": [
    "atcamera_send_time_array = np.array(atcamera_send_time)\n",
    "atarchiver_send_time_array = np.array(atarchiver_send_time)\n",
    "atarchiver_arrival_time_array = np.array(atarchiver_arrival_time)\n",
    "aths_send_time_array = np.array(aths_send_time)\n",
    "time_diff_str = 'T^ATA_IO_Send - T^ATC_EOR_Send'"
   ]
  },
  {
   "cell_type": "code",
   "execution_count": null,
   "metadata": {},
   "outputs": [],
   "source": [
    "hist = np.histogram(atarchiver_arrival_time_array, bins=np.arange(start=0, stop=100, step=2))\n",
    "aat = hv.Histogram(hist, kdims=hv.Dimension('time differences', label=time_diff_str, unit='s'),\n",
    "                   label='Distribution of 𝚫T')"
   ]
  },
  {
   "cell_type": "code",
   "execution_count": null,
   "metadata": {},
   "outputs": [],
   "source": [
    "cst_vs_aat = hv.Scatter((atcamera_send_time_array.astype('datetime64[s]'), atarchiver_arrival_time_array),\n",
    "                        kdims='T^ATC_EOR_Send', vdims=hv.Dimension('time difference', label=time_diff_str, unit='s'),\n",
    "                        label='𝚫T During Image Taking')"
   ]
  },
  {
   "cell_type": "code",
   "execution_count": null,
   "metadata": {},
   "outputs": [],
   "source": [
    "delta_t1 = (aths_send_time_array - atcamera_send_time_array)\n",
    "min_x = np.min(delta_t1)\n",
    "max_x = np.max(delta_t1)\n",
    "hist = np.histogram(delta_t1, bins=np.linspace(min_x, max_x, 50))\n",
    "ahst = hv.Histogram(hist, kdims=hv.Dimension('time differences', \n",
    "                                             label='T^ATHS_LFOA_Send - T^ATC_EOR_Send', unit='s'),\n",
    "                    label='Distribution of 𝚫T1')"
   ]
  },
  {
   "cell_type": "code",
   "execution_count": null,
   "metadata": {},
   "outputs": [],
   "source": [
    "#ahst + est + hfst\n",
    "ahst"
   ]
  },
  {
   "cell_type": "code",
   "execution_count": null,
   "metadata": {},
   "outputs": [],
   "source": [
    "%%opts Scatter [padding=(0.05, 0.05)]\n",
    "#hv.renderer('bokeh').theme = None\n",
    "aat + cst_vs_aat"
   ]
  },
  {
   "cell_type": "code",
   "execution_count": null,
   "metadata": {},
   "outputs": [],
   "source": [
    "indexes = np.where(atarchiver_arrival_time_array > 40.0)\n",
    "for c, a in zip(atarchiver_arrival_time_array[indexes], atcamera_send_time_array.astype('datetime64[s]')[indexes]):\n",
    "    print(f\"{c:.2f}\\t{a}\")"
   ]
  }
 ],
 "metadata": {
  "kernelspec": {
   "display_name": "Python 3",
   "language": "python",
   "name": "python3"
  },
  "language_info": {
   "codemirror_mode": {
    "name": "ipython",
    "version": 3
   },
   "file_extension": ".py",
   "mimetype": "text/x-python",
   "name": "python",
   "nbconvert_exporter": "python",
   "pygments_lexer": "ipython3",
   "version": "3.6.8"
  }
 },
 "nbformat": 4,
 "nbformat_minor": 4
}
