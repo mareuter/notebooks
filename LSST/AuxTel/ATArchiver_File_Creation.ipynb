{
 "cells": [
  {
   "cell_type": "code",
   "execution_count": null,
   "metadata": {},
   "outputs": [],
   "source": [
    "from datetime import datetime\n",
    "import os\n",
    "\n",
    "import holoviews as hv\n",
    "from holoviews import opts\n",
    "hv.extension('bokeh')\n",
    "#import matplotlib.pyplot as plt\n",
    "import MySQLdb as mdb\n",
    "import numpy as np\n",
    "import pandas as pd\n",
    "from sqlalchemy import create_engine\n",
    "\n",
    "%matplotlib inline"
   ]
  },
  {
   "cell_type": "code",
   "execution_count": null,
   "metadata": {},
   "outputs": [],
   "source": [
    "def create_connection():\n",
    "    default_file = os.path.join(os.path.expanduser('~/'), '.atefd.cnf')\n",
    "    return mdb.connect(read_default_file=default_file, db='EFD')\n",
    "\n",
    "def get_engine():\n",
    "    return create_engine('mysql+mysqldb://', creator=create_connection)"
   ]
  },
  {
   "cell_type": "code",
   "execution_count": null,
   "metadata": {},
   "outputs": [],
   "source": [
    "engine = get_engine()"
   ]
  },
  {
   "cell_type": "code",
   "execution_count": null,
   "metadata": {},
   "outputs": [],
   "source": [
    "d1 = datetime(2019, 4, 3)\n",
    "d2 = datetime(2019, 4, 5)"
   ]
  },
  {
   "cell_type": "code",
   "execution_count": null,
   "metadata": {},
   "outputs": [],
   "source": [
    "query_base = 'select {0} from {1} where {1}.date_time between \\'{2}\\' and \\'{3}\\';'"
   ]
  },
  {
   "cell_type": "code",
   "execution_count": null,
   "metadata": {},
   "outputs": [],
   "source": [
    "atcamera_info = query_base.format('date_time,private_sndStamp,imageName,timestamp',\n",
    "                                  'ATCamera_logevent_endReadout', d1, d2)"
   ]
  },
  {
   "cell_type": "code",
   "execution_count": null,
   "metadata": {},
   "outputs": [],
   "source": [
    "atcamera_df = pd.read_sql_query(atcamera_info, engine)"
   ]
  },
  {
   "cell_type": "code",
   "execution_count": null,
   "metadata": {},
   "outputs": [],
   "source": [
    "atarchiver_info = query_base.format('date_time,private_sndStamp,statusCode,description',\n",
    "                                    'ATArchiver_logevent_processingStatus', d1, d2)"
   ]
  },
  {
   "cell_type": "code",
   "execution_count": null,
   "metadata": {},
   "outputs": [],
   "source": [
    "atarchiver_df = pd.read_sql_query(atarchiver_info, engine)\n",
    "#print(atarchiver_df)"
   ]
  },
  {
   "cell_type": "code",
   "execution_count": null,
   "metadata": {},
   "outputs": [],
   "source": [
    "aths_info = query_base.format('date_time,private_sndStamp,url',\n",
    "                              'ATHeaderService_logevent_largeFileObjectAvailable', d1, d2)\n",
    "extra = ' and ATHeaderService_logevent_largeFileObjectAvailable.generator=\\'ATHeaderService\\''\n",
    "parts = aths_info.split(';')\n",
    "aths_info = parts[0] + extra + parts[1]\n",
    "#print(aths_info)"
   ]
  },
  {
   "cell_type": "code",
   "execution_count": null,
   "metadata": {},
   "outputs": [],
   "source": [
    "aths_df = pd.read_sql_query(aths_info, engine)"
   ]
  },
  {
   "cell_type": "code",
   "execution_count": null,
   "metadata": {},
   "outputs": [],
   "source": [
    "efd_info = query_base.format('date_time,private_sndStamp,url',\n",
    "                             'EFD_logevent_largeFileObjectAvailable', d1, d2)\n",
    "extra = ' and EFD_logevent_largeFileObjectAvailable.generator=\\'ATHeaderService\\''\n",
    "parts = efd_info.split(';')\n",
    "efd_info = parts[0] + extra + parts[1]"
   ]
  },
  {
   "cell_type": "code",
   "execution_count": null,
   "metadata": {},
   "outputs": [],
   "source": [
    "efd_df = pd.read_sql_query(efd_info, engine)"
   ]
  },
  {
   "cell_type": "code",
   "execution_count": null,
   "metadata": {},
   "outputs": [],
   "source": [
    "atcamera_send_time = []\n",
    "atarchiver_send_time = []\n",
    "atarchiver_arrival_time = []\n",
    "aths_send_time = []\n",
    "efd_send_time = []\n",
    "for row in atcamera_df.itertuples():\n",
    "    atcamera_time = row.private_sndStamp\n",
    "    atcamera_image = row.imageName\n",
    "    index = atarchiver_df['description'].str.contains(f\"{atcamera_image}\", na=False)\n",
    "    try:\n",
    "        if atarchiver_df['statusCode'][index].values[0] == 100.0:\n",
    "            atarchiver_time = atarchiver_df['private_sndStamp'][index].values[0]\n",
    "            have_archiver_file = True\n",
    "        else:\n",
    "            have_archiver_file = False\n",
    "    except IndexError:\n",
    "        have_archiver_file = False\n",
    "    index = aths_df['url'].str.contains(f\"{atcamera_image}\", na=False)\n",
    "    try:\n",
    "        aths_time = aths_df['private_sndStamp'][index].values[0]\n",
    "        have_header_file = True\n",
    "    except IndexError:\n",
    "        have_header_file = False\n",
    "    #print(atarchive_send_time.values)\n",
    "    index = efd_df['url'].str.contains(f\"{atcamera_image}\", na=False)\n",
    "    try:\n",
    "        efd_time = efd_df['private_sndStamp'][index].values[0]\n",
    "        have_efd_header_file = True\n",
    "    except IndexError:\n",
    "        have_efd_header_file = False\n",
    "    \n",
    "    if have_header_file and have_archiver_file and have_efd_header_file:\n",
    "        atcamera_send_time.append(atcamera_time)\n",
    "        atarchiver_send_time.append(atarchiver_time)\n",
    "        aths_send_time.append(aths_time)\n",
    "        efd_send_time.append(efd_time)\n",
    "        atarchiver_arrival_time.append(atarchiver_time - atcamera_time)"
   ]
  },
  {
   "cell_type": "code",
   "execution_count": null,
   "metadata": {},
   "outputs": [],
   "source": [
    "atcamera_send_time_array = np.array(atcamera_send_time)\n",
    "atarchiver_send_time_array = np.array(atarchiver_send_time)\n",
    "atarchiver_arrival_time_array = np.array(atarchiver_arrival_time)\n",
    "aths_send_time_array = np.array(aths_send_time)\n",
    "efd_send_time_array = np.array(efd_send_time)\n",
    "time_diff_str = 'T^ATA_PS_Send - T^ATC_EOR_Send'"
   ]
  },
  {
   "cell_type": "code",
   "execution_count": null,
   "metadata": {},
   "outputs": [],
   "source": [
    "hist = np.histogram(atarchiver_arrival_time_array, bins=np.arange(start=0, stop=100, step=2))\n",
    "aat = hv.Histogram(hist, kdims=hv.Dimension('time differences', label=time_diff_str, unit='s'),\n",
    "                   label='Distribution of 𝚫T')"
   ]
  },
  {
   "cell_type": "code",
   "execution_count": null,
   "metadata": {},
   "outputs": [],
   "source": [
    "aat"
   ]
  },
  {
   "cell_type": "code",
   "execution_count": null,
   "metadata": {},
   "outputs": [],
   "source": [
    "cst_vs_aat = hv.Scatter((atcamera_send_time_array.astype('datetime64[s]'), atarchiver_arrival_time_array),\n",
    "                        kdims='T^ATC_EOR_Send', vdims=hv.Dimension('time difference', label=time_diff_str, unit='s'),\n",
    "                        label='𝚫T During Image Taking')\n",
    "cst_vs_aat.opts(padding=(0.05, 0.05))"
   ]
  },
  {
   "cell_type": "code",
   "execution_count": null,
   "metadata": {},
   "outputs": [],
   "source": [
    "delta_t1 = (aths_send_time_array - atcamera_send_time_array)\n",
    "min_x = np.min(delta_t1)\n",
    "max_x = np.max(delta_t1)\n",
    "hist = np.histogram(delta_t1, bins=np.linspace(min_x, max_x, 50))\n",
    "ahst = hv.Histogram(hist, kdims=hv.Dimension('time differences', \n",
    "                                             label='T^ATHS_LFOA_Send - T^ATC_EOR_Send', unit='s'),\n",
    "                    label='Distribution of 𝚫T1')"
   ]
  },
  {
   "cell_type": "code",
   "execution_count": null,
   "metadata": {},
   "outputs": [],
   "source": [
    "ahst"
   ]
  },
  {
   "cell_type": "code",
   "execution_count": null,
   "metadata": {},
   "outputs": [],
   "source": [
    "delta_t2 = (efd_send_time_array - aths_send_time_array)\n",
    "min_x = np.min(delta_t2)\n",
    "max_x = np.max(delta_t2)\n",
    "hist = np.histogram(delta_t2, bins=np.linspace(min_x, max_x, 50))\n",
    "est = hv.Histogram(hist, kdims=hv.Dimension('time differences', \n",
    "                                             label='T^EFD_LFOA_Send - T^ATHS_LFOA_Send', unit='s'),\n",
    "                    label='Distribution of 𝚫T2')"
   ]
  },
  {
   "cell_type": "code",
   "execution_count": null,
   "metadata": {},
   "outputs": [],
   "source": [
    "est"
   ]
  },
  {
   "cell_type": "code",
   "execution_count": null,
   "metadata": {},
   "outputs": [],
   "source": [
    "delta_t3 = (efd_send_time_array - atcamera_send_time_array)\n",
    "min_x = np.min(delta_t3)\n",
    "max_x = np.max(delta_t3)\n",
    "hist = np.histogram(delta_t3, bins=np.linspace(min_x, max_x, 50))\n",
    "hfst = hv.Histogram(hist, kdims=hv.Dimension('time differences', \n",
    "                                             label='T^EFD_LFOA_Send - T^ATC_EOR_Send', unit='s'),\n",
    "                    label='Distribution of 𝚫T3')"
   ]
  },
  {
   "cell_type": "code",
   "execution_count": null,
   "metadata": {},
   "outputs": [],
   "source": [
    "hfst"
   ]
  },
  {
   "cell_type": "code",
   "execution_count": null,
   "metadata": {},
   "outputs": [],
   "source": [
    "indexes = np.where(atarchiver_arrival_time_array > 40.0)\n",
    "for c, a in zip(atarchiver_arrival_time_array[indexes], atcamera_send_time_array.astype('datetime64[s]')[indexes]):\n",
    "    print(f\"{c:.2f}\\t{a}\")"
   ]
  },
  {
   "cell_type": "code",
   "execution_count": null,
   "metadata": {},
   "outputs": [],
   "source": []
  }
 ],
 "metadata": {
  "kernelspec": {
   "display_name": "Python 3",
   "language": "python",
   "name": "python3"
  },
  "language_info": {
   "codemirror_mode": {
    "name": "ipython",
    "version": 3
   },
   "file_extension": ".py",
   "mimetype": "text/x-python",
   "name": "python",
   "nbconvert_exporter": "python",
   "pygments_lexer": "ipython3",
   "version": "3.6.8"
  }
 },
 "nbformat": 4,
 "nbformat_minor": 2
}
