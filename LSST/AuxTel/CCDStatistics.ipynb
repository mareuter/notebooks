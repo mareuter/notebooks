{
 "cells": [
  {
   "cell_type": "markdown",
   "id": "851b5114-6cfb-4d3d-a2e9-1b246efccd24",
   "metadata": {},
   "source": [
    "This notebook gathers the per amp medians from the CCD for a given set of images. This information can be used to fingerprint a particular simulated image."
   ]
  },
  {
   "cell_type": "code",
   "execution_count": null,
   "id": "0af4c08c-8098-4d6d-89be-a4ebcb27170a",
   "metadata": {},
   "outputs": [],
   "source": [
    "import pathlib\n",
    "\n",
    "import fastparquet\n",
    "\n",
    "import auxtel_utils as atu\n",
    "import lsst.daf.butler as dafButler"
   ]
  },
  {
   "cell_type": "code",
   "execution_count": null,
   "id": "7596c8ed-b202-4fb1-8d09-c2ad913a952c",
   "metadata": {},
   "outputs": [],
   "source": [
    "# RSP\n",
    "dataPath = \"/repo/main\"\n",
    "instrument = \"LATISS\"\n",
    "collections = [\"LATISS/raw/all\", \"LATISS/calib/unbounded\"]\n",
    "butler = dafButler.Butler(dataPath, collections=collections, instrument=instrument)"
   ]
  },
  {
   "cell_type": "code",
   "execution_count": null,
   "id": "ddd3adf4-4cc0-416a-aa24-68a057c85c9b",
   "metadata": {},
   "outputs": [],
   "source": [
    "output_dir = pathlib.Path(\"~/DATA/playlist_images/auxtel\").expanduser()\n",
    "day_obs = 20210218\n",
    "if not output_dir.exists():\n",
    "    output_dir.mkdir(parents=True)\n",
    "image_list = range(249, 264)\n",
    "for seq_num in image_list:\n",
    "    data = await atu.make_image_dataframe(day_obs, seq_num, butler)\n",
    "    fastparquet.write(output_dir / f\"median_{day_obs}{seq_num:05}.parq\", data)"
   ]
  },
  {
   "cell_type": "code",
   "execution_count": null,
   "id": "9c6ec8f8-ce19-4a1e-9899-db0014144640",
   "metadata": {},
   "outputs": [],
   "source": []
  }
 ],
 "metadata": {
  "kernelspec": {
   "display_name": "LSST",
   "language": "python",
   "name": "lsst"
  },
  "language_info": {
   "codemirror_mode": {
    "name": "ipython",
    "version": 3
   },
   "file_extension": ".py",
   "mimetype": "text/x-python",
   "name": "python",
   "nbconvert_exporter": "python",
   "pygments_lexer": "ipython3",
   "version": "3.8.8"
  }
 },
 "nbformat": 4,
 "nbformat_minor": 5
}
