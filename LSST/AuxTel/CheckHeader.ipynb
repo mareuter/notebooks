{
 "cells": [
  {
   "cell_type": "markdown",
   "metadata": {},
   "source": [
    "## AuxTel Image Header Check"
   ]
  },
  {
   "cell_type": "code",
   "execution_count": null,
   "metadata": {},
   "outputs": [],
   "source": [
    "import logging\n",
    "import re\n",
    "import sys\n",
    "\n",
    "from astropy.time import Time, TimeDelta\n",
    "import numpy as np\n",
    "\n",
    "import lsst.daf.butler as dafButler\n",
    "from lsst_efd_client import EfdClient\n",
    "from check_utils import check, check_float, check_near, check_not_empty, get_from_json\n",
    "\n",
    "run_logging = False"
   ]
  },
  {
   "cell_type": "code",
   "execution_count": null,
   "metadata": {},
   "outputs": [],
   "source": [
    "if run_logging:\n",
    "    stream_handler = logging.StreamHandler(sys.stdout)\n",
    "\n",
    "    logger = logging.getLogger()\n",
    "    logger.addHandler(stream_handler)\n",
    "    logger.level = logging.NOTSET\n",
    "    logging.getLogger(\"matplotlib\").setLevel(logging.WARNING)"
   ]
  },
  {
   "cell_type": "code",
   "execution_count": null,
   "metadata": {},
   "outputs": [],
   "source": [
    "# TTS\n",
    "dataPath=\"/repo/LATISS\"\n",
    "efd_name = \"tucson_teststand_efd\"\n",
    "# RSP\n",
    "#dataPath=\"/repo/main\"\n",
    "#efd_name = \"ldf_stable_efd\"\n",
    "\n",
    "collections = [\"LATISS/raw/all\"]\n",
    "instrument = \"LATISS\"\n",
    "butler = dafButler.Butler(dataPath, collections=collections, instrument=instrument)\n",
    "client = EfdClient(efd_name)"
   ]
  },
  {
   "cell_type": "code",
   "execution_count": null,
   "metadata": {},
   "outputs": [],
   "source": [
    "obs_date = 20220418\n",
    "seq_num = 57\n",
    "dataId = {\"instrument\": instrument, \"detector\": 0,\n",
    "          \"exposure.day_obs\": obs_date, \"exposure.seq_num\": seq_num}\n",
    "raw = butler.get('raw.metadata', dataId)"
   ]
  },
  {
   "cell_type": "code",
   "execution_count": null,
   "metadata": {},
   "outputs": [],
   "source": [
    "#header = raw.getInfo().getMetadata().toDict()\n",
    "header = raw.toDict()\n",
    "#print(list(header.keys()))\n",
    "#print(header)"
   ]
  },
  {
   "cell_type": "code",
   "execution_count": null,
   "metadata": {},
   "outputs": [],
   "source": [
    "if obs_date == 20220401 and seq_num == 43:\n",
    "    header[\"DATE-BEG\"] = \"2022-04-01T23:26:47.45\"\n",
    "    header[\"DATE-END\"] = \"2022-04-01T23:26:52.435\"\n",
    "if obs_date == 20220401 and seq_num == 46:\n",
    "    header[\"DATE-BEG\"] = \"2022-04-02T00:15:02.525\"\n",
    "    header[\"DATE-END\"] = \"2022-04-02T00:15:10.509\"\n",
    "if obs_date == 20220412 and seq_num == 2:\n",
    "    header[\"DATE-BEG\"] = \"2022-04-12T18:30:27.202\"\n",
    "    header[\"DATE-END\"] = \"2022-04-12T18:30:28.225\"\n",
    "if obs_date == 20220418 and seq_num == 57:\n",
    "    header[\"DATE-BEG\"] = \"2022-04-18T23:51:55.043\"\n",
    "    header[\"DATE-END\"] = \"2022-04-18T23:52:03.025\""
   ]
  },
  {
   "cell_type": "code",
   "execution_count": null,
   "metadata": {},
   "outputs": [],
   "source": [
    "delta = TimeDelta(20.0, format=\"sec\", scale=\"tai\")\n",
    "obs_beg = Time(header[\"DATE-BEG\"], format=\"fits\", scale=\"tai\").utc\n",
    "obs_end = Time(header[\"DATE-END\"], format=\"fits\", scale=\"tai\").utc\n",
    "exp_time = TimeDelta(float(header[\"EXPTIME\"]), format=\"sec\", scale=\"tai\")\n",
    "#print(obs_beg)\n",
    "#print(header[\"DATE-BEG\"])\n",
    "obs_id = header[\"OBSID\"]\n",
    "#print(f\"IMGTYPE: {header['IMGTYPE']}\")\n",
    "#print(f\"EXPTIME: {header['EXPTIME']}\")\n",
    "#print(f\"DARKTIME: {header['DARKTIME']}\")\n",
    "print(f\"DATE-BEG: {header['DATE-BEG']}\")\n",
    "print(f\"DATE-END: {header['DATE-END']}\")"
   ]
  },
  {
   "cell_type": "code",
   "execution_count": null,
   "metadata": {},
   "outputs": [],
   "source": [
    "start_int_df = await client.select_time_series(\"lsst.sal.ATCamera.logevent_startIntegration\", \"*\",\n",
    "                                               obs_beg, delta, is_window=True)\n",
    "end_image_tel_df = await client.select_time_series(\"lsst.sal.ATCamera.logevent_endOfImageTelemetry\", \"*\",\n",
    "                                                   obs_end, delta, is_window=True)"
   ]
  },
  {
   "cell_type": "code",
   "execution_count": null,
   "metadata": {},
   "outputs": [],
   "source": [
    "print(f\"Start Integration Num Rows: {len(start_int_df)}\")\n",
    "print(f\"End of Image Telemetry Num Rows: {len(end_image_tel_df)}\")"
   ]
  },
  {
   "cell_type": "code",
   "execution_count": null,
   "metadata": {},
   "outputs": [],
   "source": [
    "start_int = start_int_df.loc[start_int_df[\"imageName\"] == obs_id]\n",
    "end_image_tel = end_image_tel_df.loc[end_image_tel_df[\"imageName\"] == obs_id]"
   ]
  },
  {
   "cell_type": "code",
   "execution_count": null,
   "metadata": {},
   "outputs": [],
   "source": [
    "# Scales are UTC because incoming timestamps are already TAI and astropy screws them up if the scale is TAI.\n",
    "# This was fixed in astopy 5.\n",
    "date_obs = Time(end_image_tel[\"timestampDateObs\"][0], format=\"unix_tai\", scale=\"tai\")\n",
    "date_end = Time(end_image_tel[\"timestampDateEnd\"][0], format=\"unix_tai\", scale=\"tai\")\n",
    "date_start_int = Time(start_int[\"private_sndStamp\"][0], format=\"unix_tai\", scale=\"tai\").utc\n",
    "date_eoit = Time(end_image_tel[\"private_sndStamp\"][0], format=\"unix_tai\", scale=\"tai\").utc\n",
    "print(date_start_int.isot)\n",
    "print(date_eoit.isot)"
   ]
  },
  {
   "cell_type": "code",
   "execution_count": null,
   "metadata": {},
   "outputs": [],
   "source": [
    "check(\"DATE-BEG\", header, date_obs.isot)\n",
    "check(\"DATE-END\", header, date_end.isot)"
   ]
  },
  {
   "cell_type": "code",
   "execution_count": null,
   "metadata": {},
   "outputs": [],
   "source": [
    "date_diff = date_end - date_obs\n",
    "if date_diff.sec >= float(header[\"EXPTIME\"]):\n",
    "    print(\"DATE-END - DATE-BEG OK\")\n",
    "else:\n",
    "    print(f\"Problem with DATE-END - DATE-BEG: {date_diff.sec} seconds\")\n",
    "    print(f\"Exposure time: {header['EXPTIME']} seconds\")"
   ]
  },
  {
   "cell_type": "code",
   "execution_count": null,
   "metadata": {},
   "outputs": [],
   "source": [
    "image_readout_params_df = await client.select_top_n(\"lsst.sal.ATCamera.logevent_imageReadoutParameters\",\n",
    "                                                    \"*\", 1,\n",
    "                                                    time_cut=date_start_int.isot)"
   ]
  },
  {
   "cell_type": "code",
   "execution_count": null,
   "metadata": {},
   "outputs": [],
   "source": [
    "check(\"TELCODE\", header, start_int[\"imageSource\"][0])\n",
    "check(\"CONTRLLR\", header, start_int[\"imageController\"][0])\n",
    "check(\"DAYOBS\", header, start_int[\"imageDate\"][0])\n",
    "check(\"SEQNUM\", header, start_int[\"imageNumber\"][0])\n",
    "additional_keys = start_int[\"additionalKeys\"][0].split(\":\")\n",
    "additional_values = re.split(r'(?<!\\\\):', start_int[\"additionalValues\"][0])\n",
    "print(additional_keys, additional_values)\n",
    "check(\"GROUPID\", header, additional_values[additional_keys.index(\"groupId\")].replace(\"\\\\\", \"\"))\n",
    "check(\"IMGTYPE\", header, additional_values[additional_keys.index(\"imageType\")])\n",
    "check(\"TESTTYPE\", header, additional_values[additional_keys.index(\"testType\")])\n",
    "check(\"OBSANNOT\", header, image_readout_params_df[\"daqAnnotation\"][0])\n",
    "check(\"CURINDEX\", header, start_int[\"imageIndex\"][0])\n",
    "check(\"MAXINDEX\", header, start_int[\"imagesInSequence\"][0])\n",
    "check_not_empty(\"PROGRAM\", header)\n",
    "check_not_empty(\"REASON\", header)"
   ]
  },
  {
   "cell_type": "code",
   "execution_count": null,
   "metadata": {},
   "outputs": [],
   "source": [
    "check_not_empty(\"DETSIZE\", header)\n",
    "check(\"OVERH\", header, image_readout_params_df[\"overRows\"][0])\n",
    "check(\"OVERV\", header, image_readout_params_df[\"overCols\"][0])\n",
    "check(\"PREH\", header, image_readout_params_df[\"preCols\"][0])"
   ]
  },
  {
   "cell_type": "code",
   "execution_count": null,
   "metadata": {},
   "outputs": [],
   "source": [
    "shutter_motion_profile_df = await client.select_top_n(\"lsst.sal.ATCamera.logevent_shutterMotionProfile\",\n",
    "                                                      \"*\", 1,\n",
    "                                                      time_cut=date_eoit.isot)"
   ]
  },
  {
   "cell_type": "code",
   "execution_count": null,
   "metadata": {},
   "outputs": [],
   "source": [
    "check_float(\"EXPTIME\", header, start_int[\"exposureTime\"][0])\n",
    "check_float(\"DARKTIME\", header, end_image_tel[\"darkTime\"][0])\n",
    "check_float(\"SHUTTIME\", header, shutter_motion_profile_df[\"measuredExposureTime\"][0])"
   ]
  },
  {
   "cell_type": "code",
   "execution_count": null,
   "metadata": {},
   "outputs": [],
   "source": [
    "current_target_df = await client.select_top_n(\"lsst.sal.ATPtg.logevent_currentTarget\", \"*\", 1,\n",
    "                                              time_cut=date_start_int.isot)\n",
    "current_target_status_start_df = await client.select_top_n(\"lsst.sal.ATPtg.currentTargetStatus\", \"*\", 1,\n",
    "                                                           time_cut=date_start_int.isot)\n",
    "current_target_status_end_df = await client.select_top_n(\"lsst.sal.ATPtg.currentTargetStatus\", \"*\", 1,\n",
    "                                                         time_cut=date_eoit.isot)\n",
    "focus_offset_sum_df = await client.select_top_n(\"lsst.sal.ATAOS.logevent_focusOffsetSummary\", \"*\", 1,\n",
    "                                                time_cut=date_start_int.isot)\n",
    "atmcs_target_df = await client.select_top_n(\"lsst.sal.ATMCS.logevent_target\", \"*\", 1,\n",
    "                                            time_cut=date_start_int.isot)\n",
    "atmcs_m3selected_df = await client.select_top_n(\"lsst.sal.ATMCS.logevent_m3PortSelected\", \"selected\", 1,\n",
    "                                                time_cut=date_start_int.isot)\n",
    "atspec_settings_df = await client.select_top_n(\"lsst.sal.ATSpectrograph.logevent_settingsAppliedValues\", \"*\", 1,\n",
    "                                               time_cut=date_start_int.isot)\n",
    "\n",
    "if obs_date >= 20210318:\n",
    "    params = \"azimuthCalculatedAngle0,declination0,elevationCalculatedAngle0,ra0,skyAngle0\"\n",
    "    mount_positions_start_df = await client.select_top_n(\"lsst.sal.ATPtg.mountPositions\", params, 1,\n",
    "                                                        time_cut=date_start_int.isot)\n",
    "    mount_positions_end_df = await client.select_top_n(\"lsst.sal.ATPtg.mountPositions\", params, 1,\n",
    "                                                       time_cut=date_eoit.isot)\n",
    "else:\n",
    "    mount_positions_start_df = await client.select_top_n(\"lsst.sal.ATPtg.mount_positions\", \"*\", 1,\n",
    "                                                        time_cut=date_start_int.isot)\n",
    "    mount_positions_end_df = await client.select_top_n(\"lsst.sal.ATPtg.mount_positions\", \"*\", 1,\n",
    "                                                       time_cut=date_eoit.isot)"
   ]
  },
  {
   "cell_type": "code",
   "execution_count": null,
   "metadata": {},
   "outputs": [],
   "source": [
    "if header[\"IMGTYPE\"] in [\"OBJECT\", \"ENGTEST\"]:\n",
    "    check(\"OBJECT\", header, current_target_df[\"targetName\"][0])\n",
    "    check_float(\"RA\", header, np.degrees(current_target_df[\"ra\"])[0])\n",
    "    check_float(\"DEC\", header, np.degrees(current_target_df[\"declination\"])[0])\n",
    "    check_float(\"ROTPA\", header, mount_positions_start_df[\"skyAngle0\"][0])\n",
    "    check(\"ROTCOORD\", header, \"sky\")\n",
    "    check_float(\"RASTART\", header, mount_positions_start_df[\"ra0\"][0])\n",
    "    check_float(\"RAEND\", header, mount_positions_end_df[\"ra0\"][0])\n",
    "    check_near(\"RA\", \"RASTART\", header, 0.5)\n",
    "    check_near(\"RA\", \"RAEND\", header, 0.5)\n",
    "    check_float(\"DECSTART\", header, mount_positions_start_df[\"declination0\"][0])\n",
    "    check_float(\"DECEND\", header, mount_positions_end_df[\"declination0\"][0])\n",
    "    check_near(\"DEC\", \"DECSTART\", header, 0.1)\n",
    "    check_near(\"DEC\", \"DECEND\", header, 0.1)\n",
    "    check_float(\"HASTART\", header, current_target_status_start_df[\"ha\"][0])\n",
    "    check_float(\"HAEND\", header, current_target_status_end_df[\"ha\"][0])\n",
    "    check_float(\"AMSTART\", header, current_target_status_start_df[\"airmass\"][0])\n",
    "    check_float(\"AMEND\", header, current_target_status_end_df[\"airmass\"][0])\n",
    "else:\n",
    "    print(f\"No check on RA/DEC for {header['IMGTYPE']}\")\n",
    "check_float(\"AZSTART\", header, mount_positions_start_df[\"azimuthCalculatedAngle0\"][0])\n",
    "check_float(\"AZEND\", header, mount_positions_end_df[\"azimuthCalculatedAngle0\"][0])\n",
    "check_float(\"ELSTART\", header, mount_positions_start_df[\"elevationCalculatedAngle0\"][0])\n",
    "check_float(\"ELEND\", header, mount_positions_end_df[\"elevationCalculatedAngle0\"][0])\n",
    "check_float(\"FOCUSZ\", header, focus_offset_sum_df[\"userApplied\"][0])\n",
    "check(\"TRACKSYS\", header, atmcs_target_df[\"tracksys\"][0])\n",
    "check(\"RADESYS\", header, atmcs_target_df[\"radesys\"][0])\n",
    "check(\"INSTPORT\", header, atspec_settings_df[\"instrumentPort\"][0])\n",
    "check(\"ATM3PORT\", header, atmcs_m3selected_df[\"selected\"][0])\n",
    "#check_not_empty(\"ATM3PORT\", header)"
   ]
  },
  {
   "cell_type": "code",
   "execution_count": null,
   "metadata": {},
   "outputs": [],
   "source": [
    "sim_atmcs_df = await client.select_top_n(\"lsst.sal.ATMCS.logevent_simulationMode\", \"mode\", 1,\n",
    "                                         time_cut=date_start_int.isot)\n",
    "sim_atpneumatics_df = await client.select_top_n(\"lsst.sal.ATPneumatics.logevent_simulationMode\", \"mode\", 1,\n",
    "                                                time_cut=date_start_int.isot)\n",
    "sim_athexapod_df = await client.select_top_n(\"lsst.sal.ATHexapod.logevent_simulationMode\", \"mode\", 1,\n",
    "                                             time_cut=date_start_int.isot)\n",
    "sim_atspectrograph_df = await client.select_top_n(\"lsst.sal.ATSpectrograph.logevent_simulationMode\", \"mode\", 1,\n",
    "                                                  time_cut=date_start_int.isot)\n",
    "sim_atdome_df = await client.select_top_n(\"lsst.sal.ATDome.logevent_simulationMode\", \"mode\", 1,\n",
    "                                          time_cut=date_start_int.isot)"
   ]
  },
  {
   "cell_type": "code",
   "execution_count": null,
   "metadata": {},
   "outputs": [],
   "source": [
    "check(\"SIMULATE ATMCS\", header, sim_atmcs_df[\"mode\"][0])\n",
    "check(\"SIMULATE ATPNEUMATICS\", header, sim_atpneumatics_df[\"mode\"][0])\n",
    "check(\"SIMULATE ATHEXAPOD\", header, sim_athexapod_df[\"mode\"][0])\n",
    "check(\"SIMULATE ATSPECTROGRAPH\", header, sim_atspectrograph_df[\"mode\"][0])\n",
    "check(\"SIMULATE ATDOME\", header, sim_atdome_df[\"mode\"][0])"
   ]
  },
  {
   "cell_type": "code",
   "execution_count": null,
   "metadata": {},
   "outputs": [],
   "source": [
    "filter_pos_df = await client.select_top_n(\"lsst.sal.ATSpectrograph.logevent_reportedFilterPosition\", \"*\", 1,\n",
    "                                          time_cut=date_start_int.isot)\n",
    "grating_pos_df = await client.select_top_n(\"lsst.sal.ATSpectrograph.logevent_reportedDisperserPosition\", \"*\", 1,\n",
    "                                           time_cut=date_start_int.isot)\n",
    "linear_stage_pos_df = await client.select_top_n(\"lsst.sal.ATSpectrograph.logevent_reportedLinearStagePosition\",\n",
    "                                                \"*\", 1,\n",
    "                                                time_cut=date_start_int.isot)\n",
    "client.influx_client.output = \"json\"\n",
    "filter_pos_json = await client.select_top_n(\"lsst.sal.ATSpectrograph.logevent_reportedFilterPosition\", \"*\", 1,\n",
    "                                            time_cut=date_start_int.isot)\n",
    "grating_pos_json = await client.select_top_n(\"lsst.sal.ATSpectrograph.logevent_reportedDisperserPosition\", \"*\", 1,\n",
    "                                             time_cut=date_start_int.isot)\n",
    "client.influx_client.output = \"dataframe\""
   ]
  },
  {
   "cell_type": "code",
   "execution_count": null,
   "metadata": {},
   "outputs": [],
   "source": [
    "check(\"FILTER\", header, get_from_json(\"name\", filter_pos_json))\n",
    "check(\"FILTBAND\", header, filter_pos_df[\"band\"][0])\n",
    "check(\"FILTSLOT\", header, filter_pos_df[\"slot\"][0])\n",
    "check(\"GRATING\", header, get_from_json(\"name\", grating_pos_json))\n",
    "check(\"GRATBAND\", header, grating_pos_df[\"band\"][0])\n",
    "check(\"GRATSLOT\", header, grating_pos_df[\"slot\"][0])\n",
    "check_float(\"LINSPOS\", header, linear_stage_pos_df[\"position\"][0])"
   ]
  },
  {
   "cell_type": "code",
   "execution_count": null,
   "metadata": {},
   "outputs": [],
   "source": [
    "focal_plane_info_df = await client.select_top_n(\"lsst.sal.ATCamera.logevent_focalPlaneSummaryInfo\", \"*\", 1,\n",
    "                                                time_cut=date_start_int.isot)\n",
    "fp_ccd_df = await client.select_top_n(\"lsst.sal.ATCamera.focal_plane_Ccd\", \"*\", 1,\n",
    "                                      time_cut=date_start_int.isot)\n",
    "vacuum_df = await client.select_top_n(\"lsst.sal.ATCamera.vacuum\", \"*\", 1,\n",
    "                                      time_cut=date_start_int.isot)"
   ]
  },
  {
   "cell_type": "code",
   "execution_count": null,
   "metadata": {},
   "outputs": [],
   "source": [
    "check(\"CCD_MANU\", header, focal_plane_info_df[\"ccdManufacturer\"][0])\n",
    "check(\"CCD_TYPE\", header, focal_plane_info_df[\"ccdType\"][0])\n",
    "check(\"CCD_SERN\", header, focal_plane_info_df[\"ccdManSerNum\"][0])\n",
    "check(\"LSST_NUM\", header, focal_plane_info_df[\"ccdLSSTName\"][0])\n",
    "check(\"CCDSLOT\", header, focal_plane_info_df[\"ccdSlot\"][0])\n",
    "check(\"RAFTBAY\", header, focal_plane_info_df[\"raftBay\"][0])\n",
    "check(\"SEQCKSUM\", header, focal_plane_info_df[\"sequencerChecksum\"][0])\n",
    "check(\"SEQNAME\", header, focal_plane_info_df[\"sequencerKey\"][0])\n",
    "check(\"REBNAME\", header, focal_plane_info_df[\"rebLSSTName\"][0])\n",
    "check(\"CONTNUM\", header, focal_plane_info_df[\"rebSerialNumber\"][0])\n",
    "check_float(\"CCDTEMP\", header, fp_ccd_df[\"temp0\"][0])\n",
    "check_float(\"TEMP_SET\", header, focal_plane_info_df[\"ccdTempSetPoint\"][0])\n",
    "check(\"IMAGETAG\", header, end_image_tel[\"imageTag\"][0])"
   ]
  },
  {
   "cell_type": "code",
   "execution_count": null,
   "metadata": {},
   "outputs": [],
   "source": [
    "weather_df = await client.select_top_n(\"lsst.sal.WeatherStation.weather\", \"*\", 1,\n",
    "                                       time_cut=date_start_int.isot)\n",
    "wind_speed_df = await client.select_top_n(\"lsst.sal.WeatherStation.windSpeed\", \"*\", 1,\n",
    "                                          time_cut=date_start_int.isot)\n",
    "wind_dir_df = await client.select_top_n(\"lsst.sal.WeatherStation.windDirection\", \"*\", 1,\n",
    "                                        time_cut=date_start_int.isot)\n",
    "seeing_df = await client.select_top_n(\"lsst.sal.DIMM.logevent_dimmMeasurement\", \"*\", 1,\n",
    "                                      time_cut=date_start_int.isot)\n",
    "dome_pos_df = await client.select_top_n(\"lsst.sal.ATDome.position\", \"*\", 1,\n",
    "                                        time_cut=date_start_int.isot)"
   ]
  },
  {
   "cell_type": "code",
   "execution_count": null,
   "metadata": {},
   "outputs": [],
   "source": [
    "check_float(\"AIRTEMP\", header, weather_df[\"ambient_temp\"][0])\n",
    "check_float(\"PRESSURE\", header, weather_df[\"pressure\"][0])\n",
    "check_float(\"HUMIDITY\", header, weather_df[\"humidity\"][0])\n",
    "check_float(\"WINDSPD\", header, wind_speed_df[\"value\"][0])\n",
    "check_float(\"WINDDIR\", header, wind_dir_df[\"value\"][0])\n",
    "check_float(\"SEEING\", header, seeing_df[\"fwhm\"][0])\n",
    "check_float(\"DOMEAZ\", header, dome_pos_df[\"azimuthPosition\"][0])\n",
    "check_float(\"SHUTLOWR\", header, dome_pos_df[\"dropoutDoorOpeningPercentage\"][0])\n",
    "check_float(\"SHUTUPPR\", header, dome_pos_df[\"mainDoorOpeningPercentage\"][0])\n",
    "check(\"FACILITY\", header, \"Vera C. Rubin Observatory\")"
   ]
  },
  {
   "cell_type": "code",
   "execution_count": null,
   "metadata": {},
   "outputs": [],
   "source": [
    "check_not_empty(\"DATE\", header)\n",
    "check_not_empty(\"MJD-OBS\", header)\n",
    "check_not_empty(\"MJD-BEG\", header)\n",
    "check_not_empty(\"MJD-END\", header)\n",
    "check(\"BUNIT\", header, \"adu\")\n",
    "check(\"TELESCOP\", header, \"LSST AuxTelescope\")\n",
    "check(\"INSTRUME\", header, \"LATISS\")\n",
    "check_float(\"OBS-LONG\", header, -70.749417)\n",
    "check_float(\"OBS-LAT\", header, -30.244639)\n",
    "check_float(\"OBS-ELEV\", header, 2663.0)\n",
    "check_float(\"OBSGEO-X\", header, 1818938.94)\n",
    "check_float(\"OBSGEO-Y\", header, -5208470.95)\n",
    "check_float(\"OBSGEO-Z\", header, -3195172.08)\n",
    "check_not_empty(\"FILENAME\", header)\n",
    "check_not_empty(\"HEADVER\", header)\n",
    "check_not_empty(\"TSTAND\", header)\n",
    "check_not_empty(\"CHECKSUM\", header)\n",
    "check_not_empty(\"DATASUM\", header)\n",
    "check(\"TIMESYS\", header, \"TAI\")"
   ]
  },
  {
   "cell_type": "code",
   "execution_count": null,
   "metadata": {},
   "outputs": [],
   "source": [
    "check(\"XTENSION\", header, \"IMAGE\")\n",
    "check(\"BITPIX\", header, 32)\n",
    "check(\"INHERIT\", header, \"T\")\n",
    "check(\"PCOUNT\", header, 0)\n",
    "check(\"GCOUNT\", header, 1)\n",
    "check_not_empty(\"EXTNAME\", header)\n",
    "check_not_empty(\"DATASEC\", header)\n",
    "check_not_empty(\"DETSEC\", header)\n",
    "check_not_empty(\"DTV1\", header)\n",
    "check_not_empty(\"DTV2\", header)\n",
    "check_not_empty(\"DTM1_1\", header)\n",
    "check_not_empty(\"DTM1_2\", header)\n",
    "check_not_empty(\"DTM2_1\", header)\n",
    "check_not_empty(\"DTM2_2\", header)"
   ]
  },
  {
   "cell_type": "code",
   "execution_count": null,
   "metadata": {},
   "outputs": [],
   "source": []
  }
 ],
 "metadata": {
  "kernelspec": {
   "display_name": "LSST",
   "language": "python",
   "name": "lsst"
  },
  "language_info": {
   "codemirror_mode": {
    "name": "ipython",
    "version": 3
   },
   "file_extension": ".py",
   "mimetype": "text/x-python",
   "name": "python",
   "nbconvert_exporter": "python",
   "pygments_lexer": "ipython3",
   "version": "3.8.13"
  }
 },
 "nbformat": 4,
 "nbformat_minor": 4
}
