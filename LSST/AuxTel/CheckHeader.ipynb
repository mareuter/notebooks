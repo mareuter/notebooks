{
 "cells": [
  {
   "cell_type": "code",
   "execution_count": null,
   "metadata": {},
   "outputs": [],
   "source": [
    "import logging\n",
    "import sys\n",
    "\n",
    "from astropy.time import Time, TimeDelta\n",
    "import numpy as np\n",
    "\n",
    "import lsst.daf.butler as dafButler\n",
    "from lsst_efd_client import EfdClient\n",
    "from check_utils import check, check_float, check_near\n",
    "\n",
    "run_logging = False"
   ]
  },
  {
   "cell_type": "code",
   "execution_count": null,
   "metadata": {},
   "outputs": [],
   "source": [
    "if run_logging:\n",
    "    stream_handler = logging.StreamHandler(sys.stdout)\n",
    "\n",
    "    logger = logging.getLogger()\n",
    "    logger.addHandler(stream_handler)\n",
    "    logger.level = logging.NOTSET\n",
    "    logging.getLogger(\"matplotlib\").setLevel(logging.WARNING)"
   ]
  },
  {
   "cell_type": "code",
   "execution_count": null,
   "metadata": {},
   "outputs": [],
   "source": [
    "# Summit\n",
    "dataPath=\"/repo/main\"\n",
    "# NTS\n",
    "# dataPath=\"/repo/LATISS\"\n",
    "butler = dafButler.Butler(dataPath, collections=[\"LATISS/raw/all\"], instrument=\"LATISS\")\n",
    "#client = EfdClient(\"ncsa_teststand_efd\")\n",
    "client = EfdClient(\"ldf_stable_efd\")\n",
    "#client = EfdClient(\"summit_efd\")"
   ]
  },
  {
   "cell_type": "code",
   "execution_count": null,
   "metadata": {},
   "outputs": [],
   "source": [
    "obs_date = 20210311\n",
    "seq_num = 422\n",
    "dataId = {\"instrument\": \"LATISS\", \"detector\": 0,\n",
    "          \"exposure.day_obs\": obs_date, \"exposure.seq_num\": seq_num}\n",
    "raw = butler.get('raw', dataId)"
   ]
  },
  {
   "cell_type": "code",
   "execution_count": null,
   "metadata": {},
   "outputs": [],
   "source": [
    "header = raw.getInfo().getMetadata().toDict()\n",
    "#print(list(header.keys()))\n",
    "#print(header)"
   ]
  },
  {
   "cell_type": "code",
   "execution_count": null,
   "metadata": {},
   "outputs": [],
   "source": [
    "delta = TimeDelta(10.0, format=\"sec\", scale=\"tai\")\n",
    "obs_beg = Time(header[\"DATE-BEG\"], format=\"fits\", scale=\"tai\")\n",
    "obs_end = Time(header[\"DATE-END\"], format=\"fits\", scale=\"tai\")\n",
    "exp_time = TimeDelta(float(header[\"EXPTIME\"]), format=\"sec\", scale=\"tai\")\n",
    "#print(obs_beg)\n",
    "#print(header[\"DATE-BEG\"])\n",
    "obs_id = header[\"OBSID\"]\n",
    "#print(f\"IMGTYPE: {header['IMGTYPE']}\")\n",
    "#print(f\"EXPTIME: {header['EXPTIME']}\")\n",
    "#print(f\"DARKTIME: {header['DARKTIME']}\")\n",
    "print(f\"DATE-BEG: {header['DATE-BEG']}\")\n",
    "print(f\"DATE-END: {header['DATE-END']}\")"
   ]
  },
  {
   "cell_type": "code",
   "execution_count": null,
   "metadata": {},
   "outputs": [],
   "source": [
    "start_int_df = await client.select_time_series(\"lsst.sal.ATCamera.logevent_startIntegration\", \"*\",\n",
    "                                               obs_beg, delta, is_window=True)\n",
    "end_image_tel_df = await client.select_time_series(\"lsst.sal.ATCamera.logevent_endOfImageTelemetry\", \"*\",\n",
    "                                                   obs_end, delta, is_window=True)"
   ]
  },
  {
   "cell_type": "code",
   "execution_count": null,
   "metadata": {},
   "outputs": [],
   "source": [
    "print(f\"Start Integration Num Rows: {len(start_int_df)}\")\n",
    "print(f\"End of Image Telemetry Num Rows: {len(end_image_tel_df)}\")"
   ]
  },
  {
   "cell_type": "code",
   "execution_count": null,
   "metadata": {},
   "outputs": [],
   "source": [
    "start_int = start_int_df.loc[start_int_df[\"imageName\"] == obs_id]\n",
    "end_image_tel = end_image_tel_df.loc[end_image_tel_df[\"imageName\"] == obs_id]"
   ]
  },
  {
   "cell_type": "code",
   "execution_count": null,
   "metadata": {},
   "outputs": [],
   "source": [
    "# Scales are UTC because incoming timestamps are already TAI and astropy screws them up if the scale is TAI.\n",
    "date_obs = Time(end_image_tel[\"timestampDateObs\"][0], format=\"unix\", scale=\"utc\")\n",
    "date_end = Time(end_image_tel[\"timestampDateEnd\"][0], format=\"unix\", scale=\"utc\")\n",
    "date_start_int = Time(start_int[\"private_sndStamp\"][0], format=\"unix\", scale=\"utc\")\n",
    "date_eoit = Time(end_image_tel[\"private_sndStamp\"][0], format=\"unix\", scale=\"utc\")\n",
    "print(date_start_int.isot)\n",
    "print(date_eoit.isot)"
   ]
  },
  {
   "cell_type": "code",
   "execution_count": null,
   "metadata": {},
   "outputs": [],
   "source": [
    "check(header, date_obs.isot, \"DATE-BEG\")\n",
    "check(header, date_end.isot, \"DATE-END\")"
   ]
  },
  {
   "cell_type": "code",
   "execution_count": null,
   "metadata": {},
   "outputs": [],
   "source": [
    "date_diff = date_end - date_obs\n",
    "if date_diff.sec >= float(header[\"EXPTIME\"]):\n",
    "    print(\"DATE-END - DATE-BEG OK\")\n",
    "else:\n",
    "    print(f\"Problem with DATE-END - DATE-BEG: {date_diff.sec} seconds\")\n",
    "    print(f\"Exposure time: {header['EXPTIME']} seconds\")"
   ]
  },
  {
   "cell_type": "code",
   "execution_count": null,
   "metadata": {},
   "outputs": [],
   "source": [
    "shutter_motion_profile_df = await client.influx_client.query(f\"SELECT * from \\\"efd\\\".\\\"autogen\\\".\\\"lsst.sal.ATCamera.logevent_shutterMotionProfile\\\" WHERE time < \\'{date_eoit.isot}Z\\' ORDER BY time DESC LIMIT 1\")"
   ]
  },
  {
   "cell_type": "code",
   "execution_count": null,
   "metadata": {},
   "outputs": [],
   "source": [
    "check_float(header, start_int[\"exposureTime\"][0], \"EXPTIME\")\n",
    "check_float(header, end_image_tel[\"darkTime\"][0], \"DARKTIME\")\n",
    "check_float(header, shutter_motion_profile_df[\"measuredExposureTime\"][0], \"SHUTTIME\")"
   ]
  },
  {
   "cell_type": "code",
   "execution_count": null,
   "metadata": {},
   "outputs": [],
   "source": [
    "current_target_df = await client.influx_client.query(f\"SELECT * from \\\"efd\\\".\\\"autogen\\\".\\\"lsst.sal.ATPtg.logevent_currentTarget\\\" WHERE time < \\'{date_start_int.isot}Z\\' ORDER BY time DESC LIMIT 1\")\n",
    "if obs_date >= 20210318:\n",
    "    mount_positions_start_df = await client.influx_client.query(f\"SELECT * from \\\"efd\\\".\\\"autogen\\\".\\\"lsst.sal.ATPtg.mountPositions\\\" WHERE time < \\'{date_start_int.isot}Z\\' ORDER BY time DESC LIMIT 1\")\n",
    "    mount_positions_end_df = await client.influx_client.query(f\"SELECT * from \\\"efd\\\".\\\"autogen\\\".\\\"lsst.sal.ATPtg.mountPositions\\\" WHERE time < \\'{date_eoit.isot}Z\\' ORDER BY time DESC LIMIT 1\")\n",
    "else:\n",
    "    mount_positions_start_df = await client.influx_client.query(f\"SELECT * from \\\"efd\\\".\\\"autogen\\\".\\\"lsst.sal.ATPtg.mount_positions\\\" WHERE time < \\'{date_start_int.isot}Z\\' ORDER BY time DESC LIMIT 1\")\n",
    "    mount_positions_end_df = await client.influx_client.query(f\"SELECT * from \\\"efd\\\".\\\"autogen\\\".\\\"lsst.sal.ATPtg.mount_positions\\\" WHERE time < \\'{date_eoit.isot}Z\\' ORDER BY time DESC LIMIT 1\")"
   ]
  },
  {
   "cell_type": "code",
   "execution_count": null,
   "metadata": {},
   "outputs": [],
   "source": [
    "if header[\"IMGTYPE\"] in [\"OBJECT\", \"ENGTEST\"]:\n",
    "    check(header, current_target_df[\"targetName\"][0], \"OBJECT\")\n",
    "    check_float(header, np.degrees(current_target_df[\"ra\"])[0], \"RA\")\n",
    "    check_float(header, np.degrees(current_target_df[\"declination\"])[0], \"DEC\")\n",
    "    check_float(header, current_target_df[\"rotPA\"][0], \"ROTPA\")\n",
    "    check_float(header, mount_positions_start_df[\"ra0\"][0], \"RASTART\")\n",
    "    check_float(header, mount_positions_end_df[\"ra0\"][0], \"RAEND\")\n",
    "    check_near(header, \"RA\", \"RASTART\", 0.5)\n",
    "    check_near(header, \"RA\", \"RAEND\", 0.5)\n",
    "    check_float(header, mount_positions_start_df[\"declination0\"][0], \"DECSTART\")\n",
    "    check_float(header, mount_positions_end_df[\"declination0\"][0], \"DECEND\")\n",
    "    check_near(header, \"DEC\", \"DECSTART\", 0.1)\n",
    "    check_near(header, \"DEC\", \"DECEND\", 0.1)\n",
    "else:\n",
    "    print(f\"No check on RA/DEC for {header['IMGTYPE']}\")"
   ]
  },
  {
   "cell_type": "code",
   "execution_count": null,
   "metadata": {},
   "outputs": [],
   "source": [
    "filter_pos_df = await client.influx_client.query(f\"SELECT * from \\\"efd\\\".\\\"autogen\\\".\\\"lsst.sal.ATSpectrograph.logevent_reportedFilterPosition\\\" WHERE time < \\'{date_start_int.isot}Z\\' ORDER BY time DESC LIMIT 1\")\n",
    "grating_pos_df = await client.influx_client.query(f\"SELECT * from \\\"efd\\\".\\\"autogen\\\".\\\"lsst.sal.ATSpectrograph.logevent_reportedDisperserPosition\\\" WHERE time < \\'{date_start_int.isot}Z\\' ORDER BY time DESC LIMIT 1\")\n",
    "linear_stage_pos_df = await client.influx_client.query(f\"SELECT * from \\\"efd\\\".\\\"autogen\\\".\\\"lsst.sal.ATSpectrograph.logevent_reportedLinearStagePosition\\\" WHERE time < \\'{date_start_int.isot}Z\\' ORDER BY time DESC LIMIT 1\")"
   ]
  },
  {
   "cell_type": "code",
   "execution_count": null,
   "metadata": {},
   "outputs": [],
   "source": [
    "check(header, filter_pos_df[\"band\"][0], \"FILTBAND\")\n",
    "check(header, filter_pos_df[\"name\"][0], \"FILTER\")\n",
    "check(header, filter_pos_df[\"slot\"][0], \"FILTSLOT\")\n",
    "check(header, grating_pos_df[\"name\"][0], \"GRATING\")\n",
    "check(header, grating_pos_df[\"band\"][0], \"GRATBAND\")\n",
    "check(header, grating_pos_df[\"slot\"][0], \"GRATSLOT\")\n",
    "check_float(header, linear_stage_pos_df[\"position\"][0], \"LINSPOS\")"
   ]
  },
  {
   "cell_type": "code",
   "execution_count": null,
   "metadata": {},
   "outputs": [],
   "source": [
    "focal_plane_info_df = await client.influx_client.query(f\"SELECT * from \\\"efd\\\".\\\"autogen\\\".\\\"lsst.sal.ATCamera.logevent_focalPlaneSummaryInfo\\\" WHERE time < \\'{date_start_int.isot}Z\\' ORDER BY time DESC LIMIT 1\")\n",
    "fp_ccd_df = await client.influx_client.query(f\"SELECT * from \\\"efd\\\".\\\"autogen\\\".\\\"lsst.sal.ATCamera.fp_Ccd\\\" WHERE time < \\'{date_start_int.isot}Z\\' ORDER BY time DESC LIMIT 1\")\n",
    "vacuum_df = await client.influx_client.query(f\"SELECT * from \\\"efd\\\".\\\"autogen\\\".\\\"lsst.sal.ATCamera.vacuum\\\" WHERE time < \\'{date_start_int.isot}Z\\' ORDER BY time DESC LIMIT 1\")"
   ]
  },
  {
   "cell_type": "code",
   "execution_count": null,
   "metadata": {},
   "outputs": [],
   "source": [
    "check(header, focal_plane_info_df[\"ccdManufacturer\"][0], \"CCD_MANU\")\n",
    "check(header, focal_plane_info_df[\"ccdType\"][0], \"CCD_TYPE\")\n",
    "check(header, focal_plane_info_df[\"ccdManSerNum\"][0], \"CCD_SERN\")\n",
    "check(header, focal_plane_info_df[\"ccdLSSTName\"][0], \"LSST_NUM\")\n",
    "check(header, focal_plane_info_df[\"ccdSlot\"][0], \"CCDSLOT\")\n",
    "check(header, focal_plane_info_df[\"raftBay\"][0], \"RAFTBAY\")\n",
    "check(header, focal_plane_info_df[\"sequencerChecksum\"][0], \"SEQCKSUM\")\n",
    "check(header, focal_plane_info_df[\"sequencerKey\"][0], \"SEQNAME\")\n",
    "check(header, focal_plane_info_df[\"rebLSSTName\"][0], \"REBNAME\")\n",
    "check(header, focal_plane_info_df[\"rebSerialNumber\"][0], \"CONTNUM\")\n",
    "check_float(header, fp_ccd_df[\"temp\"][0], \"CCDTEMP\")\n",
    "check_float(header, vacuum_df[\"tempCCDSetPoint\"][0], \"TEMP_SET\")"
   ]
  },
  {
   "cell_type": "code",
   "execution_count": null,
   "metadata": {},
   "outputs": [],
   "source": [
    "weather_df = await client.influx_client.query(f\"SELECT * from \\\"efd\\\".\\\"autogen\\\".\\\"lsst.sal.WeatherStation.weather\\\" WHERE WeatherStationID = 1 AND time < \\'{date_start_int.isot}Z\\' ORDER BY time DESC LIMIT 1\")\n",
    "wind_speed_df = await client.influx_client.query(f\"SELECT * from \\\"efd\\\".\\\"autogen\\\".\\\"lsst.sal.WeatherStation.windSpeed\\\" WHERE WeatherStationID = 1 AND time < \\'{date_start_int.isot}Z\\' ORDER BY time DESC LIMIT 1\")\n",
    "wind_dir_df = await client.influx_client.query(f\"SELECT * from \\\"efd\\\".\\\"autogen\\\".\\\"lsst.sal.WeatherStation.windDirection\\\" WHERE WeatherStationID = 1 AND time < \\'{date_start_int.isot}Z\\' ORDER BY time DESC LIMIT 1\")\n",
    "seeing_df = await client.influx_client.query(f\"SELECT * from \\\"efd\\\".\\\"autogen\\\".\\\"lsst.sal.DIMM.logevent_dimmMeasurement\\\" WHERE DIMMID = 1 AND time < \\'{date_start_int.isot}Z\\' ORDER BY time DESC LIMIT 1\")"
   ]
  },
  {
   "cell_type": "code",
   "execution_count": null,
   "metadata": {},
   "outputs": [],
   "source": [
    "check_float(header, weather_df[\"ambient_temp\"][0], \"AIRTEMP\")\n",
    "check_float(header, weather_df[\"pressure\"][0], \"PRESSURE\")\n",
    "check_float(header, weather_df[\"humidity\"][0], \"HUMIDITY\")\n",
    "check_float(header, wind_speed_df[\"value\"][0], \"WINDSPD\")\n",
    "check_float(header, wind_dir_df[\"value\"][0], \"WINDDIR\")\n",
    "check_float(header, seeing_df[\"fwhm\"][0], \"SEEING\")"
   ]
  },
  {
   "cell_type": "code",
   "execution_count": null,
   "metadata": {},
   "outputs": [],
   "source": []
  }
 ],
 "metadata": {
  "kernelspec": {
   "display_name": "LSST",
   "language": "python",
   "name": "lsst"
  },
  "language_info": {
   "codemirror_mode": {
    "name": "ipython",
    "version": 3
   },
   "file_extension": ".py",
   "mimetype": "text/x-python",
   "name": "python",
   "nbconvert_exporter": "python",
   "pygments_lexer": "ipython3",
   "version": "3.8.8"
  }
 },
 "nbformat": 4,
 "nbformat_minor": 4
}
