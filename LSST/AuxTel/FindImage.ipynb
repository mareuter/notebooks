{
 "cells": [
  {
   "cell_type": "code",
   "execution_count": null,
   "id": "9dd210e1",
   "metadata": {},
   "outputs": [],
   "source": [
    "import pathlib\n",
    "\n",
    "import fastparquet\n",
    "\n",
    "import auxtel_utils as atu\n",
    "import lsst.daf.butler as dafButler"
   ]
  },
  {
   "cell_type": "code",
   "execution_count": null,
   "id": "bf02a1f5",
   "metadata": {},
   "outputs": [],
   "source": [
    "# TTS\n",
    "dataPath = \"/repo/LATISS\"\n",
    "# RSP\n",
    "#dataPath = \"/repo/main\"\n",
    "instrument = \"LATISS\"\n",
    "butler = dafButler.Butler(dataPath, collections=[f\"{instrument}/raw/all\", f\"{instrument}/calib/unbounded\"],\n",
    "                          instrument=instrument)"
   ]
  },
  {
   "cell_type": "code",
   "execution_count": null,
   "id": "bb66c2c4",
   "metadata": {},
   "outputs": [],
   "source": [
    "day_obs = 20220112\n",
    "seq_num = 52\n",
    "medians = await atu.make_image_dataframe(day_obs, seq_num, butler)"
   ]
  },
  {
   "cell_type": "code",
   "execution_count": null,
   "id": "29c2e192",
   "metadata": {},
   "outputs": [],
   "source": [
    "input_dir = pathlib.Path(\"~/DATA/fingerprint/auxtel\").expanduser()\n",
    "for input_file in input_dir.glob(\"*.parq\"):\n",
    "    pf = fastparquet.ParquetFile(str(input_file))\n",
    "    image_medians = pf.to_pandas()\n",
    "    if medians.equals(image_medians):\n",
    "        print(input_file)\n",
    "        break"
   ]
  },
  {
   "cell_type": "code",
   "execution_count": null,
   "id": "c0511bd1",
   "metadata": {},
   "outputs": [],
   "source": []
  }
 ],
 "metadata": {
  "kernelspec": {
   "display_name": "LSST",
   "language": "python",
   "name": "lsst"
  },
  "language_info": {
   "codemirror_mode": {
    "name": "ipython",
    "version": 3
   },
   "file_extension": ".py",
   "mimetype": "text/x-python",
   "name": "python",
   "nbconvert_exporter": "python",
   "pygments_lexer": "ipython3",
   "version": "3.8.8"
  }
 },
 "nbformat": 4,
 "nbformat_minor": 5
}
