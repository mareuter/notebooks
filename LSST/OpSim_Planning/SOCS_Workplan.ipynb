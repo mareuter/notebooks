{
 "cells": [
  {
   "cell_type": "code",
   "execution_count": 1,
   "metadata": {
    "collapsed": true
   },
   "outputs": [],
   "source": [
    "from __future__ import print_function\n",
    "# Doing by file until I can figure out OAuth\n",
    "import os\n",
    "token_file = os.path.join(os.path.expanduser(\"~/\"), \".jira_auth\")\n",
    "with open(token_file, 'r') as fd:\n",
    "    uname = fd.readline().strip()  # Can't hurt to be paranoid\n",
    "    pwd = fd.readline().strip()\n",
    "\n",
    "SERVER = \"https://jira.lsstcorp.org/\"\n",
    "from jira import JIRA\n",
    "js = JIRA(server=SERVER, basic_auth=(uname, pwd))"
   ]
  },
  {
   "cell_type": "code",
   "execution_count": 3,
   "metadata": {
    "collapsed": false
   },
   "outputs": [
    {
     "name": "stdout",
     "output_type": "stream",
     "text": [
      "12\n"
     ]
    }
   ],
   "source": [
    "query = \"project = Simulations AND issuetype = Epic AND summary ~ \\\"SOCS Release\\\" ORDER BY key\"\n",
    "issues = js.search_issues(query)\n",
    "print(len(issues))"
   ]
  },
  {
   "cell_type": "code",
   "execution_count": 42,
   "metadata": {
    "collapsed": true
   },
   "outputs": [],
   "source": [
    "def get_linked_epics(issue, linkTypeName=\"Containment\"):\n",
    "    linked_epics = []\n",
    "    links = issue.fields.issuelinks\n",
    "    for link in links:\n",
    "        if link.type.name == linkTypeName:\n",
    "            linked_epics.append(js.issue(link.outwardIssue.key))\n",
    "    return linked_epics"
   ]
  },
  {
   "cell_type": "code",
   "execution_count": 43,
   "metadata": {
    "collapsed": true
   },
   "outputs": [],
   "source": [
    "def create_list_from_numbered_description(desrc, bulletType=\"*\"):\n",
    "    import re\n",
    "    olist = []\n",
    "    for line in desrc.strip().split(os.linesep):\n",
    "        values = line.split()\n",
    "        if re.match(\"\\d+\\.\\d+\", values[0]) is None:\n",
    "            numbered = bulletType\n",
    "        else:\n",
    "            numbered = bulletType * 2\n",
    "        olist.append(\"{0} {1}\".format(numbered, \" \".join(values[1:])))\n",
    "    return olist"
   ]
  },
  {
   "cell_type": "code",
   "execution_count": 44,
   "metadata": {
    "collapsed": false
   },
   "outputs": [
    {
     "ename": "JIRAError",
     "evalue": "JiraError HTTP 400\n\ttext: No issues have a parent epic with key or name 'Refactor and integrate environmental model'\n\turl: https://jira.lsstcorp.org/rest/api/2/search?validateQuery=True&startAt=0&maxResults=50&jql=%27Epic+Link%27+%3D+%27Refactor+and+integrate+environmental+model%27\n\tresponse headers = {'x-asessionid': 'g6iu1f', 'date': 'Thu, 24 Sep 2015 19:24:09 GMT', 'x-arequestid': '744x4673031x1', 'transfer-encoding': 'chunked', 'server': 'nginx/1.0.15', 'x-ausername': 'mareuter', 'x-seraph-loginreason': 'OK', 'vary': 'User-Agent', 'cache-control': 'no-cache, no-store, no-transform', 'x-content-type-options': 'nosniff', 'x-asen': 'SEN-2935417', 'content-encoding': 'gzip', 'connection': 'keep-alive', 'content-type': 'application/json;charset=UTF-8'}\n\tresponse text = {\"errorMessages\":[\"No issues have a parent epic with key or name 'Refactor and integrate environmental model'\"],\"errors\":{}}\n",
     "output_type": "error",
     "traceback": [
      "\u001b[0;31m---------------------------------------------------------------------------\u001b[0m",
      "\u001b[0;31mJIRAError\u001b[0m                                 Traceback (most recent call last)",
      "\u001b[0;32m<ipython-input-44-ab75adfa0e13>\u001b[0m in \u001b[0;36m<module>\u001b[0;34m()\u001b[0m\n\u001b[1;32m     32\u001b[0m         \u001b[0;32mif\u001b[0m \u001b[0mSHOW_ISSUES\u001b[0m\u001b[0;34m:\u001b[0m\u001b[0;34m\u001b[0m\u001b[0m\n\u001b[1;32m     33\u001b[0m             \u001b[0mpage_content\u001b[0m\u001b[0;34m.\u001b[0m\u001b[0mappend\u001b[0m\u001b[0;34m(\u001b[0m\u001b[0;34m\"h6. Issues\"\u001b[0m\u001b[0;34m)\u001b[0m\u001b[0;34m\u001b[0m\u001b[0m\n\u001b[0;32m---> 34\u001b[0;31m             \u001b[0mse_issues\u001b[0m \u001b[0;34m=\u001b[0m \u001b[0mjs\u001b[0m\u001b[0;34m.\u001b[0m\u001b[0msearch_issues\u001b[0m\u001b[0;34m(\u001b[0m\u001b[0;34m\"'Epic Link' = '{0}'\"\u001b[0m\u001b[0;34m.\u001b[0m\u001b[0mformat\u001b[0m\u001b[0;34m(\u001b[0m\u001b[0msub_epic\u001b[0m\u001b[0;34m.\u001b[0m\u001b[0mfields\u001b[0m\u001b[0;34m.\u001b[0m\u001b[0msummary\u001b[0m\u001b[0;34m)\u001b[0m\u001b[0;34m)\u001b[0m\u001b[0;34m\u001b[0m\u001b[0m\n\u001b[0m\u001b[1;32m     35\u001b[0m             \u001b[0mpage_content\u001b[0m\u001b[0;34m.\u001b[0m\u001b[0mappend\u001b[0m\u001b[0;34m(\u001b[0m\u001b[0;34m\"Number of Issues = {0}\"\u001b[0m\u001b[0;34m.\u001b[0m\u001b[0mformat\u001b[0m\u001b[0;34m(\u001b[0m\u001b[0mlen\u001b[0m\u001b[0;34m(\u001b[0m\u001b[0mse_issues\u001b[0m\u001b[0;34m)\u001b[0m\u001b[0;34m)\u001b[0m\u001b[0;34m)\u001b[0m\u001b[0;34m\u001b[0m\u001b[0m\n\u001b[1;32m     36\u001b[0m             \u001b[0;32mif\u001b[0m \u001b[0mlen\u001b[0m\u001b[0;34m(\u001b[0m\u001b[0mse_issues\u001b[0m\u001b[0;34m)\u001b[0m \u001b[0;34m>\u001b[0m \u001b[0;36m0\u001b[0m\u001b[0;34m:\u001b[0m\u001b[0;34m\u001b[0m\u001b[0m\n",
      "\u001b[0;32m/Users/mareuter/miniconda/envs/py3_square/lib/python3.5/site-packages/jira/client.py\u001b[0m in \u001b[0;36msearch_issues\u001b[0;34m(self, jql_str, startAt, maxResults, validate_query, fields, expand, json_result)\u001b[0m\n\u001b[1;32m   1585\u001b[0m             \u001b[0;32mreturn\u001b[0m \u001b[0mself\u001b[0m\u001b[0;34m.\u001b[0m\u001b[0m_get_json\u001b[0m\u001b[0;34m(\u001b[0m\u001b[0;34m'search'\u001b[0m\u001b[0;34m,\u001b[0m \u001b[0mparams\u001b[0m\u001b[0;34m=\u001b[0m\u001b[0msearch_params\u001b[0m\u001b[0;34m)\u001b[0m\u001b[0;34m\u001b[0m\u001b[0m\n\u001b[1;32m   1586\u001b[0m \u001b[0;34m\u001b[0m\u001b[0m\n\u001b[0;32m-> 1587\u001b[0;31m         \u001b[0mresource\u001b[0m \u001b[0;34m=\u001b[0m \u001b[0mself\u001b[0m\u001b[0;34m.\u001b[0m\u001b[0m_get_json\u001b[0m\u001b[0;34m(\u001b[0m\u001b[0;34m'search'\u001b[0m\u001b[0;34m,\u001b[0m \u001b[0mparams\u001b[0m\u001b[0;34m=\u001b[0m\u001b[0msearch_params\u001b[0m\u001b[0;34m)\u001b[0m\u001b[0;34m\u001b[0m\u001b[0m\n\u001b[0m\u001b[1;32m   1588\u001b[0m         issues = [Issue(self._options, self._session, raw_issue_json)\n\u001b[1;32m   1589\u001b[0m                   for raw_issue_json in resource['issues']]\n",
      "\u001b[0;32m/Users/mareuter/miniconda/envs/py3_square/lib/python3.5/site-packages/jira/client.py\u001b[0m in \u001b[0;36m_get_json\u001b[0;34m(self, path, params, base)\u001b[0m\n\u001b[1;32m   2031\u001b[0m     \u001b[0;32mdef\u001b[0m \u001b[0m_get_json\u001b[0m\u001b[0;34m(\u001b[0m\u001b[0mself\u001b[0m\u001b[0;34m,\u001b[0m \u001b[0mpath\u001b[0m\u001b[0;34m,\u001b[0m \u001b[0mparams\u001b[0m\u001b[0;34m=\u001b[0m\u001b[0;32mNone\u001b[0m\u001b[0;34m,\u001b[0m \u001b[0mbase\u001b[0m\u001b[0;34m=\u001b[0m\u001b[0mJIRA_BASE_URL\u001b[0m\u001b[0;34m)\u001b[0m\u001b[0;34m:\u001b[0m\u001b[0;34m\u001b[0m\u001b[0m\n\u001b[1;32m   2032\u001b[0m         \u001b[0murl\u001b[0m \u001b[0;34m=\u001b[0m \u001b[0mself\u001b[0m\u001b[0;34m.\u001b[0m\u001b[0m_get_url\u001b[0m\u001b[0;34m(\u001b[0m\u001b[0mpath\u001b[0m\u001b[0;34m,\u001b[0m \u001b[0mbase\u001b[0m\u001b[0;34m)\u001b[0m\u001b[0;34m\u001b[0m\u001b[0m\n\u001b[0;32m-> 2033\u001b[0;31m         \u001b[0mr\u001b[0m \u001b[0;34m=\u001b[0m \u001b[0mself\u001b[0m\u001b[0;34m.\u001b[0m\u001b[0m_session\u001b[0m\u001b[0;34m.\u001b[0m\u001b[0mget\u001b[0m\u001b[0;34m(\u001b[0m\u001b[0murl\u001b[0m\u001b[0;34m,\u001b[0m \u001b[0mparams\u001b[0m\u001b[0;34m=\u001b[0m\u001b[0mparams\u001b[0m\u001b[0;34m)\u001b[0m\u001b[0;34m\u001b[0m\u001b[0m\n\u001b[0m\u001b[1;32m   2034\u001b[0m         \u001b[0;32mtry\u001b[0m\u001b[0;34m:\u001b[0m\u001b[0;34m\u001b[0m\u001b[0m\n\u001b[1;32m   2035\u001b[0m             \u001b[0mr_json\u001b[0m \u001b[0;34m=\u001b[0m \u001b[0mjson_loads\u001b[0m\u001b[0;34m(\u001b[0m\u001b[0mr\u001b[0m\u001b[0;34m)\u001b[0m\u001b[0;34m\u001b[0m\u001b[0m\n",
      "\u001b[0;32m/Users/mareuter/miniconda/envs/py3_square/lib/python3.5/site-packages/jira/resilientsession.py\u001b[0m in \u001b[0;36mget\u001b[0;34m(self, url, **kwargs)\u001b[0m\n\u001b[1;32m     76\u001b[0m \u001b[0;34m\u001b[0m\u001b[0m\n\u001b[1;32m     77\u001b[0m     \u001b[0;32mdef\u001b[0m \u001b[0mget\u001b[0m\u001b[0;34m(\u001b[0m\u001b[0mself\u001b[0m\u001b[0;34m,\u001b[0m \u001b[0murl\u001b[0m\u001b[0;34m,\u001b[0m \u001b[0;34m**\u001b[0m\u001b[0mkwargs\u001b[0m\u001b[0;34m)\u001b[0m\u001b[0;34m:\u001b[0m\u001b[0;34m\u001b[0m\u001b[0m\n\u001b[0;32m---> 78\u001b[0;31m         \u001b[0;32mreturn\u001b[0m \u001b[0mself\u001b[0m\u001b[0;34m.\u001b[0m\u001b[0m__verb\u001b[0m\u001b[0;34m(\u001b[0m\u001b[0;34m'GET'\u001b[0m\u001b[0;34m,\u001b[0m \u001b[0murl\u001b[0m\u001b[0;34m,\u001b[0m \u001b[0;34m**\u001b[0m\u001b[0mkwargs\u001b[0m\u001b[0;34m)\u001b[0m\u001b[0;34m\u001b[0m\u001b[0m\n\u001b[0m\u001b[1;32m     79\u001b[0m \u001b[0;34m\u001b[0m\u001b[0m\n\u001b[1;32m     80\u001b[0m     \u001b[0;32mdef\u001b[0m \u001b[0mpost\u001b[0m\u001b[0;34m(\u001b[0m\u001b[0mself\u001b[0m\u001b[0;34m,\u001b[0m \u001b[0murl\u001b[0m\u001b[0;34m,\u001b[0m \u001b[0;34m**\u001b[0m\u001b[0mkwargs\u001b[0m\u001b[0;34m)\u001b[0m\u001b[0;34m:\u001b[0m\u001b[0;34m\u001b[0m\u001b[0m\n",
      "\u001b[0;32m/Users/mareuter/miniconda/envs/py3_square/lib/python3.5/site-packages/jira/resilientsession.py\u001b[0m in \u001b[0;36m__verb\u001b[0;34m(self, verb, url, retry_data, **kwargs)\u001b[0m\n\u001b[1;32m     72\u001b[0m                     \u001b[0mkwargs\u001b[0m\u001b[0;34m[\u001b[0m\u001b[0;34m'data'\u001b[0m\u001b[0;34m]\u001b[0m \u001b[0;34m=\u001b[0m \u001b[0mretry_data\u001b[0m\u001b[0;34m(\u001b[0m\u001b[0;34m)\u001b[0m\u001b[0;34m\u001b[0m\u001b[0m\n\u001b[1;32m     73\u001b[0m                 \u001b[0;32mcontinue\u001b[0m\u001b[0;34m\u001b[0m\u001b[0m\n\u001b[0;32m---> 74\u001b[0;31m             \u001b[0mraise_on_error\u001b[0m\u001b[0;34m(\u001b[0m\u001b[0mr\u001b[0m\u001b[0;34m,\u001b[0m \u001b[0mverb\u001b[0m\u001b[0;34m=\u001b[0m\u001b[0mverb\u001b[0m\u001b[0;34m,\u001b[0m \u001b[0;34m**\u001b[0m\u001b[0mkwargs\u001b[0m\u001b[0;34m)\u001b[0m\u001b[0;34m\u001b[0m\u001b[0m\n\u001b[0m\u001b[1;32m     75\u001b[0m             \u001b[0;32mreturn\u001b[0m \u001b[0mr\u001b[0m\u001b[0;34m\u001b[0m\u001b[0m\n\u001b[1;32m     76\u001b[0m \u001b[0;34m\u001b[0m\u001b[0m\n",
      "\u001b[0;32m/Users/mareuter/miniconda/envs/py3_square/lib/python3.5/site-packages/jira/utils.py\u001b[0m in \u001b[0;36mraise_on_error\u001b[0;34m(r, verb, **kwargs)\u001b[0m\n\u001b[1;32m    118\u001b[0m                 \u001b[0merror\u001b[0m \u001b[0;34m=\u001b[0m \u001b[0mr\u001b[0m\u001b[0;34m.\u001b[0m\u001b[0mtext\u001b[0m\u001b[0;34m\u001b[0m\u001b[0m\n\u001b[1;32m    119\u001b[0m         raise JIRAError(\n\u001b[0;32m--> 120\u001b[0;31m             r.status_code, error, r.url, request=request, response=r, **kwargs)\n\u001b[0m\u001b[1;32m    121\u001b[0m     \u001b[0;31m# for debugging weird errors on CI\u001b[0m\u001b[0;34m\u001b[0m\u001b[0;34m\u001b[0m\u001b[0m\n\u001b[1;32m    122\u001b[0m     \u001b[0;32mif\u001b[0m \u001b[0mr\u001b[0m\u001b[0;34m.\u001b[0m\u001b[0mstatus_code\u001b[0m \u001b[0;32mnot\u001b[0m \u001b[0;32min\u001b[0m \u001b[0;34m[\u001b[0m\u001b[0;36m200\u001b[0m\u001b[0;34m,\u001b[0m \u001b[0;36m201\u001b[0m\u001b[0;34m,\u001b[0m \u001b[0;36m202\u001b[0m\u001b[0;34m,\u001b[0m \u001b[0;36m204\u001b[0m\u001b[0;34m]\u001b[0m\u001b[0;34m:\u001b[0m\u001b[0;34m\u001b[0m\u001b[0m\n",
      "\u001b[0;31mJIRAError\u001b[0m: JiraError HTTP 400\n\ttext: No issues have a parent epic with key or name 'Refactor and integrate environmental model'\n\turl: https://jira.lsstcorp.org/rest/api/2/search?validateQuery=True&startAt=0&maxResults=50&jql=%27Epic+Link%27+%3D+%27Refactor+and+integrate+environmental+model%27\n\tresponse headers = {'x-asessionid': 'g6iu1f', 'date': 'Thu, 24 Sep 2015 19:24:09 GMT', 'x-arequestid': '744x4673031x1', 'transfer-encoding': 'chunked', 'server': 'nginx/1.0.15', 'x-ausername': 'mareuter', 'x-seraph-loginreason': 'OK', 'vary': 'User-Agent', 'cache-control': 'no-cache, no-store, no-transform', 'x-content-type-options': 'nosniff', 'x-asen': 'SEN-2935417', 'content-encoding': 'gzip', 'connection': 'keep-alive', 'content-type': 'application/json;charset=UTF-8'}\n\tresponse text = {\"errorMessages\":[\"No issues have a parent epic with key or name 'Refactor and integrate environmental model'\"],\"errors\":{}}\n"
     ]
    }
   ],
   "source": [
    "SHOW_ISSUES = True\n",
    "# Write some boiler plate for the page\n",
    "page_content = []\n",
    "page_content.append(\"This page details the SOCS workplan.\")\n",
    "import time\n",
    "page_content.append(\"Updated: {0}\".format(time.strftime(\"%Y-%m-%d %H:%M\", time.localtime())))\n",
    "page_content.append(\"\")\n",
    "\n",
    "for issue in issues:\n",
    "    socs_summary = issue.fields.summary\n",
    "    page_content.append(\"h2. {0}\".format(socs_summary))\n",
    "    socs_duedate = issue.fields.duedate\n",
    "    page_content.append(\"*Release Date:* {0}\".format(socs_duedate))\n",
    "    page_content.append(\"\")\n",
    "    \n",
    "    page_content.append(\"h3. Statement of Work\")\n",
    "    socs_descr = issue.fields.description\n",
    "    socs_work = create_list_from_numbered_description(socs_descr)\n",
    "    page_content.append(os.linesep.join(socs_work))\n",
    "    page_content.append(\"\")\n",
    "    \n",
    "    sub_epics = get_linked_epics(issue)\n",
    "    for sub_epic in sub_epics:\n",
    "        page_content.append(\"h4. {0}\".format(sub_epic.fields.summary))\n",
    "        page_content.append(\"h5. Statement of Work\")\n",
    "        if sub_epic.fields.description is None:\n",
    "            descr = \"No description provided.\"\n",
    "        else:\n",
    "            descr = sub_epic.fields.description\n",
    "        page_content.append(descr)\n",
    "        page_content.append(\"\")\n",
    "        if SHOW_ISSUES:\n",
    "            page_content.append(\"h6. Issues\")\n",
    "            se_issues = js.search_issues(\"'Epic Link' = '{0}'\".format(sub_epic.fields.summary))\n",
    "            page_content.append(\"Number of Issues = {0}\".format(len(se_issues)))\n",
    "            if len(se_issues) > 0:\n",
    "                page_content.append(\"\")\n",
    "                page_content.append(\"|| Key || Description || Status ||\")\n",
    "                for se_issue in se_issues:\n",
    "                    page_content.append(\"| {0} | {1} | {2} |\".format(se_issue.key, se_issue.fields.summary,\n",
    "                                                                    se_issue.fields.status.name))\n",
    "                \n",
    "print(os.linesep.join(page_content))    "
   ]
  },
  {
   "cell_type": "code",
   "execution_count": null,
   "metadata": {
    "collapsed": true
   },
   "outputs": [],
   "source": []
  },
  {
   "cell_type": "code",
   "execution_count": null,
   "metadata": {
    "collapsed": true
   },
   "outputs": [],
   "source": []
  }
 ],
 "metadata": {
  "kernelspec": {
   "display_name": "Python 3",
   "language": "python",
   "name": "python3"
  },
  "language_info": {
   "codemirror_mode": {
    "name": "ipython",
    "version": 3
   },
   "file_extension": ".py",
   "mimetype": "text/x-python",
   "name": "python",
   "nbconvert_exporter": "python",
   "pygments_lexer": "ipython3",
   "version": "3.5.0"
  }
 },
 "nbformat": 4,
 "nbformat_minor": 0
}
