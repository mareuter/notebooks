{
 "cells": [
  {
   "cell_type": "code",
   "execution_count": 1,
   "metadata": {
    "collapsed": true
   },
   "outputs": [],
   "source": [
    "# Doing by file until I can figure out OAuth\n",
    "import os\n",
    "token_file = os.path.join(os.path.expanduser(\"~/\"), \".jira_auth\")\n",
    "with open(token_file, 'r') as fd:\n",
    "    uname = fd.readline().strip()  # Can't hurt to be paranoid\n",
    "    pwd = fd.readline().strip()\n",
    "\n",
    "SERVER = \"https://jira.lsstcorp.org/\"\n",
    "from jira import JIRA\n",
    "js = JIRA(server=SERVER, basic_auth=(uname, pwd))"
   ]
  },
  {
   "cell_type": "code",
   "execution_count": 2,
   "metadata": {
    "collapsed": false
   },
   "outputs": [
    {
     "name": "stdout",
     "output_type": "stream",
     "text": [
      "Blocks\n",
      "Child-Issue\n",
      "Cloners\n",
      "Containment\n",
      "Duplicate\n",
      "Finish-to-Finish Dependency\n",
      "Finish-to-Start Dependency\n",
      "Gantt: finish-finish\n",
      "Gantt: finish-start\n",
      "Gantt: start-finish\n",
      "Gantt: start-start\n",
      "Relates\n",
      "Start-to-Finish Dependency\n",
      "Start-to-Start Dependency\n"
     ]
    }
   ],
   "source": [
    "for lt in js.issue_link_types():\n",
    "    print lt.name"
   ]
  },
  {
   "cell_type": "code",
   "execution_count": 3,
   "metadata": {
    "collapsed": false
   },
   "outputs": [
    {
     "name": "stdout",
     "output_type": "stream",
     "text": [
      "Open\n",
      "In Progress\n",
      "Reopened\n",
      "Resolved\n",
      "Closed\n",
      "Deferred\n",
      "To Do\n",
      "Done\n",
      "In Review\n",
      "Acknowledged\n",
      "Reviewed\n",
      "Code Review\n",
      "Planning\n",
      "Blocked\n",
      "Awaiting Signoff\n",
      "Won't Fix\n",
      "Withdrawn\n",
      "Flagged\n",
      "Retired\n",
      "Proposed\n",
      "Adopted\n",
      "Duplicate\n",
      "Invalid\n"
     ]
    }
   ],
   "source": [
    "for status in js.statuses():\n",
    "    print status"
   ]
  },
  {
   "cell_type": "code",
   "execution_count": null,
   "metadata": {
    "collapsed": true
   },
   "outputs": [],
   "source": []
  }
 ],
 "metadata": {
  "kernelspec": {
   "display_name": "Python 2",
   "language": "python",
   "name": "python2"
  },
  "language_info": {
   "codemirror_mode": {
    "name": "ipython",
    "version": 2
   },
   "file_extension": ".py",
   "mimetype": "text/x-python",
   "name": "python",
   "nbconvert_exporter": "python",
   "pygments_lexer": "ipython2",
   "version": "2.7.10"
  }
 },
 "nbformat": 4,
 "nbformat_minor": 0
}
