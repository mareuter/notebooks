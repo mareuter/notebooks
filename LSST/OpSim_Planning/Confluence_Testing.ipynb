{
 "cells": [
  {
   "cell_type": "code",
   "execution_count": 1,
   "metadata": {
    "collapsed": true
   },
   "outputs": [],
   "source": [
    "import json\n",
    "import os\n",
    "import requests"
   ]
  },
  {
   "cell_type": "code",
   "execution_count": 2,
   "metadata": {
    "collapsed": true
   },
   "outputs": [],
   "source": [
    "def printResponse(r):\n",
    "    print('{} {}\\n'.format(json.dumps(r.json(), sort_keys=True, indent=4, separators=(',', ': ')), r))"
   ]
  },
  {
   "cell_type": "code",
   "execution_count": 3,
   "metadata": {
    "collapsed": true
   },
   "outputs": [],
   "source": [
    "token_file = os.path.join(os.path.expanduser(\"~/\"), \".jira_auth\")\n",
    "with open(token_file, 'r') as fd:\n",
    "    uname = fd.readline().strip()  # Can't hurt to be paranoid\n",
    "    pwd = fd.readline().strip()"
   ]
  },
  {
   "cell_type": "code",
   "execution_count": 4,
   "metadata": {
    "collapsed": true
   },
   "outputs": [],
   "source": [
    "SERVER = \"https://confluence.lsstcorp.org/\"\n",
    "SIM_SPACE=\"SIMS/LSST+Simulations+Framework\"\n",
    "JSON_TYPE={'Content-Type':'application/json'}"
   ]
  },
  {
   "cell_type": "code",
   "execution_count": 5,
   "metadata": {
    "collapsed": false
   },
   "outputs": [],
   "source": [
    "r = requests.get(SERVER + '/rest/api/content',\n",
    "    params={'title' : 'LSST Simulation Framework'},\n",
    "    auth=(uname, pwd))\n",
    "#printResponse(r)\n",
    "parentPage = r.json()['results'][0]"
   ]
  },
  {
   "cell_type": "code",
   "execution_count": 6,
   "metadata": {
    "collapsed": false
   },
   "outputs": [
    {
     "data": {
      "text/plain": [
       "'1507517'"
      ]
     },
     "execution_count": 6,
     "metadata": {},
     "output_type": "execute_result"
    }
   ],
   "source": [
    "parentPage[\"id\"]"
   ]
  },
  {
   "cell_type": "code",
   "execution_count": 7,
   "metadata": {
    "collapsed": true
   },
   "outputs": [],
   "source": [
    "pageData = {\"type\": \"page\", \"title\": \"New page\", \"ancestors\": [{\"id\": parentPage[\"id\"]}], \n",
    "            \"space\": {\"key\": \"SIM\"}, \n",
    "            \"body\": {\"storage\": {\"representation\": \"storage\", \"value\":\"<p>This is a new page</p>\"}}}"
   ]
  },
  {
   "cell_type": "code",
   "execution_count": 8,
   "metadata": {
    "collapsed": false
   },
   "outputs": [],
   "source": [
    "r = requests.post(SERVER + '/rest/api/content',\n",
    "                  data=json.dumps(pageData),\n",
    "                  auth=(uname, pwd),\n",
    "                  headers=(JSON_TYPE))\n",
    "#printResponse(r)"
   ]
  },
  {
   "cell_type": "code",
   "execution_count": 9,
   "metadata": {
    "collapsed": false
   },
   "outputs": [
    {
     "name": "stdout",
     "output_type": "stream",
     "text": [
      "56689995\n",
      "New page\n",
      "1\n"
     ]
    }
   ],
   "source": [
    "pageReturn = r.json()\n",
    "print(pageReturn[\"id\"])\n",
    "print(pageReturn[\"title\"])\n",
    "print(pageReturn[\"version\"][\"number\"])"
   ]
  },
  {
   "cell_type": "code",
   "execution_count": 12,
   "metadata": {
    "collapsed": false
   },
   "outputs": [],
   "source": [
    "updatePage = {\"id\": pageReturn[\"id\"], \"type\": \"page\", \"title\": pageReturn[\"title\"],\n",
    "              \"space\": {\"key\": \"SIM\"},\n",
    "              \"body\": {\"storage\": {\"value\": \"<p>This is the updated text for the new page.</p>\", \n",
    "                                   \"representation\": \"storage\"}},\n",
    "              \"version\": {\"number\": pageReturn[\"version\"][\"number\"] + 1}}"
   ]
  },
  {
   "cell_type": "code",
   "execution_count": 13,
   "metadata": {
    "collapsed": false
   },
   "outputs": [],
   "source": [
    "r = requests.put(SERVER + '/rest/api/content/' + str(pageReturn[\"id\"]),\n",
    "                 data=json.dumps(updatePage),\n",
    "                 auth=(uname, pwd),\n",
    "                 headers=(JSON_TYPE))\n",
    "#printResponse(r)"
   ]
  },
  {
   "cell_type": "code",
   "execution_count": 14,
   "metadata": {
    "collapsed": false
   },
   "outputs": [
    {
     "data": {
      "text/plain": [
       "200"
      ]
     },
     "execution_count": 14,
     "metadata": {},
     "output_type": "execute_result"
    }
   ],
   "source": [
    "r.status_code"
   ]
  },
  {
   "cell_type": "code",
   "execution_count": 15,
   "metadata": {
    "collapsed": false
   },
   "outputs": [],
   "source": [
    "r = requests.get(SERVER + '/rest/api/content/' + str(pageReturn[\"id\"]) + \"/history\",\n",
    "    params={\"title\" : pageReturn[\"title\"]},\n",
    "    auth=(uname, pwd))\n",
    "#printResponse(r)"
   ]
  },
  {
   "cell_type": "code",
   "execution_count": 16,
   "metadata": {
    "collapsed": false
   },
   "outputs": [
    {
     "name": "stdout",
     "output_type": "stream",
     "text": [
      "2\n"
     ]
    }
   ],
   "source": [
    "pageHistory = r.json()\n",
    "print(pageHistory[\"lastUpdated\"][\"number\"])"
   ]
  },
  {
   "cell_type": "code",
   "execution_count": 17,
   "metadata": {
    "collapsed": false
   },
   "outputs": [],
   "source": [
    "updatePage2 = {\"id\": pageReturn[\"id\"], \"type\": \"page\", \"title\": pageReturn[\"title\"],\n",
    "               \"space\": {\"key\": \"SIM\"},\n",
    "               \"body\": {\"storage\": {\"value\": \"<p>Updated the text for the new page again.</p>\", \n",
    "                                    \"representation\": \"storage\"}},\n",
    "               \"version\": {\"number\": pageHistory[\"lastUpdated\"][\"number\"] + 1}}"
   ]
  },
  {
   "cell_type": "code",
   "execution_count": 18,
   "metadata": {
    "collapsed": false
   },
   "outputs": [],
   "source": [
    "r = requests.put(SERVER + '/rest/api/content/' + str(pageReturn[\"id\"]),\n",
    "                 data=json.dumps(updatePage2),\n",
    "                 auth=(uname, pwd),\n",
    "                 headers=(JSON_TYPE))\n",
    "#printResponse(r)"
   ]
  },
  {
   "cell_type": "code",
   "execution_count": 19,
   "metadata": {
    "collapsed": false
   },
   "outputs": [
    {
     "name": "stdout",
     "output_type": "stream",
     "text": [
      "403\n"
     ]
    }
   ],
   "source": [
    "r = requests.delete(SERVER + '/rest/api/content/' + str(pageReturn[\"id\"]),\n",
    "                    auth=(uname, pwd))\n",
    "print(r.status_code)"
   ]
  },
  {
   "cell_type": "code",
   "execution_count": null,
   "metadata": {
    "collapsed": true
   },
   "outputs": [],
   "source": []
  }
 ],
 "metadata": {
  "kernelspec": {
   "display_name": "Python 3",
   "language": "python",
   "name": "python3"
  },
  "language_info": {
   "codemirror_mode": {
    "name": "ipython",
    "version": 3
   },
   "file_extension": ".py",
   "mimetype": "text/x-python",
   "name": "python",
   "nbconvert_exporter": "python",
   "pygments_lexer": "ipython3",
   "version": "3.5.2"
  }
 },
 "nbformat": 4,
 "nbformat_minor": 0
}
