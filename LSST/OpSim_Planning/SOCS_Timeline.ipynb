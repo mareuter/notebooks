{
 "cells": [
  {
   "cell_type": "code",
   "execution_count": 78,
   "metadata": {
    "collapsed": true
   },
   "outputs": [],
   "source": [
    "from lsst.sqre.jirakit import basic_auth_from_file\n",
    "basic_auth = basic_auth_from_file()\n",
    "\n",
    "SERVER = \"https://jira.lsstcorp.org/\"\n",
    "from jira import JIRA\n",
    "js = JIRA(server=SERVER, basic_auth=basic_auth)"
   ]
  },
  {
   "cell_type": "code",
   "execution_count": 82,
   "metadata": {
    "collapsed": false
   },
   "outputs": [
    {
     "name": "stdout",
     "output_type": "stream",
     "text": [
      "50\n"
     ]
    }
   ],
   "source": [
    "query = 'project = SIM AND Team = opsim AND type = Epic AND assignee is EMPTY AND createdDate >= \"2015/07/01\"'\n",
    "issues = js.search_issues(query)\n",
    "print len(issues)"
   ]
  },
  {
   "cell_type": "code",
   "execution_count": 83,
   "metadata": {
    "collapsed": false
   },
   "outputs": [],
   "source": [
    "rows = []\n",
    "from lsst.sqre.jirakit import get_issue_links\n",
    "link_types = [\"Finish-to-Start Dependency\", \"Start-to-Start Dependency\"]\n",
    "for issue in issues:\n",
    "    irow = []\n",
    "    irow.append(issue.key)\n",
    "    irow.append(issue.fields.summary)\n",
    "    \n",
    "    all_links = get_issue_links(issue, link_types)\n",
    "    preds = []\n",
    "    succs = []\n",
    "    for alink in all_links:\n",
    "        try:\n",
    "            preds.append(js.issue(alink.outwardIssue.key).key)\n",
    "        except AttributeError:\n",
    "            try:\n",
    "                succs.append(js.issue(alink.inwardIssue.key).key)\n",
    "            except AttributeError:\n",
    "                pass\n",
    "            \n",
    "    irow.append(\" \".join(preds))\n",
    "    irow.append(\" \".join(succs))\n",
    "    \n",
    "    irow.append(issue.fields.timeoriginalestimate)\n",
    "    irow.append(issue.fields.customfield_10202)\n",
    "    irow.append(issue.fields.duedate)\n",
    "\n",
    "    try:\n",
    "        milestone = issue.fields.customfield_10224[0]\n",
    "    except TypeError:\n",
    "        milestone = \"None\"\n",
    "    irow.append(milestone)\n",
    "    \n",
    "    #print(irow)\n",
    "    rows.append(irow)\n"
   ]
  },
  {
   "cell_type": "code",
   "execution_count": 84,
   "metadata": {
    "collapsed": true
   },
   "outputs": [],
   "source": [
    "import csv\n",
    "with open('socs_timeline.csv', 'w+') as csvfile:\n",
    "    writer = csv.writer(csvfile)\n",
    "    for row in rows:\n",
    "        writer.writerow(row)"
   ]
  },
  {
   "cell_type": "code",
   "execution_count": null,
   "metadata": {
    "collapsed": true
   },
   "outputs": [],
   "source": []
  }
 ],
 "metadata": {
  "kernelspec": {
   "display_name": "Python 2",
   "language": "python",
   "name": "python2"
  },
  "language_info": {
   "codemirror_mode": {
    "name": "ipython",
    "version": 2
   },
   "file_extension": ".py",
   "mimetype": "text/x-python",
   "name": "python",
   "nbconvert_exporter": "python",
   "pygments_lexer": "ipython2",
   "version": "2.7.10"
  }
 },
 "nbformat": 4,
 "nbformat_minor": 0
}
