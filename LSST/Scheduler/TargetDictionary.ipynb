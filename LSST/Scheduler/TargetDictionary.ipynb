{
 "cells": [
  {
   "cell_type": "code",
   "execution_count": 1,
   "metadata": {
    "collapsed": true
   },
   "outputs": [],
   "source": [
    "import itertools\n",
    "import numpy\n",
    "import pandas\n",
    "from sqlalchemy import create_engine"
   ]
  },
  {
   "cell_type": "code",
   "execution_count": 2,
   "metadata": {
    "collapsed": false
   },
   "outputs": [],
   "source": [
    "dbpath = \"Fields.db\"\n",
    "engine = create_engine(\"sqlite:///{}\".format(dbpath))\n",
    "select_sql = \"select * from Field limit 4;\"\n",
    "with engine.connect() as conn, conn.begin():\n",
    "    data = pandas.read_sql_query(select_sql, conn)"
   ]
  },
  {
   "cell_type": "code",
   "execution_count": 28,
   "metadata": {
    "collapsed": false
   },
   "outputs": [
    {
     "data": {
      "text/html": [
       "<div>\n",
       "<table border=\"1\" class=\"dataframe\">\n",
       "  <thead>\n",
       "    <tr style=\"text-align: right;\">\n",
       "      <th></th>\n",
       "      <th>fieldId</th>\n",
       "      <th>fieldFov</th>\n",
       "      <th>fieldRA</th>\n",
       "      <th>fieldDEC</th>\n",
       "      <th>fieldGL</th>\n",
       "      <th>fieldGB</th>\n",
       "      <th>fieldEL</th>\n",
       "      <th>fieldEB</th>\n",
       "    </tr>\n",
       "  </thead>\n",
       "  <tbody>\n",
       "    <tr>\n",
       "      <th>0</th>\n",
       "      <td>1</td>\n",
       "      <td>3.5</td>\n",
       "      <td>0.000000</td>\n",
       "      <td>-90.000000</td>\n",
       "      <td>-57.068082</td>\n",
       "      <td>-27.128251</td>\n",
       "      <td>-89.931210</td>\n",
       "      <td>-66.561358</td>\n",
       "    </tr>\n",
       "    <tr>\n",
       "      <th>1</th>\n",
       "      <td>2</td>\n",
       "      <td>3.5</td>\n",
       "      <td>180.000000</td>\n",
       "      <td>-87.568555</td>\n",
       "      <td>-57.663825</td>\n",
       "      <td>-24.756541</td>\n",
       "      <td>-96.024547</td>\n",
       "      <td>-66.442665</td>\n",
       "    </tr>\n",
       "    <tr>\n",
       "      <th>2</th>\n",
       "      <td>3</td>\n",
       "      <td>3.5</td>\n",
       "      <td>324.000429</td>\n",
       "      <td>-87.568550</td>\n",
       "      <td>-54.980423</td>\n",
       "      <td>-28.712449</td>\n",
       "      <td>-85.262622</td>\n",
       "      <td>-65.058907</td>\n",
       "    </tr>\n",
       "    <tr>\n",
       "      <th>3</th>\n",
       "      <td>4</td>\n",
       "      <td>3.5</td>\n",
       "      <td>35.999571</td>\n",
       "      <td>-87.568550</td>\n",
       "      <td>-58.164147</td>\n",
       "      <td>-29.359810</td>\n",
       "      <td>-84.695237</td>\n",
       "      <td>-67.907706</td>\n",
       "    </tr>\n",
       "  </tbody>\n",
       "</table>\n",
       "</div>"
      ],
      "text/plain": [
       "   fieldId  fieldFov     fieldRA   fieldDEC    fieldGL    fieldGB    fieldEL  \\\n",
       "0        1       3.5    0.000000 -90.000000 -57.068082 -27.128251 -89.931210   \n",
       "1        2       3.5  180.000000 -87.568555 -57.663825 -24.756541 -96.024547   \n",
       "2        3       3.5  324.000429 -87.568550 -54.980423 -28.712449 -85.262622   \n",
       "3        4       3.5   35.999571 -87.568550 -58.164147 -29.359810 -84.695237   \n",
       "\n",
       "     fieldEB  \n",
       "0 -66.561358  \n",
       "1 -66.442665  \n",
       "2 -65.058907  \n",
       "3 -67.907706  "
      ]
     },
     "execution_count": 28,
     "metadata": {},
     "output_type": "execute_result"
    }
   ],
   "source": [
    "airmass = numpy.array([1.1, 1.5, 2.5, 1.3])"
   ]
  },
  {
   "cell_type": "code",
   "execution_count": 3,
   "metadata": {
    "collapsed": false
   },
   "outputs": [],
   "source": [
    "field_id = data.ix[:, 0]\n",
    "filters = 'u,g,r'.split(',')"
   ]
  },
  {
   "cell_type": "code",
   "execution_count": 17,
   "metadata": {
    "collapsed": false
   },
   "outputs": [
    {
     "data": {
      "text/html": [
       "<div>\n",
       "<table border=\"1\" class=\"dataframe\">\n",
       "  <thead>\n",
       "    <tr style=\"text-align: right;\">\n",
       "      <th></th>\n",
       "      <th>fieldId</th>\n",
       "      <th>bandFilter</th>\n",
       "    </tr>\n",
       "  </thead>\n",
       "  <tbody>\n",
       "    <tr>\n",
       "      <th>1</th>\n",
       "      <td>1</td>\n",
       "      <td>g</td>\n",
       "    </tr>\n",
       "    <tr>\n",
       "      <th>4</th>\n",
       "      <td>2</td>\n",
       "      <td>g</td>\n",
       "    </tr>\n",
       "    <tr>\n",
       "      <th>7</th>\n",
       "      <td>3</td>\n",
       "      <td>g</td>\n",
       "    </tr>\n",
       "    <tr>\n",
       "      <th>10</th>\n",
       "      <td>4</td>\n",
       "      <td>g</td>\n",
       "    </tr>\n",
       "    <tr>\n",
       "      <th>2</th>\n",
       "      <td>1</td>\n",
       "      <td>r</td>\n",
       "    </tr>\n",
       "    <tr>\n",
       "      <th>5</th>\n",
       "      <td>2</td>\n",
       "      <td>r</td>\n",
       "    </tr>\n",
       "    <tr>\n",
       "      <th>8</th>\n",
       "      <td>3</td>\n",
       "      <td>r</td>\n",
       "    </tr>\n",
       "    <tr>\n",
       "      <th>11</th>\n",
       "      <td>4</td>\n",
       "      <td>r</td>\n",
       "    </tr>\n",
       "    <tr>\n",
       "      <th>0</th>\n",
       "      <td>1</td>\n",
       "      <td>u</td>\n",
       "    </tr>\n",
       "    <tr>\n",
       "      <th>3</th>\n",
       "      <td>2</td>\n",
       "      <td>u</td>\n",
       "    </tr>\n",
       "    <tr>\n",
       "      <th>6</th>\n",
       "      <td>3</td>\n",
       "      <td>u</td>\n",
       "    </tr>\n",
       "    <tr>\n",
       "      <th>9</th>\n",
       "      <td>4</td>\n",
       "      <td>u</td>\n",
       "    </tr>\n",
       "  </tbody>\n",
       "</table>\n",
       "</div>"
      ],
      "text/plain": [
       "    fieldId bandFilter\n",
       "1         1          g\n",
       "4         2          g\n",
       "7         3          g\n",
       "10        4          g\n",
       "2         1          r\n",
       "5         2          r\n",
       "8         3          r\n",
       "11        4          r\n",
       "0         1          u\n",
       "3         2          u\n",
       "6         3          u\n",
       "9         4          u"
      ]
     },
     "execution_count": 17,
     "metadata": {},
     "output_type": "execute_result"
    }
   ],
   "source": [
    "id_filt = pandas.DataFrame(list(itertools.product(field_id, filters)), columns=['fieldId', 'bandFilter'])\n",
    "id_filt.sort_values(\"bandFilter\", inplace=True)\n",
    "id_filt"
   ]
  },
  {
   "cell_type": "code",
   "execution_count": 19,
   "metadata": {
    "collapsed": false
   },
   "outputs": [
    {
     "data": {
      "text/html": [
       "<div>\n",
       "<table border=\"1\" class=\"dataframe\">\n",
       "  <thead>\n",
       "    <tr style=\"text-align: right;\">\n",
       "      <th></th>\n",
       "      <th>fieldId</th>\n",
       "      <th>fieldFov</th>\n",
       "      <th>fieldRA</th>\n",
       "      <th>fieldDEC</th>\n",
       "      <th>fieldGL</th>\n",
       "      <th>fieldGB</th>\n",
       "      <th>fieldEL</th>\n",
       "      <th>fieldEB</th>\n",
       "      <th>bandFilter</th>\n",
       "    </tr>\n",
       "  </thead>\n",
       "  <tbody>\n",
       "    <tr>\n",
       "      <th>0</th>\n",
       "      <td>1</td>\n",
       "      <td>3.5</td>\n",
       "      <td>0.000000</td>\n",
       "      <td>-90.000000</td>\n",
       "      <td>-57.068082</td>\n",
       "      <td>-27.128251</td>\n",
       "      <td>-89.931210</td>\n",
       "      <td>-66.561358</td>\n",
       "      <td>g</td>\n",
       "    </tr>\n",
       "    <tr>\n",
       "      <th>1</th>\n",
       "      <td>1</td>\n",
       "      <td>3.5</td>\n",
       "      <td>0.000000</td>\n",
       "      <td>-90.000000</td>\n",
       "      <td>-57.068082</td>\n",
       "      <td>-27.128251</td>\n",
       "      <td>-89.931210</td>\n",
       "      <td>-66.561358</td>\n",
       "      <td>r</td>\n",
       "    </tr>\n",
       "    <tr>\n",
       "      <th>2</th>\n",
       "      <td>1</td>\n",
       "      <td>3.5</td>\n",
       "      <td>0.000000</td>\n",
       "      <td>-90.000000</td>\n",
       "      <td>-57.068082</td>\n",
       "      <td>-27.128251</td>\n",
       "      <td>-89.931210</td>\n",
       "      <td>-66.561358</td>\n",
       "      <td>u</td>\n",
       "    </tr>\n",
       "    <tr>\n",
       "      <th>3</th>\n",
       "      <td>2</td>\n",
       "      <td>3.5</td>\n",
       "      <td>180.000000</td>\n",
       "      <td>-87.568555</td>\n",
       "      <td>-57.663825</td>\n",
       "      <td>-24.756541</td>\n",
       "      <td>-96.024547</td>\n",
       "      <td>-66.442665</td>\n",
       "      <td>g</td>\n",
       "    </tr>\n",
       "    <tr>\n",
       "      <th>4</th>\n",
       "      <td>2</td>\n",
       "      <td>3.5</td>\n",
       "      <td>180.000000</td>\n",
       "      <td>-87.568555</td>\n",
       "      <td>-57.663825</td>\n",
       "      <td>-24.756541</td>\n",
       "      <td>-96.024547</td>\n",
       "      <td>-66.442665</td>\n",
       "      <td>r</td>\n",
       "    </tr>\n",
       "    <tr>\n",
       "      <th>5</th>\n",
       "      <td>2</td>\n",
       "      <td>3.5</td>\n",
       "      <td>180.000000</td>\n",
       "      <td>-87.568555</td>\n",
       "      <td>-57.663825</td>\n",
       "      <td>-24.756541</td>\n",
       "      <td>-96.024547</td>\n",
       "      <td>-66.442665</td>\n",
       "      <td>u</td>\n",
       "    </tr>\n",
       "    <tr>\n",
       "      <th>6</th>\n",
       "      <td>3</td>\n",
       "      <td>3.5</td>\n",
       "      <td>324.000429</td>\n",
       "      <td>-87.568550</td>\n",
       "      <td>-54.980423</td>\n",
       "      <td>-28.712449</td>\n",
       "      <td>-85.262622</td>\n",
       "      <td>-65.058907</td>\n",
       "      <td>g</td>\n",
       "    </tr>\n",
       "    <tr>\n",
       "      <th>7</th>\n",
       "      <td>3</td>\n",
       "      <td>3.5</td>\n",
       "      <td>324.000429</td>\n",
       "      <td>-87.568550</td>\n",
       "      <td>-54.980423</td>\n",
       "      <td>-28.712449</td>\n",
       "      <td>-85.262622</td>\n",
       "      <td>-65.058907</td>\n",
       "      <td>r</td>\n",
       "    </tr>\n",
       "    <tr>\n",
       "      <th>8</th>\n",
       "      <td>3</td>\n",
       "      <td>3.5</td>\n",
       "      <td>324.000429</td>\n",
       "      <td>-87.568550</td>\n",
       "      <td>-54.980423</td>\n",
       "      <td>-28.712449</td>\n",
       "      <td>-85.262622</td>\n",
       "      <td>-65.058907</td>\n",
       "      <td>u</td>\n",
       "    </tr>\n",
       "    <tr>\n",
       "      <th>9</th>\n",
       "      <td>4</td>\n",
       "      <td>3.5</td>\n",
       "      <td>35.999571</td>\n",
       "      <td>-87.568550</td>\n",
       "      <td>-58.164147</td>\n",
       "      <td>-29.359810</td>\n",
       "      <td>-84.695237</td>\n",
       "      <td>-67.907706</td>\n",
       "      <td>g</td>\n",
       "    </tr>\n",
       "    <tr>\n",
       "      <th>10</th>\n",
       "      <td>4</td>\n",
       "      <td>3.5</td>\n",
       "      <td>35.999571</td>\n",
       "      <td>-87.568550</td>\n",
       "      <td>-58.164147</td>\n",
       "      <td>-29.359810</td>\n",
       "      <td>-84.695237</td>\n",
       "      <td>-67.907706</td>\n",
       "      <td>r</td>\n",
       "    </tr>\n",
       "    <tr>\n",
       "      <th>11</th>\n",
       "      <td>4</td>\n",
       "      <td>3.5</td>\n",
       "      <td>35.999571</td>\n",
       "      <td>-87.568550</td>\n",
       "      <td>-58.164147</td>\n",
       "      <td>-29.359810</td>\n",
       "      <td>-84.695237</td>\n",
       "      <td>-67.907706</td>\n",
       "      <td>u</td>\n",
       "    </tr>\n",
       "  </tbody>\n",
       "</table>\n",
       "</div>"
      ],
      "text/plain": [
       "    fieldId  fieldFov     fieldRA   fieldDEC    fieldGL    fieldGB    fieldEL  \\\n",
       "0         1       3.5    0.000000 -90.000000 -57.068082 -27.128251 -89.931210   \n",
       "1         1       3.5    0.000000 -90.000000 -57.068082 -27.128251 -89.931210   \n",
       "2         1       3.5    0.000000 -90.000000 -57.068082 -27.128251 -89.931210   \n",
       "3         2       3.5  180.000000 -87.568555 -57.663825 -24.756541 -96.024547   \n",
       "4         2       3.5  180.000000 -87.568555 -57.663825 -24.756541 -96.024547   \n",
       "5         2       3.5  180.000000 -87.568555 -57.663825 -24.756541 -96.024547   \n",
       "6         3       3.5  324.000429 -87.568550 -54.980423 -28.712449 -85.262622   \n",
       "7         3       3.5  324.000429 -87.568550 -54.980423 -28.712449 -85.262622   \n",
       "8         3       3.5  324.000429 -87.568550 -54.980423 -28.712449 -85.262622   \n",
       "9         4       3.5   35.999571 -87.568550 -58.164147 -29.359810 -84.695237   \n",
       "10        4       3.5   35.999571 -87.568550 -58.164147 -29.359810 -84.695237   \n",
       "11        4       3.5   35.999571 -87.568550 -58.164147 -29.359810 -84.695237   \n",
       "\n",
       "      fieldEB bandFilter  \n",
       "0  -66.561358          g  \n",
       "1  -66.561358          r  \n",
       "2  -66.561358          u  \n",
       "3  -66.442665          g  \n",
       "4  -66.442665          r  \n",
       "5  -66.442665          u  \n",
       "6  -65.058907          g  \n",
       "7  -65.058907          r  \n",
       "8  -65.058907          u  \n",
       "9  -67.907706          g  \n",
       "10 -67.907706          r  \n",
       "11 -67.907706          u  "
      ]
     },
     "execution_count": 19,
     "metadata": {},
     "output_type": "execute_result"
    }
   ],
   "source": [
    "data.merge(id_filt)"
   ]
  },
  {
   "cell_type": "code",
   "execution_count": 27,
   "metadata": {
    "collapsed": false
   },
   "outputs": [
    {
     "data": {
      "text/plain": [
       "Index([u'fieldId', u'fieldFov', u'fieldRA', u'fieldDEC', u'fieldGL',\n",
       "       u'fieldGB', u'fieldEL', u'fieldEB'],\n",
       "      dtype='object')"
      ]
     },
     "execution_count": 27,
     "metadata": {},
     "output_type": "execute_result"
    }
   ],
   "source": [
    "data.keys()"
   ]
  },
  {
   "cell_type": "code",
   "execution_count": 1,
   "metadata": {
    "collapsed": false
   },
   "outputs": [],
   "source": [
    "import numpy\n",
    "sb = {'u': numpy.array([17.0, 17.0, 16.0, 18.0]), \n",
    "      'g': numpy.array([21.0, 21.0, 20.1, 21.5]), \n",
    "      'r': numpy.array([22.0, 22.0, 21.8, 22.4])}"
   ]
  },
  {
   "cell_type": "code",
   "execution_count": 12,
   "metadata": {
    "collapsed": false
   },
   "outputs": [
    {
     "ename": "TypeError",
     "evalue": "from_dict() got an unexpected keyword argument 'columns'",
     "output_type": "error",
     "traceback": [
      "\u001b[0;31m---------------------------------------------------------------------------\u001b[0m",
      "\u001b[0;31mTypeError\u001b[0m                                 Traceback (most recent call last)",
      "\u001b[0;32m<ipython-input-12-9ec3291ad427>\u001b[0m in \u001b[0;36m<module>\u001b[0;34m()\u001b[0m\n\u001b[0;32m----> 1\u001b[0;31m \u001b[0msb_df\u001b[0m \u001b[0;34m=\u001b[0m \u001b[0mpandas\u001b[0m\u001b[0;34m.\u001b[0m\u001b[0mDataFrame\u001b[0m\u001b[0;34m.\u001b[0m\u001b[0mfrom_dict\u001b[0m\u001b[0;34m(\u001b[0m\u001b[0msb\u001b[0m\u001b[0;34m,\u001b[0m \u001b[0mcolumns\u001b[0m\u001b[0;34m=\u001b[0m\u001b[0;34m[\u001b[0m\u001b[0;34m'bandFilter'\u001b[0m\u001b[0;34m,\u001b[0m \u001b[0;34m'skyBrightness'\u001b[0m\u001b[0;34m]\u001b[0m\u001b[0;34m)\u001b[0m\u001b[0;34m\u001b[0m\u001b[0m\n\u001b[0m\u001b[1;32m      2\u001b[0m \u001b[0msb_df\u001b[0m\u001b[0;34m\u001b[0m\u001b[0m\n",
      "\u001b[0;31mTypeError\u001b[0m: from_dict() got an unexpected keyword argument 'columns'"
     ]
    }
   ],
   "source": [
    "sb_df = pandas.DataFrame.from_dict(sb, columns=['bandFilter', 'skyBrightness'])\n",
    "sb_df"
   ]
  },
  {
   "cell_type": "code",
   "execution_count": null,
   "metadata": {
    "collapsed": true
   },
   "outputs": [],
   "source": []
  }
 ],
 "metadata": {
  "anaconda-cloud": {},
  "kernelspec": {
   "display_name": "Python 3",
   "language": "python",
   "name": "python3"
  },
  "language_info": {
   "codemirror_mode": {
    "name": "ipython",
    "version": 3
   },
   "file_extension": ".py",
   "mimetype": "text/x-python",
   "name": "python",
   "nbconvert_exporter": "python",
   "pygments_lexer": "ipython3",
   "version": "3.5.2"
  }
 },
 "nbformat": 4,
 "nbformat_minor": 1
}
