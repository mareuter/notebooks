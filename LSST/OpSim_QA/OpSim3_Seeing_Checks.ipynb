{
 "cells": [
  {
   "cell_type": "code",
   "execution_count": 19,
   "metadata": {
    "collapsed": false
   },
   "outputs": [
    {
     "name": "stdout",
     "output_type": "stream",
     "text": [
      "['Session', '__class__', '__delattr__', '__dict__', '__doc__', '__format__', '__getattribute__', '__hash__', '__init__', '__module__', '__new__', '__reduce__', '__reduce_ex__', '__repr__', '__setattr__', '__sizeof__', '__str__', '__subclasshook__', '__weakref__', 'close', 'database', 'driver', 'getAllMetricIds', 'getMetricDataFiles', 'getMetricId', 'getPlotFiles', 'getSummaryStats', 'session', 'updateDisplay', 'updateMetric', 'updatePlot', 'updateSummaryStat']\n"
     ]
    }
   ],
   "source": [
    "data_dir = \"~/run-local/output/maf\"\n",
    "db1 = \"aquila_1118\"\n",
    "db2 = \"aquila_1136\"\n",
    "\n",
    "import os\n",
    "db1_dir = os.path.join(os.path.expanduser(data_dir), db1, \"validation\", \"resultsDb_sqlite.db\")\n",
    "db2_dir = os.path.join(os.path.expanduser(data_dir), db2, \"validation\", \"resultsDb_sqlite.db\")\n",
    "\n",
    "#print db1_dir\n",
    "#print db2_dir\n",
    "\n",
    "from lsst.sims.maf.db import ResultsDb\n",
    "\n",
    "rundb = {}\n",
    "rundb[db1] = ResultsDb(database=db1_dir)\n",
    "rundb[db2] = ResultsDb(database=db2_dir)\n",
    "#print dir(rundb[db1])"
   ]
  },
  {
   "cell_type": "code",
   "execution_count": 21,
   "metadata": {
    "collapsed": false
   },
   "outputs": [
    {
     "name": "stdout",
     "output_type": "stream",
     "text": [
      "Help on method getMetricId in module lsst.sims.maf.db.resultsDb:\n",
      "\n",
      "getMetricId(self, metricName, slicerName=None, metricMetadata=None, simDataName=None) method of lsst.sims.maf.db.resultsDb.ResultsDb instance\n",
      "    Return the metricId matching metricName (and optionally, matching slicerName/metricMetadata/simDataName).\n",
      "\n"
     ]
    }
   ],
   "source": [
    "help(rundb[db1].getMetricId)"
   ]
  },
  {
   "cell_type": "code",
   "execution_count": 16,
   "metadata": {
    "collapsed": false
   },
   "outputs": [
    {
     "name": "stdout",
     "output_type": "stream",
     "text": [
      "aquila_1136 Median airmass OpsimFieldSlicer g band, WFD Median 1.196375\n",
      "aquila_1118 Median airmass OpsimFieldSlicer g band, WFD Median 1.3378985\n"
     ]
    }
   ],
   "source": [
    "metricName = 'Median airmass'\n",
    "summaryName = 'Median'\n",
    "metricMetadata = 'g band, WFD'\n",
    "slicerName = 'UniSlicer'\n",
    "\n",
    "for r in rundb:\n",
    "    mIds = rundb[r].getMetricId(metricName=metricName, metricMetadata=metricMetadata, slicerName=slicerName)\n",
    "    summaryStats = rundb[r].getSummaryStats(mIds)\n",
    "    for s in summaryStats:\n",
    "        print r, s['metricName'], s['slicerName'], s['metricMetadata'], s['summaryName'], s['summaryValue']\n",
    "\n",
    "for r in rundb:\n",
    "    mIds = rundb[r].getMetricId(metricName=metricName, metricMetadata=metricMetadata)\n",
    "    summaryStats = rundb[r].getSummaryStats(mIds, summaryName=summaryName)\n",
    "    for s in summaryStats:\n",
    "        print r, s['metricName'], s['slicerName'], s['metricMetadata'], s['summaryName'], s['summaryValue']"
   ]
  },
  {
   "cell_type": "code",
   "execution_count": 17,
   "metadata": {
    "collapsed": true
   },
   "outputs": [],
   "source": [
    "metricName = 'Airmass Histogram'\n",
    "summaryName = 'Median'\n",
    "metricMetadata = 'g band, WFD'\n",
    "slicerName = 'OneDSlicer'\n",
    "\n",
    "for r in rundb:\n",
    "    mIds = rundb[r].getMetricId(metricName=metricName, metricMetadata=metricMetadata, slicerName=slicerName)\n",
    "    summaryStats = rundb[r].getSummaryStats(mIds)\n",
    "    for s in summaryStats:\n",
    "        print r, s['metricName'], s['slicerName'], s['metricMetadata'], s['summaryName'], s['summaryValue']"
   ]
  },
  {
   "cell_type": "code",
   "execution_count": null,
   "metadata": {
    "collapsed": true
   },
   "outputs": [],
   "source": []
  }
 ],
 "metadata": {
  "kernelspec": {
   "display_name": "Python 2",
   "language": "python",
   "name": "python2"
  },
  "language_info": {
   "codemirror_mode": {
    "name": "ipython",
    "version": 2
   },
   "file_extension": ".py",
   "mimetype": "text/x-python",
   "name": "python",
   "nbconvert_exporter": "python",
   "pygments_lexer": "ipython2",
   "version": "2.7.10"
  }
 },
 "nbformat": 4,
 "nbformat_minor": 0
}
