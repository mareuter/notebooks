{
 "cells": [
  {
   "cell_type": "code",
   "execution_count": null,
   "metadata": {},
   "outputs": [],
   "source": [
    "from datetime import datetime\n",
    "import os\n",
    "\n",
    "from astropy.time import Time\n",
    "from bokeh.models import DatetimeTickFormatter, PrintfTickFormatter\n",
    "from IPython.display import Markdown as md\n",
    "import holoviews as hv\n",
    "from holoviews import opts\n",
    "hv.extension('bokeh', logo=False)\n",
    "import numpy as np\n",
    "import pandas as pd\n",
    "import tables as tb\n",
    "\n",
    "from lsst_efd_client import EfdClient\n",
    "\n",
    "DATETIME_FORMAT = '%Y%m%d_%H%M%S'\n",
    "REPORT_TIME_FORMAT = '%F %T'"
   ]
  },
  {
   "cell_type": "code",
   "execution_count": null,
   "metadata": {
    "tags": [
     "parameters"
    ]
   },
   "outputs": [],
   "source": [
    "ipath = os.path.expanduser(\"~/Dropbox_LSST/Dome_Seeing_Monitor/DSM_Data/20200128\")\n",
    "date_str = \"20200129_010709\"\n",
    "csc_index = 1"
   ]
  },
  {
   "cell_type": "code",
   "execution_count": null,
   "metadata": {},
   "outputs": [],
   "source": [
    "ifname_centroid = os.path.join(ipath, f\"smm_centroid_{date_str}.h5\")\n",
    "\n",
    "centroid_h5 = tb.open_file(ifname_centroid)\n",
    "camera_info = centroid_h5.root.camera.info\n",
    "general_info = centroid_h5.root.general.info"
   ]
  },
  {
   "cell_type": "code",
   "execution_count": null,
   "metadata": {},
   "outputs": [],
   "source": [
    "md(f\"### Dome Seeing Monitor Report {datetime.strptime(date_str, DATETIME_FORMAT).strftime(REPORT_TIME_FORMAT)}\")"
   ]
  },
  {
   "cell_type": "code",
   "execution_count": null,
   "metadata": {},
   "outputs": [],
   "source": [
    "ifname_psd = os.path.join(ipath, f\"smm_psd_{date_str}.h5\")\n",
    "# Get data keys from file\n",
    "psd_h5 = tb.open_file(ifname_psd)\n",
    "glist = psd_h5.root._f_list_nodes(classname=\"Group\")\n",
    "keys = [k._v_name for k in glist]"
   ]
  },
  {
   "cell_type": "code",
   "execution_count": null,
   "metadata": {},
   "outputs": [],
   "source": [
    "x_data = []\n",
    "y_data = []\n",
    "frequencies = None\n",
    "datetimes = []\n",
    "#print(keys)\n",
    "for i, key in enumerate(keys):\n",
    "    pd_h5 = pd.read_hdf(ifname_psd, key=key)\n",
    "    x_data.append(pd_h5.X.values)\n",
    "    y_data.append(pd_h5.Y.values)\n",
    "    datetimes.append(datetime.strptime(key.replace('DT_', ''), DATETIME_FORMAT))\n",
    "    if i == 0:\n",
    "        frequencies = pd_h5.Frequencies.values"
   ]
  },
  {
   "cell_type": "code",
   "execution_count": null,
   "metadata": {},
   "outputs": [],
   "source": [
    "print(\"General Information\")\n",
    "for name, value in zip(general_info.colnames, general_info[0]):\n",
    "    print(f'{name}: {value.decode()}')\n",
    "print()\n",
    "print(\"Camera Information\")\n",
    "for name, value in zip(camera_info.colnames, camera_info[0]):\n",
    "    try:\n",
    "        v = value.decode()\n",
    "    except AttributeError:\n",
    "        v = value\n",
    "    print(f'{name}: {v}')\n",
    "print()\n",
    "num_groups = len(list(centroid_h5.walk_nodes('/', 'Array'))) // 4\n",
    "print(f\"Number of data groups: {num_groups}\")\n",
    "duration = datetimes[-1] - datetimes[0]\n",
    "print(f\"Data Duration (H:M:S): {duration}\")"
   ]
  },
  {
   "cell_type": "code",
   "execution_count": null,
   "metadata": {},
   "outputs": [],
   "source": [
    "x = np.stack(x_data)\n",
    "y = np.stack(y_data)\n",
    "ts = np.array(datetimes, dtype=np.datetime64)"
   ]
  },
  {
   "cell_type": "code",
   "execution_count": null,
   "metadata": {},
   "outputs": [],
   "source": [
    "psd_x = hv.Image((frequencies, ts, x), rtol=1, label='PSD X').opts(width=460)\n",
    "psd_y = hv.Image((frequencies, ts, y), rtol=1, label='PSD Y').opts(yaxis='bare', width=350)\n",
    "\n",
    "psd = psd_x + psd_y\n",
    "\n",
    "colorbar_opts = {'colorbar': True, 'colorbar_position': 'bottom',\n",
    "                 'colorbar_opts': {'formatter': PrintfTickFormatter(format=\"%0.0e\")}}\n",
    "\n",
    "dt_format = '%F %T'\n",
    "formats = {'days': dt_format, 'months': dt_format, 'hours': dt_format, 'minutes': dt_format}\n",
    "date_formatter = DatetimeTickFormatter(**formats)\n",
    "\n",
    "psd.opts(opts.Image(cmap='viridis', logz=True, invert_yaxis=True,\n",
    "                    **colorbar_opts,\n",
    "                    height=400,\n",
    "                    yformatter=date_formatter,\n",
    "                    xlabel='𝜈 (Hz)', ylabel='Date'))"
   ]
  },
  {
   "cell_type": "code",
   "execution_count": null,
   "metadata": {},
   "outputs": [],
   "source": [
    "client = EfdClient('summit_efd')"
   ]
  },
  {
   "cell_type": "code",
   "execution_count": null,
   "metadata": {},
   "outputs": [],
   "source": [
    "start = Time(datetimes[0])\n",
    "end = Time(datetimes[-1])\n",
    "df = await client.select_time_series('lsst.sal.DSM.domeSeeing', '*', start.tai, end.tai, csc_index)\n",
    "df_w = await client.select_time_series('lsst.sal.Environment.windSpeed', '*', start.tai, end.tai, csc_index)"
   ]
  },
  {
   "cell_type": "code",
   "execution_count": null,
   "metadata": {},
   "outputs": [],
   "source": [
    "src = hv.Table(df.reset_index())\n",
    "src_w = hv.Table(df_w.reset_index())\n",
    "tick_rotation = 75\n",
    "x_tuple = ('index', 'Date')\n",
    "full_width = 350\n",
    "end_col_size = full_width - 75\n",
    "\n",
    "cx = hv.Curve(src, x_tuple, ('centroidX', 'X'), label='X')\n",
    "cy = hv.Curve(src, x_tuple, ('centroidY', 'Y'), label='Y')\n",
    "centroids = (cx * cy).opts(ylabel='Pixel Position', title='Centroids', width=full_width)\n",
    "sx = hv.Curve(src, x_tuple, ('rmsX', 'X'), label='X')\n",
    "sy = hv.Curve(src, x_tuple, ('rmsY', 'Y'), label='Y')\n",
    "seeing = (sx * sy).opts(ylabel='scaled RMS (arcsec)', title='Seeing', width=full_width)\n",
    "wind = hv.Curve(src_w, x_tuple, ('avg2M', 'Speed (m/s)'), label='Wind').opts(width=end_col_size)\n",
    "flux = hv.Curve(src, x_tuple, ('flux', 'Flux'), label='Flux').opts(ylabel='')\n",
    "max_adc = hv.Curve(src, x_tuple, ('maxADC', 'Max ADC'), label='Max ADC').opts(ylabel='')\n",
    "fwhm = hv.Curve(src, x_tuple, ('fwhm', '(pixels)'), label='FWHM').opts(width=end_col_size)\n",
    "\n",
    "layout = (centroids + seeing + wind + flux + max_adc + fwhm).cols(3)\n",
    "layout.opts(opts.Layout(toolbar='above'),\n",
    "            opts.Overlay(legend_position='right'),\n",
    "            opts.Curve(xformatter=date_formatter, xrotation=tick_rotation, height=400))"
   ]
  }
 ],
 "metadata": {
  "celltoolbar": "Tags",
  "kernelspec": {
   "display_name": "Python 3",
   "language": "python",
   "name": "python3"
  },
  "language_info": {
   "codemirror_mode": {
    "name": "ipython",
    "version": 3
   },
   "file_extension": ".py",
   "mimetype": "text/x-python",
   "name": "python",
   "nbconvert_exporter": "python",
   "pygments_lexer": "ipython3",
   "version": "3.7.6"
  }
 },
 "nbformat": 4,
 "nbformat_minor": 4
}
