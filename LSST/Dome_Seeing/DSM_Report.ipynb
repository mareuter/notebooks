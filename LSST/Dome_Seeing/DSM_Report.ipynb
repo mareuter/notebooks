{
 "cells": [
  {
   "cell_type": "code",
   "execution_count": null,
   "metadata": {},
   "outputs": [],
   "source": [
    "import asyncio\n",
    "from datetime import datetime\n",
    "import os\n",
    "\n",
    "from astropy.time import Time\n",
    "from bokeh.io import output_notebook, show\n",
    "from bokeh.layouts import gridplot\n",
    "from bokeh.models import ColumnDataSource, DatetimeTickFormatter, Legend\n",
    "from bokeh.plotting import figure\n",
    "from IPython.display import Markdown as md\n",
    "from matplotlib.colors import LogNorm\n",
    "import matplotlib.pyplot as plt\n",
    "import numpy as np\n",
    "import pandas as pd\n",
    "import tables as tb\n",
    "\n",
    "from lsst_efd_client import EfdClient\n",
    "\n",
    "DATETIME_FORMAT = '%Y%m%d_%H%M%S'\n",
    "REPORT_TIME_FORMAT = '%F %T'\n",
    "\n",
    "output_notebook(hide_banner=True)"
   ]
  },
  {
   "cell_type": "code",
   "execution_count": null,
   "metadata": {
    "tags": [
     "parameters"
    ]
   },
   "outputs": [],
   "source": [
    "ipath = os.path.expanduser(\"~/Dropbox_LSST/Dome_Seeing_Monitor/DSM_Data/20200128\")\n",
    "date_str = \"20200129_010709\"\n",
    "csc_index = 1"
   ]
  },
  {
   "cell_type": "code",
   "execution_count": null,
   "metadata": {},
   "outputs": [],
   "source": [
    "ifname_centroid = os.path.join(ipath, f\"smm_centroid_{date_str}.h5\")\n",
    "\n",
    "centroid_h5 = tb.open_file(ifname_centroid)\n",
    "camera_info = centroid_h5.root.camera.info\n",
    "general_info = centroid_h5.root.general.info"
   ]
  },
  {
   "cell_type": "code",
   "execution_count": null,
   "metadata": {},
   "outputs": [],
   "source": [
    "md(f\"### Dome Seeing Monitor Report {datetime.strptime(date_str, DATETIME_FORMAT).strftime(REPORT_TIME_FORMAT)}\")"
   ]
  },
  {
   "cell_type": "code",
   "execution_count": null,
   "metadata": {},
   "outputs": [],
   "source": [
    "print(\"General Information\")\n",
    "for name, value in zip(general_info.colnames, general_info[0]):\n",
    "    print(f'{name}: {value.decode()}')\n",
    "print()\n",
    "print(\"Camera Information\")\n",
    "for name, value in zip(camera_info.colnames, camera_info[0]):\n",
    "    try:\n",
    "        v = value.decode()\n",
    "    except AttributeError:\n",
    "        v = value\n",
    "    print(f'{name}: {v}')\n",
    "print()\n",
    "num_groups = len(list(centroid_h5.walk_nodes('/', 'Array'))) // 4\n",
    "print(f\"Number of data groups: {num_groups}\")"
   ]
  },
  {
   "cell_type": "code",
   "execution_count": null,
   "metadata": {},
   "outputs": [],
   "source": [
    "ifname_psd = os.path.join(ipath, f\"smm_psd_{date_str}.h5\")\n",
    "# Get data keys from file\n",
    "psd_h5 = tb.open_file(ifname_psd)\n",
    "glist = psd_h5.root._f_list_nodes(classname=\"Group\")\n",
    "keys = [k._v_name for k in glist]"
   ]
  },
  {
   "cell_type": "code",
   "execution_count": null,
   "metadata": {},
   "outputs": [],
   "source": [
    "x_data = []\n",
    "y_data = []\n",
    "frequencies = None\n",
    "datetimes = []\n",
    "timestamps = []\n",
    "#print(keys)\n",
    "for i, key in enumerate(keys):\n",
    "    pd_h5 = pd.read_hdf(ifname_psd, key=key)\n",
    "    x_data.append(pd_h5.X.values)\n",
    "    y_data.append(pd_h5.Y.values)\n",
    "    datetimes.append(datetime.strptime(key.replace('DT_', ''), DATETIME_FORMAT))\n",
    "    timestamps.append(datetimes[-1].timestamp())\n",
    "    if i == 0:\n",
    "        frequencies = pd_h5.Frequencies.values"
   ]
  },
  {
   "cell_type": "code",
   "execution_count": null,
   "metadata": {},
   "outputs": [],
   "source": [
    "x = np.stack(x_data)\n",
    "y = np.stack(y_data)"
   ]
  },
  {
   "cell_type": "code",
   "execution_count": null,
   "metadata": {},
   "outputs": [],
   "source": [
    "extent = (frequencies[0], frequencies[-1], timestamps[-1], timestamps[0])\n",
    "xlabel = r'$\\nu$ [1/s]'\n",
    "plt.style.use('./plot_style.mplstyle')\n",
    "fig = plt.figure(figsize=(14, 7))\n",
    "fig.tight_layout()\n",
    "ax1 = fig.add_subplot(121)\n",
    "logNormX = LogNorm(vmin=np.min(x), vmax=np.max(x))\n",
    "pos1 = ax1.imshow(x, aspect='auto', extent=extent, norm=logNormX)\n",
    "date_fmt = [datetime.strftime(datetime.fromtimestamp(d), '%Y-%m-%d %H:%M:%S') for d in ax1.get_yticks()]\n",
    "ax1.set_title('PSD X')\n",
    "ax1.set_yticklabels(date_fmt)\n",
    "ax1.set_xlabel(xlabel)\n",
    "fig.colorbar(pos1, orientation='horizontal')\n",
    "\n",
    "ax2 = fig.add_subplot(122)\n",
    "logNormY = LogNorm(vmin=np.min(y), vmax=np.max(y))\n",
    "pos2 = ax2.imshow(y, aspect='auto', extent=extent, norm=logNormY)\n",
    "ax2.set_title('PSD Y')\n",
    "ax2.set_yticks([])\n",
    "plt.setp(ax2.get_yticklabels(), visible=False)\n",
    "ax2.set_xlabel(xlabel)\n",
    "fig.colorbar(pos2, orientation='horizontal')\n",
    "\n",
    "fig.subplots_adjust(wspace=0.01)"
   ]
  },
  {
   "cell_type": "code",
   "execution_count": null,
   "metadata": {},
   "outputs": [],
   "source": [
    "client = EfdClient('summit_efd')"
   ]
  },
  {
   "cell_type": "code",
   "execution_count": null,
   "metadata": {},
   "outputs": [],
   "source": [
    "start = Time(datetimes[0])\n",
    "end = Time(datetimes[-1])\n",
    "df = await client.select_time_series('lsst.sal.DSM.domeSeeing', '*', start.tai, end.tai, csc_index)\n",
    "df_w = await client.select_time_series('lsst.sal.Environment.windSpeed', '*', start.tai, end.tai, csc_index)"
   ]
  },
  {
   "cell_type": "code",
   "execution_count": null,
   "metadata": {},
   "outputs": [],
   "source": [
    "source = ColumnDataSource(df)\n",
    "source_w = ColumnDataSource(df_w)\n",
    "dt_format = '%F %T'\n",
    "formats = {'days': dt_format, 'months': dt_format, 'hours': dt_format, 'minutes': dt_format}\n",
    "tick_rotation = 75. * np.pi / 180.\n",
    "\n",
    "s1 = figure(title = \"Centroids\")\n",
    "cx = s1.line(x='index', y='centroidX', source=source, line_color='blue', line_width=2)\n",
    "cy = s1.line(x='index', y='centroidY', source=source, line_color='black', line_width=2)\n",
    "s1.xaxis.formatter = DatetimeTickFormatter(**formats)\n",
    "s1.xaxis.major_label_orientation = tick_rotation\n",
    "legend1 = Legend(items=[\n",
    "    (\"X\" , [cx]),\n",
    "    (\"Y\" , [cy]),\n",
    "], location=\"center\")\n",
    "s1.add_layout(legend1, 'right')\n",
    "s1.legend.margin = 0\n",
    "s1.legend.padding = 0\n",
    "s2 = figure(title='Seeing')\n",
    "sx = s2.line(x='index', y='rmsX', source=source, line_color='blue', line_width=2)\n",
    "sy = s2.line(x='index', y='rmsY', source=source, line_color='black', line_width=2)\n",
    "s2.xaxis.formatter = DatetimeTickFormatter(**formats)\n",
    "s2.xaxis.major_label_orientation = tick_rotation\n",
    "s2.yaxis.axis_label = 'scaled RMS (arcseconds)'\n",
    "legend2 = Legend(items=[\n",
    "    (\"X\" , [sx]),\n",
    "    (\"Y\" , [sy]),\n",
    "], location=\"center\")\n",
    "s2.add_layout(legend2, 'right')\n",
    "s2.legend.margin = 0\n",
    "s2.legend.padding = 0\n",
    "s3 = figure(title='Wind')\n",
    "s3.line(x='index', y='avg2M', source=df_w, line_width=2)\n",
    "s3.xaxis.formatter = DatetimeTickFormatter(**formats)\n",
    "s3.xaxis.major_label_orientation = tick_rotation\n",
    "s3.yaxis.axis_label = 'speed (m/s)'\n",
    "s4 = figure(title='Flux')\n",
    "s4.line(x='index', y='flux', source=df, line_width=2)\n",
    "s4.xaxis.formatter = DatetimeTickFormatter(**formats)\n",
    "s4.xaxis.major_label_orientation = tick_rotation\n",
    "s5 = figure(title='Max ADC')\n",
    "s5.line(x='index', y='maxADC', source=df, line_width=2)\n",
    "s5.xaxis.formatter = DatetimeTickFormatter(**formats)\n",
    "s5.xaxis.major_label_orientation = tick_rotation\n",
    "s6 = figure(title='FWHM')\n",
    "s6.line(x='index', y='fwhm', source=df, line_width=2)\n",
    "s6.xaxis.formatter = DatetimeTickFormatter(**formats)\n",
    "s6.xaxis.major_label_orientation = tick_rotation\n",
    "s6.yaxis.axis_label = '(pixels)'\n",
    "grid = gridplot([[s1, s2, s3], [s4, s5, s6]], plot_width=300, plot_height=300)\n",
    "s1.x_range = s2.x_range = s3.x_range = s4.x_range = s5.x_range = s6.x_range\n",
    "show(grid)"
   ]
  },
  {
   "cell_type": "code",
   "execution_count": null,
   "metadata": {},
   "outputs": [],
   "source": []
  }
 ],
 "metadata": {
  "celltoolbar": "Tags",
  "kernelspec": {
   "display_name": "Python 3",
   "language": "python",
   "name": "python3"
  },
  "language_info": {
   "codemirror_mode": {
    "name": "ipython",
    "version": 3
   },
   "file_extension": ".py",
   "mimetype": "text/x-python",
   "name": "python",
   "nbconvert_exporter": "python",
   "pygments_lexer": "ipython3",
   "version": "3.7.6"
  }
 },
 "nbformat": 4,
 "nbformat_minor": 4
}
