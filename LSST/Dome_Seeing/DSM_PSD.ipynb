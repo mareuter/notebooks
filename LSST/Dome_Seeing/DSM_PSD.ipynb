{
 "cells": [
  {
   "cell_type": "code",
   "execution_count": null,
   "metadata": {},
   "outputs": [],
   "source": [
    "from datetime import datetime\n",
    "import os\n",
    "\n",
    "from bokeh.models import DatetimeTickFormatter, PrintfTickFormatter\n",
    "import holoviews as hv\n",
    "from holoviews import opts\n",
    "hv.extension('bokeh', logo=False)\n",
    "import numpy as np\n",
    "import pandas as pd\n",
    "import tables as tb"
   ]
  },
  {
   "cell_type": "code",
   "execution_count": null,
   "metadata": {},
   "outputs": [],
   "source": [
    "ipath = os.path.expanduser(\"~/Dropbox_LSST/Dome_Seeing_Monitor/DSM_Data/20200128\")\n",
    "date_str = \"20200129_013952\""
   ]
  },
  {
   "cell_type": "code",
   "execution_count": null,
   "metadata": {},
   "outputs": [],
   "source": [
    "ifname_psd = os.path.join(ipath, f\"smm_psd_{date_str}.h5\")\n",
    "\n",
    "# Get data keys from file\n",
    "psd_h5 = tb.open_file(ifname_psd)\n",
    "glist = psd_h5.root._f_list_nodes(classname=\"Group\")\n",
    "keys = [k._v_name for k in glist]\n",
    "#print(keys)"
   ]
  },
  {
   "cell_type": "code",
   "execution_count": null,
   "metadata": {},
   "outputs": [],
   "source": [
    "x_data = []\n",
    "y_data = []\n",
    "frequencies = None\n",
    "datetimes = []\n",
    "#print(keys)\n",
    "for i, key in enumerate(keys):\n",
    "    pd_h5 = pd.read_hdf(ifname_psd, key=key)\n",
    "    x_data.append(pd_h5.X.values)\n",
    "    y_data.append(pd_h5.Y.values)\n",
    "    datetimes.append(datetime.strptime(key.replace('DT_', ''), '%Y%m%d_%H%M%S'))\n",
    "    if i == 0:\n",
    "        frequencies = pd_h5.Frequencies.values"
   ]
  },
  {
   "cell_type": "code",
   "execution_count": null,
   "metadata": {},
   "outputs": [],
   "source": [
    "x = np.stack(x_data)\n",
    "y = np.stack(y_data)\n",
    "ts = np.array(datetimes, dtype=np.datetime64)"
   ]
  },
  {
   "cell_type": "code",
   "execution_count": null,
   "metadata": {},
   "outputs": [],
   "source": [
    "psd_x = hv.Image((frequencies, ts, x), rtol=1, label='PSD X').opts(width=460)\n",
    "psd_y = hv.Image((frequencies, ts, y), rtol=1, label='PSD Y').opts(yaxis='bare', width=350)"
   ]
  },
  {
   "cell_type": "code",
   "execution_count": null,
   "metadata": {},
   "outputs": [],
   "source": [
    "psd = psd_x + psd_y\n",
    "\n",
    "colorbar_opts = {'colorbar': True, 'colorbar_position': 'bottom',\n",
    "                 'colorbar_opts': {'formatter': PrintfTickFormatter(format=\"%0.0e\")}}\n",
    "\n",
    "dt_format = '%F %T'\n",
    "formats = {'days': dt_format, 'months': dt_format, 'hours': dt_format, 'minutes': dt_format}\n",
    "date_formatter = DatetimeTickFormatter(**formats)\n",
    "\n",
    "psd.opts(opts.Image(cmap='viridis', logz=True, invert_yaxis=True,\n",
    "                    **colorbar_opts,\n",
    "                    height=400,\n",
    "                    yformatter=date_formatter,\n",
    "                    xlabel='𝜈 (Hz)', ylabel=''))"
   ]
  }
 ],
 "metadata": {
  "kernelspec": {
   "display_name": "Python 3",
   "language": "python",
   "name": "python3"
  },
  "language_info": {
   "codemirror_mode": {
    "name": "ipython",
    "version": 3
   },
   "file_extension": ".py",
   "mimetype": "text/x-python",
   "name": "python",
   "nbconvert_exporter": "python",
   "pygments_lexer": "ipython3",
   "version": "3.7.6"
  }
 },
 "nbformat": 4,
 "nbformat_minor": 2
}
