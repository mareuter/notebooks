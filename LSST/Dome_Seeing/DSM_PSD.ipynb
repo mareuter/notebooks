{
 "cells": [
  {
   "cell_type": "code",
   "execution_count": null,
   "metadata": {},
   "outputs": [],
   "source": [
    "from datetime import datetime\n",
    "import os\n",
    "\n",
    "from matplotlib.colors import LogNorm\n",
    "import matplotlib.pyplot as plt\n",
    "import numpy as np\n",
    "import pandas as pd\n",
    "import tables as tb"
   ]
  },
  {
   "cell_type": "code",
   "execution_count": null,
   "metadata": {},
   "outputs": [],
   "source": [
    "ipath = os.path.expanduser(\"~/Dropbox_LSST/Dome_Seeing_Monitor/DSM_Data/20200122/100FPS\")\n",
    "date_str = \"20200122_195044\""
   ]
  },
  {
   "cell_type": "code",
   "execution_count": null,
   "metadata": {},
   "outputs": [],
   "source": [
    "ifname_psd = os.path.join(ipath, f\"smm_psd_{date_str}.h5\")\n",
    "\n",
    "# Get data keys from file\n",
    "psd_h5 = tb.open_file(ifname_psd)\n",
    "glist = psd_h5.root._f_list_nodes(classname=\"Group\")\n",
    "keys = [k._v_name for k in glist]\n",
    "#print(keys)"
   ]
  },
  {
   "cell_type": "code",
   "execution_count": null,
   "metadata": {},
   "outputs": [],
   "source": [
    "x_data = []\n",
    "y_data = []\n",
    "frequencies = None\n",
    "datetimes = []\n",
    "timestamps = []\n",
    "#print(keys)\n",
    "for i, key in enumerate(keys):\n",
    "    pd_h5 = pd.read_hdf(ifname_psd, key=key)\n",
    "    x_data.append(pd_h5.X.values)\n",
    "    y_data.append(pd_h5.Y.values)\n",
    "    datetimes.append(datetime.strptime(key.replace('DT_', ''), '%Y%m%d_%H%M%S'))\n",
    "    timestamps.append(datetimes[-1].timestamp())\n",
    "    if i == 0:\n",
    "        frequencies = pd_h5.Frequencies.values"
   ]
  },
  {
   "cell_type": "code",
   "execution_count": null,
   "metadata": {},
   "outputs": [],
   "source": [
    "x = np.stack(x_data)\n",
    "y = np.stack(y_data)"
   ]
  },
  {
   "cell_type": "code",
   "execution_count": null,
   "metadata": {},
   "outputs": [],
   "source": [
    "extent = (frequencies[0], frequencies[-1], timestamps[-1], timestamps[0])\n",
    "xlabel = r'$\\nu$ [1/s]'\n",
    "plt.style.use('./plot_style.mplstyle')\n",
    "fig = plt.figure(figsize=(14, 7))\n",
    "fig.tight_layout()\n",
    "ax1 = fig.add_subplot(121)\n",
    "logNormX = LogNorm(vmin=np.min(x), vmax=np.max(x))\n",
    "pos1 = ax1.imshow(x, aspect='auto', extent=extent, norm=logNormX)\n",
    "date_fmt = [datetime.strftime(datetime.fromtimestamp(d), '%Y-%m-%d %H:%M:%S') for d in ax1.get_yticks()]\n",
    "ax1.set_title('PSD X')\n",
    "ax1.set_yticklabels(date_fmt)\n",
    "ax1.set_xlabel(xlabel)\n",
    "fig.colorbar(pos1, orientation='horizontal')\n",
    "\n",
    "ax2 = fig.add_subplot(122)\n",
    "logNormY = LogNorm(vmin=np.min(y), vmax=np.max(y))\n",
    "pos2 = ax2.imshow(y, aspect='auto', extent=extent, norm=logNormY)\n",
    "ax2.set_title('PSD Y')\n",
    "ax2.set_yticks([])\n",
    "plt.setp(ax2.get_yticklabels(), visible=False)\n",
    "ax2.set_xlabel(xlabel)\n",
    "fig.colorbar(pos2, orientation='horizontal')\n",
    "\n",
    "fig.subplots_adjust(wspace=0.01)"
   ]
  }
 ],
 "metadata": {
  "kernelspec": {
   "display_name": "Python 3",
   "language": "python",
   "name": "python3"
  },
  "language_info": {
   "codemirror_mode": {
    "name": "ipython",
    "version": 3
   },
   "file_extension": ".py",
   "mimetype": "text/x-python",
   "name": "python",
   "nbconvert_exporter": "python",
   "pygments_lexer": "ipython3",
   "version": "3.7.6"
  }
 },
 "nbformat": 4,
 "nbformat_minor": 2
}
