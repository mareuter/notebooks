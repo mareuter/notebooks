{
 "cells": [
  {
   "cell_type": "code",
   "execution_count": null,
   "metadata": {},
   "outputs": [],
   "source": [
    "import os\n",
    "\n",
    "import tables"
   ]
  },
  {
   "cell_type": "code",
   "execution_count": null,
   "metadata": {},
   "outputs": [],
   "source": [
    "ipath = os.path.expanduser(\"~/git/lsst-sitcom/spot_motion_monitor\")\n",
    "date_str = \"20200123_040355\"\n",
    "ifname_centroid = os.path.join(ipath, f\"smm_centroid_{date_str}.h5\")\n",
    "\n",
    "centroid_h5 = tables.open_file(ifname_centroid)\n",
    "camera_info = centroid_h5.root.camera.info\n",
    "general_info = centroid_h5.root.general.info"
   ]
  },
  {
   "cell_type": "code",
   "execution_count": null,
   "metadata": {},
   "outputs": [],
   "source": [
    "print(\"General Information\")\n",
    "for name, value in zip(general_info.colnames, general_info[0]):\n",
    "    print(f'{name}: {value}')\n",
    "print()\n",
    "print(\"Camera Information\")\n",
    "for name, value in zip(camera_info.colnames, camera_info[0]):\n",
    "    print(f'{name}: {value}')"
   ]
  },
  {
   "cell_type": "code",
   "execution_count": null,
   "metadata": {},
   "outputs": [],
   "source": [
    "num_groups = len(list(centroid_h5.walk_nodes('/', 'Array'))) // 4\n",
    "print(f\"Number of data groups: {num_groups}\")"
   ]
  }
 ],
 "metadata": {
  "kernelspec": {
   "display_name": "Python 3",
   "language": "python",
   "name": "python3"
  },
  "language_info": {
   "codemirror_mode": {
    "name": "ipython",
    "version": 3
   },
   "file_extension": ".py",
   "mimetype": "text/x-python",
   "name": "python",
   "nbconvert_exporter": "python",
   "pygments_lexer": "ipython3",
   "version": "3.6.8"
  }
 },
 "nbformat": 4,
 "nbformat_minor": 2
}
