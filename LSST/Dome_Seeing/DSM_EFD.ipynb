{
 "cells": [
  {
   "cell_type": "code",
   "execution_count": null,
   "metadata": {},
   "outputs": [],
   "source": [
    "import asyncio\n",
    "from datetime import datetime\n",
    "import os\n",
    "\n",
    "from astropy.time import Time\n",
    "from bokeh.io import output_notebook, show\n",
    "from bokeh.layouts import gridplot\n",
    "from bokeh.models import ColumnDataSource, DatetimeTickFormatter, Legend\n",
    "from bokeh.plotting import figure\n",
    "import numpy as np\n",
    "import pandas as pd\n",
    "import tables as tb\n",
    "\n",
    "from lsst_efd_client import EfdClient\n",
    "\n",
    "output_notebook()"
   ]
  },
  {
   "cell_type": "code",
   "execution_count": null,
   "metadata": {},
   "outputs": [],
   "source": [
    "ipath = os.path.expanduser(\"~/Dropbox_LSST/Dome_Seeing_Monitor/DSM_Data/20200128\")\n",
    "date_str = \"20200129_010709\""
   ]
  },
  {
   "cell_type": "code",
   "execution_count": null,
   "metadata": {},
   "outputs": [],
   "source": [
    "ifname_psd = os.path.join(ipath, f\"smm_psd_{date_str}.h5\")\n",
    "\n",
    "# Get data keys from file\n",
    "psd_h5 = tb.open_file(ifname_psd)\n",
    "glist = psd_h5.root._f_list_nodes(classname=\"Group\")\n",
    "keys = [k._v_name for k in glist]"
   ]
  },
  {
   "cell_type": "code",
   "execution_count": null,
   "metadata": {},
   "outputs": [],
   "source": [
    "datetimes = []\n",
    "for key in keys:\n",
    "    datetimes.append(datetime.strptime(key.replace('DT_', ''), '%Y%m%d_%H%M%S'))\n",
    "datetimes = datetimes[2:-3]"
   ]
  },
  {
   "cell_type": "code",
   "execution_count": null,
   "metadata": {},
   "outputs": [],
   "source": [
    "client = EfdClient('summit_efd')"
   ]
  },
  {
   "cell_type": "code",
   "execution_count": null,
   "metadata": {},
   "outputs": [],
   "source": [
    "start = Time(datetimes[0])\n",
    "end = Time(datetimes[-1])\n",
    "df = await client.select_time_series('lsst.sal.DSM.domeSeeing', '*', start.tai, end.tai, 1)\n",
    "df_w = await client.select_time_series('lsst.sal.Environment.windSpeed', '*', start.tai, end.tai, 1)"
   ]
  },
  {
   "cell_type": "code",
   "execution_count": null,
   "metadata": {},
   "outputs": [],
   "source": [
    "source = ColumnDataSource(df)\n",
    "source_w = ColumnDataSource(df_w)\n",
    "dt_format = '%F %T'\n",
    "formats = {'days': dt_format, 'months': dt_format, 'hours': dt_format, 'minutes': dt_format}\n",
    "tick_rotation = 75. * np.pi / 180.\n",
    "\n",
    "s1 = figure(title = \"Centroids\")\n",
    "cx = s1.line(x='index', y='centroidX', source=source, line_color='blue', line_width=2)\n",
    "cy = s1.line(x='index', y='centroidY', source=source, line_color='black', line_width=2)\n",
    "s1.xaxis.formatter = DatetimeTickFormatter(**formats)\n",
    "s1.xaxis.major_label_orientation = tick_rotation\n",
    "legend1 = Legend(items=[\n",
    "    (\"X\" , [cx]),\n",
    "    (\"Y\" , [cy]),\n",
    "], location=\"center\")\n",
    "s1.add_layout(legend1, 'right')\n",
    "s1.legend.margin = 0\n",
    "s1.legend.padding = 0\n",
    "s2 = figure(title='Seeing')\n",
    "sx = s2.line(x='index', y='rmsX', source=source, line_color='blue', line_width=2)\n",
    "sy = s2.line(x='index', y='rmsY', source=source, line_color='black', line_width=2)\n",
    "s2.xaxis.formatter = DatetimeTickFormatter(**formats)\n",
    "s2.xaxis.major_label_orientation = tick_rotation\n",
    "s2.yaxis.axis_label = 'scaled RMS (arcseconds)'\n",
    "legend2 = Legend(items=[\n",
    "    (\"X\" , [sx]),\n",
    "    (\"Y\" , [sy]),\n",
    "], location=\"center\")\n",
    "s2.add_layout(legend2, 'right')\n",
    "s2.legend.margin = 0\n",
    "s2.legend.padding = 0\n",
    "s3 = figure(title='Wind')\n",
    "s3.line(x='index', y='avg2M', source=df_w, line_width=2)\n",
    "s3.xaxis.formatter = DatetimeTickFormatter(**formats)\n",
    "s3.xaxis.major_label_orientation = tick_rotation\n",
    "s3.yaxis.axis_label = 'speed (m/s)'\n",
    "s4 = figure(title='Flux')\n",
    "s4.line(x='index', y='flux', source=df, line_width=2)\n",
    "s4.xaxis.formatter = DatetimeTickFormatter(**formats)\n",
    "s4.xaxis.major_label_orientation = tick_rotation\n",
    "s5 = figure(title='Max ADC')\n",
    "s5.line(x='index', y='maxADC', source=df, line_width=2)\n",
    "s5.xaxis.formatter = DatetimeTickFormatter(**formats)\n",
    "s5.xaxis.major_label_orientation = tick_rotation\n",
    "s6 = figure(title='FWHM')\n",
    "s6.line(x='index', y='fwhm', source=df, line_width=2)\n",
    "s6.xaxis.formatter = DatetimeTickFormatter(**formats)\n",
    "s6.xaxis.major_label_orientation = tick_rotation\n",
    "s6.yaxis.axis_label = '(pixels)'\n",
    "grid = gridplot([[s1, s2, s3], [s4, s5, s6]], plot_width=300, plot_height=300)\n",
    "show(grid)"
   ]
  },
  {
   "cell_type": "code",
   "execution_count": null,
   "metadata": {},
   "outputs": [],
   "source": []
  }
 ],
 "metadata": {
  "kernelspec": {
   "display_name": "Python 3",
   "language": "python",
   "name": "python3"
  },
  "language_info": {
   "codemirror_mode": {
    "name": "ipython",
    "version": 3
   },
   "file_extension": ".py",
   "mimetype": "text/x-python",
   "name": "python",
   "nbconvert_exporter": "python",
   "pygments_lexer": "ipython3",
   "version": "3.7.6"
  }
 },
 "nbformat": 4,
 "nbformat_minor": 2
}
