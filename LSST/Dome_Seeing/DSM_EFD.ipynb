{
 "cells": [
  {
   "cell_type": "code",
   "execution_count": null,
   "metadata": {},
   "outputs": [],
   "source": [
    "import asyncio\n",
    "from datetime import datetime\n",
    "import os\n",
    "\n",
    "from astropy.time import Time\n",
    "from bokeh.models import DatetimeTickFormatter\n",
    "import holoviews as hv\n",
    "from holoviews import opts\n",
    "hv.extension('bokeh', logo=False)\n",
    "import numpy as np\n",
    "import pandas as pd\n",
    "import tables as tb\n",
    "\n",
    "from lsst_efd_client import EfdClient"
   ]
  },
  {
   "cell_type": "code",
   "execution_count": null,
   "metadata": {},
   "outputs": [],
   "source": [
    "ipath = os.path.expanduser(\"~/Dropbox_LSST/Dome_Seeing_Monitor/DSM_Data/20200128\")\n",
    "date_str = \"20200129_010709\""
   ]
  },
  {
   "cell_type": "code",
   "execution_count": null,
   "metadata": {},
   "outputs": [],
   "source": [
    "ifname_psd = os.path.join(ipath, f\"smm_psd_{date_str}.h5\")\n",
    "\n",
    "# Get data keys from file\n",
    "psd_h5 = tb.open_file(ifname_psd)\n",
    "glist = psd_h5.root._f_list_nodes(classname=\"Group\")\n",
    "keys = [k._v_name for k in glist]"
   ]
  },
  {
   "cell_type": "code",
   "execution_count": null,
   "metadata": {},
   "outputs": [],
   "source": [
    "datetimes = []\n",
    "for key in keys:\n",
    "    datetimes.append(datetime.strptime(key.replace('DT_', ''), '%Y%m%d_%H%M%S'))\n",
    "datetimes = datetimes[2:-3]"
   ]
  },
  {
   "cell_type": "code",
   "execution_count": null,
   "metadata": {},
   "outputs": [],
   "source": [
    "client = EfdClient('summit_efd')"
   ]
  },
  {
   "cell_type": "code",
   "execution_count": null,
   "metadata": {},
   "outputs": [],
   "source": [
    "start = Time(datetimes[0])\n",
    "end = Time(datetimes[-1])\n",
    "df = await client.select_time_series('lsst.sal.DSM.domeSeeing', '*', start.tai, end.tai, 1)\n",
    "df_w = await client.select_time_series('lsst.sal.Environment.windSpeed', '*', start.tai, end.tai, 1)"
   ]
  },
  {
   "cell_type": "code",
   "execution_count": null,
   "metadata": {},
   "outputs": [],
   "source": [
    "src = hv.Table(df.reset_index())\n",
    "src_w = hv.Table(df_w.reset_index())\n",
    "dt_format = '%F %T'\n",
    "formats = {'days': dt_format, 'months': dt_format, 'hours': dt_format, 'minutes': dt_format}\n",
    "tick_rotation = 75"
   ]
  },
  {
   "cell_type": "code",
   "execution_count": null,
   "metadata": {},
   "outputs": [],
   "source": [
    "x_tuple = ('index', 'Date')\n",
    "full_width = 350\n",
    "end_col_size = full_width - 75\n",
    "date_formatter = DatetimeTickFormatter(**formats)\n",
    "\n",
    "cx = hv.Curve(src, x_tuple, ('centroidX', 'X'), label='X')\n",
    "cy = hv.Curve(src, x_tuple, ('centroidY', 'Y'), label='Y')\n",
    "centroids = (cx * cy).opts(ylabel='Pixel Position', title='Centroids', width=full_width)\n",
    "sx = hv.Curve(src, x_tuple, ('rmsX', 'X'), label='X')\n",
    "sy = hv.Curve(src, x_tuple, ('rmsY', 'Y'), label='Y')\n",
    "seeing = (sx * sy).opts(ylabel='scaled RMS (arcsec)', title='Seeing', width=full_width)\n",
    "wind = hv.Curve(src_w, x_tuple, ('avg2M', 'Speed (m/s)'), label='Wind').opts(width=end_col_size)\n",
    "flux = hv.Curve(src, x_tuple, ('flux', 'Flux'), label='Flux').opts(ylabel='')\n",
    "max_adc = hv.Curve(src, x_tuple, ('maxADC', 'Max ADC'), label='Max ADC').opts(ylabel='')\n",
    "fwhm = hv.Curve(src, x_tuple, ('fwhm', '(pixels)'), label='FWHM').opts(width=end_col_size)"
   ]
  },
  {
   "cell_type": "code",
   "execution_count": null,
   "metadata": {},
   "outputs": [],
   "source": [
    "layout = (centroids + seeing + wind + flux + max_adc + fwhm).cols(3)\n",
    "layout.opts(opts.Layout(toolbar='above'),\n",
    "            opts.Overlay(legend_position='right'),\n",
    "            opts.Curve(xformatter=date_formatter, xrotation=tick_rotation, height=400))"
   ]
  }
 ],
 "metadata": {
  "kernelspec": {
   "display_name": "Python 3",
   "language": "python",
   "name": "python3"
  },
  "language_info": {
   "codemirror_mode": {
    "name": "ipython",
    "version": 3
   },
   "file_extension": ".py",
   "mimetype": "text/x-python",
   "name": "python",
   "nbconvert_exporter": "python",
   "pygments_lexer": "ipython3",
   "version": "3.7.6"
  }
 },
 "nbformat": 4,
 "nbformat_minor": 2
}
