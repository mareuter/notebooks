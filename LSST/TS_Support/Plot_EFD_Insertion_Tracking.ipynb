{
 "cells": [
  {
   "cell_type": "code",
   "execution_count": null,
   "metadata": {},
   "outputs": [],
   "source": [
    "from datetime import timedelta\n",
    "\n",
    "import holoviews as hv\n",
    "from holoviews import opts\n",
    "hv.extension('bokeh')\n",
    "import pandas as pd\n",
    "\n",
    "%matplotlib inline"
   ]
  },
  {
   "cell_type": "code",
   "execution_count": null,
   "metadata": {},
   "outputs": [],
   "source": [
    "def read_data(filename):\n",
    "    df = pd.read_csv(filename, index_col=0, parse_dates=True)\n",
    "    return df.shift(7, timedelta(hours=-1))"
   ]
  },
  {
   "cell_type": "code",
   "execution_count": null,
   "metadata": {},
   "outputs": [],
   "source": [
    "df1 = read_data('M1M3_EFD_HardpointData_Insertion_Tracking.csv')\n",
    "df2 = read_data('M1M3TS_EFD_ThermalData_Insertion_Tracking.csv')"
   ]
  },
  {
   "cell_type": "code",
   "execution_count": null,
   "metadata": {},
   "outputs": [],
   "source": [
    "hardpoint_em = hv.Curve(df1, 'Timestamps', 'Expected Messages')\n",
    "hardpoint_rm = hv.Curve(df1, 'Timestamps', 'Received Messages')\n",
    "thermal_em = hv.Curve(df2, 'Timestamps', 'Expected Messages')\n",
    "thermal_rm = hv.Curve(df2, 'Timestamps', 'Received Messages')"
   ]
  },
  {
   "cell_type": "code",
   "execution_count": null,
   "metadata": {},
   "outputs": [],
   "source": [
    "hardpoint_ol = hardpoint_em * hardpoint_rm\n",
    "hardpoint_ol.opts(hv.opts.Overlay(title='Hardpoint Data'))\n",
    "thermal_ol = thermal_em * thermal_rm\n",
    "thermal_ol.opts(hv.opts.Overlay(title='Thermal Data'))\n",
    "layout = (hardpoint_ol + thermal_ol).cols(1)\n",
    "layout.opts(hv.opts.Curve(axiswise=True, height=250, width=800, padding=(0.02, 0.025)),\n",
    "            hv.opts.Overlay(ylabel='Messages'))"
   ]
  },
  {
   "cell_type": "code",
   "execution_count": null,
   "metadata": {},
   "outputs": [],
   "source": [
    "hv.save(layout, 'EFD_messages.png', backend='bokeh')"
   ]
  },
  {
   "cell_type": "code",
   "execution_count": null,
   "metadata": {},
   "outputs": [],
   "source": [
    "hardpoint_pl = hv.Curve(df1, 'Timestamps', 'Percent Loss', label='Hardpoint')\n",
    "thermal_data_pl = hv.Curve(df2, 'Timestamps', 'Percent Loss', label='Thermal')\n",
    "layout = thermal_data_pl * hardpoint_pl\n",
    "layout.opts(hv.opts.Curve(height=250, width=800, padding=(0.02, 0.025)))"
   ]
  },
  {
   "cell_type": "code",
   "execution_count": null,
   "metadata": {},
   "outputs": [],
   "source": [
    "hv.save(layout, 'EFD_messages_percent_loss.png', backend='bokeh')"
   ]
  },
  {
   "cell_type": "code",
   "execution_count": null,
   "metadata": {},
   "outputs": [],
   "source": []
  }
 ],
 "metadata": {
  "kernelspec": {
   "display_name": "Python 3",
   "language": "python",
   "name": "python3"
  },
  "language_info": {
   "codemirror_mode": {
    "name": "ipython",
    "version": 3
   },
   "file_extension": ".py",
   "mimetype": "text/x-python",
   "name": "python",
   "nbconvert_exporter": "python",
   "pygments_lexer": "ipython3",
   "version": "3.6.8"
  }
 },
 "nbformat": 4,
 "nbformat_minor": 2
}
