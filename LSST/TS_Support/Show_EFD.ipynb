{
 "cells": [
  {
   "cell_type": "code",
   "execution_count": null,
   "metadata": {},
   "outputs": [],
   "source": [
    "from datetime import datetime\n",
    "import os\n",
    "\n",
    "import matplotlib.pyplot as plt\n",
    "import numpy as np\n",
    "import pandas as pd\n",
    "\n",
    "import db\n",
    "\n",
    "%matplotlib inline"
   ]
  },
  {
   "cell_type": "code",
   "execution_count": null,
   "metadata": {},
   "outputs": [],
   "source": [
    "engine = db.get_engine()"
   ]
  },
  {
   "cell_type": "code",
   "execution_count": null,
   "metadata": {},
   "outputs": [],
   "source": [
    "tables = pd.read_sql_query('show tables', engine)\n",
    "for table in tables['Tables_in_EFD']:\n",
    "    if table.startswith('m1m3'):\n",
    "        print(table)"
   ]
  },
  {
   "cell_type": "code",
   "execution_count": null,
   "metadata": {},
   "outputs": [],
   "source": [
    "table_name = 'm1m3_HardpointActuatorData'\n",
    "#descr = pd.read_sql_query('describe {}'.format(table_name), engine)"
   ]
  },
  {
   "cell_type": "code",
   "execution_count": null,
   "metadata": {},
   "outputs": [],
   "source": [
    "b1 = datetime(2019, 1, 8, 18, 10, 0)\n",
    "b2 = datetime(2019, 1, 8, 18, 14, 0)"
   ]
  },
  {
   "cell_type": "code",
   "execution_count": null,
   "metadata": {},
   "outputs": [],
   "source": [
    "query = 'select * from {0} where {0}.date_time between \\'{1}\\' and \\'{2}\\';'.format(table_name, b1, b2)\n",
    "print(query)"
   ]
  },
  {
   "cell_type": "code",
   "execution_count": null,
   "metadata": {},
   "outputs": [],
   "source": [
    "df1 = pd.read_sql_query(query, engine)"
   ]
  },
  {
   "cell_type": "code",
   "execution_count": null,
   "metadata": {},
   "outputs": [],
   "source": [
    "fig, ax = plt.subplots(3, sharex=True)\n",
    "fig.suptitle('Mirror Lift Jan 8, 2019')\n",
    "ax[2].plot(df1['date_time'], df1['ZPosition'], color='r')\n",
    "ax[2].set_ylabel('Z Position')\n",
    "ax[2].grid()\n",
    "ax[1].plot(df1['date_time'], df1['YPosition'], color='b')\n",
    "ax[1].set_ylabel('Y Position')\n",
    "ax[1].grid()\n",
    "ax[0].plot(df1['date_time'], df1['XPosition'], color='g')\n",
    "ax[0].set_ylabel('X Position')\n",
    "ax[0].grid()\n",
    "fig.subplots_adjust(hspace=0)\n",
    "#ax[2].xaxis.tick_params(labelrotation=45)\n",
    "plt.setp(ax[2].xaxis.get_majorticklabels(), rotation=45)"
   ]
  },
  {
   "cell_type": "code",
   "execution_count": null,
   "metadata": {},
   "outputs": [],
   "source": [
    "#df1.columns"
   ]
  },
  {
   "cell_type": "code",
   "execution_count": null,
   "metadata": {},
   "outputs": [],
   "source": [
    "fig1, ax1 = plt.subplots(3, sharex=True)\n",
    "fig1.suptitle('Mirror Lift Jan 8, 2019')\n",
    "ax1[2].plot(df1['date_time'], df1['ZRotation'], color='r')\n",
    "ax1[2].set_ylabel('Z Rotation')\n",
    "ax1[2].grid()\n",
    "ax1[1].plot(df1['date_time'], df1['YRotation'], color='b')\n",
    "ax1[1].set_ylabel('Y Rotation')\n",
    "ax1[1].grid()\n",
    "ax1[0].plot(df1['date_time'], df1['XRotation'], color='g')\n",
    "ax1[0].set_ylabel('X Rotation')\n",
    "ax1[0].grid()\n",
    "fig1.subplots_adjust(hspace=0)\n",
    "#ax1[2].xaxis.tick_params(labelrotation=45)\n",
    "plt.setp(ax1[2].xaxis.get_majorticklabels(), rotation=45)"
   ]
  },
  {
   "cell_type": "code",
   "execution_count": null,
   "metadata": {},
   "outputs": [],
   "source": [
    "fig2, ax2 = plt.subplots(3, sharex=True)\n",
    "fig2.suptitle('Mirror Lift Jan 8, 2019')\n",
    "ax2[2].plot(df1['date_time'], df1['Fz'], color='r')\n",
    "ax2[2].set_ylabel('Fz')\n",
    "ax2[2].grid()\n",
    "ax2[1].plot(df1['date_time'], df1['Fy'], color='b')\n",
    "ax2[1].set_ylabel('Fy')\n",
    "ax2[1].grid()\n",
    "ax2[0].plot(df1['date_time'], df1['Fx'], color='g')\n",
    "ax2[0].set_ylabel('Fx')\n",
    "ax2[0].grid()\n",
    "fig2.subplots_adjust(hspace=0)\n",
    "#ax2[2].xaxis.tick_params(labelrotation=45)\n",
    "plt.setp(ax2[2].xaxis.get_majorticklabels(), rotation=45)"
   ]
  },
  {
   "cell_type": "code",
   "execution_count": null,
   "metadata": {},
   "outputs": [],
   "source": [
    "fig3, ax3 = plt.subplots(3, sharex=True)\n",
    "fig3.suptitle('Mirror Lift Jan 8, 2019')\n",
    "ax3[2].plot(df1['date_time'], df1['Mz'], color='r')\n",
    "ax3[2].set_ylabel('Mz')\n",
    "ax3[2].grid()\n",
    "ax3[1].plot(df1['date_time'], df1['My'], color='b')\n",
    "ax3[1].set_ylabel('My')\n",
    "ax3[1].grid()\n",
    "ax3[0].plot(df1['date_time'], df1['Mx'], color='g')\n",
    "ax3[0].set_ylabel('Mx')\n",
    "ax3[0].grid()\n",
    "fig3.subplots_adjust(hspace=0)\n",
    "#ax3[2].xaxis.tick_params(labelrotation=45)\n",
    "plt.setp(ax3[2].xaxis.get_majorticklabels(), rotation=45)"
   ]
  },
  {
   "cell_type": "code",
   "execution_count": null,
   "metadata": {},
   "outputs": [],
   "source": [
    "df1.columns"
   ]
  },
  {
   "cell_type": "code",
   "execution_count": null,
   "metadata": {},
   "outputs": [],
   "source": [
    "plt.plot(df1['date_time'], df1['ForceMagnitude'])"
   ]
  },
  {
   "cell_type": "code",
   "execution_count": null,
   "metadata": {},
   "outputs": [],
   "source": [
    "plt.plot(df1['date_time'], df1['Displacement_1'], label='Disp1')\n",
    "plt.plot(df1['date_time'], df1['Displacement_2'], label='Disp2')\n",
    "plt.plot(df1['date_time'], df1['Displacement_3'], label='Disp3')\n",
    "plt.plot(df1['date_time'], df1['Displacement_4'], label='Disp4')\n",
    "plt.plot(df1['date_time'], df1['Displacement_5'], label='Disp5')\n",
    "plt.plot(df1['date_time'], df1['Displacement_6'], label='Disp6')\n",
    "plt.legend()"
   ]
  },
  {
   "cell_type": "code",
   "execution_count": null,
   "metadata": {},
   "outputs": [],
   "source": [
    "plt.plot(df1['date_time'], df1['MeasuredForce_1'], label='MF1')\n",
    "plt.plot(df1['date_time'], df1['MeasuredForce_2'], label='MF2')\n",
    "plt.plot(df1['date_time'], df1['MeasuredForce_3'], label='MF3')\n",
    "plt.plot(df1['date_time'], df1['MeasuredForce_4'], label='MF4')\n",
    "plt.plot(df1['date_time'], df1['MeasuredForce_5'], label='MF5')\n",
    "plt.plot(df1['date_time'], df1['MeasuredForce_6'], label='MF6')\n",
    "plt.legend()"
   ]
  },
  {
   "cell_type": "code",
   "execution_count": null,
   "metadata": {},
   "outputs": [],
   "source": [
    "timestamps = df1['private_sndStamp'].values\n",
    "delta_time = timestamps[1:] - timestamps[:-1]"
   ]
  },
  {
   "cell_type": "code",
   "execution_count": null,
   "metadata": {},
   "outputs": [],
   "source": [
    "np.mean(delta_time)"
   ]
  },
  {
   "cell_type": "code",
   "execution_count": null,
   "metadata": {},
   "outputs": [],
   "source": [
    "plt.hist(delta_time, bins=100)\n",
    "plt.yscale('log')"
   ]
  },
  {
   "cell_type": "code",
   "execution_count": null,
   "metadata": {},
   "outputs": [],
   "source": []
  }
 ],
 "metadata": {
  "kernelspec": {
   "display_name": "Python 3",
   "language": "python",
   "name": "python3"
  },
  "language_info": {
   "codemirror_mode": {
    "name": "ipython",
    "version": 3
   },
   "file_extension": ".py",
   "mimetype": "text/x-python",
   "name": "python",
   "nbconvert_exporter": "python",
   "pygments_lexer": "ipython3",
   "version": "3.6.8"
  }
 },
 "nbformat": 4,
 "nbformat_minor": 2
}
