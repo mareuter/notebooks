{
 "cells": [
  {
   "cell_type": "code",
   "execution_count": null,
   "metadata": {},
   "outputs": [],
   "source": [
    "import os\n",
    "\n",
    "from astropy.time import Time, TimeDelta\n",
    "import numpy as np\n",
    "import pandas as pd\n",
    "\n",
    "from lsst_efd_client import EfdClient"
   ]
  },
  {
   "cell_type": "code",
   "execution_count": null,
   "metadata": {},
   "outputs": [],
   "source": [
    "client = EfdClient(\"ncsa_teststand_efd\")"
   ]
  },
  {
   "cell_type": "code",
   "execution_count": null,
   "metadata": {},
   "outputs": [],
   "source": [
    "info = {}\n",
    "info['table_name'] = 'lsst.sal.MTM1M3.hardpointActuatorData'\n",
    "info['expected_rate'] = 50  # Hz\n",
    "info['output_file'] = 'M1M3_EFD_HardpointData_Insertion_Tracking.csv'"
   ]
  },
  {
   "cell_type": "code",
   "execution_count": null,
   "metadata": {},
   "outputs": [],
   "source": [
    "time_increment = TimeDelta(600, format='sec', scale='tai')\n",
    "base_time = Time(\"2020-05-30T00:00:00\", scale='tai')\n",
    "now = Time(\"2020-06-01T12:00:00\", scale='tai')\n",
    "\n",
    "timestamp_arr = []\n",
    "expected_messages_arr = []\n",
    "received_messages_arr = []\n",
    "percent_loss_arr = []\n",
    "inc = 0\n",
    "while base_time < now:\n",
    "    #if inc % 5 == 0:\n",
    "    print(base_time)\n",
    "    \n",
    "    df1 = await client.select_time_series(info['table_name'], '*', base_time, time_increment, is_window=True)\n",
    "    \n",
    "    expected_num_messages = round(time_increment.sec) * info['expected_rate']\n",
    "    num_received_messages = df1.shape[0]\n",
    "    delta_messages = expected_num_messages - num_received_messages\n",
    "    percent_loss = (delta_messages / expected_num_messages) * 100\n",
    "    \n",
    "    timestamp_arr.append(base_time)\n",
    "    expected_messages_arr.append(expected_num_messages)\n",
    "    received_messages_arr.append(num_received_messages)\n",
    "    percent_loss_arr.append(percent_loss)\n",
    "    \n",
    "    base_time += time_increment\n",
    "    inc += 1\n",
    "print(\"Next Time Start:\", base_time)"
   ]
  },
  {
   "cell_type": "code",
   "execution_count": null,
   "metadata": {},
   "outputs": [],
   "source": [
    "timestamps = np.array(timestamp_arr)\n",
    "expected_messages = np.array(expected_messages_arr)\n",
    "received_messages = np.array(received_messages_arr)\n",
    "percent_loss = np.array(percent_loss_arr)"
   ]
  },
  {
   "cell_type": "code",
   "execution_count": null,
   "metadata": {},
   "outputs": [],
   "source": [
    "output_df = pd.DataFrame({\"Expected Messages\": expected_messages, \n",
    "                          \"Received Messages\": received_messages, \n",
    "                          \"Percent Loss\": percent_loss}, index=timestamps)"
   ]
  },
  {
   "cell_type": "code",
   "execution_count": null,
   "metadata": {},
   "outputs": [],
   "source": [
    "output_file = info['output_file']\n",
    "header = not os.path.exists(output_file)\n",
    "output_df.to_csv(output_file, mode='a+', index_label=\"Timestamps\",\n",
    "                 float_format='%0.4f', header=header)"
   ]
  }
 ],
 "metadata": {
  "kernelspec": {
   "display_name": "LSST",
   "language": "python",
   "name": "lsst"
  },
  "language_info": {
   "codemirror_mode": {
    "name": "ipython",
    "version": 3
   },
   "file_extension": ".py",
   "mimetype": "text/x-python",
   "name": "python",
   "nbconvert_exporter": "python",
   "pygments_lexer": "ipython3",
   "version": "3.7.6"
  }
 },
 "nbformat": 4,
 "nbformat_minor": 4
}
