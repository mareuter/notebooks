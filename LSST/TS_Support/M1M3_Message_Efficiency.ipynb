{
 "cells": [
  {
   "cell_type": "code",
   "execution_count": null,
   "metadata": {},
   "outputs": [],
   "source": [
    "from datetime import datetime, timedelta\n",
    "import os\n",
    "\n",
    "import numpy as np\n",
    "import pandas as pd\n",
    "\n",
    "import db"
   ]
  },
  {
   "cell_type": "code",
   "execution_count": null,
   "metadata": {},
   "outputs": [],
   "source": [
    "engine = db.get_engine()"
   ]
  },
  {
   "cell_type": "code",
   "execution_count": null,
   "metadata": {},
   "outputs": [],
   "source": [
    "info = {}\n",
    "info['table_name'] = 'm1m3_HardpointActuatorData'\n",
    "info['expected_rate'] = 50  # Hz\n",
    "info['output_file'] = 'M1M3_EFD_HardpointData_Insertion_Tracking.csv'\n",
    "#info['table_name'] = 'MTM1M3TS_thermalData'\n",
    "#info['expected_rate'] = 1 / 60  # Hz, once per minute\n",
    "#info['output_file'] = 'M1M3TS_EFD_ThermalData_Insertion_Tracking.csv'\n",
    "half_time_window = timedelta(minutes=5)\n",
    "time_increment = timedelta(minutes=10)\n",
    "query_base = 'select date_time from {0} where {0}.date_time between \\'{1}\\' and \\'{2}\\';'"
   ]
  },
  {
   "cell_type": "code",
   "execution_count": null,
   "metadata": {},
   "outputs": [],
   "source": [
    "base_time = datetime(2019, 1, 11, 7, 0, 0)\n",
    "now = datetime.utcnow()\n",
    "timestamp_arr = []\n",
    "expected_messages_arr = []\n",
    "received_messages_arr = []\n",
    "percent_loss_arr = []\n",
    "inc = 0\n",
    "while base_time < now:\n",
    "    if inc % 5 == 0:\n",
    "        print(base_time)\n",
    "    d1 = base_time - half_time_window\n",
    "    d2 = base_time + half_time_window\n",
    "    query = query_base.format(info['table_name'], d1, d2)\n",
    "    #print(query)\n",
    "    \n",
    "    df1 = pd.read_sql_query(query, engine)\n",
    "    \n",
    "    dt = d2 - d1\n",
    "    expected_num_messages = dt.seconds * info['expected_rate']\n",
    "    num_received_messages = df1.shape[0]\n",
    "    delta_messages = expected_num_messages - num_received_messages\n",
    "    percent_loss = (delta_messages / expected_num_messages) * 100\n",
    "    \n",
    "    timestamp_arr.append(base_time)\n",
    "    expected_messages_arr.append(expected_num_messages)\n",
    "    received_messages_arr.append(num_received_messages)\n",
    "    percent_loss_arr.append(percent_loss)\n",
    "    \n",
    "    base_time += time_increment\n",
    "    inc += 1\n",
    "print(\"Next Time Start:\", base_time)"
   ]
  },
  {
   "cell_type": "code",
   "execution_count": null,
   "metadata": {},
   "outputs": [],
   "source": [
    "timestamps = np.array(timestamp_arr)\n",
    "expected_messages = np.array(expected_messages_arr)\n",
    "received_messages = np.array(received_messages_arr)\n",
    "percent_loss = np.array(percent_loss_arr)"
   ]
  },
  {
   "cell_type": "code",
   "execution_count": null,
   "metadata": {},
   "outputs": [],
   "source": [
    "output_df = pd.DataFrame({\"Expected Messages\": expected_messages, \n",
    "                          \"Received Messages\": received_messages, \n",
    "                          \"Percent Loss\": percent_loss}, index=timestamps)"
   ]
  },
  {
   "cell_type": "code",
   "execution_count": null,
   "metadata": {},
   "outputs": [],
   "source": [
    "output_file = info['output_file']\n",
    "header = not os.path.exists(output_file)\n",
    "output_df.to_csv(output_file, mode='a+', index_label=\"Timestamps\",\n",
    "                 float_format='%0.4f', header=header)"
   ]
  },
  {
   "cell_type": "code",
   "execution_count": null,
   "metadata": {},
   "outputs": [],
   "source": []
  }
 ],
 "metadata": {
  "kernelspec": {
   "display_name": "Python 3",
   "language": "python",
   "name": "python3"
  },
  "language_info": {
   "codemirror_mode": {
    "name": "ipython",
    "version": 3
   },
   "file_extension": ".py",
   "mimetype": "text/x-python",
   "name": "python",
   "nbconvert_exporter": "python",
   "pygments_lexer": "ipython3",
   "version": "3.6.8"
  }
 },
 "nbformat": 4,
 "nbformat_minor": 2
}
