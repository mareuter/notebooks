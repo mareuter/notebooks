{
 "cells": [
  {
   "cell_type": "code",
   "execution_count": 9,
   "metadata": {},
   "outputs": [],
   "source": [
    "from datetime import datetime\n",
    "import os\n",
    "\n",
    "import matplotlib.pyplot as plt\n",
    "import numpy as np\n",
    "import pandas as pd\n",
    "\n",
    "import db\n",
    "\n",
    "%matplotlib inline"
   ]
  },
  {
   "cell_type": "code",
   "execution_count": 26,
   "metadata": {},
   "outputs": [],
   "source": [
    "table_name = 'm1m3_HardpointActuatorData'\n",
    "expected_rate = 50  # Hz"
   ]
  },
  {
   "cell_type": "code",
   "execution_count": 27,
   "metadata": {},
   "outputs": [],
   "source": [
    "def make_delta_time(df_col, dtype=None):\n",
    "    ts = df_col.values\n",
    "    dt = ts[1:] - ts[:-1]\n",
    "    if dtype is None:\n",
    "        return ts, dt\n",
    "    else:\n",
    "        return ts.astype(dtype), dt.astype(dtype)"
   ]
  },
  {
   "cell_type": "code",
   "execution_count": 35,
   "metadata": {},
   "outputs": [],
   "source": [
    "#engine = db.get_engine1()\n",
    "engine = db.get_engine2()"
   ]
  },
  {
   "cell_type": "code",
   "execution_count": 36,
   "metadata": {},
   "outputs": [],
   "source": [
    "#b1 = datetime(2019, 1, 20, 10, 55, 0)\n",
    "#b2 = datetime(2019, 1, 20, 11, 5, 0)\n",
    "b1 = datetime(2019, 2, 13, 17, 55, 0)\n",
    "b2 = datetime(2019, 2, 13, 18, 5, 0)\n",
    "dt = b2 - b1\n",
    "expected_num_messages = dt.seconds * expected_rate"
   ]
  },
  {
   "cell_type": "code",
   "execution_count": 47,
   "metadata": {},
   "outputs": [
    {
     "name": "stdout",
     "output_type": "stream",
     "text": [
      "select date_time,private_sndStamp,private_rcvStamp from m1m3_HardpointActuatorData where m1m3_HardpointActuatorData.private_sndStamp between '1550105700.0' and '1550106300.0';\n"
     ]
    }
   ],
   "source": [
    "query = 'select date_time,private_sndStamp,private_rcvStamp from {0} where {0}.private_sndStamp between \\'{1}\\' and \\'{2}\\';'.format(table_name, b1.timestamp(), b2.timestamp())\n",
    "print(query)"
   ]
  },
  {
   "cell_type": "code",
   "execution_count": 38,
   "metadata": {},
   "outputs": [],
   "source": [
    "df1 = pd.read_sql_query(query, engine)"
   ]
  },
  {
   "cell_type": "code",
   "execution_count": 39,
   "metadata": {},
   "outputs": [
    {
     "name": "stdout",
     "output_type": "stream",
     "text": [
      "Expected 30000 messages, got 26422 messages, missing 3578 messages\n"
     ]
    }
   ],
   "source": [
    "delta_messages = expected_num_messages - df1.shape[0]\n",
    "print('Expected {} messages, got {} messages, missing {} messages'.format(expected_num_messages, df1.shape[0], delta_messages))"
   ]
  },
  {
   "cell_type": "code",
   "execution_count": 40,
   "metadata": {},
   "outputs": [
    {
     "name": "stdout",
     "output_type": "stream",
     "text": [
      "1550080559.1105229855\t1550080639.8959629536\t1550080559.1104578972\n",
      "1550080559.1400210857\t1550080639.9158871174\t1550080559.1399800777\n",
      "1550080559.1635241508\t1550080639.9359049797\t1550080559.1634728909\n",
      "1550080559.1828889847\t1550080639.9559750557\t1550080559.1828451157\n",
      "1550080559.2057521343\t1550080639.9759159088\t1550080559.2057049274\n",
      "1550080559.2268128395\t1550080639.9958419800\t1550080559.2267680168\n",
      "1550080559.2492790222\t1550080640.0158529282\t1550080559.2492320538\n",
      "1550080559.2724962234\t1550080640.0560851097\t1550080559.2724499702\n",
      "1550080559.2940909863\t1550080640.0758969784\t1550080559.2940499783\n",
      "1550080559.3103489876\t1550080640.0958540440\t1550080559.3103070259\n",
      "[80.78543997 80.77586603 80.77238083 80.77308607 80.77016377]\n"
     ]
    }
   ],
   "source": [
    "insert_times = df1['date_time'].values\n",
    "send_times = df1['private_sndStamp'].values\n",
    "recv_times = df1['private_rcvStamp'].values\n",
    "for i in range(10):\n",
    "    print(\"{:.10f}\\t{:.10f}\\t{:.10f}\".format(float(insert_times[i])/1e9, send_times[i], recv_times[i]))\n",
    "\n",
    "print(send_times[:5] - insert_times[:5].astype('float')/1e9)"
   ]
  },
  {
   "cell_type": "code",
   "execution_count": 41,
   "metadata": {},
   "outputs": [],
   "source": [
    "insert_time, dt_insert_ns = make_delta_time(df1['date_time'], dtype=np.int64)\n",
    "dt_insert = dt_insert_ns / 1e9\n",
    "send_time, dt_send = make_delta_time(df1['private_sndStamp'])\n",
    "recv_time, dt_recv = make_delta_time(df1['private_rcvStamp'])"
   ]
  },
  {
   "cell_type": "code",
   "execution_count": 42,
   "metadata": {},
   "outputs": [
    {
     "data": {
      "image/png": "[encoded data removed]",
      "text/plain": [
       "<Figure size 720x360 with 3 Axes>"
      ]
     },
     "metadata": {},
     "output_type": "display_data"
    }
   ],
   "source": [
    "fig, ax = plt.subplots(1, 3, figsize=(10, 5))\n",
    "ax[0].hist(dt_send, bins=100)\n",
    "ax[0].set_title('Send Time')\n",
    "ax[0].set_xlabel('$\\Delta T$ (s)')\n",
    "ax[0].set_yscale('log')\n",
    "ax[1].hist(dt_recv, bins=100)\n",
    "ax[1].set_title('Receive Time')\n",
    "ax[1].set_xlabel('$\\Delta T$ (s)')\n",
    "ax[1].set_yscale('log')\n",
    "ax[2].hist(dt_insert, bins=100)\n",
    "ax[2].set_title('Insert Time')\n",
    "ax[2].set_xlabel('$\\Delta T$ (s)')\n",
    "ax[2].set_yscale('log')\n",
    "fig.subplots_adjust(wspace=0.2)"
   ]
  },
  {
   "cell_type": "code",
   "execution_count": 43,
   "metadata": {},
   "outputs": [
    {
     "data": {
      "text/plain": [
       "Text(0,0.5,'$\\\\Delta$ Receive Time')"
      ]
     },
     "execution_count": 43,
     "metadata": {},
     "output_type": "execute_result"
    },
    {
     "data": {
      "image/png": "[encoded data removed]",
      "text/plain": [
       "<Figure size 432x288 with 1 Axes>"
      ]
     },
     "metadata": {},
     "output_type": "display_data"
    }
   ],
   "source": [
    "plt.scatter(dt_send, dt_recv)\n",
    "plt.xlabel(\"$\\Delta$ Send Time\")\n",
    "plt.ylabel('$\\Delta$ Receive Time')"
   ]
  },
  {
   "cell_type": "code",
   "execution_count": 44,
   "metadata": {},
   "outputs": [],
   "source": [
    "neg_time = dt_send < 0\n",
    "orig_time = (send_time[:-1][neg_time]).astype('datetime64[s]')"
   ]
  },
  {
   "cell_type": "code",
   "execution_count": 45,
   "metadata": {},
   "outputs": [
    {
     "data": {
      "text/plain": [
       "array(['2019-02-13T17:57:20', '2019-02-13T17:57:20',\n",
       "       '2019-02-13T17:57:21', ..., '2019-02-13T18:06:20',\n",
       "       '2019-02-13T18:06:20', '2019-02-13T18:06:20'],\n",
       "      dtype='datetime64[s]')"
      ]
     },
     "execution_count": 45,
     "metadata": {},
     "output_type": "execute_result"
    }
   ],
   "source": [
    "orig_time"
   ]
  },
  {
   "cell_type": "code",
   "execution_count": null,
   "metadata": {},
   "outputs": [],
   "source": [
    "long_time = dt_send > 0.03"
   ]
  },
  {
   "cell_type": "code",
   "execution_count": null,
   "metadata": {},
   "outputs": [],
   "source": [
    "orig_ts = (send_time[:-1][long_time]).astype('datetime64[s]')"
   ]
  },
  {
   "cell_type": "code",
   "execution_count": null,
   "metadata": {},
   "outputs": [],
   "source": [
    "orig_ts"
   ]
  },
  {
   "cell_type": "code",
   "execution_count": null,
   "metadata": {},
   "outputs": [],
   "source": [
    "print(send_time.dtype)\n",
    "indexes = np.where(dt_send > 0.03)\n",
    "#print(indexes[0])\n",
    "print((send_time[:-1][indexes] * 1e9).astype('datetime64[ns]'))\n",
    "next_indexes = indexes[0] + 1\n",
    "print((send_time[:-1][next_indexes] * 1e9).astype('datetime64[ns]'))\n",
    "print(dt_send[indexes])"
   ]
  },
  {
   "cell_type": "code",
   "execution_count": null,
   "metadata": {},
   "outputs": [],
   "source": [
    "insert_time = df1['date_time'].values"
   ]
  },
  {
   "cell_type": "code",
   "execution_count": null,
   "metadata": {},
   "outputs": [],
   "source": [
    "insert_long = insert_time[:-1][long_time]"
   ]
  },
  {
   "cell_type": "code",
   "execution_count": null,
   "metadata": {},
   "outputs": [],
   "source": [
    "insert_long"
   ]
  },
  {
   "cell_type": "code",
   "execution_count": null,
   "metadata": {},
   "outputs": [],
   "source": [
    "datetime.utcfromtimestamp(1547155885.310383)"
   ]
  },
  {
   "cell_type": "code",
   "execution_count": null,
   "metadata": {},
   "outputs": [],
   "source": [
    "(770366976-730547968)/1e9"
   ]
  },
  {
   "cell_type": "code",
   "execution_count": null,
   "metadata": {},
   "outputs": [],
   "source": []
  }
 ],
 "metadata": {
  "kernelspec": {
   "display_name": "Python 3",
   "language": "python",
   "name": "python3"
  },
  "language_info": {
   "codemirror_mode": {
    "name": "ipython",
    "version": 3
   },
   "file_extension": ".py",
   "mimetype": "text/x-python",
   "name": "python",
   "nbconvert_exporter": "python",
   "pygments_lexer": "ipython3",
   "version": "3.6.8"
  }
 },
 "nbformat": 4,
 "nbformat_minor": 2
}
