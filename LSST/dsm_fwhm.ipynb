{
 "cells": [
  {
   "cell_type": "code",
   "execution_count": null,
   "metadata": {},
   "outputs": [],
   "source": [
    "%matplotlib inline\n",
    "\n",
    "import numpy as np\n",
    "import matplotlib.pyplot as plt"
   ]
  },
  {
   "cell_type": "code",
   "execution_count": null,
   "metadata": {},
   "outputs": [],
   "source": [
    "np.random.seed(4000)\n",
    "NX = 50\n",
    "NY = 25\n",
    "x,y = np.meshgrid(np.arange(NX), np.arange(NY))\n",
    "x0 = 30\n",
    "y0 = 15\n",
    "sigma = 5\n",
    "z = 10*np.exp(-((x-x0)**2+(y-y0)**2)/2/sigma)\n",
    "z += np.random.uniform(size=(NX * NY)).reshape(NY, NX)"
   ]
  },
  {
   "cell_type": "code",
   "execution_count": null,
   "metadata": {},
   "outputs": [],
   "source": [
    "plt.imshow(z, origin='lower')\n",
    "plt.colorbar();"
   ]
  },
  {
   "cell_type": "code",
   "execution_count": null,
   "metadata": {},
   "outputs": [],
   "source": [
    "def getFWHM1D(p):\n",
    "    hm = max(p)/2\n",
    "    n = len(p)\n",
    "    i1 = np.argmax(p>hm)\n",
    "    i2 = n - np.argmax(p[::-1]>hm) - 1\n",
    "    fwhm = i2-i1+1+ (p[i1]-hm)/(p[i1]-p[i1-1]) + (p[i2]-hm)/(p[i2]-p[i2+1])\n",
    "    return fwhm\n",
    "\n",
    "def getFWHM2D(z, cx, cy):\n",
    "    fwhmX = getFWHM1D(z[int(cy), :])\n",
    "    fwhmY = getFWHM1D(z[:, int(cx)])\n",
    "    return (fwhmX+fwhmY)/2"
   ]
  },
  {
   "cell_type": "code",
   "execution_count": null,
   "metadata": {},
   "outputs": [],
   "source": [
    "%%time\n",
    "fwhm = getFWHM2D(z, x0, y0)\n",
    "print('FWHM = %.2f pixels'%fwhm)\n",
    "print(fwhm)"
   ]
  },
  {
   "cell_type": "code",
   "execution_count": null,
   "metadata": {},
   "outputs": [],
   "source": []
  }
 ],
 "metadata": {
  "kernelspec": {
   "display_name": "Python 3",
   "language": "python",
   "name": "python3"
  },
  "language_info": {
   "codemirror_mode": {
    "name": "ipython",
    "version": 3
   },
   "file_extension": ".py",
   "mimetype": "text/x-python",
   "name": "python",
   "nbconvert_exporter": "python",
   "pygments_lexer": "ipython3",
   "version": "3.6.8"
  }
 },
 "nbformat": 4,
 "nbformat_minor": 4
}
