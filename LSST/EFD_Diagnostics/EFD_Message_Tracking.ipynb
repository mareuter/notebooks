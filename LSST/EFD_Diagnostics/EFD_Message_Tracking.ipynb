{
 "cells": [
  {
   "cell_type": "code",
   "execution_count": null,
   "metadata": {},
   "outputs": [],
   "source": [
    "import os\n",
    "\n",
    "from astropy.time import Time, TimeDelta\n",
    "import holoviews as hv\n",
    "from holoviews import opts\n",
    "hv.extension('bokeh', logo=False)\n",
    "import numpy as np\n",
    "import pandas as pd\n",
    "import yaml\n",
    "\n",
    "from lsst_efd_client import EfdClient\n",
    "\n",
    "%matplotlib inline"
   ]
  },
  {
   "cell_type": "code",
   "execution_count": null,
   "metadata": {},
   "outputs": [],
   "source": [
    "ifilename = \"cchs_heartbeat.yaml\"\n",
    "efd_name = \"ncsa_teststand_efd\"\n",
    "start_time_str = \"2020-06-06T00:00:00\"\n",
    "end_time_str = \"2020-06-08T18:00:00\""
   ]
  },
  {
   "cell_type": "code",
   "execution_count": null,
   "metadata": {},
   "outputs": [],
   "source": [
    "with open(ifilename) as ifile:\n",
    "    info = yaml.safe_load(ifile)\n",
    "try:\n",
    "    info['expectedRate'] = eval(info['expectedRate'])\n",
    "except TypeError:\n",
    "    pass"
   ]
  },
  {
   "cell_type": "code",
   "execution_count": null,
   "metadata": {},
   "outputs": [],
   "source": [
    "client = EfdClient(efd_name)"
   ]
  },
  {
   "cell_type": "code",
   "execution_count": null,
   "metadata": {},
   "outputs": [],
   "source": [
    "time_increment = TimeDelta(600, format='sec', scale='tai')\n",
    "start_time = Time(start_time_str, scale='tai')\n",
    "end_time = Time(end_time_str, scale='tai') + time_increment\n",
    "expected_num_messages = round(time_increment.sec) * info['expectedRate']\n",
    "\n",
    "df = await client.select_time_series(info['tablename'], info['columnName'], start_time, end_time)"
   ]
  },
  {
   "cell_type": "code",
   "execution_count": null,
   "metadata": {},
   "outputs": [],
   "source": [
    "df1 = df[info['columnName']].resample(time_increment.datetime).count().to_frame()"
   ]
  },
  {
   "cell_type": "code",
   "execution_count": null,
   "metadata": {},
   "outputs": [],
   "source": [
    "df1.rename(columns={info['columnName']: \"Received Messages\"}, inplace=True)"
   ]
  },
  {
   "cell_type": "code",
   "execution_count": null,
   "metadata": {},
   "outputs": [],
   "source": [
    "df1[\"Expected Messages\"] = np.full((df1.shape[0],), expected_num_messages)\n",
    "df1[\"Percent Loss\"] = (1.0 - df1[\"Received Messages\"] / df1[\"Expected Messages\"]) * 100.0"
   ]
  },
  {
   "cell_type": "code",
   "execution_count": null,
   "metadata": {},
   "outputs": [],
   "source": [
    "data_em = hv.Curve(df1, 'index', 'Expected Messages', label='Expected')\n",
    "data_rm = hv.Curve(df1, 'index', 'Received Messages', label='Received')"
   ]
  },
  {
   "cell_type": "code",
   "execution_count": null,
   "metadata": {},
   "outputs": [],
   "source": [
    "layout = data_em * data_rm\n",
    "layout.opts(hv.opts.Curve(axiswise=True, height=300, width=800, padding=(0.02, 0.025)),\n",
    "            hv.opts.Overlay(title=info[\"plotTitle\"], xlabel='Date', ylabel='Messages',\n",
    "                            legend_position='bottom_left'))"
   ]
  },
  {
   "cell_type": "code",
   "execution_count": null,
   "metadata": {},
   "outputs": [],
   "source": [
    "data_pl = hv.Curve(df1, 'index', 'Percent Loss')\n",
    "layout = data_pl\n",
    "layout.opts(hv.opts.Curve(height=300, width=800, padding=(0.02, 0.025), title=info[\"plotTitle\"],\n",
    "                          xlabel='Date'))"
   ]
  },
  {
   "cell_type": "code",
   "execution_count": null,
   "metadata": {},
   "outputs": [],
   "source": []
  }
 ],
 "metadata": {
  "kernelspec": {
   "display_name": "LSST",
   "language": "python",
   "name": "lsst"
  },
  "language_info": {
   "codemirror_mode": {
    "name": "ipython",
    "version": 3
   },
   "file_extension": ".py",
   "mimetype": "text/x-python",
   "name": "python",
   "nbconvert_exporter": "python",
   "pygments_lexer": "ipython3",
   "version": "3.7.6"
  }
 },
 "nbformat": 4,
 "nbformat_minor": 4
}
