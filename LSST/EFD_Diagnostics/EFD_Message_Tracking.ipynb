{
 "cells": [
  {
   "cell_type": "code",
   "execution_count": null,
   "metadata": {},
   "outputs": [],
   "source": [
    "import os\n",
    "\n",
    "from astropy.time import Time, TimeDelta\n",
    "import numpy as np\n",
    "import pandas as pd\n",
    "import yaml\n",
    "\n",
    "from lsst_efd_client import EfdClient"
   ]
  },
  {
   "cell_type": "code",
   "execution_count": null,
   "metadata": {},
   "outputs": [],
   "source": [
    "ifilename = \"m1m3_hardpointdata.yaml\"\n",
    "efd_name = \"ncsa_teststand_efd\""
   ]
  },
  {
   "cell_type": "code",
   "execution_count": null,
   "metadata": {},
   "outputs": [],
   "source": [
    "with open(ifilename) as ifile:\n",
    "    info = yaml.safe_load(ifile)\n",
    "try:\n",
    "    info['expectedRate'] = eval(info['expectedRate'])\n",
    "except TypeError:\n",
    "    pass"
   ]
  },
  {
   "cell_type": "code",
   "execution_count": null,
   "metadata": {},
   "outputs": [],
   "source": [
    "client = EfdClient(efd_name)"
   ]
  },
  {
   "cell_type": "code",
   "execution_count": null,
   "metadata": {},
   "outputs": [],
   "source": [
    "time_increment = TimeDelta(600, format='sec', scale='tai')\n",
    "start_time = Time(\"2020-05-30T00:00:00\", scale='tai')\n",
    "base_end_time = Time(\"2020-06-01T12:00:00\", scale='tai')\n",
    "expected_num_messages = round(time_increment.sec) * info['expectedRate']\n",
    "\n",
    "end_time = base_end_time + time_increment\n",
    "\n",
    "df = await client.select_time_series(info['tablename'], info['columnName'], start_time, end_time)"
   ]
  },
  {
   "cell_type": "code",
   "execution_count": null,
   "metadata": {},
   "outputs": [],
   "source": [
    "df1 = df[info['columnName']].resample(time_increment.datetime).count().to_frame()"
   ]
  },
  {
   "cell_type": "code",
   "execution_count": null,
   "metadata": {},
   "outputs": [],
   "source": [
    "df1.rename(columns={info['columnName']: \"Received Messages\"}, inplace=True)"
   ]
  },
  {
   "cell_type": "code",
   "execution_count": null,
   "metadata": {},
   "outputs": [],
   "source": [
    "df1[\"Expected Messages\"] = np.full((df1.shape[0],), expected_num_messages)\n",
    "df1[\"Percent Loss\"] = (1.0 - df1[\"Received Messages\"] / df1[\"Expected Messages\"]) * 100.0"
   ]
  },
  {
   "cell_type": "code",
   "execution_count": null,
   "metadata": {},
   "outputs": [],
   "source": [
    "df1.head()"
   ]
  }
 ],
 "metadata": {
  "kernelspec": {
   "display_name": "LSST",
   "language": "python",
   "name": "lsst"
  },
  "language_info": {
   "codemirror_mode": {
    "name": "ipython",
    "version": 3
   },
   "file_extension": ".py",
   "mimetype": "text/x-python",
   "name": "python",
   "nbconvert_exporter": "python",
   "pygments_lexer": "ipython3",
   "version": "3.7.6"
  }
 },
 "nbformat": 4,
 "nbformat_minor": 4
}
