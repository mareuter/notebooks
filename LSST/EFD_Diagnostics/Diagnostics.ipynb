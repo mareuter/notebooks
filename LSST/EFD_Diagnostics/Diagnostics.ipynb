{
 "cells": [
  {
   "cell_type": "code",
   "execution_count": null,
   "metadata": {},
   "outputs": [],
   "source": [
    "import os\n",
    "\n",
    "from astropy.time import Time, TimeDelta\n",
    "from bokeh.models import DatetimeTickFormatter\n",
    "import holoviews as hv\n",
    "from holoviews import opts\n",
    "hv.extension('bokeh', logo=False)\n",
    "from IPython.display import Markdown as md\n",
    "import matplotlib.pyplot as plt\n",
    "import matplotlib as mpl\n",
    "import numpy as np\n",
    "import pandas as pd\n",
    "import yaml\n",
    "\n",
    "from lsst_efd_client import EfdClient\n",
    "\n",
    "%matplotlib inline"
   ]
  },
  {
   "cell_type": "code",
   "execution_count": null,
   "metadata": {
    "tags": [
     "parameters"
    ]
   },
   "outputs": [],
   "source": [
    "ifilename = \"m1m3_hardpointdata.yaml\"\n",
    "efd_name = \"ncsa_teststand_efd\"\n",
    "start_time_str = \"2020-09-21T18:30:00\"\n",
    "end_time_str = \"2020-09-21T20:30:00\""
   ]
  },
  {
   "cell_type": "code",
   "execution_count": null,
   "metadata": {},
   "outputs": [],
   "source": [
    "with open(ifilename) as ifile:\n",
    "    info = yaml.safe_load(ifile)\n",
    "try:\n",
    "    csc_index = info[\"cscIndex\"]\n",
    "except KeyError:\n",
    "    csc_index = None\n",
    "try:\n",
    "    info['expectedRate'] = eval(info['expectedRate'])\n",
    "except TypeError:\n",
    "    pass"
   ]
  },
  {
   "cell_type": "code",
   "execution_count": null,
   "metadata": {},
   "outputs": [],
   "source": [
    "client = EfdClient(efd_name)"
   ]
  },
  {
   "cell_type": "code",
   "execution_count": null,
   "metadata": {},
   "outputs": [],
   "source": [
    "start_time = Time(start_time_str, scale='utc')\n",
    "end_time = Time(end_time_str, scale='utc')\n",
    "\n",
    "columns = [\"private_sndStamp\", \"private_rcvStamp\", \"private_seqNum\"]\n",
    "df = await client.select_time_series(info['tablename'],\n",
    "                                     columns,\n",
    "                                     start_time,\n",
    "                                     end_time,\n",
    "                                     index=csc_index)"
   ]
  },
  {
   "cell_type": "code",
   "execution_count": null,
   "metadata": {},
   "outputs": [],
   "source": [
    "md(f\"# <center>EFD Diagnostic Report<br><br>{info['plotTitle']}</center>\")"
   ]
  },
  {
   "cell_type": "code",
   "execution_count": null,
   "metadata": {},
   "outputs": [],
   "source": [
    "md(f\"## <center>{start_time} - {end_time}</center>\")"
   ]
  },
  {
   "cell_type": "code",
   "execution_count": null,
   "metadata": {},
   "outputs": [],
   "source": [
    "md(\"### Breaks in Sequence Number\")"
   ]
  },
  {
   "cell_type": "code",
   "execution_count": null,
   "metadata": {},
   "outputs": [],
   "source": [
    "# Look for breaks in sequence numbers\n",
    "seq_nums = df['private_seqNum'].values\n",
    "seq_delta = seq_nums[1:] - seq_nums[:-1]\n",
    "indexes = np.where(seq_delta > 1)[0]\n",
    "if indexes.size:\n",
    "    print(\"Break Size\\tStart Timestamp\\t\\t\\t\\tEnd Timestamp\")\n",
    "    for index in indexes:\n",
    "        #print(index)\n",
    "        print(f\"{seq_delta[index]}\\t\\t{df.index[index]}\\t{df.index[index + 1]}\")\n",
    "        #print(df.index[index + 1] - df.index[index])\n",
    "else:\n",
    "    print(\"No breaks in sequence number found.\")"
   ]
  },
  {
   "cell_type": "code",
   "execution_count": null,
   "metadata": {},
   "outputs": [],
   "source": [
    "md(\"### Timing Information\")"
   ]
  },
  {
   "cell_type": "code",
   "execution_count": null,
   "metadata": {},
   "outputs": [],
   "source": [
    "d = df[\"private_sndStamp\"].values\n",
    "delta2 = d[1:] - d[:-1]\n",
    "rate = 1 / info['expectedRate']\n",
    "import astropy.units as u\n",
    "message_send_jitter = (np.median(delta2) - rate) * u.s\n",
    "if message_send_jitter < (1 * u.s):\n",
    "    message_send_jitter = message_send_jitter.to(u.ms)\n",
    "print(f\"Median Message Send Jitter: {message_send_jitter:.4f}\")"
   ]
  },
  {
   "cell_type": "code",
   "execution_count": null,
   "metadata": {},
   "outputs": [],
   "source": [
    "plt.style.use(\"./plot_style.mplstyle\")\n",
    "min_t = np.round(np.min(delta2), decimals=3)\n",
    "max_t = np.round(np.max(delta2), decimals=3)\n",
    "nbins = 50\n",
    "fig = plt.figure(1, (14, 6))\n",
    "fig.suptitle(\"Distribution of $\\Delta$T between Send Timestamps\")\n",
    "ax1 = fig.gca()\n",
    "x = ax1.hist(delta2, bins=50, log=True)\n",
    "ax1.set_xlabel(\"$\\Delta$Snd (s)\")\n",
    "h = ax1.set_ylabel(\"Frequency\")"
   ]
  },
  {
   "cell_type": "code",
   "execution_count": null,
   "metadata": {},
   "outputs": [],
   "source": [
    "df[\"clock_diff\"] = df[\"private_rcvStamp\"] - df[\"private_sndStamp\"]"
   ]
  },
  {
   "cell_type": "code",
   "execution_count": null,
   "metadata": {},
   "outputs": [],
   "source": [
    "dt_format = '%F %T'\n",
    "formats = {'days': dt_format, 'months': dt_format, 'hours': dt_format, 'minutes': dt_format}\n",
    "date_formatter = DatetimeTickFormatter(**formats)\n",
    "tick_rotation = 75\n",
    "\n",
    "table = hv.Table(df.reset_index())\n",
    "x_tuple = ('index', 'clock_diff')\n",
    "clock_diff = hv.Curve(table, x_tuple, (\"clock_diff\")).opts(xlabel=\"Time\", ylabel=\"Rcv - Snd (s)\")\n",
    "layout = clock_diff\n",
    "layout.opts(opts.Curve(height=400, width=800, xformatter=date_formatter, xrotation=tick_rotation,\n",
    "                       padding=0.01))"
   ]
  },
  {
   "cell_type": "code",
   "execution_count": null,
   "metadata": {},
   "outputs": [],
   "source": [
    "plt.style.use(\"./plot_style.mplstyle\")\n",
    "max_t = np.round(np.max(df[\"clock_diff\"].values), decimals=3)\n",
    "min_t = np.round(np.min(df[\"clock_diff\"].values), decimals=3)\n",
    "if not min_t < 0:\n",
    "    min_t = 0.\n",
    "nbins = 50\n",
    "fig = plt.figure(1, (14, 6))\n",
    "fig.suptitle(\"Distribution of Receive - Send Timestamps\")\n",
    "ax1 = fig.gca()\n",
    "x = ax1.hist(df[\"clock_diff\"].values, np.linspace(min_t, max_t, nbins), log=True)\n",
    "ax1.set_xlabel(\"Rcv - Snd (s)\")\n",
    "h = ax1.set_ylabel(\"Frequency\")"
   ]
  },
  {
   "cell_type": "code",
   "execution_count": null,
   "metadata": {},
   "outputs": [],
   "source": [
    "# Bokeh histogram plot with logy doesn't seem to work. Leave this cell here\n",
    "# in case there is time to figure out why.\n",
    "# Using log conversion doesn't work either as values are zero which represents\n",
    "# 1 counts don't appear in the plot.\n",
    "#hv.extension('matplotlib', logo=False)\n",
    "#max_t = np.round(np.max(df[\"clock_diff\"].values), decimals=3)\n",
    "#nbins = 50\n",
    "#hist = np.histogram(df[\"clock_diff\"].values, np.linspace(0, max_t, nbins))\n",
    "#log_hist = np.log(hist[0])\n",
    "#log_hist = np.nan_to_num(log_hist, neginf=-1)\n",
    "#print(hist)\n",
    "\n",
    "#delta_t = hv.Histogram((hist[1], hist[0]), kdims=hv.Dimension('time differences', \n",
    "#                        label='Rcv - Snd', unit='s'),\n",
    "#                       vdims=hv.Dimension('frequency', label='Log Frequency'),\n",
    "#                       label='Distribution of 𝚫T')\n",
    "#delta_t.opts(opts.Figure(logy=True), opts.Histogram(height=400, width=800, padding=0.01))"
   ]
  }
 ],
 "metadata": {
  "kernelspec": {
   "display_name": "Python 3",
   "language": "python",
   "name": "python"
  },
  "language_info": {
   "codemirror_mode": {
    "name": "ipython",
    "version": 3
   },
   "file_extension": ".py",
   "mimetype": "text/x-python",
   "name": "python",
   "nbconvert_exporter": "python",
   "pygments_lexer": "ipython3",
   "version": "3.8.5"
  }
 },
 "nbformat": 4,
 "nbformat_minor": 4
}
