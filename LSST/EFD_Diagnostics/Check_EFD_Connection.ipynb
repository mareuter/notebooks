{
 "cells": [
  {
   "cell_type": "code",
   "execution_count": null,
   "id": "56f37913-a162-4541-8a0e-2911d9ac2478",
   "metadata": {},
   "outputs": [],
   "source": [
    "from astropy.time import Time, TimeDelta\n",
    "from lsst_efd_client import EfdClient"
   ]
  },
  {
   "cell_type": "code",
   "execution_count": null,
   "id": "6e65e5eb-8c1d-4991-8829-602f64f52399",
   "metadata": {},
   "outputs": [],
   "source": [
    "client = EfdClient(\"ncsa_teststand_efd\")"
   ]
  },
  {
   "cell_type": "code",
   "execution_count": null,
   "id": "344fc166-3c75-4283-b81d-2a5774d621c1",
   "metadata": {},
   "outputs": [],
   "source": []
  }
 ],
 "metadata": {
  "kernelspec": {
   "display_name": "LSST",
   "language": "python",
   "name": "lsst"
  },
  "language_info": {
   "codemirror_mode": {
    "name": "ipython",
    "version": 3
   },
   "file_extension": ".py",
   "mimetype": "text/x-python",
   "name": "python",
   "nbconvert_exporter": "python",
   "pygments_lexer": "ipython3",
   "version": "3.8.12"
  }
 },
 "nbformat": 4,
 "nbformat_minor": 5
}
