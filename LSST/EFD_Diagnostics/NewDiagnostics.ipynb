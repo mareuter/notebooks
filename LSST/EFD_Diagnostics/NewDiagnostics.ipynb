{
 "cells": [
  {
   "cell_type": "code",
   "execution_count": null,
   "metadata": {},
   "outputs": [],
   "source": [
    "import os\n",
    "\n",
    "from astropy.time import Time, TimeDelta\n",
    "from bokeh.models import DatetimeTickFormatter\n",
    "import holoviews as hv\n",
    "from holoviews import opts\n",
    "hv.extension('bokeh', logo=False)\n",
    "from IPython.display import Markdown as md\n",
    "import numpy as np\n",
    "import pandas as pd\n",
    "import yaml\n",
    "\n",
    "from lsst_efd_client import EfdClient\n",
    "\n",
    "%matplotlib inline"
   ]
  },
  {
   "cell_type": "code",
   "execution_count": null,
   "metadata": {},
   "outputs": [],
   "source": [
    "client = EfdClient(\"ncsa_teststand_efd\")"
   ]
  },
  {
   "cell_type": "code",
   "execution_count": null,
   "metadata": {},
   "outputs": [],
   "source": [
    "start_time_str = \"2020-08-27T22:00:00\"\n",
    "end_time_str = \"2020-08-27T23:00:00\"\n",
    "#table_name = \"lsst.sal.CCHeaderService.logevent_heartbeat\"\n",
    "table_name = \"lsst.sal.MTM1M3.hardpointActuatorData\"\n",
    "#table_name = \"lsst.sal.Rotator.motors\"\n",
    "#table_name = \"lsst.sal.Hexapod.actuators\"\n",
    "#table_name = \"lsst.sal.MTPtg.currentTargetStatus\"\n",
    "#table_name = \"lsst.sal.MTPtg.timeAndDate\"\n",
    "columns = \"private_seqNum\"\n",
    "index = None\n",
    "#index = 1\n",
    "start_time = Time(start_time_str, scale='tai')\n",
    "end_time = Time(end_time_str, scale='tai')"
   ]
  },
  {
   "cell_type": "code",
   "execution_count": null,
   "metadata": {},
   "outputs": [],
   "source": [
    "df = await client.select_time_series(table_name,\n",
    "                                     columns,\n",
    "                                     start_time,\n",
    "                                     end_time,\n",
    "                                     index=index)"
   ]
  },
  {
   "cell_type": "code",
   "execution_count": null,
   "metadata": {},
   "outputs": [],
   "source": [
    "seqNums = df['private_seqNum'].values\n",
    "print(seqNums.size)"
   ]
  },
  {
   "cell_type": "code",
   "execution_count": null,
   "metadata": {},
   "outputs": [],
   "source": [
    "seq_delta = seqNums[1:] - seqNums[:-1]"
   ]
  },
  {
   "cell_type": "code",
   "execution_count": null,
   "metadata": {},
   "outputs": [],
   "source": [
    "indexes = np.where(seq_delta > 1)\n",
    "print(len(indexes[0]))"
   ]
  },
  {
   "cell_type": "code",
   "execution_count": null,
   "metadata": {},
   "outputs": [],
   "source": [
    "for index in indexes[0]:\n",
    "    print(seq_delta[index])\n",
    "    print(df.index[index], df.index[index + 1])"
   ]
  },
  {
   "cell_type": "code",
   "execution_count": null,
   "metadata": {},
   "outputs": [],
   "source": [
    "seq_delta[indexes]"
   ]
  },
  {
   "cell_type": "code",
   "execution_count": null,
   "metadata": {},
   "outputs": [],
   "source": [
    "df1 = df.resample('600S').ohlc()"
   ]
  },
  {
   "cell_type": "code",
   "execution_count": null,
   "metadata": {},
   "outputs": [],
   "source": [
    "#df.head()"
   ]
  },
  {
   "cell_type": "code",
   "execution_count": null,
   "metadata": {},
   "outputs": [],
   "source": [
    "df1[\"Received Messages\"] = df1[(\"private_seqNum\", \"close\")] - df1[(\"private_seqNum\", \"open\")] + 1"
   ]
  },
  {
   "cell_type": "code",
   "execution_count": null,
   "metadata": {},
   "outputs": [],
   "source": [
    "df1.head()"
   ]
  },
  {
   "cell_type": "code",
   "execution_count": null,
   "metadata": {},
   "outputs": [],
   "source": [
    "df1.tail()"
   ]
  },
  {
   "cell_type": "code",
   "execution_count": null,
   "metadata": {},
   "outputs": [],
   "source": [
    "df2 = await client.select_time_series(table_name,\n",
    "                                      [\"private_sndStamp\", \"private_rcvStamp\"] ,\n",
    "                                      start_time,\n",
    "                                      end_time,\n",
    "                                      index=index)"
   ]
  },
  {
   "cell_type": "code",
   "execution_count": null,
   "metadata": {},
   "outputs": [],
   "source": [
    "df2[\"clock_diff\"] = df2[\"private_rcvStamp\"] - df2[\"private_sndStamp\"]"
   ]
  },
  {
   "cell_type": "code",
   "execution_count": null,
   "metadata": {},
   "outputs": [],
   "source": [
    "df2[\"clock_diff\"]"
   ]
  },
  {
   "cell_type": "code",
   "execution_count": null,
   "metadata": {},
   "outputs": [],
   "source": [
    "dt_format = '%F %T'\n",
    "formats = {'days': dt_format, 'months': dt_format, 'hours': dt_format, 'minutes': dt_format}\n",
    "date_formatter = DatetimeTickFormatter(**formats)\n",
    "tick_rotation = 75\n",
    "\n",
    "table = hv.Table(df2.reset_index())\n",
    "x_tuple = ('index', 'clock_diff')\n",
    "clock_diff = hv.Curve(table, x_tuple, (\"clock_diff\")).opts(xlabel=\"Time\", ylabel=\"Rcv - Snd (s)\")\n",
    "clock_diff.opts(opts.Curve(height=400, width=800, xformatter=date_formatter, xrotation=tick_rotation))"
   ]
  },
  {
   "cell_type": "code",
   "execution_count": null,
   "metadata": {},
   "outputs": [],
   "source": [
    "max_t = np.round(np.max(df2[\"clock_diff\"].values), decimals=3)\n",
    "nbins = int(max_t / 0.0005)\n",
    "hist = np.histogram(df2[\"clock_diff\"].values, bins=np.linspace(0, max_t, nbins))\n",
    "min_y = np.min(hist[0])\n",
    "max_y = np.max(hist[0])\n",
    "delta_t = hv.Histogram(hist, kdims=hv.Dimension('time differences', \n",
    "                                                label='Rcv - Snd', unit='s'),\n",
    "                       label='Distribution of 𝚫T')\n",
    "delta_t.opts(logy=True, ylim=(min_y, max_y))"
   ]
  },
  {
   "cell_type": "code",
   "execution_count": null,
   "metadata": {},
   "outputs": [],
   "source": [
    "hist[0]"
   ]
  },
  {
   "cell_type": "code",
   "execution_count": null,
   "metadata": {},
   "outputs": [],
   "source": []
  }
 ],
 "metadata": {
  "kernelspec": {
   "display_name": "LSST",
   "language": "python",
   "name": "lsst"
  },
  "language_info": {
   "codemirror_mode": {
    "name": "ipython",
    "version": 3
   },
   "file_extension": ".py",
   "mimetype": "text/x-python",
   "name": "python",
   "nbconvert_exporter": "python",
   "pygments_lexer": "ipython3",
   "version": "3.8.12"
  }
 },
 "nbformat": 4,
 "nbformat_minor": 4
}
