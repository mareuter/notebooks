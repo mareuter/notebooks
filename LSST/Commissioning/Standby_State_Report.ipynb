{
 "cells": [
  {
   "cell_type": "code",
   "execution_count": null,
   "metadata": {},
   "outputs": [],
   "source": [
    "import math\n",
    "\n",
    "import efd_utils"
   ]
  },
  {
   "cell_type": "code",
   "execution_count": null,
   "metadata": {},
   "outputs": [],
   "source": [
    "location = \"summit\""
   ]
  },
  {
   "cell_type": "code",
   "execution_count": null,
   "metadata": {},
   "outputs": [],
   "source": [
    "client = efd_utils.get_client(location)"
   ]
  },
  {
   "cell_type": "code",
   "execution_count": null,
   "metadata": {},
   "outputs": [],
   "source": [
    "cscs = efd_utils.get_cscs(f\"{location}_systems.dat\")"
   ]
  },
  {
   "cell_type": "code",
   "execution_count": null,
   "metadata": {},
   "outputs": [],
   "source": [
    "summary_state = 4  # STANDBY\n",
    "time_window = 10.0  # seconds"
   ]
  },
  {
   "cell_type": "code",
   "execution_count": null,
   "metadata": {},
   "outputs": [],
   "source": [
    "for csc in cscs:\n",
    "    query = efd_utils.get_base_query(columns=[\"private_sndStamp\",\n",
    "                                              \"summaryState\"],\n",
    "                                     csc_name=csc.name,\n",
    "                                     csc_index=csc.index,\n",
    "                                     topic_name=\"logevent_summaryState\")\n",
    "\n",
    "    # Handle indexed components from base query\n",
    "    if \"WHERE\" not in query:\n",
    "        query += \" WHERE\"\n",
    "    query += f\" summaryState={summary_state}\"\n",
    "    query += \" \" + efd_utils.get_time_clause(last=True)\n",
    "\n",
    "    ss_df = await client.query(query)\n",
    "\n",
    "    query = efd_utils.get_base_query(columns=[\"private_sndStamp\",\n",
    "                                              \"recommendedSettingsLabels\",\n",
    "                                              \"recommendedSettingsVersion\"],\n",
    "                                     csc_name=csc.name,\n",
    "                                     csc_index=csc.index,\n",
    "                                     topic_name=\"logevent_settingVersions\")\n",
    "\n",
    "    query += efd_utils.get_time_clause(last=True)\n",
    "\n",
    "    sv_df = await client.query(query)\n",
    "\n",
    "    print(\"###########################################################\")\n",
    "    print(f\"CSC: {csc.name}\")\n",
    "    try:\n",
    "        print(f\"Time of Summary State: {ss_df.index[0]}\")\n",
    "    except AttributeError:\n",
    "        print(f\"summaryState event not present for {csc.name}\")\n",
    "    try:\n",
    "        if sv_df.size:\n",
    "            delta = ss_df.private_sndStamp.values[0] - sv_df.private_sndStamp.values[0]\n",
    "            if math.fabs(delta) > time_window:\n",
    "                print(f\"Large delay in settingVersions publish: {delta:.1f} seconds\")\n",
    "            rsl = sv_df.recommendedSettingsLabels.values[0]\n",
    "            rsv = sv_df.recommendedSettingsVersion.values[0]\n",
    "            print(f\"Recommended Settings Labels: {rsl}\")\n",
    "            print(f\"Recommended Settings Version: {rsv}\")\n",
    "        else:\n",
    "            print(f\"settingVersions event not present for {csc.name}\")\n",
    "    except AttributeError:\n",
    "        print(f\"settingVersions event not present for {csc.name}\")"
   ]
  }
 ],
 "metadata": {
  "kernelspec": {
   "display_name": "LSST",
   "language": "python",
   "name": "lsst"
  },
  "language_info": {
   "codemirror_mode": {
    "name": "ipython",
    "version": 3
   },
   "file_extension": ".py",
   "mimetype": "text/x-python",
   "name": "python",
   "nbconvert_exporter": "python",
   "pygments_lexer": "ipython3",
   "version": "3.7.2"
  }
 },
 "nbformat": 4,
 "nbformat_minor": 2
}
