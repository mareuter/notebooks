{
 "cells": [
  {
   "cell_type": "code",
   "execution_count": null,
   "metadata": {},
   "outputs": [],
   "source": [
    "import numpy as np\n",
    "\n",
    "import efd_utils\n",
    "import df_utils"
   ]
  },
  {
   "cell_type": "code",
   "execution_count": null,
   "metadata": {},
   "outputs": [],
   "source": [
    "location = \"summit\""
   ]
  },
  {
   "cell_type": "code",
   "execution_count": null,
   "metadata": {},
   "outputs": [],
   "source": [
    "client = efd_utils.get_client(location)\n",
    "cscs = efd_utils.get_cscs(f\"{location}_systems.dat\")"
   ]
  },
  {
   "cell_type": "code",
   "execution_count": null,
   "metadata": {},
   "outputs": [],
   "source": [
    "# Full shutdown goes to OFFLINE state. Normal is to STANDBY state.\n",
    "do_full_shutdown = False\n",
    "if do_full_shutdown:\n",
    "    ss_limit = 4\n",
    "    shutdown_start = 0\n",
    "else:\n",
    "    ss_limit = 3\n",
    "    shutdown_start = 1\n",
    "ss_shutdown_order = np.array([4, 5, 1, 2])\n",
    "# Give CSCs ten minutes to shutdown\n",
    "shutdown_wait_time = 600  # seconds"
   ]
  },
  {
   "cell_type": "code",
   "execution_count": null,
   "metadata": {},
   "outputs": [],
   "source": [
    "print(\"######################################\")\n",
    "print(\"#        Shutdown Procedure          #\")\n",
    "print(\"######################################\")\n",
    "for csc in cscs:\n",
    "    query = efd_utils.get_base_query(columns=[\"private_sndStamp\",\n",
    "                                              \"summaryState\"],\n",
    "                                     csc_name=csc.name,\n",
    "                                     csc_index=csc.index,\n",
    "                                     topic_name=\"logevent_summaryState\")\n",
    "    # Handle indexed components from base query\n",
    "    if csc.index != 0 and \"WHERE\" not in query:\n",
    "        query += \" WHERE\"\n",
    "    query += \" \" + efd_utils.get_time_clause(last=True, limit=ss_limit)\n",
    "    #print(query)\n",
    "    ss_df = await client.query(query)\n",
    "    ss_df = df_utils.convert_timestamps(ss_df, [\"private_sndStamp\"])\n",
    "\n",
    "    print(\"--------------------------------------\")\n",
    "    print(f\"CSC: {csc.full_name}\")\n",
    "\n",
    "    ss_shutdown = ss_df.summaryState.values\n",
    "    does_shutdown = np.all(ss_shutdown == ss_shutdown_order[shutdown_start:])\n",
    "    if not does_shutdown:\n",
    "        print(f\"Incorrect Shutdown Order: {ss_shutdown}\")\n",
    "    else:\n",
    "        print(\"Shutdown Order Correct!\")\n",
    "        shutdown_time = df_utils.time_delta(ss_df.private_sndStamp.values[0],\n",
    "                                            ss_df.private_sndStamp.values[-1])\n",
    "        print(f\"Total Shutdown Time: {shutdown_time:.2f} s\")\n",
    "        if shutdown_time / np.timedelta64(1, 'ns') > shutdown_wait_time:\n",
    "            print(\"Timestamps:\")\n",
    "            for timestamp in ss_df.private_sndStamp.values:\n",
    "                print(f\"\\t{timestamp}\")"
   ]
  },
  {
   "cell_type": "code",
   "execution_count": null,
   "metadata": {},
   "outputs": [],
   "source": []
  }
 ],
 "metadata": {
  "kernelspec": {
   "display_name": "Python 3",
   "language": "python",
   "name": "python3"
  },
  "language_info": {
   "codemirror_mode": {
    "name": "ipython",
    "version": 3
   },
   "file_extension": ".py",
   "mimetype": "text/x-python",
   "name": "python",
   "nbconvert_exporter": "python",
   "pygments_lexer": "ipython3",
   "version": "3.6.8"
  }
 },
 "nbformat": 4,
 "nbformat_minor": 2
}
