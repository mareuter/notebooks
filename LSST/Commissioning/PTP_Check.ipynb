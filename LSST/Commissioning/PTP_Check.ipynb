{
 "cells": [
  {
   "cell_type": "code",
   "execution_count": null,
   "metadata": {},
   "outputs": [],
   "source": [
    "from datetime import datetime\n",
    "\n",
    "import matplotlib.pyplot as plt\n",
    "import numpy as np\n",
    "\n",
    "import efd_utils\n",
    "import df_utils\n",
    "\n",
    "%matplotlib inline"
   ]
  },
  {
   "cell_type": "code",
   "execution_count": null,
   "metadata": {},
   "outputs": [],
   "source": [
    "DATE_FORMAT = \"%Y-%m-%d\""
   ]
  },
  {
   "cell_type": "code",
   "execution_count": null,
   "metadata": {
    "tags": [
     "parameters"
    ]
   },
   "outputs": [],
   "source": [
    "# Note this is in local time!!!!!\n",
    "start_str = \"2019-10-20\"\n",
    "end_str = \"2019-10-21\""
   ]
  },
  {
   "cell_type": "code",
   "execution_count": null,
   "metadata": {},
   "outputs": [],
   "source": [
    "start = datetime.strptime(start_str, DATE_FORMAT)\n",
    "end = datetime.strptime(end_str, DATE_FORMAT)"
   ]
  },
  {
   "cell_type": "code",
   "execution_count": null,
   "metadata": {},
   "outputs": [],
   "source": [
    "location = \"tucson\""
   ]
  },
  {
   "cell_type": "code",
   "execution_count": null,
   "metadata": {},
   "outputs": [],
   "source": [
    "client = efd_utils.get_client(location)"
   ]
  },
  {
   "cell_type": "code",
   "execution_count": null,
   "metadata": {},
   "outputs": [],
   "source": [
    "csc = efd_utils.CSC(\"ATHeaderService\", 0)"
   ]
  },
  {
   "cell_type": "code",
   "execution_count": null,
   "metadata": {},
   "outputs": [],
   "source": [
    "query = efd_utils.get_base_query(columns=[\"private_sndStamp\",\n",
    "                                          \"heartbeat\"],\n",
    "                                 csc_name=csc.name,\n",
    "                                 csc_index=csc.index,\n",
    "                                 topic_name=\"logevent_heartbeat\")\n",
    "query += \" WHERE \" + efd_utils.get_time_clause(date_range=(start, end))\n",
    "#print(query)"
   ]
  },
  {
   "cell_type": "code",
   "execution_count": null,
   "metadata": {},
   "outputs": [],
   "source": [
    "hb_df = await client.query(query)"
   ]
  },
  {
   "cell_type": "code",
   "execution_count": null,
   "metadata": {},
   "outputs": [],
   "source": [
    "ok_to_plot = True\n",
    "expected_messages = int((end - start).total_seconds())\n",
    "try:\n",
    "    times_s = hb_df.private_sndStamp.values\n",
    "    if times_s.shape[0] != expected_messages:\n",
    "        print(f\"Total Number of Messages: {times_s.shape[0]}, Expected: {expected_messages}\")\n",
    "    diff_s = (times_s[1:] - times_s[:-1] - 1) * 1000\n",
    "    mean_diff_s = np.mean(diff_s)\n",
    "    median_diff_s = np.median(diff_s)\n",
    "    print(f\"Mean: {mean_diff_s:.2f} ms\")\n",
    "    print(f\"Median: {median_diff_s:.2f} ms\")\n",
    "except AttributeError:\n",
    "    print(\"NO DATA FOUND!!!\")\n",
    "    ok_to_plot = False"
   ]
  },
  {
   "cell_type": "code",
   "execution_count": null,
   "metadata": {},
   "outputs": [],
   "source": [
    "if ok_to_plot:\n",
    "    time_fmt = \"%Y-%m-%d %H:%M\"\n",
    "    xlabel = '$\\Delta$T (ms)'\n",
    "    fig = plt.figure(figsize=(8, 3))\n",
    "    fig.suptitle(f\"{end.strftime(time_fmt)} - {start.strftime(time_fmt)}\")\n",
    "    ax1 = fig.add_subplot(1, 2, 1)\n",
    "    ax1.hist(diff_s, bins=50)\n",
    "    ax1.set_xlabel(xlabel)\n",
    "    ax2 = fig.add_subplot(1, 2, 2)\n",
    "    ax2.hist(diff_s, bins=50, log=True)\n",
    "    ax2.set_xlabel(xlabel)\n",
    "    mean_color = 'red'\n",
    "    median_color = 'orange'\n",
    "    ax2.axvline(mean_diff_s, color=mean_color)\n",
    "    ax2.axvline(median_diff_s, color=median_color)\n",
    "    ax2.annotate(f\"Mean: {mean_diff_s:.2f} ms\", (0.5, 0.85), xycoords=\"axes fraction\", color=mean_color)\n",
    "    ax2.annotate(f\"Median: {median_diff_s:.2f} ms\", (0.5, 0.75), xycoords=\"axes fraction\", color=median_color)"
   ]
  }
 ],
 "metadata": {
  "kernelspec": {
   "display_name": "Python 3",
   "language": "python",
   "name": "python3"
  },
  "language_info": {
   "codemirror_mode": {
    "name": "ipython",
    "version": 3
   },
   "file_extension": ".py",
   "mimetype": "text/x-python",
   "name": "python",
   "nbconvert_exporter": "python",
   "pygments_lexer": "ipython3",
   "version": "3.6.8"
  }
 },
 "nbformat": 4,
 "nbformat_minor": 4
}
