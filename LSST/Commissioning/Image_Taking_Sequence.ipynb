{
 "cells": [
  {
   "cell_type": "code",
   "execution_count": null,
   "metadata": {},
   "outputs": [],
   "source": [
    "import numpy as np\n",
    "\n",
    "from lsst_efd_client import EfdClient"
   ]
  },
  {
   "cell_type": "code",
   "execution_count": null,
   "metadata": {},
   "outputs": [],
   "source": [
    "client = EfdClient(\"ncsa_teststand_efd\")"
   ]
  },
  {
   "cell_type": "code",
   "execution_count": null,
   "metadata": {},
   "outputs": [],
   "source": [
    "si_df = await client.select_top_n(\"lsst.sal.CCCamera.logevent_startIntegration\",\n",
    "                                  [\"private_sndStamp\", \"additionalValues\"], 15)"
   ]
  },
  {
   "cell_type": "code",
   "execution_count": null,
   "metadata": {},
   "outputs": [],
   "source": [
    "eoit_df = await client.select_top_n(\"lsst.sal.CCCamera.logevent_endOfImageTelemetry\",\n",
    "                                    [\"private_sndStamp\", \"additionalValues\"], 15)"
   ]
  },
  {
   "cell_type": "code",
   "execution_count": null,
   "metadata": {},
   "outputs": [],
   "source": [
    "image_type = \"FLAT\"\n",
    "si_image_type = si_df[\"additionalValues\"].str.contains(image_type)\n",
    "eoit_image_type = eoit_df[\"additionalValues\"].str.contains(image_type)"
   ]
  },
  {
   "cell_type": "code",
   "execution_count": null,
   "metadata": {},
   "outputs": [],
   "source": [
    "si_timestamps = np.flip(si_df[\"private_sndStamp\"][si_image_type].values)\n",
    "eoit_timestamps = np.flip(eoit_df[\"private_sndStamp\"][eoit_image_type].values)"
   ]
  },
  {
   "cell_type": "code",
   "execution_count": null,
   "metadata": {},
   "outputs": [],
   "source": [
    "eoit_timestamps[:-1] - si_timestamps[1:]"
   ]
  },
  {
   "cell_type": "code",
   "execution_count": null,
   "metadata": {},
   "outputs": [],
   "source": [
    "eoit_timestamps - si_timestamps"
   ]
  },
  {
   "cell_type": "code",
   "execution_count": null,
   "metadata": {},
   "outputs": [],
   "source": []
  }
 ],
 "metadata": {
  "kernelspec": {
   "display_name": "LSST",
   "language": "python",
   "name": "lsst"
  },
  "language_info": {
   "codemirror_mode": {
    "name": "ipython",
    "version": 3
   },
   "file_extension": ".py",
   "mimetype": "text/x-python",
   "name": "python",
   "nbconvert_exporter": "python",
   "pygments_lexer": "ipython3",
   "version": "3.7.8"
  }
 },
 "nbformat": 4,
 "nbformat_minor": 4
}
