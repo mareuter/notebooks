{
 "cells": [
  {
   "cell_type": "code",
   "execution_count": null,
   "metadata": {},
   "outputs": [],
   "source": [
    "from astropy.time import Time, TimeDelta\n",
    "import numpy as np\n",
    "\n",
    "from lsst_efd_client import EfdClient"
   ]
  },
  {
   "cell_type": "code",
   "execution_count": null,
   "metadata": {},
   "outputs": [],
   "source": [
    "#efd_name = \"ldf_stable_efd\"\n",
    "#efd_name = \"base_efd\"\n",
    "efd_name = \"ncsa_teststand_efd\"\n",
    "check_date = \"2021-03-10\""
   ]
  },
  {
   "cell_type": "code",
   "execution_count": null,
   "metadata": {},
   "outputs": [],
   "source": [
    "client = EfdClient(efd_name)"
   ]
  },
  {
   "cell_type": "code",
   "execution_count": null,
   "metadata": {},
   "outputs": [],
   "source": [
    "start_time = Time(check_date, scale=\"tai\")\n",
    "end_time = TimeDelta(24*3600, format=\"sec\", scale=\"tai\")\n",
    "si_df = await client.select_time_series(\"lsst.sal.CCCamera.logevent_startIntegration\",\n",
    "                                        [\"private_sndStamp\", \"additionalValues\"],\n",
    "                                        start=start_time, end=end_time)\n",
    "eoit_df = await client.select_time_series(\"lsst.sal.CCCamera.logevent_endOfImageTelemetry\",\n",
    "                                          [\"private_sndStamp\", \"additionalValues\"],\n",
    "                                          start=start_time, end=end_time)"
   ]
  },
  {
   "cell_type": "code",
   "execution_count": null,
   "metadata": {},
   "outputs": [],
   "source": [
    "grp_si = si_df.groupby(\"additionalValues\")\n",
    "grp_eoit = eoit_df.groupby(\"additionalValues\")"
   ]
  },
  {
   "cell_type": "code",
   "execution_count": null,
   "metadata": {},
   "outputs": [],
   "source": [
    "for i in grp_si.groups.keys():\n",
    "    try:\n",
    "        print(i)\n",
    "        img_si = grp_si.get_group(i)\n",
    "        img_eoit = grp_eoit.get_group(i)\n",
    "        si_timestamps = img_si[\"private_sndStamp\"].values\n",
    "        eoit_timestamps = img_eoit[\"private_sndStamp\"].values\n",
    "        diff_time = eoit_timestamps[:-1] - si_timestamps[1:]\n",
    "        elapsed_time = eoit_timestamps - si_timestamps\n",
    "        print(f\"Num Images: {si_timestamps.size}\")\n",
    "        neg_diffs = diff_time < 0\n",
    "        unique, counts = np.unique(neg_diffs, return_counts=True)\n",
    "        diff_counts = dict(zip(unique, counts))\n",
    "        try:\n",
    "            print(f\"endOfImageTelemetry BEFORE next startIntegration: {diff_counts[True]}\")\n",
    "        except KeyError:\n",
    "            pass\n",
    "        try:\n",
    "            print(f\"endOfImageTelemetry AFTER next startIntegration: {diff_counts[False]}\")\n",
    "        except KeyError:\n",
    "            pass\n",
    "        print(f\"Mean Elapsed Time (sec): {np.mean(elapsed_time):.3f}\")\n",
    "    except KeyError:\n",
    "        print(\"Badly formatted key.\")"
   ]
  },
  {
   "cell_type": "code",
   "execution_count": null,
   "metadata": {},
   "outputs": [],
   "source": []
  }
 ],
 "metadata": {
  "kernelspec": {
   "display_name": "LSST",
   "language": "python",
   "name": "lsst"
  },
  "language_info": {
   "codemirror_mode": {
    "name": "ipython",
    "version": 3
   },
   "file_extension": ".py",
   "mimetype": "text/x-python",
   "name": "python",
   "nbconvert_exporter": "python",
   "pygments_lexer": "ipython3",
   "version": "3.8.6"
  }
 },
 "nbformat": 4,
 "nbformat_minor": 4
}
