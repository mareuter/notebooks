{
 "cells": [
  {
   "cell_type": "code",
   "execution_count": null,
   "metadata": {},
   "outputs": [],
   "source": [
    "import math\n",
    "\n",
    "import efd_utils\n",
    "import df_utils"
   ]
  },
  {
   "cell_type": "code",
   "execution_count": null,
   "metadata": {},
   "outputs": [],
   "source": [
    "location = \"tucson\""
   ]
  },
  {
   "cell_type": "code",
   "execution_count": null,
   "metadata": {},
   "outputs": [],
   "source": [
    "client = efd_utils.get_client(location)"
   ]
  },
  {
   "cell_type": "code",
   "execution_count": null,
   "metadata": {},
   "outputs": [],
   "source": [
    "# Only Camera systems follow this pattern\n",
    "cameras = ['ATCamera', 'CCCamera', 'MTCamera']\n",
    "cscs = [efd_utils.CSC.from_entry(camera) for camera in cameras]"
   ]
  },
  {
   "cell_type": "code",
   "execution_count": null,
   "metadata": {},
   "outputs": [],
   "source": [
    "summary_state = 4  # OFFLINE\n",
    "time_window = 10.0  # seconds\n",
    "time_format = '%Y-%m-%dT%H:%M:%S.%f'"
   ]
  },
  {
   "cell_type": "code",
   "execution_count": null,
   "metadata": {},
   "outputs": [],
   "source": [
    "print(\"#########################################################\")\n",
    "print(\"#               OFFLINE State Transition                #\")\n",
    "print(\"#########################################################\")\n",
    "for csc in cscs:\n",
    "    query = efd_utils.get_base_query(columns=[\"private_sndStamp\",\n",
    "                                              \"summaryState\"],\n",
    "                                     csc_name=csc.name,\n",
    "                                     csc_index=csc.index,\n",
    "                                     topic_name=\"logevent_summaryState\")\n",
    "\n",
    "    query += f\" WHERE summaryState={summary_state}\"\n",
    "    query += \" \" + efd_utils.get_time_clause(last=True)\n",
    "\n",
    "    ss_df = await client.query(query)\n",
    "    try:\n",
    "        ss_df = df_utils.convert_timestamps(ss_df, [\"private_sndStamp\"])\n",
    "    except KeyError:\n",
    "        pass\n",
    "\n",
    "    query = efd_utils.get_base_query(columns=[\"private_sndStamp\",\n",
    "                                              \"substate\"],\n",
    "                                     csc_name=csc.name,\n",
    "                                     csc_index=csc.index,\n",
    "                                     topic_name=\"logevent_offlineDetailedState\")\n",
    "\n",
    "    query += efd_utils.get_time_clause(last=True, limit=2)\n",
    "\n",
    "    ods_df = await client.query(query)\n",
    "    try:\n",
    "        ods_df = df_utils.convert_timestamps(ods_df, [\"private_sndStamp\"])\n",
    "    except KeyError:\n",
    "        pass\n",
    "\n",
    "    print(\"---------------------------------------------------------\")\n",
    "    print(f\"CSC: {csc.full_name}\")\n",
    "    try:\n",
    "        print(f\"Time of Summary State: {ss_df.private_sndStamp[0].strftime(time_format)}\")\n",
    "    except AttributeError:\n",
    "        print(f\"summaryState event not present for {csc.full_name}\")\n",
    "    try:\n",
    "        delta = df_utils.time_delta(ss_df.private_sndStamp.values[0],\n",
    "                                    ods_df.private_sndStamp.values[0])\n",
    "        if math.fabs(delta) > time_window:\n",
    "            print(f\"Large delay in offlineDetailedState publish: {delta:.1f} seconds\")\n",
    "    except AttributeError:\n",
    "        pass\n",
    "    try:\n",
    "        print(f\"First Offline Detailed State: {ods_df.substate.values[1]}\")\n",
    "        print(f\"Second Offline Detailed State: {ods_df.substate.values[0]}\")\n",
    "    except AttributeError:\n",
    "        print(f\"offlineDetailedState event not present for {csc.full_name}\")"
   ]
  },
  {
   "cell_type": "code",
   "execution_count": null,
   "metadata": {},
   "outputs": [],
   "source": []
  }
 ],
 "metadata": {
  "kernelspec": {
   "display_name": "Python 3",
   "language": "python",
   "name": "python3"
  },
  "language_info": {
   "codemirror_mode": {
    "name": "ipython",
    "version": 3
   },
   "file_extension": ".py",
   "mimetype": "text/x-python",
   "name": "python",
   "nbconvert_exporter": "python",
   "pygments_lexer": "ipython3",
   "version": "3.6.8"
  }
 },
 "nbformat": 4,
 "nbformat_minor": 2
}
