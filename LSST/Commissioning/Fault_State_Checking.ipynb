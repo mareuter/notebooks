{
 "cells": [
  {
   "cell_type": "code",
   "execution_count": null,
   "metadata": {},
   "outputs": [],
   "source": [
    "from datetime import datetime\n",
    "\n",
    "import numpy as np\n",
    "import pandas as pd\n",
    "\n",
    "import efd_utils"
   ]
  },
  {
   "cell_type": "code",
   "execution_count": null,
   "metadata": {},
   "outputs": [],
   "source": [
    "location = \"summit\""
   ]
  },
  {
   "cell_type": "code",
   "execution_count": null,
   "metadata": {},
   "outputs": [],
   "source": [
    "client = efd_utils.get_client(location)"
   ]
  },
  {
   "cell_type": "code",
   "execution_count": null,
   "metadata": {},
   "outputs": [],
   "source": [
    "csc = efd_utils.CSC(\"Environment\", 1)\n",
    "d1 = datetime(2019, 9, 16)\n",
    "d2 = datetime(2019, 9, 23)\n",
    "summary_state = 3  # FAULT\n",
    "time_window = 1.0  # seconds"
   ]
  },
  {
   "cell_type": "code",
   "execution_count": null,
   "metadata": {},
   "outputs": [],
   "source": [
    "query = efd_utils.get_base_query(columns=[\"private_sndStamp\",\n",
    "                                          \"summaryState\"],\n",
    "                                 csc_name=csc.name,\n",
    "                                 csc_index=csc.index,\n",
    "                                 topic_name=\"logevent_summaryState\")\n",
    "# Handle indexed components from base query\n",
    "if \"WHERE\" not in query:\n",
    "    query += \" WHERE\"\n",
    "query += f\" AND summaryState={summary_state}\"\n",
    "query += \" AND \" + efd_utils.get_time_clause(date_range=(d1, d2))\n",
    "ss_df = await client.query(query)"
   ]
  },
  {
   "cell_type": "code",
   "execution_count": null,
   "metadata": {},
   "outputs": [],
   "source": [
    "query = efd_utils.get_base_query(columns=[\"private_sndStamp\",\n",
    "                                          \"errorCode\",\n",
    "                                          \"errorReport\",\n",
    "                                          \"traceback\"],\n",
    "                                 csc_name=csc.name,\n",
    "                                 csc_index=csc.index,\n",
    "                                 topic_name=\"logevent_errorCode\")\n",
    "query += \" AND \" + efd_utils.get_time_clause(date_range=(d1, d2))\n",
    "ec_df = await client.query(query)"
   ]
  },
  {
   "cell_type": "code",
   "execution_count": null,
   "metadata": {},
   "outputs": [],
   "source": [
    "timedelta = pd.Timedelta(time_window, unit='sec')"
   ]
  },
  {
   "cell_type": "code",
   "execution_count": null,
   "metadata": {},
   "outputs": [],
   "source": [
    "if ss_df.index.size:\n",
    "    for timestamp in ss_df.index:\n",
    "        t1 = timestamp - timedelta\n",
    "        t2 = timestamp + timedelta\n",
    "        error_indexes = ec_df.index.to_numpy()\n",
    "        index = np.logical_and(error_indexes > t1, error_indexes < t2)\n",
    "        error = ec_df[index]\n",
    "        print(\"######################################\")\n",
    "        print(f\"Fault State: {error.errorCode.index.strftime('%Y-%m-%dT%H:%M:%S.%f')[0]}\")\n",
    "        print(f\"Error Code: {error.errorCode.values[0]}\")\n",
    "        print(f\"Error Report: {error.errorReport.values[0]}\")\n",
    "        print(f\"Traceback: {error.traceback.values[0]}\")\n",
    "else:\n",
    "    print(f\"No fault states found for {csc}\")"
   ]
  },
  {
   "cell_type": "code",
   "execution_count": null,
   "metadata": {},
   "outputs": [],
   "source": []
  }
 ],
 "metadata": {
  "kernelspec": {
   "display_name": "LSST",
   "language": "python",
   "name": "lsst"
  },
  "language_info": {
   "codemirror_mode": {
    "name": "ipython",
    "version": 3
   },
   "file_extension": ".py",
   "mimetype": "text/x-python",
   "name": "python",
   "nbconvert_exporter": "python",
   "pygments_lexer": "ipython3",
   "version": "3.7.2"
  }
 },
 "nbformat": 4,
 "nbformat_minor": 2
}
