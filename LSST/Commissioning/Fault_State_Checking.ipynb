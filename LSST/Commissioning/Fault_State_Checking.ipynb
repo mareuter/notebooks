{
 "cells": [
  {
   "cell_type": "code",
   "execution_count": null,
   "metadata": {},
   "outputs": [],
   "source": [
    "from datetime import datetime\n",
    "import os\n",
    "\n",
    "import aioinflux\n",
    "import holoviews as hv\n",
    "from holoviews import opts\n",
    "hv.extension('bokeh')\n",
    "import numpy as np\n",
    "import pandas as pd"
   ]
  },
  {
   "cell_type": "code",
   "execution_count": null,
   "metadata": {},
   "outputs": [],
   "source": [
    "token_file = os.path.join(os.path.expanduser(\"~/\"), \".summit_efd\")\n",
    "with open(token_file, 'r') as fd:\n",
    "    uname = fd.readline().strip()  # Can't hurt to be paranoid\n",
    "    pwd = fd.readline().strip()"
   ]
  },
  {
   "cell_type": "code",
   "execution_count": null,
   "metadata": {},
   "outputs": [],
   "source": [
    "client = aioinflux.InfluxDBClient(host='summit-influxdb-efd.lsst.codes',\n",
    "                                  port=443,\n",
    "                                  ssl=True,\n",
    "                                  username=uname,\n",
    "                                  password=pwd,\n",
    "                                  db='efd',\n",
    "                                  output=\"dataframe\")"
   ]
  },
  {
   "cell_type": "code",
   "execution_count": null,
   "metadata": {},
   "outputs": [],
   "source": [
    "csc = \"Environment\"\n",
    "csc_index = 1\n",
    "last = False\n",
    "d1 = datetime(2019, 9, 13)\n",
    "d2 = datetime(2019, 9, 16)\n",
    "time_window = 1.0  # seconds"
   ]
  },
  {
   "cell_type": "code",
   "execution_count": null,
   "metadata": {},
   "outputs": [],
   "source": [
    "query_base = \"SELECT {0} FROM \\\"efd\\\".\\\"autogen\\\".\\\"lsst.sal.{1}\\\"\"\n",
    "query_time_range = \"WHERE time >= \\'{2}\\' AND time <= \\'{3}\\'\"\n",
    "query_time_last = \"ORDER BY time DESC LIMIT 1\""
   ]
  },
  {
   "cell_type": "code",
   "execution_count": null,
   "metadata": {},
   "outputs": [],
   "source": [
    "if last:\n",
    "    query = query_base + \" \" + query_time_last\n",
    "else:\n",
    "    query = query_base + \" \" + query_time_range"
   ]
  },
  {
   "cell_type": "code",
   "execution_count": null,
   "metadata": {},
   "outputs": [],
   "source": [
    "summary_state_cols = \"private_sndStamp,summaryState\"\n",
    "if csc_index > 0:\n",
    "    summary_state_cols += f\",{csc}ID\"\n",
    "ss_df = await client.query(query.format(summary_state_cols, f\"{csc}.logevent_summaryState\", d1, d2))"
   ]
  },
  {
   "cell_type": "code",
   "execution_count": null,
   "metadata": {},
   "outputs": [],
   "source": [
    "error_code_cols = \"private_sndStamp,errorCode,errorReport,traceback\"\n",
    "if csc_index > 0:\n",
    "    error_code_cols += f\",{csc}ID\"\n",
    "ec_df = await client.query(query.format(error_code_cols, f\"{csc}.logevent_errorCode\", d1, d2))"
   ]
  },
  {
   "cell_type": "code",
   "execution_count": null,
   "metadata": {},
   "outputs": [],
   "source": [
    "if csc_index > 0:\n",
    "    fault_states = ss_df[(ss_df['summaryState'] == 3) & (ss_df[f'{csc}ID'] == csc_index)]\n",
    "else:\n",
    "    fault_states = ss_df[(ss_df['summaryState'] == 3)]"
   ]
  },
  {
   "cell_type": "code",
   "execution_count": null,
   "metadata": {},
   "outputs": [],
   "source": [
    "timedelta = pd.Timedelta(time_window, unit='sec')"
   ]
  },
  {
   "cell_type": "code",
   "execution_count": null,
   "metadata": {},
   "outputs": [],
   "source": [
    "if fault_states.index.size:\n",
    "    for timestamp in fault_states.index:\n",
    "        t1 = timestamp - timedelta\n",
    "        t2 = timestamp + timedelta\n",
    "        error_indexes = ec_df.index.to_numpy()\n",
    "        index = np.logical_and(error_indexes > t1, error_indexes < t2)\n",
    "        error = ec_df[index]\n",
    "        print(\"######################################\")\n",
    "        print(f\"Fault State: {error.errorCode.index.strftime('%Y-%m-%dT%H:%M:%S.%f')[0]}\")\n",
    "        print(f\"Error Code: {error.errorCode.values[0]}\")\n",
    "        print(f\"Error Report: {error.errorReport.values[0]}\")\n",
    "        print(f\"Traceback: {error.traceback.values[0]}\")\n",
    "else:\n",
    "    print(f\"No fault states found for {csc}\")"
   ]
  },
  {
   "cell_type": "code",
   "execution_count": null,
   "metadata": {},
   "outputs": [],
   "source": []
  }
 ],
 "metadata": {
  "kernelspec": {
   "display_name": "LSST",
   "language": "python",
   "name": "lsst"
  },
  "language_info": {
   "codemirror_mode": {
    "name": "ipython",
    "version": 3
   },
   "file_extension": ".py",
   "mimetype": "text/x-python",
   "name": "python",
   "nbconvert_exporter": "python",
   "pygments_lexer": "ipython3",
   "version": "3.7.2"
  }
 },
 "nbformat": 4,
 "nbformat_minor": 2
}
