{
 "cells": [
  {
   "cell_type": "code",
   "execution_count": null,
   "metadata": {},
   "outputs": [],
   "source": [
    "from datetime import datetime\n",
    "\n",
    "import numpy as np\n",
    "import pandas as pd\n",
    "\n",
    "import efd_utils\n",
    "import df_utils"
   ]
  },
  {
   "cell_type": "code",
   "execution_count": null,
   "metadata": {},
   "outputs": [],
   "source": [
    "location = \"summit\"\n",
    "#location = \"tucson\""
   ]
  },
  {
   "cell_type": "code",
   "execution_count": null,
   "metadata": {},
   "outputs": [],
   "source": [
    "client = efd_utils.get_client(location)"
   ]
  },
  {
   "cell_type": "code",
   "execution_count": null,
   "metadata": {},
   "outputs": [],
   "source": [
    "csc = efd_utils.CSC(\"Environment\", 1)\n",
    "#csc = efd_utils.CSC.from_entry(\"ATArchiver\")\n",
    "#csc = efd_utils.CSC.from_entry(\"ATPtg\")\n",
    "#csc = efd_utils.CSC.from_entry(\"ATMCS\")\n",
    "#csc = efd_utils.CSC.from_entry(\"ATSpectrograph\")\n",
    "d1 = datetime(2019, 11, 26)\n",
    "d2 = datetime(2019, 12, 10)\n",
    "summary_state = 3  # FAULT\n",
    "time_window = 10.0  # seconds\n",
    "time_format = '%Y-%m-%dT%H:%M:%S.%f'"
   ]
  },
  {
   "cell_type": "code",
   "execution_count": null,
   "metadata": {},
   "outputs": [],
   "source": [
    "query = efd_utils.get_base_query(columns=[\"private_sndStamp\",\n",
    "                                          \"private_rcvStamp\",\n",
    "                                          \"summaryState\"],\n",
    "                                 csc_name=csc.name,\n",
    "                                 csc_index=csc.index,\n",
    "                                 topic_name=\"logevent_summaryState\")\n",
    "# Handle indexed components from base query\n",
    "if \"WHERE\" not in query:\n",
    "    query += \" WHERE\"\n",
    "if csc.index:\n",
    "    query += \" AND\"\n",
    "query += f\" summaryState={summary_state}\"\n",
    "query += \" AND \" + efd_utils.get_time_clause(date_range=(d1, d2))\n",
    "#print(query)\n",
    "ss_df = await client.query(query)\n",
    "try:\n",
    "    ss_df = df_utils.convert_timestamps(ss_df, [\"private_sndStamp\",\n",
    "                                                \"private_rcvStamp\"])\n",
    "except KeyError:\n",
    "    print(\"NO DATA FOUND!!!!\")\n",
    "#print(ss_df)"
   ]
  },
  {
   "cell_type": "code",
   "execution_count": null,
   "metadata": {},
   "outputs": [],
   "source": [
    "query = efd_utils.get_base_query(columns=[\"private_sndStamp\",\n",
    "                                          \"private_rcvStamp\",\n",
    "                                          \"errorCode\",\n",
    "                                          \"errorReport\",\n",
    "                                          \"traceback\"],\n",
    "                                 csc_name=csc.name,\n",
    "                                 csc_index=csc.index,\n",
    "                                 topic_name=\"logevent_errorCode\")\n",
    "if \"WHERE\" not in query:\n",
    "    query += \" WHERE\"\n",
    "if csc.index:\n",
    "    query += \" AND\"\n",
    "query += \" \" + efd_utils.get_time_clause(date_range=(d1, d2))\n",
    "#print(query)\n",
    "ec_df = await client.query(query)\n",
    "ec_df = df_utils.convert_timestamps(ec_df, [\"private_sndStamp\",\n",
    "                                            \"private_rcvStamp\"])\n",
    "#print(ec_df)"
   ]
  },
  {
   "cell_type": "code",
   "execution_count": null,
   "metadata": {},
   "outputs": [],
   "source": [
    "timedelta = pd.Timedelta(time_window, unit='sec')"
   ]
  },
  {
   "cell_type": "code",
   "execution_count": null,
   "metadata": {},
   "outputs": [],
   "source": [
    "if ss_df.private_sndStamp_date.size:\n",
    "    for timestamp in ss_df.private_sndStamp_date:\n",
    "        print(\"######################################\")\n",
    "        print(f\"Fault Summary State: {timestamp.strftime(time_format)}\")\n",
    "        t1 = timestamp - timedelta\n",
    "        t2 = timestamp + timedelta\n",
    "        error_indexes = ec_df.private_sndStamp_date.to_numpy()\n",
    "        index = np.logical_and(error_indexes > t1, error_indexes < t2)\n",
    "        error = ec_df[index]\n",
    "        if error.shape[0] > 1:\n",
    "            print(\"Multiple errorCode messages associated with Fault State!\")\n",
    "        for entry in range(error.shape[0]):\n",
    "            print(\"----------------------------------\")\n",
    "            snd_stamp = error.private_sndStamp_date[entry].strftime(time_format)\n",
    "            rcv_stamp = error.private_rcvStamp_date[entry].strftime(time_format)\n",
    "            print(f\"Fault State Report: {snd_stamp} ({rcv_stamp})\")\n",
    "            print(f\"Error Code: {error.errorCode.values[entry]}\")\n",
    "            print(f\"Error Report: {error.errorReport.values[entry]}\")\n",
    "            print(f\"Traceback: {error.traceback.values[entry]}\")\n",
    "else:\n",
    "    print(f\"No fault states found for {csc}\")"
   ]
  },
  {
   "cell_type": "code",
   "execution_count": null,
   "metadata": {},
   "outputs": [],
   "source": []
  }
 ],
 "metadata": {
  "kernelspec": {
   "display_name": "LSST",
   "language": "python",
   "name": "lsst"
  },
  "language_info": {
   "codemirror_mode": {
    "name": "ipython",
    "version": 3
   },
   "file_extension": ".py",
   "mimetype": "text/x-python",
   "name": "python",
   "nbconvert_exporter": "python",
   "pygments_lexer": "ipython3",
   "version": "3.7.2"
  }
 },
 "nbformat": 4,
 "nbformat_minor": 4
}
