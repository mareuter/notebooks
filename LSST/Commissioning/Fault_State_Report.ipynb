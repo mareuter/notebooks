{
 "cells": [
  {
   "cell_type": "code",
   "execution_count": null,
   "metadata": {},
   "outputs": [],
   "source": [
    "from astropy.time import Time\n",
    "import numpy as np\n",
    "import pandas as pd\n",
    "\n",
    "import df_utils\n",
    "from lsst_efd_client import EfdClient"
   ]
  },
  {
   "cell_type": "code",
   "execution_count": null,
   "metadata": {},
   "outputs": [],
   "source": [
    "#location = \"tucson\"\n",
    "location = \"summit\""
   ]
  },
  {
   "cell_type": "code",
   "execution_count": null,
   "metadata": {},
   "outputs": [],
   "source": [
    "client = EfdClient(location)"
   ]
  },
  {
   "cell_type": "code",
   "execution_count": null,
   "metadata": {},
   "outputs": [],
   "source": [
    "#csc = \"ATMonochromator\"\n",
    "#csc = \"Environment\"\n",
    "csc = \"ATArchiver\"\n",
    "#csc = \"ATMCS\"\n",
    "index = None\n",
    "d1 = Time(\"2020-01-27\", scale='utc')\n",
    "d2 = Time(\"2020-01-31\", scale='utc')\n",
    "summary_state = 3  # FAULT\n",
    "time_window = 10.0  # seconds\n",
    "time_format = '%Y-%m-%dT%H:%M:%S.%f'"
   ]
  },
  {
   "cell_type": "code",
   "execution_count": null,
   "metadata": {},
   "outputs": [],
   "source": [
    "ss_df = await client.select_time_series(f\"lsst.sal.{csc}.logevent_summaryState\", \n",
    "                                        [\"private_sndStamp\",\n",
    "                                         \"private_rcvStamp\",\n",
    "                                         \"summaryState\"], d1, d2, index=index)"
   ]
  },
  {
   "cell_type": "code",
   "execution_count": null,
   "metadata": {},
   "outputs": [],
   "source": [
    "try:\n",
    "    ss_df = df_utils.convert_timestamps(ss_df, [\"private_sndStamp\",\n",
    "                                                \"private_rcvStamp\"])\n",
    "except KeyError:\n",
    "    print(\"NO DATA FOUND!!!!\")"
   ]
  },
  {
   "cell_type": "code",
   "execution_count": null,
   "metadata": {},
   "outputs": [],
   "source": [
    "ec_df = await client.select_time_series(f\"lsst.sal.{csc}.logevent_errorCode\",\n",
    "                                        [\"private_sndStamp\",\n",
    "                                         \"private_rcvStamp\",\n",
    "                                         \"errorCode\",\n",
    "                                         \"errorReport\",\n",
    "                                         \"traceback\"], d1, d2)\n",
    "ec_df = df_utils.convert_timestamps(ec_df, [\"private_sndStamp\",\n",
    "                                            \"private_rcvStamp\"])"
   ]
  },
  {
   "cell_type": "code",
   "execution_count": null,
   "metadata": {},
   "outputs": [],
   "source": [
    "timedelta = pd.Timedelta(time_window, unit='sec')"
   ]
  },
  {
   "cell_type": "code",
   "execution_count": null,
   "metadata": {},
   "outputs": [],
   "source": [
    "ss_df = ss_df[ss_df.summaryState == summary_state]"
   ]
  },
  {
   "cell_type": "code",
   "execution_count": null,
   "metadata": {},
   "outputs": [],
   "source": [
    "if ss_df.private_sndStamp_date.size:\n",
    "    for timestamp in ss_df.private_sndStamp_date:\n",
    "        print(\"######################################\")\n",
    "        print(f\"Fault Summary State: {timestamp.strftime(time_format)}\")\n",
    "        t1 = timestamp - timedelta\n",
    "        t2 = timestamp + timedelta\n",
    "        error_indexes = ec_df.private_sndStamp_date.to_numpy()\n",
    "        index = np.logical_and(error_indexes > t1, error_indexes < t2)\n",
    "        error = ec_df[index]\n",
    "        if error.shape[0] > 1:\n",
    "            print(\"Multiple errorCode messages associated with Fault State!\")\n",
    "        for entry in range(error.shape[0]):\n",
    "            print(\"----------------------------------\")\n",
    "            snd_stamp = error.private_sndStamp_date[entry].strftime(time_format)\n",
    "            rcv_stamp = error.private_rcvStamp_date[entry].strftime(time_format)\n",
    "            print(f\"Fault State Report: {snd_stamp} ({rcv_stamp})\")\n",
    "            print(f\"Error Code: {error.errorCode.values[entry]}\")\n",
    "            print(f\"Error Report: {error.errorReport.values[entry]}\")\n",
    "            print(f\"Traceback: {error.traceback.values[entry]}\")\n",
    "else:\n",
    "    print(f\"No fault states found for {csc}\")"
   ]
  },
  {
   "cell_type": "code",
   "execution_count": null,
   "metadata": {},
   "outputs": [],
   "source": []
  }
 ],
 "metadata": {
  "kernelspec": {
   "display_name": "LSST",
   "language": "python",
   "name": "lsst"
  },
  "language_info": {
   "codemirror_mode": {
    "name": "ipython",
    "version": 3
   },
   "file_extension": ".py",
   "mimetype": "text/x-python",
   "name": "python",
   "nbconvert_exporter": "python",
   "pygments_lexer": "ipython3",
   "version": "3.7.2"
  }
 },
 "nbformat": 4,
 "nbformat_minor": 4
}
