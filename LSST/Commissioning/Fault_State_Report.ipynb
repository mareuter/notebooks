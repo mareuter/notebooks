{
 "cells": [
  {
   "cell_type": "code",
   "execution_count": 11,
   "metadata": {},
   "outputs": [],
   "source": [
    "from astropy.time import Time\n",
    "import numpy as np\n",
    "import pandas as pd\n",
    "\n",
    "import df_utils\n",
    "from jupyterlabutils.notebook import EfdClient"
   ]
  },
  {
   "cell_type": "code",
   "execution_count": 12,
   "metadata": {},
   "outputs": [],
   "source": [
    "#location = \"tucson\"\n",
    "location = \"summit\""
   ]
  },
  {
   "cell_type": "code",
   "execution_count": 13,
   "metadata": {},
   "outputs": [],
   "source": [
    "client = EfdClient(location)"
   ]
  },
  {
   "cell_type": "code",
   "execution_count": 14,
   "metadata": {},
   "outputs": [],
   "source": [
    "#csc = \"ATMonochromator\"\n",
    "#csc = \"Environment\"\n",
    "csc = \"ATArchiver\"\n",
    "#csc = \"ATMCS\"\n",
    "d1 = pd.Timestamp(2020, 1, 29).tz_localize('UTC')\n",
    "d2 = pd.Timestamp(2020, 1, 31).tz_localize('UTC')\n",
    "summary_state = 3  # FAULT\n",
    "time_window = 10.0  # seconds\n",
    "time_format = '%Y-%m-%dT%H:%M:%S.%f'"
   ]
  },
  {
   "cell_type": "code",
   "execution_count": 15,
   "metadata": {},
   "outputs": [],
   "source": [
    "ss_df = await client.select_time_series(f\"lsst.sal.{csc}.logevent_summaryState\", \n",
    "                                        [\"private_sndStamp\",\n",
    "                                         \"private_rcvStamp\",\n",
    "                                         \"summaryState\"], d1, d2)"
   ]
  },
  {
   "cell_type": "code",
   "execution_count": 16,
   "metadata": {},
   "outputs": [],
   "source": [
    "try:\n",
    "    ss_df = df_utils.convert_timestamps(ss_df, [\"private_sndStamp\",\n",
    "                                                \"private_rcvStamp\"])\n",
    "except KeyError:\n",
    "    print(\"NO DATA FOUND!!!!\")"
   ]
  },
  {
   "cell_type": "code",
   "execution_count": 17,
   "metadata": {},
   "outputs": [],
   "source": [
    "ec_df = await client.select_time_series(f\"lsst.sal.{csc}.logevent_errorCode\",\n",
    "                                        [\"private_sndStamp\",\n",
    "                                         \"private_rcvStamp\",\n",
    "                                         \"errorCode\",\n",
    "                                         \"errorReport\",\n",
    "                                         \"traceback\"], d1, d2)\n",
    "ec_df = df_utils.convert_timestamps(ec_df, [\"private_sndStamp\",\n",
    "                                            \"private_rcvStamp\"])"
   ]
  },
  {
   "cell_type": "code",
   "execution_count": 18,
   "metadata": {},
   "outputs": [],
   "source": [
    "timedelta = pd.Timedelta(time_window, unit='sec')"
   ]
  },
  {
   "cell_type": "code",
   "execution_count": 19,
   "metadata": {},
   "outputs": [],
   "source": [
    "ss_df = ss_df[ss_df.summaryState == summary_state]"
   ]
  },
  {
   "cell_type": "code",
   "execution_count": 20,
   "metadata": {},
   "outputs": [
    {
     "name": "stdout",
     "output_type": "stream",
     "text": [
      "######################################\n",
      "Fault Summary State: 2020-01-29T16:20:50.273252\n",
      "----------------------------------\n",
      "Fault State Report: 2020-01-29T16:20:50.270270 (2020-01-29T16:20:50.273722)\n",
      "Error Code: 5751\n",
      "Error Report: failed to received heartbeat ack from at_archive_controller\n",
      "Traceback: \n",
      "######################################\n",
      "Fault Summary State: 2020-01-29T17:35:16.457899\n",
      "----------------------------------\n",
      "Fault State Report: 2020-01-29T17:35:16.454982 (2020-01-29T17:35:16.457903)\n",
      "Error Code: 5751\n",
      "Error Report: failed to received heartbeat ack from at_archive_controller\n",
      "Traceback: \n",
      "######################################\n",
      "Fault Summary State: 2020-01-29T23:27:09.358141\n",
      "----------------------------------\n",
      "Fault State Report: 2020-01-29T23:27:09.355275 (2020-01-29T23:27:09.358161)\n",
      "Error Code: 5755\n",
      "Error Report: Forwarder is does not appear to be alive.  Going into fault state.\n",
      "Traceback: \n",
      "######################################\n",
      "Fault Summary State: 2020-01-30T07:21:11.142887\n",
      "----------------------------------\n",
      "Fault State Report: 2020-01-30T07:21:11.140036 (2020-01-30T07:21:11.142953)\n",
      "Error Code: 5755\n",
      "Error Report: Forwarder is does not appear to be alive.  Going into fault state.\n",
      "Traceback: \n"
     ]
    }
   ],
   "source": [
    "if ss_df.private_sndStamp_date.size:\n",
    "    for timestamp in ss_df.private_sndStamp_date:\n",
    "        print(\"######################################\")\n",
    "        print(f\"Fault Summary State: {timestamp.strftime(time_format)}\")\n",
    "        t1 = timestamp - timedelta\n",
    "        t2 = timestamp + timedelta\n",
    "        error_indexes = ec_df.private_sndStamp_date.to_numpy()\n",
    "        index = np.logical_and(error_indexes > t1, error_indexes < t2)\n",
    "        error = ec_df[index]\n",
    "        if error.shape[0] > 1:\n",
    "            print(\"Multiple errorCode messages associated with Fault State!\")\n",
    "        for entry in range(error.shape[0]):\n",
    "            print(\"----------------------------------\")\n",
    "            snd_stamp = error.private_sndStamp_date[entry].strftime(time_format)\n",
    "            rcv_stamp = error.private_rcvStamp_date[entry].strftime(time_format)\n",
    "            print(f\"Fault State Report: {snd_stamp} ({rcv_stamp})\")\n",
    "            print(f\"Error Code: {error.errorCode.values[entry]}\")\n",
    "            print(f\"Error Report: {error.errorReport.values[entry]}\")\n",
    "            print(f\"Traceback: {error.traceback.values[entry]}\")\n",
    "else:\n",
    "    print(f\"No fault states found for {csc}\")"
   ]
  },
  {
   "cell_type": "code",
   "execution_count": null,
   "metadata": {},
   "outputs": [],
   "source": []
  }
 ],
 "metadata": {
  "kernelspec": {
   "display_name": "LSST",
   "language": "python",
   "name": "lsst"
  },
  "language_info": {
   "codemirror_mode": {
    "name": "ipython",
    "version": 3
   },
   "file_extension": ".py",
   "mimetype": "text/x-python",
   "name": "python",
   "nbconvert_exporter": "python",
   "pygments_lexer": "ipython3",
   "version": "3.7.2"
  }
 },
 "nbformat": 4,
 "nbformat_minor": 4
}
