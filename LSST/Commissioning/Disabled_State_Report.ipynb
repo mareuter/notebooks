{
 "cells": [
  {
   "cell_type": "code",
   "execution_count": null,
   "metadata": {},
   "outputs": [],
   "source": [
    "import math\n",
    "\n",
    "import efd_utils\n",
    "import df_utils"
   ]
  },
  {
   "cell_type": "code",
   "execution_count": null,
   "metadata": {},
   "outputs": [],
   "source": [
    "location = \"summit\""
   ]
  },
  {
   "cell_type": "code",
   "execution_count": null,
   "metadata": {},
   "outputs": [],
   "source": [
    "client = efd_utils.get_client(location)\n",
    "cscs = efd_utils.get_cscs(f\"{location}_systems.dat\")"
   ]
  },
  {
   "cell_type": "code",
   "execution_count": null,
   "metadata": {},
   "outputs": [],
   "source": [
    "summary_state = 1  # DISABLE\n",
    "time_window = 10.0  # seconds\n",
    "time_format = '%Y-%m-%dT%H:%M:%S.%f'"
   ]
  },
  {
   "cell_type": "code",
   "execution_count": null,
   "metadata": {},
   "outputs": [],
   "source": [
    "print(\"###########################################################\")\n",
    "print(\"#   start Command: STANDBY => DISABLED State Transition   #\")\n",
    "print(\"###########################################################\")\n",
    "for csc in cscs:\n",
    "    query = efd_utils.get_base_query(columns=[\"private_sndStamp\",\n",
    "                                              \"summaryState\"],\n",
    "                                     csc_name=csc.name,\n",
    "                                     csc_index=csc.index,\n",
    "                                     topic_name=\"logevent_summaryState\")\n",
    "    # Handle indexed components from base query\n",
    "    if \"WHERE\" not in query:\n",
    "        query += \" WHERE\"\n",
    "    else:\n",
    "        query += \" AND\"\n",
    "    query += f\" summaryState={summary_state}\"\n",
    "    query += \" \" + efd_utils.get_time_clause(last=True)\n",
    "\n",
    "    ss_df = await client.query(query)\n",
    "    ss_df = df_utils.convert_timestamps(ss_df, [\"private_sndStamp\"])\n",
    "\n",
    "    query = efd_utils.get_base_query(columns=[\"*\"],\n",
    "                                     csc_name=csc.name,\n",
    "                                     csc_index=csc.index,\n",
    "                                     topic_name=\"logevent_settingsApplied\")\n",
    "\n",
    "    query += \" \" + efd_utils.get_time_clause(last=True)\n",
    "\n",
    "    sa_df = await client.query(query)\n",
    "    try:\n",
    "        sa_df = df_utils.convert_timestamps(sa_df, [\"private_sndStamp\"])\n",
    "    except KeyError:\n",
    "        pass\n",
    "\n",
    "    measurements_df = await client.query(\"SHOW MEASUREMENTS\")\n",
    "    csc_sa_list = efd_utils.filter_measurements(measurements_df, csc.name, \"settingsApplied\")\n",
    "    csc_sa = [x for x in csc_sa_list if x != \"logevent_settingsApplied\"]\n",
    "\n",
    "    query = efd_utils.get_base_query(columns=[\"private_sndStamp\",\n",
    "                                              \"appliedSettingsMatchStartIsTrue\"],\n",
    "                                     csc_name=csc.name,\n",
    "                                     csc_index=csc.index,\n",
    "                                     topic_name=\"logevent_appliedSettingsMatchStart\")\n",
    "\n",
    "    query += \" \" + efd_utils.get_time_clause(last=True)\n",
    "\n",
    "    asms_df = await client.query(query)\n",
    "    try:\n",
    "        asms_df = df_utils.convert_timestamps(asms_df, [\"private_sndStamp\"])\n",
    "    except KeyError:\n",
    "        pass\n",
    "\n",
    "    print(\"-----------------------------------------------------------\")\n",
    "    print(f\"CSC: {csc.full_name}\")\n",
    "    try:\n",
    "        print(f\"Time of Summary State: {ss_df.private_sndStamp[0].strftime(time_format)}\")\n",
    "    except AttributeError:\n",
    "        print(f\"summaryState event not present for {csc.full_name}\")\n",
    "    try:\n",
    "        if sa_df.size:\n",
    "            delta = df_utils.time_delta(ss_df.private_sndStamp.values[0],\n",
    "                                        sa_df.private_sndStamp.values[0])\n",
    "            if math.fabs(delta) > time_window:\n",
    "                print(f\"Large delay in settingsApplied publish: {delta:.1f} seconds\")\n",
    "            #print(sa_df.columns)\n",
    "        else:\n",
    "            print(f\"settingsApplied event not present for {csc.full_name}\")\n",
    "    except AttributeError:\n",
    "        print(f\"settingsApplied event not present for {csc.full_name}\")\n",
    "    print(f\"Number of CSC specific settingsApplied event: {len(csc_sa)}\")\n",
    "    try:\n",
    "        if asms_df.size:\n",
    "            delta = df_utils.time_delta(ss_df.private_sndStamp.values[0],\n",
    "                                        asms_df.private_sndStamp.values[0])\n",
    "            if math.fabs(delta) > time_window:\n",
    "                print(f\"Large delay in appliedSettingsMatchStart publish: {delta:.1f} seconds\")\n",
    "            asmsit = asms_df.appliedSettingsMatchStartIsTrue.values[0]\n",
    "            print(f\"Applied Settings Match Start Is True: {asmsit}\")\n",
    "        else:\n",
    "            print(f\"appliedSettingsMatchStart event not present for {csc.full_name}\")\n",
    "    except AttributeError:\n",
    "        print(f\"appliedSettingsMatchStart event not present for {csc.full_name}\")"
   ]
  },
  {
   "cell_type": "code",
   "execution_count": null,
   "metadata": {},
   "outputs": [],
   "source": []
  }
 ],
 "metadata": {
  "kernelspec": {
   "display_name": "Python 3",
   "language": "python",
   "name": "python3"
  },
  "language_info": {
   "codemirror_mode": {
    "name": "ipython",
    "version": 3
   },
   "file_extension": ".py",
   "mimetype": "text/x-python",
   "name": "python",
   "nbconvert_exporter": "python",
   "pygments_lexer": "ipython3",
   "version": "3.6.8"
  }
 },
 "nbformat": 4,
 "nbformat_minor": 2
}
