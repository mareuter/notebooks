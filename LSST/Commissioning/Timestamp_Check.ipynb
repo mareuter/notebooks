{
 "cells": [
  {
   "cell_type": "code",
   "execution_count": null,
   "metadata": {},
   "outputs": [],
   "source": [
    "from datetime import datetime\n",
    "\n",
    "import holoviews as hv\n",
    "from holoviews import opts\n",
    "hv.extension('bokeh')\n",
    "import numpy as np\n",
    "\n",
    "import efd_utils\n",
    "import df_utils"
   ]
  },
  {
   "cell_type": "code",
   "execution_count": null,
   "metadata": {
    "tags": [
     "parameters"
    ]
   },
   "outputs": [],
   "source": [
    "location = \"tucson\"\n",
    "csc_name = \"ATHeaderService=0\"\n",
    "topic_name = \"logevent_heartbeat\"\n",
    "start_str = \"2019-10-24\"\n",
    "end_str = \"2019-10-25\""
   ]
  },
  {
   "cell_type": "code",
   "execution_count": null,
   "metadata": {},
   "outputs": [],
   "source": [
    "DATE_FORMAT = \"%Y-%m-%d\"\n",
    "start = datetime.strptime(start_str, DATE_FORMAT)\n",
    "end = datetime.strptime(end_str, DATE_FORMAT)\n",
    "\n",
    "client = efd_utils.get_client(location)\n",
    "csc = efd_utils.CSC.from_entry(csc_name)\n",
    "\n",
    "query = efd_utils.get_base_query(columns=[\"private_sndStamp\"],\n",
    "                                 csc_name=csc.name,\n",
    "                                 csc_index=csc.index,\n",
    "                                 topic_name=topic_name)\n",
    "query += \" WHERE \" + efd_utils.get_time_clause(date_range=(start, end))\n",
    "#print(query)\n",
    "ts_df = await client.query(query)"
   ]
  },
  {
   "cell_type": "code",
   "execution_count": null,
   "metadata": {},
   "outputs": [],
   "source": [
    "hv.Points(ts_df, kdims=[hv.Dimension('index'), hv.Dimension('private_sndStamp')]).opts(width=600)"
   ]
  }
 ],
 "metadata": {
  "kernelspec": {
   "display_name": "Python 3",
   "language": "python",
   "name": "python3"
  },
  "language_info": {
   "codemirror_mode": {
    "name": "ipython",
    "version": 3
   },
   "file_extension": ".py",
   "mimetype": "text/x-python",
   "name": "python",
   "nbconvert_exporter": "python",
   "pygments_lexer": "ipython3",
   "version": "3.6.8"
  }
 },
 "nbformat": 4,
 "nbformat_minor": 4
}
