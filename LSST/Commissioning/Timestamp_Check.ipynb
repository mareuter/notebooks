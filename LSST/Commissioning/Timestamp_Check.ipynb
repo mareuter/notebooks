{
 "cells": [
  {
   "cell_type": "code",
   "execution_count": null,
   "metadata": {},
   "outputs": [],
   "source": [
    "from datetime import datetime\n",
    "\n",
    "import holoviews as hv\n",
    "from holoviews import opts\n",
    "hv.extension('bokeh')\n",
    "import numpy as np\n",
    "\n",
    "import efd_utils\n",
    "import df_utils"
   ]
  },
  {
   "cell_type": "code",
   "execution_count": null,
   "metadata": {
    "tags": [
     "parameters"
    ]
   },
   "outputs": [],
   "source": [
    "location = \"tucson\"\n",
    "#csc_name = \"ATCamera\"\n",
    "#topic_name = \"wreb\"\n",
    "#csc_name = \"ATHeaderService\"\n",
    "csc_name = \"ATSpectrograph\"\n",
    "topic_name = \"logevent_heartbeat\"\n",
    "start_str = \"2019-11-06\"\n",
    "end_str = \"2019-11-07\"\n",
    "message_time = 1\n",
    "#message_time = 10"
   ]
  },
  {
   "cell_type": "code",
   "execution_count": null,
   "metadata": {},
   "outputs": [],
   "source": [
    "DATE_FORMAT = \"%Y-%m-%d\"\n",
    "start = datetime.strptime(start_str, DATE_FORMAT)\n",
    "end = datetime.strptime(end_str, DATE_FORMAT)\n",
    "\n",
    "client = efd_utils.get_client(location)\n",
    "csc = efd_utils.CSC.from_entry(csc_name)\n",
    "\n",
    "query = efd_utils.get_base_query(columns=[\"private_sndStamp\"],\n",
    "                                 csc_name=csc.name,\n",
    "                                 csc_index=csc.index,\n",
    "                                 topic_name=topic_name)\n",
    "query += \" WHERE \" + efd_utils.get_time_clause(date_range=(start, end))\n",
    "#print(query)\n",
    "ts_df = await client.query(query)\n",
    "ts_df = df_utils.convert_timestamps(ts_df, [\"private_sndStamp\"])"
   ]
  },
  {
   "cell_type": "code",
   "execution_count": null,
   "metadata": {},
   "outputs": [],
   "source": [
    "#print(ts_df.tail())\n",
    "#print(f\"{ts_df.private_sndStamp.values[-1]:.2f}\")\n",
    "#print(ts_df.head())"
   ]
  },
  {
   "cell_type": "code",
   "execution_count": null,
   "metadata": {},
   "outputs": [],
   "source": [
    "hv.Points(ts_df, kdims=[hv.Dimension('index'), hv.Dimension('private_sndStamp_date')]).opts(width=600)"
   ]
  },
  {
   "cell_type": "code",
   "execution_count": null,
   "metadata": {},
   "outputs": [],
   "source": [
    "times_s = ts_df.private_sndStamp.values\n",
    "diff_s = (times_s[1:] - times_s[:-1] - message_time) * 1000\n",
    "#print(diff_s[0:5])"
   ]
  },
  {
   "cell_type": "code",
   "execution_count": null,
   "metadata": {},
   "outputs": [],
   "source": [
    "index = np.where(diff_s > 5)\n",
    "#print(diff_s.shape)"
   ]
  },
  {
   "cell_type": "code",
   "execution_count": null,
   "metadata": {},
   "outputs": [],
   "source": [
    "i1 = index[0][1]\n",
    "times_s[i1:i1+3]"
   ]
  },
  {
   "cell_type": "code",
   "execution_count": null,
   "metadata": {},
   "outputs": [],
   "source": [
    "ts_df.iloc[i1:i1+3]"
   ]
  },
  {
   "cell_type": "code",
   "execution_count": null,
   "metadata": {},
   "outputs": [],
   "source": []
  }
 ],
 "metadata": {
  "kernelspec": {
   "display_name": "Python 3",
   "language": "python",
   "name": "python3"
  },
  "language_info": {
   "codemirror_mode": {
    "name": "ipython",
    "version": 3
   },
   "file_extension": ".py",
   "mimetype": "text/x-python",
   "name": "python",
   "nbconvert_exporter": "python",
   "pygments_lexer": "ipython3",
   "version": "3.6.8"
  }
 },
 "nbformat": 4,
 "nbformat_minor": 4
}
