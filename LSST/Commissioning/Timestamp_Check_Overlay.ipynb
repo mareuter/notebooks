{
 "cells": [
  {
   "cell_type": "code",
   "execution_count": null,
   "metadata": {},
   "outputs": [],
   "source": [
    "from datetime import datetime\n",
    "\n",
    "import holoviews as hv\n",
    "from holoviews import opts\n",
    "hv.extension('bokeh')\n",
    "import numpy as np\n",
    "\n",
    "import efd_utils\n",
    "import df_utils"
   ]
  },
  {
   "cell_type": "code",
   "execution_count": null,
   "metadata": {},
   "outputs": [],
   "source": [
    "def get_format(istr):\n",
    "    if \":\" in istr:\n",
    "        return \"%Y-%m-%d %H:%M\"\n",
    "    else:\n",
    "        return \"%Y-%m-%d\""
   ]
  },
  {
   "cell_type": "code",
   "execution_count": null,
   "metadata": {},
   "outputs": [],
   "source": [
    "async def get_plot(location, csc_name, topic_name, start_str, end_str):\n",
    "    start_format = get_format(start_str)\n",
    "    end_format = get_format(end_str)\n",
    " \n",
    "    start = datetime.strptime(start_str, start_format)\n",
    "    end = datetime.strptime(end_str, end_format)\n",
    "\n",
    "    client = efd_utils.get_client(location)\n",
    "    csc = efd_utils.CSC.from_entry(csc_name)\n",
    "\n",
    "    query = efd_utils.get_base_query(columns=[\"private_sndStamp\"],\n",
    "                                     csc_name=csc.name,\n",
    "                                     csc_index=csc.index,\n",
    "                                     topic_name=topic_name)\n",
    "    query += \" WHERE \" + efd_utils.get_time_clause(date_range=(start, end))\n",
    "    #print(query)\n",
    "    ts_df = await client.query(query)\n",
    "\n",
    "    return hv.Scatter((ts_df.index.values, ts_df.private_sndStamp.values),\n",
    "                      kdims=hv.Dimension('index'),\n",
    "                      vdims=hv.Dimension('timestamp', label='private_sndStamp', unit='s'),\n",
    "                      label=csc.name).opts(width=600)"
   ]
  },
  {
   "cell_type": "code",
   "execution_count": null,
   "metadata": {
    "tags": [
     "parameters"
    ]
   },
   "outputs": [],
   "source": [
    "start_str = \"2019-10-24 12:00\"\n",
    "end_str = \"2019-10-24 18:00\""
   ]
  },
  {
   "cell_type": "code",
   "execution_count": null,
   "metadata": {},
   "outputs": [],
   "source": [
    "aths_hb = await get_plot(\"tucson\", \"ATHeaderService=0\", \"logevent_heartbeat\", start_str, end_str)\n",
    "atcam_wb = await get_plot(\"tucson\", \"ATCamera=0\", \"wreb\", start_str, end_str)\n",
    "scrqu_hb = await get_plot(\"tucson\", \"ScriptQueue=0\", \"logevent_heartbeat\", start_str, end_str)"
   ]
  },
  {
   "cell_type": "code",
   "execution_count": null,
   "metadata": {},
   "outputs": [],
   "source": [
    "ov = (aths_hb * atcam_wb * scrqu_hb)\n",
    "ov.opts(legend_position='top_left', click_policy='hide')"
   ]
  },
  {
   "cell_type": "code",
   "execution_count": null,
   "metadata": {},
   "outputs": [],
   "source": []
  }
 ],
 "metadata": {
  "kernelspec": {
   "display_name": "Python 3",
   "language": "python",
   "name": "python3"
  },
  "language_info": {
   "codemirror_mode": {
    "name": "ipython",
    "version": 3
   },
   "file_extension": ".py",
   "mimetype": "text/x-python",
   "name": "python",
   "nbconvert_exporter": "python",
   "pygments_lexer": "ipython3",
   "version": "3.6.8"
  }
 },
 "nbformat": 4,
 "nbformat_minor": 4
}
