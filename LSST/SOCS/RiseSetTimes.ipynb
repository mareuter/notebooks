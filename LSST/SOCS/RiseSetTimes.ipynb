{
 "cells": [
  {
   "cell_type": "code",
   "execution_count": 97,
   "metadata": {
    "collapsed": true
   },
   "outputs": [],
   "source": [
    "from datetime import datetime\n",
    "import math\n",
    "from lsst.sims.ocs.kernel import TimeHandler\n",
    "from ts_scheduler.sky_model import Sun"
   ]
  },
  {
   "cell_type": "code",
   "execution_count": 204,
   "metadata": {
    "collapsed": false
   },
   "outputs": [
    {
     "name": "stdout",
     "output_type": "stream",
     "text": [
      "2022-01-01T00:00:00\n"
     ]
    }
   ],
   "source": [
    "obs_location = (-70.7494, -30.2444)\n",
    "s = Sun()\n",
    "t = TimeHandler(\"2022-01-01\")\n",
    "print(t.current_timestring)"
   ]
  },
  {
   "cell_type": "code",
   "execution_count": 205,
   "metadata": {
    "collapsed": false
   },
   "outputs": [
    {
     "name": "stdout",
     "output_type": "stream",
     "text": [
      "(8.740506636842959, 24.814678701176916)\n"
     ]
    }
   ],
   "source": [
    "(rise_time, set_time) = s.nautical_twilight(t.current_timestamp, *obs_location)\n",
    "print(rise_time, set_time)"
   ]
  },
  {
   "cell_type": "code",
   "execution_count": 206,
   "metadata": {
    "collapsed": false
   },
   "outputs": [
    {
     "name": "stdout",
     "output_type": "stream",
     "text": [
      "R: 2022-01-01T08:44:25.823893\n",
      "S: 2022-01-02T00:48:52.843324\n",
      "1641084532.84\n",
      "Seconds in day: 57867.019431\n"
     ]
    }
   ],
   "source": [
    "rt = (rise_time, \"hours\")\n",
    "st = (set_time, \"hours\")\n",
    "print(\"R: {}\".format(t.future_timestring(*rt)))\n",
    "rise_ts = t.future_timestamp(*rt)\n",
    "print(\"S: {}\".format(t.future_timestring(*st)))\n",
    "set_ts = t.future_timestamp(*st)\n",
    "print(set_ts)\n",
    "hours_day = math.fabs(set_ts - rise_ts)\n",
    "print(\"Seconds in day: {:.6f}\".format(hours_day))"
   ]
  },
  {
   "cell_type": "code",
   "execution_count": 207,
   "metadata": {
    "collapsed": false
   },
   "outputs": [
    {
     "name": "stdout",
     "output_type": "stream",
     "text": [
      "2022-01-02T00:00:00\n"
     ]
    }
   ],
   "source": [
    "t.update_time(1, \"days\")\n",
    "print(t.current_timestring)"
   ]
  },
  {
   "cell_type": "code",
   "execution_count": 208,
   "metadata": {
    "collapsed": false
   },
   "outputs": [
    {
     "name": "stdout",
     "output_type": "stream",
     "text": [
      "(8.75382098822583, 24.81691570655023)\n"
     ]
    }
   ],
   "source": [
    "(rise_time_next, set_time_next) = s.nautical_twilight(t.current_timestamp, *obs_location)\n",
    "print(rise_time_next, set_time_next)"
   ]
  },
  {
   "cell_type": "code",
   "execution_count": 209,
   "metadata": {
    "collapsed": false
   },
   "outputs": [
    {
     "name": "stdout",
     "output_type": "stream",
     "text": [
      "R: 2022-01-02T08:45:13.755558\n",
      "S: 2022-01-03T00:49:00.896544\n",
      "Seconds in night: 28580.912234\n"
     ]
    }
   ],
   "source": [
    "rtn = (rise_time_next, \"hours\")\n",
    "stn = (set_time_next, \"hours\")\n",
    "print(\"R: {}\".format(t.future_timestring(*rtn)))\n",
    "rise_ts_next = t.future_timestamp(*rtn)\n",
    "print(\"S: {}\".format(t.future_timestring(*stn)))\n",
    "set_ts_next = t.future_timestamp(*stn)\n",
    "hours_night = math.fabs(set_ts - rise_ts_next)\n",
    "print(\"Seconds in night: {:.6f}\".format(hours_night))"
   ]
  },
  {
   "cell_type": "code",
   "execution_count": null,
   "metadata": {
    "collapsed": true
   },
   "outputs": [],
   "source": []
  }
 ],
 "metadata": {
  "kernelspec": {
   "display_name": "Python 2",
   "language": "python",
   "name": "python2"
  },
  "language_info": {
   "codemirror_mode": {
    "name": "ipython",
    "version": 2
   },
   "file_extension": ".py",
   "mimetype": "text/x-python",
   "name": "python",
   "nbconvert_exporter": "python",
   "pygments_lexer": "ipython2",
   "version": "2.7.11"
  }
 },
 "nbformat": 4,
 "nbformat_minor": 0
}
