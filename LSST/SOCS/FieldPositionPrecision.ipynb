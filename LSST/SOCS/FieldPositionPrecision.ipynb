{
 "cells": [
  {
   "cell_type": "code",
   "execution_count": 141,
   "metadata": {
    "collapsed": false
   },
   "outputs": [],
   "source": [
    "from datetime import datetime\n",
    "import math\n",
    "\n",
    "import ephem\n",
    "import numpy as np\n",
    "import palpy\n",
    "\n",
    "import lsst.sims.skybrightness as sb\n",
    "from lsst.sims.utils import _altAzPaFromRaDec, ObservationMetaData"
   ]
  },
  {
   "cell_type": "code",
   "execution_count": 142,
   "metadata": {
    "collapsed": false
   },
   "outputs": [
    {
     "name": "stdout",
     "output_type": "stream",
     "text": [
      "MJD: 57478.1666667\n"
     ]
    }
   ],
   "source": [
    "# Setup observing site information and the date/time for the test.\n",
    "date_str = '2016/03/31'\n",
    "time_str = '04:00:00'\n",
    "date_string = date_str + \" \" + time_str\n",
    "dt = datetime.strptime(date_string, \"%Y/%m/%d %H:%M:%S\")\n",
    "mjd = palpy.caldj(dt.year, dt.month, dt.day)\n",
    "mjd += (dt.hour / 24.0) + (dt.minute / 1440.) + (dt.second / 86400.)\n",
    "print(\"MJD: {}\".format(mjd))\n",
    "obs_md = ObservationMetaData(mjd=mjd)"
   ]
  },
  {
   "cell_type": "code",
   "execution_count": 143,
   "metadata": {
    "collapsed": false
   },
   "outputs": [
    {
     "name": "stdout",
     "output_type": "stream",
     "text": [
      "Site Latitude/Longitude: (-30:14:39.8, -70:44:57.8)\n",
      "Current Sidereal Time: 11:52:51.20\n",
      "Canopus: (RA=6:24:18.62, Dec=-52:42:47.2)\n",
      "Canopus: (Alt=28:12:59.2, Az=222:54:36.3)\n"
     ]
    },
    {
     "name": "stderr",
     "output_type": "stream",
     "text": [
      "/home/mareuter/miniconda2/envs/opsim4_py2/lib/python2.7/site-packages/ipykernel/__main__.py:7: DeprecationWarning: PyOS_ascii_strtod and PyOS_ascii_atof are deprecated.  Use PyOS_string_to_double instead.\n",
      "/home/mareuter/miniconda2/envs/opsim4_py2/lib/python2.7/site-packages/ipykernel/__main__.py:8: DeprecationWarning: PyOS_ascii_strtod and PyOS_ascii_atof are deprecated.  Use PyOS_string_to_double instead.\n",
      "/home/mareuter/miniconda2/envs/opsim4_py2/lib/python2.7/site-packages/ipykernel/__main__.py:9: DeprecationWarning: PyOS_ascii_strtod and PyOS_ascii_atof are deprecated.  Use PyOS_string_to_double instead.\n"
     ]
    }
   ],
   "source": [
    "# Use pyephem to get a \"truth\" altitude and azimuth for Canopus from the LSST Observatory site in\n",
    "# March since Canopus is above the horizon at night there at this time. I'm using Canopus as a\n",
    "# surrogate for an OpSim RA, Dec pointing\n",
    "canopus = ephem.star('Canopus')\n",
    "\n",
    "cerro_pachon = ephem.Observer()\n",
    "cerro_pachon.date = date_string\n",
    "cerro_pachon.lat = str(obs_md.site.latitude)\n",
    "cerro_pachon.lon = str(obs_md.site.longitude)\n",
    "\n",
    "canopus.compute(cerro_pachon)\n",
    "print(\"Site Latitude/Longitude: ({}, {})\".format(cerro_pachon.lat, cerro_pachon.lon))\n",
    "print(\"Current Sidereal Time: {}\".format(cerro_pachon.sidereal_time()))\n",
    "# Below shifts to the local time where notebook is being run, not the observing site timezone\n",
    "#print(\"Current Local Time: {}\".format(ephem.localtime(cerro_pachon.date)))\n",
    "print(\"Canopus: (RA={}, Dec={})\".format(canopus.ra, canopus.dec))\n",
    "print(\"Canopus: (Alt={}, Az={})\".format(canopus.alt, canopus.az))\n",
    "ra_arr = np.array([canopus.ra])\n",
    "dec_arr = np.array([canopus.dec])"
   ]
  },
  {
   "cell_type": "code",
   "execution_count": 144,
   "metadata": {
    "collapsed": false
   },
   "outputs": [
    {
     "name": "stdout",
     "output_type": "stream",
     "text": [
      "Local Sidereal Time: 11.8809428386\n",
      "Canopus: (Alt=28.1864235178, Az=222.909943309)\n"
     ]
    }
   ],
   "source": [
    "# Use methodology for finding altitude and azimuth from OpSim version 3 code.\n",
    "lst_rad = palpy.gmst(mjd) + math.radians(obs_md.site.longitude)\n",
    "if lst_rad < 0.:\n",
    "    lst_rad += 2.0 * math.pi\n",
    "print(\"Local Sidereal Time: {}\".format(math.degrees(lst_rad) / 15.0))\n",
    "ha_rad = lst_rad - canopus.ra\n",
    "az_o3, alt_o3 = palpy.de2h(ha_rad, canopus.dec, math.radians(obs_md.site.latitude))\n",
    "print(\"Canopus: (Alt={}, Az={})\".format(math.degrees(alt_o3), math.degrees(az_o3)))"
   ]
  },
  {
   "cell_type": "code",
   "execution_count": 145,
   "metadata": {
    "collapsed": false
   },
   "outputs": [
    {
     "name": "stdout",
     "output_type": "stream",
     "text": [
      "Canopus: (Alt=28.3541880646, Az=222.929920411)\n"
     ]
    }
   ],
   "source": [
    "# Use the high precision altitude and azimuth finder from sims_utils\n",
    "alt_hp, az_hp, _ = _altAzPaFromRaDec(ra_arr, dec_arr, obs_md)\n",
    "print(\"Canopus: (Alt={}, Az={})\".format(np.degrees(alt_hp)[0], np.degrees(az_hp)[0]))"
   ]
  },
  {
   "cell_type": "code",
   "execution_count": 146,
   "metadata": {
    "collapsed": false
   },
   "outputs": [
    {
     "name": "stdout",
     "output_type": "stream",
     "text": [
      "Canopus: (Alt=28.1864235178, Az=222.909943309)\n"
     ]
    }
   ],
   "source": [
    "# Use Peter's stupid fast conversion routine for finding altitude and azimuth\n",
    "alt_sf, az_sf = sb.stupidFast_RaDec2AltAz(ra_arr, dec_arr,\n",
    "                                          math.radians(obs_md.site.latitude),\n",
    "                                          math.radians(obs_md.site.longitude),\n",
    "                                          mjd)\n",
    "print(\"Canopus: (Alt={}, Az={})\".format(np.degrees(alt_sf)[0], np.degrees(az_sf)[0]))"
   ]
  },
  {
   "cell_type": "code",
   "execution_count": 147,
   "metadata": {
    "collapsed": false
   },
   "outputs": [],
   "source": [
    "def calculate_differences(d_alt, d_az, t_alt, t_az):\n",
    "    delta_alt = math.fabs(d_alt - t_alt)\n",
    "    delta_az = math.fabs(d_az - t_az)\n",
    "    sqrt_quad_sum = math.sqrt(delta_az**2 + delta_alt**2)\n",
    "    return delta_alt, delta_az, sqrt_quad_sum\n",
    "\n",
    "def print_comps(msg, dalt, daz, sqs):\n",
    "    print(\"{}: (Delta Alt={:.3f}, Delta Az={:.3f}, \"\n",
    "          \"Sqrt Quad Sum={:.3f})\".format(msg, math.degrees(dalt),\n",
    "                                         math.degrees(daz), math.degrees(sqs)))"
   ]
  },
  {
   "cell_type": "code",
   "execution_count": 148,
   "metadata": {
    "collapsed": false
   },
   "outputs": [
    {
     "name": "stdout",
     "output_type": "stream",
     "text": [
      "Opsim3        : (Delta Alt=0.030, Delta Az=0.000, Sqrt Quad Sum=0.030)\n",
      "High Precision: (Delta Alt=0.138, Delta Az=0.020, Sqrt Quad Sum=0.139)\n",
      "StupidFast    : (Delta Alt=0.030, Delta Az=0.000, Sqrt Quad Sum=0.030)\n"
     ]
    }
   ],
   "source": [
    "# First thing to note is that palpy::de2h and the stupidFast routine produce the same answers. \n",
    "# Calculate the differences between \"truth\" position and the determined positions. \n",
    "# Displayed units are degrees.\n",
    "print_comps(\"Opsim3        \", *calculate_differences(alt_o3, az_o3, canopus.alt, canopus.az))\n",
    "print_comps(\"High Precision\", *calculate_differences(alt_hp, az_hp, canopus.alt, canopus.az))\n",
    "print_comps(\"StupidFast    \", *calculate_differences(alt_sf, az_sf, canopus.alt, canopus.az))"
   ]
  },
  {
   "cell_type": "code",
   "execution_count": null,
   "metadata": {
    "collapsed": true
   },
   "outputs": [],
   "source": []
  }
 ],
 "metadata": {
  "kernelspec": {
   "display_name": "Python 2",
   "language": "python",
   "name": "python2"
  },
  "language_info": {
   "codemirror_mode": {
    "name": "ipython",
    "version": 2
   },
   "file_extension": ".py",
   "mimetype": "text/x-python",
   "name": "python",
   "nbconvert_exporter": "python",
   "pygments_lexer": "ipython2",
   "version": "2.7.11"
  }
 },
 "nbformat": 4,
 "nbformat_minor": 0
}
