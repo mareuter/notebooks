{
 "cells": [
  {
   "cell_type": "code",
   "execution_count": 1,
   "metadata": {
    "collapsed": true
   },
   "outputs": [],
   "source": [
    "import os\n",
    "import numpy as np\n",
    "import lsst.sims.skybrightness as sb\n",
    "import lsst.sims.ocs\n",
    "from lsst.sims.utils import altAzPaFromRaDec, ObservationMetaData"
   ]
  },
  {
   "cell_type": "code",
   "execution_count": 2,
   "metadata": {
    "collapsed": true
   },
   "outputs": [],
   "source": [
    "# Default is LSST observatory and preciseAltAz off but give back LSST filter magnitudes \n",
    "sm = sb.SkyModel(mags=True)"
   ]
  },
  {
   "cell_type": "code",
   "execution_count": 5,
   "metadata": {
    "collapsed": false
   },
   "outputs": [],
   "source": [
    "#mjd = 59581.041666666664\n",
    "mjd = 59597.040972222225\n",
    "ra = np.array([45.0])\n",
    "dec = np.array([0.0])\n",
    "sm.setRaDecMjd(ra, dec, mjd, degrees=True)"
   ]
  },
  {
   "cell_type": "code",
   "execution_count": 6,
   "metadata": {
    "collapsed": false
   },
   "outputs": [
    {
     "name": "stdout",
     "output_type": "stream",
     "text": [
      "(59597.040972222225, -0.247351735830307, 4.109647274017334, 99.85651397705078, 0.16775330901145935, 0.9285513162612915)\n"
     ]
    }
   ],
   "source": [
    "print(sm.mjd, sm.sunAlt, sm.sunAz, sm.moonPhase, sm.moonAlt, sm.moonAz)"
   ]
  },
  {
   "cell_type": "code",
   "execution_count": null,
   "metadata": {
    "collapsed": true
   },
   "outputs": [],
   "source": []
  }
 ],
 "metadata": {
  "kernelspec": {
   "display_name": "Python 2",
   "language": "python",
   "name": "python2"
  },
  "language_info": {
   "codemirror_mode": {
    "name": "ipython",
    "version": 2
   },
   "file_extension": ".py",
   "mimetype": "text/x-python",
   "name": "python",
   "nbconvert_exporter": "python",
   "pygments_lexer": "ipython2",
   "version": "2.7.11"
  }
 },
 "nbformat": 4,
 "nbformat_minor": 0
}
