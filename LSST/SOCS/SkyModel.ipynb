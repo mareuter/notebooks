{
 "cells": [
  {
   "cell_type": "code",
   "execution_count": 8,
   "metadata": {
    "collapsed": false
   },
   "outputs": [],
   "source": [
    "import os\n",
    "import math\n",
    "import numpy as np\n",
    "import lsst.sims.skybrightness as sb\n",
    "import ts_scheduler.sky_model as sky_model\n",
    "#from ts_scheduler.observatoryModel.observatoryModel import ObservatoryLocation"
   ]
  },
  {
   "cell_type": "code",
   "execution_count": 9,
   "metadata": {
    "collapsed": true
   },
   "outputs": [],
   "source": [
    "# Default is LSST observatory and give back LSST filter magnitudes \n",
    "sky_brightness = sb.SkyModel(mags=True)"
   ]
  },
  {
   "cell_type": "code",
   "execution_count": 10,
   "metadata": {
    "collapsed": false
   },
   "outputs": [],
   "source": [
    "#lsst_location = ObservatoryLocation(math.radians(-30.2444), math.radians(-70.7494))\n",
    "dp = sky_model.DateProfile(math.radians(-30.2444), math.radians(-70.7494))"
   ]
  },
  {
   "cell_type": "code",
   "execution_count": 12,
   "metadata": {
    "collapsed": false
   },
   "outputs": [
    {
     "name": "stderr",
     "output_type": "stream",
     "text": [
      "/home/mareuter/git/lsst/sims_skybrightness/python/lsst/sims/skybrightness/skyModel.py:63: RuntimeWarning: invalid value encountered in arccos\n",
      "  az = np.arccos((sindec-np.sin(alt)*sinlat)/(np.cos(alt)*coslat))\n",
      "/home/mareuter/git/lsst/sims_skybrightness/python/lsst/sims/skybrightness/skyModel.py:360: RuntimeWarning: invalid value encountered in greater\n",
      "  over = np.where(self.azRelMoon > np.pi)\n",
      "/home/mareuter/lsst/Linux64/healpy/1.8.1+14/lib/python/healpy-1.8.1-py2.7-linux-x86_64.egg/healpy/pixelfunc.py:1045: FutureWarning: comparison to `None` will result in an elementwise object comparison in the future.\n",
      "  if phi == None:\n"
     ]
    }
   ],
   "source": [
    "ra_rads = np.radians(np.linspace(0., 90., 19))\n",
    "dec_rads = np.radians(np.linspace(-90., 0., 19))\n",
    "sky_brightness.setRaDecMjd(ra_rads, dec_rads, dp.mjd)"
   ]
  },
  {
   "cell_type": "code",
   "execution_count": 14,
   "metadata": {
    "collapsed": false
   },
   "outputs": [],
   "source": [
    "#print(sm.mjd, sm.sunAlt, sm.sunAz, sm.moonPhase, sm.moonAlt, sm.moonAz)"
   ]
  },
  {
   "cell_type": "code",
   "execution_count": 15,
   "metadata": {
    "collapsed": true
   },
   "outputs": [],
   "source": [
    "mags = sky_brightness.returnMags()"
   ]
  },
  {
   "cell_type": "code",
   "execution_count": 19,
   "metadata": {
    "collapsed": false
   },
   "outputs": [
    {
     "name": "stdout",
     "output_type": "stream",
     "text": [
      "(array([[ 22.60926161,  21.97491832,  20.79436133,  19.8030817 ,\n",
      "         18.76514301,  17.44694106],\n",
      "       [ 22.61560802,  22.02301576,  20.87101733,  19.90444287,\n",
      "         18.87612485,  17.55998474],\n",
      "       [ 22.63422033,  22.06740977,  20.941205  ,  19.99667382,\n",
      "         18.97765237,  17.66386435],\n",
      "       [ 22.66210714,  22.11653697,  21.00992671,  20.08155339,\n",
      "         19.06953961,  17.75718714],\n",
      "       [ 22.69718045,  22.17709444,  21.08159183,  20.16132484,\n",
      "         19.15199594,  17.83920284],\n",
      "       [ 22.73279926,  22.23314992,  21.14573649,  20.23117772,\n",
      "         19.22296051,  17.90953484],\n",
      "       [ 22.76563179,  22.28347436,  21.20084772,  20.28899023,\n",
      "         19.28110999,  17.96669059],\n",
      "       [ 22.79084037,  22.32191218,  21.24225592,  20.33180393,\n",
      "         19.32398379,  18.00868163],\n",
      "       [ 22.8096031 ,  22.34826635,  21.27094891,  20.36162377,\n",
      "         19.35398081,  18.03815312],\n",
      "       [ 22.8203333 ,  22.36643549,  21.28846659,  20.37793871,\n",
      "         19.36929538,  18.05263476],\n",
      "       [ 22.82153738,  22.37237678,  21.29196785,  20.37911297,\n",
      "         19.36904526,  18.05165137],\n",
      "       [ 22.81124265,  22.36071721,  21.27756403,  20.36267111,\n",
      "         19.35163703,  18.03409487],\n",
      "       [ 22.79125466,  22.33643357,  21.24837255,  20.32987562,\n",
      "         19.31721951,  17.99954464],\n",
      "       [ 22.76054424,  22.29348905,  21.20008303,  20.27789337,\n",
      "         19.26391432,  17.94666789],\n",
      "       [ 22.72089208,  22.2345041 ,  21.13306772,  20.20492709,\n",
      "         19.18945364,  17.87274165],\n",
      "       [ 22.67444103,  22.1579643 ,  21.04518679,  20.10855508,\n",
      "         19.09066853,  17.77470668],\n",
      "       [ 22.63045504,  22.06925552,  20.93894188,  19.98858925,\n",
      "         18.96604492,  17.65060698],\n",
      "       [ 22.60208332,  21.97294326,  20.81393765,  19.83994154,\n",
      "         18.8095773 ,  17.49388126],\n",
      "       [ 22.62263481,  21.87349673,  20.67191751,  19.66130351,\n",
      "         18.61950929,  17.30331854]]), 114)\n"
     ]
    }
   ],
   "source": [
    "print(mags, mags.size)"
   ]
  }
 ],
 "metadata": {
  "kernelspec": {
   "display_name": "Python 2",
   "language": "python",
   "name": "python2"
  },
  "language_info": {
   "codemirror_mode": {
    "name": "ipython",
    "version": 2
   },
   "file_extension": ".py",
   "mimetype": "text/x-python",
   "name": "python",
   "nbconvert_exporter": "python",
   "pygments_lexer": "ipython2",
   "version": "2.7.11"
  }
 },
 "nbformat": 4,
 "nbformat_minor": 0
}
