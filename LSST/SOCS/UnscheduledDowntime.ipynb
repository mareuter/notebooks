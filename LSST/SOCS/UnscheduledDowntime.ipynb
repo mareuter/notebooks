{
 "cells": [
  {
   "cell_type": "code",
   "execution_count": 1,
   "metadata": {
    "collapsed": false
   },
   "outputs": [],
   "source": [
    "from lsst.sims.ocs.downtime.unscheduled_downtime import UnscheduledDowntime\n",
    "import matplotlib.pyplot as plt\n",
    "import numpy as np\n",
    "%matplotlib inline"
   ]
  },
  {
   "cell_type": "code",
   "execution_count": 51,
   "metadata": {
    "collapsed": false
   },
   "outputs": [],
   "source": [
    "ud = UnscheduledDowntime()\n",
    "# Twenty year survey in days\n",
    "survey_length = 7300\n",
    "do_random = False\n",
    "seed = 1635995200\n",
    "ud.initialize(use_random_seed=do_random, random_seed=seed)\n",
    "#ud.initialize(use_random_seed=do_random, random_seed=seed, func=ud.trial)"
   ]
  },
  {
   "cell_type": "code",
   "execution_count": 52,
   "metadata": {
    "collapsed": false
   },
   "outputs": [
    {
     "name": "stdout",
     "output_type": "stream",
     "text": [
      "Total Number of Downtimes: 176\n",
      "Total Downtime: 376 days\n"
     ]
    }
   ],
   "source": [
    "print(\"Total Number of Downtimes: {}\".format(len(ud)))\n",
    "print(\"Total Downtime: {} days\".format(ud.total_downtime))"
   ]
  },
  {
   "cell_type": "code",
   "execution_count": 53,
   "metadata": {
    "collapsed": false
   },
   "outputs": [],
   "source": [
    "# Create arrays for the downtime modes\n",
    "nights = np.arange(survey_length) + 1\n",
    "minor = np.zeros(survey_length)\n",
    "intermediate = np.zeros(survey_length)\n",
    "major = np.zeros(survey_length)\n",
    "catastrophic = np.zeros(survey_length)"
   ]
  },
  {
   "cell_type": "code",
   "execution_count": 54,
   "metadata": {
    "collapsed": false
   },
   "outputs": [],
   "source": [
    "for (n, duration, event_type) in ud.downtimes:\n",
    "    if event_type.startswith(\"minor\"):\n",
    "        minor[n - 1] = duration\n",
    "    if event_type.startswith(\"intermediate\"):\n",
    "        intermediate[n - 1] = duration\n",
    "    if event_type.startswith(\"major\"):\n",
    "        major[n - 1] = duration\n",
    "    if event_type.startswith(\"catastrophic\"):\n",
    "        catastrophic[n - 1] = duration"
   ]
  },
  {
   "cell_type": "code",
   "execution_count": 55,
   "metadata": {
    "collapsed": false
   },
   "outputs": [
    {
     "data": {
      "text/plain": [
       "<matplotlib.collections.LineCollection at 0x7fb0c54fac90>"
      ]
     },
     "execution_count": 55,
     "metadata": {},
     "output_type": "execute_result"
    },
    {
     "data": {
      "image/png": "[encoded data removed]",
      "text/plain": [
       "<matplotlib.figure.Figure at 0x7fb0c5636350>"
      ]
     },
     "metadata": {},
     "output_type": "display_data"
    }
   ],
   "source": [
    "plt.plot(nights, minor, 'bx', label='minor')\n",
    "plt.plot(nights, intermediate, 'yx', label='intermediate')\n",
    "plt.plot(nights, major, 'x', color=\"orange\", label='major')\n",
    "plt.plot(nights, catastrophic, 'rx', label='catastrophic')\n",
    "plt.xlim(1, survey_length)\n",
    "ymin = ud.MINOR_EVENT[1] - 0.5\n",
    "ymax = ud.CATASTROPHIC_EVENT[1] + 5\n",
    "plt.ylim(ymin, ymax)\n",
    "plt.title(\"Unscheduled Downtime\")\n",
    "plt.xlabel(\"Nights\")\n",
    "plt.ylabel(\"Nights Down\")\n",
    "plt.legend(loc='upper center', numpoints=1, ncol=2)\n",
    "plt.vlines(3650, ymin, ymax)"
   ]
  },
  {
   "cell_type": "code",
   "execution_count": 56,
   "metadata": {
    "collapsed": true
   },
   "outputs": [],
   "source": [
    "def statistics(label, nights, down_arr):\n",
    "    mask = nights[down_arr > 0]\n",
    "    diff = mask[1:] - mask[:-1]\n",
    "    mean = np.mean(diff)\n",
    "    print(\"{} Events\".format(label))\n",
    "    print(\"Total Number: {}\".format(len(mask)))\n",
    "    print(\"Time to First Failure: {} days\".format(mask[0]))\n",
    "    print(\"Mean Time Bewteen Failures: {} days\".format(mean))\n",
    "    print(\"Median Time Bewteen Failures: {} days\".format(np.median(diff)))\n",
    "    print(\"Variance of Time Between Failures: {} days\".format(np.var(diff)))\n",
    "    print(\"Standard Deviation of Time Between Failures: {} days\".format(np.std(diff)))"
   ]
  },
  {
   "cell_type": "code",
   "execution_count": 57,
   "metadata": {
    "collapsed": false
   },
   "outputs": [
    {
     "name": "stdout",
     "output_type": "stream",
     "text": [
      "Catastrophic Events\n",
      "Total Number: 4\n",
      "Time to First Failure: 1497 days\n",
      "Mean Time Bewteen Failures: 1569.0 days\n",
      "Median Time Bewteen Failures: 620.0 days\n",
      "Variance of Time Between Failures: 2971020.66667 days\n",
      "Standard Deviation of Time Between Failures: 1723.66489396 days\n",
      "Major Events\n",
      "Total Number: 10\n",
      "Time to First Failure: 506 days\n",
      "Mean Time Bewteen Failures: 729.222222222 days\n",
      "Median Time Bewteen Failures: 764.0 days\n",
      "Variance of Time Between Failures: 216586.395062 days\n",
      "Standard Deviation of Time Between Failures: 465.388434602 days\n",
      "Intermediate Events\n",
      "Total Number: 44\n",
      "Time to First Failure: 34 days\n",
      "Mean Time Bewteen Failures: 167.139534884 days\n",
      "Median Time Bewteen Failures: 111.0 days\n",
      "Variance of Time Between Failures: 27696.8642509 days\n",
      "Standard Deviation of Time Between Failures: 166.423749059 days\n",
      "Minor Events\n",
      "Total Number: 118\n",
      "Time to First Failure: 7 days\n",
      "Mean Time Bewteen Failures: 62.2051282051 days\n",
      "Median Time Bewteen Failures: 36.0 days\n",
      "Variance of Time Between Failures: 4103.18869165 days\n",
      "Standard Deviation of Time Between Failures: 64.0561370335 days\n"
     ]
    }
   ],
   "source": [
    "statistics(\"Catastrophic\", nights, catastrophic)\n",
    "statistics(\"Major\", nights, major)\n",
    "statistics(\"Intermediate\", nights, intermediate)\n",
    "statistics(\"Minor\", nights, minor)"
   ]
  },
  {
   "cell_type": "code",
   "execution_count": null,
   "metadata": {
    "collapsed": true
   },
   "outputs": [],
   "source": []
  }
 ],
 "metadata": {
  "kernelspec": {
   "display_name": "Python 2",
   "language": "python",
   "name": "python2"
  },
  "language_info": {
   "codemirror_mode": {
    "name": "ipython",
    "version": 2
   },
   "file_extension": ".py",
   "mimetype": "text/x-python",
   "name": "python",
   "nbconvert_exporter": "python",
   "pygments_lexer": "ipython2",
   "version": "2.7.12"
  }
 },
 "nbformat": 4,
 "nbformat_minor": 0
}
