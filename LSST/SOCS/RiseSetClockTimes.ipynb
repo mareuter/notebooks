{
 "cells": [
  {
   "cell_type": "code",
   "execution_count": 16,
   "metadata": {
    "collapsed": true
   },
   "outputs": [],
   "source": [
    "from datetime import datetime\n",
    "import math\n",
    "from lsst.sims.ocs.kernel import TimeHandler\n",
    "from ts_scheduler.sky_model import Sun"
   ]
  },
  {
   "cell_type": "code",
   "execution_count": 21,
   "metadata": {
    "collapsed": false
   },
   "outputs": [],
   "source": [
    "def get_night_boundaries(s, obs, th):\n",
    "    current_midnight_timestamp = th.current_midnight_timestamp\n",
    "    (_, set_naut_twi) = s.nautical_twilight(current_midnight_timestamp, *obs)\n",
    "    set_timestamp = current_midnight_timestamp + (set_naut_twi * 3600)\n",
    "    next_midnight_timestamp = th.next_midnight_timestamp\n",
    "    (rise_naut_twi_next, _) = s.nautical_twilight(next_midnight_timestamp, *obs)\n",
    "    rise_timestamp = next_midnight_timestamp + (rise_naut_twi_next * 3600)\n",
    "    return (set_timestamp, rise_timestamp)"
   ]
  },
  {
   "cell_type": "code",
   "execution_count": 22,
   "metadata": {
    "collapsed": true
   },
   "outputs": [],
   "source": [
    "def get_timestring(timestamp):\n",
    "    return datetime.utcfromtimestamp(timestamp).isoformat()"
   ]
  },
  {
   "cell_type": "code",
   "execution_count": 49,
   "metadata": {
    "collapsed": false
   },
   "outputs": [
    {
     "name": "stdout",
     "output_type": "stream",
     "text": [
      "2022-01-01T00:00:00\n"
     ]
    }
   ],
   "source": [
    "obs_location = (-70.7494, -30.2444)\n",
    "sun = Sun()\n",
    "time_handler = TimeHandler(\"2022-01-01\")\n",
    "print(time_handler.current_timestring)"
   ]
  },
  {
   "cell_type": "code",
   "execution_count": 50,
   "metadata": {
    "collapsed": false
   },
   "outputs": [
    {
     "name": "stdout",
     "output_type": "stream",
     "text": [
      "Night 0 = Set: 1641084532.843324 (2022-01-02T00:48:52.843324), Rise: 1641113113.755558 (2022-01-02T08:45:13.755558)\n",
      "Night 1 = Set: 1641170940.896544 (2022-01-03T00:49:00.896544), Rise: 1641199562.951024 (2022-01-03T08:46:02.951024)\n",
      "Night 2 = Set: 1641257346.963614 (2022-01-04T00:49:06.963614), Rise: 1641286013.355828 (2022-01-04T08:46:53.355828)\n",
      "Night 3 = Set: 1641343751.039500 (2022-01-05T00:49:11.039500), Rise: 1641372464.914665 (2022-01-05T08:47:44.914665)\n",
      "Night 4 = Set: 1641430153.121511 (2022-01-06T00:49:13.121511), Rise: 1641458917.571533 (2022-01-06T08:48:37.571533)\n",
      "Night 5 = Set: 1641516553.209255 (2022-01-07T00:49:13.209255), Rise: 1641545371.269868 (2022-01-07T08:49:31.269868)\n",
      "Night 6 = Set: 1641602951.304589 (2022-01-08T00:49:11.304589), Rise: 1641631825.952685 (2022-01-08T08:50:25.952685)\n",
      "Night 7 = Set: 1641689347.411563 (2022-01-09T00:49:07.411563), Rise: 1641718281.562716 (2022-01-09T08:51:21.562716)\n",
      "Night 8 = Set: 1641775741.536359 (2022-01-10T00:49:01.536359), Rise: 1641804738.042547 (2022-01-10T08:52:18.042547)\n",
      "Night 9 = Set: 1641862133.687225 (2022-01-11T00:48:53.687225), Rise: 1641891195.334754 (2022-01-11T08:53:15.334754)\n"
     ]
    }
   ],
   "source": [
    "for i in range(10):\n",
    "    (st, rt) = get_night_boundaries(sun, obs_location, time_handler)\n",
    "    print(\"Night {} = Set: {:.6f} ({}), Rise: {:.6f} ({})\".format(i, st, get_timestring(st), rt, get_timestring(rt)))\n",
    "    #print(\"{:.6f}, {:.6f}\".format(st, rt))\n",
    "    time_handler.current_dt = datetime.utcfromtimestamp(rt)\n",
    "    #print(time_handler.current_dt)"
   ]
  },
  {
   "cell_type": "code",
   "execution_count": null,
   "metadata": {
    "collapsed": true
   },
   "outputs": [],
   "source": []
  }
 ],
 "metadata": {
  "kernelspec": {
   "display_name": "Python 2",
   "language": "python",
   "name": "python2"
  },
  "language_info": {
   "codemirror_mode": {
    "name": "ipython",
    "version": 2
   },
   "file_extension": ".py",
   "mimetype": "text/x-python",
   "name": "python",
   "nbconvert_exporter": "python",
   "pygments_lexer": "ipython2",
   "version": "2.7.11"
  }
 },
 "nbformat": 4,
 "nbformat_minor": 0
}
