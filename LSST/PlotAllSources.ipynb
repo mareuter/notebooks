{
 "metadata": {
  "name": "",
  "signature": "sha256:7a8de02674ab6f58688ad9040542fc61a83da9c33f4ea142a9c29abd996b2f2f"
 },
 "nbformat": 3,
 "nbformat_minor": 0,
 "worksheets": [
  {
   "cells": [
    {
     "cell_type": "code",
     "collapsed": false,
     "input": [
      "import os\n",
      "import lsst.daf.persistence  as dafPersist\n",
      "import lsst.afw.image        as afwImage\n",
      "import lsst.afw.display.ds9  as ds9"
     ],
     "language": "python",
     "metadata": {},
     "outputs": [],
     "prompt_number": 1
    },
    {
     "cell_type": "code",
     "collapsed": false,
     "input": [
      "# Create a butler instance to provide access to the data\n",
      "DATA_DIR = os.environ.get('DATA_DIR')\n",
      "butler = dafPersist.Butler(DATA_DIR)\n",
      "\n",
      "# Fetch the r-band exposure for the specified run/field/camcol/filter\n",
      "dataId = dict(run=6377, field=399, filter='r', camcol=4)\n",
      "exposure = butler.get('calexp', dataId)\n",
      "\n",
      "# display the exposure, with mask overlay\n",
      "settings = {'scale':'linear', 'zscale':'', 'zoom': 1, 'mask' : 'transparency 40'}\n",
      "title = \"SDSS r-band; Run: 6377, Field: 399\"\n",
      "# Need to have ds9 running or this breaks.\n",
      "ds9.mtv(exposure, frame=1, title=title, settings=settings)"
     ],
     "language": "python",
     "metadata": {},
     "outputs": [],
     "prompt_number": 2
    },
    {
     "cell_type": "code",
     "collapsed": false,
     "input": [
      "FILTER_MAP = {'u': 0, 'g':1, 'r': 2, 'i': 3, 'z': 4, 'y': 5}\n",
      "MARKER_COLORS = (ds9.MAGENTA, ds9.GREEN, ds9.RED, ds9.YELLOW, ds9.WHITE)\n",
      "MARKER_SIZES  = (4, 5, 6, 7, 8)\n",
      "\n",
      "run = 6377\n",
      "field = 399\n",
      "filters='ugriz'\n",
      "\n",
      "for j, filter in enumerate(filters):\n",
      "    # Fetch the exposure from the run/field/filter/camcol:\n",
      "    dataId = dict(run=run, field=field, filter=filter, camcol=4)\n",
      "    exposure = butler.get('calexp', dataId)\n",
      "    idx = FILTER_MAP[filter]\n",
      "\n",
      "    # Now get the catalog and over-plot the sources\n",
      "    sources = butler.get('src', dataId)\n",
      "    with ds9.Buffering():\n",
      "        for i, source in enumerate(sources):\n",
      "            symbol = \"o\"\n",
      "                \n",
      "            ds9.dot(symbol, source.getX(), source.getY(), ctype=MARKER_COLORS[idx],\n",
      "                    size=MARKER_SIZES[idx], frame=1, silent=True)\n",
      "\n"
     ],
     "language": "python",
     "metadata": {},
     "outputs": [],
     "prompt_number": 3
    },
    {
     "cell_type": "code",
     "collapsed": false,
     "input": [],
     "language": "python",
     "metadata": {},
     "outputs": []
    }
   ],
   "metadata": {}
  }
 ]
}