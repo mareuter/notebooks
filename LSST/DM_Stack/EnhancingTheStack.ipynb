{
 "cells": [
  {
   "cell_type": "markdown",
   "metadata": {},
   "source": [
    "**NOTE**: This notebook will currently only work on the sysengdemo environment.\n",
    "\n",
    "This notebook requires the use of a modified pipe_tasks package. This is in *~/git/lsst/pipe_tasks* and is the *u/mareuter/my_special_branch* git branch. To run\n",
    "the notebook, the setup line in the *~/notebook/.user_setups* needs to be uncommented."
   ]
  },
  {
   "cell_type": "code",
   "execution_count": 1,
   "metadata": {},
   "outputs": [],
   "source": [
    "import lsst.pipe.tasks.snapCombine as sc\n",
    "from lsst.daf.persistence import Butler"
   ]
  },
  {
   "cell_type": "code",
   "execution_count": 2,
   "metadata": {},
   "outputs": [],
   "source": [
    "butler = Butler(\"/home/shared/twinkles/output_data_v2\")\n",
    "sct = sc.SnapCombineTask()"
   ]
  },
  {
   "cell_type": "code",
   "execution_count": 3,
   "metadata": {},
   "outputs": [],
   "source": [
    "subset = butler.subset(\"calexp\")"
   ]
  },
  {
   "cell_type": "code",
   "execution_count": 4,
   "metadata": {},
   "outputs": [],
   "source": [
    "# Cache contains a list of dictionaries\n",
    "exp1 = butler.get('calexp', **subset.cache[0])\n",
    "exp2 = butler.get('calexp', **subset.cache[1])"
   ]
  },
  {
   "cell_type": "code",
   "execution_count": 5,
   "metadata": {},
   "outputs": [
    {
     "data": {
      "text/plain": [
       "Struct(exposure=<lsst.afw.image.exposure.exposure.ExposureF object at 0x7fb5b27e71f0>; sources=None)"
      ]
     },
     "execution_count": 5,
     "metadata": {},
     "output_type": "execute_result"
    }
   ],
   "source": [
    "sct.run(exp1, exp2)"
   ]
  },
  {
   "cell_type": "code",
   "execution_count": 6,
   "metadata": {},
   "outputs": [
    {
     "name": "stdout",
     "output_type": "stream",
     "text": [
      "I'm not doing anything at all!\n"
     ]
    }
   ],
   "source": [
    "sct.run_no_op(exp1, exp2)"
   ]
  },
  {
   "cell_type": "code",
   "execution_count": null,
   "metadata": {},
   "outputs": [],
   "source": []
  }
 ],
 "metadata": {
  "kernelspec": {
   "display_name": "LSST_Stack (Python 3)",
   "language": "python",
   "name": "lsst_stack"
  },
  "language_info": {
   "codemirror_mode": {
    "name": "ipython",
    "version": 3
   },
   "file_extension": ".py",
   "mimetype": "text/x-python",
   "name": "python",
   "nbconvert_exporter": "python",
   "pygments_lexer": "ipython3",
   "version": "3.6.2"
  }
 },
 "nbformat": 4,
 "nbformat_minor": 2
}
