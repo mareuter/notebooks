{
 "cells": [
  {
   "cell_type": "code",
   "execution_count": null,
   "metadata": {},
   "outputs": [],
   "source": [
    "import asyncio\n",
    "import logging\n",
    "import sys\n",
    "\n",
    "from astropy.time import Time\n",
    "import numpy as np\n",
    "\n",
    "from lsst.ts import salobj\n",
    "from lsst.ts.standardscripts.auxtel.attcs import ATTCS\n",
    "from lsst.ts.standardscripts.auxtel.latiss import LATISS"
   ]
  },
  {
   "cell_type": "code",
   "execution_count": null,
   "metadata": {},
   "outputs": [],
   "source": [
    "stream_handler = logging.StreamHandler(sys.stdout)\n",
    "\n",
    "logger = logging.getLogger()\n",
    "logger.addHandler(stream_handler)\n",
    "logger.level = logging.DEBUG"
   ]
  },
  {
   "cell_type": "code",
   "execution_count": null,
   "metadata": {},
   "outputs": [],
   "source": [
    "domain = salobj.Domain()\n",
    "attcs = ATTCS(domain)\n",
    "latiss = LATISS(domain)\n",
    "\n",
    "await asyncio.gather(attcs.start_task, latiss.start_task)"
   ]
  },
  {
   "cell_type": "code",
   "execution_count": null,
   "metadata": {},
   "outputs": [],
   "source": [
    "#await attcs.startup()\n",
    "# The following approximates startup since some things don't work well\n",
    "await attcs.enable()\n",
    "await attcs.point_azel(target_name=\"Park position\",\n",
    "                       az=attcs.tel_park_az,\n",
    "                       el=attcs.tel_park_el,\n",
    "                       wait_dome=False)\n",
    "await attcs.close_m1_cover()\n",
    "await attcs.slew_dome_to(az=90.)\n",
    "await attcs.open_dome_shutter()\n",
    "await attcs.open_m1_cover()\n",
    "await attcs.enable()"
   ]
  }
 ],
 "metadata": {
  "kernelspec": {
   "display_name": "Python 3",
   "language": "python",
   "name": "python3"
  },
  "language_info": {
   "codemirror_mode": {
    "name": "ipython",
    "version": 3
   },
   "file_extension": ".py",
   "mimetype": "text/x-python",
   "name": "python",
   "nbconvert_exporter": "python",
   "pygments_lexer": "ipython3",
   "version": "3.7.2"
  }
 },
 "nbformat": 4,
 "nbformat_minor": 4
}
