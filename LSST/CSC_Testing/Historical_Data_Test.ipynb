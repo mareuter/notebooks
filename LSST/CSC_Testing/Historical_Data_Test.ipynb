{
 "cells": [
  {
   "cell_type": "code",
   "execution_count": null,
   "id": "e8716dbc",
   "metadata": {},
   "outputs": [],
   "source": [
    "import asyncio\n",
    "import logging\n",
    "import sys\n",
    "\n",
    "from lsst.ts import salobj\n",
    "from lsst_efd_client import EfdClient"
   ]
  },
  {
   "cell_type": "code",
   "execution_count": null,
   "id": "0faa428e",
   "metadata": {},
   "outputs": [],
   "source": [
    "stream_handler = logging.StreamHandler(sys.stdout)\n",
    "\n",
    "logger = logging.getLogger()\n",
    "logger.addHandler(stream_handler)\n",
    "logger.level = logging.DEBUG"
   ]
  },
  {
   "cell_type": "code",
   "execution_count": null,
   "id": "4e882ea2",
   "metadata": {},
   "outputs": [],
   "source": [
    "client = EfdClient(\"ncsa_teststand_efd\")\n",
    "csc_name = \"ATHexapod\"\n",
    "csc_index = None\n",
    "topic_name = f\"lsst.sal.{csc_name}.logevent_summaryState\""
   ]
  },
  {
   "cell_type": "code",
   "execution_count": null,
   "id": "0f36081c",
   "metadata": {},
   "outputs": [],
   "source": [
    "results = await client.select_top_n(topic_name, \"private_origin\", 1, index=csc_index)"
   ]
  },
  {
   "cell_type": "code",
   "execution_count": null,
   "id": "5cb351ff",
   "metadata": {},
   "outputs": [],
   "source": [
    "private_origin = results[\"private_origin\"][0]"
   ]
  },
  {
   "cell_type": "code",
   "execution_count": null,
   "id": "5b2163b4",
   "metadata": {},
   "outputs": [],
   "source": [
    "d = salobj.Domain()\n",
    "await asyncio.sleep(10)"
   ]
  },
  {
   "cell_type": "code",
   "execution_count": null,
   "id": "741b7431",
   "metadata": {},
   "outputs": [],
   "source": [
    "r = salobj.Remote(d, csc_name, index=csc_index, evt_max_history=100)\n",
    "await r.start_task"
   ]
  },
  {
   "cell_type": "code",
   "execution_count": null,
   "id": "492167ec",
   "metadata": {},
   "outputs": [],
   "source": [
    "has_current_origin = False\n",
    "try:\n",
    "    while True:\n",
    "        sv = await r.evt_summaryState.next(flush=False, timeout=10)\n",
    "        #print(sv)\n",
    "        has_current_origin = sv.private_origin == private_origin\n",
    "except asyncio.TimeoutError:\n",
    "    pass\n",
    "finally:\n",
    "    if has_current_origin:\n",
    "        print(\"Got samples from current origin\")\n",
    "    else:\n",
    "        print(\"No samples received from current origin\")"
   ]
  },
  {
   "cell_type": "code",
   "execution_count": null,
   "id": "a87c64a4",
   "metadata": {},
   "outputs": [],
   "source": []
  }
 ],
 "metadata": {
  "kernelspec": {
   "display_name": "LSST",
   "language": "python",
   "name": "lsst"
  },
  "language_info": {
   "codemirror_mode": {
    "name": "ipython",
    "version": 3
   },
   "file_extension": ".py",
   "mimetype": "text/x-python",
   "name": "python",
   "nbconvert_exporter": "python",
   "pygments_lexer": "ipython3",
   "version": "3.8.8"
  }
 },
 "nbformat": 4,
 "nbformat_minor": 5
}
