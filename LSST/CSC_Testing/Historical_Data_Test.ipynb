{
 "cells": [
  {
   "cell_type": "code",
   "execution_count": null,
   "id": "e01f01b5",
   "metadata": {},
   "outputs": [],
   "source": [
    "import asyncio\n",
    "import logging\n",
    "import sys\n",
    "\n",
    "from lsst.ts import salobj\n",
    "from lsst_efd_client import EfdClient"
   ]
  },
  {
   "cell_type": "code",
   "execution_count": null,
   "id": "6af697c4",
   "metadata": {},
   "outputs": [],
   "source": [
    "stream_handler = logging.StreamHandler(sys.stdout)\n",
    "\n",
    "logger = logging.getLogger()\n",
    "logger.addHandler(stream_handler)\n",
    "logger.level = logging.DEBUG"
   ]
  },
  {
   "cell_type": "code",
   "execution_count": null,
   "id": "de58dbaf",
   "metadata": {},
   "outputs": [],
   "source": [
    "# Summit\n",
    "efd_client = \"summit_efd\"\n",
    "# NTS\n",
    "# efd_client = \"ncsa_teststand_efd\"\n",
    "client = EfdClient(efd_client)\n",
    "csc_name = \"ATHexapod\"\n",
    "csc_index = None\n",
    "topic_name = f\"lsst.sal.{csc_name}.logevent_summaryState\""
   ]
  },
  {
   "cell_type": "code",
   "execution_count": null,
   "id": "aaabe83e",
   "metadata": {},
   "outputs": [],
   "source": [
    "results = await client.select_top_n(topic_name, \"private_origin\", 1, index=csc_index)"
   ]
  },
  {
   "cell_type": "code",
   "execution_count": null,
   "id": "c85ba5c1",
   "metadata": {},
   "outputs": [],
   "source": [
    "private_origin = results[\"private_origin\"][0]"
   ]
  },
  {
   "cell_type": "code",
   "execution_count": null,
   "id": "d7313407",
   "metadata": {},
   "outputs": [],
   "source": [
    "d = salobj.Domain()\n",
    "await asyncio.sleep(10)"
   ]
  },
  {
   "cell_type": "code",
   "execution_count": null,
   "id": "ab2a6155",
   "metadata": {},
   "outputs": [],
   "source": [
    "r = salobj.Remote(d, csc_name, index=csc_index, evt_max_history=100)\n",
    "await r.start_task"
   ]
  },
  {
   "cell_type": "code",
   "execution_count": null,
   "id": "e5486fe1",
   "metadata": {},
   "outputs": [],
   "source": [
    "has_current_origin = False\n",
    "try:\n",
    "    while True:\n",
    "        sv = await r.evt_summaryState.next(flush=False, timeout=10)\n",
    "        print(sv)\n",
    "        has_current_origin = sv.private_origin == private_origin\n",
    "except asyncio.TimeoutError:\n",
    "    pass\n",
    "finally:\n",
    "    if has_current_origin:\n",
    "        print(\"Got samples from current origin\")\n",
    "    else:\n",
    "        print(\"No samples received from current origin\")"
   ]
  },
  {
   "cell_type": "code",
   "execution_count": null,
   "id": "c2f75ddd",
   "metadata": {},
   "outputs": [],
   "source": []
  }
 ],
 "metadata": {
  "kernelspec": {
   "display_name": "LSST",
   "language": "python",
   "name": "lsst"
  },
  "language_info": {
   "codemirror_mode": {
    "name": "ipython",
    "version": 3
   },
   "file_extension": ".py",
   "mimetype": "text/x-python",
   "name": "python",
   "nbconvert_exporter": "python",
   "pygments_lexer": "ipython3",
   "version": "3.10.5"
  }
 },
 "nbformat": 4,
 "nbformat_minor": 5
}
