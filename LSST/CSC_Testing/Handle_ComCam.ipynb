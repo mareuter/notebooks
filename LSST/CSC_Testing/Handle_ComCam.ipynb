{
 "cells": [
  {
   "cell_type": "code",
   "execution_count": null,
   "metadata": {},
   "outputs": [],
   "source": [
    "import asyncio\n",
    "import logging\n",
    "import sys\n",
    "\n",
    "from lsst.ts import salobj"
   ]
  },
  {
   "cell_type": "code",
   "execution_count": null,
   "metadata": {},
   "outputs": [],
   "source": [
    "stream_handler = logging.StreamHandler(sys.stdout)\n",
    "\n",
    "logger = logging.getLogger()\n",
    "logger.addHandler(stream_handler)\n",
    "logger.level = logging.DEBUG"
   ]
  },
  {
   "cell_type": "code",
   "execution_count": null,
   "metadata": {},
   "outputs": [],
   "source": [
    "async def run_lifecycle_command(csc, command_str, settings_to_apply=None):\n",
    "    try:\n",
    "        cmd = getattr(csc, f\"cmd_{command_str}\")\n",
    "        if command_str == \"start\" and settings_to_apply is not None:\n",
    "            cmd.set(settingsToApply=settings_to_apply)\n",
    "        await cmd.start(timeout=15)\n",
    "    except salobj.AckError as ae:\n",
    "        print(f\"Failed with ack={ae.ackcmd.ack}, ack.error={ae.ackcmd.error}, ackcmd.result={ae.ackcmd.result}\")"
   ]
  },
  {
   "cell_type": "code",
   "execution_count": null,
   "metadata": {},
   "outputs": [],
   "source": [
    "d = salobj.Domain()\n",
    "\n",
    "CCArchiver = salobj.Remote(d, 'CCArchiver')\n",
    "CCCamera = salobj.Remote(d, 'CCCamera') \n",
    "CCHeaderService = salobj.Remote(d, 'CCHeaderService')\n",
    "\n",
    "await asyncio.gather(CCArchiver.start_task, CCHeaderService.start_task, CCCamera.start_task)"
   ]
  },
  {
   "cell_type": "code",
   "execution_count": null,
   "metadata": {},
   "outputs": [],
   "source": [
    "#command = \"start\"\n",
    "command = \"enable\"\n",
    "#command = \"disable\"\n",
    "#command = \"standby\"\n",
    "#command = \"exitControl\""
   ]
  },
  {
   "cell_type": "code",
   "execution_count": null,
   "metadata": {},
   "outputs": [],
   "source": [
    "await run_lifecycle_command(CCArchiver, command, \"normal\")"
   ]
  },
  {
   "cell_type": "code",
   "execution_count": null,
   "metadata": {},
   "outputs": [],
   "source": [
    "await run_lifecycle_command(CCHeaderService, command)"
   ]
  },
  {
   "cell_type": "code",
   "execution_count": null,
   "metadata": {},
   "outputs": [],
   "source": [
    "await run_lifecycle_command(CCCamera, command, \"Normal\")"
   ]
  }
 ],
 "metadata": {
  "kernelspec": {
   "display_name": "Python 3",
   "language": "python",
   "name": "python3"
  },
  "language_info": {
   "codemirror_mode": {
    "name": "ipython",
    "version": 3
   },
   "file_extension": ".py",
   "mimetype": "text/x-python",
   "name": "python",
   "nbconvert_exporter": "python",
   "pygments_lexer": "ipython3",
   "version": "3.7.2"
  }
 },
 "nbformat": 4,
 "nbformat_minor": 4
}
