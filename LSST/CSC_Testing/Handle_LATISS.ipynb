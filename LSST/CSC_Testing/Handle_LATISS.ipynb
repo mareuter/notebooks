{
 "cells": [
  {
   "cell_type": "code",
   "execution_count": null,
   "metadata": {},
   "outputs": [],
   "source": [
    "import asyncio\n",
    "\n",
    "from lsst.ts import salobj"
   ]
  },
  {
   "cell_type": "code",
   "execution_count": null,
   "metadata": {},
   "outputs": [],
   "source": [
    "d = salobj.Domain()\n",
    "\n",
    "ATArchiver = salobj.Remote(d, 'ATArchiver')\n",
    "ATCamera = salobj.Remote(d, 'ATCamera') \n",
    "ATHeaderService = salobj.Remote(d, 'ATHeaderService')\n",
    "ATSpectrograph = salobj.Remote(d, 'ATSpectrograph')\n",
    "\n",
    "await asyncio.gather(ATArchiver.start_task, ATCamera.start_task,\n",
    "                     ATHeaderService.start_task, ATSpectrograph.start_task)"
   ]
  },
  {
   "cell_type": "code",
   "execution_count": null,
   "metadata": {},
   "outputs": [],
   "source": [
    "#command = \"start\"\n",
    "command = \"enable\"\n",
    "#command = \"disable\"\n",
    "#command = \"standby\"\n",
    "#command = \"exitControl\""
   ]
  },
  {
   "cell_type": "code",
   "execution_count": null,
   "metadata": {},
   "outputs": [],
   "source": [
    "try:\n",
    "    cmd = getattr(ATArchiver, f\"cmd_{command}\")\n",
    "    if command == \"start\":\n",
    "        cmd.set(settingsToApply=\"normal\")\n",
    "    await cmd.start(timeout=15)\n",
    "except salobj.AckError as ae:\n",
    "    print(f\"Failed with ack={ae.ackcmd.ack}, ack.error={ae.ackcmd.error}, ackcmd.result={ae.ackcmd.result}\")"
   ]
  },
  {
   "cell_type": "code",
   "execution_count": null,
   "metadata": {},
   "outputs": [],
   "source": [
    "try:\n",
    "    cmd = getattr(ATCamera, f\"cmd_{command}\")\n",
    "    if command == \"start\":\n",
    "        cmd.set(settingsToApply=\"Normal\")\n",
    "    await cmd.start(timeout=15)\n",
    "except salobj.AckError as ae:\n",
    "    print(f\"Failed with ack={ae.ackcmd.ack}, ack.error={ae.ackcmd.error}, ackcmd.result={ae.ackcmd.result}\")"
   ]
  },
  {
   "cell_type": "code",
   "execution_count": null,
   "metadata": {},
   "outputs": [],
   "source": [
    "try:\n",
    "    cmd = getattr(ATHeaderService, f\"cmd_{command}\")\n",
    "    if command == \"start\":\n",
    "        cmd.set(settingsToApply=\"normal\")\n",
    "    await cmd.start(timeout=15)\n",
    "except salobj.AckError as ae:\n",
    "    print(f\"Failed with ack={ae.ackcmd.ack}, ack.error={ae.ackcmd.error}, ackcmd.result={ae.ackcmd.result}\")"
   ]
  },
  {
   "cell_type": "code",
   "execution_count": null,
   "metadata": {},
   "outputs": [],
   "source": [
    "try:\n",
    "    cmd = getattr(ATSpectrograph, f\"cmd_{command}\")\n",
    "    if command == \"start\":\n",
    "        cmd.set(settingsToApply=\"default\")\n",
    "    await cmd.start(timeout=15)\n",
    "except salobj.AckError as ae:\n",
    "    print(f\"Failed with ack={ae.ackcmd.ack}, ack.error={ae.ackcmd.error}, ackcmd.result={ae.ackcmd.result}\")"
   ]
  }
 ],
 "metadata": {
  "kernelspec": {
   "display_name": "Python 3",
   "language": "python",
   "name": "python3"
  },
  "language_info": {
   "codemirror_mode": {
    "name": "ipython",
    "version": 3
   },
   "file_extension": ".py",
   "mimetype": "text/x-python",
   "name": "python",
   "nbconvert_exporter": "python",
   "pygments_lexer": "ipython3",
   "version": "3.7.2"
  }
 },
 "nbformat": 4,
 "nbformat_minor": 4
}
