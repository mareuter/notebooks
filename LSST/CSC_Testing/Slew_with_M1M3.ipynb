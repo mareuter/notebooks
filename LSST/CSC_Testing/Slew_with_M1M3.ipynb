{
 "cells": [
  {
   "cell_type": "code",
   "execution_count": null,
   "id": "a47b9e39",
   "metadata": {},
   "outputs": [],
   "source": [
    "import asyncio\n",
    "import logging\n",
    "import sys\n",
    "\n",
    "from lsst.ts import salobj\n",
    "from lsst.ts.observatory.control.maintel.mtcs import MTCS, MTCSUsages\n",
    "\n",
    "import mt_utils"
   ]
  },
  {
   "cell_type": "code",
   "execution_count": null,
   "id": "7f634065",
   "metadata": {},
   "outputs": [],
   "source": [
    "stream_handler = logging.StreamHandler(sys.stdout)\n",
    "\n",
    "logger = logging.getLogger()\n",
    "logger.addHandler(stream_handler)\n",
    "logger.level = logging.DEBUG"
   ]
  },
  {
   "cell_type": "code",
   "execution_count": null,
   "id": "a99f5c96",
   "metadata": {},
   "outputs": [],
   "source": [
    "domain = salobj.Domain()\n",
    "await asyncio.sleep(10)"
   ]
  },
  {
   "cell_type": "code",
   "execution_count": null,
   "id": "0d403f1b",
   "metadata": {},
   "outputs": [],
   "source": [
    "mtcs = MTCS(domain)"
   ]
  },
  {
   "cell_type": "code",
   "execution_count": null,
   "id": "86e6eb83",
   "metadata": {},
   "outputs": [],
   "source": [
    "await mtcs.start_task"
   ]
  },
  {
   "cell_type": "code",
   "execution_count": null,
   "id": "cdb98faf",
   "metadata": {},
   "outputs": [],
   "source": [
    "#Uncomment below if someone forgot to park the telescope\n",
    "#await mt_utils.slew_to_park(mtcs)"
   ]
  },
  {
   "cell_type": "code",
   "execution_count": null,
   "id": "7e5aadbb",
   "metadata": {},
   "outputs": [],
   "source": [
    "await mtcs.raise_m1m3()"
   ]
  },
  {
   "cell_type": "code",
   "execution_count": null,
   "id": "5b068a23-b2b7-448f-8f31-88cac0eb057f",
   "metadata": {},
   "outputs": [],
   "source": [
    "await mtcs.enable_m1m3_balance_system()"
   ]
  },
  {
   "cell_type": "code",
   "execution_count": null,
   "id": "72f0d6dd-e046-4b0a-8bf7-ad2de80228d0",
   "metadata": {},
   "outputs": [],
   "source": [
    "await mtcs.wait_m1m3_force_balance_system(30.0)"
   ]
  },
  {
   "cell_type": "code",
   "execution_count": null,
   "id": "1fffea6f",
   "metadata": {},
   "outputs": [],
   "source": [
    "await mt_utils.slew_to_altaz(mtcs, 70.0, 0.0)"
   ]
  },
  {
   "cell_type": "code",
   "execution_count": null,
   "id": "88baf23b",
   "metadata": {},
   "outputs": [],
   "source": [
    "await mt_utils.slew_to_altaz(mtcs, 50.0, 0.0)"
   ]
  },
  {
   "cell_type": "code",
   "execution_count": null,
   "id": "47869db7",
   "metadata": {},
   "outputs": [],
   "source": [
    "await mt_utils.slew_to_altaz(mtcs, 40.0, 0.0)"
   ]
  },
  {
   "cell_type": "code",
   "execution_count": null,
   "id": "4e22b214-26fe-4101-b340-88db0d3dce71",
   "metadata": {},
   "outputs": [],
   "source": [
    "await mt_utils.slew_to_altaz(mtcs, 40.0, 45.0)"
   ]
  },
  {
   "cell_type": "code",
   "execution_count": null,
   "id": "b62fd5bb-e459-4281-971c-4ef79bde35b3",
   "metadata": {},
   "outputs": [],
   "source": [
    "await mt_utils.slew_to_altaz(mtcs, 65.0, -90.0)"
   ]
  },
  {
   "cell_type": "code",
   "execution_count": null,
   "id": "149b21d6",
   "metadata": {},
   "outputs": [],
   "source": [
    "await mt_utils.slew_to_park(mtcs)"
   ]
  },
  {
   "cell_type": "code",
   "execution_count": null,
   "id": "20c8bd02",
   "metadata": {},
   "outputs": [],
   "source": [
    "await mtcs.lower_m1m3()"
   ]
  },
  {
   "cell_type": "code",
   "execution_count": null,
   "id": "63122a15",
   "metadata": {},
   "outputs": [],
   "source": []
  }
 ],
 "metadata": {
  "kernelspec": {
   "display_name": "LSST",
   "language": "python",
   "name": "lsst"
  },
  "language_info": {
   "codemirror_mode": {
    "name": "ipython",
    "version": 3
   },
   "file_extension": ".py",
   "mimetype": "text/x-python",
   "name": "python",
   "nbconvert_exporter": "python",
   "pygments_lexer": "ipython3",
   "version": "3.10.4"
  }
 },
 "nbformat": 4,
 "nbformat_minor": 5
}
