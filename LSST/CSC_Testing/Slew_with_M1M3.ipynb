{
 "cells": [
  {
   "cell_type": "code",
   "execution_count": null,
   "id": "56f7609a",
   "metadata": {},
   "outputs": [],
   "source": [
    "import asyncio\n",
    "import logging\n",
    "import sys\n",
    "\n",
    "from lsst.ts import salobj\n",
    "from lsst.ts.observatory.control.maintel.mtcs import MTCS, MTCSUsages\n",
    "\n",
    "import mt_utils"
   ]
  },
  {
   "cell_type": "code",
   "execution_count": null,
   "id": "01a7b522",
   "metadata": {},
   "outputs": [],
   "source": [
    "stream_handler = logging.StreamHandler(sys.stdout)\n",
    "\n",
    "logger = logging.getLogger()\n",
    "logger.addHandler(stream_handler)\n",
    "logger.level = logging.DEBUG"
   ]
  },
  {
   "cell_type": "code",
   "execution_count": null,
   "id": "6decefc8",
   "metadata": {},
   "outputs": [],
   "source": [
    "domain = salobj.Domain()\n",
    "await asyncio.sleep(10)"
   ]
  },
  {
   "cell_type": "code",
   "execution_count": null,
   "id": "40cc1725",
   "metadata": {},
   "outputs": [],
   "source": [
    "mtcs = MTCS(domain)"
   ]
  },
  {
   "cell_type": "code",
   "execution_count": null,
   "id": "47555180",
   "metadata": {},
   "outputs": [],
   "source": [
    "await mtcs.start_task"
   ]
  },
  {
   "cell_type": "code",
   "execution_count": null,
   "id": "4fbe707d",
   "metadata": {},
   "outputs": [],
   "source": [
    "await mt_utils.slew_to_park(mtcs)"
   ]
  },
  {
   "cell_type": "code",
   "execution_count": null,
   "id": "fa8f0c8c",
   "metadata": {},
   "outputs": [],
   "source": [
    "await mt_utils.raise_M1M3_mirror(mtcs)"
   ]
  },
  {
   "cell_type": "code",
   "execution_count": null,
   "id": "7f3a7e3b",
   "metadata": {},
   "outputs": [],
   "source": [
    "#If magnitude = 0.0 then it is off\n",
    "m1m3_force_balance = await mtcs.rem.mtm1m3.evt_appliedBalanceForces.aget(timeout=10.)\n",
    "print(\"Starting with magnitude of the M1M3 balance force: \", m1m3_force_balance.forceMagnitude)"
   ]
  },
  {
   "cell_type": "code",
   "execution_count": null,
   "id": "af40a91e",
   "metadata": {},
   "outputs": [],
   "source": [
    "m1m3_force_balance = await mtcs.rem.mtm1m3.evt_appliedBalanceForces.aget(timeout=10.)\n",
    "if not m1m3_force_balance.forceMagnitude:\n",
    "    await mtcs.rem.mtm1m3.cmd_enableHardpointCorrections.set_start(timeout=10)\n",
    "    await asyncio.sleep(3.)\n",
    "    m1m3_force_balance = await mtcs.rem.mtm1m3.evt_appliedBalanceForces.aget(timeout=10.)\n",
    "    print(\"Magnitude of the M1M3 force balance system: \", m1m3_force_balance.forceMagnitude)"
   ]
  },
  {
   "cell_type": "code",
   "execution_count": null,
   "id": "fb6d16df",
   "metadata": {},
   "outputs": [],
   "source": [
    "await mt_utils.slew_to_altaz(mtcs, 40.0, 45.0)"
   ]
  },
  {
   "cell_type": "code",
   "execution_count": null,
   "id": "4ca884e4",
   "metadata": {},
   "outputs": [],
   "source": [
    "await mt_utils.slew_to_park(mtcs)"
   ]
  },
  {
   "cell_type": "code",
   "execution_count": null,
   "id": "b5f3755d",
   "metadata": {},
   "outputs": [],
   "source": [
    "await mt_utils.lower_M1M3_mirror(mtcs)"
   ]
  }
 ],
 "metadata": {
  "kernelspec": {
   "display_name": "LSST",
   "language": "python",
   "name": "lsst"
  },
  "language_info": {
   "codemirror_mode": {
    "name": "ipython",
    "version": 3
   },
   "file_extension": ".py",
   "mimetype": "text/x-python",
   "name": "python",
   "nbconvert_exporter": "python",
   "pygments_lexer": "ipython3",
   "version": "3.8.8"
  }
 },
 "nbformat": 4,
 "nbformat_minor": 5
}
