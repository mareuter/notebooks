{
 "cells": [
  {
   "cell_type": "code",
   "execution_count": null,
   "metadata": {},
   "outputs": [],
   "source": [
    "import asyncio\n",
    "import logging\n",
    "import sys\n",
    "\n",
    "from astropy.coordinates import AltAz, ICRS, EarthLocation, Angle\n",
    "from astropy.time import Time\n",
    "import astropy.units as u\n",
    "\n",
    "from lsst.ts import salobj\n",
    "from lsst.ts.observatory.control.maintel.comcam import ComCam"
   ]
  },
  {
   "cell_type": "code",
   "execution_count": null,
   "metadata": {},
   "outputs": [],
   "source": [
    "stream_handler = logging.StreamHandler(sys.stdout)\n",
    "\n",
    "logger = logging.getLogger()\n",
    "logger.addHandler(stream_handler)\n",
    "logger.level = logging.DEBUG"
   ]
  },
  {
   "cell_type": "code",
   "execution_count": null,
   "metadata": {},
   "outputs": [],
   "source": [
    "domain = salobj.Domain()\n",
    "\n",
    "comcam = ComCam(domain)\n",
    "mtptg = salobj.Remote(domain, \"MTPtg\")\n",
    "\n",
    "await asyncio.gather(comcam.start_task, mtptg.start_task)"
   ]
  },
  {
   "cell_type": "code",
   "execution_count": null,
   "metadata": {},
   "outputs": [],
   "source": [
    "location = EarthLocation.from_geodetic(\n",
    "    lon=-70.747698 * u.deg, lat=-30.244728 * u.deg, height=2663.0 * u.m\n",
    ")\n",
    "\n",
    "target_name = \"HD 185975\"\n",
    "ra = \"20 28 18.7402\"\n",
    "dec = \"-87 28 19.938\"\n",
    "\n",
    "radec_icrs = ICRS(Angle(ra, unit=u.hourangle), Angle(dec, unit=u.deg))"
   ]
  },
  {
   "cell_type": "code",
   "execution_count": null,
   "metadata": {},
   "outputs": [],
   "source": [
    "mtptg.cmd_raDecTarget.set(\n",
    "    ra=radec_icrs.ra.hour,\n",
    "    declination=radec_icrs.dec.deg,\n",
    "    rotPA=0,\n",
    "    targetName=target_name,\n",
    "    frame=2,\n",
    "    epoch=2000,\n",
    "    equinox=2000,\n",
    "    parallax=0,\n",
    "    pmRA=0,\n",
    "    pmDec=0,\n",
    "    rv=0,\n",
    "    dRA=0,\n",
    "    dDec=0,\n",
    "    rotFrame=1,\n",
    "    rotMode=1,\n",
    ")"
   ]
  },
  {
   "cell_type": "code",
   "execution_count": null,
   "metadata": {},
   "outputs": [],
   "source": [
    "ack = await mtptg.cmd_raDecTarget.start(timeout=30.)\n",
    "print(ack)"
   ]
  },
  {
   "cell_type": "code",
   "execution_count": null,
   "metadata": {},
   "outputs": [],
   "source": [
    "await comcam.take_object(exptime=30.0, n=2)"
   ]
  },
  {
   "cell_type": "code",
   "execution_count": null,
   "metadata": {},
   "outputs": [],
   "source": []
  }
 ],
 "metadata": {
  "kernelspec": {
   "display_name": "LSST",
   "language": "python",
   "name": "lsst"
  },
  "language_info": {
   "codemirror_mode": {
    "name": "ipython",
    "version": 3
   },
   "file_extension": ".py",
   "mimetype": "text/x-python",
   "name": "python",
   "nbconvert_exporter": "python",
   "pygments_lexer": "ipython3",
   "version": "3.7.6"
  }
 },
 "nbformat": 4,
 "nbformat_minor": 4
}
