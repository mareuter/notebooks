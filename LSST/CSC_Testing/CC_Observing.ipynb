{
 "cells": [
  {
   "cell_type": "code",
   "execution_count": null,
   "metadata": {},
   "outputs": [],
   "source": [
    "import asyncio\n",
    "import logging\n",
    "import sys\n",
    "\n",
    "from astropy.time import Time\n",
    "\n",
    "from lsst.ts import salobj"
   ]
  },
  {
   "cell_type": "code",
   "execution_count": null,
   "metadata": {},
   "outputs": [],
   "source": [
    "stream_handler = logging.StreamHandler(sys.stdout)\n",
    "\n",
    "logger = logging.getLogger()\n",
    "logger.addHandler(stream_handler)\n",
    "logger.level = logging.DEBUG"
   ]
  },
  {
   "cell_type": "code",
   "execution_count": null,
   "metadata": {},
   "outputs": [],
   "source": [
    "d = salobj.Domain()\n",
    "CCCamera = salobj.Remote(d, 'CCCamera')\n",
    "await CCCamera.start_task\n",
    "CCCamera.evt_startIntegration.flush()\n",
    "CCCamera.evt_endOfImageTelemetry.flush()"
   ]
  },
  {
   "cell_type": "code",
   "execution_count": null,
   "metadata": {},
   "outputs": [],
   "source": [
    "date = Time.now()\n",
    "group_id = f'CALSET_{date.tai.strftime(\"%Y%m%d_%H%M\")}'\n",
    "images = 1\n",
    "wait_period = 20\n",
    "for i in range(images):\n",
    "    print(f\"Image {i + 1}\")\n",
    "    try:\n",
    "        keyValueMap = f\"imageType: BIAS, groupId: {group_id}, testType: BIAS\"\n",
    "        print(keyValueMap)\n",
    "        CCCamera.cmd_takeImages.set(numImages=1,\n",
    "                                    expTime=0.,\n",
    "                                    shutter=False,\n",
    "                                    keyValueMap=keyValueMap\n",
    "        )\n",
    "        ack = await CCCamera.cmd_takeImages.start(timeout=60)\n",
    "    except salobj.AckError as ae:\n",
    "        ack = ae.ackcmd\n",
    "    print(f\"ack={ack.ack}, ack.error={ack.error}, ackcmd.result={ack.result}\")\n",
    "    event = await CCCamera.evt_startIntegration.next(flush=False, timeout=15)\n",
    "    print(event)\n",
    "    event = await CCCamera.evt_endOfImageTelemetry.next(flush=False, timeout=15)\n",
    "    print(event)\n",
    "    if i + 1 < images:\n",
    "        await asyncio.sleep(wait_period)"
   ]
  }
 ],
 "metadata": {
  "kernelspec": {
   "display_name": "LSST",
   "language": "python",
   "name": "lsst"
  },
  "language_info": {
   "codemirror_mode": {
    "name": "ipython",
    "version": 3
   },
   "file_extension": ".py",
   "mimetype": "text/x-python",
   "name": "python",
   "nbconvert_exporter": "python",
   "pygments_lexer": "ipython3",
   "version": "3.7.6"
  }
 },
 "nbformat": 4,
 "nbformat_minor": 4
}
