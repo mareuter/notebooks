{
 "cells": [
  {
   "cell_type": "code",
   "execution_count": 1,
   "metadata": {},
   "outputs": [],
   "source": [
    "import asyncio\n",
    "import logging\n",
    "import sys\n",
    "\n",
    "from lsst.ts import salobj"
   ]
  },
  {
   "cell_type": "code",
   "execution_count": 2,
   "metadata": {},
   "outputs": [],
   "source": [
    "stream_handler = logging.StreamHandler(sys.stdout)\n",
    "\n",
    "logger = logging.getLogger()\n",
    "logger.addHandler(stream_handler)\n",
    "logger.level = logging.DEBUG"
   ]
  },
  {
   "cell_type": "code",
   "execution_count": 3,
   "metadata": {},
   "outputs": [],
   "source": [
    "async def run_lifecycle_command(csc, command_str, settings_to_apply=None):\n",
    "    try:\n",
    "        cmd = getattr(csc, f\"cmd_{command_str}\")\n",
    "        if command_str == \"start\" and settings_to_apply is not None:\n",
    "            cmd.set(settingsToApply=settings_to_apply)\n",
    "        await cmd.start(timeout=15)\n",
    "    except salobj.AckError as ae:\n",
    "        print(f\"Failed with ack={ae.ackcmd.ack}, ack.error={ae.ackcmd.error}, ackcmd.result={ae.ackcmd.result}\")"
   ]
  },
  {
   "cell_type": "code",
   "execution_count": null,
   "metadata": {},
   "outputs": [],
   "source": [
    "d = salobj.Domain()\n",
    "\n",
    "#MTMount = salobj.Remote(d, \"MTMount\")\n",
    "#MTPtg = salobj.Remote(d, \"MTPtg\")\n",
    "MTAOS = salobj.Remote(d, \"MTAOS\")\n",
    "#M2 = salobj.Remote(d, \"MTM2\")\n",
    "#M1M3 = salobj.Remote(d, \"MTM1M3\")\n",
    "#M2Hex = salobj.Remote(d, \"Hexapod\", index=2)\n",
    "#CamHex = salobj.Remote(d, \"Hexapod\", index=1)\n",
    "#Rotator = salobj.Remote(d, \"Rotator\")\n",
    "\n",
    "await asyncio.gather(\n",
    "#    MTMount.start_task,\n",
    "#    MTPtg.start_task,\n",
    "    MTAOS.start_task,\n",
    "#    M2.start_task,\n",
    "#    M1M3.start_task,\n",
    "#    M2Hex.start_task,\n",
    "#    CamHex.start_task,\n",
    "#    Rotator.start_task,\n",
    ")"
   ]
  },
  {
   "cell_type": "code",
   "execution_count": 5,
   "metadata": {},
   "outputs": [],
   "source": [
    "#command = \"start\"\n",
    "#command = \"enable\"\n",
    "#command = \"disable\"\n",
    "#command = \"standby\"\n",
    "command = \"exitControl\""
   ]
  },
  {
   "cell_type": "code",
   "execution_count": null,
   "metadata": {},
   "outputs": [],
   "source": [
    "await run_lifecycle_command(MTMount, command, \"\")"
   ]
  },
  {
   "cell_type": "code",
   "execution_count": null,
   "metadata": {},
   "outputs": [],
   "source": [
    "await run_lifecycle_command(MTPtg, command, \"\")"
   ]
  },
  {
   "cell_type": "code",
   "execution_count": null,
   "metadata": {},
   "outputs": [],
   "source": [
    "await run_lifecycle_command(MTAOS, command, \"\")"
   ]
  },
  {
   "cell_type": "code",
   "execution_count": null,
   "metadata": {},
   "outputs": [],
   "source": [
    "await run_lifecycle_command(M2, command, \"\")"
   ]
  },
  {
   "cell_type": "code",
   "execution_count": null,
   "metadata": {},
   "outputs": [],
   "source": [
    "await run_lifecycle_command(M1M3, command, \"\")"
   ]
  },
  {
   "cell_type": "code",
   "execution_count": null,
   "metadata": {},
   "outputs": [],
   "source": [
    "await run_lifecycle_command(M2Hex, command, \"\")"
   ]
  },
  {
   "cell_type": "code",
   "execution_count": null,
   "metadata": {},
   "outputs": [],
   "source": [
    "await run_lifecycle_command(CamHex, command, \"\")"
   ]
  },
  {
   "cell_type": "code",
   "execution_count": null,
   "metadata": {},
   "outputs": [],
   "source": [
    "await run_lifecycle_command(Rotator, command, \"\")"
   ]
  }
 ],
 "metadata": {
  "kernelspec": {
   "display_name": "LSST",
   "language": "python",
   "name": "lsst"
  },
  "language_info": {
   "codemirror_mode": {
    "name": "ipython",
    "version": 3
   },
   "file_extension": ".py",
   "mimetype": "text/x-python",
   "name": "python",
   "nbconvert_exporter": "python",
   "pygments_lexer": "ipython3",
   "version": "3.7.6"
  }
 },
 "nbformat": 4,
 "nbformat_minor": 4
}
