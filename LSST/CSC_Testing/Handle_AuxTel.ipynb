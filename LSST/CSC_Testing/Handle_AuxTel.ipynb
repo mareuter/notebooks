{
 "cells": [
  {
   "cell_type": "code",
   "execution_count": null,
   "metadata": {},
   "outputs": [],
   "source": [
    "import asyncio\n",
    "\n",
    "from lsst.ts import salobj"
   ]
  },
  {
   "cell_type": "code",
   "execution_count": null,
   "metadata": {},
   "outputs": [],
   "source": [
    "d = salobj.Domain()\n",
    "\n",
    "ATAOS = salobj.Remote(d, 'ATAOS') \n",
    "ATDome = salobj.Remote(d, 'ATDome') \n",
    "ATDomeTrajectory = salobj.Remote(d, 'ATDomeTrajectory') \n",
    "ATHexapod = salobj.Remote(d, 'ATHexapod') \n",
    "ATMCS = salobj.Remote(d, 'ATMCS')\n",
    "ATPneumatics = salobj.Remote(d, 'ATPneumatics') \n",
    "ATPtg = salobj.Remote(d, 'ATPtg')\n",
    "\n",
    "await asyncio.gather(ATAOS.start_task, ATDome.start_task, ATDomeTrajectory.start_task,\n",
    "                     ATHexapod.start_task, ATMCS.start_task, ATPneumatics.start_task,\n",
    "                     ATPtg.start_task)"
   ]
  },
  {
   "cell_type": "code",
   "execution_count": null,
   "metadata": {},
   "outputs": [],
   "source": [
    "#command = \"start\"\n",
    "command = \"enable\"\n",
    "#command = \"disable\"\n",
    "#command = \"standby\"\n",
    "#command = \"exitControl\""
   ]
  },
  {
   "cell_type": "code",
   "execution_count": null,
   "metadata": {},
   "outputs": [],
   "source": [
    "try:\n",
    "    cmd = getattr(ATAOS, f\"cmd_{command}\")\n",
    "    if command == \"start\":\n",
    "        cmd.set(settingsToApply=\"default\")\n",
    "    await cmd.start(timeout=15)\n",
    "except salobj.AckError as ae:\n",
    "    print(f\"Failed with ack={ae.ackcmd.ack}, ack.error={ae.ackcmd.error}, ackcmd.result={ae.ackcmd.result}\")"
   ]
  },
  {
   "cell_type": "code",
   "execution_count": null,
   "metadata": {},
   "outputs": [],
   "source": [
    "try:\n",
    "    cmd = getattr(ATDome, f\"cmd_{command}\")\n",
    "    if command == \"start\":\n",
    "        cmd.set(settingsToApply=\"test\")\n",
    "    await cmd.start(timeout=15)\n",
    "except salobj.AckError as ae:\n",
    "    print(f\"Failed with ack={ae.ackcmd.ack}, ack.error={ae.ackcmd.error}, ackcmd.result={ae.ackcmd.result}\")"
   ]
  },
  {
   "cell_type": "code",
   "execution_count": null,
   "metadata": {},
   "outputs": [],
   "source": [
    "try:\n",
    "    cmd = getattr(ATDomeTrajectory, f\"cmd_{command}\")\n",
    "    #if command == \"start\":\n",
    "    #    cmd.set(settingsToApply=\"default\")\n",
    "    await cmd.start(timeout=15)\n",
    "except salobj.AckError as ae:\n",
    "    print(f\"Failed with ack={ae.ackcmd.ack}, ack.error={ae.ackcmd.error}, ackcmd.result={ae.ackcmd.result}\")"
   ]
  },
  {
   "cell_type": "code",
   "execution_count": null,
   "metadata": {},
   "outputs": [],
   "source": [
    "try:\n",
    "    cmd = getattr(ATHexapod, f\"cmd_{command}\")\n",
    "    if command == \"start\":\n",
    "        cmd.set(settingsToApply=\"Default1\")\n",
    "    await cmd.start(timeout=15)\n",
    "except salobj.AckError as ae:\n",
    "    print(f\"Failed with ack={ae.ackcmd.ack}, ack.error={ae.ackcmd.error}, ackcmd.result={ae.ackcmd.result}\")"
   ]
  },
  {
   "cell_type": "code",
   "execution_count": null,
   "metadata": {},
   "outputs": [],
   "source": [
    "try:\n",
    "    cmd = getattr(ATMCS, f\"cmd_{command}\")\n",
    "    await cmd.start(timeout=15)\n",
    "except salobj.AckError as ae:\n",
    "    print(f\"Failed with ack={ae.ackcmd.ack}, ack.error={ae.ackcmd.error}, ackcmd.result={ae.ackcmd.result}\")"
   ]
  },
  {
   "cell_type": "code",
   "execution_count": null,
   "metadata": {},
   "outputs": [],
   "source": [
    "try:\n",
    "    cmd = getattr(ATPneumatics, f\"cmd_{command}\")\n",
    "    #if command == \"start\":\n",
    "    #    cmd.set(settingsToApply=\"default\")\n",
    "    await cmd.start(timeout=15)\n",
    "except salobj.AckError as ae:\n",
    "    print(f\"Failed with ack={ae.ackcmd.ack}, ack.error={ae.ackcmd.error}, ackcmd.result={ae.ackcmd.result}\")"
   ]
  },
  {
   "cell_type": "code",
   "execution_count": null,
   "metadata": {},
   "outputs": [],
   "source": [
    "try:\n",
    "    cmd = getattr(ATPtg, f\"cmd_{command}\")\n",
    "    #if command == \"start\":\n",
    "    #    cmd.set(settingsToApply=\"default\")\n",
    "    await cmd.start(timeout=15)\n",
    "except salobj.AckError as ae:\n",
    "    print(f\"Failed with ack={ae.ackcmd.ack}, ack.error={ae.ackcmd.error}, ackcmd.result={ae.ackcmd.result}\")"
   ]
  },
  {
   "cell_type": "code",
   "execution_count": null,
   "metadata": {},
   "outputs": [],
   "source": []
  }
 ],
 "metadata": {
  "kernelspec": {
   "display_name": "Python 3",
   "language": "python",
   "name": "python3"
  },
  "language_info": {
   "codemirror_mode": {
    "name": "ipython",
    "version": 3
   },
   "file_extension": ".py",
   "mimetype": "text/x-python",
   "name": "python",
   "nbconvert_exporter": "python",
   "pygments_lexer": "ipython3",
   "version": "3.7.2"
  }
 },
 "nbformat": 4,
 "nbformat_minor": 4
}
