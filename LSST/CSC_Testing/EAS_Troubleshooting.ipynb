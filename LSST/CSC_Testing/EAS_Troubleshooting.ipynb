{
 "cells": [
  {
   "cell_type": "code",
   "execution_count": null,
   "id": "e8906be8-d24d-4822-a460-2b89087f170a",
   "metadata": {},
   "outputs": [],
   "source": [
    "import asyncio\n",
    "import logging\n",
    "import sys\n",
    "\n",
    "from lsst.ts import salobj"
   ]
  },
  {
   "cell_type": "code",
   "execution_count": null,
   "id": "5c962c1c-2025-4ee7-8d14-2d50d80b3190",
   "metadata": {},
   "outputs": [],
   "source": [
    "stream_handler = logging.StreamHandler(sys.stdout)\n",
    "\n",
    "logger = logging.getLogger()\n",
    "logger.addHandler(stream_handler)\n",
    "logger.level = logging.DEBUG"
   ]
  },
  {
   "cell_type": "code",
   "execution_count": null,
   "id": "1c347ed0-901b-4c47-b6db-519ddfb57db9",
   "metadata": {},
   "outputs": [],
   "source": [
    "domain = salobj.Domain()\n",
    "await asyncio.sleep(10)"
   ]
  },
  {
   "cell_type": "code",
   "execution_count": null,
   "id": "8f9742ac-3370-4e4f-a92a-772574e7bd76",
   "metadata": {},
   "outputs": [],
   "source": [
    "DIMM1 = salobj.Remote(domain, 'DIMM', index=1)\n",
    "DIMM2 = salobj.Remote(domain, 'DIMM', index=2)\n",
    "WeatherStation1 = salobj.Remote(domain, 'WeatherStation', index=1)\n",
    "DSM1 = salobj.Remote(domain, 'DSM', index=1)\n",
    "DSM2 = salobj.Remote(domain, 'DSM', index=2)\n",
    "ComCam_ESS01 = salobj.Remote(domain, \"ESS\", index=1)\n",
    "MTDome_ESS01 = salobj.Remote(domain, \"ESS\", index=101)\n",
    "MTDome_ESS02 = salobj.Remote(domain, \"ESS\", index=102)\n",
    "MTDome_ESS03 = salobj.Remote(domain, \"ESS\", index=103)\n",
    "ATDome_ESS01 = salobj.Remote(domain, \"ESS\", index=201)\n",
    "await asyncio.gather(\n",
    "    DIMM1.start_task,\n",
    "    DIMM2.start_task,\n",
    "    WeatherStation1.start_task,\n",
    "    DSM1.start_task,\n",
    "    DSM2.start_task,\n",
    "    ComCam_ESS01.start_task,\n",
    "    MTDome_ESS01.start_task,\n",
    "    MTDome_ESS02.start_task,\n",
    "    MTDome_ESS03.start_task,\n",
    "    ATDome_ESS01.start_task\n",
    ")"
   ]
  },
  {
   "cell_type": "code",
   "execution_count": null,
   "id": "9a38d14f-bc9d-49a3-8900-4f8f9c23b6a9",
   "metadata": {},
   "outputs": [],
   "source": [
    "await salobj.set_summary_state(DIMM1, salobj.State.ENABLED)"
   ]
  },
  {
   "cell_type": "code",
   "execution_count": null,
   "id": "9d8e91ff-eb18-4209-9fc0-cb9c41b9b3b7",
   "metadata": {},
   "outputs": [],
   "source": [
    "await salobj.set_summary_state(DIMM2, salobj.State.ENABLED)"
   ]
  },
  {
   "cell_type": "code",
   "execution_count": null,
   "id": "7871dadf-aaaf-4da4-ac89-91d612e31351",
   "metadata": {},
   "outputs": [],
   "source": [
    "await salobj.set_summary_state(WeatherStation1, salobj.State.ENABLED, settingsToApply=\"default\")"
   ]
  },
  {
   "cell_type": "code",
   "execution_count": null,
   "id": "4fcd3c44-f184-46a3-9de3-375ecdfb55df",
   "metadata": {},
   "outputs": [],
   "source": [
    "await salobj.set_summary_state(DSM1, salobj.State.ENABLED)"
   ]
  },
  {
   "cell_type": "code",
   "execution_count": null,
   "id": "79edc8f0-9403-4cb5-ae3c-2346cff6ff22",
   "metadata": {},
   "outputs": [],
   "source": [
    "await salobj.set_summary_state(DSM2, salobj.State.ENABLED)"
   ]
  },
  {
   "cell_type": "code",
   "execution_count": null,
   "id": "f23fd2fb-20c2-4255-abd1-622d4772d3a5",
   "metadata": {},
   "outputs": [],
   "source": [
    "await salobj.set_summary_state(ComCam_ESS01, salobj.State.ENABLED, settingsToApply=\"comcam_ess01\")"
   ]
  },
  {
   "cell_type": "code",
   "execution_count": null,
   "id": "00d0958f-4d01-48b6-a8cb-6dec51d84fae",
   "metadata": {},
   "outputs": [],
   "source": [
    "await salobj.set_summary_state(MTDome_ESS01, salobj.State.ENABLED, settingsToApply=\"mtdome_ess01\")"
   ]
  },
  {
   "cell_type": "code",
   "execution_count": null,
   "id": "d2b0e206-b14e-4fc1-bedf-b59e44e700d0",
   "metadata": {},
   "outputs": [],
   "source": [
    "await salobj.set_summary_state(MTDome_ESS02, salobj.State.ENABLED, settingsToApply=\"mtdome_ess02\")"
   ]
  },
  {
   "cell_type": "code",
   "execution_count": null,
   "id": "59edb9ee-d879-4094-abf9-17ac0c994514",
   "metadata": {},
   "outputs": [],
   "source": [
    "await salobj.set_summary_state(MTDome_ESS03, salobj.State.ENABLED, settingsToApply=\"mtdome_ess03\")"
   ]
  },
  {
   "cell_type": "code",
   "execution_count": null,
   "id": "0ee215be-f307-41b8-a47a-116e04cd1e30",
   "metadata": {},
   "outputs": [],
   "source": [
    "await salobj.set_summary_state(ATDome_ESS01, salobj.State.ENABLED, settingsToApply=\"atdome_ess01\")"
   ]
  }
 ],
 "metadata": {
  "kernelspec": {
   "display_name": "LSST",
   "language": "python",
   "name": "lsst"
  },
  "language_info": {
   "codemirror_mode": {
    "name": "ipython",
    "version": 3
   },
   "file_extension": ".py",
   "mimetype": "text/x-python",
   "name": "python",
   "nbconvert_exporter": "python",
   "pygments_lexer": "ipython3",
   "version": "3.10.5"
  }
 },
 "nbformat": 4,
 "nbformat_minor": 5
}
