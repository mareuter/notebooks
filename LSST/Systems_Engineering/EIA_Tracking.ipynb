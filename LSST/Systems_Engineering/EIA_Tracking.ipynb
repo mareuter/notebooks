{
 "cells": [
  {
   "cell_type": "code",
   "execution_count": 1,
   "metadata": {
    "collapsed": true
   },
   "outputs": [],
   "source": [
    "from jira import JIRA\n",
    "import os"
   ]
  },
  {
   "cell_type": "code",
   "execution_count": 2,
   "metadata": {
    "collapsed": true
   },
   "outputs": [],
   "source": [
    "token_file = os.path.join(os.path.expanduser(\"~/\"), \".jira_auth\")\n",
    "with open(token_file, 'r') as fd:\n",
    "    uname = fd.readline().strip()  # Can't hurt to be paranoid\n",
    "    pwd = fd.readline().strip()"
   ]
  },
  {
   "cell_type": "code",
   "execution_count": 3,
   "metadata": {
    "collapsed": true
   },
   "outputs": [],
   "source": [
    "SERVER = \"https://jira.lsstcorp.org/\"\n",
    "js = JIRA(server=SERVER, basic_auth=(uname, pwd))"
   ]
  },
  {
   "cell_type": "code",
   "execution_count": 98,
   "metadata": {},
   "outputs": [],
   "source": [
    "EPIC_KEY = \"TSEIA-2\"\n",
    "issues = js.search_issues(\"'Epic Link' = '{}'\".format(EPIC_KEY))\n",
    "#issue = issues[0]"
   ]
  },
  {
   "cell_type": "code",
   "execution_count": 99,
   "metadata": {},
   "outputs": [],
   "source": [
    "components = js.project_components(EPIC_KEY.split('-')[0])\n",
    "component_dict = {c.name: c.lead.displayName for c in components}\n",
    "#print(component_dict)"
   ]
  },
  {
   "cell_type": "code",
   "execution_count": 101,
   "metadata": {},
   "outputs": [],
   "source": [
    "import collections\n",
    "issue_status = collections.defaultdict(list)\n",
    "for issue in issues:\n",
    "    component = issue.fields.components[0].name\n",
    "    component_lead = component_dict[component]\n",
    "    issue_status[component_lead].append(issue.fields.status.name)\n",
    "#issue_status"
   ]
  },
  {
   "cell_type": "code",
   "execution_count": 106,
   "metadata": {},
   "outputs": [],
   "source": [
    "total_status = {}\n",
    "for lead, status in issue_status.items():\n",
    "    counter = collections.Counter(status)\n",
    "    total_status[lead] = counter\n",
    "    #print(counter)\n",
    "    #print(sum(counter.values()))"
   ]
  },
  {
   "cell_type": "code",
   "execution_count": 111,
   "metadata": {},
   "outputs": [],
   "source": [
    "import matplotlib.pyplot as plt\n",
    "import numpy as np\n",
    "%matplotlib inline\n",
    "to_do = np.array([x['Backlog'] + x['Selected for Development'] for x in total_status.values()])\n",
    "in_progress = np.array([x['In Progress'] + x['In Review'] for x in total_status.values()])\n",
    "done = np.array([x['Done'] for x in total_status.values()])\n",
    "titles = [os.linesep.join(n.split()) for n in total_status]\n",
    "x = np.arange(len(total_status)) + 0.5\n",
    "max_y = max([sum(c.values()) for c in total_status.values()])"
   ]
  },
  {
   "cell_type": "code",
   "execution_count": 112,
   "metadata": {},
   "outputs": [
    {
     "data": {
      "image/png": "[encoded data removed]",
      "text/plain": [
       "<matplotlib.figure.Figure at 0x10cfdee10>"
      ]
     },
     "metadata": {},
     "output_type": "display_data"
    }
   ],
   "source": [
    "bar_width = 0.35\n",
    "fig, ax = plt.subplots(figsize=(10,6))\n",
    "ax.yaxis.grid(True)\n",
    "p1 = plt.bar(x, done, bar_width, color='g')\n",
    "p2 = plt.bar(x, in_progress, bar_width, color='y', bottom=done)\n",
    "p3 = plt.bar(x, to_do, bar_width, color='b', bottom=done+in_progress)"
   ]
  },
  {
   "cell_type": "code",
   "execution_count": null,
   "metadata": {
    "collapsed": true
   },
   "outputs": [],
   "source": []
  }
 ],
 "metadata": {
  "kernelspec": {
   "display_name": "Python 3",
   "language": "python",
   "name": "python3"
  },
  "language_info": {
   "codemirror_mode": {
    "name": "ipython",
    "version": 3
   },
   "file_extension": ".py",
   "mimetype": "text/x-python",
   "name": "python",
   "nbconvert_exporter": "python",
   "pygments_lexer": "ipython3",
   "version": "3.6.2"
  }
 },
 "nbformat": 4,
 "nbformat_minor": 2
}
