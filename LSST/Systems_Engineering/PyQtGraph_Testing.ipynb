{
 "cells": [
  {
   "cell_type": "code",
   "execution_count": 65,
   "metadata": {},
   "outputs": [],
   "source": [
    "import numpy as np\n",
    "import pyqtgraph as pg\n",
    "import scipy\n",
    "%gui qt"
   ]
  },
  {
   "cell_type": "code",
   "execution_count": 66,
   "metadata": {},
   "outputs": [
    {
     "data": {
      "text/plain": [
       "<pyqtgraph.graphicsWindows.PlotWindow at 0x12eaa8048>"
      ]
     },
     "execution_count": 66,
     "metadata": {},
     "output_type": "execute_result"
    }
   ],
   "source": [
    "data = np.random.normal(size=1000)\n",
    "pg.plot(data, title=\"Here we go!\")"
   ]
  },
  {
   "cell_type": "code",
   "execution_count": 127,
   "metadata": {},
   "outputs": [],
   "source": [
    "sz = 3\n",
    "bg = np.zeros((sz, sz))\n",
    "up = np.arange(1, sz + 1)"
   ]
  },
  {
   "cell_type": "code",
   "execution_count": 128,
   "metadata": {},
   "outputs": [],
   "source": [
    "win = pg.GraphicsLayoutWidget()\n",
    "p1 = win.addPlot()\n",
    "img = pg.ImageItem()\n",
    "p1.addItem(img)\n",
    "win.show()"
   ]
  },
  {
   "cell_type": "code",
   "execution_count": 130,
   "metadata": {},
   "outputs": [],
   "source": [
    "for i in range(100):\n",
    "    scale = i + 1\n",
    "    # Shift all columns by one\n",
    "    bg[..., 1:] = bg[..., :-1]\n",
    "    #print(bg)\n",
    "    # Add new data to first column\n",
    "    bg[..., 0] = up * scale\n",
    "    #print(bg)\n",
    "    img.setImage(bg)"
   ]
  },
  {
   "cell_type": "code",
   "execution_count": null,
   "metadata": {},
   "outputs": [],
   "source": []
  }
 ],
 "metadata": {
  "kernelspec": {
   "display_name": "Python 3",
   "language": "python",
   "name": "python3"
  },
  "language_info": {
   "codemirror_mode": {
    "name": "ipython",
    "version": 3
   },
   "file_extension": ".py",
   "mimetype": "text/x-python",
   "name": "python",
   "nbconvert_exporter": "python",
   "pygments_lexer": "ipython3",
   "version": "3.6.5"
  }
 },
 "nbformat": 4,
 "nbformat_minor": 2
}
