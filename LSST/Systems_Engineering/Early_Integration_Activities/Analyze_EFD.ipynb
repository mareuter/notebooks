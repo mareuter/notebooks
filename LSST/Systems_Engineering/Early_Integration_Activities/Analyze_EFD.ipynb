{
 "cells": [
  {
   "cell_type": "code",
   "execution_count": 1,
   "metadata": {},
   "outputs": [],
   "source": [
    "import matplotlib.pyplot as plt\n",
    "import numpy as np\n",
    "import pandas as pd\n",
    "\n",
    "%matplotlib inline"
   ]
  },
  {
   "cell_type": "code",
   "execution_count": 3,
   "metadata": {},
   "outputs": [],
   "source": [
    "df = pd.read_pickle('atcamera_wrebPower.pkl')"
   ]
  },
  {
   "cell_type": "code",
   "execution_count": 4,
   "metadata": {},
   "outputs": [
    {
     "data": {
      "text/html": [
       "<div>\n",
       "<style scoped>\n",
       "    .dataframe tbody tr th:only-of-type {\n",
       "        vertical-align: middle;\n",
       "    }\n",
       "\n",
       "    .dataframe tbody tr th {\n",
       "        vertical-align: top;\n",
       "    }\n",
       "\n",
       "    .dataframe thead th {\n",
       "        text-align: right;\n",
       "    }\n",
       "</style>\n",
       "<table border=\"1\" class=\"dataframe\">\n",
       "  <thead>\n",
       "    <tr style=\"text-align: right;\">\n",
       "      <th></th>\n",
       "      <th>date_time</th>\n",
       "      <th>private_revCode</th>\n",
       "      <th>private_sndStamp</th>\n",
       "      <th>private_rcvStamp</th>\n",
       "      <th>private_seqNum</th>\n",
       "      <th>private_origin</th>\n",
       "      <th>private_host</th>\n",
       "      <th>digital_V</th>\n",
       "      <th>digital_I</th>\n",
       "      <th>analog_V</th>\n",
       "      <th>...</th>\n",
       "      <th>clkLow_V</th>\n",
       "      <th>clkLow_I</th>\n",
       "      <th>od_V</th>\n",
       "      <th>od_I</th>\n",
       "      <th>dphi_V</th>\n",
       "      <th>dphi_I</th>\n",
       "      <th>heater_V</th>\n",
       "      <th>heater_I</th>\n",
       "      <th>hvbias_V</th>\n",
       "      <th>hvbias_I</th>\n",
       "    </tr>\n",
       "  </thead>\n",
       "  <tbody>\n",
       "    <tr>\n",
       "      <th>0</th>\n",
       "      <td>2018-08-14 18:34:12.274374</td>\n",
       "      <td>LSST TEST REVCODE</td>\n",
       "      <td>1.534272e+09</td>\n",
       "      <td>1.534272e+09</td>\n",
       "      <td>0</td>\n",
       "      <td>1</td>\n",
       "      <td>0</td>\n",
       "      <td>5.0</td>\n",
       "      <td>645.1</td>\n",
       "      <td>7.0</td>\n",
       "      <td>...</td>\n",
       "      <td>11.0</td>\n",
       "      <td>34.7</td>\n",
       "      <td>28.0</td>\n",
       "      <td>26.7</td>\n",
       "      <td>10.0</td>\n",
       "      <td>6.5</td>\n",
       "      <td>12.0</td>\n",
       "      <td>0.0</td>\n",
       "      <td>-24.0</td>\n",
       "      <td>0.0</td>\n",
       "    </tr>\n",
       "    <tr>\n",
       "      <th>1</th>\n",
       "      <td>2018-08-14 18:34:12.275449</td>\n",
       "      <td>LSST TEST REVCODE</td>\n",
       "      <td>1.534272e+09</td>\n",
       "      <td>1.534272e+09</td>\n",
       "      <td>0</td>\n",
       "      <td>1</td>\n",
       "      <td>0</td>\n",
       "      <td>5.0</td>\n",
       "      <td>651.2</td>\n",
       "      <td>7.0</td>\n",
       "      <td>...</td>\n",
       "      <td>11.0</td>\n",
       "      <td>34.7</td>\n",
       "      <td>28.0</td>\n",
       "      <td>26.7</td>\n",
       "      <td>10.0</td>\n",
       "      <td>6.5</td>\n",
       "      <td>12.0</td>\n",
       "      <td>0.0</td>\n",
       "      <td>-24.0</td>\n",
       "      <td>0.0</td>\n",
       "    </tr>\n",
       "    <tr>\n",
       "      <th>2</th>\n",
       "      <td>2018-08-14 18:34:12.276372</td>\n",
       "      <td>LSST TEST REVCODE</td>\n",
       "      <td>1.534272e+09</td>\n",
       "      <td>1.534272e+09</td>\n",
       "      <td>0</td>\n",
       "      <td>1</td>\n",
       "      <td>0</td>\n",
       "      <td>5.0</td>\n",
       "      <td>651.3</td>\n",
       "      <td>7.0</td>\n",
       "      <td>...</td>\n",
       "      <td>11.0</td>\n",
       "      <td>34.7</td>\n",
       "      <td>28.0</td>\n",
       "      <td>26.7</td>\n",
       "      <td>10.0</td>\n",
       "      <td>6.5</td>\n",
       "      <td>12.0</td>\n",
       "      <td>0.0</td>\n",
       "      <td>-24.0</td>\n",
       "      <td>0.0</td>\n",
       "    </tr>\n",
       "    <tr>\n",
       "      <th>3</th>\n",
       "      <td>2018-08-14 18:34:12.278053</td>\n",
       "      <td>LSST TEST REVCODE</td>\n",
       "      <td>1.534272e+09</td>\n",
       "      <td>1.534272e+09</td>\n",
       "      <td>0</td>\n",
       "      <td>1</td>\n",
       "      <td>0</td>\n",
       "      <td>5.0</td>\n",
       "      <td>651.2</td>\n",
       "      <td>7.0</td>\n",
       "      <td>...</td>\n",
       "      <td>11.0</td>\n",
       "      <td>34.7</td>\n",
       "      <td>28.0</td>\n",
       "      <td>26.7</td>\n",
       "      <td>10.0</td>\n",
       "      <td>6.5</td>\n",
       "      <td>12.0</td>\n",
       "      <td>0.0</td>\n",
       "      <td>-24.0</td>\n",
       "      <td>0.0</td>\n",
       "    </tr>\n",
       "    <tr>\n",
       "      <th>4</th>\n",
       "      <td>2018-08-14 18:34:12.279707</td>\n",
       "      <td>LSST TEST REVCODE</td>\n",
       "      <td>1.534272e+09</td>\n",
       "      <td>1.534272e+09</td>\n",
       "      <td>0</td>\n",
       "      <td>1</td>\n",
       "      <td>0</td>\n",
       "      <td>5.0</td>\n",
       "      <td>651.3</td>\n",
       "      <td>7.0</td>\n",
       "      <td>...</td>\n",
       "      <td>11.0</td>\n",
       "      <td>34.7</td>\n",
       "      <td>28.0</td>\n",
       "      <td>26.7</td>\n",
       "      <td>10.0</td>\n",
       "      <td>6.5</td>\n",
       "      <td>12.0</td>\n",
       "      <td>0.0</td>\n",
       "      <td>-24.0</td>\n",
       "      <td>0.0</td>\n",
       "    </tr>\n",
       "  </tbody>\n",
       "</table>\n",
       "<p>5 rows × 23 columns</p>\n",
       "</div>"
      ],
      "text/plain": [
       "                   date_time    private_revCode  private_sndStamp  \\\n",
       "0 2018-08-14 18:34:12.274374  LSST TEST REVCODE      1.534272e+09   \n",
       "1 2018-08-14 18:34:12.275449  LSST TEST REVCODE      1.534272e+09   \n",
       "2 2018-08-14 18:34:12.276372  LSST TEST REVCODE      1.534272e+09   \n",
       "3 2018-08-14 18:34:12.278053  LSST TEST REVCODE      1.534272e+09   \n",
       "4 2018-08-14 18:34:12.279707  LSST TEST REVCODE      1.534272e+09   \n",
       "\n",
       "   private_rcvStamp  private_seqNum  private_origin  private_host  digital_V  \\\n",
       "0      1.534272e+09               0               1             0        5.0   \n",
       "1      1.534272e+09               0               1             0        5.0   \n",
       "2      1.534272e+09               0               1             0        5.0   \n",
       "3      1.534272e+09               0               1             0        5.0   \n",
       "4      1.534272e+09               0               1             0        5.0   \n",
       "\n",
       "   digital_I  analog_V    ...     clkLow_V  clkLow_I  od_V  od_I  dphi_V  \\\n",
       "0      645.1       7.0    ...         11.0      34.7  28.0  26.7    10.0   \n",
       "1      651.2       7.0    ...         11.0      34.7  28.0  26.7    10.0   \n",
       "2      651.3       7.0    ...         11.0      34.7  28.0  26.7    10.0   \n",
       "3      651.2       7.0    ...         11.0      34.7  28.0  26.7    10.0   \n",
       "4      651.3       7.0    ...         11.0      34.7  28.0  26.7    10.0   \n",
       "\n",
       "   dphi_I  heater_V  heater_I  hvbias_V  hvbias_I  \n",
       "0     6.5      12.0       0.0     -24.0       0.0  \n",
       "1     6.5      12.0       0.0     -24.0       0.0  \n",
       "2     6.5      12.0       0.0     -24.0       0.0  \n",
       "3     6.5      12.0       0.0     -24.0       0.0  \n",
       "4     6.5      12.0       0.0     -24.0       0.0  \n",
       "\n",
       "[5 rows x 23 columns]"
      ]
     },
     "execution_count": 4,
     "metadata": {},
     "output_type": "execute_result"
    }
   ],
   "source": [
    "df.head()"
   ]
  },
  {
   "cell_type": "code",
   "execution_count": 20,
   "metadata": {},
   "outputs": [],
   "source": [
    "def print_stats(array):\n",
    "    print('Minimum:', np.min(array))\n",
    "    print('Maximum:', np.max(array))\n",
    "    print('Median:', np.median(array))\n",
    "    print('Std:', np.std(array))"
   ]
  },
  {
   "cell_type": "code",
   "execution_count": 37,
   "metadata": {},
   "outputs": [
    {
     "name": "stdout",
     "output_type": "stream",
     "text": [
      "[10.37599993 10.4690001   9.42400002 ... 10.00499988 10.35000014\n",
      "  9.18799996]\n"
     ]
    }
   ],
   "source": [
    "sndStamp_diff = df['private_sndStamp'][1:].values - df['private_sndStamp'][:-1].values\n",
    "#print(sndStamp_diff)"
   ]
  },
  {
   "cell_type": "code",
   "execution_count": 38,
   "metadata": {},
   "outputs": [
    {
     "name": "stdout",
     "output_type": "stream",
     "text": [
      "Minimum: -9.341000080108643\n",
      "Maximum: 354403.0950000286\n",
      "Median: 10.067999839782715\n",
      "Std: 623.8465849417355\n"
     ]
    }
   ],
   "source": [
    "print_stats(sndStamp_diff)"
   ]
  },
  {
   "cell_type": "code",
   "execution_count": 43,
   "metadata": {},
   "outputs": [
    {
     "data": {
      "text/plain": [
       "(array([3.97934e+05, 0.00000e+00, 1.00000e+00, 0.00000e+00, 1.00000e+00,\n",
       "        0.00000e+00, 0.00000e+00, 0.00000e+00, 0.00000e+00, 1.00000e+00]),\n",
       " array([-9.34100008e+00,  3.54319026e+04,  7.08731462e+04,  1.06314390e+05,\n",
       "         1.41755633e+05,  1.77196877e+05,  2.12638121e+05,  2.48079364e+05,\n",
       "         2.83520608e+05,  3.18961851e+05,  3.54403095e+05]),\n",
       " <a list of 10 Patch objects>)"
      ]
     },
     "execution_count": 43,
     "metadata": {},
     "output_type": "execute_result"
    },
    {
     "data": {
      "image/png": "[encoded data removed]",
      "text/plain": [
       "<Figure size 432x288 with 1 Axes>"
      ]
     },
     "metadata": {},
     "output_type": "display_data"
    }
   ],
   "source": [
    "plt.hist(sndStamp_diff, bins=10)"
   ]
  },
  {
   "cell_type": "code",
   "execution_count": null,
   "metadata": {},
   "outputs": [],
   "source": []
  }
 ],
 "metadata": {
  "kernelspec": {
   "display_name": "Python 3",
   "language": "python",
   "name": "python3"
  },
  "language_info": {
   "codemirror_mode": {
    "name": "ipython",
    "version": 3
   },
   "file_extension": ".py",
   "mimetype": "text/x-python",
   "name": "python",
   "nbconvert_exporter": "python",
   "pygments_lexer": "ipython3",
   "version": "3.6.6"
  }
 },
 "nbformat": 4,
 "nbformat_minor": 2
}
