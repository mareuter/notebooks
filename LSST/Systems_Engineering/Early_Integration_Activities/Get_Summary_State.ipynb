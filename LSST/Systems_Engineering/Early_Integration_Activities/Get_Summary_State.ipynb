{
 "cells": [
  {
   "cell_type": "code",
   "execution_count": 1,
   "metadata": {},
   "outputs": [],
   "source": [
    "import os\n",
    "\n",
    "import MySQLdb as mdb\n",
    "import pandas as pd\n",
    "from sqlalchemy.ext.automap import automap_base\n",
    "from sqlalchemy.orm import Session\n",
    "from sqlalchemy import create_engine, text"
   ]
  },
  {
   "cell_type": "code",
   "execution_count": 2,
   "metadata": {},
   "outputs": [],
   "source": [
    "def create_connection():\n",
    "    default_file = os.path.join(os.path.expanduser('~/'), '.atefd.cnf')\n",
    "    return mdb.connect(read_default_file=default_file, db='EFD')"
   ]
  },
  {
   "cell_type": "code",
   "execution_count": 3,
   "metadata": {},
   "outputs": [],
   "source": [
    "base = automap_base()\n",
    "engine = create_engine('mysql+mysqldb://', creator=create_connection)\n",
    "base.prepare(engine, reflect=True)\n",
    "session = Session(engine)"
   ]
  },
  {
   "cell_type": "code",
   "execution_count": 4,
   "metadata": {},
   "outputs": [],
   "source": [
    "cscs = ['atcamera', 'atHeaderService', 'atArchiver']\n",
    "topic = 'logevent_summaryState'\n",
    "df_columns = ['date_time', 'summaryState', 'priority']\n",
    "cols1 = 'date_time,summaryStateValue,priority'\n",
    "cols2 = ','.join(df_columns)\n",
    "columns = [cols1, cols2, cols1]\n",
    "limit = 'date_time desc limit 1'\n",
    "tables = [base.classes.get('{}_{}'.format(csc, topic)) for csc in cscs]"
   ]
  },
  {
   "cell_type": "code",
   "execution_count": 5,
   "metadata": {},
   "outputs": [],
   "source": [
    "df_rows = []\n",
    "for table, cols, csc in zip(tables, columns, cscs):\n",
    "    result = session.query(table).order_by(text(limit)).one()\n",
    "    row = []\n",
    "    for col in cols.split(','):\n",
    "        row.append(getattr(result, col))\n",
    "    df_rows.append(pd.DataFrame([row], columns=df_columns, index=[csc]))\n",
    "df = pd.concat(df_rows)"
   ]
  },
  {
   "cell_type": "code",
   "execution_count": 6,
   "metadata": {},
   "outputs": [
    {
     "data": {
      "text/html": [
       "<div>\n",
       "<style scoped>\n",
       "    .dataframe tbody tr th:only-of-type {\n",
       "        vertical-align: middle;\n",
       "    }\n",
       "\n",
       "    .dataframe tbody tr th {\n",
       "        vertical-align: top;\n",
       "    }\n",
       "\n",
       "    .dataframe thead th {\n",
       "        text-align: right;\n",
       "    }\n",
       "</style>\n",
       "<table border=\"1\" class=\"dataframe\">\n",
       "  <thead>\n",
       "    <tr style=\"text-align: right;\">\n",
       "      <th></th>\n",
       "      <th>date_time</th>\n",
       "      <th>summaryState</th>\n",
       "      <th>priority</th>\n",
       "    </tr>\n",
       "  </thead>\n",
       "  <tbody>\n",
       "    <tr>\n",
       "      <th>atcamera</th>\n",
       "      <td>2018-08-25 20:37:18.784911</td>\n",
       "      <td>2</td>\n",
       "      <td>1</td>\n",
       "    </tr>\n",
       "    <tr>\n",
       "      <th>atHeaderService</th>\n",
       "      <td>2018-08-26 23:33:27.293528</td>\n",
       "      <td>2</td>\n",
       "      <td>0</td>\n",
       "    </tr>\n",
       "    <tr>\n",
       "      <th>atArchiver</th>\n",
       "      <td>2018-08-26 23:27:16.853129</td>\n",
       "      <td>2</td>\n",
       "      <td>0</td>\n",
       "    </tr>\n",
       "  </tbody>\n",
       "</table>\n",
       "</div>"
      ],
      "text/plain": [
       "                                 date_time  summaryState  priority\n",
       "atcamera        2018-08-25 20:37:18.784911             2         1\n",
       "atHeaderService 2018-08-26 23:33:27.293528             2         0\n",
       "atArchiver      2018-08-26 23:27:16.853129             2         0"
      ]
     },
     "execution_count": 6,
     "metadata": {},
     "output_type": "execute_result"
    }
   ],
   "source": [
    "df"
   ]
  },
  {
   "cell_type": "code",
   "execution_count": null,
   "metadata": {},
   "outputs": [],
   "source": []
  }
 ],
 "metadata": {
  "kernelspec": {
   "display_name": "Python 3",
   "language": "python",
   "name": "python3"
  },
  "language_info": {
   "codemirror_mode": {
    "name": "ipython",
    "version": 3
   },
   "file_extension": ".py",
   "mimetype": "text/x-python",
   "name": "python",
   "nbconvert_exporter": "python",
   "pygments_lexer": "ipython3",
   "version": "3.6.6"
  }
 },
 "nbformat": 4,
 "nbformat_minor": 2
}
