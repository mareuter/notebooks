{
 "cells": [
  {
   "cell_type": "code",
   "execution_count": 1,
   "metadata": {},
   "outputs": [],
   "source": [
    "from datetime import datetime\n",
    "import os\n",
    "\n",
    "import matplotlib.pyplot as plt\n",
    "import MySQLdb as mdb\n",
    "import pandas as pd\n",
    "from sqlalchemy import create_engine\n",
    "\n",
    "%matplotlib inline"
   ]
  },
  {
   "cell_type": "code",
   "execution_count": 2,
   "metadata": {},
   "outputs": [],
   "source": [
    "def create_connection():\n",
    "    default_file = os.path.join(os.path.expanduser('~/'), '.tmaefd.cnf')\n",
    "    return mdb.connect(read_default_file=default_file, db='EFD')"
   ]
  },
  {
   "cell_type": "code",
   "execution_count": 3,
   "metadata": {},
   "outputs": [],
   "source": [
    "engine = create_engine('mysql+mysqldb://', creator=create_connection)"
   ]
  },
  {
   "cell_type": "code",
   "execution_count": 4,
   "metadata": {},
   "outputs": [],
   "source": [
    "tables = pd.read_sql_query('show tables', engine)\n",
    "table_names = tables['Tables_in_EFD'].values"
   ]
  },
  {
   "cell_type": "code",
   "execution_count": 5,
   "metadata": {},
   "outputs": [],
   "source": [
    "mtmount_tables = [x for x in table_names if x.startswith('MTMount')]\n",
    "#mtmount_tables"
   ]
  },
  {
   "cell_type": "code",
   "execution_count": 17,
   "metadata": {},
   "outputs": [
    {
     "name": "stdout",
     "output_type": "stream",
     "text": [
      "MTMount_Auxiliary_Boxes 816\n",
      "MTMount_Auxliary_Cabinet_Azimuth 816\n",
      "MTMount_Azimuth 988\n",
      "MTMount_Azimuth_Cable_Wrap 923\n",
      "MTMount_Azimuth_Drives 1010\n",
      "MTMount_Azimuth_Drives_Thermal 817\n",
      "MTMount_Balancing 943\n",
      "MTMount_Balancing_Drives 949\n",
      "MTMount_Camera_Cable_Wrap 953\n",
      "MTMount_Compressed_Air 819\n",
      "MTMount_Cooling 819\n",
      "MTMount_Deployable_Platforms 961\n",
      "MTMount_Dynalene_Cooling 821\n",
      "MTMount_Elevation 1012\n",
      "MTMount_Elevation_Drives 950\n",
      "MTMount_Elevation_Drives_Thermal 803\n",
      "MTMount_Encoder_EIB 956\n",
      "MTMount_General 805\n",
      "MTMount_General_Purpose_Glycol_Water 806\n",
      "MTMount_Locking_Pins 893\n",
      "MTMount_Main_Power_Supply 841\n",
      "MTMount_Main_Power_Supply_Cabinet 808\n",
      "MTMount_Mirror_Cover 900\n",
      "MTMount_Mirror_Cover_Locks 904\n",
      "MTMount_Mount_Control_Main_Cabinet 810\n",
      "MTMount_OSS 847\n",
      "MTMount_Safety_System 848\n",
      "MTMount_TEC 811\n",
      "MTMount_Top_End_Chiller 812\n"
     ]
    }
   ],
   "source": [
    "for table_name in mtmount_tables:\n",
    "    data_frame = pd.read_sql_query('select * from {};'.format(table_name), engine)\n",
    "    if len(data_frame):\n",
    "        print(table_name, len(data_frame))\n",
    "        #print(data_frame.tail())\n",
    "    else:\n",
    "        pass\n",
    "        #print(\"{} empty.\".format(table_name))"
   ]
  },
  {
   "cell_type": "code",
   "execution_count": 18,
   "metadata": {},
   "outputs": [],
   "source": [
    "#table_to_check = 'MTMount_Aux_Az_Cabinet'\n",
    "table_to_check = 'MTMount_Azimuth'\n",
    "df2 = pd.read_sql_query('select * from {};'.format(table_to_check), engine)"
   ]
  },
  {
   "cell_type": "code",
   "execution_count": 19,
   "metadata": {},
   "outputs": [],
   "source": [
    "send_times = df2['private_sndStamp'].values"
   ]
  },
  {
   "cell_type": "code",
   "execution_count": 20,
   "metadata": {},
   "outputs": [],
   "source": [
    "diff = send_times[1:] - send_times[:-1]"
   ]
  },
  {
   "cell_type": "code",
   "execution_count": 21,
   "metadata": {},
   "outputs": [],
   "source": [
    "import numpy as np\n",
    "cleaner = np.abs(diff) < 10\n",
    "diff_clean = diff[cleaner]\n",
    "timestamps = send_times[1:][cleaner]"
   ]
  },
  {
   "cell_type": "code",
   "execution_count": 22,
   "metadata": {},
   "outputs": [
    {
     "data": {
      "image/png": "[encoded data removed]",
      "text/plain": [
       "<Figure size 432x288 with 1 Axes>"
      ]
     },
     "metadata": {},
     "output_type": "display_data"
    }
   ],
   "source": [
    "x = plt.hist(diff_clean, bins=40)\n",
    "plt.yscale('log')"
   ]
  },
  {
   "cell_type": "code",
   "execution_count": 23,
   "metadata": {},
   "outputs": [
    {
     "data": {
      "text/plain": [
       "<matplotlib.collections.PathCollection at 0x11f8c1128>"
      ]
     },
     "execution_count": 23,
     "metadata": {},
     "output_type": "execute_result"
    },
    {
     "data": {
      "image/png": "[encoded data removed]",
      "text/plain": [
       "<Figure size 432x288 with 1 Axes>"
      ]
     },
     "metadata": {},
     "output_type": "display_data"
    }
   ],
   "source": [
    "plt.scatter(timestamps, diff_clean)"
   ]
  },
  {
   "cell_type": "code",
   "execution_count": 24,
   "metadata": {},
   "outputs": [],
   "source": [
    "from datetime import datetime"
   ]
  },
  {
   "cell_type": "code",
   "execution_count": 64,
   "metadata": {},
   "outputs": [
    {
     "name": "stdout",
     "output_type": "stream",
     "text": [
      "[datetime.datetime(2017, 9, 20, 13, 30, 3, 199855)\n",
      " datetime.datetime(2017, 9, 20, 13, 30, 3, 299066)\n",
      " datetime.datetime(2017, 9, 20, 13, 30, 3, 399562) ...\n",
      " datetime.datetime(2017, 9, 20, 14, 39, 42, 99622)\n",
      " datetime.datetime(2017, 9, 20, 14, 39, 42, 199223)\n",
      " datetime.datetime(2017, 9, 20, 14, 39, 42, 299685)]\n"
     ]
    }
   ],
   "source": [
    "temp = []\n",
    "for timestamp in timestamps:\n",
    "    temp.append(datetime.utcfromtimestamp(timestamp))\n",
    "new_timestamps = np.array(temp)\n",
    "print(new_timestamps)"
   ]
  },
  {
   "cell_type": "code",
   "execution_count": 77,
   "metadata": {},
   "outputs": [
    {
     "data": {
      "text/plain": [
       "(736592.5555555555, 736592.6180555555)"
      ]
     },
     "execution_count": 77,
     "metadata": {},
     "output_type": "execute_result"
    },
    {
     "data": {
      "image/png": "[encoded data removed]",
      "text/plain": [
       "<Figure size 432x288 with 1 Axes>"
      ]
     },
     "metadata": {},
     "output_type": "display_data"
    }
   ],
   "source": [
    "plt.scatter(new_timestamps, diff_clean)\n",
    "import matplotlib.dates as md\n",
    "plt.xticks(rotation=90)\n",
    "ax=plt.gca()\n",
    "xfmt = md.DateFormatter('%Y-%m-%d %H:%M:%S')\n",
    "ax.xaxis.set_major_formatter(xfmt)\n",
    "plt.xlim(datetime(2017, 9, 20, 13, 20), datetime(2017, 9, 20, 14, 50))"
   ]
  },
  {
   "cell_type": "code",
   "execution_count": null,
   "metadata": {},
   "outputs": [],
   "source": []
  }
 ],
 "metadata": {
  "kernelspec": {
   "display_name": "Python 3",
   "language": "python",
   "name": "python3"
  },
  "language_info": {
   "codemirror_mode": {
    "name": "ipython",
    "version": 3
   },
   "file_extension": ".py",
   "mimetype": "text/x-python",
   "name": "python",
   "nbconvert_exporter": "python",
   "pygments_lexer": "ipython3",
   "version": "3.6.6"
  }
 },
 "nbformat": 4,
 "nbformat_minor": 2
}
