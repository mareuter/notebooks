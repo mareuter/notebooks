{
 "cells": [
  {
   "cell_type": "code",
   "execution_count": 1,
   "metadata": {},
   "outputs": [],
   "source": [
    "import os\n",
    "\n",
    "import MySQLdb as mdb\n",
    "from sqlalchemy.ext.automap import automap_base\n",
    "from sqlalchemy.orm import Session\n",
    "from sqlalchemy import create_engine"
   ]
  },
  {
   "cell_type": "code",
   "execution_count": 2,
   "metadata": {},
   "outputs": [],
   "source": [
    "Base = automap_base()"
   ]
  },
  {
   "cell_type": "code",
   "execution_count": 3,
   "metadata": {},
   "outputs": [],
   "source": [
    "def create_connection():\n",
    "    default_file = os.path.join(os.path.expanduser('~/'), '.atefd.cnf')\n",
    "    return mdb.connect(read_default_file=default_file, db='EFD')\n",
    "engine = create_engine('mysql+mysqldb://', creator=create_connection)"
   ]
  },
  {
   "cell_type": "code",
   "execution_count": 4,
   "metadata": {},
   "outputs": [],
   "source": [
    "Base.prepare(engine, reflect=True)"
   ]
  },
  {
   "cell_type": "code",
   "execution_count": 7,
   "metadata": {},
   "outputs": [
    {
     "name": "stdout",
     "output_type": "stream",
     "text": [
      "atArchiver_SequencerHeartbeat\n",
      "<class 'sqlalchemy.ext.declarative.api.DeclarativeMeta'>\n",
      "['__abstract__', '__class__', '__delattr__', '__dict__', '__dir__', '__doc__', '__eq__', '__format__', '__ge__', '__getattribute__', '__gt__', '__hash__', '__init__', '__init_subclass__', '__le__', '__lt__', '__mapper__', '__module__', '__ne__', '__new__', '__reduce__', '__reduce_ex__', '__repr__', '__setattr__', '__sizeof__', '__str__', '__subclasshook__', '__table__', '__weakref__', '_decl_class_registry', '_sa_class_manager', '_sa_decl_prepare', 'classes', 'date_time', 'heartbeat', 'metadata', 'prepare', 'priority', 'private_host', 'private_origin', 'private_rcvStamp', 'private_revCode', 'private_seqNum', 'private_sndStamp']\n",
      "atArchiver_commandLog\n",
      "<class 'sqlalchemy.ext.declarative.api.DeclarativeMeta'>\n",
      "['__abstract__', '__class__', '__delattr__', '__dict__', '__dir__', '__doc__', '__eq__', '__format__', '__ge__', '__getattribute__', '__gt__', '__hash__', '__init__', '__init_subclass__', '__le__', '__lt__', '__mapper__', '__module__', '__ne__', '__new__', '__reduce__', '__reduce_ex__', '__repr__', '__setattr__', '__sizeof__', '__str__', '__subclasshook__', '__table__', '__weakref__', '_decl_class_registry', '_sa_class_manager', '_sa_decl_prepare', 'ack', 'classes', 'date_time', 'error', 'metadata', 'name', 'prepare', 'private_revCode', 'private_seqNum', 'private_sndStamp']\n",
      "atArchiver_command_abort\n",
      "<class 'sqlalchemy.ext.declarative.api.DeclarativeMeta'>\n",
      "['__abstract__', '__class__', '__delattr__', '__dict__', '__dir__', '__doc__', '__eq__', '__format__', '__ge__', '__getattribute__', '__gt__', '__hash__', '__init__', '__init_subclass__', '__le__', '__lt__', '__mapper__', '__module__', '__ne__', '__new__', '__reduce__', '__reduce_ex__', '__repr__', '__setattr__', '__sizeof__', '__str__', '__subclasshook__', '__table__', '__weakref__', '_decl_class_registry', '_sa_class_manager', '_sa_decl_prepare', 'action', 'classes', 'date_time', 'device', 'itemValue', 'metadata', 'prepare', 'private_host', 'private_origin', 'private_rcvStamp', 'private_revCode', 'private_seqNum', 'private_sndStamp', 'property', 'state']\n",
      "atArchiver_command_disable\n",
      "<class 'sqlalchemy.ext.declarative.api.DeclarativeMeta'>\n",
      "['__abstract__', '__class__', '__delattr__', '__dict__', '__dir__', '__doc__', '__eq__', '__format__', '__ge__', '__getattribute__', '__gt__', '__hash__', '__init__', '__init_subclass__', '__le__', '__lt__', '__mapper__', '__module__', '__ne__', '__new__', '__reduce__', '__reduce_ex__', '__repr__', '__setattr__', '__sizeof__', '__str__', '__subclasshook__', '__table__', '__weakref__', '_decl_class_registry', '_sa_class_manager', '_sa_decl_prepare', 'action', 'classes', 'date_time', 'device', 'itemValue', 'metadata', 'prepare', 'private_host', 'private_origin', 'private_rcvStamp', 'private_revCode', 'private_seqNum', 'private_sndStamp', 'property', 'state']\n",
      "atArchiver_command_enable\n",
      "<class 'sqlalchemy.ext.declarative.api.DeclarativeMeta'>\n",
      "['__abstract__', '__class__', '__delattr__', '__dict__', '__dir__', '__doc__', '__eq__', '__format__', '__ge__', '__getattribute__', '__gt__', '__hash__', '__init__', '__init_subclass__', '__le__', '__lt__', '__mapper__', '__module__', '__ne__', '__new__', '__reduce__', '__reduce_ex__', '__repr__', '__setattr__', '__sizeof__', '__str__', '__subclasshook__', '__table__', '__weakref__', '_decl_class_registry', '_sa_class_manager', '_sa_decl_prepare', 'action', 'classes', 'date_time', 'device', 'itemValue', 'metadata', 'prepare', 'private_host', 'private_origin', 'private_rcvStamp', 'private_revCode', 'private_seqNum', 'private_sndStamp', 'property', 'state']\n",
      "atArchiver_command_enterControl\n",
      "<class 'sqlalchemy.ext.declarative.api.DeclarativeMeta'>\n",
      "['__abstract__', '__class__', '__delattr__', '__dict__', '__dir__', '__doc__', '__eq__', '__format__', '__ge__', '__getattribute__', '__gt__', '__hash__', '__init__', '__init_subclass__', '__le__', '__lt__', '__mapper__', '__module__', '__ne__', '__new__', '__reduce__', '__reduce_ex__', '__repr__', '__setattr__', '__sizeof__', '__str__', '__subclasshook__', '__table__', '__weakref__', '_decl_class_registry', '_sa_class_manager', '_sa_decl_prepare', 'action', 'classes', 'date_time', 'device', 'itemValue', 'metadata', 'prepare', 'private_host', 'private_origin', 'private_rcvStamp', 'private_revCode', 'private_seqNum', 'private_sndStamp', 'property', 'state']\n",
      "atArchiver_command_exitControl\n",
      "<class 'sqlalchemy.ext.declarative.api.DeclarativeMeta'>\n",
      "['__abstract__', '__class__', '__delattr__', '__dict__', '__dir__', '__doc__', '__eq__', '__format__', '__ge__', '__getattribute__', '__gt__', '__hash__', '__init__', '__init_subclass__', '__le__', '__lt__', '__mapper__', '__module__', '__ne__', '__new__', '__reduce__', '__reduce_ex__', '__repr__', '__setattr__', '__sizeof__', '__str__', '__subclasshook__', '__table__', '__weakref__', '_decl_class_registry', '_sa_class_manager', '_sa_decl_prepare', 'action', 'classes', 'date_time', 'device', 'itemValue', 'metadata', 'prepare', 'private_host', 'private_origin', 'private_rcvStamp', 'private_revCode', 'private_seqNum', 'private_sndStamp', 'property', 'state']\n",
      "atArchiver_command_setValue\n",
      "<class 'sqlalchemy.ext.declarative.api.DeclarativeMeta'>\n",
      "['__abstract__', '__class__', '__delattr__', '__dict__', '__dir__', '__doc__', '__eq__', '__format__', '__ge__', '__getattribute__', '__gt__', '__hash__', '__init__', '__init_subclass__', '__le__', '__lt__', '__mapper__', '__module__', '__ne__', '__new__', '__reduce__', '__reduce_ex__', '__repr__', '__setattr__', '__sizeof__', '__str__', '__subclasshook__', '__table__', '__weakref__', '_decl_class_registry', '_sa_class_manager', '_sa_decl_prepare', 'action', 'classes', 'date_time', 'device', 'itemValue', 'json_parameters', 'metadata', 'prepare', 'private_host', 'private_origin', 'private_rcvStamp', 'private_revCode', 'private_seqNum', 'private_sndStamp', 'property']\n",
      "atArchiver_command_standby\n",
      "<class 'sqlalchemy.ext.declarative.api.DeclarativeMeta'>\n",
      "['__abstract__', '__class__', '__delattr__', '__dict__', '__dir__', '__doc__', '__eq__', '__format__', '__ge__', '__getattribute__', '__gt__', '__hash__', '__init__', '__init_subclass__', '__le__', '__lt__', '__mapper__', '__module__', '__ne__', '__new__', '__reduce__', '__reduce_ex__', '__repr__', '__setattr__', '__sizeof__', '__str__', '__subclasshook__', '__table__', '__weakref__', '_decl_class_registry', '_sa_class_manager', '_sa_decl_prepare', 'action', 'classes', 'date_time', 'device', 'itemValue', 'metadata', 'prepare', 'private_host', 'private_origin', 'private_rcvStamp', 'private_revCode', 'private_seqNum', 'private_sndStamp', 'property', 'state']\n",
      "atArchiver_command_start\n",
      "<class 'sqlalchemy.ext.declarative.api.DeclarativeMeta'>\n",
      "['__abstract__', '__class__', '__delattr__', '__dict__', '__dir__', '__doc__', '__eq__', '__format__', '__ge__', '__getattribute__', '__gt__', '__hash__', '__init__', '__init_subclass__', '__le__', '__lt__', '__mapper__', '__module__', '__ne__', '__new__', '__reduce__', '__reduce_ex__', '__repr__', '__setattr__', '__sizeof__', '__str__', '__subclasshook__', '__table__', '__weakref__', '_decl_class_registry', '_sa_class_manager', '_sa_decl_prepare', 'action', 'classes', 'configuration', 'date_time', 'device', 'itemValue', 'metadata', 'prepare', 'private_host', 'private_origin', 'private_rcvStamp', 'private_revCode', 'private_seqNum', 'private_sndStamp', 'property']\n",
      "atArchiver_logeventLFO\n",
      "<class 'sqlalchemy.ext.declarative.api.DeclarativeMeta'>\n",
      "['Byte_Size', 'Checksum', 'Generator', 'ID', 'Mime_Type', 'URL', 'Version', '__abstract__', '__class__', '__delattr__', '__dict__', '__dir__', '__doc__', '__eq__', '__format__', '__ge__', '__getattribute__', '__gt__', '__hash__', '__init__', '__init_subclass__', '__le__', '__lt__', '__mapper__', '__module__', '__ne__', '__new__', '__reduce__', '__reduce_ex__', '__repr__', '__setattr__', '__sizeof__', '__str__', '__subclasshook__', '__table__', '__weakref__', '_decl_class_registry', '_sa_class_manager', '_sa_decl_prepare', 'alias', 'classes', 'date_time', 'metadata', 'prepare', 'private_revCode', 'private_seqNum', 'private_sndStamp']\n",
      "atArchiver_logevent_AppliedSettingsMatchStart\n",
      "<class 'sqlalchemy.ext.declarative.api.DeclarativeMeta'>\n",
      "['__abstract__', '__class__', '__delattr__', '__dict__', '__dir__', '__doc__', '__eq__', '__format__', '__ge__', '__getattribute__', '__gt__', '__hash__', '__init__', '__init_subclass__', '__le__', '__lt__', '__mapper__', '__module__', '__ne__', '__new__', '__reduce__', '__reduce_ex__', '__repr__', '__setattr__', '__sizeof__', '__str__', '__subclasshook__', '__table__', '__weakref__', '_decl_class_registry', '_sa_class_manager', '_sa_decl_prepare', 'appliedSettingsMatchStartIsTrue', 'classes', 'date_time', 'metadata', 'prepare', 'priority', 'private_host', 'private_origin', 'private_rcvStamp', 'private_revCode', 'private_seqNum', 'private_sndStamp']\n",
      "atArchiver_logevent_DetailedState\n",
      "<class 'sqlalchemy.ext.declarative.api.DeclarativeMeta'>\n",
      "['DetailedState', '__abstract__', '__class__', '__delattr__', '__dict__', '__dir__', '__doc__', '__eq__', '__format__', '__ge__', '__getattribute__', '__gt__', '__hash__', '__init__', '__init_subclass__', '__le__', '__lt__', '__mapper__', '__module__', '__ne__', '__new__', '__reduce__', '__reduce_ex__', '__repr__', '__setattr__', '__sizeof__', '__str__', '__subclasshook__', '__table__', '__weakref__', '_decl_class_registry', '_sa_class_manager', '_sa_decl_prepare', 'classes', 'date_time', 'metadata', 'prepare', 'priority', 'private_host', 'private_origin', 'private_rcvStamp', 'private_revCode', 'private_seqNum', 'private_sndStamp']\n",
      "atArchiver_logevent_ErrorCode\n",
      "<class 'sqlalchemy.ext.declarative.api.DeclarativeMeta'>\n",
      "['__abstract__', '__class__', '__delattr__', '__dict__', '__dir__', '__doc__', '__eq__', '__format__', '__ge__', '__getattribute__', '__gt__', '__hash__', '__init__', '__init_subclass__', '__le__', '__lt__', '__mapper__', '__module__', '__ne__', '__new__', '__reduce__', '__reduce_ex__', '__repr__', '__setattr__', '__sizeof__', '__str__', '__subclasshook__', '__table__', '__weakref__', '_decl_class_registry', '_sa_class_manager', '_sa_decl_prepare', 'classes', 'date_time', 'errorCode', 'metadata', 'prepare', 'priority', 'private_host', 'private_origin', 'private_rcvStamp', 'private_revCode', 'private_seqNum', 'private_sndStamp']\n",
      "atArchiver_logevent_SettingVersions\n",
      "<class 'sqlalchemy.ext.declarative.api.DeclarativeMeta'>\n",
      "['__abstract__', '__class__', '__delattr__', '__dict__', '__dir__', '__doc__', '__eq__', '__format__', '__ge__', '__getattribute__', '__gt__', '__hash__', '__init__', '__init_subclass__', '__le__', '__lt__', '__mapper__', '__module__', '__ne__', '__new__', '__reduce__', '__reduce_ex__', '__repr__', '__setattr__', '__sizeof__', '__str__', '__subclasshook__', '__table__', '__weakref__', '_decl_class_registry', '_sa_class_manager', '_sa_decl_prepare', 'classes', 'date_time', 'metadata', 'prepare', 'priority', 'private_host', 'private_origin', 'private_rcvStamp', 'private_revCode', 'private_seqNum', 'private_sndStamp', 'recommendedSettingVersion']\n",
      "atArchiver_logevent_SettingsApplied\n",
      "<class 'sqlalchemy.ext.declarative.api.DeclarativeMeta'>\n",
      "['Settings', '__abstract__', '__class__', '__delattr__', '__dict__', '__dir__', '__doc__', '__eq__', '__format__', '__ge__', '__getattribute__', '__gt__', '__hash__', '__init__', '__init_subclass__', '__le__', '__lt__', '__mapper__', '__module__', '__ne__', '__new__', '__reduce__', '__reduce_ex__', '__repr__', '__setattr__', '__sizeof__', '__str__', '__subclasshook__', '__table__', '__weakref__', '_decl_class_registry', '_sa_class_manager', '_sa_decl_prepare', 'classes', 'date_time', 'metadata', 'prepare', 'priority', 'private_host', 'private_origin', 'private_rcvStamp', 'private_revCode', 'private_seqNum', 'private_sndStamp']\n",
      "atArchiver_logevent_SummaryState\n",
      "<class 'sqlalchemy.ext.declarative.api.DeclarativeMeta'>\n",
      "['SummaryStateValue', '__abstract__', '__class__', '__delattr__', '__dict__', '__dir__', '__doc__', '__eq__', '__format__', '__ge__', '__getattribute__', '__gt__', '__hash__', '__init__', '__init_subclass__', '__le__', '__lt__', '__mapper__', '__module__', '__ne__', '__new__', '__reduce__', '__reduce_ex__', '__repr__', '__setattr__', '__sizeof__', '__str__', '__subclasshook__', '__table__', '__weakref__', '_decl_class_registry', '_sa_class_manager', '_sa_decl_prepare', 'classes', 'date_time', 'metadata', 'prepare', 'priority', 'private_host', 'private_origin', 'private_rcvStamp', 'private_revCode', 'private_seqNum', 'private_sndStamp']\n",
      "atArchiver_logevent_appliedSettingsMatchStart\n",
      "<class 'sqlalchemy.ext.declarative.api.DeclarativeMeta'>\n",
      "['__abstract__', '__class__', '__delattr__', '__dict__', '__dir__', '__doc__', '__eq__', '__format__', '__ge__', '__getattribute__', '__gt__', '__hash__', '__init__', '__init_subclass__', '__le__', '__lt__', '__mapper__', '__module__', '__ne__', '__new__', '__reduce__', '__reduce_ex__', '__repr__', '__setattr__', '__sizeof__', '__str__', '__subclasshook__', '__table__', '__weakref__', '_decl_class_registry', '_sa_class_manager', '_sa_decl_prepare', 'appliedSettingsMatchStartIsTrue', 'classes', 'date_time', 'metadata', 'prepare', 'priority', 'private_host', 'private_origin', 'private_rcvStamp', 'private_revCode', 'private_seqNum', 'private_sndStamp']\n",
      "atArchiver_logevent_archiverEntityShutdown\n",
      "<class 'sqlalchemy.ext.declarative.api.DeclarativeMeta'>\n",
      "['__abstract__', '__class__', '__delattr__', '__dict__', '__dir__', '__doc__', '__eq__', '__format__', '__ge__', '__getattribute__', '__gt__', '__hash__', '__init__', '__init_subclass__', '__le__', '__lt__', '__mapper__', '__module__', '__ne__', '__new__', '__reduce__', '__reduce_ex__', '__repr__', '__setattr__', '__sizeof__', '__str__', '__subclasshook__', '__table__', '__weakref__', '_decl_class_registry', '_sa_class_manager', '_sa_decl_prepare', 'address', 'classes', 'date_time', 'identifier', 'metadata', 'name', 'prepare', 'priority', 'private_host', 'private_origin', 'private_rcvStamp', 'private_revCode', 'private_seqNum', 'private_sndStamp', 'timestamp']\n",
      "atArchiver_logevent_archiverEntityStartup\n",
      "<class 'sqlalchemy.ext.declarative.api.DeclarativeMeta'>\n",
      "['__abstract__', '__class__', '__delattr__', '__dict__', '__dir__', '__doc__', '__eq__', '__format__', '__ge__', '__getattribute__', '__gt__', '__hash__', '__init__', '__init_subclass__', '__le__', '__lt__', '__mapper__', '__module__', '__ne__', '__new__', '__reduce__', '__reduce_ex__', '__repr__', '__setattr__', '__sizeof__', '__str__', '__subclasshook__', '__table__', '__weakref__', '_decl_class_registry', '_sa_class_manager', '_sa_decl_prepare', 'address', 'classes', 'date_time', 'identifier', 'metadata', 'name', 'prepare', 'priority', 'private_host', 'private_origin', 'private_rcvStamp', 'private_revCode', 'private_seqNum', 'private_sndStamp', 'timestamp']\n",
      "atArchiver_logevent_archiverEntitySummaryState\n",
      "<class 'sqlalchemy.ext.declarative.api.DeclarativeMeta'>\n",
      "['__abstract__', '__class__', '__delattr__', '__dict__', '__dir__', '__doc__', '__eq__', '__format__', '__ge__', '__getattribute__', '__gt__', '__hash__', '__init__', '__init_subclass__', '__le__', '__lt__', '__mapper__', '__module__', '__ne__', '__new__', '__reduce__', '__reduce_ex__', '__repr__', '__setattr__', '__sizeof__', '__str__', '__subclasshook__', '__table__', '__weakref__', '_decl_class_registry', '_sa_class_manager', '_sa_decl_prepare', 'address', 'classes', 'commandsAvailable', 'configurationsAvailable', 'currentState', 'date_time', 'executing', 'identifier', 'metadata', 'name', 'prepare', 'previousState', 'priority', 'private_host', 'private_origin', 'private_rcvStamp', 'private_revCode', 'private_seqNum', 'private_sndStamp', 'timestamp']\n",
      "atArchiver_logevent_detailedState\n",
      "<class 'sqlalchemy.ext.declarative.api.DeclarativeMeta'>\n",
      "['__abstract__', '__class__', '__delattr__', '__dict__', '__dir__', '__doc__', '__eq__', '__format__', '__ge__', '__getattribute__', '__gt__', '__hash__', '__init__', '__init_subclass__', '__le__', '__lt__', '__mapper__', '__module__', '__ne__', '__new__', '__reduce__', '__reduce_ex__', '__repr__', '__setattr__', '__sizeof__', '__str__', '__subclasshook__', '__table__', '__weakref__', '_decl_class_registry', '_sa_class_manager', '_sa_decl_prepare', 'classes', 'date_time', 'detailedState', 'metadata', 'prepare', 'priority', 'private_host', 'private_origin', 'private_rcvStamp', 'private_revCode', 'private_seqNum', 'private_sndStamp']\n",
      "atArchiver_logevent_errorCode\n",
      "<class 'sqlalchemy.ext.declarative.api.DeclarativeMeta'>\n",
      "['__abstract__', '__class__', '__delattr__', '__dict__', '__dir__', '__doc__', '__eq__', '__format__', '__ge__', '__getattribute__', '__gt__', '__hash__', '__init__', '__init_subclass__', '__le__', '__lt__', '__mapper__', '__module__', '__ne__', '__new__', '__reduce__', '__reduce_ex__', '__repr__', '__setattr__', '__sizeof__', '__str__', '__subclasshook__', '__table__', '__weakref__', '_decl_class_registry', '_sa_class_manager', '_sa_decl_prepare', 'classes', 'date_time', 'errorCode', 'metadata', 'prepare', 'priority', 'private_host', 'private_origin', 'private_rcvStamp', 'private_revCode', 'private_seqNum', 'private_sndStamp']\n",
      "atArchiver_logevent_settingVersions\n",
      "<class 'sqlalchemy.ext.declarative.api.DeclarativeMeta'>\n",
      "['__abstract__', '__class__', '__delattr__', '__dict__', '__dir__', '__doc__', '__eq__', '__format__', '__ge__', '__getattribute__', '__gt__', '__hash__', '__init__', '__init_subclass__', '__le__', '__lt__', '__mapper__', '__module__', '__ne__', '__new__', '__reduce__', '__reduce_ex__', '__repr__', '__setattr__', '__sizeof__', '__str__', '__subclasshook__', '__table__', '__weakref__', '_decl_class_registry', '_sa_class_manager', '_sa_decl_prepare', 'classes', 'date_time', 'metadata', 'prepare', 'priority', 'private_host', 'private_origin', 'private_rcvStamp', 'private_revCode', 'private_seqNum', 'private_sndStamp', 'recommendedSettingVersion']\n",
      "atArchiver_logevent_settingsApplied\n",
      "<class 'sqlalchemy.ext.declarative.api.DeclarativeMeta'>\n",
      "['__abstract__', '__class__', '__delattr__', '__dict__', '__dir__', '__doc__', '__eq__', '__format__', '__ge__', '__getattribute__', '__gt__', '__hash__', '__init__', '__init_subclass__', '__le__', '__lt__', '__mapper__', '__module__', '__ne__', '__new__', '__reduce__', '__reduce_ex__', '__repr__', '__setattr__', '__sizeof__', '__str__', '__subclasshook__', '__table__', '__weakref__', '_decl_class_registry', '_sa_class_manager', '_sa_decl_prepare', 'classes', 'date_time', 'l1dmRepoTag', 'metadata', 'prepare', 'priority', 'private_host', 'private_origin', 'private_rcvStamp', 'private_revCode', 'private_seqNum', 'private_sndStamp', 'settings', 'tsSALVersion', 'tsXMLVersion']\n",
      "atArchiver_logevent_summaryState\n",
      "<class 'sqlalchemy.ext.declarative.api.DeclarativeMeta'>\n",
      "['__abstract__', '__class__', '__delattr__', '__dict__', '__dir__', '__doc__', '__eq__', '__format__', '__ge__', '__getattribute__', '__gt__', '__hash__', '__init__', '__init_subclass__', '__le__', '__lt__', '__mapper__', '__module__', '__ne__', '__new__', '__reduce__', '__reduce_ex__', '__repr__', '__setattr__', '__sizeof__', '__str__', '__subclasshook__', '__table__', '__weakref__', '_decl_class_registry', '_sa_class_manager', '_sa_decl_prepare', 'classes', 'date_time', 'metadata', 'prepare', 'priority', 'private_host', 'private_origin', 'private_rcvStamp', 'private_revCode', 'private_seqNum', 'private_sndStamp', 'summaryStateValue']\n",
      "atArchiver_sequencerHeartbeat\n",
      "<class 'sqlalchemy.ext.declarative.api.DeclarativeMeta'>\n",
      "['__abstract__', '__class__', '__delattr__', '__dict__', '__dir__', '__doc__', '__eq__', '__format__', '__ge__', '__getattribute__', '__gt__', '__hash__', '__init__', '__init_subclass__', '__le__', '__lt__', '__mapper__', '__module__', '__ne__', '__new__', '__reduce__', '__reduce_ex__', '__repr__', '__setattr__', '__sizeof__', '__str__', '__subclasshook__', '__table__', '__weakref__', '_decl_class_registry', '_sa_class_manager', '_sa_decl_prepare', 'classes', 'date_time', 'heartbeat', 'metadata', 'prepare', 'priority', 'private_host', 'private_origin', 'private_rcvStamp', 'private_revCode', 'private_seqNum', 'private_sndStamp']\n",
      "atHeaderService_LoopTime_ms\n",
      "<class 'sqlalchemy.ext.declarative.api.DeclarativeMeta'>\n",
      "['__abstract__', '__class__', '__delattr__', '__dict__', '__dir__', '__doc__', '__eq__', '__format__', '__ge__', '__getattribute__', '__gt__', '__hash__', '__init__', '__init_subclass__', '__le__', '__lt__', '__mapper__', '__module__', '__ne__', '__new__', '__reduce__', '__reduce_ex__', '__repr__', '__setattr__', '__sizeof__', '__str__', '__subclasshook__', '__table__', '__weakref__', '_decl_class_registry', '_sa_class_manager', '_sa_decl_prepare', 'classes', 'date_time', 'loopTime_ms', 'metadata', 'prepare', 'private_host', 'private_origin', 'private_rcvStamp', 'private_revCode', 'private_seqNum', 'private_sndStamp']\n",
      "atHeaderService_Timestamp\n",
      "<class 'sqlalchemy.ext.declarative.api.DeclarativeMeta'>\n",
      "['__abstract__', '__class__', '__delattr__', '__dict__', '__dir__', '__doc__', '__eq__', '__format__', '__ge__', '__getattribute__', '__gt__', '__hash__', '__init__', '__init_subclass__', '__le__', '__lt__', '__mapper__', '__module__', '__ne__', '__new__', '__reduce__', '__reduce_ex__', '__repr__', '__setattr__', '__sizeof__', '__str__', '__subclasshook__', '__table__', '__weakref__', '_decl_class_registry', '_sa_class_manager', '_sa_decl_prepare', 'classes', 'date_time', 'metadata', 'prepare', 'private_host', 'private_origin', 'private_rcvStamp', 'private_revCode', 'private_seqNum', 'private_sndStamp', 'timestamp']\n",
      "atHeaderService_commandLog\n",
      "<class 'sqlalchemy.ext.declarative.api.DeclarativeMeta'>\n",
      "['__abstract__', '__class__', '__delattr__', '__dict__', '__dir__', '__doc__', '__eq__', '__format__', '__ge__', '__getattribute__', '__gt__', '__hash__', '__init__', '__init_subclass__', '__le__', '__lt__', '__mapper__', '__module__', '__ne__', '__new__', '__reduce__', '__reduce_ex__', '__repr__', '__setattr__', '__sizeof__', '__str__', '__subclasshook__', '__table__', '__weakref__', '_decl_class_registry', '_sa_class_manager', '_sa_decl_prepare', 'ack', 'classes', 'date_time', 'error', 'metadata', 'name', 'prepare', 'private_revCode', 'private_seqNum', 'private_sndStamp']\n",
      "atHeaderService_command_disable\n",
      "<class 'sqlalchemy.ext.declarative.api.DeclarativeMeta'>\n",
      "['__abstract__', '__class__', '__delattr__', '__dict__', '__dir__', '__doc__', '__eq__', '__format__', '__ge__', '__getattribute__', '__gt__', '__hash__', '__init__', '__init_subclass__', '__le__', '__lt__', '__mapper__', '__module__', '__ne__', '__new__', '__reduce__', '__reduce_ex__', '__repr__', '__setattr__', '__sizeof__', '__str__', '__subclasshook__', '__table__', '__weakref__', '_decl_class_registry', '_sa_class_manager', '_sa_decl_prepare', 'action', 'classes', 'date_time', 'device', 'itemValue', 'metadata', 'prepare', 'private_host', 'private_origin', 'private_rcvStamp', 'private_revCode', 'private_seqNum', 'private_sndStamp', 'property', 'value']\n",
      "atHeaderService_command_enable\n",
      "<class 'sqlalchemy.ext.declarative.api.DeclarativeMeta'>\n",
      "['__abstract__', '__class__', '__delattr__', '__dict__', '__dir__', '__doc__', '__eq__', '__format__', '__ge__', '__getattribute__', '__gt__', '__hash__', '__init__', '__init_subclass__', '__le__', '__lt__', '__mapper__', '__module__', '__ne__', '__new__', '__reduce__', '__reduce_ex__', '__repr__', '__setattr__', '__sizeof__', '__str__', '__subclasshook__', '__table__', '__weakref__', '_decl_class_registry', '_sa_class_manager', '_sa_decl_prepare', 'action', 'classes', 'date_time', 'device', 'itemValue', 'metadata', 'prepare', 'private_host', 'private_origin', 'private_rcvStamp', 'private_revCode', 'private_seqNum', 'private_sndStamp', 'property', 'value']\n",
      "atHeaderService_command_enterControl\n",
      "<class 'sqlalchemy.ext.declarative.api.DeclarativeMeta'>\n",
      "['__abstract__', '__class__', '__delattr__', '__dict__', '__dir__', '__doc__', '__eq__', '__format__', '__ge__', '__getattribute__', '__gt__', '__hash__', '__init__', '__init_subclass__', '__le__', '__lt__', '__mapper__', '__module__', '__ne__', '__new__', '__reduce__', '__reduce_ex__', '__repr__', '__setattr__', '__sizeof__', '__str__', '__subclasshook__', '__table__', '__weakref__', '_decl_class_registry', '_sa_class_manager', '_sa_decl_prepare', 'action', 'classes', 'date_time', 'device', 'itemValue', 'metadata', 'prepare', 'private_host', 'private_origin', 'private_rcvStamp', 'private_revCode', 'private_seqNum', 'private_sndStamp', 'property', 'value']\n",
      "atHeaderService_command_exitControl\n",
      "<class 'sqlalchemy.ext.declarative.api.DeclarativeMeta'>\n",
      "['__abstract__', '__class__', '__delattr__', '__dict__', '__dir__', '__doc__', '__eq__', '__format__', '__ge__', '__getattribute__', '__gt__', '__hash__', '__init__', '__init_subclass__', '__le__', '__lt__', '__mapper__', '__module__', '__ne__', '__new__', '__reduce__', '__reduce_ex__', '__repr__', '__setattr__', '__sizeof__', '__str__', '__subclasshook__', '__table__', '__weakref__', '_decl_class_registry', '_sa_class_manager', '_sa_decl_prepare', 'action', 'classes', 'date_time', 'device', 'itemValue', 'metadata', 'prepare', 'private_host', 'private_origin', 'private_rcvStamp', 'private_revCode', 'private_seqNum', 'private_sndStamp', 'property', 'value']\n",
      "atHeaderService_command_standby\n",
      "<class 'sqlalchemy.ext.declarative.api.DeclarativeMeta'>\n",
      "['__abstract__', '__class__', '__delattr__', '__dict__', '__dir__', '__doc__', '__eq__', '__format__', '__ge__', '__getattribute__', '__gt__', '__hash__', '__init__', '__init_subclass__', '__le__', '__lt__', '__mapper__', '__module__', '__ne__', '__new__', '__reduce__', '__reduce_ex__', '__repr__', '__setattr__', '__sizeof__', '__str__', '__subclasshook__', '__table__', '__weakref__', '_decl_class_registry', '_sa_class_manager', '_sa_decl_prepare', 'action', 'classes', 'date_time', 'device', 'itemValue', 'metadata', 'prepare', 'private_host', 'private_origin', 'private_rcvStamp', 'private_revCode', 'private_seqNum', 'private_sndStamp', 'property', 'value']\n",
      "atHeaderService_command_start\n",
      "<class 'sqlalchemy.ext.declarative.api.DeclarativeMeta'>\n",
      "['__abstract__', '__class__', '__delattr__', '__dict__', '__dir__', '__doc__', '__eq__', '__format__', '__ge__', '__getattribute__', '__gt__', '__hash__', '__init__', '__init_subclass__', '__le__', '__lt__', '__mapper__', '__module__', '__ne__', '__new__', '__reduce__', '__reduce_ex__', '__repr__', '__setattr__', '__sizeof__', '__str__', '__subclasshook__', '__table__', '__weakref__', '_decl_class_registry', '_sa_class_manager', '_sa_decl_prepare', 'action', 'classes', 'date_time', 'device', 'itemValue', 'metadata', 'prepare', 'private_host', 'private_origin', 'private_rcvStamp', 'private_revCode', 'private_seqNum', 'private_sndStamp', 'property', 'settingsToApply']\n",
      "atHeaderService_exists\n",
      "<class 'sqlalchemy.ext.declarative.api.DeclarativeMeta'>\n",
      "['__abstract__', '__class__', '__delattr__', '__dict__', '__dir__', '__doc__', '__eq__', '__format__', '__ge__', '__getattribute__', '__gt__', '__hash__', '__init__', '__init_subclass__', '__le__', '__lt__', '__mapper__', '__module__', '__ne__', '__new__', '__reduce__', '__reduce_ex__', '__repr__', '__setattr__', '__sizeof__', '__str__', '__subclasshook__', '__table__', '__weakref__', '_decl_class_registry', '_sa_class_manager', '_sa_decl_prepare', 'classes', 'date_time', 'item1', 'metadata', 'prepare', 'private_host', 'private_origin', 'private_rcvStamp', 'private_revCode', 'private_seqNum', 'private_sndStamp']\n",
      "atHeaderService_logeventLFO\n",
      "<class 'sqlalchemy.ext.declarative.api.DeclarativeMeta'>\n",
      "['Byte_Size', 'Checksum', 'Generator', 'ID', 'Mime_Type', 'URL', 'Version', '__abstract__', '__class__', '__delattr__', '__dict__', '__dir__', '__doc__', '__eq__', '__format__', '__ge__', '__getattribute__', '__gt__', '__hash__', '__init__', '__init_subclass__', '__le__', '__lt__', '__mapper__', '__module__', '__ne__', '__new__', '__reduce__', '__reduce_ex__', '__repr__', '__setattr__', '__sizeof__', '__str__', '__subclasshook__', '__table__', '__weakref__', '_decl_class_registry', '_sa_class_manager', '_sa_decl_prepare', 'alias', 'classes', 'date_time', 'metadata', 'prepare', 'private_revCode', 'private_seqNum', 'private_sndStamp']\n",
      "atHeaderService_logevent_AppliedSettingsMatchStart\n",
      "<class 'sqlalchemy.ext.declarative.api.DeclarativeMeta'>\n",
      "['__abstract__', '__class__', '__delattr__', '__dict__', '__dir__', '__doc__', '__eq__', '__format__', '__ge__', '__getattribute__', '__gt__', '__hash__', '__init__', '__init_subclass__', '__le__', '__lt__', '__mapper__', '__module__', '__ne__', '__new__', '__reduce__', '__reduce_ex__', '__repr__', '__setattr__', '__sizeof__', '__str__', '__subclasshook__', '__table__', '__weakref__', '_decl_class_registry', '_sa_class_manager', '_sa_decl_prepare', 'appliedSettingsMatchStartIsTrue', 'classes', 'date_time', 'metadata', 'prepare', 'priority', 'private_host', 'private_origin', 'private_rcvStamp', 'private_revCode', 'private_seqNum', 'private_sndStamp', 'timestamp']\n",
      "atHeaderService_logevent_DetailedState\n",
      "<class 'sqlalchemy.ext.declarative.api.DeclarativeMeta'>\n",
      "['__abstract__', '__class__', '__delattr__', '__dict__', '__dir__', '__doc__', '__eq__', '__format__', '__ge__', '__getattribute__', '__gt__', '__hash__', '__init__', '__init_subclass__', '__le__', '__lt__', '__mapper__', '__module__', '__ne__', '__new__', '__reduce__', '__reduce_ex__', '__repr__', '__setattr__', '__sizeof__', '__str__', '__subclasshook__', '__table__', '__weakref__', '_decl_class_registry', '_sa_class_manager', '_sa_decl_prepare', 'classes', 'date_time', 'detailedState', 'metadata', 'prepare', 'priority', 'private_host', 'private_origin', 'private_rcvStamp', 'private_revCode', 'private_seqNum', 'private_sndStamp']\n",
      "atHeaderService_logevent_ErrorCode\n",
      "<class 'sqlalchemy.ext.declarative.api.DeclarativeMeta'>\n",
      "['__abstract__', '__class__', '__delattr__', '__dict__', '__dir__', '__doc__', '__eq__', '__format__', '__ge__', '__getattribute__', '__gt__', '__hash__', '__init__', '__init_subclass__', '__le__', '__lt__', '__mapper__', '__module__', '__ne__', '__new__', '__reduce__', '__reduce_ex__', '__repr__', '__setattr__', '__sizeof__', '__str__', '__subclasshook__', '__table__', '__weakref__', '_decl_class_registry', '_sa_class_manager', '_sa_decl_prepare', 'classes', 'date_time', 'errorCode', 'metadata', 'prepare', 'priority', 'private_host', 'private_origin', 'private_rcvStamp', 'private_revCode', 'private_seqNum', 'private_sndStamp', 'timestamp']\n",
      "atHeaderService_logevent_Heartbeat\n",
      "<class 'sqlalchemy.ext.declarative.api.DeclarativeMeta'>\n",
      "['__abstract__', '__class__', '__delattr__', '__dict__', '__dir__', '__doc__', '__eq__', '__format__', '__ge__', '__getattribute__', '__gt__', '__hash__', '__init__', '__init_subclass__', '__le__', '__lt__', '__mapper__', '__module__', '__ne__', '__new__', '__reduce__', '__reduce_ex__', '__repr__', '__setattr__', '__sizeof__', '__str__', '__subclasshook__', '__table__', '__weakref__', '_decl_class_registry', '_sa_class_manager', '_sa_decl_prepare', 'classes', 'date_time', 'heartbeat', 'metadata', 'prepare', 'priority', 'private_host', 'private_origin', 'private_rcvStamp', 'private_revCode', 'private_seqNum', 'private_sndStamp']\n",
      "atHeaderService_logevent_LargeFileObjectAvailable\n",
      "<class 'sqlalchemy.ext.declarative.api.DeclarativeMeta'>\n",
      "['Byte_Size', 'Checksum', 'Generator', 'ID', 'Mime_Type', 'URL', 'Version', '__abstract__', '__class__', '__delattr__', '__dict__', '__dir__', '__doc__', '__eq__', '__format__', '__ge__', '__getattribute__', '__gt__', '__hash__', '__init__', '__init_subclass__', '__le__', '__lt__', '__mapper__', '__module__', '__ne__', '__new__', '__reduce__', '__reduce_ex__', '__repr__', '__setattr__', '__sizeof__', '__str__', '__subclasshook__', '__table__', '__weakref__', '_decl_class_registry', '_sa_class_manager', '_sa_decl_prepare', 'classes', 'date_time', 'metadata', 'prepare', 'priority', 'private_host', 'private_origin', 'private_rcvStamp', 'private_revCode', 'private_seqNum', 'private_sndStamp']\n",
      "atHeaderService_logevent_LoopTimeOutOfRange\n",
      "<class 'sqlalchemy.ext.declarative.api.DeclarativeMeta'>\n",
      "['__abstract__', '__class__', '__delattr__', '__dict__', '__dir__', '__doc__', '__eq__', '__format__', '__ge__', '__getattribute__', '__gt__', '__hash__', '__init__', '__init_subclass__', '__le__', '__lt__', '__mapper__', '__module__', '__ne__', '__new__', '__reduce__', '__reduce_ex__', '__repr__', '__setattr__', '__sizeof__', '__str__', '__subclasshook__', '__table__', '__weakref__', '_decl_class_registry', '_sa_class_manager', '_sa_decl_prepare', 'classes', 'date_time', 'loopTimeOutOfRange', 'metadata', 'prepare', 'priority', 'private_host', 'private_origin', 'private_rcvStamp', 'private_revCode', 'private_seqNum', 'private_sndStamp']\n",
      "atHeaderService_logevent_RejectedCommand\n",
      "<class 'sqlalchemy.ext.declarative.api.DeclarativeMeta'>\n",
      "['__abstract__', '__class__', '__delattr__', '__dict__', '__dir__', '__doc__', '__eq__', '__format__', '__ge__', '__getattribute__', '__gt__', '__hash__', '__init__', '__init_subclass__', '__le__', '__lt__', '__mapper__', '__module__', '__ne__', '__new__', '__reduce__', '__reduce_ex__', '__repr__', '__setattr__', '__sizeof__', '__str__', '__subclasshook__', '__table__', '__weakref__', '_decl_class_registry', '_sa_class_manager', '_sa_decl_prepare', 'classes', 'commandValue', 'date_time', 'detailedState', 'metadata', 'prepare', 'priority', 'private_host', 'private_origin', 'private_rcvStamp', 'private_revCode', 'private_seqNum', 'private_sndStamp', 'timestamp']\n",
      "atHeaderService_logevent_SettingVersions\n",
      "<class 'sqlalchemy.ext.declarative.api.DeclarativeMeta'>\n",
      "['__abstract__', '__class__', '__delattr__', '__dict__', '__dir__', '__doc__', '__eq__', '__format__', '__ge__', '__getattribute__', '__gt__', '__hash__', '__init__', '__init_subclass__', '__le__', '__lt__', '__mapper__', '__module__', '__ne__', '__new__', '__reduce__', '__reduce_ex__', '__repr__', '__setattr__', '__sizeof__', '__str__', '__subclasshook__', '__table__', '__weakref__', '_decl_class_registry', '_sa_class_manager', '_sa_decl_prepare', 'classes', 'date_time', 'metadata', 'prepare', 'priority', 'private_host', 'private_origin', 'private_rcvStamp', 'private_revCode', 'private_seqNum', 'private_sndStamp', 'recommendedSettingsVersion', 'timestamp']\n",
      "atHeaderService_logevent_SettingsApplied\n",
      "<class 'sqlalchemy.ext.declarative.api.DeclarativeMeta'>\n",
      "['__abstract__', '__class__', '__delattr__', '__dict__', '__dir__', '__doc__', '__eq__', '__format__', '__ge__', '__getattribute__', '__gt__', '__hash__', '__init__', '__init_subclass__', '__le__', '__lt__', '__mapper__', '__module__', '__ne__', '__new__', '__reduce__', '__reduce_ex__', '__repr__', '__setattr__', '__sizeof__', '__str__', '__subclasshook__', '__table__', '__weakref__', '_decl_class_registry', '_sa_class_manager', '_sa_decl_prepare', 'classes', 'date_time', 'metadata', 'prepare', 'priority', 'private_host', 'private_origin', 'private_rcvStamp', 'private_revCode', 'private_seqNum', 'private_sndStamp', 'settings', 'timestamp']\n",
      "atHeaderService_logevent_SummaryState\n",
      "<class 'sqlalchemy.ext.declarative.api.DeclarativeMeta'>\n",
      "['__abstract__', '__class__', '__delattr__', '__dict__', '__dir__', '__doc__', '__eq__', '__format__', '__ge__', '__getattribute__', '__gt__', '__hash__', '__init__', '__init_subclass__', '__le__', '__lt__', '__mapper__', '__module__', '__ne__', '__new__', '__reduce__', '__reduce_ex__', '__repr__', '__setattr__', '__sizeof__', '__str__', '__subclasshook__', '__table__', '__weakref__', '_decl_class_registry', '_sa_class_manager', '_sa_decl_prepare', 'classes', 'date_time', 'metadata', 'prepare', 'priority', 'private_host', 'private_origin', 'private_rcvStamp', 'private_revCode', 'private_seqNum', 'private_sndStamp', 'summaryState', 'timestamp']\n",
      "atHeaderService_logevent_appliedSettingsMatchStart\n",
      "<class 'sqlalchemy.ext.declarative.api.DeclarativeMeta'>\n",
      "['__abstract__', '__class__', '__delattr__', '__dict__', '__dir__', '__doc__', '__eq__', '__format__', '__ge__', '__getattribute__', '__gt__', '__hash__', '__init__', '__init_subclass__', '__le__', '__lt__', '__mapper__', '__module__', '__ne__', '__new__', '__reduce__', '__reduce_ex__', '__repr__', '__setattr__', '__sizeof__', '__str__', '__subclasshook__', '__table__', '__weakref__', '_decl_class_registry', '_sa_class_manager', '_sa_decl_prepare', 'appliedSettingsMatchStartIsTrue', 'classes', 'date_time', 'metadata', 'prepare', 'priority', 'private_host', 'private_origin', 'private_rcvStamp', 'private_revCode', 'private_seqNum', 'private_sndStamp']\n",
      "atHeaderService_logevent_detailedState\n",
      "<class 'sqlalchemy.ext.declarative.api.DeclarativeMeta'>\n",
      "['__abstract__', '__class__', '__delattr__', '__dict__', '__dir__', '__doc__', '__eq__', '__format__', '__ge__', '__getattribute__', '__gt__', '__hash__', '__init__', '__init_subclass__', '__le__', '__lt__', '__mapper__', '__module__', '__ne__', '__new__', '__reduce__', '__reduce_ex__', '__repr__', '__setattr__', '__sizeof__', '__str__', '__subclasshook__', '__table__', '__weakref__', '_decl_class_registry', '_sa_class_manager', '_sa_decl_prepare', 'classes', 'date_time', 'detailedState', 'metadata', 'prepare', 'priority', 'private_host', 'private_origin', 'private_rcvStamp', 'private_revCode', 'private_seqNum', 'private_sndStamp']\n",
      "atHeaderService_logevent_errorCode\n",
      "<class 'sqlalchemy.ext.declarative.api.DeclarativeMeta'>\n",
      "['__abstract__', '__class__', '__delattr__', '__dict__', '__dir__', '__doc__', '__eq__', '__format__', '__ge__', '__getattribute__', '__gt__', '__hash__', '__init__', '__init_subclass__', '__le__', '__lt__', '__mapper__', '__module__', '__ne__', '__new__', '__reduce__', '__reduce_ex__', '__repr__', '__setattr__', '__sizeof__', '__str__', '__subclasshook__', '__table__', '__weakref__', '_decl_class_registry', '_sa_class_manager', '_sa_decl_prepare', 'classes', 'date_time', 'errorCode', 'metadata', 'prepare', 'priority', 'private_host', 'private_origin', 'private_rcvStamp', 'private_revCode', 'private_seqNum', 'private_sndStamp']\n",
      "atHeaderService_logevent_heartbeat\n",
      "<class 'sqlalchemy.ext.declarative.api.DeclarativeMeta'>\n",
      "['__abstract__', '__class__', '__delattr__', '__dict__', '__dir__', '__doc__', '__eq__', '__format__', '__ge__', '__getattribute__', '__gt__', '__hash__', '__init__', '__init_subclass__', '__le__', '__lt__', '__mapper__', '__module__', '__ne__', '__new__', '__reduce__', '__reduce_ex__', '__repr__', '__setattr__', '__sizeof__', '__str__', '__subclasshook__', '__table__', '__weakref__', '_decl_class_registry', '_sa_class_manager', '_sa_decl_prepare', 'classes', 'date_time', 'heartbeat', 'metadata', 'prepare', 'priority', 'private_host', 'private_origin', 'private_rcvStamp', 'private_revCode', 'private_seqNum', 'private_sndStamp']\n",
      "atHeaderService_logevent_largeFileObjectAvailable\n",
      "<class 'sqlalchemy.ext.declarative.api.DeclarativeMeta'>\n",
      "['__abstract__', '__class__', '__delattr__', '__dict__', '__dir__', '__doc__', '__eq__', '__format__', '__ge__', '__getattribute__', '__gt__', '__hash__', '__init__', '__init_subclass__', '__le__', '__lt__', '__mapper__', '__module__', '__ne__', '__new__', '__reduce__', '__reduce_ex__', '__repr__', '__setattr__', '__sizeof__', '__str__', '__subclasshook__', '__table__', '__weakref__', '_decl_class_registry', '_sa_class_manager', '_sa_decl_prepare', 'byteSize', 'checkSum', 'classes', 'date_time', 'generator', 'id', 'metadata', 'mimeType', 'prepare', 'priority', 'private_host', 'private_origin', 'private_rcvStamp', 'private_revCode', 'private_seqNum', 'private_sndStamp', 'url', 'version']\n",
      "atHeaderService_logevent_rejectedCommand\n",
      "<class 'sqlalchemy.ext.declarative.api.DeclarativeMeta'>\n",
      "['__abstract__', '__class__', '__delattr__', '__dict__', '__dir__', '__doc__', '__eq__', '__format__', '__ge__', '__getattribute__', '__gt__', '__hash__', '__init__', '__init_subclass__', '__le__', '__lt__', '__mapper__', '__module__', '__ne__', '__new__', '__reduce__', '__reduce_ex__', '__repr__', '__setattr__', '__sizeof__', '__str__', '__subclasshook__', '__table__', '__weakref__', '_decl_class_registry', '_sa_class_manager', '_sa_decl_prepare', 'classes', 'commandValue', 'date_time', 'detailedState', 'metadata', 'prepare', 'priority', 'private_host', 'private_origin', 'private_rcvStamp', 'private_revCode', 'private_seqNum', 'private_sndStamp', 'timestamp']\n",
      "atHeaderService_logevent_settingVersions\n",
      "<class 'sqlalchemy.ext.declarative.api.DeclarativeMeta'>\n",
      "['__abstract__', '__class__', '__delattr__', '__dict__', '__dir__', '__doc__', '__eq__', '__format__', '__ge__', '__getattribute__', '__gt__', '__hash__', '__init__', '__init_subclass__', '__le__', '__lt__', '__mapper__', '__module__', '__ne__', '__new__', '__reduce__', '__reduce_ex__', '__repr__', '__setattr__', '__sizeof__', '__str__', '__subclasshook__', '__table__', '__weakref__', '_decl_class_registry', '_sa_class_manager', '_sa_decl_prepare', 'classes', 'date_time', 'metadata', 'prepare', 'priority', 'private_host', 'private_origin', 'private_rcvStamp', 'private_revCode', 'private_seqNum', 'private_sndStamp', 'recommendedSettingsVersion']\n",
      "atHeaderService_logevent_settingsApplied\n",
      "<class 'sqlalchemy.ext.declarative.api.DeclarativeMeta'>\n",
      "['__abstract__', '__class__', '__delattr__', '__dict__', '__dir__', '__doc__', '__eq__', '__format__', '__ge__', '__getattribute__', '__gt__', '__hash__', '__init__', '__init_subclass__', '__le__', '__lt__', '__mapper__', '__module__', '__ne__', '__new__', '__reduce__', '__reduce_ex__', '__repr__', '__setattr__', '__sizeof__', '__str__', '__subclasshook__', '__table__', '__weakref__', '_decl_class_registry', '_sa_class_manager', '_sa_decl_prepare', 'classes', 'date_time', 'metadata', 'prepare', 'priority', 'private_host', 'private_origin', 'private_rcvStamp', 'private_revCode', 'private_seqNum', 'private_sndStamp', 'settings']\n",
      "atHeaderService_logevent_summaryState\n",
      "<class 'sqlalchemy.ext.declarative.api.DeclarativeMeta'>\n",
      "['__abstract__', '__class__', '__delattr__', '__dict__', '__dir__', '__doc__', '__eq__', '__format__', '__ge__', '__getattribute__', '__gt__', '__hash__', '__init__', '__init_subclass__', '__le__', '__lt__', '__mapper__', '__module__', '__ne__', '__new__', '__reduce__', '__reduce_ex__', '__repr__', '__setattr__', '__sizeof__', '__str__', '__subclasshook__', '__table__', '__weakref__', '_decl_class_registry', '_sa_class_manager', '_sa_decl_prepare', 'classes', 'date_time', 'metadata', 'prepare', 'priority', 'private_host', 'private_origin', 'private_rcvStamp', 'private_revCode', 'private_seqNum', 'private_sndStamp', 'summaryState', 'timestamp']\n",
      "atcamera_BonnShutter\n",
      "<class 'sqlalchemy.ext.declarative.api.DeclarativeMeta'>\n",
      "['Shutter36V', 'Shutter5V', '__abstract__', '__class__', '__delattr__', '__dict__', '__dir__', '__doc__', '__eq__', '__format__', '__ge__', '__getattribute__', '__gt__', '__hash__', '__init__', '__init_subclass__', '__le__', '__lt__', '__mapper__', '__module__', '__ne__', '__new__', '__reduce__', '__reduce_ex__', '__repr__', '__setattr__', '__sizeof__', '__str__', '__subclasshook__', '__table__', '__weakref__', '_decl_class_registry', '_sa_class_manager', '_sa_decl_prepare', 'classes', 'date_time', 'metadata', 'prepare', 'private_host', 'private_origin', 'private_rcvStamp', 'private_revCode', 'private_seqNum', 'private_sndStamp']\n",
      "atcamera_Heartbeat\n",
      "<class 'sqlalchemy.ext.declarative.api.DeclarativeMeta'>\n",
      "['__abstract__', '__class__', '__delattr__', '__dict__', '__dir__', '__doc__', '__eq__', '__format__', '__ge__', '__getattribute__', '__gt__', '__hash__', '__init__', '__init_subclass__', '__le__', '__lt__', '__mapper__', '__module__', '__ne__', '__new__', '__reduce__', '__reduce_ex__', '__repr__', '__setattr__', '__sizeof__', '__str__', '__subclasshook__', '__table__', '__weakref__', '_decl_class_registry', '_sa_class_manager', '_sa_decl_prepare', 'classes', 'date_time', 'heartbeat', 'metadata', 'prepare', 'priority', 'private_host', 'private_origin', 'private_rcvStamp', 'private_revCode', 'private_seqNum', 'private_sndStamp']\n",
      "atcamera_WREB\n",
      "<class 'sqlalchemy.ext.declarative.api.DeclarativeMeta'>\n",
      "['AnaPS_I', 'AnaPS_V', 'Atemp0L', 'Atemp0U', 'CCDtemp0', 'CKPOV', 'CKPSH_V', 'CKS0V', 'ClkHPS_I', 'ClkHPS_V', 'DigPS_I', 'DigPS_V', 'GD0V', 'HtrPS_I', 'HtrPS_V', 'OD0I', 'OD0V', 'ODPS_I', 'ODPS_V', 'OGOV', 'Power', 'RD0V', 'RG0V', 'RGL_V', 'RGU_V', 'RTDtemp', 'SCKL_V', 'SCKU_V', 'Temp1', 'Temp2', 'Temp3', 'Temp4', 'Temp5', 'Temp6', '__abstract__', '__class__', '__delattr__', '__dict__', '__dir__', '__doc__', '__eq__', '__format__', '__ge__', '__getattribute__', '__gt__', '__hash__', '__init__', '__init_subclass__', '__le__', '__lt__', '__mapper__', '__module__', '__ne__', '__new__', '__reduce__', '__reduce_ex__', '__repr__', '__setattr__', '__sizeof__', '__str__', '__subclasshook__', '__table__', '__weakref__', '_decl_class_registry', '_sa_class_manager', '_sa_decl_prepare', 'classes', 'date_time', 'metadata', 'prepare', 'private_host', 'private_origin', 'private_rcvStamp', 'private_revCode', 'private_seqNum', 'private_sndStamp']\n",
      "atcamera_WREBPower\n",
      "<class 'sqlalchemy.ext.declarative.api.DeclarativeMeta'>\n",
      "['Analog_I', 'Analog_V', 'ClkHigh_I', 'ClkHigh_V', 'ClkLow_I', 'ClkLow_V', 'DPHI_I', 'DPHI_V', 'Digital_I', 'Digital_V', 'HVBias_I', 'HVBias_V', 'Heater_I', 'Heater_V', 'OD_I', 'OD_V', '__abstract__', '__class__', '__delattr__', '__dict__', '__dir__', '__doc__', '__eq__', '__format__', '__ge__', '__getattribute__', '__gt__', '__hash__', '__init__', '__init_subclass__', '__le__', '__lt__', '__mapper__', '__module__', '__ne__', '__new__', '__reduce__', '__reduce_ex__', '__repr__', '__setattr__', '__sizeof__', '__str__', '__subclasshook__', '__table__', '__weakref__', '_decl_class_registry', '_sa_class_manager', '_sa_decl_prepare', 'classes', 'date_time', 'metadata', 'prepare', 'private_host', 'private_origin', 'private_rcvStamp', 'private_revCode', 'private_seqNum', 'private_sndStamp']\n",
      "atcamera_bonnShutter\n",
      "<class 'sqlalchemy.ext.declarative.api.DeclarativeMeta'>\n",
      "['__abstract__', '__class__', '__delattr__', '__dict__', '__dir__', '__doc__', '__eq__', '__format__', '__ge__', '__getattribute__', '__gt__', '__hash__', '__init__', '__init_subclass__', '__le__', '__lt__', '__mapper__', '__module__', '__ne__', '__new__', '__reduce__', '__reduce_ex__', '__repr__', '__setattr__', '__sizeof__', '__str__', '__subclasshook__', '__table__', '__weakref__', '_decl_class_registry', '_sa_class_manager', '_sa_decl_prepare', 'classes', 'date_time', 'metadata', 'prepare', 'private_host', 'private_origin', 'private_rcvStamp', 'private_revCode', 'private_seqNum', 'private_sndStamp', 'shutter36V', 'shutter5V']\n",
      "atcamera_commandLog\n",
      "<class 'sqlalchemy.ext.declarative.api.DeclarativeMeta'>\n",
      "['__abstract__', '__class__', '__delattr__', '__dict__', '__dir__', '__doc__', '__eq__', '__format__', '__ge__', '__getattribute__', '__gt__', '__hash__', '__init__', '__init_subclass__', '__le__', '__lt__', '__mapper__', '__module__', '__ne__', '__new__', '__reduce__', '__reduce_ex__', '__repr__', '__setattr__', '__sizeof__', '__str__', '__subclasshook__', '__table__', '__weakref__', '_decl_class_registry', '_sa_class_manager', '_sa_decl_prepare', 'ack', 'classes', 'date_time', 'error', 'metadata', 'name', 'prepare', 'private_revCode', 'private_seqNum', 'private_sndStamp']\n",
      "atcamera_command_SetValue\n",
      "<class 'sqlalchemy.ext.declarative.api.DeclarativeMeta'>\n",
      "['__abstract__', '__class__', '__delattr__', '__dict__', '__dir__', '__doc__', '__eq__', '__format__', '__ge__', '__getattribute__', '__gt__', '__hash__', '__init__', '__init_subclass__', '__le__', '__lt__', '__mapper__', '__module__', '__ne__', '__new__', '__reduce__', '__reduce_ex__', '__repr__', '__setattr__', '__sizeof__', '__str__', '__subclasshook__', '__table__', '__weakref__', '_decl_class_registry', '_sa_class_manager', '_sa_decl_prepare', 'action', 'classes', 'date_time', 'device', 'itemValue', 'json_parameters', 'metadata', 'prepare', 'private_host', 'private_origin', 'private_rcvStamp', 'private_revCode', 'private_seqNum', 'private_sndStamp', 'property']\n",
      "atcamera_command_abort\n",
      "<class 'sqlalchemy.ext.declarative.api.DeclarativeMeta'>\n",
      "['__abstract__', '__class__', '__delattr__', '__dict__', '__dir__', '__doc__', '__eq__', '__format__', '__ge__', '__getattribute__', '__gt__', '__hash__', '__init__', '__init_subclass__', '__le__', '__lt__', '__mapper__', '__module__', '__ne__', '__new__', '__reduce__', '__reduce_ex__', '__repr__', '__setattr__', '__sizeof__', '__str__', '__subclasshook__', '__table__', '__weakref__', '_decl_class_registry', '_sa_class_manager', '_sa_decl_prepare', 'action', 'classes', 'date_time', 'device', 'itemValue', 'metadata', 'prepare', 'private_host', 'private_origin', 'private_rcvStamp', 'private_revCode', 'private_seqNum', 'private_sndStamp', 'property', 'state']\n",
      "atcamera_command_clear\n",
      "<class 'sqlalchemy.ext.declarative.api.DeclarativeMeta'>\n",
      "['__abstract__', '__class__', '__delattr__', '__dict__', '__dir__', '__doc__', '__eq__', '__format__', '__ge__', '__getattribute__', '__gt__', '__hash__', '__init__', '__init_subclass__', '__le__', '__lt__', '__mapper__', '__module__', '__ne__', '__new__', '__reduce__', '__reduce_ex__', '__repr__', '__setattr__', '__sizeof__', '__str__', '__subclasshook__', '__table__', '__weakref__', '_decl_class_registry', '_sa_class_manager', '_sa_decl_prepare', 'action', 'classes', 'date_time', 'device', 'itemValue', 'metadata', 'nClears', 'prepare', 'private_host', 'private_origin', 'private_rcvStamp', 'private_revCode', 'private_seqNum', 'private_sndStamp', 'property']\n",
      "atcamera_command_disable\n",
      "<class 'sqlalchemy.ext.declarative.api.DeclarativeMeta'>\n",
      "['__abstract__', '__class__', '__delattr__', '__dict__', '__dir__', '__doc__', '__eq__', '__format__', '__ge__', '__getattribute__', '__gt__', '__hash__', '__init__', '__init_subclass__', '__le__', '__lt__', '__mapper__', '__module__', '__ne__', '__new__', '__reduce__', '__reduce_ex__', '__repr__', '__setattr__', '__sizeof__', '__str__', '__subclasshook__', '__table__', '__weakref__', '_decl_class_registry', '_sa_class_manager', '_sa_decl_prepare', 'action', 'classes', 'date_time', 'device', 'itemValue', 'metadata', 'prepare', 'private_host', 'private_origin', 'private_rcvStamp', 'private_revCode', 'private_seqNum', 'private_sndStamp', 'property', 'state']\n",
      "atcamera_command_disableCalibration\n",
      "<class 'sqlalchemy.ext.declarative.api.DeclarativeMeta'>\n",
      "['__abstract__', '__class__', '__delattr__', '__dict__', '__dir__', '__doc__', '__eq__', '__format__', '__ge__', '__getattribute__', '__gt__', '__hash__', '__init__', '__init_subclass__', '__le__', '__lt__', '__mapper__', '__module__', '__ne__', '__new__', '__reduce__', '__reduce_ex__', '__repr__', '__setattr__', '__sizeof__', '__str__', '__subclasshook__', '__table__', '__weakref__', '_decl_class_registry', '_sa_class_manager', '_sa_decl_prepare', 'action', 'classes', 'date_time', 'device', 'itemValue', 'metadata', 'prepare', 'private_host', 'private_origin', 'private_rcvStamp', 'private_revCode', 'private_seqNum', 'private_sndStamp', 'property', 'state']\n",
      "atcamera_command_discardRows\n",
      "<class 'sqlalchemy.ext.declarative.api.DeclarativeMeta'>\n",
      "['__abstract__', '__class__', '__delattr__', '__dict__', '__dir__', '__doc__', '__eq__', '__format__', '__ge__', '__getattribute__', '__gt__', '__hash__', '__init__', '__init_subclass__', '__le__', '__lt__', '__mapper__', '__module__', '__ne__', '__new__', '__reduce__', '__reduce_ex__', '__repr__', '__setattr__', '__sizeof__', '__str__', '__subclasshook__', '__table__', '__weakref__', '_decl_class_registry', '_sa_class_manager', '_sa_decl_prepare', 'action', 'classes', 'date_time', 'device', 'itemValue', 'metadata', 'nRows', 'prepare', 'private_host', 'private_origin', 'private_rcvStamp', 'private_revCode', 'private_seqNum', 'private_sndStamp', 'property']\n",
      "atcamera_command_enable\n",
      "<class 'sqlalchemy.ext.declarative.api.DeclarativeMeta'>\n",
      "['__abstract__', '__class__', '__delattr__', '__dict__', '__dir__', '__doc__', '__eq__', '__format__', '__ge__', '__getattribute__', '__gt__', '__hash__', '__init__', '__init_subclass__', '__le__', '__lt__', '__mapper__', '__module__', '__ne__', '__new__', '__reduce__', '__reduce_ex__', '__repr__', '__setattr__', '__sizeof__', '__str__', '__subclasshook__', '__table__', '__weakref__', '_decl_class_registry', '_sa_class_manager', '_sa_decl_prepare', 'action', 'classes', 'date_time', 'device', 'itemValue', 'metadata', 'prepare', 'private_host', 'private_origin', 'private_rcvStamp', 'private_revCode', 'private_seqNum', 'private_sndStamp', 'property', 'state']\n",
      "atcamera_command_enableCalibration\n",
      "<class 'sqlalchemy.ext.declarative.api.DeclarativeMeta'>\n",
      "['__abstract__', '__class__', '__delattr__', '__dict__', '__dir__', '__doc__', '__eq__', '__format__', '__ge__', '__getattribute__', '__gt__', '__hash__', '__init__', '__init_subclass__', '__le__', '__lt__', '__mapper__', '__module__', '__ne__', '__new__', '__reduce__', '__reduce_ex__', '__repr__', '__setattr__', '__sizeof__', '__str__', '__subclasshook__', '__table__', '__weakref__', '_decl_class_registry', '_sa_class_manager', '_sa_decl_prepare', 'action', 'classes', 'date_time', 'device', 'itemValue', 'metadata', 'prepare', 'private_host', 'private_origin', 'private_rcvStamp', 'private_revCode', 'private_seqNum', 'private_sndStamp', 'property', 'state']\n",
      "atcamera_command_endImage\n",
      "<class 'sqlalchemy.ext.declarative.api.DeclarativeMeta'>\n",
      "['__abstract__', '__class__', '__delattr__', '__dict__', '__dir__', '__doc__', '__eq__', '__format__', '__ge__', '__getattribute__', '__gt__', '__hash__', '__init__', '__init_subclass__', '__le__', '__lt__', '__mapper__', '__module__', '__ne__', '__new__', '__reduce__', '__reduce_ex__', '__repr__', '__setattr__', '__sizeof__', '__str__', '__subclasshook__', '__table__', '__weakref__', '_decl_class_registry', '_sa_class_manager', '_sa_decl_prepare', 'action', 'classes', 'date_time', 'device', 'itemValue', 'metadata', 'prepare', 'private_host', 'private_origin', 'private_rcvStamp', 'private_revCode', 'private_seqNum', 'private_sndStamp', 'property', 'state']\n",
      "atcamera_command_enterControl\n",
      "<class 'sqlalchemy.ext.declarative.api.DeclarativeMeta'>\n",
      "['__abstract__', '__class__', '__delattr__', '__dict__', '__dir__', '__doc__', '__eq__', '__format__', '__ge__', '__getattribute__', '__gt__', '__hash__', '__init__', '__init_subclass__', '__le__', '__lt__', '__mapper__', '__module__', '__ne__', '__new__', '__reduce__', '__reduce_ex__', '__repr__', '__setattr__', '__sizeof__', '__str__', '__subclasshook__', '__table__', '__weakref__', '_decl_class_registry', '_sa_class_manager', '_sa_decl_prepare', 'action', 'classes', 'date_time', 'device', 'itemValue', 'metadata', 'prepare', 'private_host', 'private_origin', 'private_rcvStamp', 'private_revCode', 'private_seqNum', 'private_sndStamp', 'property', 'state']\n",
      "atcamera_command_exitControl\n",
      "<class 'sqlalchemy.ext.declarative.api.DeclarativeMeta'>\n",
      "['__abstract__', '__class__', '__delattr__', '__dict__', '__dir__', '__doc__', '__eq__', '__format__', '__ge__', '__getattribute__', '__gt__', '__hash__', '__init__', '__init_subclass__', '__le__', '__lt__', '__mapper__', '__module__', '__ne__', '__new__', '__reduce__', '__reduce_ex__', '__repr__', '__setattr__', '__sizeof__', '__str__', '__subclasshook__', '__table__', '__weakref__', '_decl_class_registry', '_sa_class_manager', '_sa_decl_prepare', 'action', 'classes', 'date_time', 'device', 'itemValue', 'metadata', 'prepare', 'private_host', 'private_origin', 'private_rcvStamp', 'private_revCode', 'private_seqNum', 'private_sndStamp', 'property', 'state']\n",
      "atcamera_command_initGuiders\n",
      "<class 'sqlalchemy.ext.declarative.api.DeclarativeMeta'>\n",
      "['__abstract__', '__class__', '__delattr__', '__dict__', '__dir__', '__doc__', '__eq__', '__format__', '__ge__', '__getattribute__', '__gt__', '__hash__', '__init__', '__init_subclass__', '__le__', '__lt__', '__mapper__', '__module__', '__ne__', '__new__', '__reduce__', '__reduce_ex__', '__repr__', '__setattr__', '__sizeof__', '__str__', '__subclasshook__', '__table__', '__weakref__', '_decl_class_registry', '_sa_class_manager', '_sa_decl_prepare', 'action', 'classes', 'date_time', 'device', 'itemValue', 'metadata', 'prepare', 'private_host', 'private_origin', 'private_rcvStamp', 'private_revCode', 'private_seqNum', 'private_sndStamp', 'property', 'roiSpec']\n",
      "atcamera_command_initImage\n",
      "<class 'sqlalchemy.ext.declarative.api.DeclarativeMeta'>\n",
      "['__abstract__', '__class__', '__delattr__', '__dict__', '__dir__', '__doc__', '__eq__', '__format__', '__ge__', '__getattribute__', '__gt__', '__hash__', '__init__', '__init_subclass__', '__le__', '__lt__', '__mapper__', '__module__', '__ne__', '__new__', '__reduce__', '__reduce_ex__', '__repr__', '__setattr__', '__sizeof__', '__str__', '__subclasshook__', '__table__', '__weakref__', '_decl_class_registry', '_sa_class_manager', '_sa_decl_prepare', 'action', 'classes', 'date_time', 'deltaT', 'device', 'itemValue', 'metadata', 'prepare', 'private_host', 'private_origin', 'private_rcvStamp', 'private_revCode', 'private_seqNum', 'private_sndStamp', 'property']\n",
      "atcamera_command_setValue\n",
      "<class 'sqlalchemy.ext.declarative.api.DeclarativeMeta'>\n",
      "['__abstract__', '__class__', '__delattr__', '__dict__', '__dir__', '__doc__', '__eq__', '__format__', '__ge__', '__getattribute__', '__gt__', '__hash__', '__init__', '__init_subclass__', '__le__', '__lt__', '__mapper__', '__module__', '__ne__', '__new__', '__reduce__', '__reduce_ex__', '__repr__', '__setattr__', '__sizeof__', '__str__', '__subclasshook__', '__table__', '__weakref__', '_decl_class_registry', '_sa_class_manager', '_sa_decl_prepare', 'action', 'classes', 'date_time', 'device', 'itemValue', 'json_parameters', 'metadata', 'prepare', 'private_host', 'private_origin', 'private_rcvStamp', 'private_revCode', 'private_seqNum', 'private_sndStamp', 'property']\n",
      "atcamera_command_standby\n",
      "<class 'sqlalchemy.ext.declarative.api.DeclarativeMeta'>\n",
      "['__abstract__', '__class__', '__delattr__', '__dict__', '__dir__', '__doc__', '__eq__', '__format__', '__ge__', '__getattribute__', '__gt__', '__hash__', '__init__', '__init_subclass__', '__le__', '__lt__', '__mapper__', '__module__', '__ne__', '__new__', '__reduce__', '__reduce_ex__', '__repr__', '__setattr__', '__sizeof__', '__str__', '__subclasshook__', '__table__', '__weakref__', '_decl_class_registry', '_sa_class_manager', '_sa_decl_prepare', 'action', 'classes', 'date_time', 'device', 'itemValue', 'metadata', 'prepare', 'private_host', 'private_origin', 'private_rcvStamp', 'private_revCode', 'private_seqNum', 'private_sndStamp', 'property', 'state']\n",
      "atcamera_command_start\n",
      "<class 'sqlalchemy.ext.declarative.api.DeclarativeMeta'>\n",
      "['__abstract__', '__class__', '__delattr__', '__dict__', '__dir__', '__doc__', '__eq__', '__format__', '__ge__', '__getattribute__', '__gt__', '__hash__', '__init__', '__init_subclass__', '__le__', '__lt__', '__mapper__', '__module__', '__ne__', '__new__', '__reduce__', '__reduce_ex__', '__repr__', '__setattr__', '__sizeof__', '__str__', '__subclasshook__', '__table__', '__weakref__', '_decl_class_registry', '_sa_class_manager', '_sa_decl_prepare', 'action', 'classes', 'configuration', 'date_time', 'device', 'itemValue', 'metadata', 'prepare', 'private_host', 'private_origin', 'private_rcvStamp', 'private_revCode', 'private_seqNum', 'private_sndStamp', 'property']\n",
      "atcamera_command_startImage\n",
      "<class 'sqlalchemy.ext.declarative.api.DeclarativeMeta'>\n",
      "['__abstract__', '__class__', '__delattr__', '__dict__', '__dir__', '__doc__', '__eq__', '__format__', '__ge__', '__getattribute__', '__gt__', '__hash__', '__init__', '__init_subclass__', '__le__', '__lt__', '__mapper__', '__module__', '__ne__', '__new__', '__reduce__', '__reduce_ex__', '__repr__', '__setattr__', '__sizeof__', '__str__', '__subclasshook__', '__table__', '__weakref__', '_decl_class_registry', '_sa_class_manager', '_sa_decl_prepare', 'action', 'classes', 'date_time', 'device', 'guide', 'imageSequenceName', 'itemValue', 'metadata', 'prepare', 'private_host', 'private_origin', 'private_rcvStamp', 'private_revCode', 'private_seqNum', 'private_sndStamp', 'property', 'science', 'shutter', 'timeout', 'wfs']\n",
      "atcamera_command_stop\n",
      "<class 'sqlalchemy.ext.declarative.api.DeclarativeMeta'>\n",
      "['__abstract__', '__class__', '__delattr__', '__dict__', '__dir__', '__doc__', '__eq__', '__format__', '__ge__', '__getattribute__', '__gt__', '__hash__', '__init__', '__init_subclass__', '__le__', '__lt__', '__mapper__', '__module__', '__ne__', '__new__', '__reduce__', '__reduce_ex__', '__repr__', '__setattr__', '__sizeof__', '__str__', '__subclasshook__', '__table__', '__weakref__', '_decl_class_registry', '_sa_class_manager', '_sa_decl_prepare', 'action', 'classes', 'date_time', 'device', 'itemValue', 'metadata', 'prepare', 'private_host', 'private_origin', 'private_rcvStamp', 'private_revCode', 'private_seqNum', 'private_sndStamp', 'property', 'state']\n",
      "atcamera_command_takeImages\n",
      "<class 'sqlalchemy.ext.declarative.api.DeclarativeMeta'>\n",
      "['__abstract__', '__class__', '__delattr__', '__dict__', '__dir__', '__doc__', '__eq__', '__format__', '__ge__', '__getattribute__', '__gt__', '__hash__', '__init__', '__init_subclass__', '__le__', '__lt__', '__mapper__', '__module__', '__ne__', '__new__', '__reduce__', '__reduce_ex__', '__repr__', '__setattr__', '__sizeof__', '__str__', '__subclasshook__', '__table__', '__weakref__', '_decl_class_registry', '_sa_class_manager', '_sa_decl_prepare', 'action', 'classes', 'date_time', 'device', 'expTime', 'guide', 'imageSequenceName', 'itemValue', 'metadata', 'numImages', 'prepare', 'private_host', 'private_origin', 'private_rcvStamp', 'private_revCode', 'private_seqNum', 'private_sndStamp', 'property', 'science', 'shutter', 'wfs']\n",
      "atcamera_heartbeat\n",
      "<class 'sqlalchemy.ext.declarative.api.DeclarativeMeta'>\n",
      "['__abstract__', '__class__', '__delattr__', '__dict__', '__dir__', '__doc__', '__eq__', '__format__', '__ge__', '__getattribute__', '__gt__', '__hash__', '__init__', '__init_subclass__', '__le__', '__lt__', '__mapper__', '__module__', '__ne__', '__new__', '__reduce__', '__reduce_ex__', '__repr__', '__setattr__', '__sizeof__', '__str__', '__subclasshook__', '__table__', '__weakref__', '_decl_class_registry', '_sa_class_manager', '_sa_decl_prepare', 'classes', 'date_time', 'heartbeat', 'metadata', 'prepare', 'priority', 'private_host', 'private_origin', 'private_rcvStamp', 'private_revCode', 'private_seqNum', 'private_sndStamp']\n",
      "atcamera_logeventLFO\n",
      "<class 'sqlalchemy.ext.declarative.api.DeclarativeMeta'>\n",
      "['Byte_Size', 'Checksum', 'Generator', 'ID', 'Mime_Type', 'URL', 'Version', '__abstract__', '__class__', '__delattr__', '__dict__', '__dir__', '__doc__', '__eq__', '__format__', '__ge__', '__getattribute__', '__gt__', '__hash__', '__init__', '__init_subclass__', '__le__', '__lt__', '__mapper__', '__module__', '__ne__', '__new__', '__reduce__', '__reduce_ex__', '__repr__', '__setattr__', '__sizeof__', '__str__', '__subclasshook__', '__table__', '__weakref__', '_decl_class_registry', '_sa_class_manager', '_sa_decl_prepare', 'alias', 'classes', 'date_time', 'metadata', 'prepare', 'private_revCode', 'private_seqNum', 'private_sndStamp']\n",
      "atcamera_logevent_AppliedSettingsMatchStart\n",
      "<class 'sqlalchemy.ext.declarative.api.DeclarativeMeta'>\n",
      "['__abstract__', '__class__', '__delattr__', '__dict__', '__dir__', '__doc__', '__eq__', '__format__', '__ge__', '__getattribute__', '__gt__', '__hash__', '__init__', '__init_subclass__', '__le__', '__lt__', '__mapper__', '__module__', '__ne__', '__new__', '__reduce__', '__reduce_ex__', '__repr__', '__setattr__', '__sizeof__', '__str__', '__subclasshook__', '__table__', '__weakref__', '_decl_class_registry', '_sa_class_manager', '_sa_decl_prepare', 'appliedSettingsMatchStartIsTrue', 'classes', 'date_time', 'metadata', 'prepare', 'priority', 'private_host', 'private_origin', 'private_rcvStamp', 'private_revCode', 'private_seqNum', 'private_sndStamp']\n",
      "atcamera_logevent_BonnShutterSettingsApplied\n",
      "<class 'sqlalchemy.ext.declarative.api.DeclarativeMeta'>\n",
      "['__abstract__', '__class__', '__delattr__', '__dict__', '__dir__', '__doc__', '__eq__', '__format__', '__ge__', '__getattribute__', '__gt__', '__hash__', '__init__', '__init_subclass__', '__le__', '__lt__', '__mapper__', '__module__', '__ne__', '__new__', '__reduce__', '__reduce_ex__', '__repr__', '__setattr__', '__sizeof__', '__str__', '__subclasshook__', '__table__', '__weakref__', '_decl_class_registry', '_sa_class_manager', '_sa_decl_prepare', 'acceleration', 'classes', 'date_time', 'firmwareVersion', 'maxVelocity', 'metadata', 'prepare', 'priority', 'private_host', 'private_origin', 'private_rcvStamp', 'private_revCode', 'private_seqNum', 'private_sndStamp', 'shutterVersion', 'startA', 'startB', 'startVelocity', 'threshold', 'travelDistance', 'version']\n",
      "atcamera_logevent_ErrorCode\n",
      "<class 'sqlalchemy.ext.declarative.api.DeclarativeMeta'>\n",
      "['__abstract__', '__class__', '__delattr__', '__dict__', '__dir__', '__doc__', '__eq__', '__format__', '__ge__', '__getattribute__', '__gt__', '__hash__', '__init__', '__init_subclass__', '__le__', '__lt__', '__mapper__', '__module__', '__ne__', '__new__', '__reduce__', '__reduce_ex__', '__repr__', '__setattr__', '__sizeof__', '__str__', '__subclasshook__', '__table__', '__weakref__', '_decl_class_registry', '_sa_class_manager', '_sa_decl_prepare', 'classes', 'date_time', 'errorCode', 'metadata', 'prepare', 'priority', 'private_host', 'private_origin', 'private_rcvStamp', 'private_revCode', 'private_seqNum', 'private_sndStamp']\n",
      "atcamera_logevent_SettingVersions\n",
      "<class 'sqlalchemy.ext.declarative.api.DeclarativeMeta'>\n",
      "['__abstract__', '__class__', '__delattr__', '__dict__', '__dir__', '__doc__', '__eq__', '__format__', '__ge__', '__getattribute__', '__gt__', '__hash__', '__init__', '__init_subclass__', '__le__', '__lt__', '__mapper__', '__module__', '__ne__', '__new__', '__reduce__', '__reduce_ex__', '__repr__', '__setattr__', '__sizeof__', '__str__', '__subclasshook__', '__table__', '__weakref__', '_decl_class_registry', '_sa_class_manager', '_sa_decl_prepare', 'classes', 'date_time', 'metadata', 'prepare', 'priority', 'private_host', 'private_origin', 'private_rcvStamp', 'private_revCode', 'private_seqNum', 'private_sndStamp', 'recommendedSettingVersion']\n",
      "atcamera_logevent_SettingsApplied\n",
      "<class 'sqlalchemy.ext.declarative.api.DeclarativeMeta'>\n",
      "['BonnShutterSettingsVersion', 'WREBSettingsVersion', '__abstract__', '__class__', '__delattr__', '__dict__', '__dir__', '__doc__', '__eq__', '__format__', '__ge__', '__getattribute__', '__gt__', '__hash__', '__init__', '__init_subclass__', '__le__', '__lt__', '__mapper__', '__module__', '__ne__', '__new__', '__reduce__', '__reduce_ex__', '__repr__', '__setattr__', '__sizeof__', '__str__', '__subclasshook__', '__table__', '__weakref__', '_decl_class_registry', '_sa_class_manager', '_sa_decl_prepare', 'classes', 'date_time', 'metadata', 'prepare', 'priority', 'private_host', 'private_origin', 'private_rcvStamp', 'private_revCode', 'private_seqNum', 'private_sndStamp', 'settings', 'timestamp', 'version']\n",
      "atcamera_logevent_SummaryState\n",
      "<class 'sqlalchemy.ext.declarative.api.DeclarativeMeta'>\n",
      "['SummaryStateValue', '__abstract__', '__class__', '__delattr__', '__dict__', '__dir__', '__doc__', '__eq__', '__format__', '__ge__', '__getattribute__', '__gt__', '__hash__', '__init__', '__init_subclass__', '__le__', '__lt__', '__mapper__', '__module__', '__ne__', '__new__', '__reduce__', '__reduce_ex__', '__repr__', '__setattr__', '__sizeof__', '__str__', '__subclasshook__', '__table__', '__weakref__', '_decl_class_registry', '_sa_class_manager', '_sa_decl_prepare', 'classes', 'date_time', 'metadata', 'prepare', 'priority', 'private_host', 'private_origin', 'private_rcvStamp', 'private_revCode', 'private_seqNum', 'private_sndStamp']\n",
      "atcamera_logevent_WREBSettingsApplied\n",
      "<class 'sqlalchemy.ext.declarative.api.DeclarativeMeta'>\n",
      "['ASPIC0_af1', 'ASPIC0_clamp', 'ASPIC0_gain', 'ASPIC0_rc', 'ASPIC0_tm', 'ASPIC1_af1', 'ASPIC1_clamp', 'ASPIC1_gain', 'ASPIC1_rc', 'ASPIC1_tm', 'Bias0_csGate', 'Bias0_csGateP', 'Bias0_gd', 'Bias0_gdP', 'Bias0_od', 'Bias0_odP', 'Bias0_og', 'Bias0_ogP', 'Bias0_ogSh', 'Bias0_rd', 'Bias0_rdP', 'DAC_csGate', 'DAC_pclkHigh', 'DAC_pclkHighP', 'DAC_pclkHighSh', 'DAC_pclkLow', 'DAC_pclkLowP', 'DAC_pclkLowSh', 'DAC_rgHigh', 'DAC_rgHighP', 'DAC_rgHighSh', 'DAC_rgLow', 'DAC_rgLowP', 'DAC_rgLowSh', 'DAC_sclkHigh', 'DAC_sclkHighP', 'DAC_sclkHighSh', 'DAC_sclkLow', 'DAC_sclkLowP', 'DAC_sclkLowSh', '__abstract__', '__class__', '__delattr__', '__dict__', '__dir__', '__doc__', '__eq__', '__format__', '__ge__', '__getattribute__', '__gt__', '__hash__', '__init__', '__init_subclass__', '__le__', '__lt__', '__mapper__', '__module__', '__ne__', '__new__', '__reduce__', '__reduce_ex__', '__repr__', '__setattr__', '__sizeof__', '__str__', '__subclasshook__', '__table__', '__weakref__', '_decl_class_registry', '_sa_class_manager', '_sa_decl_prepare', 'classes', 'daqVersion', 'date_time', 'firmwareVersion', 'metadata', 'prepare', 'priority', 'private_host', 'private_origin', 'private_rcvStamp', 'private_revCode', 'private_seqNum', 'private_sndStamp', 'sequencerKey', 'version']\n",
      "atcamera_logevent_appliedSettingsMatchStart\n",
      "<class 'sqlalchemy.ext.declarative.api.DeclarativeMeta'>\n",
      "['__abstract__', '__class__', '__delattr__', '__dict__', '__dir__', '__doc__', '__eq__', '__format__', '__ge__', '__getattribute__', '__gt__', '__hash__', '__init__', '__init_subclass__', '__le__', '__lt__', '__mapper__', '__module__', '__ne__', '__new__', '__reduce__', '__reduce_ex__', '__repr__', '__setattr__', '__sizeof__', '__str__', '__subclasshook__', '__table__', '__weakref__', '_decl_class_registry', '_sa_class_manager', '_sa_decl_prepare', 'appliedSettingsMatchStartIsTrue', 'classes', 'date_time', 'metadata', 'prepare', 'priority', 'private_host', 'private_origin', 'private_rcvStamp', 'private_revCode', 'private_seqNum', 'private_sndStamp']\n",
      "atcamera_logevent_bonnShutterSettingsApplied\n",
      "<class 'sqlalchemy.ext.declarative.api.DeclarativeMeta'>\n",
      "['__abstract__', '__class__', '__delattr__', '__dict__', '__dir__', '__doc__', '__eq__', '__format__', '__ge__', '__getattribute__', '__gt__', '__hash__', '__init__', '__init_subclass__', '__le__', '__lt__', '__mapper__', '__module__', '__ne__', '__new__', '__reduce__', '__reduce_ex__', '__repr__', '__setattr__', '__sizeof__', '__str__', '__subclasshook__', '__table__', '__weakref__', '_decl_class_registry', '_sa_class_manager', '_sa_decl_prepare', 'acceleration', 'classes', 'date_time', 'firmwareVersion', 'maxVelocity', 'metadata', 'prepare', 'priority', 'private_host', 'private_origin', 'private_rcvStamp', 'private_revCode', 'private_seqNum', 'private_sndStamp', 'shutterVersion', 'startA', 'startB', 'startVelocity', 'threshold', 'travelDistance', 'version']\n",
      "atcamera_logevent_calibrationDetailedState\n",
      "<class 'sqlalchemy.ext.declarative.api.DeclarativeMeta'>\n",
      "['__abstract__', '__class__', '__delattr__', '__dict__', '__dir__', '__doc__', '__eq__', '__format__', '__ge__', '__getattribute__', '__gt__', '__hash__', '__init__', '__init_subclass__', '__le__', '__lt__', '__mapper__', '__module__', '__ne__', '__new__', '__reduce__', '__reduce_ex__', '__repr__', '__setattr__', '__sizeof__', '__str__', '__subclasshook__', '__table__', '__weakref__', '_decl_class_registry', '_sa_class_manager', '_sa_decl_prepare', 'classes', 'date_time', 'metadata', 'prepare', 'priority', 'private_host', 'private_origin', 'private_rcvStamp', 'private_revCode', 'private_seqNum', 'private_sndStamp', 'substate']\n",
      "atcamera_logevent_ccsCommandState\n",
      "<class 'sqlalchemy.ext.declarative.api.DeclarativeMeta'>\n",
      "['__abstract__', '__class__', '__delattr__', '__dict__', '__dir__', '__doc__', '__eq__', '__format__', '__ge__', '__getattribute__', '__gt__', '__hash__', '__init__', '__init_subclass__', '__le__', '__lt__', '__mapper__', '__module__', '__ne__', '__new__', '__reduce__', '__reduce_ex__', '__repr__', '__setattr__', '__sizeof__', '__str__', '__subclasshook__', '__table__', '__weakref__', '_decl_class_registry', '_sa_class_manager', '_sa_decl_prepare', 'classes', 'date_time', 'metadata', 'prepare', 'priority', 'private_host', 'private_origin', 'private_rcvStamp', 'private_revCode', 'private_seqNum', 'private_sndStamp', 'substate']\n",
      "atcamera_logevent_endOfImageTelemetry\n",
      "<class 'sqlalchemy.ext.declarative.api.DeclarativeMeta'>\n",
      "['__abstract__', '__class__', '__delattr__', '__dict__', '__dir__', '__doc__', '__eq__', '__format__', '__ge__', '__getattribute__', '__gt__', '__hash__', '__init__', '__init_subclass__', '__le__', '__lt__', '__mapper__', '__module__', '__ne__', '__new__', '__reduce__', '__reduce_ex__', '__repr__', '__setattr__', '__sizeof__', '__str__', '__subclasshook__', '__table__', '__weakref__', '_decl_class_registry', '_sa_class_manager', '_sa_decl_prepare', 'classes', 'date_time', 'exposureTime', 'imageIndex', 'imageName', 'imageSequenceName', 'imagesInSequence', 'metadata', 'prepare', 'priority', 'private_host', 'private_origin', 'private_rcvStamp', 'private_revCode', 'private_seqNum', 'private_sndStamp', 'timeStamp']\n",
      "atcamera_logevent_endReadout\n",
      "<class 'sqlalchemy.ext.declarative.api.DeclarativeMeta'>\n",
      "['__abstract__', '__class__', '__delattr__', '__dict__', '__dir__', '__doc__', '__eq__', '__format__', '__ge__', '__getattribute__', '__gt__', '__hash__', '__init__', '__init_subclass__', '__le__', '__lt__', '__mapper__', '__module__', '__ne__', '__new__', '__reduce__', '__reduce_ex__', '__repr__', '__setattr__', '__sizeof__', '__str__', '__subclasshook__', '__table__', '__weakref__', '_decl_class_registry', '_sa_class_manager', '_sa_decl_prepare', 'classes', 'date_time', 'exposureTime', 'imageIndex', 'imageName', 'imageSequenceName', 'imagesInSequence', 'metadata', 'prepare', 'priority', 'private_host', 'private_origin', 'private_rcvStamp', 'private_revCode', 'private_seqNum', 'private_sndStamp', 'timeStamp']\n",
      "atcamera_logevent_endShutterClose\n",
      "<class 'sqlalchemy.ext.declarative.api.DeclarativeMeta'>\n",
      "['__abstract__', '__class__', '__delattr__', '__dict__', '__dir__', '__doc__', '__eq__', '__format__', '__ge__', '__getattribute__', '__gt__', '__hash__', '__init__', '__init_subclass__', '__le__', '__lt__', '__mapper__', '__module__', '__ne__', '__new__', '__reduce__', '__reduce_ex__', '__repr__', '__setattr__', '__sizeof__', '__str__', '__subclasshook__', '__table__', '__weakref__', '_decl_class_registry', '_sa_class_manager', '_sa_decl_prepare', 'classes', 'date_time', 'metadata', 'prepare', 'priority', 'private_host', 'private_origin', 'private_rcvStamp', 'private_revCode', 'private_seqNum', 'private_sndStamp']\n",
      "atcamera_logevent_endShutterOpen\n",
      "<class 'sqlalchemy.ext.declarative.api.DeclarativeMeta'>\n",
      "['__abstract__', '__class__', '__delattr__', '__dict__', '__dir__', '__doc__', '__eq__', '__format__', '__ge__', '__getattribute__', '__gt__', '__hash__', '__init__', '__init_subclass__', '__le__', '__lt__', '__mapper__', '__module__', '__ne__', '__new__', '__reduce__', '__reduce_ex__', '__repr__', '__setattr__', '__sizeof__', '__str__', '__subclasshook__', '__table__', '__weakref__', '_decl_class_registry', '_sa_class_manager', '_sa_decl_prepare', 'classes', 'date_time', 'metadata', 'prepare', 'priority', 'private_host', 'private_origin', 'private_rcvStamp', 'private_revCode', 'private_seqNum', 'private_sndStamp']\n",
      "atcamera_logevent_endTakeImage\n",
      "<class 'sqlalchemy.ext.declarative.api.DeclarativeMeta'>\n",
      "['__abstract__', '__class__', '__delattr__', '__dict__', '__dir__', '__doc__', '__eq__', '__format__', '__ge__', '__getattribute__', '__gt__', '__hash__', '__init__', '__init_subclass__', '__le__', '__lt__', '__mapper__', '__module__', '__ne__', '__new__', '__reduce__', '__reduce_ex__', '__repr__', '__setattr__', '__sizeof__', '__str__', '__subclasshook__', '__table__', '__weakref__', '_decl_class_registry', '_sa_class_manager', '_sa_decl_prepare', 'classes', 'date_time', 'metadata', 'prepare', 'priority', 'private_host', 'private_origin', 'private_rcvStamp', 'private_revCode', 'private_seqNum', 'private_sndStamp']\n",
      "atcamera_logevent_errorCode\n",
      "<class 'sqlalchemy.ext.declarative.api.DeclarativeMeta'>\n",
      "['__abstract__', '__class__', '__delattr__', '__dict__', '__dir__', '__doc__', '__eq__', '__format__', '__ge__', '__getattribute__', '__gt__', '__hash__', '__init__', '__init_subclass__', '__le__', '__lt__', '__mapper__', '__module__', '__ne__', '__new__', '__reduce__', '__reduce_ex__', '__repr__', '__setattr__', '__sizeof__', '__str__', '__subclasshook__', '__table__', '__weakref__', '_decl_class_registry', '_sa_class_manager', '_sa_decl_prepare', 'classes', 'date_time', 'errorCode', 'metadata', 'prepare', 'priority', 'private_host', 'private_origin', 'private_rcvStamp', 'private_revCode', 'private_seqNum', 'private_sndStamp']\n",
      "atcamera_logevent_imageReadinessDetailedState\n",
      "<class 'sqlalchemy.ext.declarative.api.DeclarativeMeta'>\n",
      "['__abstract__', '__class__', '__delattr__', '__dict__', '__dir__', '__doc__', '__eq__', '__format__', '__ge__', '__getattribute__', '__gt__', '__hash__', '__init__', '__init_subclass__', '__le__', '__lt__', '__mapper__', '__module__', '__ne__', '__new__', '__reduce__', '__reduce_ex__', '__repr__', '__setattr__', '__sizeof__', '__str__', '__subclasshook__', '__table__', '__weakref__', '_decl_class_registry', '_sa_class_manager', '_sa_decl_prepare', 'classes', 'date_time', 'metadata', 'prepare', 'priority', 'private_host', 'private_origin', 'private_rcvStamp', 'private_revCode', 'private_seqNum', 'private_sndStamp', 'substate']\n",
      "atcamera_logevent_imageReadoutParameters\n",
      "<class 'sqlalchemy.ext.declarative.api.DeclarativeMeta'>\n",
      "['__abstract__', '__class__', '__delattr__', '__dict__', '__dir__', '__doc__', '__eq__', '__format__', '__ge__', '__getattribute__', '__gt__', '__hash__', '__init__', '__init_subclass__', '__le__', '__lt__', '__mapper__', '__module__', '__ne__', '__new__', '__reduce__', '__reduce_ex__', '__repr__', '__setattr__', '__sizeof__', '__str__', '__subclasshook__', '__table__', '__weakref__', '_decl_class_registry', '_sa_class_manager', '_sa_decl_prepare', 'ccdNames', 'ccdType', 'classes', 'date_time', 'imageName', 'metadata', 'overCols', 'overRows', 'postCols', 'preCols', 'preRows', 'prepare', 'priority', 'private_host', 'private_origin', 'private_rcvStamp', 'private_revCode', 'private_seqNum', 'private_sndStamp', 'readCols', 'readCols2', 'readRows']\n",
      "atcamera_logevent_notReadyToTakeImage\n",
      "<class 'sqlalchemy.ext.declarative.api.DeclarativeMeta'>\n",
      "['__abstract__', '__class__', '__delattr__', '__dict__', '__dir__', '__doc__', '__eq__', '__format__', '__ge__', '__getattribute__', '__gt__', '__hash__', '__init__', '__init_subclass__', '__le__', '__lt__', '__mapper__', '__module__', '__ne__', '__new__', '__reduce__', '__reduce_ex__', '__repr__', '__setattr__', '__sizeof__', '__str__', '__subclasshook__', '__table__', '__weakref__', '_decl_class_registry', '_sa_class_manager', '_sa_decl_prepare', 'classes', 'date_time', 'metadata', 'prepare', 'priority', 'private_host', 'private_origin', 'private_rcvStamp', 'private_revCode', 'private_seqNum', 'private_sndStamp']\n",
      "atcamera_logevent_offlineDetailedState\n",
      "<class 'sqlalchemy.ext.declarative.api.DeclarativeMeta'>\n",
      "['__abstract__', '__class__', '__delattr__', '__dict__', '__dir__', '__doc__', '__eq__', '__format__', '__ge__', '__getattribute__', '__gt__', '__hash__', '__init__', '__init_subclass__', '__le__', '__lt__', '__mapper__', '__module__', '__ne__', '__new__', '__reduce__', '__reduce_ex__', '__repr__', '__setattr__', '__sizeof__', '__str__', '__subclasshook__', '__table__', '__weakref__', '_decl_class_registry', '_sa_class_manager', '_sa_decl_prepare', 'classes', 'date_time', 'metadata', 'prepare', 'priority', 'private_host', 'private_origin', 'private_rcvStamp', 'private_revCode', 'private_seqNum', 'private_sndStamp', 'substate']\n",
      "atcamera_logevent_prepareToTakeImage\n",
      "<class 'sqlalchemy.ext.declarative.api.DeclarativeMeta'>\n",
      "['__abstract__', '__class__', '__delattr__', '__dict__', '__dir__', '__doc__', '__eq__', '__format__', '__ge__', '__getattribute__', '__gt__', '__hash__', '__init__', '__init_subclass__', '__le__', '__lt__', '__mapper__', '__module__', '__ne__', '__new__', '__reduce__', '__reduce_ex__', '__repr__', '__setattr__', '__sizeof__', '__str__', '__subclasshook__', '__table__', '__weakref__', '_decl_class_registry', '_sa_class_manager', '_sa_decl_prepare', 'classes', 'date_time', 'metadata', 'prepare', 'priority', 'private_host', 'private_origin', 'private_rcvStamp', 'private_revCode', 'private_seqNum', 'private_sndStamp']\n",
      "atcamera_logevent_raftsDetailedState\n",
      "<class 'sqlalchemy.ext.declarative.api.DeclarativeMeta'>\n",
      "['__abstract__', '__class__', '__delattr__', '__dict__', '__dir__', '__doc__', '__eq__', '__format__', '__ge__', '__getattribute__', '__gt__', '__hash__', '__init__', '__init_subclass__', '__le__', '__lt__', '__mapper__', '__module__', '__ne__', '__new__', '__reduce__', '__reduce_ex__', '__repr__', '__setattr__', '__sizeof__', '__str__', '__subclasshook__', '__table__', '__weakref__', '_decl_class_registry', '_sa_class_manager', '_sa_decl_prepare', 'classes', 'date_time', 'metadata', 'prepare', 'priority', 'private_host', 'private_origin', 'private_rcvStamp', 'private_revCode', 'private_seqNum', 'private_sndStamp', 'substate']\n",
      "atcamera_logevent_readyToTakeImage\n",
      "<class 'sqlalchemy.ext.declarative.api.DeclarativeMeta'>\n",
      "['__abstract__', '__class__', '__delattr__', '__dict__', '__dir__', '__doc__', '__eq__', '__format__', '__ge__', '__getattribute__', '__gt__', '__hash__', '__init__', '__init_subclass__', '__le__', '__lt__', '__mapper__', '__module__', '__ne__', '__new__', '__reduce__', '__reduce_ex__', '__repr__', '__setattr__', '__sizeof__', '__str__', '__subclasshook__', '__table__', '__weakref__', '_decl_class_registry', '_sa_class_manager', '_sa_decl_prepare', 'classes', 'date_time', 'metadata', 'prepare', 'priority', 'private_host', 'private_origin', 'private_rcvStamp', 'private_revCode', 'private_seqNum', 'private_sndStamp']\n",
      "atcamera_logevent_settingVersions\n",
      "<class 'sqlalchemy.ext.declarative.api.DeclarativeMeta'>\n",
      "['__abstract__', '__class__', '__delattr__', '__dict__', '__dir__', '__doc__', '__eq__', '__format__', '__ge__', '__getattribute__', '__gt__', '__hash__', '__init__', '__init_subclass__', '__le__', '__lt__', '__mapper__', '__module__', '__ne__', '__new__', '__reduce__', '__reduce_ex__', '__repr__', '__setattr__', '__sizeof__', '__str__', '__subclasshook__', '__table__', '__weakref__', '_decl_class_registry', '_sa_class_manager', '_sa_decl_prepare', 'classes', 'date_time', 'metadata', 'prepare', 'priority', 'private_host', 'private_origin', 'private_rcvStamp', 'private_revCode', 'private_seqNum', 'private_sndStamp', 'recommendedSettingVersion']\n",
      "atcamera_logevent_settingsApplied\n",
      "<class 'sqlalchemy.ext.declarative.api.DeclarativeMeta'>\n",
      "['__abstract__', '__class__', '__delattr__', '__dict__', '__dir__', '__doc__', '__eq__', '__format__', '__ge__', '__getattribute__', '__gt__', '__hash__', '__init__', '__init_subclass__', '__le__', '__lt__', '__mapper__', '__module__', '__ne__', '__new__', '__reduce__', '__reduce_ex__', '__repr__', '__setattr__', '__sizeof__', '__str__', '__subclasshook__', '__table__', '__weakref__', '_decl_class_registry', '_sa_class_manager', '_sa_decl_prepare', 'bonnShutterSettingsVersion', 'classes', 'date_time', 'metadata', 'prepare', 'priority', 'private_host', 'private_origin', 'private_rcvStamp', 'private_revCode', 'private_seqNum', 'private_sndStamp', 'settings', 'timeStamp', 'version', 'wrebSettingsVersion']\n",
      "atcamera_logevent_shutterDetailedState\n",
      "<class 'sqlalchemy.ext.declarative.api.DeclarativeMeta'>\n",
      "['__abstract__', '__class__', '__delattr__', '__dict__', '__dir__', '__doc__', '__eq__', '__format__', '__ge__', '__getattribute__', '__gt__', '__hash__', '__init__', '__init_subclass__', '__le__', '__lt__', '__mapper__', '__module__', '__ne__', '__new__', '__reduce__', '__reduce_ex__', '__repr__', '__setattr__', '__sizeof__', '__str__', '__subclasshook__', '__table__', '__weakref__', '_decl_class_registry', '_sa_class_manager', '_sa_decl_prepare', 'classes', 'date_time', 'metadata', 'prepare', 'priority', 'private_host', 'private_origin', 'private_rcvStamp', 'private_revCode', 'private_seqNum', 'private_sndStamp', 'substate']\n",
      "atcamera_logevent_shutterMotionProfile\n",
      "<class 'sqlalchemy.ext.declarative.api.DeclarativeMeta'>\n",
      "['__abstract__', '__class__', '__delattr__', '__dict__', '__dir__', '__doc__', '__eq__', '__format__', '__ge__', '__getattribute__', '__gt__', '__hash__', '__init__', '__init_subclass__', '__le__', '__lt__', '__mapper__', '__module__', '__ne__', '__new__', '__reduce__', '__reduce_ex__', '__repr__', '__setattr__', '__sizeof__', '__str__', '__subclasshook__', '__table__', '__weakref__', '_decl_class_registry', '_sa_class_manager', '_sa_decl_prepare', 'classes', 'date_time', 'measuredExposureTime', 'metadata', 'prepare', 'priority', 'private_host', 'private_origin', 'private_rcvStamp', 'private_revCode', 'private_seqNum', 'private_sndStamp']\n",
      "atcamera_logevent_startIntegration\n",
      "<class 'sqlalchemy.ext.declarative.api.DeclarativeMeta'>\n",
      "['__abstract__', '__class__', '__delattr__', '__dict__', '__dir__', '__doc__', '__eq__', '__format__', '__ge__', '__getattribute__', '__gt__', '__hash__', '__init__', '__init_subclass__', '__le__', '__lt__', '__mapper__', '__module__', '__ne__', '__new__', '__reduce__', '__reduce_ex__', '__repr__', '__setattr__', '__sizeof__', '__str__', '__subclasshook__', '__table__', '__weakref__', '_decl_class_registry', '_sa_class_manager', '_sa_decl_prepare', 'classes', 'date_time', 'exposureTime', 'imageIndex', 'imageName', 'imageSequenceName', 'imagesInSequence', 'metadata', 'prepare', 'priority', 'private_host', 'private_origin', 'private_rcvStamp', 'private_revCode', 'private_seqNum', 'private_sndStamp', 'timeStamp']\n",
      "atcamera_logevent_startReadout\n",
      "<class 'sqlalchemy.ext.declarative.api.DeclarativeMeta'>\n",
      "['__abstract__', '__class__', '__delattr__', '__dict__', '__dir__', '__doc__', '__eq__', '__format__', '__ge__', '__getattribute__', '__gt__', '__hash__', '__init__', '__init_subclass__', '__le__', '__lt__', '__mapper__', '__module__', '__ne__', '__new__', '__reduce__', '__reduce_ex__', '__repr__', '__setattr__', '__sizeof__', '__str__', '__subclasshook__', '__table__', '__weakref__', '_decl_class_registry', '_sa_class_manager', '_sa_decl_prepare', 'classes', 'date_time', 'exposureTime', 'imageIndex', 'imageName', 'imageSequenceName', 'imagesInSequence', 'metadata', 'prepare', 'priority', 'private_host', 'private_origin', 'private_rcvStamp', 'private_revCode', 'private_seqNum', 'private_sndStamp', 'timeStamp']\n",
      "atcamera_logevent_startShutterClose\n",
      "<class 'sqlalchemy.ext.declarative.api.DeclarativeMeta'>\n",
      "['__abstract__', '__class__', '__delattr__', '__dict__', '__dir__', '__doc__', '__eq__', '__format__', '__ge__', '__getattribute__', '__gt__', '__hash__', '__init__', '__init_subclass__', '__le__', '__lt__', '__mapper__', '__module__', '__ne__', '__new__', '__reduce__', '__reduce_ex__', '__repr__', '__setattr__', '__sizeof__', '__str__', '__subclasshook__', '__table__', '__weakref__', '_decl_class_registry', '_sa_class_manager', '_sa_decl_prepare', 'classes', 'date_time', 'metadata', 'prepare', 'priority', 'private_host', 'private_origin', 'private_rcvStamp', 'private_revCode', 'private_seqNum', 'private_sndStamp']\n",
      "atcamera_logevent_startShutterOpen\n",
      "<class 'sqlalchemy.ext.declarative.api.DeclarativeMeta'>\n",
      "['__abstract__', '__class__', '__delattr__', '__dict__', '__dir__', '__doc__', '__eq__', '__format__', '__ge__', '__getattribute__', '__gt__', '__hash__', '__init__', '__init_subclass__', '__le__', '__lt__', '__mapper__', '__module__', '__ne__', '__new__', '__reduce__', '__reduce_ex__', '__repr__', '__setattr__', '__sizeof__', '__str__', '__subclasshook__', '__table__', '__weakref__', '_decl_class_registry', '_sa_class_manager', '_sa_decl_prepare', 'classes', 'date_time', 'metadata', 'prepare', 'priority', 'private_host', 'private_origin', 'private_rcvStamp', 'private_revCode', 'private_seqNum', 'private_sndStamp']\n",
      "atcamera_logevent_summaryState\n",
      "<class 'sqlalchemy.ext.declarative.api.DeclarativeMeta'>\n",
      "['__abstract__', '__class__', '__delattr__', '__dict__', '__dir__', '__doc__', '__eq__', '__format__', '__ge__', '__getattribute__', '__gt__', '__hash__', '__init__', '__init_subclass__', '__le__', '__lt__', '__mapper__', '__module__', '__ne__', '__new__', '__reduce__', '__reduce_ex__', '__repr__', '__setattr__', '__sizeof__', '__str__', '__subclasshook__', '__table__', '__weakref__', '_decl_class_registry', '_sa_class_manager', '_sa_decl_prepare', 'classes', 'date_time', 'metadata', 'prepare', 'priority', 'private_host', 'private_origin', 'private_rcvStamp', 'private_revCode', 'private_seqNum', 'private_sndStamp', 'summaryStateValue']\n",
      "atcamera_logevent_wrebSettingsApplied\n",
      "<class 'sqlalchemy.ext.declarative.api.DeclarativeMeta'>\n",
      "['__abstract__', '__class__', '__delattr__', '__dict__', '__dir__', '__doc__', '__eq__', '__format__', '__ge__', '__getattribute__', '__gt__', '__hash__', '__init__', '__init_subclass__', '__le__', '__lt__', '__mapper__', '__module__', '__ne__', '__new__', '__reduce__', '__reduce_ex__', '__repr__', '__setattr__', '__sizeof__', '__str__', '__subclasshook__', '__table__', '__weakref__', '_decl_class_registry', '_sa_class_manager', '_sa_decl_prepare', 'aspic0_af1', 'aspic0_clamp', 'aspic0_gain', 'aspic0_rc', 'aspic0_tm', 'aspic1_af1', 'aspic1_clamp', 'aspic1_gain', 'aspic1_rc', 'aspic1_tm', 'bias0_csGate', 'bias0_csGateP', 'bias0_gd', 'bias0_gdP', 'bias0_od', 'bias0_odP', 'bias0_og', 'bias0_ogP', 'bias0_ogSh', 'bias0_rd', 'bias0_rdP', 'classes', 'dac_csGate', 'dac_pclkHigh', 'dac_pclkHighP', 'dac_pclkHighSh', 'dac_pclkLow', 'dac_pclkLowP', 'dac_pclkLowSh', 'dac_rgHigh', 'dac_rgHighP', 'dac_rgHighSh', 'dac_rgLow', 'dac_rgLowP', 'dac_rgLowSh', 'dac_sclkHigh', 'dac_sclkHighP', 'dac_sclkHighSh', 'dac_sclkLow', 'dac_sclkLowP', 'dac_sclkLowSh', 'daqVersion', 'date_time', 'firmwareVersion', 'metadata', 'prepare', 'priority', 'private_host', 'private_origin', 'private_rcvStamp', 'private_revCode', 'private_seqNum', 'private_sndStamp', 'sequencerKey', 'version']\n",
      "atcamera_wreb\n",
      "<class 'sqlalchemy.ext.declarative.api.DeclarativeMeta'>\n",
      "['__abstract__', '__class__', '__delattr__', '__dict__', '__dir__', '__doc__', '__eq__', '__format__', '__ge__', '__getattribute__', '__gt__', '__hash__', '__init__', '__init_subclass__', '__le__', '__lt__', '__mapper__', '__module__', '__ne__', '__new__', '__reduce__', '__reduce_ex__', '__repr__', '__setattr__', '__sizeof__', '__str__', '__subclasshook__', '__table__', '__weakref__', '_decl_class_registry', '_sa_class_manager', '_sa_decl_prepare', 'anaPS_I', 'anaPS_V', 'atemp0L', 'atemp0U', 'ccdTemp0', 'ckPOV', 'ckPSH_V', 'cks0V', 'classes', 'clkHPS_I', 'clkHPS_V', 'date_time', 'digPS_I', 'digPS_V', 'gd0V', 'htrPS_I', 'htrPS_V', 'metadata', 'od0I', 'od0V', 'odPS_I', 'odPS_V', 'ogoV', 'power', 'prepare', 'private_host', 'private_origin', 'private_rcvStamp', 'private_revCode', 'private_seqNum', 'private_sndStamp', 'rd0V', 'rg0V', 'rgL_V', 'rgU_V', 'rtdTemp', 'sckL_V', 'sckU_V', 'temp1', 'temp2', 'temp3', 'temp4', 'temp5', 'temp6']\n",
      "atcamera_wrebPower\n",
      "<class 'sqlalchemy.ext.declarative.api.DeclarativeMeta'>\n",
      "['__abstract__', '__class__', '__delattr__', '__dict__', '__dir__', '__doc__', '__eq__', '__format__', '__ge__', '__getattribute__', '__gt__', '__hash__', '__init__', '__init_subclass__', '__le__', '__lt__', '__mapper__', '__module__', '__ne__', '__new__', '__reduce__', '__reduce_ex__', '__repr__', '__setattr__', '__sizeof__', '__str__', '__subclasshook__', '__table__', '__weakref__', '_decl_class_registry', '_sa_class_manager', '_sa_decl_prepare', 'analog_I', 'analog_V', 'classes', 'clkHigh_I', 'clkHigh_V', 'clkLow_I', 'clkLow_V', 'date_time', 'digital_I', 'digital_V', 'dphi_I', 'dphi_V', 'heater_I', 'heater_V', 'hvbias_I', 'hvbias_V', 'metadata', 'od_I', 'od_V', 'prepare', 'private_host', 'private_origin', 'private_rcvStamp', 'private_revCode', 'private_seqNum', 'private_sndStamp']\n"
     ]
    }
   ],
   "source": [
    "tables = []\n",
    "csc_list = 'atArchiver atcamera atHeaderService'.split()\n",
    "for table_name, table_obj in Base.classes.items():\n",
    "    vals = table_name.split('_')\n",
    "    if vals[0] not in csc_list:\n",
    "        continue\n",
    "    print(table_name)\n",
    "    print(type(table_obj))\n",
    "    print(dir(table_obj))\n",
    "    tables.append(table_obj)\n",
    "    #for val in vals:\n",
    "        \n",
    "    #tables[vals[0]] = defaultdict(dict)\n",
    "    #try:\n",
    "    #    topic = vals[2]\n",
    "    #    tables[vals[0]][vals[1]] = defaultdict(dict)\n",
    "    #    tables[vals[0]][vals[1]][topic] = table_obj\n",
    "    #except IndexError:\n",
    "    #    tables[vals[0]][vals[1]] = table_obj\n",
    "#print(tables)"
   ]
  },
  {
   "cell_type": "code",
   "execution_count": null,
   "metadata": {},
   "outputs": [],
   "source": [
    "type(tables['atcamera']['logevent']['startShutterOpen'])"
   ]
  },
  {
   "cell_type": "code",
   "execution_count": null,
   "metadata": {},
   "outputs": [],
   "source": [
    "atHeaderService_command_standby = Base.classes.get('atHeaderService_command_standby')"
   ]
  },
  {
   "cell_type": "code",
   "execution_count": null,
   "metadata": {},
   "outputs": [],
   "source": [
    "dir(atHeaderService_command_standby)"
   ]
  },
  {
   "cell_type": "code",
   "execution_count": null,
   "metadata": {},
   "outputs": [],
   "source": [
    "type(atHeaderService_command_standby)"
   ]
  },
  {
   "cell_type": "code",
   "execution_count": null,
   "metadata": {},
   "outputs": [],
   "source": [
    "d = defaultdict(dict)\n",
    "d[\"help\"][\"test\"][\"trial\"] = atHeaderService_command_standby"
   ]
  },
  {
   "cell_type": "code",
   "execution_count": null,
   "metadata": {},
   "outputs": [],
   "source": [
    "c0 = atHeaderService_command_standby.property.parent.columns.values()[0]"
   ]
  },
  {
   "cell_type": "code",
   "execution_count": null,
   "metadata": {},
   "outputs": [],
   "source": [
    "repr(c0)"
   ]
  },
  {
   "cell_type": "code",
   "execution_count": null,
   "metadata": {},
   "outputs": [],
   "source": [
    "c0.name"
   ]
  },
  {
   "cell_type": "code",
   "execution_count": null,
   "metadata": {},
   "outputs": [],
   "source": [
    "type(c0.type)"
   ]
  },
  {
   "cell_type": "code",
   "execution_count": null,
   "metadata": {},
   "outputs": [],
   "source": [
    "rv = repr(c0).split(',')"
   ]
  },
  {
   "cell_type": "code",
   "execution_count": null,
   "metadata": {},
   "outputs": [],
   "source": [
    "rv"
   ]
  },
  {
   "cell_type": "code",
   "execution_count": null,
   "metadata": {},
   "outputs": [],
   "source": [
    "del rv[0], rv[1], rv[-1], rv[-1]"
   ]
  },
  {
   "cell_type": "code",
   "execution_count": null,
   "metadata": {},
   "outputs": [],
   "source": [
    "rv = [x.strip() for x in rv]"
   ]
  },
  {
   "cell_type": "code",
   "execution_count": null,
   "metadata": {},
   "outputs": [],
   "source": [
    "d = 'Column(' + ', '.join(rv) + \")\""
   ]
  },
  {
   "cell_type": "code",
   "execution_count": null,
   "metadata": {},
   "outputs": [],
   "source": [
    "d"
   ]
  },
  {
   "cell_type": "code",
   "execution_count": null,
   "metadata": {},
   "outputs": [],
   "source": [
    "c1 = atHeaderService_command_standby.property.parent.columns.values()[1]"
   ]
  },
  {
   "cell_type": "code",
   "execution_count": null,
   "metadata": {},
   "outputs": [],
   "source": [
    "type(c1.type).__name__"
   ]
  },
  {
   "cell_type": "code",
   "execution_count": null,
   "metadata": {},
   "outputs": [],
   "source": [
    "rv2 = repr(c1).split(',')"
   ]
  },
  {
   "cell_type": "code",
   "execution_count": null,
   "metadata": {},
   "outputs": [],
   "source": [
    "rv2"
   ]
  },
  {
   "cell_type": "code",
   "execution_count": null,
   "metadata": {},
   "outputs": [],
   "source": [
    "del rv2[-1]"
   ]
  },
  {
   "cell_type": "code",
   "execution_count": null,
   "metadata": {},
   "outputs": [],
   "source": [
    "g = ','.join(rv2) + ')'"
   ]
  },
  {
   "cell_type": "code",
   "execution_count": null,
   "metadata": {},
   "outputs": [],
   "source": [
    "g"
   ]
  },
  {
   "cell_type": "code",
   "execution_count": null,
   "metadata": {},
   "outputs": [],
   "source": [
    "dir(engine)"
   ]
  },
  {
   "cell_type": "code",
   "execution_count": null,
   "metadata": {},
   "outputs": [],
   "source": [
    "atArchiver_logevent_AppliedSettingsMatchStart = Base.classes.get('atArchiver_logevent_AppliedSettingsMatchStart')"
   ]
  },
  {
   "cell_type": "code",
   "execution_count": null,
   "metadata": {},
   "outputs": [],
   "source": [
    "dir(atArchiver_logevent_AppliedSettingsMatchStart.appliedSettingsMatchStartIsTrue)"
   ]
  },
  {
   "cell_type": "code",
   "execution_count": null,
   "metadata": {},
   "outputs": [],
   "source": [
    "session = Session(engine)"
   ]
  },
  {
   "cell_type": "code",
   "execution_count": null,
   "metadata": {},
   "outputs": [],
   "source": [
    "results = session.query(atHeaderService_command_standby)"
   ]
  },
  {
   "cell_type": "code",
   "execution_count": null,
   "metadata": {},
   "outputs": [],
   "source": [
    "for result in results:\n",
    "    print(results)"
   ]
  },
  {
   "cell_type": "code",
   "execution_count": null,
   "metadata": {},
   "outputs": [],
   "source": []
  }
 ],
 "metadata": {
  "kernelspec": {
   "display_name": "Python 3",
   "language": "python",
   "name": "python3"
  },
  "language_info": {
   "codemirror_mode": {
    "name": "ipython",
    "version": 3
   },
   "file_extension": ".py",
   "mimetype": "text/x-python",
   "name": "python",
   "nbconvert_exporter": "python",
   "pygments_lexer": "ipython3",
   "version": "3.6.6"
  }
 },
 "nbformat": 4,
 "nbformat_minor": 2
}
