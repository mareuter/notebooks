{
 "cells": [
  {
   "cell_type": "markdown",
   "metadata": {},
   "source": [
    "Borrowed from Tiago's example."
   ]
  },
  {
   "cell_type": "code",
   "execution_count": 1,
   "metadata": {},
   "outputs": [],
   "source": [
    "from datetime import datetime\n",
    "import os\n",
    "\n",
    "import matplotlib.pyplot as plt\n",
    "import MySQLdb as mdb\n",
    "import pandas as pd\n",
    "from sqlalchemy import create_engine\n",
    "\n",
    "%matplotlib inline"
   ]
  },
  {
   "cell_type": "code",
   "execution_count": 2,
   "metadata": {},
   "outputs": [],
   "source": [
    "def create_connection():\n",
    "    default_file = os.path.join(os.path.expanduser('~/'), '.atefd.cnf')\n",
    "    return mdb.connect(read_default_file=default_file, db='EFD')"
   ]
  },
  {
   "cell_type": "code",
   "execution_count": 3,
   "metadata": {},
   "outputs": [],
   "source": [
    "engine = create_engine('mysql+mysqldb://', creator=create_connection)"
   ]
  },
  {
   "cell_type": "code",
   "execution_count": 4,
   "metadata": {},
   "outputs": [],
   "source": [
    "table_name = \"atcamera_wrebPower\"\n",
    "data_frame = pd.read_sql_query('select * from {};'.format(table_name), engine)"
   ]
  },
  {
   "cell_type": "code",
   "execution_count": 5,
   "metadata": {},
   "outputs": [
    {
     "data": {
      "text/html": [
       "<div>\n",
       "<style scoped>\n",
       "    .dataframe tbody tr th:only-of-type {\n",
       "        vertical-align: middle;\n",
       "    }\n",
       "\n",
       "    .dataframe tbody tr th {\n",
       "        vertical-align: top;\n",
       "    }\n",
       "\n",
       "    .dataframe thead th {\n",
       "        text-align: right;\n",
       "    }\n",
       "</style>\n",
       "<table border=\"1\" class=\"dataframe\">\n",
       "  <thead>\n",
       "    <tr style=\"text-align: right;\">\n",
       "      <th></th>\n",
       "      <th>date_time</th>\n",
       "      <th>private_revCode</th>\n",
       "      <th>private_sndStamp</th>\n",
       "      <th>private_rcvStamp</th>\n",
       "      <th>private_seqNum</th>\n",
       "      <th>private_origin</th>\n",
       "      <th>private_host</th>\n",
       "      <th>digital_V</th>\n",
       "      <th>digital_I</th>\n",
       "      <th>analog_V</th>\n",
       "      <th>...</th>\n",
       "      <th>clkLow_V</th>\n",
       "      <th>clkLow_I</th>\n",
       "      <th>od_V</th>\n",
       "      <th>od_I</th>\n",
       "      <th>dphi_V</th>\n",
       "      <th>dphi_I</th>\n",
       "      <th>heater_V</th>\n",
       "      <th>heater_I</th>\n",
       "      <th>hvbias_V</th>\n",
       "      <th>hvbias_I</th>\n",
       "    </tr>\n",
       "  </thead>\n",
       "  <tbody>\n",
       "    <tr>\n",
       "      <th>0</th>\n",
       "      <td>2018-08-14 18:34:12.274374</td>\n",
       "      <td>LSST TEST REVCODE</td>\n",
       "      <td>1.534272e+09</td>\n",
       "      <td>1.534272e+09</td>\n",
       "      <td>0</td>\n",
       "      <td>1</td>\n",
       "      <td>0</td>\n",
       "      <td>5.0</td>\n",
       "      <td>645.1</td>\n",
       "      <td>7.0</td>\n",
       "      <td>...</td>\n",
       "      <td>11.0</td>\n",
       "      <td>34.7</td>\n",
       "      <td>28.0</td>\n",
       "      <td>26.7</td>\n",
       "      <td>10.0</td>\n",
       "      <td>6.5</td>\n",
       "      <td>12.0</td>\n",
       "      <td>0.0</td>\n",
       "      <td>-24.0</td>\n",
       "      <td>0.0</td>\n",
       "    </tr>\n",
       "    <tr>\n",
       "      <th>1</th>\n",
       "      <td>2018-08-14 18:34:12.275449</td>\n",
       "      <td>LSST TEST REVCODE</td>\n",
       "      <td>1.534272e+09</td>\n",
       "      <td>1.534272e+09</td>\n",
       "      <td>0</td>\n",
       "      <td>1</td>\n",
       "      <td>0</td>\n",
       "      <td>5.0</td>\n",
       "      <td>651.2</td>\n",
       "      <td>7.0</td>\n",
       "      <td>...</td>\n",
       "      <td>11.0</td>\n",
       "      <td>34.7</td>\n",
       "      <td>28.0</td>\n",
       "      <td>26.7</td>\n",
       "      <td>10.0</td>\n",
       "      <td>6.5</td>\n",
       "      <td>12.0</td>\n",
       "      <td>0.0</td>\n",
       "      <td>-24.0</td>\n",
       "      <td>0.0</td>\n",
       "    </tr>\n",
       "    <tr>\n",
       "      <th>2</th>\n",
       "      <td>2018-08-14 18:34:12.276372</td>\n",
       "      <td>LSST TEST REVCODE</td>\n",
       "      <td>1.534272e+09</td>\n",
       "      <td>1.534272e+09</td>\n",
       "      <td>0</td>\n",
       "      <td>1</td>\n",
       "      <td>0</td>\n",
       "      <td>5.0</td>\n",
       "      <td>651.3</td>\n",
       "      <td>7.0</td>\n",
       "      <td>...</td>\n",
       "      <td>11.0</td>\n",
       "      <td>34.7</td>\n",
       "      <td>28.0</td>\n",
       "      <td>26.7</td>\n",
       "      <td>10.0</td>\n",
       "      <td>6.5</td>\n",
       "      <td>12.0</td>\n",
       "      <td>0.0</td>\n",
       "      <td>-24.0</td>\n",
       "      <td>0.0</td>\n",
       "    </tr>\n",
       "    <tr>\n",
       "      <th>3</th>\n",
       "      <td>2018-08-14 18:34:12.278053</td>\n",
       "      <td>LSST TEST REVCODE</td>\n",
       "      <td>1.534272e+09</td>\n",
       "      <td>1.534272e+09</td>\n",
       "      <td>0</td>\n",
       "      <td>1</td>\n",
       "      <td>0</td>\n",
       "      <td>5.0</td>\n",
       "      <td>651.2</td>\n",
       "      <td>7.0</td>\n",
       "      <td>...</td>\n",
       "      <td>11.0</td>\n",
       "      <td>34.7</td>\n",
       "      <td>28.0</td>\n",
       "      <td>26.7</td>\n",
       "      <td>10.0</td>\n",
       "      <td>6.5</td>\n",
       "      <td>12.0</td>\n",
       "      <td>0.0</td>\n",
       "      <td>-24.0</td>\n",
       "      <td>0.0</td>\n",
       "    </tr>\n",
       "    <tr>\n",
       "      <th>4</th>\n",
       "      <td>2018-08-14 18:34:12.279707</td>\n",
       "      <td>LSST TEST REVCODE</td>\n",
       "      <td>1.534272e+09</td>\n",
       "      <td>1.534272e+09</td>\n",
       "      <td>0</td>\n",
       "      <td>1</td>\n",
       "      <td>0</td>\n",
       "      <td>5.0</td>\n",
       "      <td>651.3</td>\n",
       "      <td>7.0</td>\n",
       "      <td>...</td>\n",
       "      <td>11.0</td>\n",
       "      <td>34.7</td>\n",
       "      <td>28.0</td>\n",
       "      <td>26.7</td>\n",
       "      <td>10.0</td>\n",
       "      <td>6.5</td>\n",
       "      <td>12.0</td>\n",
       "      <td>0.0</td>\n",
       "      <td>-24.0</td>\n",
       "      <td>0.0</td>\n",
       "    </tr>\n",
       "  </tbody>\n",
       "</table>\n",
       "<p>5 rows × 23 columns</p>\n",
       "</div>"
      ],
      "text/plain": [
       "                   date_time    private_revCode  private_sndStamp  \\\n",
       "0 2018-08-14 18:34:12.274374  LSST TEST REVCODE      1.534272e+09   \n",
       "1 2018-08-14 18:34:12.275449  LSST TEST REVCODE      1.534272e+09   \n",
       "2 2018-08-14 18:34:12.276372  LSST TEST REVCODE      1.534272e+09   \n",
       "3 2018-08-14 18:34:12.278053  LSST TEST REVCODE      1.534272e+09   \n",
       "4 2018-08-14 18:34:12.279707  LSST TEST REVCODE      1.534272e+09   \n",
       "\n",
       "   private_rcvStamp  private_seqNum  private_origin  private_host  digital_V  \\\n",
       "0      1.534272e+09               0               1             0        5.0   \n",
       "1      1.534272e+09               0               1             0        5.0   \n",
       "2      1.534272e+09               0               1             0        5.0   \n",
       "3      1.534272e+09               0               1             0        5.0   \n",
       "4      1.534272e+09               0               1             0        5.0   \n",
       "\n",
       "   digital_I  analog_V    ...     clkLow_V  clkLow_I  od_V  od_I  dphi_V  \\\n",
       "0      645.1       7.0    ...         11.0      34.7  28.0  26.7    10.0   \n",
       "1      651.2       7.0    ...         11.0      34.7  28.0  26.7    10.0   \n",
       "2      651.3       7.0    ...         11.0      34.7  28.0  26.7    10.0   \n",
       "3      651.2       7.0    ...         11.0      34.7  28.0  26.7    10.0   \n",
       "4      651.3       7.0    ...         11.0      34.7  28.0  26.7    10.0   \n",
       "\n",
       "   dphi_I  heater_V  heater_I  hvbias_V  hvbias_I  \n",
       "0     6.5      12.0       0.0     -24.0       0.0  \n",
       "1     6.5      12.0       0.0     -24.0       0.0  \n",
       "2     6.5      12.0       0.0     -24.0       0.0  \n",
       "3     6.5      12.0       0.0     -24.0       0.0  \n",
       "4     6.5      12.0       0.0     -24.0       0.0  \n",
       "\n",
       "[5 rows x 23 columns]"
      ]
     },
     "execution_count": 5,
     "metadata": {},
     "output_type": "execute_result"
    }
   ],
   "source": [
    "data_frame.head()"
   ]
  },
  {
   "cell_type": "code",
   "execution_count": 6,
   "metadata": {},
   "outputs": [
    {
     "data": {
      "image/png": "[encoded data removed]",
      "text/plain": [
       "<Figure size 432x288 with 1 Axes>"
      ]
     },
     "metadata": {},
     "output_type": "display_data"
    }
   ],
   "source": [
    "plt.plot(data_frame['date_time'], data_frame['heater_V'], '.')\n",
    "plt.xticks(rotation=45)\n",
    "plt.title('Example plot of data queried from the EFD.')\n",
    "plt.xlabel('Date time')\n",
    "plt.ylabel('Heater_V')\n",
    "plt.grid()"
   ]
  },
  {
   "cell_type": "code",
   "execution_count": 7,
   "metadata": {},
   "outputs": [],
   "source": [
    "b1 = datetime(2018, 9, 4)\n",
    "b2 = datetime(2018, 9, 5)"
   ]
  },
  {
   "cell_type": "code",
   "execution_count": 8,
   "metadata": {},
   "outputs": [],
   "source": [
    "query = 'select * from {0} where {0}.date_time between \\'{1}\\' and \\'{2}\\';'.format(table_name, b1, b2)"
   ]
  },
  {
   "cell_type": "code",
   "execution_count": 9,
   "metadata": {},
   "outputs": [],
   "source": [
    "df1 = pd.read_sql_query(query, engine)"
   ]
  },
  {
   "cell_type": "code",
   "execution_count": 10,
   "metadata": {},
   "outputs": [
    {
     "data": {
      "image/png": "[encoded data removed]",
      "text/plain": [
       "<Figure size 432x288 with 1 Axes>"
      ]
     },
     "metadata": {},
     "output_type": "display_data"
    }
   ],
   "source": [
    "plt.plot(df1['date_time'], df1['heater_V'], '.')\n",
    "plt.xticks(rotation=45)\n",
    "plt.title('Time selected data queried from the EFD.')\n",
    "plt.xlabel('Date time')\n",
    "plt.ylabel('Heater_V')\n",
    "plt.grid()"
   ]
  },
  {
   "cell_type": "code",
   "execution_count": null,
   "metadata": {},
   "outputs": [],
   "source": []
  }
 ],
 "metadata": {
  "kernelspec": {
   "display_name": "Python 3",
   "language": "python",
   "name": "python3"
  },
  "language_info": {
   "codemirror_mode": {
    "name": "ipython",
    "version": 3
   },
   "file_extension": ".py",
   "mimetype": "text/x-python",
   "name": "python",
   "nbconvert_exporter": "python",
   "pygments_lexer": "ipython3",
   "version": "3.6.6"
  }
 },
 "nbformat": 4,
 "nbformat_minor": 2
}
