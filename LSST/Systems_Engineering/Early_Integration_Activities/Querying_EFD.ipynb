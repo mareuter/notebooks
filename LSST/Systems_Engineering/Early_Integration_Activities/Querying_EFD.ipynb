{
 "cells": [
  {
   "cell_type": "code",
   "execution_count": 1,
   "metadata": {},
   "outputs": [],
   "source": [
    "from datetime import datetime\n",
    "import os\n",
    "\n",
    "import MySQLdb as mdb\n",
    "from sqlalchemy.ext.automap import automap_base\n",
    "from sqlalchemy.orm import Session\n",
    "from sqlalchemy import create_engine, text"
   ]
  },
  {
   "cell_type": "code",
   "execution_count": 2,
   "metadata": {},
   "outputs": [],
   "source": [
    "Base = automap_base()"
   ]
  },
  {
   "cell_type": "code",
   "execution_count": 3,
   "metadata": {},
   "outputs": [],
   "source": [
    "def create_connection():\n",
    "    default_file = os.path.join(os.path.expanduser('~/'), '.atefd.cnf')\n",
    "    return mdb.connect(read_default_file=default_file, db='EFD')\n",
    "engine = create_engine('mysql+mysqldb://', creator=create_connection)"
   ]
  },
  {
   "cell_type": "code",
   "execution_count": 4,
   "metadata": {},
   "outputs": [],
   "source": [
    "Base.prepare(engine, reflect=True)"
   ]
  },
  {
   "cell_type": "code",
   "execution_count": 5,
   "metadata": {},
   "outputs": [],
   "source": [
    "csc_list = \"atArchiver atcamera atHeaderService\".split()\n",
    "start_map = \"command_start logevent_SummaryState logevent_AppliedSettingsMatchStart\".split()\n",
    "start_extra = \"SettingsApplied\""
   ]
  },
  {
   "cell_type": "code",
   "execution_count": 7,
   "metadata": {},
   "outputs": [],
   "source": [
    "start_tables = []\n",
    "for table_name, table_obj in Base.classes.items():\n",
    "    csc_name = table_name.split('_')[0]\n",
    "    if csc_name not in csc_list:\n",
    "        continue\n",
    "    signal = '_'.join(table_name.split('_')[1:])\n",
    "    if signal in start_map or start_extra in signal:\n",
    "        start_tables.append(table_obj)"
   ]
  },
  {
   "cell_type": "code",
   "execution_count": 8,
   "metadata": {},
   "outputs": [
    {
     "name": "stdout",
     "output_type": "stream",
     "text": [
      "[<class 'sqlalchemy.ext.automap.atArchiver_command_start'>, <class 'sqlalchemy.ext.automap.atArchiver_logevent_AppliedSettingsMatchStart'>, <class 'sqlalchemy.ext.automap.atArchiver_logevent_SettingsApplied'>, <class 'sqlalchemy.ext.automap.atArchiver_logevent_SummaryState'>, <class 'sqlalchemy.ext.automap.atHeaderService_command_start'>, <class 'sqlalchemy.ext.automap.atHeaderService_logevent_AppliedSettingsMatchStart'>, <class 'sqlalchemy.ext.automap.atHeaderService_logevent_SettingsApplied'>, <class 'sqlalchemy.ext.automap.atHeaderService_logevent_SummaryState'>, <class 'sqlalchemy.ext.automap.atcamera_command_start'>, <class 'sqlalchemy.ext.automap.atcamera_logevent_AppliedSettingsMatchStart'>, <class 'sqlalchemy.ext.automap.atcamera_logevent_BonnShutterSettingsApplied'>, <class 'sqlalchemy.ext.automap.atcamera_logevent_SettingsApplied'>, <class 'sqlalchemy.ext.automap.atcamera_logevent_SummaryState'>, <class 'sqlalchemy.ext.automap.atcamera_logevent_WREBSettingsApplied'>]\n"
     ]
    }
   ],
   "source": [
    "#print(start_tables)"
   ]
  },
  {
   "cell_type": "code",
   "execution_count": 9,
   "metadata": {},
   "outputs": [],
   "source": [
    "#atHeaderService_command_standby = Base.classes.get('atHeaderService_command_standby')"
   ]
  },
  {
   "cell_type": "code",
   "execution_count": 10,
   "metadata": {},
   "outputs": [],
   "source": [
    "session = Session(engine)"
   ]
  },
  {
   "cell_type": "code",
   "execution_count": 15,
   "metadata": {},
   "outputs": [
    {
     "name": "stdout",
     "output_type": "stream",
     "text": [
      "<class 'sqlalchemy.ext.automap.atArchiver_command_start'>\n",
      "<class 'sqlalchemy.ext.automap.atArchiver_logevent_AppliedSettingsMatchStart'>\n",
      "<class 'sqlalchemy.ext.automap.atArchiver_logevent_SettingsApplied'>\n",
      "<class 'sqlalchemy.ext.automap.atArchiver_logevent_SummaryState'>\n",
      "<class 'sqlalchemy.ext.automap.atHeaderService_command_start'>\n",
      "<class 'sqlalchemy.ext.automap.atHeaderService_logevent_AppliedSettingsMatchStart'>\n",
      "<class 'sqlalchemy.ext.automap.atHeaderService_logevent_SettingsApplied'>\n",
      "<class 'sqlalchemy.ext.automap.atHeaderService_logevent_SummaryState'>\n",
      "<class 'sqlalchemy.ext.automap.atcamera_command_start'>\n",
      "<class 'sqlalchemy.ext.automap.atcamera_logevent_AppliedSettingsMatchStart'>\n",
      "<class 'sqlalchemy.ext.automap.atcamera_logevent_BonnShutterSettingsApplied'>\n",
      "<class 'sqlalchemy.ext.automap.atcamera_logevent_SettingsApplied'>\n",
      "<class 'sqlalchemy.ext.automap.atcamera_logevent_SummaryState'>\n",
      "<class 'sqlalchemy.ext.automap.atcamera_logevent_WREBSettingsApplied'>\n"
     ]
    }
   ],
   "source": [
    "results = []\n",
    "for start_table in start_tables:\n",
    "    print(start_table)\n",
    "    results.append(session.query(start_table).all())"
   ]
  },
  {
   "cell_type": "code",
   "execution_count": 18,
   "metadata": {},
   "outputs": [
    {
     "name": "stdout",
     "output_type": "stream",
     "text": [
      "<sqlalchemy.ext.automap.atArchiver_command_start object at 0x10fdeb9e8>\n"
     ]
    }
   ],
   "source": [
    "print(results[0][0])"
   ]
  },
  {
   "cell_type": "code",
   "execution_count": 23,
   "metadata": {},
   "outputs": [
    {
     "data": {
      "text/plain": [
       "['__and__',\n",
       " '__bool__',\n",
       " '__class__',\n",
       " '__delattr__',\n",
       " '__dict__',\n",
       " '__dir__',\n",
       " '__doc__',\n",
       " '__eq__',\n",
       " '__format__',\n",
       " '__ge__',\n",
       " '__getattribute__',\n",
       " '__getstate__',\n",
       " '__gt__',\n",
       " '__hash__',\n",
       " '__init__',\n",
       " '__init_subclass__',\n",
       " '__invert__',\n",
       " '__le__',\n",
       " '__lt__',\n",
       " '__module__',\n",
       " '__ne__',\n",
       " '__new__',\n",
       " '__nonzero__',\n",
       " '__or__',\n",
       " '__reduce__',\n",
       " '__reduce_ex__',\n",
       " '__repr__',\n",
       " '__setattr__',\n",
       " '__sizeof__',\n",
       " '__str__',\n",
       " '__subclasshook__',\n",
       " '__visit_name__',\n",
       " '__weakref__',\n",
       " '_annotate',\n",
       " '_annotations',\n",
       " '_autoincrement_column',\n",
       " '_autoload',\n",
       " '_clone',\n",
       " '_cloned_set',\n",
       " '_cols_populated',\n",
       " '_columns',\n",
       " '_compiler',\n",
       " '_compiler_dispatch',\n",
       " '_constructor',\n",
       " '_copy_internals',\n",
       " '_deannotate',\n",
       " '_execute_on_connection',\n",
       " '_extra_dependencies',\n",
       " '_extra_kwargs',\n",
       " '_from_objects',\n",
       " '_hide_froms',\n",
       " '_init',\n",
       " '_init_collections',\n",
       " '_init_existing',\n",
       " '_init_items',\n",
       " '_is_clone_of',\n",
       " '_is_from_container',\n",
       " '_is_join',\n",
       " '_is_lexical_equivalent',\n",
       " '_is_select',\n",
       " '_kw_reg_for_dialect',\n",
       " '_kw_reg_for_dialect_cls',\n",
       " '_kw_registry',\n",
       " '_memoized_property',\n",
       " '_negate',\n",
       " '_order_by_label_element',\n",
       " '_params',\n",
       " '_populate_column_collection',\n",
       " '_prefixes',\n",
       " '_refresh_for_new_column',\n",
       " '_reset_exported',\n",
       " '_schema_item_copy',\n",
       " '_select_iterable',\n",
       " '_set_parent',\n",
       " '_set_parent_with_dispatch',\n",
       " '_sorted_constraints',\n",
       " '_textual',\n",
       " '_translate_schema',\n",
       " '_validate_dialect_kwargs',\n",
       " '_with_annotations',\n",
       " 'add_is_dependent_on',\n",
       " 'alias',\n",
       " 'append_column',\n",
       " 'append_constraint',\n",
       " 'append_ddl_listener',\n",
       " 'argument_for',\n",
       " 'bind',\n",
       " 'c',\n",
       " 'columns',\n",
       " 'comment',\n",
       " 'compare',\n",
       " 'compile',\n",
       " 'constraints',\n",
       " 'correspond_on_equivalents',\n",
       " 'corresponding_column',\n",
       " 'count',\n",
       " 'create',\n",
       " 'delete',\n",
       " 'description',\n",
       " 'dialect_kwargs',\n",
       " 'dialect_options',\n",
       " 'dispatch',\n",
       " 'drop',\n",
       " 'exists',\n",
       " 'foreign_key_constraints',\n",
       " 'foreign_keys',\n",
       " 'fullname',\n",
       " 'get_children',\n",
       " 'implicit_returning',\n",
       " 'indexes',\n",
       " 'info',\n",
       " 'insert',\n",
       " 'is_clause_element',\n",
       " 'is_derived_from',\n",
       " 'is_selectable',\n",
       " 'join',\n",
       " 'key',\n",
       " 'kwargs',\n",
       " 'lateral',\n",
       " 'metadata',\n",
       " 'name',\n",
       " 'named_with_column',\n",
       " 'outerjoin',\n",
       " 'params',\n",
       " 'primary_key',\n",
       " 'quote',\n",
       " 'quote_schema',\n",
       " 'replace_selectable',\n",
       " 'schema',\n",
       " 'select',\n",
       " 'selectable',\n",
       " 'self_group',\n",
       " 'supports_execution',\n",
       " 'tablesample',\n",
       " 'tometadata',\n",
       " 'unique_params',\n",
       " 'update']"
      ]
     },
     "execution_count": 23,
     "metadata": {},
     "output_type": "execute_result"
    }
   ],
   "source": [
    "dir(start_tables[0].__table__)"
   ]
  },
  {
   "cell_type": "code",
   "execution_count": 7,
   "metadata": {},
   "outputs": [],
   "source": [
    "rows = session.query(atHeaderService_command_standby).all()"
   ]
  },
  {
   "cell_type": "code",
   "execution_count": 8,
   "metadata": {},
   "outputs": [
    {
     "name": "stdout",
     "output_type": "stream",
     "text": [
      "2018-07-19 18:39:39.477610 0\n"
     ]
    }
   ],
   "source": [
    "for row in rows:\n",
    "    print(row.date_time, row.standby)"
   ]
  },
  {
   "cell_type": "code",
   "execution_count": 9,
   "metadata": {},
   "outputs": [],
   "source": [
    "atHeaderService_logevent_SummaryState = Base.classes.get('atHeaderService_logevent_SummaryState')"
   ]
  },
  {
   "cell_type": "code",
   "execution_count": 10,
   "metadata": {},
   "outputs": [],
   "source": [
    "rows = session.query(atHeaderService_logevent_SummaryState).all()"
   ]
  },
  {
   "cell_type": "code",
   "execution_count": 11,
   "metadata": {},
   "outputs": [
    {
     "name": "stdout",
     "output_type": "stream",
     "text": [
      "2018-07-19 17:56:17.123018 3\n",
      "2018-07-19 18:06:04.639161 2\n",
      "2018-07-19 18:06:10.139863 1\n",
      "2018-07-19 18:06:13.284573 0\n",
      "2018-07-19 18:10:04.904901 0\n",
      "2018-07-19 18:12:41.093856 0\n",
      "2018-07-19 18:37:04.413887 1\n",
      "2018-07-19 18:37:08.416168 2\n",
      "2018-07-19 18:37:10.532984 3\n",
      "2018-07-19 18:39:31.448269 2\n",
      "2018-07-19 18:39:39.953270 1\n",
      "2018-07-19 18:39:43.112076 0\n"
     ]
    }
   ],
   "source": [
    "for row in rows:\n",
    "    print(row.date_time, row.summaryState)"
   ]
  },
  {
   "cell_type": "code",
   "execution_count": 12,
   "metadata": {},
   "outputs": [],
   "source": []
  },
  {
   "cell_type": "code",
   "execution_count": 13,
   "metadata": {},
   "outputs": [],
   "source": []
  },
  {
   "cell_type": "code",
   "execution_count": 22,
   "metadata": {},
   "outputs": [
    {
     "data": {
      "text/plain": [
       "['__class__',\n",
       " '__contains__',\n",
       " '__delattr__',\n",
       " '__dict__',\n",
       " '__dir__',\n",
       " '__doc__',\n",
       " '__eq__',\n",
       " '__format__',\n",
       " '__ge__',\n",
       " '__getattribute__',\n",
       " '__getstate__',\n",
       " '__gt__',\n",
       " '__hash__',\n",
       " '__init__',\n",
       " '__init_subclass__',\n",
       " '__le__',\n",
       " '__lt__',\n",
       " '__module__',\n",
       " '__ne__',\n",
       " '__new__',\n",
       " '__reduce__',\n",
       " '__reduce_ex__',\n",
       " '__repr__',\n",
       " '__setattr__',\n",
       " '__setstate__',\n",
       " '__sizeof__',\n",
       " '__str__',\n",
       " '__subclasshook__',\n",
       " '__visit_name__',\n",
       " '__weakref__',\n",
       " '_add_table',\n",
       " '_bind',\n",
       " '_bind_to',\n",
       " '_compiler_dispatch',\n",
       " '_fk_memos',\n",
       " '_init_items',\n",
       " '_remove_table',\n",
       " '_schema_item_copy',\n",
       " '_schemas',\n",
       " '_sequences',\n",
       " '_set_parent',\n",
       " '_set_parent_with_dispatch',\n",
       " '_translate_schema',\n",
       " 'append_ddl_listener',\n",
       " 'bind',\n",
       " 'clear',\n",
       " 'create_all',\n",
       " 'dispatch',\n",
       " 'drop_all',\n",
       " 'get_children',\n",
       " 'info',\n",
       " 'is_bound',\n",
       " 'naming_convention',\n",
       " 'quote',\n",
       " 'reflect',\n",
       " 'remove',\n",
       " 'schema',\n",
       " 'sorted_tables',\n",
       " 'tables']"
      ]
     },
     "execution_count": 22,
     "metadata": {},
     "output_type": "execute_result"
    }
   ],
   "source": [
    "dir(atHeaderService_logevent_SummaryState.metadata)"
   ]
  },
  {
   "cell_type": "code",
   "execution_count": 14,
   "metadata": {},
   "outputs": [],
   "source": [
    "b1 = datetime(2018, 7, 19, 17, 56, 0)\n",
    "b2 = datetime(2018, 7, 19, 18, 7, 0)"
   ]
  },
  {
   "cell_type": "code",
   "execution_count": 33,
   "metadata": {},
   "outputs": [
    {
     "name": "stdout",
     "output_type": "stream",
     "text": [
      "atHeaderService_logevent_SummaryState.date_time between '2018-07-19 17:56:00' and '2018-07-19 18:07:00'\n"
     ]
    }
   ],
   "source": [
    "table_name = 'atHeaderService_logevent_SummaryState'\n",
    "clause = \"{}.date_time between \\'{}\\' and \\'{}\\'\".format(table_name, b1, b2)\n",
    "print(clause)"
   ]
  },
  {
   "cell_type": "code",
   "execution_count": 42,
   "metadata": {},
   "outputs": [],
   "source": [
    "#session.rollback()"
   ]
  },
  {
   "cell_type": "code",
   "execution_count": 43,
   "metadata": {},
   "outputs": [],
   "source": [
    "rows = session.query(atHeaderService_logevent_SummaryState).filter(text(clause)).all()"
   ]
  },
  {
   "cell_type": "code",
   "execution_count": 44,
   "metadata": {},
   "outputs": [
    {
     "name": "stdout",
     "output_type": "stream",
     "text": [
      "2018-07-19 17:56:17.123018 3\n",
      "2018-07-19 18:06:04.639161 2\n",
      "2018-07-19 18:06:10.139863 1\n",
      "2018-07-19 18:06:13.284573 0\n"
     ]
    }
   ],
   "source": [
    "for row in rows:\n",
    "    print(row.date_time, row.summaryState)"
   ]
  },
  {
   "cell_type": "code",
   "execution_count": null,
   "metadata": {},
   "outputs": [],
   "source": []
  }
 ],
 "metadata": {
  "kernelspec": {
   "display_name": "Python 3",
   "language": "python",
   "name": "python3"
  },
  "language_info": {
   "codemirror_mode": {
    "name": "ipython",
    "version": 3
   },
   "file_extension": ".py",
   "mimetype": "text/x-python",
   "name": "python",
   "nbconvert_exporter": "python",
   "pygments_lexer": "ipython3",
   "version": "3.6.6"
  }
 },
 "nbformat": 4,
 "nbformat_minor": 2
}
