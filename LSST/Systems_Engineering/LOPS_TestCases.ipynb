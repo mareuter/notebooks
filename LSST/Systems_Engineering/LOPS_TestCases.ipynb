{
 "cells": [
  {
   "cell_type": "code",
   "execution_count": 1,
   "metadata": {
    "collapsed": true
   },
   "outputs": [],
   "source": [
    "import json\n",
    "import os\n",
    "import requests"
   ]
  },
  {
   "cell_type": "code",
   "execution_count": 2,
   "metadata": {
    "collapsed": true
   },
   "outputs": [],
   "source": [
    "def printResponse(r):\n",
    "    print('{} {}\\n'.format(json.dumps(r.json(), sort_keys=True, indent=4, separators=(',', ': ')), r))"
   ]
  },
  {
   "cell_type": "code",
   "execution_count": 3,
   "metadata": {
    "collapsed": true
   },
   "outputs": [],
   "source": [
    "token_file = os.path.join(os.path.expanduser(\"~/\"), \".jira_auth\")\n",
    "with open(token_file, 'r') as fd:\n",
    "    uname = fd.readline().strip()  # Can't hurt to be paranoid\n",
    "    pwd = fd.readline().strip()"
   ]
  },
  {
   "cell_type": "code",
   "execution_count": 12,
   "metadata": {
    "collapsed": true
   },
   "outputs": [],
   "source": [
    "SERVER = \"https://jira.lsstcorp.org/\"\n",
    "JIRA_REST_API = \"rest/api/2/\"\n",
    "ATM_REST_API = \"rest/atm/1.0/\"\n",
    "JSON_TYPE={'Content-Type':'application/json'}"
   ]
  },
  {
   "cell_type": "code",
   "execution_count": 14,
   "metadata": {
    "collapsed": false
   },
   "outputs": [
    {
     "name": "stdout",
     "output_type": "stream",
     "text": [
      "https://jira.lsstcorp.org/rest/atm/1.0/issuelink/LOPS-12/testcases\n",
      "[\n",
      "    {\n",
      "        \"issueLinks\": [\n",
      "            \"LOPS-12\",\n",
      "            \"LOPS-13\",\n",
      "            \"LOPS-14\"\n",
      "        ],\n",
      "        \"key\": \"LOPS-T5\",\n",
      "        \"lastTestResultStatus\": {\n",
      "            \"color\": \"#df2f36\",\n",
      "            \"group\": \"TEST_RESULT_STATUS\",\n",
      "            \"i18nKey\": \"TEST_RESULT.STATUS.FAIL\",\n",
      "            \"id\": 23,\n",
      "            \"index\": 3,\n",
      "            \"isDefault\": false,\n",
      "            \"name\": \"Fail\",\n",
      "            \"projectKey\": \"LOPS\"\n",
      "        },\n",
      "        \"name\": \"Camera Filter Test Swap\",\n",
      "        \"owner\": \"bselvy\",\n",
      "        \"precondition\": \"Camera re-verification testing on summit complete.<br>Camera interface testing complete.<br>Camera on-telescope functional testing complete.\",\n",
      "        \"priority\": \"Normal\",\n",
      "        \"projectKey\": \"LOPS\",\n",
      "        \"status\": \"Draft\",\n",
      "        \"testScript\": {\n",
      "            \"id\": 5,\n",
      "            \"steps\": [\n",
      "                {\n",
      "                    \"description\": \"Verify Camera is in Enabled state\",\n",
      "                    \"expectedResult\": \"\",\n",
      "                    \"id\": 7,\n",
      "                    \"index\": 0,\n",
      "                    \"testData\": \"OCS received event showing camera is in enabled state\"\n",
      "                },\n",
      "                {\n",
      "                    \"description\": \"Verify set of Camera filters currently loaded.\",\n",
      "                    \"expectedResult\": \"The rest of the test script assumes u,g,r,i,z are loaded\",\n",
      "                    \"id\": 8,\n",
      "                    \"index\": 1,\n",
      "                    \"testData\": \"receive list of loaded filters.\"\n",
      "                },\n",
      "                {\n",
      "                    \"description\": \"OCS send setFilter{u} command\",\n",
      "                    \"id\": 9,\n",
      "                    \"index\": 2,\n",
      "                    \"testData\": \"<ol><li>Camera sends and OCS receives event showing command was received.</li><li>Camera sends and OCS receives event showing camera moved filter to u filter and it is in the loaded configuration.</li></ol>\"\n",
      "                },\n",
      "                {\n",
      "                    \"description\": \"OCS send setFilter{g} command\",\n",
      "                    \"id\": 10,\n",
      "                    \"index\": 3,\n",
      "                    \"testData\": \"<ol><li>Camera sends and OCS receives event showing command was received.</li><li>Camera sends and OCS receives event showing camera moved filter to g filter and it is in the loaded configuration.</li></ol>\"\n",
      "                },\n",
      "                {\n",
      "                    \"description\": \"OCS send setFilter{r} command\",\n",
      "                    \"id\": 11,\n",
      "                    \"index\": 4,\n",
      "                    \"testData\": \"<ol><li>Camera sends and OCS receives event showing command was received.</li><li>Camera sends and OCS receives event showing camera moved filter to r filter and it is in the loaded configuration.</li></ol>\"\n",
      "                },\n",
      "                {\n",
      "                    \"description\": \"OCS send setFilter{i} command\",\n",
      "                    \"id\": 12,\n",
      "                    \"index\": 5,\n",
      "                    \"testData\": \"<ol><li>Camera sends and OCS receives event showing command was received.</li><li>Camera sends and OCS receives event showing camera moved filter to i filter and it is in the loaded configuration.</li></ol>\"\n",
      "                },\n",
      "                {\n",
      "                    \"description\": \"OCS send setFilter{z} command\",\n",
      "                    \"id\": 13,\n",
      "                    \"index\": 6,\n",
      "                    \"testData\": \"<ol><li>Camera sends and OCS receives event showing command was received.</li><li>Camera sends and OCS receives event showing camera moved filter to z filter and it is in the loaded configuration.</li></ol>\"\n",
      "                }\n",
      "            ],\n",
      "            \"type\": \"STEP_BY_STEP\"\n",
      "        }\n",
      "    }\n",
      "] <Response [200]>\n",
      "\n"
     ]
    }
   ],
   "source": [
    "ticket = \"LOPS-12\"\n",
    "#url = SERVER + JIRA_REST_API + \"issue/\" + ticket\n",
    "url = SERVER + ATM_REST_API + \"issuelink/\" + ticket + \"/testcases\"\n",
    "print(url)\n",
    "r = requests.get(url, auth=(uname, pwd))\n",
    "#print(r)\n",
    "printResponse(r)"
   ]
  },
  {
   "cell_type": "code",
   "execution_count": 19,
   "metadata": {
    "collapsed": false
   },
   "outputs": [
    {
     "data": {
      "text/plain": [
       "1"
      ]
     },
     "execution_count": 19,
     "metadata": {},
     "output_type": "execute_result"
    }
   ],
   "source": [
    "len(r.json())"
   ]
  },
  {
   "cell_type": "code",
   "execution_count": 20,
   "metadata": {
    "collapsed": false
   },
   "outputs": [
    {
     "data": {
      "text/plain": [
       "'Draft'"
      ]
     },
     "execution_count": 20,
     "metadata": {},
     "output_type": "execute_result"
    }
   ],
   "source": [
    "r.json()[0]['status']"
   ]
  },
  {
   "cell_type": "code",
   "execution_count": null,
   "metadata": {
    "collapsed": true
   },
   "outputs": [],
   "source": []
  }
 ],
 "metadata": {
  "kernelspec": {
   "display_name": "Python 3",
   "language": "python",
   "name": "python3"
  },
  "language_info": {
   "codemirror_mode": {
    "name": "ipython",
    "version": 3
   },
   "file_extension": ".py",
   "mimetype": "text/x-python",
   "name": "python",
   "nbconvert_exporter": "python",
   "pygments_lexer": "ipython3",
   "version": "3.5.2"
  }
 },
 "nbformat": 4,
 "nbformat_minor": 0
}
