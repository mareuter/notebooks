{
 "cells": [
  {
   "cell_type": "code",
   "execution_count": null,
   "metadata": {},
   "outputs": [],
   "source": [
    "from datetime import datetime\n",
    "import getpass\n",
    "import requests\n",
    "import time\n",
    "\n",
    "from astropy import units as u\n",
    "import numpy as np\n",
    "\n",
    "import lsst.verify"
   ]
  },
  {
   "cell_type": "code",
   "execution_count": null,
   "metadata": {},
   "outputs": [],
   "source": [
    "METRIC_PACKAGE = \"sysver_metrics\"\n",
    "METRIC_NAME = \"camera.CameraBodySurfaceTemp\"\n",
    "SQUASH_API_URL = \"https://squash-restful-api-sandbox.lsst.codes\""
   ]
  },
  {
   "cell_type": "code",
   "execution_count": null,
   "metadata": {},
   "outputs": [],
   "source": [
    "username = getpass.getuser()\n",
    "password = getpass.getpass(prompt='Password for user `{}`: '.format(username))"
   ]
  },
  {
   "cell_type": "code",
   "execution_count": null,
   "metadata": {},
   "outputs": [],
   "source": [
    "credentials = {'username': username, 'password': password}\n",
    "r = requests.post('{}/auth'.format(SQUASH_API_URL), json=credentials)\n",
    "#r.json()"
   ]
  },
  {
   "cell_type": "code",
   "execution_count": null,
   "metadata": {},
   "outputs": [],
   "source": [
    "headers = {'Authorization': 'JWT {}'.format(r.json()['access_token'])}"
   ]
  },
  {
   "cell_type": "code",
   "execution_count": null,
   "metadata": {},
   "outputs": [],
   "source": [
    "# Load the entire package\n",
    "sysver_metrics = lsst.verify.MetricSet.load_metrics_package(METRIC_PACKAGE)\n",
    "#sysver_metrics\n",
    "r = requests.post('{}/metrics'.format(SQUASH_API_URL), json={'metrics': sysver_metrics.json}, headers=headers)\n",
    "print(r.json())"
   ]
  },
  {
   "cell_type": "code",
   "execution_count": null,
   "metadata": {},
   "outputs": [],
   "source": [
    "# This is how specifications for metrics are read\n",
    "sysver_specs = lsst.verify.SpecificationSet.load_metrics_package(METRIC_PACKAGE)\n",
    "#sysver_specs\n",
    "r = requests.post('{}/specs'.format(SQUASH_API_URL), json={'specs': sysver_specs.json}, headers=headers)\n",
    "print(r.json())"
   ]
  },
  {
   "cell_type": "code",
   "execution_count": null,
   "metadata": {},
   "outputs": [],
   "source": [
    "def measure_temperature(temperature_offset=None, percentage=0.1):\n",
    "    # Parameters for a Gaussian temparature distribution\n",
    "    mu = 10 # Celsius\n",
    "    sigma = 0.1 # Celsius\n",
    "    num_measurements = 1000\n",
    "\n",
    "    temp = np.random.normal(mu, sigma, num_measurements) * u.deg_C\n",
    "    \n",
    "    if temperature_offset is not None:\n",
    "        frac = int(percentage * num_measurements)\n",
    "        value = np.random.randint(0, num_measurements, frac)\n",
    "        indexes = np.unique(value)\n",
    "        temp[indexes] += temperature_offset * u.deg_C\n",
    "    \n",
    "    avg_temp = np.mean(temp)\n",
    "    return avg_temp, temp"
   ]
  },
  {
   "cell_type": "code",
   "execution_count": null,
   "metadata": {},
   "outputs": [],
   "source": [
    "do_ramp = False\n",
    "iteration = 1\n",
    "temperature_ramp = 0.75\n",
    "fraction_ramp = 0.4\n",
    "temperature_offset = temperature_ramp * iteration if do_ramp else None\n",
    "fraction_change = fraction_ramp * iteration if do_ramp else fraction_ramp"
   ]
  },
  {
   "cell_type": "code",
   "execution_count": null,
   "metadata": {},
   "outputs": [],
   "source": [
    "average_temperature, temperature_data = measure_temperature(temperature_offset, fraction_change)\n",
    "positions = np.arange(0, 1000, 20) * u.millimeter\n",
    "angles = np.arange(0, 360.0, 18.0) * u.deg\n",
    "body_position, body_angle = np.meshgrid(positions, angles)\n",
    "avg_temp_meas = lsst.verify.Measurement(METRIC_NAME, average_temperature)\n",
    "avg_temp_meas.notes['estimator'] = 'numpy.mean'\n",
    "avg_temp_meas.extras['cameraBody_temperature_grid'] = lsst.verify.Datum(temperature_data,\n",
    "                                                                        label='Surface Temperature',\n",
    "                                                                        description='Grid of Camera body surface temperatures')\n",
    "avg_temp_meas.extras['cameraBody_positions'] = lsst.verify.Datum(body_position.flatten(),\n",
    "                                                                 label='Body Position',\n",
    "                                                                 description='Location of sensor positions along Camera body')\n",
    "avg_temp_meas.extras['cameraBody_angles'] = lsst.verify.Datum(body_angle.flatten(),\n",
    "                                                              label='Body Angle',\n",
    "                                                              description='Location of sensor positions along Camera circumference')"
   ]
  },
  {
   "cell_type": "code",
   "execution_count": null,
   "metadata": {},
   "outputs": [],
   "source": [
    "job = lsst.verify.Job()\n",
    "job.metrics.update(sysver_metrics)\n",
    "job.specs.update(sysver_specs)\n",
    "job.measurements.insert(avg_temp_meas)\n",
    "outfile = \"sysver_{}.json\".format(datetime.now().strftime(\"%Y%m%d_%H%M%S\"))\n",
    "job.write(outfile)"
   ]
  },
  {
   "cell_type": "code",
   "execution_count": null,
   "metadata": {},
   "outputs": [],
   "source": [
    "#job.dispatch(api_user=username, api_password=password, api_url=SQUASH_API_URL)"
   ]
  },
  {
   "cell_type": "code",
   "execution_count": null,
   "metadata": {},
   "outputs": [],
   "source": [
    "%%bash -s \"$SQUASH_API_URL\" \"$username\" \"$password\" \"$outfile\"\n",
    "export DYLD_LIBRARY_PATH=$LSST_LIBRARY_PATH\n",
    "dispatch_verify.py --ignore-lsstsw --url $1 --user $2 --password $3 $4"
   ]
  },
  {
   "cell_type": "code",
   "execution_count": null,
   "metadata": {},
   "outputs": [],
   "source": []
  }
 ],
 "metadata": {
  "kernelspec": {
   "display_name": "Python 3",
   "language": "python",
   "name": "python3"
  },
  "language_info": {
   "codemirror_mode": {
    "name": "ipython",
    "version": 3
   },
   "file_extension": ".py",
   "mimetype": "text/x-python",
   "name": "python",
   "nbconvert_exporter": "python",
   "pygments_lexer": "ipython3",
   "version": "3.6.2"
  }
 },
 "nbformat": 4,
 "nbformat_minor": 2
}
