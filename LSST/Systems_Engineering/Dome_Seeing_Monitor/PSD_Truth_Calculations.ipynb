{
 "cells": [
  {
   "cell_type": "code",
   "execution_count": 1,
   "metadata": {},
   "outputs": [],
   "source": [
    "import matplotlib as plt\n",
    "import numpy as np\n",
    "from scipy.fftpack import fftfreq, rfft, fft"
   ]
  },
  {
   "cell_type": "code",
   "execution_count": 2,
   "metadata": {},
   "outputs": [],
   "source": [
    "np.random.seed(2000)"
   ]
  },
  {
   "cell_type": "code",
   "execution_count": 3,
   "metadata": {},
   "outputs": [],
   "source": [
    "#L = 10\n",
    "#x = np.random.normal(250.0, 1.0, L)\n",
    "#y = np.random.normal(320.0, 1.0, L)\n",
    "\n",
    "#mean_x = np.mean(x)\n",
    "#mean_y = np.mean(y)\n",
    "\n",
    "#x_fft = rfft(x - mean_x)\n",
    "#y_fft = rfft(y - mean_y)\n",
    "\n",
    "#fps = 2.0\n",
    "#freqs = fftfreq(x.size, 1 / fps)\n",
    "\n",
    "#scale = 20.0\n",
    "#dslice = slice(1, L // 2)\n",
    "\n",
    "#fs = freqs[dslice]\n",
    "#xf = scale * np.log10(x_fft[dslice])\n",
    "#yf = scale * np.log10(y_fft[dslice])"
   ]
  },
  {
   "cell_type": "code",
   "execution_count": 4,
   "metadata": {},
   "outputs": [],
   "source": [
    "def calc_psd(vals, N, dt):\n",
    "    temp = np.abs(fft(vals))**2 * dt / N\n",
    "    psd = temp[:N//2]\n",
    "    psd += temp[-1:-N//2 - 1:-1]\n",
    "    return psd[1:]"
   ]
  },
  {
   "cell_type": "code",
   "execution_count": 5,
   "metadata": {},
   "outputs": [],
   "source": [
    "L = 10\n",
    "fps = 2.0\n",
    "dt = 1 / fps\n",
    "x = np.random.normal(250.0, 1.0, L)\n",
    "y = np.random.normal(320.0, 1.0, L)\n",
    "\n",
    "delta_f = fps / L\n",
    "psd_x = calc_psd(x, L, dt)\n",
    "psd_y = calc_psd(y, L, dt)\n",
    "\n",
    "freq = delta_f * np.arange(L//2)\n",
    "freq = freq[1:]"
   ]
  },
  {
   "cell_type": "code",
   "execution_count": 6,
   "metadata": {},
   "outputs": [
    {
     "data": {
      "text/plain": [
       "array([0.2, 0.4, 0.6, 0.8])"
      ]
     },
     "execution_count": 6,
     "metadata": {},
     "output_type": "execute_result"
    }
   ],
   "source": [
    "freq"
   ]
  },
  {
   "cell_type": "code",
   "execution_count": 7,
   "metadata": {},
   "outputs": [
    {
     "data": {
      "text/plain": [
       "array([1.3022891 , 2.4072877 , 2.96332612, 1.13724273])"
      ]
     },
     "execution_count": 7,
     "metadata": {},
     "output_type": "execute_result"
    }
   ],
   "source": [
    "psd_x"
   ]
  },
  {
   "cell_type": "code",
   "execution_count": 8,
   "metadata": {},
   "outputs": [
    {
     "data": {
      "text/plain": [
       "array([0.41251254, 0.51454309, 0.56978575, 2.22593171])"
      ]
     },
     "execution_count": 8,
     "metadata": {},
     "output_type": "execute_result"
    }
   ],
   "source": [
    "psd_y"
   ]
  },
  {
   "cell_type": "code",
   "execution_count": null,
   "metadata": {},
   "outputs": [],
   "source": []
  }
 ],
 "metadata": {
  "kernelspec": {
   "display_name": "Python 3",
   "language": "python",
   "name": "python3"
  },
  "language_info": {
   "codemirror_mode": {
    "name": "ipython",
    "version": 3
   },
   "file_extension": ".py",
   "mimetype": "text/x-python",
   "name": "python",
   "nbconvert_exporter": "python",
   "pygments_lexer": "ipython3",
   "version": "3.6.5"
  }
 },
 "nbformat": 4,
 "nbformat_minor": 2
}
