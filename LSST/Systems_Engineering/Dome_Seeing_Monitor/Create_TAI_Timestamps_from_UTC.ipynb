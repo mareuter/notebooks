{
 "cells": [
  {
   "cell_type": "code",
   "execution_count": 1,
   "metadata": {},
   "outputs": [],
   "source": [
    "import calendar\n",
    "import csv\n",
    "\n",
    "from astropy.time import Time\n",
    "\n",
    "MICROSECONDS_TO_SECONDS = 1e-6"
   ]
  },
  {
   "cell_type": "code",
   "execution_count": 2,
   "metadata": {},
   "outputs": [
    {
     "name": "stdout",
     "output_type": "stream",
     "text": [
      "['2019-03-19T17:14:20.377332', '2019-03-19T17:13:44.385889', '2019-03-19T17:14:20.287143', '7.040258724011651', '3.5152249657364583']\n"
     ]
    }
   ],
   "source": [
    "line = None\n",
    "with open('dsm_20190319_171420.dat') as csvfile:\n",
    "    reader = csv.reader(csvfile)\n",
    "    for row in reader:\n",
    "        line = row\n",
    "print(line)"
   ]
  },
  {
   "cell_type": "code",
   "execution_count": 3,
   "metadata": {},
   "outputs": [
    {
     "name": "stdout",
     "output_type": "stream",
     "text": [
      "2019-03-19T17:14:20.377\n"
     ]
    }
   ],
   "source": [
    "t1 = Time(line[0], format='isot', scale='utc')\n",
    "print(t1)"
   ]
  },
  {
   "cell_type": "code",
   "execution_count": 4,
   "metadata": {},
   "outputs": [
    {
     "name": "stdout",
     "output_type": "stream",
     "text": [
      "1553015697.377332\n"
     ]
    }
   ],
   "source": [
    "t2 = calendar.timegm(t1.tai.to_datetime().timetuple()) + t1.datetime.microsecond * MICROSECONDS_TO_SECONDS\n",
    "print(t2)"
   ]
  }
 ],
 "metadata": {
  "kernelspec": {
   "display_name": "Python 3",
   "language": "python",
   "name": "python3"
  },
  "language_info": {
   "codemirror_mode": {
    "name": "ipython",
    "version": 3
   },
   "file_extension": ".py",
   "mimetype": "text/x-python",
   "name": "python",
   "nbconvert_exporter": "python",
   "pygments_lexer": "ipython3",
   "version": "3.6.8"
  }
 },
 "nbformat": 4,
 "nbformat_minor": 2
}
