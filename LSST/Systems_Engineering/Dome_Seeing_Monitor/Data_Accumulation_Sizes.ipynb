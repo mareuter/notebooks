{
 "cells": [
  {
   "cell_type": "code",
   "execution_count": 22,
   "metadata": {},
   "outputs": [],
   "source": [
    "def get_human_size(value):\n",
    "    BYTE_CONV = 1024\n",
    "    SIZE_SUFFIXES = ['B', 'K', 'M', 'G', 'T', 'P']\n",
    "    human_size = None\n",
    "    suffix = None\n",
    "    dval = None\n",
    "    for i in range(len(SIZE_SUFFIXES)):\n",
    "        if value == 0:\n",
    "            dval = value\n",
    "            suffix = 0\n",
    "            break\n",
    "        dval = value / (BYTE_CONV ** i)\n",
    "        if dval < 1.0:\n",
    "            dval = value / (BYTE_CONV ** (i - 1))\n",
    "            suffix = i - 1\n",
    "            break\n",
    "        suffix = i\n",
    "    if dval < 10.0 and dval > 0:\n",
    "        dval_str = \"{:.1f}\".format(dval)\n",
    "    else:\n",
    "        dval_str = \"{}\".format(int(dval))\n",
    "\n",
    "    human_size = \"{:>3s}{}\".format(dval_str, SIZE_SUFFIXES[suffix])\n",
    "    return human_size    "
   ]
  },
  {
   "cell_type": "code",
   "execution_count": 55,
   "metadata": {},
   "outputs": [],
   "source": [
    "FPS = 150\n",
    "BUFFER_SIZE = 1024 * 4\n",
    "COLLECTION_TIME = 12  # hours"
   ]
  },
  {
   "cell_type": "code",
   "execution_count": 56,
   "metadata": {},
   "outputs": [],
   "source": [
    "accumulation_time = BUFFER_SIZE / FPS\n",
    "collection_time_secs = COLLECTION_TIME * 3600\n",
    "num_collections = int(collection_time_secs / accumulation_time)"
   ]
  },
  {
   "cell_type": "code",
   "execution_count": 57,
   "metadata": {},
   "outputs": [],
   "source": [
    "centroid_bytes = 3 * BUFFER_SIZE * 8 * num_collections\n",
    "psd_bytes = 3 * ((BUFFER_SIZE / 2) - 1) * 8 * num_collections"
   ]
  },
  {
   "cell_type": "code",
   "execution_count": 59,
   "metadata": {},
   "outputs": [
    {
     "name": "stdout",
     "output_type": "stream",
     "text": [
      "Accumulation Time: 27.31 sec\n",
      "Number of Collections: 1582\n",
      "Centroid Size: 148M\n",
      "PSD Size:  74M\n"
     ]
    }
   ],
   "source": [
    "print(\"Accumulation Time: {:.2f} sec\".format(accumulation_time))\n",
    "print(\"Number of Collections: {}\".format(num_collections))\n",
    "print(\"Centroid Size: {}\".format(get_human_size(centroid_bytes)))\n",
    "print(\"PSD Size: {}\".format(get_human_size(psd_bytes)))"
   ]
  },
  {
   "cell_type": "code",
   "execution_count": null,
   "metadata": {},
   "outputs": [],
   "source": []
  }
 ],
 "metadata": {
  "kernelspec": {
   "display_name": "Python 3",
   "language": "python",
   "name": "python3"
  },
  "language_info": {
   "codemirror_mode": {
    "name": "ipython",
    "version": 3
   },
   "file_extension": ".py",
   "mimetype": "text/x-python",
   "name": "python",
   "nbconvert_exporter": "python",
   "pygments_lexer": "ipython3",
   "version": "3.6.5"
  }
 },
 "nbformat": 4,
 "nbformat_minor": 2
}
