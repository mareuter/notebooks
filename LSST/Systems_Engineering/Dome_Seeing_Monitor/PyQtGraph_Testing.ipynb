{
 "cells": [
  {
   "cell_type": "code",
   "execution_count": 1,
   "metadata": {},
   "outputs": [],
   "source": [
    "import numpy as np\n",
    "import pyqtgraph as pg\n",
    "import scipy\n",
    "import time\n",
    "%gui qt"
   ]
  },
  {
   "cell_type": "code",
   "execution_count": 2,
   "metadata": {},
   "outputs": [],
   "source": [
    "#data = np.random.normal(size=1000)\n",
    "#pg.plot(data, title=\"Here we go!\")"
   ]
  },
  {
   "cell_type": "code",
   "execution_count": 3,
   "metadata": {},
   "outputs": [],
   "source": [
    "sz = 5\n",
    "bg = np.zeros((sz, sz))\n",
    "#up = np.arange(1, sz + 1)\n",
    "up = np.ones(sz)\n",
    "y = np.arange(sz + 1) * 5\n",
    "x = np.arange(sz + 1) * 1.25\n"
   ]
  },
  {
   "cell_type": "code",
   "execution_count": 15,
   "metadata": {},
   "outputs": [
    {
     "name": "stdout",
     "output_type": "stream",
     "text": [
      "<PyQt5.QtGui.QTransform object at 0x1230c1c88>\n",
      "\n",
      "        Load a predefined gradient. Currently defined gradients are: \n",
      "        odict_keys(['thermal', 'flame', 'yellowy', 'bipolar', 'spectrum', 'cyclic', 'greyclip', 'grey'])\n",
      "(512, 3)\n"
     ]
    }
   ],
   "source": [
    "win = pg.GraphicsLayoutWidget()\n",
    "pg.setConfigOptions(imageAxisOrder='row-major')\n",
    "p1 = win.addPlot()\n",
    "#p1 = win.addViewBox()\n",
    "#p1.setAspectLocked(True)\n",
    "#p1.setXRange(x[0], x[-1])\n",
    "#p1.setYRange(y[0], y[-1])\n",
    "#ax = pg.AxisItem('bottom')\n",
    "#ax.setRange(x[0], x[-1])\n",
    "#ay = pg.AxisItem('left')\n",
    "#ay.setRange(y[0], y[-1])\n",
    "#p1 = win.addPlot(axisItems={'left': ay, 'bottom': ax})\n",
    "#pm = \n",
    "#p1.invertY()\n",
    "img = pg.ImageItem()\n",
    "print(img.dataTransform())\n",
    "#img.translate(1, 0)\n",
    "#img.scale(0.2, 1)\n",
    "#img.translate(-0.8, 0)\n",
    "#p1.autoRange()\n",
    "p1.addItem(img)\n",
    "#p1.addItem(ax)\n",
    "#img = pg.ImageView(view=pg.PlotItem(axisItems={'left': ay, 'bottom': ax}))\n",
    "#img.setOpts(axisOrder='row-major')\n",
    "#p1.addItem(img)\n",
    "win.show()\n",
    "#img.show()\n",
    "gei = pg.GradientEditorItem()\n",
    "print(gei.loadPreset.__doc__)\n",
    "gei.loadPreset('thermal')\n",
    "lut = gei.colorMap().getLookupTable()\n",
    "print(lut.shape)\n",
    "img.setLookupTable(lut)"
   ]
  },
  {
   "cell_type": "code",
   "execution_count": 10,
   "metadata": {},
   "outputs": [
    {
     "name": "stdout",
     "output_type": "stream",
     "text": [
      "1\n",
      "2\n",
      "3\n",
      "4\n",
      "5\n"
     ]
    }
   ],
   "source": [
    "for i in range(5):\n",
    "    scale = i + 1\n",
    "    print(scale)\n",
    "    # Shift all rows down by one\n",
    "    #bg[:-1, ...] = bg[1:, ...]\n",
    "    bg[1:, ...] = bg[:-1, ...]\n",
    "    #print(bg)\n",
    "    # Add new data to last row\n",
    "    bg[0, ...] = up * scale\n",
    "    #print(bg)\n",
    "    img.setImage(bg)\n",
    "    #img.scale(1/1.25, 1/5)\n",
    "    #img.translate(1, 0)\n",
    "    #p1.autoRange()\n",
    "    time.sleep(1)"
   ]
  },
  {
   "cell_type": "code",
   "execution_count": null,
   "metadata": {},
   "outputs": [],
   "source": []
  }
 ],
 "metadata": {
  "kernelspec": {
   "display_name": "Python 3",
   "language": "python",
   "name": "python3"
  },
  "language_info": {
   "codemirror_mode": {
    "name": "ipython",
    "version": 3
   },
   "file_extension": ".py",
   "mimetype": "text/x-python",
   "name": "python",
   "nbconvert_exporter": "python",
   "pygments_lexer": "ipython3",
   "version": "3.6.5"
  }
 },
 "nbformat": 4,
 "nbformat_minor": 2
}
