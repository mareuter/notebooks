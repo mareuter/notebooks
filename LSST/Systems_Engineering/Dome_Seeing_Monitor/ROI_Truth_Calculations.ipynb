{
 "cells": [
  {
   "cell_type": "code",
   "execution_count": 1,
   "metadata": {},
   "outputs": [],
   "source": [
    "import numpy as np"
   ]
  },
  {
   "cell_type": "code",
   "execution_count": 2,
   "metadata": {},
   "outputs": [],
   "source": [
    "np.random.seed(2000)"
   ]
  },
  {
   "cell_type": "code",
   "execution_count": 3,
   "metadata": {},
   "outputs": [],
   "source": [
    "x = np.random.random(3)"
   ]
  },
  {
   "cell_type": "code",
   "execution_count": 4,
   "metadata": {},
   "outputs": [],
   "source": [
    "def get_mean(value, rnd):\n",
    "    return np.mean(value + rnd)"
   ]
  },
  {
   "cell_type": "code",
   "execution_count": 5,
   "metadata": {},
   "outputs": [
    {
     "name": "stdout",
     "output_type": "stream",
     "text": [
      "Flux:  2434.8911626243757\n",
      "ADC:  120.07116262437593\n",
      "CenterX:  200.54116262437594\n",
      "CenterY:  321.84116262437595\n",
      "stdMax:  1.9611626243759368\n",
      "objectSize:  64.0\n",
      "rmsX:  0.013075758426286251\n",
      "rmsY:  0.013075758426290931\n"
     ]
    }
   ],
   "source": [
    "pixel_scale = 0.35\n",
    "center_x = 200 + x\n",
    "center_y = 321.3 + x\n",
    "adc = 119.53 + x\n",
    "stdMax = 1.42 + x\n",
    "print(\"Flux: \", get_mean(2434.35, x))\n",
    "print(\"ADC: \", np.mean(adc))\n",
    "print(\"CenterX: \", np.mean(center_x))\n",
    "print(\"CenterY: \", np.mean(center_y))\n",
    "print(\"stdMax: \", np.mean(stdMax))\n",
    "print(\"objectSize: \", np.mean(np.random.randint(60, 65)))\n",
    "print(\"rmsX: \", pixel_scale * np.std(center_x))\n",
    "print(\"rmsY: \", pixel_scale * np.std(center_y))"
   ]
  },
  {
   "cell_type": "code",
   "execution_count": 6,
   "metadata": {},
   "outputs": [
    {
     "name": "stdout",
     "output_type": "stream",
     "text": [
      "stdMax:  1.9494795589614855\n"
     ]
    }
   ],
   "source": [
    "stdMax[1] = np.nan\n",
    "print(\"stdMax: \", np.nanmean(stdMax))"
   ]
  }
 ],
 "metadata": {
  "kernelspec": {
   "display_name": "Python 3",
   "language": "python",
   "name": "python3"
  },
  "language_info": {
   "codemirror_mode": {
    "name": "ipython",
    "version": 3
   },
   "file_extension": ".py",
   "mimetype": "text/x-python",
   "name": "python",
   "nbconvert_exporter": "python",
   "pygments_lexer": "ipython3",
   "version": "3.6.5"
  }
 },
 "nbformat": 4,
 "nbformat_minor": 2
}
