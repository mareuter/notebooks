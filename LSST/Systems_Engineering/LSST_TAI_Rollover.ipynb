{
 "cells": [
  {
   "cell_type": "markdown",
   "metadata": {},
   "source": [
    "# When Does TAI Date Rollover at LSST?\n",
    "\n",
    "This notebook calculates the local sunset and nautical twilight times in Chile at the LSST location for a year. It then determines if the TAI rollover happens before each of those times."
   ]
  },
  {
   "cell_type": "code",
   "execution_count": 1,
   "metadata": {},
   "outputs": [],
   "source": [
    "from datetime import datetime, timedelta\n",
    "\n",
    "from astropy.time import Time\n",
    "from ephem import Observer, Sun\n",
    "import numpy as np\n",
    "import pandas as pd\n",
    "import pytz"
   ]
  },
  {
   "cell_type": "code",
   "execution_count": 2,
   "metadata": {},
   "outputs": [],
   "source": [
    "lsst_latitude = \"-30:14:38.4\"\n",
    "lsst_longitude = \"-70:44:57.84\"\n",
    "lsst_height = 2650.0  # meters\n",
    "lsst_pressure = 750.0  # millibars"
   ]
  },
  {
   "cell_type": "code",
   "execution_count": 3,
   "metadata": {},
   "outputs": [],
   "source": [
    "lsst_sunset = Observer()\n",
    "lsst_sunset.long = lsst_longitude\n",
    "lsst_sunset.lat = lsst_latitude\n",
    "lsst_sunset.elevation = lsst_height\n",
    "lsst_sunset.horizon = \"-0:34\"\n",
    "lsst_sunset.pressure = lsst_pressure"
   ]
  },
  {
   "cell_type": "code",
   "execution_count": 4,
   "metadata": {},
   "outputs": [],
   "source": [
    "lsst_nauttwi = Observer()\n",
    "lsst_nauttwi.long = lsst_longitude\n",
    "lsst_nauttwi.lat = lsst_latitude\n",
    "lsst_nauttwi.elevation = lsst_height\n",
    "lsst_nauttwi.horizon = \"-12\"\n",
    "lsst_nauttwi.pressure = lsst_pressure"
   ]
  },
  {
   "cell_type": "code",
   "execution_count": 5,
   "metadata": {},
   "outputs": [],
   "source": [
    "chile_tz = pytz.timezone('Chile/Continental')\n",
    "sun = Sun()\n",
    "full_format = \"%Y/%m/%d %H:%M\""
   ]
  },
  {
   "cell_type": "code",
   "execution_count": 6,
   "metadata": {},
   "outputs": [],
   "source": [
    "def find_rollover(local, tai):\n",
    "    # Compare the local date to the TAI date. If any of the TAI values are \n",
    "    # greater than the local values, the rollover has occurred.\n",
    "    return tai.year > local.year or tai.month > local.month or tai.day > local.day"
   ]
  },
  {
   "cell_type": "code",
   "execution_count": 7,
   "metadata": {},
   "outputs": [],
   "source": [
    "original_date = datetime(2018, 1, 1)\n",
    "end_date = datetime(2019, 1, 1)\n",
    "days = (end_date - original_date).days\n",
    "date = original_date\n",
    "\n",
    "column_names = [\"Local Sunset\", \"TAI Rollover Before Sunset\", \"Local Nautical Twilight\",\n",
    "                \"TAI Rollover Before Nautical Twilight\"]\n",
    "df_rows = []\n",
    "\n",
    "for i in range(days):\n",
    "    local_time = chile_tz.localize(date)\n",
    "    atime = Time(local_time, scale='utc')\n",
    "    dtd = atime.datetime\n",
    "    lsst_sunset.date = dtd\n",
    "    lsst_nauttwi.date = dtd\n",
    "    sunset = lsst_sunset.next_setting(sun).datetime()\n",
    "    naut_twi = lsst_nauttwi.next_setting(sun).datetime()\n",
    "    sunset_local = chile_tz.fromutc(sunset)\n",
    "    nauttwi_local = chile_tz.fromutc(naut_twi)\n",
    "    sunset_tai = Time(sunset, scale='utc').tai.datetime\n",
    "    nauttwi_tai = Time(naut_twi, scale='utc').tai.datetime\n",
    "    rollover_sunset = find_rollover(sunset_local, sunset_tai)\n",
    "    rollover_nauttwi = find_rollover(nauttwi_local, nauttwi_tai)\n",
    "    df_rows.append(pd.DataFrame([[sunset_local.strftime(full_format),\n",
    "                                 rollover_sunset,\n",
    "                                 nauttwi_local.strftime(full_format),\n",
    "                                 rollover_nauttwi]], columns=column_names))\n",
    "    date += timedelta(1)\n",
    "df = pd.concat(df_rows, ignore_index=True)"
   ]
  },
  {
   "cell_type": "code",
   "execution_count": 8,
   "metadata": {},
   "outputs": [
    {
     "name": "stdout",
     "output_type": "stream",
     "text": [
      "0\n"
     ]
    }
   ],
   "source": [
    "# Find the number of days the rollover happens before sunset\n",
    "days_before_sunset = df.loc[df[column_names[1]] == True]\n",
    "print(days_before_sunset.shape[0])"
   ]
  },
  {
   "cell_type": "code",
   "execution_count": 9,
   "metadata": {},
   "outputs": [
    {
     "name": "stdout",
     "output_type": "stream",
     "text": [
      "Number of Days Rollover Occurs Before Nautical Twilight: 133\n",
      "Number of Days Rollover Occurs After Nautical Twilight: 232\n"
     ]
    }
   ],
   "source": [
    "# Find the rows where the rollover happens before nautical twilight\n",
    "rows_before = np.where(df[column_names[3]] == True)\n",
    "# Find the rows where the rollover happens after nautical twilight\n",
    "rows_after = np.where(df[column_names[3]] == False)\n",
    "print(\"Number of Days Rollover Occurs Before Nautical Twilight: {}\".format(len(rows_before[0])))\n",
    "print(\"Number of Days Rollover Occurs After Nautical Twilight: {}\".format(len(rows_after[0])))"
   ]
  },
  {
   "cell_type": "code",
   "execution_count": 10,
   "metadata": {},
   "outputs": [
    {
     "name": "stdout",
     "output_type": "stream",
     "text": [
      "Rollover After Nautical Twilight Starts: 2018/03/11\n",
      "Rollover After Nautical Twilight Ends: 2018/10/28\n"
     ]
    }
   ],
   "source": [
    "print(\"Rollover After Nautical Twilight Starts: {}\".format(df.iloc[rows_after[0][0]][0].split()[0]))\n",
    "print(\"Rollover After Nautical Twilight Ends: {}\".format(df.iloc[rows_after[0][-1]][0].split()[0]))"
   ]
  }
 ],
 "metadata": {
  "kernelspec": {
   "display_name": "Python 3",
   "language": "python",
   "name": "python3"
  },
  "language_info": {
   "codemirror_mode": {
    "name": "ipython",
    "version": 3
   },
   "file_extension": ".py",
   "mimetype": "text/x-python",
   "name": "python",
   "nbconvert_exporter": "python",
   "pygments_lexer": "ipython3",
   "version": "3.6.3"
  }
 },
 "nbformat": 4,
 "nbformat_minor": 2
}
