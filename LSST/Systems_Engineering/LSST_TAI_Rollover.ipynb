{
 "cells": [
  {
   "cell_type": "code",
   "execution_count": null,
   "metadata": {},
   "outputs": [],
   "source": [
    "from datetime import datetime, timedelta\n",
    "\n",
    "from astropy.time import Time\n",
    "from ephem import Observer, Sun\n",
    "import pytz\n",
    "\n",
    "DTD_OFFSET = 25019.5"
   ]
  },
  {
   "cell_type": "code",
   "execution_count": null,
   "metadata": {},
   "outputs": [],
   "source": [
    "lsst_latitude = \"-30:14:38.4\"\n",
    "lsst_longitude = \"-70:44:57.84\"\n",
    "lsst_height = 2650.0  # meters\n",
    "lsst_pressure = 750.0  # millibars"
   ]
  },
  {
   "cell_type": "code",
   "execution_count": null,
   "metadata": {},
   "outputs": [],
   "source": [
    "lsst_sunset = Observer()\n",
    "lsst_sunset.long = lsst_longitude\n",
    "lsst_sunset.lat = lsst_latitude\n",
    "lsst_sunset.elevation = lsst_height\n",
    "lsst_sunset.horizon = \"-0:34\"\n",
    "lsst_sunset.pressure = lsst_pressure"
   ]
  },
  {
   "cell_type": "code",
   "execution_count": null,
   "metadata": {},
   "outputs": [],
   "source": [
    "lsst_nauttwi = Observer()\n",
    "lsst_nauttwi.long = lsst_longitude\n",
    "lsst_nauttwi.lat = lsst_latitude\n",
    "lsst_nauttwi.elevation = lsst_height\n",
    "lsst_nauttwi.horizon = \"-12\"\n",
    "lsst_nauttwi.pressure = lsst_pressure"
   ]
  },
  {
   "cell_type": "code",
   "execution_count": null,
   "metadata": {},
   "outputs": [],
   "source": [
    "chile_tz = pytz.timezone('Chile/Continental')\n",
    "sun = Sun()"
   ]
  },
  {
   "cell_type": "code",
   "execution_count": null,
   "metadata": {},
   "outputs": [],
   "source": [
    "original_date = datetime(2018, 1, 1)\n",
    "end_date = datetime(2019, 1, 1)\n",
    "days = (end_date - original_date).days\n",
    "date = original_date\n",
    "\n",
    "for i in range(30):\n",
    "    local_time = chile_tz.localize(date)\n",
    "    atime = Time(local_time, scale='utc')\n",
    "    dtd = atime.datetime\n",
    "    lsst_sunset.date = dtd\n",
    "    lsst_nauttwi.date = dtd\n",
    "    sunset = lsst_sunset.next_setting(sun).datetime()\n",
    "    naut_twi = lsst_nauttwi.next_setting(sun).datetime()\n",
    "    print(chile_tz.fromutc(sunset))\n",
    "    print(chile_tz.fromutc(naut_twi))\n",
    "    print(Time(sunset, scale='utc').tai.datetime)\n",
    "    print(Time(naut_twi, scale='utc').tai)\n",
    "    date += timedelta(1)"
   ]
  },
  {
   "cell_type": "code",
   "execution_count": null,
   "metadata": {},
   "outputs": [],
   "source": []
  }
 ],
 "metadata": {
  "kernelspec": {
   "display_name": "Python 3",
   "language": "python",
   "name": "python3"
  },
  "language_info": {
   "codemirror_mode": {
    "name": "ipython",
    "version": 3
   },
   "file_extension": ".py",
   "mimetype": "text/x-python",
   "name": "python",
   "nbconvert_exporter": "python",
   "pygments_lexer": "ipython3",
   "version": "3.6.3"
  }
 },
 "nbformat": 4,
 "nbformat_minor": 2
}
