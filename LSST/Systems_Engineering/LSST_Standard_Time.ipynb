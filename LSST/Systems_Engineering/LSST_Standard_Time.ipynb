{
 "cells": [
  {
   "cell_type": "markdown",
   "metadata": {},
   "source": [
    "# LSST Standard Time\n",
    "Determine the latest sunrise (UTC) at the LSST location in Chile and round to the next closest hour. This is LSST Standard Time and the point at which date rollovers happen."
   ]
  },
  {
   "cell_type": "code",
   "execution_count": 1,
   "metadata": {},
   "outputs": [],
   "source": [
    "from datetime import datetime, timedelta\n",
    "\n",
    "from astropy.time import Time\n",
    "from ephem import Observer, Sun\n",
    "import numpy as np\n",
    "import pandas as pd\n",
    "import pytz"
   ]
  },
  {
   "cell_type": "code",
   "execution_count": 2,
   "metadata": {},
   "outputs": [],
   "source": [
    "lsst_latitude = \"-30:14:38.4\"\n",
    "lsst_longitude = \"-70:44:57.84\"\n",
    "lsst_height = 2650.0  # meters\n",
    "lsst_pressure = 750.0  # millibars"
   ]
  },
  {
   "cell_type": "code",
   "execution_count": 3,
   "metadata": {},
   "outputs": [],
   "source": [
    "lsst_sunrise = Observer()\n",
    "lsst_sunrise.long = lsst_longitude\n",
    "lsst_sunrise.lat = lsst_latitude\n",
    "lsst_sunrise.elevation = lsst_height\n",
    "lsst_sunrise.horizon = \"-0:34\"\n",
    "lsst_sunrise.pressure = lsst_pressure"
   ]
  },
  {
   "cell_type": "code",
   "execution_count": 4,
   "metadata": {},
   "outputs": [],
   "source": [
    "chile_tz = pytz.timezone('Chile/Continental')\n",
    "sun = Sun()\n",
    "full_format = \"%Y/%m/%d %H:%M %z\""
   ]
  },
  {
   "cell_type": "code",
   "execution_count": 5,
   "metadata": {},
   "outputs": [],
   "source": [
    "original_date = datetime(2018, 1, 1)\n",
    "end_date = datetime(2019, 1, 1)\n",
    "days = (end_date - original_date).days\n",
    "date = original_date\n",
    "\n",
    "column_names = ['Datetime', 'Hour', 'Minute']\n",
    "\n",
    "df_rows = []\n",
    "\n",
    "for i in range(days):\n",
    "    local_time = chile_tz.localize(date)\n",
    "    atime = Time(local_time, scale='utc')\n",
    "    dtd = atime.datetime\n",
    "    lsst_sunrise.date = dtd\n",
    "    sunrise = lsst_sunrise.next_rising(sun).datetime()\n",
    "    df_rows.append(pd.DataFrame([[sunrise, sunrise.hour, sunrise.minute]], columns=column_names))\n",
    "    date += timedelta(1)\n",
    "df = pd.concat(df_rows, ignore_index=True)"
   ]
  },
  {
   "cell_type": "code",
   "execution_count": 6,
   "metadata": {},
   "outputs": [
    {
     "name": "stdout",
     "output_type": "stream",
     "text": [
      "Time of latest sunrise: 11:37 UTC\n",
      "LSST Standard Time: 12:00 UTC\n"
     ]
    }
   ],
   "source": [
    "max_hour = np.max(df['Hour'])\n",
    "max_minute = np.max(df['Minute'][df['Hour'] == max_hour])\n",
    "print(\"Time of latest sunrise: {}:{} UTC\".format(max_hour, max_minute))\n",
    "rollover_hour = max_hour + 1\n",
    "print(\"LSST Standard Time: {}:00 UTC\".format(rollover_hour))"
   ]
  },
  {
   "cell_type": "code",
   "execution_count": null,
   "metadata": {},
   "outputs": [],
   "source": []
  }
 ],
 "metadata": {
  "kernelspec": {
   "display_name": "Python 3",
   "language": "python",
   "name": "python3"
  },
  "language_info": {
   "codemirror_mode": {
    "name": "ipython",
    "version": 3
   },
   "file_extension": ".py",
   "mimetype": "text/x-python",
   "name": "python",
   "nbconvert_exporter": "python",
   "pygments_lexer": "ipython3",
   "version": "3.6.5"
  }
 },
 "nbformat": 4,
 "nbformat_minor": 2
}
