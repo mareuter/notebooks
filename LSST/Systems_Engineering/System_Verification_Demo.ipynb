{
 "cells": [
  {
   "cell_type": "code",
   "execution_count": 18,
   "metadata": {},
   "outputs": [],
   "source": [
    "import time\n",
    "\n",
    "import numpy as np\n",
    "\n",
    "import lsst.verify"
   ]
  },
  {
   "cell_type": "code",
   "execution_count": 19,
   "metadata": {},
   "outputs": [],
   "source": [
    "metric_file = \"sysver.yaml\"\n",
    "metric_name = \"sysver.CameraBodySurfaceTemp\""
   ]
  },
  {
   "cell_type": "code",
   "execution_count": 20,
   "metadata": {},
   "outputs": [],
   "source": [
    "# This is how a single metric file is read\n",
    "sysver_metrics = lsst.verify.MetricSet.load_single_package(metric_file)\n",
    "#sysver_metrics"
   ]
  },
  {
   "cell_type": "code",
   "execution_count": 21,
   "metadata": {},
   "outputs": [],
   "source": [
    "def measure_temperature(temperature_offset=None, percentage=0.1):\n",
    "    # Parameters for a Gaussian temparature distribution\n",
    "    mu = 10 # Celsius\n",
    "    sigma = 0.1 # Celsius\n",
    "    num_measurements = 1000\n",
    "\n",
    "    temp = np.random.normal(mu, sigma, num_measurements)\n",
    "    \n",
    "    if temperature_offset is not None:\n",
    "        frac = int(percentage * num_measurements)\n",
    "        value = np.random.randint(0, num_measurements, frac)\n",
    "        indexes = np.unique(value)\n",
    "        temp[indexes] += temperature_offset\n",
    "    \n",
    "    avg_temp = np.mean(temp)\n",
    "    return avg_temp, temp"
   ]
  },
  {
   "cell_type": "code",
   "execution_count": 29,
   "metadata": {},
   "outputs": [],
   "source": [
    "def run_normal_job(iterations=10, interval=60):\n",
    "    for i in range(iterations):\n",
    "        average_temperature, temperature_data = measure_temperature()\n",
    "        avg_temp_meas = lsst.verify.Measurement(\"sysver.CameraBodySurfaceTemp\", average_temperature)\n",
    "        avg_temp_meas.notes['estimator'] = 'numpy.mean'\n",
    "        print(average_temperature)\n",
    "        if i < iterations - 1:\n",
    "            time.sleep(interval)"
   ]
  },
  {
   "cell_type": "code",
   "execution_count": 36,
   "metadata": {},
   "outputs": [],
   "source": [
    "def run_drift_job(iterations=10, interval=60):\n",
    "    temperature_ramp = 0.75\n",
    "    fraction_ramp = 0.1\n",
    "    for i in range(iterations):\n",
    "        temperature_offset = temperature_ramp * i\n",
    "        fraction_change = fraction_ramp * i\n",
    "        average_temperature, temperature_data = measure_temperature(temperature_offset, fraction_change)\n",
    "        avg_temp_meas = lsst.verify.Measurement(\"sysver.CameraBodySurfaceTemp\", average_temperature)\n",
    "        avg_temp_meas.notes['estimator'] = 'numpy.mean'\n",
    "        print(average_temperature)\n",
    "        if i < iterations - 1:\n",
    "            time.sleep(interval)"
   ]
  },
  {
   "cell_type": "code",
   "execution_count": 37,
   "metadata": {},
   "outputs": [],
   "source": [
    "#run_normal_job()"
   ]
  },
  {
   "cell_type": "code",
   "execution_count": 39,
   "metadata": {},
   "outputs": [],
   "source": [
    "#run_drift_job(interval=1)"
   ]
  }
 ],
 "metadata": {
  "kernelspec": {
   "display_name": "Python 3",
   "language": "python",
   "name": "python3"
  },
  "language_info": {
   "codemirror_mode": {
    "name": "ipython",
    "version": 3
   },
   "file_extension": ".py",
   "mimetype": "text/x-python",
   "name": "python",
   "nbconvert_exporter": "python",
   "pygments_lexer": "ipython3",
   "version": "3.6.2"
  }
 },
 "nbformat": 4,
 "nbformat_minor": 2
}
