{
 "cells": [
  {
   "cell_type": "code",
   "execution_count": 1,
   "metadata": {},
   "outputs": [
    {
     "data": {
      "text/html": [
       "\n",
       "    <div class=\"bk-root\">\n",
       "        <a href=\"https://bokeh.pydata.org\" target=\"_blank\" class=\"bk-logo bk-logo-small bk-logo-notebook\"></a>\n",
       "        <span id=\"8c211e87-d184-4f19-a22e-1f4c3e9fe4c7\">Loading BokehJS ...</span>\n",
       "    </div>"
      ]
     },
     "metadata": {},
     "output_type": "display_data"
    },
    {
     "data": {
      "application/javascript": [
       "\n",
       "(function(root) {\n",
       "  function now() {\n",
       "    return new Date();\n",
       "  }\n",
       "\n",
       "  var force = true;\n",
       "\n",
       "  if (typeof (root._bokeh_onload_callbacks) === \"undefined\" || force === true) {\n",
       "    root._bokeh_onload_callbacks = [];\n",
       "    root._bokeh_is_loading = undefined;\n",
       "  }\n",
       "\n",
       "  var JS_MIME_TYPE = 'application/javascript';\n",
       "  var HTML_MIME_TYPE = 'text/html';\n",
       "  var EXEC_MIME_TYPE = 'application/vnd.bokehjs_exec.v0+json';\n",
       "  var CLASS_NAME = 'output_bokeh rendered_html';\n",
       "\n",
       "  /**\n",
       "   * Render data to the DOM node\n",
       "   */\n",
       "  function render(props, node) {\n",
       "    var script = document.createElement(\"script\");\n",
       "    node.appendChild(script);\n",
       "  }\n",
       "\n",
       "  /**\n",
       "   * Handle when an output is cleared or removed\n",
       "   */\n",
       "  function handleClearOutput(event, handle) {\n",
       "    var cell = handle.cell;\n",
       "\n",
       "    var id = cell.output_area._bokeh_element_id;\n",
       "    var server_id = cell.output_area._bokeh_server_id;\n",
       "    // Clean up Bokeh references\n",
       "    if (id !== undefined) {\n",
       "      Bokeh.index[id].model.document.clear();\n",
       "      delete Bokeh.index[id];\n",
       "    }\n",
       "\n",
       "    if (server_id !== undefined) {\n",
       "      // Clean up Bokeh references\n",
       "      var cmd = \"from bokeh.io.state import curstate; print(curstate().uuid_to_server['\" + server_id + \"'].get_sessions()[0].document.roots[0]._id)\";\n",
       "      cell.notebook.kernel.execute(cmd, {\n",
       "        iopub: {\n",
       "          output: function(msg) {\n",
       "            var element_id = msg.content.text.trim();\n",
       "            Bokeh.index[element_id].model.document.clear();\n",
       "            delete Bokeh.index[element_id];\n",
       "          }\n",
       "        }\n",
       "      });\n",
       "      // Destroy server and session\n",
       "      var cmd = \"import bokeh.io.notebook as ion; ion.destroy_server('\" + server_id + \"')\";\n",
       "      cell.notebook.kernel.execute(cmd);\n",
       "    }\n",
       "  }\n",
       "\n",
       "  /**\n",
       "   * Handle when a new output is added\n",
       "   */\n",
       "  function handleAddOutput(event, handle) {\n",
       "    var output_area = handle.output_area;\n",
       "    var output = handle.output;\n",
       "\n",
       "    // limit handleAddOutput to display_data with EXEC_MIME_TYPE content only\n",
       "    if ((output.output_type != \"display_data\") || (!output.data.hasOwnProperty(EXEC_MIME_TYPE))) {\n",
       "      return\n",
       "    }\n",
       "\n",
       "    var toinsert = output_area.element.find(`.${CLASS_NAME.split(' ')[0]}`);\n",
       "\n",
       "    if (output.metadata[EXEC_MIME_TYPE][\"id\"] !== undefined) {\n",
       "      toinsert[0].firstChild.textContent = output.data[JS_MIME_TYPE];\n",
       "      // store reference to embed id on output_area\n",
       "      output_area._bokeh_element_id = output.metadata[EXEC_MIME_TYPE][\"id\"];\n",
       "    }\n",
       "    if (output.metadata[EXEC_MIME_TYPE][\"server_id\"] !== undefined) {\n",
       "      var bk_div = document.createElement(\"div\");\n",
       "      bk_div.innerHTML = output.data[HTML_MIME_TYPE];\n",
       "      var script_attrs = bk_div.children[0].attributes;\n",
       "      for (var i = 0; i < script_attrs.length; i++) {\n",
       "        toinsert[0].firstChild.setAttribute(script_attrs[i].name, script_attrs[i].value);\n",
       "      }\n",
       "      // store reference to server id on output_area\n",
       "      output_area._bokeh_server_id = output.metadata[EXEC_MIME_TYPE][\"server_id\"];\n",
       "    }\n",
       "  }\n",
       "\n",
       "  function register_renderer(events, OutputArea) {\n",
       "\n",
       "    function append_mime(data, metadata, element) {\n",
       "      // create a DOM node to render to\n",
       "      var toinsert = this.create_output_subarea(\n",
       "        metadata,\n",
       "        CLASS_NAME,\n",
       "        EXEC_MIME_TYPE\n",
       "      );\n",
       "      this.keyboard_manager.register_events(toinsert);\n",
       "      // Render to node\n",
       "      var props = {data: data, metadata: metadata[EXEC_MIME_TYPE]};\n",
       "      render(props, toinsert[0]);\n",
       "      element.append(toinsert);\n",
       "      return toinsert\n",
       "    }\n",
       "\n",
       "    /* Handle when an output is cleared or removed */\n",
       "    events.on('clear_output.CodeCell', handleClearOutput);\n",
       "    events.on('delete.Cell', handleClearOutput);\n",
       "\n",
       "    /* Handle when a new output is added */\n",
       "    events.on('output_added.OutputArea', handleAddOutput);\n",
       "\n",
       "    /**\n",
       "     * Register the mime type and append_mime function with output_area\n",
       "     */\n",
       "    OutputArea.prototype.register_mime_type(EXEC_MIME_TYPE, append_mime, {\n",
       "      /* Is output safe? */\n",
       "      safe: true,\n",
       "      /* Index of renderer in `output_area.display_order` */\n",
       "      index: 0\n",
       "    });\n",
       "  }\n",
       "\n",
       "  // register the mime type if in Jupyter Notebook environment and previously unregistered\n",
       "  if (root.Jupyter !== undefined) {\n",
       "    var events = require('base/js/events');\n",
       "    var OutputArea = require('notebook/js/outputarea').OutputArea;\n",
       "\n",
       "    if (OutputArea.prototype.mime_types().indexOf(EXEC_MIME_TYPE) == -1) {\n",
       "      register_renderer(events, OutputArea);\n",
       "    }\n",
       "  }\n",
       "\n",
       "  \n",
       "  if (typeof (root._bokeh_timeout) === \"undefined\" || force === true) {\n",
       "    root._bokeh_timeout = Date.now() + 5000;\n",
       "    root._bokeh_failed_load = false;\n",
       "  }\n",
       "\n",
       "  var NB_LOAD_WARNING = {'data': {'text/html':\n",
       "     \"<div style='background-color: #fdd'>\\n\"+\n",
       "     \"<p>\\n\"+\n",
       "     \"BokehJS does not appear to have successfully loaded. If loading BokehJS from CDN, this \\n\"+\n",
       "     \"may be due to a slow or bad network connection. Possible fixes:\\n\"+\n",
       "     \"</p>\\n\"+\n",
       "     \"<ul>\\n\"+\n",
       "     \"<li>re-rerun `output_notebook()` to attempt to load from CDN again, or</li>\\n\"+\n",
       "     \"<li>use INLINE resources instead, as so:</li>\\n\"+\n",
       "     \"</ul>\\n\"+\n",
       "     \"<code>\\n\"+\n",
       "     \"from bokeh.resources import INLINE\\n\"+\n",
       "     \"output_notebook(resources=INLINE)\\n\"+\n",
       "     \"</code>\\n\"+\n",
       "     \"</div>\"}};\n",
       "\n",
       "  function display_loaded() {\n",
       "    var el = document.getElementById(\"8c211e87-d184-4f19-a22e-1f4c3e9fe4c7\");\n",
       "    if (el != null) {\n",
       "      el.textContent = \"BokehJS is loading...\";\n",
       "    }\n",
       "    if (root.Bokeh !== undefined) {\n",
       "      if (el != null) {\n",
       "        el.textContent = \"BokehJS \" + root.Bokeh.version + \" successfully loaded.\";\n",
       "      }\n",
       "    } else if (Date.now() < root._bokeh_timeout) {\n",
       "      setTimeout(display_loaded, 100)\n",
       "    }\n",
       "  }\n",
       "\n",
       "\n",
       "  function run_callbacks() {\n",
       "    try {\n",
       "      root._bokeh_onload_callbacks.forEach(function(callback) { callback() });\n",
       "    }\n",
       "    finally {\n",
       "      delete root._bokeh_onload_callbacks\n",
       "    }\n",
       "    console.info(\"Bokeh: all callbacks have finished\");\n",
       "  }\n",
       "\n",
       "  function load_libs(js_urls, callback) {\n",
       "    root._bokeh_onload_callbacks.push(callback);\n",
       "    if (root._bokeh_is_loading > 0) {\n",
       "      console.log(\"Bokeh: BokehJS is being loaded, scheduling callback at\", now());\n",
       "      return null;\n",
       "    }\n",
       "    if (js_urls == null || js_urls.length === 0) {\n",
       "      run_callbacks();\n",
       "      return null;\n",
       "    }\n",
       "    console.log(\"Bokeh: BokehJS not loaded, scheduling load and callback at\", now());\n",
       "    root._bokeh_is_loading = js_urls.length;\n",
       "    for (var i = 0; i < js_urls.length; i++) {\n",
       "      var url = js_urls[i];\n",
       "      var s = document.createElement('script');\n",
       "      s.src = url;\n",
       "      s.async = false;\n",
       "      s.onreadystatechange = s.onload = function() {\n",
       "        root._bokeh_is_loading--;\n",
       "        if (root._bokeh_is_loading === 0) {\n",
       "          console.log(\"Bokeh: all BokehJS libraries loaded\");\n",
       "          run_callbacks()\n",
       "        }\n",
       "      };\n",
       "      s.onerror = function() {\n",
       "        console.warn(\"failed to load library \" + url);\n",
       "      };\n",
       "      console.log(\"Bokeh: injecting script tag for BokehJS library: \", url);\n",
       "      document.getElementsByTagName(\"head\")[0].appendChild(s);\n",
       "    }\n",
       "  };var element = document.getElementById(\"8c211e87-d184-4f19-a22e-1f4c3e9fe4c7\");\n",
       "  if (element == null) {\n",
       "    console.log(\"Bokeh: ERROR: autoload.js configured with elementid '8c211e87-d184-4f19-a22e-1f4c3e9fe4c7' but no matching script tag was found. \")\n",
       "    return false;\n",
       "  }\n",
       "\n",
       "  var js_urls = [\"https://cdn.pydata.org/bokeh/release/bokeh-0.12.10.min.js\", \"https://cdn.pydata.org/bokeh/release/bokeh-widgets-0.12.10.min.js\", \"https://cdn.pydata.org/bokeh/release/bokeh-tables-0.12.10.min.js\", \"https://cdn.pydata.org/bokeh/release/bokeh-gl-0.12.10.min.js\"];\n",
       "\n",
       "  var inline_js = [\n",
       "    function(Bokeh) {\n",
       "      Bokeh.set_log_level(\"info\");\n",
       "    },\n",
       "    \n",
       "    function(Bokeh) {\n",
       "      \n",
       "    },\n",
       "    function(Bokeh) {\n",
       "      console.log(\"Bokeh: injecting CSS: https://cdn.pydata.org/bokeh/release/bokeh-0.12.10.min.css\");\n",
       "      Bokeh.embed.inject_css(\"https://cdn.pydata.org/bokeh/release/bokeh-0.12.10.min.css\");\n",
       "      console.log(\"Bokeh: injecting CSS: https://cdn.pydata.org/bokeh/release/bokeh-widgets-0.12.10.min.css\");\n",
       "      Bokeh.embed.inject_css(\"https://cdn.pydata.org/bokeh/release/bokeh-widgets-0.12.10.min.css\");\n",
       "      console.log(\"Bokeh: injecting CSS: https://cdn.pydata.org/bokeh/release/bokeh-tables-0.12.10.min.css\");\n",
       "      Bokeh.embed.inject_css(\"https://cdn.pydata.org/bokeh/release/bokeh-tables-0.12.10.min.css\");\n",
       "    }\n",
       "  ];\n",
       "\n",
       "  function run_inline_js() {\n",
       "    \n",
       "    if ((root.Bokeh !== undefined) || (force === true)) {\n",
       "      for (var i = 0; i < inline_js.length; i++) {\n",
       "        inline_js[i].call(root, root.Bokeh);\n",
       "      }if (force === true) {\n",
       "        display_loaded();\n",
       "      }} else if (Date.now() < root._bokeh_timeout) {\n",
       "      setTimeout(run_inline_js, 100);\n",
       "    } else if (!root._bokeh_failed_load) {\n",
       "      console.log(\"Bokeh: BokehJS failed to load within specified timeout.\");\n",
       "      root._bokeh_failed_load = true;\n",
       "    } else if (force !== true) {\n",
       "      var cell = $(document.getElementById(\"8c211e87-d184-4f19-a22e-1f4c3e9fe4c7\")).parents('.cell').data().cell;\n",
       "      cell.output_area.append_execute_result(NB_LOAD_WARNING)\n",
       "    }\n",
       "\n",
       "  }\n",
       "\n",
       "  if (root._bokeh_is_loading === 0) {\n",
       "    console.log(\"Bokeh: BokehJS loaded, going straight to plotting\");\n",
       "    run_inline_js();\n",
       "  } else {\n",
       "    load_libs(js_urls, function() {\n",
       "      console.log(\"Bokeh: BokehJS plotting callback run at\", now());\n",
       "      run_inline_js();\n",
       "    });\n",
       "  }\n",
       "}(window));"
      ],
      "application/vnd.bokehjs_load.v0+json": "\n(function(root) {\n  function now() {\n    return new Date();\n  }\n\n  var force = true;\n\n  if (typeof (root._bokeh_onload_callbacks) === \"undefined\" || force === true) {\n    root._bokeh_onload_callbacks = [];\n    root._bokeh_is_loading = undefined;\n  }\n\n  \n\n  \n  if (typeof (root._bokeh_timeout) === \"undefined\" || force === true) {\n    root._bokeh_timeout = Date.now() + 5000;\n    root._bokeh_failed_load = false;\n  }\n\n  var NB_LOAD_WARNING = {'data': {'text/html':\n     \"<div style='background-color: #fdd'>\\n\"+\n     \"<p>\\n\"+\n     \"BokehJS does not appear to have successfully loaded. If loading BokehJS from CDN, this \\n\"+\n     \"may be due to a slow or bad network connection. Possible fixes:\\n\"+\n     \"</p>\\n\"+\n     \"<ul>\\n\"+\n     \"<li>re-rerun `output_notebook()` to attempt to load from CDN again, or</li>\\n\"+\n     \"<li>use INLINE resources instead, as so:</li>\\n\"+\n     \"</ul>\\n\"+\n     \"<code>\\n\"+\n     \"from bokeh.resources import INLINE\\n\"+\n     \"output_notebook(resources=INLINE)\\n\"+\n     \"</code>\\n\"+\n     \"</div>\"}};\n\n  function display_loaded() {\n    var el = document.getElementById(\"8c211e87-d184-4f19-a22e-1f4c3e9fe4c7\");\n    if (el != null) {\n      el.textContent = \"BokehJS is loading...\";\n    }\n    if (root.Bokeh !== undefined) {\n      if (el != null) {\n        el.textContent = \"BokehJS \" + root.Bokeh.version + \" successfully loaded.\";\n      }\n    } else if (Date.now() < root._bokeh_timeout) {\n      setTimeout(display_loaded, 100)\n    }\n  }\n\n\n  function run_callbacks() {\n    try {\n      root._bokeh_onload_callbacks.forEach(function(callback) { callback() });\n    }\n    finally {\n      delete root._bokeh_onload_callbacks\n    }\n    console.info(\"Bokeh: all callbacks have finished\");\n  }\n\n  function load_libs(js_urls, callback) {\n    root._bokeh_onload_callbacks.push(callback);\n    if (root._bokeh_is_loading > 0) {\n      console.log(\"Bokeh: BokehJS is being loaded, scheduling callback at\", now());\n      return null;\n    }\n    if (js_urls == null || js_urls.length === 0) {\n      run_callbacks();\n      return null;\n    }\n    console.log(\"Bokeh: BokehJS not loaded, scheduling load and callback at\", now());\n    root._bokeh_is_loading = js_urls.length;\n    for (var i = 0; i < js_urls.length; i++) {\n      var url = js_urls[i];\n      var s = document.createElement('script');\n      s.src = url;\n      s.async = false;\n      s.onreadystatechange = s.onload = function() {\n        root._bokeh_is_loading--;\n        if (root._bokeh_is_loading === 0) {\n          console.log(\"Bokeh: all BokehJS libraries loaded\");\n          run_callbacks()\n        }\n      };\n      s.onerror = function() {\n        console.warn(\"failed to load library \" + url);\n      };\n      console.log(\"Bokeh: injecting script tag for BokehJS library: \", url);\n      document.getElementsByTagName(\"head\")[0].appendChild(s);\n    }\n  };var element = document.getElementById(\"8c211e87-d184-4f19-a22e-1f4c3e9fe4c7\");\n  if (element == null) {\n    console.log(\"Bokeh: ERROR: autoload.js configured with elementid '8c211e87-d184-4f19-a22e-1f4c3e9fe4c7' but no matching script tag was found. \")\n    return false;\n  }\n\n  var js_urls = [\"https://cdn.pydata.org/bokeh/release/bokeh-0.12.10.min.js\", \"https://cdn.pydata.org/bokeh/release/bokeh-widgets-0.12.10.min.js\", \"https://cdn.pydata.org/bokeh/release/bokeh-tables-0.12.10.min.js\", \"https://cdn.pydata.org/bokeh/release/bokeh-gl-0.12.10.min.js\"];\n\n  var inline_js = [\n    function(Bokeh) {\n      Bokeh.set_log_level(\"info\");\n    },\n    \n    function(Bokeh) {\n      \n    },\n    function(Bokeh) {\n      console.log(\"Bokeh: injecting CSS: https://cdn.pydata.org/bokeh/release/bokeh-0.12.10.min.css\");\n      Bokeh.embed.inject_css(\"https://cdn.pydata.org/bokeh/release/bokeh-0.12.10.min.css\");\n      console.log(\"Bokeh: injecting CSS: https://cdn.pydata.org/bokeh/release/bokeh-widgets-0.12.10.min.css\");\n      Bokeh.embed.inject_css(\"https://cdn.pydata.org/bokeh/release/bokeh-widgets-0.12.10.min.css\");\n      console.log(\"Bokeh: injecting CSS: https://cdn.pydata.org/bokeh/release/bokeh-tables-0.12.10.min.css\");\n      Bokeh.embed.inject_css(\"https://cdn.pydata.org/bokeh/release/bokeh-tables-0.12.10.min.css\");\n    }\n  ];\n\n  function run_inline_js() {\n    \n    if ((root.Bokeh !== undefined) || (force === true)) {\n      for (var i = 0; i < inline_js.length; i++) {\n        inline_js[i].call(root, root.Bokeh);\n      }if (force === true) {\n        display_loaded();\n      }} else if (Date.now() < root._bokeh_timeout) {\n      setTimeout(run_inline_js, 100);\n    } else if (!root._bokeh_failed_load) {\n      console.log(\"Bokeh: BokehJS failed to load within specified timeout.\");\n      root._bokeh_failed_load = true;\n    } else if (force !== true) {\n      var cell = $(document.getElementById(\"8c211e87-d184-4f19-a22e-1f4c3e9fe4c7\")).parents('.cell').data().cell;\n      cell.output_area.append_execute_result(NB_LOAD_WARNING)\n    }\n\n  }\n\n  if (root._bokeh_is_loading === 0) {\n    console.log(\"Bokeh: BokehJS loaded, going straight to plotting\");\n    run_inline_js();\n  } else {\n    load_libs(js_urls, function() {\n      console.log(\"Bokeh: BokehJS plotting callback run at\", now());\n      run_inline_js();\n    });\n  }\n}(window));"
     },
     "metadata": {},
     "output_type": "display_data"
    }
   ],
   "source": [
    "# Standard library and third party packages used by this notebook\n",
    "import json\n",
    "import os\n",
    "from tempfile import TemporaryDirectory\n",
    "\n",
    "import astropy.units as u\n",
    "import numpy as np\n",
    "import yaml\n",
    "\n",
    "# For demonstration  plots\n",
    "#from bokeh.charts import Scatter\n",
    "from bokeh.models import Range1d, Span\n",
    "from bokeh.layouts import row\n",
    "from bokeh.io import show, output_notebook\n",
    "from bokeh.plotting import figure\n",
    "import pandas\n",
    "\n",
    "# Load Bokeh\n",
    "output_notebook()"
   ]
  },
  {
   "cell_type": "code",
   "execution_count": 2,
   "metadata": {
    "collapsed": true
   },
   "outputs": [],
   "source": [
    "import lsst.verify"
   ]
  },
  {
   "cell_type": "code",
   "execution_count": 3,
   "metadata": {
    "collapsed": true
   },
   "outputs": [],
   "source": [
    "demo1_metrics_yaml = \"\"\"\n",
    "ZeropointRMS:\n",
    "  unit: mmag\n",
    "  description: >\n",
    "    Photometric calibration RMS.\n",
    "  reference:\n",
    "    url: https://example.com/PhotRMS\n",
    "  tags:\n",
    "    - photometry\n",
    "    - demo\n",
    "\n",
    "Completeness:\n",
    "  unit: mag\n",
    "  description: >\n",
    "    Magnitude of the catalog's 50% completeness limit.\n",
    "  reference:\n",
    "    url: https://example.com/Complete\n",
    "  tags:\n",
    "    - photometry\n",
    "    - demo\n",
    "\"\"\""
   ]
  },
  {
   "cell_type": "code",
   "execution_count": 4,
   "metadata": {},
   "outputs": [
    {
     "name": "stderr",
     "output_type": "stream",
     "text": [
      "WARNING: AstropyDeprecationWarning: Config parameter 'max_lines' in section [table.pprint] of the file '/Users/mareuter/.astropy/config/astropy.cfg' is deprecated. Use 'max_lines' at the top-level instead. [astropy.config.configuration]\n"
     ]
    },
    {
     "data": {
      "text/html": [
       "&lt;Table length=2&gt;\n",
       "<table id=\"table4690733712\" class=\"table-striped table-bordered table-condensed\">\n",
       "<thead><tr><th>Name</th><th>Description</th><th>Units</th><th>Reference</th><th>Tags</th></tr></thead>\n",
       "<thead><tr><th>str18</th><th>str50</th><th>str15</th><th>str28</th><th>str16</th></tr></thead>\n",
       "<tr><td>demo1.Completeness</td><td>Magnitude of the catalog&apos;s 50% completeness limit.</td><td>$\\mathrm{mag}$</td><td>https://example.com/Complete</td><td>demo, photometry</td></tr>\n",
       "<tr><td>demo1.ZeropointRMS</td><td>Photometric calibration RMS.</td><td>$\\mathrm{mmag}$</td><td>https://example.com/PhotRMS</td><td>demo, photometry</td></tr>\n",
       "</table>"
      ],
      "text/plain": [
       "<lsst.verify.metricset.MetricSet at 0x11796e940>"
      ]
     },
     "execution_count": 4,
     "metadata": {},
     "output_type": "execute_result"
    }
   ],
   "source": [
    "with TemporaryDirectory() as temp_dir:\n",
    "    demo1_metrics_path = os.path.join(temp_dir, 'demo1.yaml')\n",
    "    with open(demo1_metrics_path, mode='w') as f:\n",
    "        f.write(demo1_metrics_yaml)\n",
    "    demo_metrics = lsst.verify.MetricSet.load_single_package(demo1_metrics_path)\n",
    "demo_metrics"
   ]
  },
  {
   "cell_type": "code",
   "execution_count": 5,
   "metadata": {},
   "outputs": [
    {
     "name": "stderr",
     "output_type": "stream",
     "text": [
      "WARNING: AstropyDeprecationWarning: Config parameter 'max_lines' in section [table.pprint] of the file '/Users/mareuter/.astropy/config/astropy.cfg' is deprecated. Use 'max_lines' at the top-level instead. [astropy.config.configuration]\n"
     ]
    },
    {
     "data": {
      "text/html": [
       "&lt;Table length=2&gt;\n",
       "<table id=\"table4690768112\" class=\"table-striped table-bordered table-condensed\">\n",
       "<thead><tr><th>Name</th><th>Test</th><th>Tags</th></tr></thead>\n",
       "<thead><tr><th>str36</th><th>str27</th><th>str7</th></tr></thead>\n",
       "<tr><td>demo1.ZeropointRMS.minimum</td><td>$x$ &lt;= 20.0 $\\mathrm{mmag}$</td><td>minimum</td></tr>\n",
       "<tr><td>demo1.ZeropointRMS.minimum_megacam_r</td><td>$x$ &lt;= 15.0 $\\mathrm{mmag}$</td><td>minimum</td></tr>\n",
       "</table>"
      ],
      "text/plain": [
       "<lsst.verify.specset.SpecificationSet at 0x11796e3c8>"
      ]
     },
     "execution_count": 5,
     "metadata": {},
     "output_type": "execute_result"
    }
   ],
   "source": [
    "zeropointrms_specs_yaml = \"\"\"\n",
    "---\n",
    "name: \"minimum\"\n",
    "metric: \"ZeropointRMS\"\n",
    "threshold:\n",
    "  operator: \"<=\"\n",
    "  unit: \"mmag\"\n",
    "  value: 20.0\n",
    "tags:\n",
    "  - \"minimum\"\n",
    "\n",
    "---\n",
    "name: \"minimum_megacam_r\"\n",
    "base: [\"ZeropointRMS.minimum\"]\n",
    "threshold:\n",
    "  value: 15.0\n",
    "metadata_query:\n",
    "  camera: \"megacam\"\n",
    "  filter_name: \"r\"\n",
    "\"\"\"\n",
    "\n",
    "with TemporaryDirectory() as temp_dir:\n",
    "    # Write YAML to disk, emulating the verify_metrics package for this demo\n",
    "    specs_dirname = os.path.join(temp_dir, 'demo1')\n",
    "    os.makedirs(specs_dirname)\n",
    "    demo1_specs_path = os.path.join(specs_dirname, 'zeropointRMS.yaml')\n",
    "    with open(demo1_specs_path, mode='w') as f:\n",
    "        f.write(zeropointrms_specs_yaml)\n",
    "\n",
    "    # Parse the YAML into a set of Specification objects\n",
    "    demo1_specs = lsst.verify.SpecificationSet.load_single_package(specs_dirname)\n",
    "\n",
    "demo1_specs"
   ]
  },
  {
   "cell_type": "code",
   "execution_count": 6,
   "metadata": {},
   "outputs": [
    {
     "name": "stderr",
     "output_type": "stream",
     "text": [
      "WARNING: AstropyDeprecationWarning: Config parameter 'max_lines' in section [table.pprint] of the file '/Users/mareuter/.astropy/config/astropy.cfg' is deprecated. Use 'max_lines' at the top-level instead. [astropy.config.configuration]\n"
     ]
    },
    {
     "data": {
      "text/html": [
       "&lt;Table length=12&gt;\n",
       "<table id=\"table4690770912\" class=\"table-striped table-bordered table-condensed\">\n",
       "<thead><tr><th>Name</th><th>Test</th><th>Tags</th></tr></thead>\n",
       "<thead><tr><th>str36</th><th>str27</th><th>str7</th></tr></thead>\n",
       "<tr><td>demo1.Completeness.minimum_hsc_r</td><td>$x$ &gt;= 20.0 $\\mathrm{mag}$</td><td>minimum</td></tr>\n",
       "<tr><td>demo1.Completeness.minimum_megacam_r</td><td>$x$ &gt;= 24.0 $\\mathrm{mag}$</td><td>minimum</td></tr>\n",
       "<tr><td>demo1.Completeness.minimum_megacam_u</td><td>$x$ &gt;= 20.0 $\\mathrm{mag}$</td><td>minimum</td></tr>\n",
       "<tr><td>demo1.Completeness.stretch_hsc_r</td><td>$x$ &gt;= 28.0 $\\mathrm{mag}$</td><td>stretch</td></tr>\n",
       "<tr><td>demo1.Completeness.stretch_megacam_r</td><td>$x$ &gt;= 26.0 $\\mathrm{mag}$</td><td>stretch</td></tr>\n",
       "<tr><td>demo1.Completeness.stretch_megacam_u</td><td>$x$ &gt;= 24.0 $\\mathrm{mag}$</td><td>stretch</td></tr>\n",
       "<tr><td>demo1.ZeropointRMS.minimum_hsc_r</td><td>$x$ &lt;= 12.0 $\\mathrm{mmag}$</td><td>minimum</td></tr>\n",
       "<tr><td>demo1.ZeropointRMS.minimum_megacam_r</td><td>$x$ &lt;= 15.0 $\\mathrm{mmag}$</td><td>minimum</td></tr>\n",
       "<tr><td>demo1.ZeropointRMS.minimum_megacam_u</td><td>$x$ &lt;= 30.0 $\\mathrm{mmag}$</td><td>minimum</td></tr>\n",
       "<tr><td>demo1.ZeropointRMS.stretch_hsc_r</td><td>$x$ &lt;= 6.0 $\\mathrm{mmag}$</td><td>stretch</td></tr>\n",
       "<tr><td>demo1.ZeropointRMS.stretch_megacam_r</td><td>$x$ &lt;= 10.0 $\\mathrm{mmag}$</td><td>stretch</td></tr>\n",
       "<tr><td>demo1.ZeropointRMS.stretch_megacam_u</td><td>$x$ &lt;= 20.0 $\\mathrm{mmag}$</td><td>stretch</td></tr>\n",
       "</table>"
      ],
      "text/plain": [
       "<lsst.verify.specset.SpecificationSet at 0x1179ab240>"
      ]
     },
     "execution_count": 6,
     "metadata": {},
     "output_type": "execute_result"
    }
   ],
   "source": [
    "demo1_specs_yaml = \"\"\"\n",
    "# Partials that define metadata queries\n",
    "# for pipeline execution contexts with\n",
    "# MegaCam r and u-band data, or HSC r-band.\n",
    "\n",
    "---\n",
    "id: \"megacam-r\"\n",
    "metadata_query:\n",
    "  camera: \"megacam\"\n",
    "  filter_name: \"r\"\n",
    "\n",
    "---\n",
    "id: \"megacam-u\"\n",
    "metadata_query:\n",
    "  camera: \"megacam\"\n",
    "  filter_name: \"u\"\n",
    "\n",
    "---\n",
    "id: \"hsc-r\"\n",
    "metadata_query:\n",
    "  camera: \"hsc\"\n",
    "  filter_name: \"r\"\n",
    "\n",
    "# We'll also write partials for each metric,\n",
    "# that set up the basic test. Alternatively\n",
    "# we could create full specifications to\n",
    "# inherit from for each camera.\n",
    "\n",
    "---\n",
    "id: \"ZeropointRMS\"\n",
    "metric: \"demo1.ZeropointRMS\"\n",
    "threshold:\n",
    "  operator: \"<=\"\n",
    "  unit: \"mmag\"\n",
    "\n",
    "---\n",
    "id: \"Completeness\"\n",
    "metric: \"demo1.Completeness\"\n",
    "threshold:\n",
    "  operator: \">=\"\n",
    "  unit: \"mag\"\n",
    "\n",
    "# Partials to tag specifications as\n",
    "# \"minimum\" requirements or \"stretch\n",
    "# goals\"\n",
    "---\n",
    "id: \"tag-minimum\"\n",
    "tags:\n",
    "  - \"minimum\"\n",
    "\n",
    "---\n",
    "id: \"tag-stretch\"\n",
    "tags:\n",
    "  - \"stretch\"\n",
    "\n",
    "# ZeropointRMS specifications\n",
    "# tailored for each camera, in\n",
    "# minimum and stretch goal variants.\n",
    "\n",
    "---\n",
    "name: \"minimum_megacam_r\"\n",
    "base: [\"#ZeropointRMS\", \"#megacam-r\", \"#tag-minimum\"]\n",
    "threshold:\n",
    "  value: 15.0\n",
    "\n",
    "---\n",
    "name: \"stretch_megacam_r\"\n",
    "base: [\"#ZeropointRMS\", \"#megacam-r\", \"#tag-stretch\"]\n",
    "threshold:\n",
    "  value: 10.0\n",
    "\n",
    "---\n",
    "name: \"minimum_megacam_u\"\n",
    "base: [\"#ZeropointRMS\", \"#megacam-u\", \"#tag-minimum\"]\n",
    "threshold:\n",
    "  value: 30.0\n",
    "\n",
    "---\n",
    "name: \"stretch_megacam_u\"\n",
    "base: [\"#ZeropointRMS\", \"#megacam-u\", \"#tag-stretch\"]\n",
    "threshold:\n",
    "  value: 20.0\n",
    "\n",
    "---\n",
    "name: \"minimum_hsc_r\"\n",
    "base: [\"#ZeropointRMS\", \"#hsc-r\", \"#tag-minimum\"]\n",
    "threshold:\n",
    "  value: 12.0\n",
    "\n",
    "---\n",
    "name: \"stretch_hsc_r\"\n",
    "base: [\"#ZeropointRMS\", \"#hsc-r\", \"#tag-stretch\"]\n",
    "threshold:\n",
    "  value: 6.0\n",
    "\n",
    "# Competeness specifications,\n",
    "# tailored for each camera in\n",
    "# minimum and stretch goal variants\n",
    "\n",
    "---\n",
    "name: \"minimum_megacam_r\"\n",
    "base: [\"#Completeness\", \"#megacam-r\", \"#tag-minimum\"]\n",
    "threshold:\n",
    "  value: 24.0\n",
    "\n",
    "---\n",
    "name: \"stretch_megacam_r\"\n",
    "base: [\"#Completeness\", \"#megacam-r\", \"#tag-stretch\"]\n",
    "threshold:\n",
    "  value: 26.0\n",
    "\n",
    "---\n",
    "name: \"minimum_megacam_u\"\n",
    "base: [\"#Completeness\", \"#megacam-u\", \"#tag-minimum\"]\n",
    "threshold:\n",
    "  value: 20.0\n",
    "\n",
    "---\n",
    "name: \"stretch_megacam_u\"\n",
    "base: [\"#Completeness\", \"#megacam-u\", \"#tag-stretch\"]\n",
    "threshold:\n",
    "  value: 24.0\n",
    "\n",
    "---\n",
    "name: \"minimum_hsc_r\"\n",
    "base: [\"#Completeness\", \"#hsc-r\", \"#tag-minimum\"]\n",
    "threshold:\n",
    "  value: 20.0\n",
    "\n",
    "---\n",
    "name: \"stretch_hsc_r\"\n",
    "base: [\"#Completeness\", \"#hsc-r\", \"#tag-stretch\"]\n",
    "threshold:\n",
    "  value: 28.0\n",
    "\"\"\"\n",
    "\n",
    "with TemporaryDirectory() as temp_dir:\n",
    "    # Write YAML to disk, emulating the verify_metrics package for this demo\n",
    "    specs_dirname = os.path.join(temp_dir, 'demo1')\n",
    "    os.makedirs(specs_dirname)\n",
    "    demo1_specs_path = os.path.join(specs_dirname, 'demo1.yaml')\n",
    "    with open(demo1_specs_path, mode='w') as f:\n",
    "        f.write(demo1_specs_yaml)\n",
    "\n",
    "    # Parse the YAML into a set of Specification objects\n",
    "    demo_specs = lsst.verify.SpecificationSet.load_single_package(specs_dirname)\n",
    "\n",
    "demo_specs"
   ]
  },
  {
   "cell_type": "code",
   "execution_count": 7,
   "metadata": {},
   "outputs": [
    {
     "name": "stdout",
     "output_type": "stream",
     "text": [
      "demo2.SourceCount (dimensionless_unscaled): Number of matched sources.\n"
     ]
    }
   ],
   "source": [
    "sourcecount_metric = lsst.verify.Metric(\n",
    "    'demo2.SourceCount',\n",
    "    \"Number of matched sources.\",\n",
    "    unit=u.dimensionless_unscaled,\n",
    "    tags=['demo'])\n",
    "demo_metrics.insert(sourcecount_metric)\n",
    "\n",
    "print(demo_metrics['demo2.SourceCount'])"
   ]
  },
  {
   "cell_type": "code",
   "execution_count": 8,
   "metadata": {
    "collapsed": true
   },
   "outputs": [],
   "source": [
    "sourcecount_minimum_spec = lsst.verify.ThresholdSpecification(\n",
    "    'demo2.SourceCount.minimum_cfht_r',\n",
    "    250 * u.dimensionless_unscaled,\n",
    "    '>=',\n",
    "    tags=['minimum'],\n",
    "    metadata_query={'camera': 'megacam', 'filter_name': 'r'}\n",
    ")\n",
    "demo_specs.insert(sourcecount_minimum_spec)\n",
    "\n",
    "sourcecount_stretch_spec = lsst.verify.ThresholdSpecification(\n",
    "    'demo2.SourceCount.stretch_cfht_r',\n",
    "    500 * u.dimensionless_unscaled,\n",
    "    '>=',\n",
    "    tags=['stretch'],\n",
    "    metadata_query={'camera': 'megacam', 'filter_name': 'r'}\n",
    ")\n",
    "demo_specs.insert(sourcecount_stretch_spec)"
   ]
  },
  {
   "cell_type": "code",
   "execution_count": 9,
   "metadata": {},
   "outputs": [
    {
     "name": "stderr",
     "output_type": "stream",
     "text": [
      "WARNING: AstropyDeprecationWarning: Config parameter 'max_lines' in section [table.pprint] of the file '/Users/mareuter/.astropy/config/astropy.cfg' is deprecated. Use 'max_lines' at the top-level instead. [astropy.config.configuration]\n"
     ]
    },
    {
     "data": {
      "text/html": [
       "&lt;Table length=3&gt;\n",
       "<table id=\"table4690770016\" class=\"table-striped table-bordered table-condensed\">\n",
       "<thead><tr><th>Name</th><th>Description</th><th>Units</th><th>Reference</th><th>Tags</th></tr></thead>\n",
       "<thead><tr><th>str18</th><th>str50</th><th>str15</th><th>str28</th><th>str16</th></tr></thead>\n",
       "<tr><td>demo1.Completeness</td><td>Magnitude of the catalog&apos;s 50% completeness limit.</td><td>$\\mathrm{mag}$</td><td>https://example.com/Complete</td><td>demo, photometry</td></tr>\n",
       "<tr><td>demo1.ZeropointRMS</td><td>Photometric calibration RMS.</td><td>$\\mathrm{mmag}$</td><td>https://example.com/PhotRMS</td><td>demo, photometry</td></tr>\n",
       "<tr><td>demo2.SourceCount</td><td>Number of matched sources.</td><td>$\\mathrm{}$</td><td></td><td>demo</td></tr>\n",
       "</table>"
      ],
      "text/plain": [
       "<lsst.verify.metricset.MetricSet at 0x11796e940>"
      ]
     },
     "execution_count": 9,
     "metadata": {},
     "output_type": "execute_result"
    }
   ],
   "source": [
    "demo_metrics"
   ]
  },
  {
   "cell_type": "code",
   "execution_count": 10,
   "metadata": {},
   "outputs": [
    {
     "name": "stderr",
     "output_type": "stream",
     "text": [
      "WARNING: AstropyDeprecationWarning: Config parameter 'max_lines' in section [table.pprint] of the file '/Users/mareuter/.astropy/config/astropy.cfg' is deprecated. Use 'max_lines' at the top-level instead. [astropy.config.configuration]\n"
     ]
    },
    {
     "data": {
      "text/html": [
       "&lt;Table length=14&gt;\n",
       "<table id=\"table4691092032\" class=\"table-striped table-bordered table-condensed\">\n",
       "<thead><tr><th>Name</th><th>Test</th><th>Tags</th></tr></thead>\n",
       "<thead><tr><th>str36</th><th>str27</th><th>str7</th></tr></thead>\n",
       "<tr><td>demo1.Completeness.minimum_hsc_r</td><td>$x$ &gt;= 20.0 $\\mathrm{mag}$</td><td>minimum</td></tr>\n",
       "<tr><td>demo1.Completeness.minimum_megacam_r</td><td>$x$ &gt;= 24.0 $\\mathrm{mag}$</td><td>minimum</td></tr>\n",
       "<tr><td>demo1.Completeness.minimum_megacam_u</td><td>$x$ &gt;= 20.0 $\\mathrm{mag}$</td><td>minimum</td></tr>\n",
       "<tr><td>demo1.Completeness.stretch_hsc_r</td><td>$x$ &gt;= 28.0 $\\mathrm{mag}$</td><td>stretch</td></tr>\n",
       "<tr><td>demo1.Completeness.stretch_megacam_r</td><td>$x$ &gt;= 26.0 $\\mathrm{mag}$</td><td>stretch</td></tr>\n",
       "<tr><td>demo1.Completeness.stretch_megacam_u</td><td>$x$ &gt;= 24.0 $\\mathrm{mag}$</td><td>stretch</td></tr>\n",
       "<tr><td>demo1.ZeropointRMS.minimum_hsc_r</td><td>$x$ &lt;= 12.0 $\\mathrm{mmag}$</td><td>minimum</td></tr>\n",
       "<tr><td>demo1.ZeropointRMS.minimum_megacam_r</td><td>$x$ &lt;= 15.0 $\\mathrm{mmag}$</td><td>minimum</td></tr>\n",
       "<tr><td>demo1.ZeropointRMS.minimum_megacam_u</td><td>$x$ &lt;= 30.0 $\\mathrm{mmag}$</td><td>minimum</td></tr>\n",
       "<tr><td>demo1.ZeropointRMS.stretch_hsc_r</td><td>$x$ &lt;= 6.0 $\\mathrm{mmag}$</td><td>stretch</td></tr>\n",
       "<tr><td>demo1.ZeropointRMS.stretch_megacam_r</td><td>$x$ &lt;= 10.0 $\\mathrm{mmag}$</td><td>stretch</td></tr>\n",
       "<tr><td>demo1.ZeropointRMS.stretch_megacam_u</td><td>$x$ &lt;= 20.0 $\\mathrm{mmag}$</td><td>stretch</td></tr>\n",
       "<tr><td>demo2.SourceCount.minimum_cfht_r</td><td>$x$ &gt;= 250.0 $\\mathrm{}$</td><td>minimum</td></tr>\n",
       "<tr><td>demo2.SourceCount.stretch_cfht_r</td><td>$x$ &gt;= 500.0 $\\mathrm{}$</td><td>stretch</td></tr>\n",
       "</table>"
      ],
      "text/plain": [
       "<lsst.verify.specset.SpecificationSet at 0x1179ab240>"
      ]
     },
     "execution_count": 10,
     "metadata": {},
     "output_type": "execute_result"
    }
   ],
   "source": [
    "demo_specs"
   ]
  },
  {
   "cell_type": "code",
   "execution_count": 11,
   "metadata": {
    "collapsed": true
   },
   "outputs": [],
   "source": [
    "catalog_mags = np.random.uniform(18, 26, size=100)*u.mag\n",
    "obs_mags = catalog_mags - 25*u.mag + np.random.normal(scale=12.0, size=100)*u.mmag"
   ]
  },
  {
   "cell_type": "code",
   "execution_count": 12,
   "metadata": {
    "collapsed": true
   },
   "outputs": [],
   "source": [
    "zp = np.median(catalog_mags - obs_mags)"
   ]
  },
  {
   "cell_type": "code",
   "execution_count": 13,
   "metadata": {
    "collapsed": true
   },
   "outputs": [],
   "source": [
    "zp_rms = np.std(catalog_mags - obs_mags)"
   ]
  },
  {
   "cell_type": "code",
   "execution_count": 14,
   "metadata": {
    "collapsed": true
   },
   "outputs": [],
   "source": [
    "zp_meas = lsst.verify.Measurement('demo1.ZeropointRMS', zp_rms)"
   ]
  },
  {
   "cell_type": "code",
   "execution_count": 15,
   "metadata": {
    "collapsed": true
   },
   "outputs": [],
   "source": [
    "zp_meas.extras['zp'] = lsst.verify.Datum(zp, label=\"m_0\",\n",
    "                                         description=\"Estimated zeropoint.\")\n",
    "zp_meas.extras['catalog_mags'] = lsst.verify.Datum(catalog_mags, label=\"m_cat\",\n",
    "                                                   description=\"Catalog magnitudes.\")\n",
    "zp_meas.extras['obs_mags'] = lsst.verify.Datum(obs_mags, label=\"m_obs\",\n",
    "                                               description=\"Instrument magnitudes.\")"
   ]
  },
  {
   "cell_type": "code",
   "execution_count": 16,
   "metadata": {
    "collapsed": true
   },
   "outputs": [],
   "source": [
    "zp_meas.notes['estimator'] = 'numpy.std'"
   ]
  },
  {
   "cell_type": "code",
   "execution_count": 17,
   "metadata": {
    "collapsed": true
   },
   "outputs": [],
   "source": [
    "# Here's a mock dataset\n",
    "mag_grid = np.linspace(22, 28, num=50, endpoint=True)\n",
    "c_percent = 1. / np.cosh((mag_grid - mag_grid.min()) / 2.) * 100.\n",
    "\n",
    "# Make the measurement\n",
    "completeness_mag = np.interp(50.0, c_percent[::-1], mag_grid[::-1]) * u.mag\n",
    "\n",
    "# Package the measurement\n",
    "completeness_meas = lsst.verify.Measurement(\n",
    "    'demo1.Completeness',\n",
    "    completeness_mag,\n",
    ")\n",
    "completeness_meas.extras['mag_grid'] = lsst.verify.Datum(\n",
    "    mag_grid*u.mag,\n",
    "    label=\"m\",\n",
    "    description=\"Magnitude\")\n",
    "completeness_meas.extras['c_frac'] = lsst.verify.Datum(\n",
    "    c_percent*u.percent,\n",
    "    label=\"C\",\n",
    "    description=\"Photometric catalog completeness.\")"
   ]
  },
  {
   "cell_type": "code",
   "execution_count": 18,
   "metadata": {
    "collapsed": true
   },
   "outputs": [],
   "source": [
    "job = lsst.verify.Job.load_metrics_package()"
   ]
  },
  {
   "cell_type": "code",
   "execution_count": 19,
   "metadata": {
    "collapsed": true
   },
   "outputs": [],
   "source": [
    "job.metrics.update(demo_metrics)\n",
    "job.specs.update(demo_specs)"
   ]
  },
  {
   "cell_type": "code",
   "execution_count": 20,
   "metadata": {
    "collapsed": true
   },
   "outputs": [],
   "source": [
    "job.measurements.insert(zp_meas)\n",
    "job.measurements.insert(completeness_meas)"
   ]
  },
  {
   "cell_type": "code",
   "execution_count": 21,
   "metadata": {
    "collapsed": true
   },
   "outputs": [],
   "source": [
    "job.meta.update({'camera': 'megacam', 'filter_name': 'r'})"
   ]
  },
  {
   "cell_type": "code",
   "execution_count": 22,
   "metadata": {},
   "outputs": [
    {
     "name": "stdout",
     "output_type": "stream",
     "text": [
      "{\n",
      "    \"camera\": \"megacam\",\n",
      "    \"demo1.ZeropointRMS.estimator\": \"numpy.std\",\n",
      "    \"filter_name\": \"r\"\n",
      "}\n"
     ]
    }
   ],
   "source": [
    "print(job.meta)"
   ]
  },
  {
   "cell_type": "code",
   "execution_count": 23,
   "metadata": {
    "collapsed": true
   },
   "outputs": [],
   "source": [
    "job.write('demo1.verify.json')"
   ]
  },
  {
   "cell_type": "code",
   "execution_count": 24,
   "metadata": {
    "collapsed": true
   },
   "outputs": [],
   "source": [
    "demo2_measurements = {}"
   ]
  },
  {
   "cell_type": "code",
   "execution_count": 25,
   "metadata": {
    "collapsed": true
   },
   "outputs": [],
   "source": [
    "demo2_measurements['demo2.SourceCount'] = 350*u.dimensionless_unscaled"
   ]
  },
  {
   "cell_type": "code",
   "execution_count": 26,
   "metadata": {},
   "outputs": [
    {
     "data": {
      "text/plain": [
       "'demo2.verify.json'"
      ]
     },
     "execution_count": 26,
     "metadata": {},
     "output_type": "execute_result"
    }
   ],
   "source": [
    "lsst.verify.output_quantities('demo2', demo2_measurements)"
   ]
  },
  {
   "cell_type": "code",
   "execution_count": 28,
   "metadata": {},
   "outputs": [
    {
     "name": "stdout",
     "output_type": "stream",
     "text": [
      "verify.bin.dispatchverify.main INFO: Loading demo1.verify.json\n",
      "verify.bin.dispatchverify.main INFO: Loading demo2.verify.json\n",
      "verify.bin.dispatchverify.main INFO: Merging verification Job JSON.\n",
      "verify.bin.dispatchverify.main INFO: Refreshing metric definitions from verify_metrics\n",
      "verify.bin.dispatchverify.main INFO: Writing Job JSON to demo.verify.json.\n"
     ]
    }
   ],
   "source": [
    "%%bash\n",
    "export DYLD_LIBRARY_PATH=$LSST_LIBRARY_PATH\n",
    "dispatch_verify.py --test --ignore-lsstsw --write demo.verify.json demo1.verify.json demo2.verify.json"
   ]
  },
  {
   "cell_type": "code",
   "execution_count": 29,
   "metadata": {
    "collapsed": true
   },
   "outputs": [],
   "source": [
    "with open('demo.verify.json') as f:\n",
    "    job = lsst.verify.Job.deserialize(**json.load(f))"
   ]
  },
  {
   "cell_type": "code",
   "execution_count": 31,
   "metadata": {},
   "outputs": [
    {
     "data": {
      "text/html": [
       "&lt;Table length=6&gt;\n",
       "<table id=\"table4692757640-777135\" class=\"table-striped table-bordered table-condensed\">\n",
       "<thead><tr><th>Status</th><th>Specification</th><th>Measurement</th><th>Test</th><th>Metric Tags</th><th>Spec. Tags</th></tr></thead>\n",
       "<tr><td>✅</td><td>demo1.Completeness.minimum_megacam_r</td><td>24.6 $\\mathrm{mag}$</td><td>$x$ &gt;= 24.0 $\\mathrm{mag}$</td><td>demo, photometry</td><td>minimum</td></tr>\n",
       "<tr><td>❌</td><td>demo1.Completeness.stretch_megacam_r</td><td>24.6 $\\mathrm{mag}$</td><td>$x$ &gt;= 26.0 $\\mathrm{mag}$</td><td>demo, photometry</td><td>stretch</td></tr>\n",
       "<tr><td>✅</td><td>demo1.ZeropointRMS.minimum_megacam_r</td><td>13.3 $\\mathrm{mmag}$</td><td>$x$ &lt;= 15.0 $\\mathrm{mmag}$</td><td>demo, photometry</td><td>minimum</td></tr>\n",
       "<tr><td>❌</td><td>demo1.ZeropointRMS.stretch_megacam_r</td><td>13.3 $\\mathrm{mmag}$</td><td>$x$ &lt;= 10.0 $\\mathrm{mmag}$</td><td>demo, photometry</td><td>stretch</td></tr>\n",
       "<tr><td>✅</td><td>demo2.SourceCount.minimum_cfht_r</td><td>350.0 $\\mathrm{}$</td><td>$x$ &gt;= 250.0 $\\mathrm{}$</td><td>demo</td><td>minimum</td></tr>\n",
       "<tr><td>❌</td><td>demo2.SourceCount.stretch_cfht_r</td><td>350.0 $\\mathrm{}$</td><td>$x$ &gt;= 500.0 $\\mathrm{}$</td><td>demo</td><td>stretch</td></tr>\n",
       "</table><style>table.dataTable {clear: both; width: auto !important; margin: 0 !important;}\n",
       ".dataTables_info, .dataTables_length, .dataTables_filter, .dataTables_paginate{\n",
       "display: inline-block; margin-right: 1em; }\n",
       ".paginate_button { margin-right: 5px; }\n",
       "</style>\n",
       "<script>\n",
       "\n",
       "var astropy_sort_num = function(a, b) {\n",
       "    var a_num = parseFloat(a);\n",
       "    var b_num = parseFloat(b);\n",
       "\n",
       "    if (isNaN(a_num) && isNaN(b_num))\n",
       "        return ((a < b) ? -1 : ((a > b) ? 1 : 0));\n",
       "    else if (!isNaN(a_num) && !isNaN(b_num))\n",
       "        return ((a_num < b_num) ? -1 : ((a_num > b_num) ? 1 : 0));\n",
       "    else\n",
       "        return isNaN(a_num) ? -1 : 1;\n",
       "}\n",
       "\n",
       "require.config({paths: {\n",
       "    datatables: 'https://cdn.datatables.net/1.10.12/js/jquery.dataTables.min'\n",
       "}});\n",
       "require([\"datatables\"], function(){\n",
       "    console.log(\"$('#table4692757640-777135').dataTable()\");\n",
       "    \n",
       "jQuery.extend( jQuery.fn.dataTableExt.oSort, {\n",
       "    \"optionalnum-asc\": astropy_sort_num,\n",
       "    \"optionalnum-desc\": function (a,b) { return -astropy_sort_num(a, b); }\n",
       "});\n",
       "\n",
       "    $('#table4692757640-777135').dataTable({\n",
       "        order: [],\n",
       "        pageLength: 50,\n",
       "        lengthMenu: [[10, 25, 50, 100, 500, 1000, -1], [10, 25, 50, 100, 500, 1000, 'All']],\n",
       "        pagingType: \"full_numbers\",\n",
       "        columnDefs: [{targets: [], type: \"optionalnum\"}]\n",
       "    });\n",
       "});\n",
       "</script>\n"
      ],
      "text/plain": [
       "<IPython.core.display.HTML object>"
      ]
     },
     "execution_count": 31,
     "metadata": {},
     "output_type": "execute_result"
    }
   ],
   "source": [
    "job.report().show()"
   ]
  },
  {
   "cell_type": "code",
   "execution_count": 32,
   "metadata": {},
   "outputs": [
    {
     "name": "stdout",
     "output_type": "stream",
     "text": [
      "{\n",
      "    \"camera\": \"megacam\",\n",
      "    \"demo1.ZeropointRMS.estimator\": \"numpy.std\",\n",
      "    \"filter_name\": \"r\",\n",
      "    \"packages\": {}\n",
      "}\n"
     ]
    }
   ],
   "source": [
    "print(job.meta)"
   ]
  },
  {
   "cell_type": "code",
   "execution_count": 34,
   "metadata": {},
   "outputs": [
    {
     "data": {
      "text/html": [
       "&lt;Table length=4&gt;\n",
       "<table id=\"table4692727456-452258\" class=\"table-striped table-bordered table-condensed\">\n",
       "<thead><tr><th>Status</th><th>Specification</th><th>Measurement</th><th>Test</th><th>Metric Tags</th><th>Spec. Tags</th></tr></thead>\n",
       "<tr><td>✅</td><td>demo1.Completeness.minimum_megacam_r</td><td>24.6 $\\mathrm{mag}$</td><td>$x$ &gt;= 24.0 $\\mathrm{mag}$</td><td>demo, photometry</td><td>minimum</td></tr>\n",
       "<tr><td>❌</td><td>demo1.Completeness.stretch_megacam_r</td><td>24.6 $\\mathrm{mag}$</td><td>$x$ &gt;= 26.0 $\\mathrm{mag}$</td><td>demo, photometry</td><td>stretch</td></tr>\n",
       "<tr><td>✅</td><td>demo1.ZeropointRMS.minimum_megacam_r</td><td>13.3 $\\mathrm{mmag}$</td><td>$x$ &lt;= 15.0 $\\mathrm{mmag}$</td><td>demo, photometry</td><td>minimum</td></tr>\n",
       "<tr><td>❌</td><td>demo1.ZeropointRMS.stretch_megacam_r</td><td>13.3 $\\mathrm{mmag}$</td><td>$x$ &lt;= 10.0 $\\mathrm{mmag}$</td><td>demo, photometry</td><td>stretch</td></tr>\n",
       "</table><style>table.dataTable {clear: both; width: auto !important; margin: 0 !important;}\n",
       ".dataTables_info, .dataTables_length, .dataTables_filter, .dataTables_paginate{\n",
       "display: inline-block; margin-right: 1em; }\n",
       ".paginate_button { margin-right: 5px; }\n",
       "</style>\n",
       "<script>\n",
       "\n",
       "var astropy_sort_num = function(a, b) {\n",
       "    var a_num = parseFloat(a);\n",
       "    var b_num = parseFloat(b);\n",
       "\n",
       "    if (isNaN(a_num) && isNaN(b_num))\n",
       "        return ((a < b) ? -1 : ((a > b) ? 1 : 0));\n",
       "    else if (!isNaN(a_num) && !isNaN(b_num))\n",
       "        return ((a_num < b_num) ? -1 : ((a_num > b_num) ? 1 : 0));\n",
       "    else\n",
       "        return isNaN(a_num) ? -1 : 1;\n",
       "}\n",
       "\n",
       "require.config({paths: {\n",
       "    datatables: 'https://cdn.datatables.net/1.10.12/js/jquery.dataTables.min'\n",
       "}});\n",
       "require([\"datatables\"], function(){\n",
       "    console.log(\"$('#table4692727456-452258').dataTable()\");\n",
       "    \n",
       "jQuery.extend( jQuery.fn.dataTableExt.oSort, {\n",
       "    \"optionalnum-asc\": astropy_sort_num,\n",
       "    \"optionalnum-desc\": function (a,b) { return -astropy_sort_num(a, b); }\n",
       "});\n",
       "\n",
       "    $('#table4692727456-452258').dataTable({\n",
       "        order: [],\n",
       "        pageLength: 50,\n",
       "        lengthMenu: [[10, 25, 50, 100, 500, 1000, -1], [10, 25, 50, 100, 500, 1000, 'All']],\n",
       "        pagingType: \"full_numbers\",\n",
       "        columnDefs: [{targets: [], type: \"optionalnum\"}]\n",
       "    });\n",
       "});\n",
       "</script>\n"
      ],
      "text/plain": [
       "<IPython.core.display.HTML object>"
      ]
     },
     "execution_count": 34,
     "metadata": {},
     "output_type": "execute_result"
    }
   ],
   "source": [
    "job.report(name='demo1').show()"
   ]
  },
  {
   "cell_type": "code",
   "execution_count": 35,
   "metadata": {},
   "outputs": [
    {
     "data": {
      "text/html": [
       "&lt;Table length=2&gt;\n",
       "<table id=\"table4692728688-689160\" class=\"table-striped table-bordered table-condensed\">\n",
       "<thead><tr><th>Status</th><th>Specification</th><th>Measurement</th><th>Test</th><th>Metric Tags</th><th>Spec. Tags</th></tr></thead>\n",
       "<tr><td>✅</td><td>demo1.ZeropointRMS.minimum_megacam_r</td><td>13.3 $\\mathrm{mmag}$</td><td>$x$ &lt;= 15.0 $\\mathrm{mmag}$</td><td>demo, photometry</td><td>minimum</td></tr>\n",
       "<tr><td>❌</td><td>demo1.ZeropointRMS.stretch_megacam_r</td><td>13.3 $\\mathrm{mmag}$</td><td>$x$ &lt;= 10.0 $\\mathrm{mmag}$</td><td>demo, photometry</td><td>stretch</td></tr>\n",
       "</table><style>table.dataTable {clear: both; width: auto !important; margin: 0 !important;}\n",
       ".dataTables_info, .dataTables_length, .dataTables_filter, .dataTables_paginate{\n",
       "display: inline-block; margin-right: 1em; }\n",
       ".paginate_button { margin-right: 5px; }\n",
       "</style>\n",
       "<script>\n",
       "\n",
       "var astropy_sort_num = function(a, b) {\n",
       "    var a_num = parseFloat(a);\n",
       "    var b_num = parseFloat(b);\n",
       "\n",
       "    if (isNaN(a_num) && isNaN(b_num))\n",
       "        return ((a < b) ? -1 : ((a > b) ? 1 : 0));\n",
       "    else if (!isNaN(a_num) && !isNaN(b_num))\n",
       "        return ((a_num < b_num) ? -1 : ((a_num > b_num) ? 1 : 0));\n",
       "    else\n",
       "        return isNaN(a_num) ? -1 : 1;\n",
       "}\n",
       "\n",
       "require.config({paths: {\n",
       "    datatables: 'https://cdn.datatables.net/1.10.12/js/jquery.dataTables.min'\n",
       "}});\n",
       "require([\"datatables\"], function(){\n",
       "    console.log(\"$('#table4692728688-689160').dataTable()\");\n",
       "    \n",
       "jQuery.extend( jQuery.fn.dataTableExt.oSort, {\n",
       "    \"optionalnum-asc\": astropy_sort_num,\n",
       "    \"optionalnum-desc\": function (a,b) { return -astropy_sort_num(a, b); }\n",
       "});\n",
       "\n",
       "    $('#table4692728688-689160').dataTable({\n",
       "        order: [],\n",
       "        pageLength: 50,\n",
       "        lengthMenu: [[10, 25, 50, 100, 500, 1000, -1], [10, 25, 50, 100, 500, 1000, 'All']],\n",
       "        pagingType: \"full_numbers\",\n",
       "        columnDefs: [{targets: [], type: \"optionalnum\"}]\n",
       "    });\n",
       "});\n",
       "</script>\n"
      ],
      "text/plain": [
       "<IPython.core.display.HTML object>"
      ]
     },
     "execution_count": 35,
     "metadata": {},
     "output_type": "execute_result"
    }
   ],
   "source": [
    "job.report(name='demo1.ZeropointRMS').show()"
   ]
  },
  {
   "cell_type": "code",
   "execution_count": 36,
   "metadata": {},
   "outputs": [
    {
     "data": {
      "text/plain": [
       "{'minimum'}"
      ]
     },
     "execution_count": 36,
     "metadata": {},
     "output_type": "execute_result"
    }
   ],
   "source": [
    "job.specs['demo1.ZeropointRMS.minimum_megacam_r'].tags"
   ]
  },
  {
   "cell_type": "code",
   "execution_count": 38,
   "metadata": {},
   "outputs": [
    {
     "data": {
      "text/html": [
       "&lt;Table length=3&gt;\n",
       "<table id=\"table4692728688-243429\" class=\"table-striped table-bordered table-condensed\">\n",
       "<thead><tr><th>Status</th><th>Specification</th><th>Measurement</th><th>Test</th><th>Metric Tags</th><th>Spec. Tags</th></tr></thead>\n",
       "<tr><td>✅</td><td>demo1.Completeness.minimum_megacam_r</td><td>24.6 $\\mathrm{mag}$</td><td>$x$ &gt;= 24.0 $\\mathrm{mag}$</td><td>demo, photometry</td><td>minimum</td></tr>\n",
       "<tr><td>✅</td><td>demo1.ZeropointRMS.minimum_megacam_r</td><td>13.3 $\\mathrm{mmag}$</td><td>$x$ &lt;= 15.0 $\\mathrm{mmag}$</td><td>demo, photometry</td><td>minimum</td></tr>\n",
       "<tr><td>✅</td><td>demo2.SourceCount.minimum_cfht_r</td><td>350.0 $\\mathrm{}$</td><td>$x$ &gt;= 250.0 $\\mathrm{}$</td><td>demo</td><td>minimum</td></tr>\n",
       "</table><style>table.dataTable {clear: both; width: auto !important; margin: 0 !important;}\n",
       ".dataTables_info, .dataTables_length, .dataTables_filter, .dataTables_paginate{\n",
       "display: inline-block; margin-right: 1em; }\n",
       ".paginate_button { margin-right: 5px; }\n",
       "</style>\n",
       "<script>\n",
       "\n",
       "var astropy_sort_num = function(a, b) {\n",
       "    var a_num = parseFloat(a);\n",
       "    var b_num = parseFloat(b);\n",
       "\n",
       "    if (isNaN(a_num) && isNaN(b_num))\n",
       "        return ((a < b) ? -1 : ((a > b) ? 1 : 0));\n",
       "    else if (!isNaN(a_num) && !isNaN(b_num))\n",
       "        return ((a_num < b_num) ? -1 : ((a_num > b_num) ? 1 : 0));\n",
       "    else\n",
       "        return isNaN(a_num) ? -1 : 1;\n",
       "}\n",
       "\n",
       "require.config({paths: {\n",
       "    datatables: 'https://cdn.datatables.net/1.10.12/js/jquery.dataTables.min'\n",
       "}});\n",
       "require([\"datatables\"], function(){\n",
       "    console.log(\"$('#table4692728688-243429').dataTable()\");\n",
       "    \n",
       "jQuery.extend( jQuery.fn.dataTableExt.oSort, {\n",
       "    \"optionalnum-asc\": astropy_sort_num,\n",
       "    \"optionalnum-desc\": function (a,b) { return -astropy_sort_num(a, b); }\n",
       "});\n",
       "\n",
       "    $('#table4692728688-243429').dataTable({\n",
       "        order: [],\n",
       "        pageLength: 50,\n",
       "        lengthMenu: [[10, 25, 50, 100, 500, 1000, -1], [10, 25, 50, 100, 500, 1000, 'All']],\n",
       "        pagingType: \"full_numbers\",\n",
       "        columnDefs: [{targets: [], type: \"optionalnum\"}]\n",
       "    });\n",
       "});\n",
       "</script>\n"
      ],
      "text/plain": [
       "<IPython.core.display.HTML object>"
      ]
     },
     "execution_count": 38,
     "metadata": {},
     "output_type": "execute_result"
    }
   ],
   "source": [
    "job.report(spec_tags=['minimum']).show()"
   ]
  },
  {
   "cell_type": "code",
   "execution_count": 39,
   "metadata": {},
   "outputs": [
    {
     "data": {
      "text/html": [
       "&lt;Table length=0&gt;\n",
       "<table id=\"table4692726840-363057\" class=\"table-striped table-bordered table-condensed\">\n",
       "<thead><tr><th>Status</th><th>Specification</th><th>Measurement</th><th>Test</th><th>Metric Tags</th><th>Spec. Tags</th></tr></thead>\n",
       "</table><style>table.dataTable {clear: both; width: auto !important; margin: 0 !important;}\n",
       ".dataTables_info, .dataTables_length, .dataTables_filter, .dataTables_paginate{\n",
       "display: inline-block; margin-right: 1em; }\n",
       ".paginate_button { margin-right: 5px; }\n",
       "</style>\n",
       "<script>\n",
       "\n",
       "var astropy_sort_num = function(a, b) {\n",
       "    var a_num = parseFloat(a);\n",
       "    var b_num = parseFloat(b);\n",
       "\n",
       "    if (isNaN(a_num) && isNaN(b_num))\n",
       "        return ((a < b) ? -1 : ((a > b) ? 1 : 0));\n",
       "    else if (!isNaN(a_num) && !isNaN(b_num))\n",
       "        return ((a_num < b_num) ? -1 : ((a_num > b_num) ? 1 : 0));\n",
       "    else\n",
       "        return isNaN(a_num) ? -1 : 1;\n",
       "}\n",
       "\n",
       "require.config({paths: {\n",
       "    datatables: 'https://cdn.datatables.net/1.10.12/js/jquery.dataTables.min'\n",
       "}});\n",
       "require([\"datatables\"], function(){\n",
       "    console.log(\"$('#table4692726840-363057').dataTable()\");\n",
       "    \n",
       "jQuery.extend( jQuery.fn.dataTableExt.oSort, {\n",
       "    \"optionalnum-asc\": astropy_sort_num,\n",
       "    \"optionalnum-desc\": function (a,b) { return -astropy_sort_num(a, b); }\n",
       "});\n",
       "\n",
       "    $('#table4692726840-363057').dataTable({\n",
       "        order: [],\n",
       "        pageLength: 50,\n",
       "        lengthMenu: [[10, 25, 50, 100, 500, 1000, -1], [10, 25, 50, 100, 500, 1000, 'All']],\n",
       "        pagingType: \"full_numbers\",\n",
       "        columnDefs: [{targets: [0, 1, 2, 3, 4, 5], type: \"optionalnum\"}]\n",
       "    });\n",
       "});\n",
       "</script>\n"
      ],
      "text/plain": [
       "<IPython.core.display.HTML object>"
      ]
     },
     "execution_count": 39,
     "metadata": {},
     "output_type": "execute_result"
    }
   ],
   "source": [
    "job.report(spec_tags=['minimum', 'stretch']).show()"
   ]
  },
  {
   "cell_type": "code",
   "execution_count": 40,
   "metadata": {},
   "outputs": [
    {
     "data": {
      "text/html": [
       "&lt;Table length=2&gt;\n",
       "<table id=\"table4692997008-232614\" class=\"table-striped table-bordered table-condensed\">\n",
       "<thead><tr><th>Status</th><th>Specification</th><th>Measurement</th><th>Test</th><th>Metric Tags</th><th>Spec. Tags</th></tr></thead>\n",
       "<tr><td>✅</td><td>demo1.Completeness.minimum_megacam_r</td><td>24.6 $\\mathrm{mag}$</td><td>$x$ &gt;= 24.0 $\\mathrm{mag}$</td><td>demo, photometry</td><td>minimum</td></tr>\n",
       "<tr><td>✅</td><td>demo1.ZeropointRMS.minimum_megacam_r</td><td>13.3 $\\mathrm{mmag}$</td><td>$x$ &lt;= 15.0 $\\mathrm{mmag}$</td><td>demo, photometry</td><td>minimum</td></tr>\n",
       "</table><style>table.dataTable {clear: both; width: auto !important; margin: 0 !important;}\n",
       ".dataTables_info, .dataTables_length, .dataTables_filter, .dataTables_paginate{\n",
       "display: inline-block; margin-right: 1em; }\n",
       ".paginate_button { margin-right: 5px; }\n",
       "</style>\n",
       "<script>\n",
       "\n",
       "var astropy_sort_num = function(a, b) {\n",
       "    var a_num = parseFloat(a);\n",
       "    var b_num = parseFloat(b);\n",
       "\n",
       "    if (isNaN(a_num) && isNaN(b_num))\n",
       "        return ((a < b) ? -1 : ((a > b) ? 1 : 0));\n",
       "    else if (!isNaN(a_num) && !isNaN(b_num))\n",
       "        return ((a_num < b_num) ? -1 : ((a_num > b_num) ? 1 : 0));\n",
       "    else\n",
       "        return isNaN(a_num) ? -1 : 1;\n",
       "}\n",
       "\n",
       "require.config({paths: {\n",
       "    datatables: 'https://cdn.datatables.net/1.10.12/js/jquery.dataTables.min'\n",
       "}});\n",
       "require([\"datatables\"], function(){\n",
       "    console.log(\"$('#table4692997008-232614').dataTable()\");\n",
       "    \n",
       "jQuery.extend( jQuery.fn.dataTableExt.oSort, {\n",
       "    \"optionalnum-asc\": astropy_sort_num,\n",
       "    \"optionalnum-desc\": function (a,b) { return -astropy_sort_num(a, b); }\n",
       "});\n",
       "\n",
       "    $('#table4692997008-232614').dataTable({\n",
       "        order: [],\n",
       "        pageLength: 50,\n",
       "        lengthMenu: [[10, 25, 50, 100, 500, 1000, -1], [10, 25, 50, 100, 500, 1000, 'All']],\n",
       "        pagingType: \"full_numbers\",\n",
       "        columnDefs: [{targets: [], type: \"optionalnum\"}]\n",
       "    });\n",
       "});\n",
       "</script>\n"
      ],
      "text/plain": [
       "<IPython.core.display.HTML object>"
      ]
     },
     "execution_count": 40,
     "metadata": {},
     "output_type": "execute_result"
    }
   ],
   "source": [
    "job.report(name='demo1', spec_tags=['minimum']).show()"
   ]
  },
  {
   "cell_type": "code",
   "execution_count": 41,
   "metadata": {
    "collapsed": true
   },
   "outputs": [],
   "source": [
    "m = job.measurements['demo1.ZeropointRMS']"
   ]
  },
  {
   "cell_type": "code",
   "execution_count": 43,
   "metadata": {},
   "outputs": [
    {
     "data": {
      "text/plain": [
       "['zp', 'catalog_mags', 'obs_mags']"
      ]
     },
     "execution_count": 43,
     "metadata": {},
     "output_type": "execute_result"
    }
   ],
   "source": [
    "list(m.extras.keys())"
   ]
  },
  {
   "cell_type": "code",
   "execution_count": 44,
   "metadata": {
    "collapsed": true
   },
   "outputs": [],
   "source": [
    "df = pandas.DataFrame({\"obs_mags\": m.extras['obs_mags'].quantity,\n",
    "                       \"catalog_mags\": m.extras['catalog_mags'].quantity,\n",
    "                       \"delta_mags\": m.extras['catalog_mags'].quantity - m.extras['obs_mags'].quantity})"
   ]
  },
  {
   "cell_type": "code",
   "execution_count": 55,
   "metadata": {},
   "outputs": [
    {
     "data": {
      "text/html": [
       "<div style=\"display: table;\"><div style=\"display: table-row;\"><div style=\"display: table-cell;\"><b title=\"bokeh.models.renderers.GlyphRenderer\">GlyphRenderer</b>(</div><div style=\"display: table-cell;\">id&nbsp;=&nbsp;'f796f1ab-ac73-44f7-af57-6034553bbc43', <span id=\"ad958e71-6a79-457e-803c-5a97c2e4d3f8\" style=\"cursor: pointer;\">&hellip;)</span></div></div><div class=\"154ce8c2-93ad-4be7-ae1f-83972675ac5a\" style=\"display: none;\"><div style=\"display: table-cell;\"></div><div style=\"display: table-cell;\">data_source&nbsp;=&nbsp;ColumnDataSource(id='713514bc-fbfc-4ab3-9782-625835d667e8', ...),</div></div><div class=\"154ce8c2-93ad-4be7-ae1f-83972675ac5a\" style=\"display: none;\"><div style=\"display: table-cell;\"></div><div style=\"display: table-cell;\">glyph&nbsp;=&nbsp;Circle(id='aa1a4e59-03ca-44ad-ac92-163eba7dea08', ...),</div></div><div class=\"154ce8c2-93ad-4be7-ae1f-83972675ac5a\" style=\"display: none;\"><div style=\"display: table-cell;\"></div><div style=\"display: table-cell;\">hover_glyph&nbsp;=&nbsp;None,</div></div><div class=\"154ce8c2-93ad-4be7-ae1f-83972675ac5a\" style=\"display: none;\"><div style=\"display: table-cell;\"></div><div style=\"display: table-cell;\">js_event_callbacks&nbsp;=&nbsp;{},</div></div><div class=\"154ce8c2-93ad-4be7-ae1f-83972675ac5a\" style=\"display: none;\"><div style=\"display: table-cell;\"></div><div style=\"display: table-cell;\">js_property_callbacks&nbsp;=&nbsp;{},</div></div><div class=\"154ce8c2-93ad-4be7-ae1f-83972675ac5a\" style=\"display: none;\"><div style=\"display: table-cell;\"></div><div style=\"display: table-cell;\">level&nbsp;=&nbsp;'glyph',</div></div><div class=\"154ce8c2-93ad-4be7-ae1f-83972675ac5a\" style=\"display: none;\"><div style=\"display: table-cell;\"></div><div style=\"display: table-cell;\">muted&nbsp;=&nbsp;False,</div></div><div class=\"154ce8c2-93ad-4be7-ae1f-83972675ac5a\" style=\"display: none;\"><div style=\"display: table-cell;\"></div><div style=\"display: table-cell;\">muted_glyph&nbsp;=&nbsp;None,</div></div><div class=\"154ce8c2-93ad-4be7-ae1f-83972675ac5a\" style=\"display: none;\"><div style=\"display: table-cell;\"></div><div style=\"display: table-cell;\">name&nbsp;=&nbsp;None,</div></div><div class=\"154ce8c2-93ad-4be7-ae1f-83972675ac5a\" style=\"display: none;\"><div style=\"display: table-cell;\"></div><div style=\"display: table-cell;\">nonselection_glyph&nbsp;=&nbsp;Circle(id='80f6f661-da8b-4787-8970-cc1d80026b97', ...),</div></div><div class=\"154ce8c2-93ad-4be7-ae1f-83972675ac5a\" style=\"display: none;\"><div style=\"display: table-cell;\"></div><div style=\"display: table-cell;\">selection_glyph&nbsp;=&nbsp;None,</div></div><div class=\"154ce8c2-93ad-4be7-ae1f-83972675ac5a\" style=\"display: none;\"><div style=\"display: table-cell;\"></div><div style=\"display: table-cell;\">subscribed_events&nbsp;=&nbsp;[],</div></div><div class=\"154ce8c2-93ad-4be7-ae1f-83972675ac5a\" style=\"display: none;\"><div style=\"display: table-cell;\"></div><div style=\"display: table-cell;\">tags&nbsp;=&nbsp;[],</div></div><div class=\"154ce8c2-93ad-4be7-ae1f-83972675ac5a\" style=\"display: none;\"><div style=\"display: table-cell;\"></div><div style=\"display: table-cell;\">view&nbsp;=&nbsp;CDSView(id='a3f735f5-9220-46db-9b17-ea7ccaa85c01', ...),</div></div><div class=\"154ce8c2-93ad-4be7-ae1f-83972675ac5a\" style=\"display: none;\"><div style=\"display: table-cell;\"></div><div style=\"display: table-cell;\">visible&nbsp;=&nbsp;True,</div></div><div class=\"154ce8c2-93ad-4be7-ae1f-83972675ac5a\" style=\"display: none;\"><div style=\"display: table-cell;\"></div><div style=\"display: table-cell;\">x_range_name&nbsp;=&nbsp;'default',</div></div><div class=\"154ce8c2-93ad-4be7-ae1f-83972675ac5a\" style=\"display: none;\"><div style=\"display: table-cell;\"></div><div style=\"display: table-cell;\">y_range_name&nbsp;=&nbsp;'default')</div></div></div>\n",
       "<script>\n",
       "(function() {\n",
       "  var expanded = false;\n",
       "  var ellipsis = document.getElementById(\"ad958e71-6a79-457e-803c-5a97c2e4d3f8\");\n",
       "  ellipsis.addEventListener(\"click\", function() {\n",
       "    var rows = document.getElementsByClassName(\"154ce8c2-93ad-4be7-ae1f-83972675ac5a\");\n",
       "    for (var i = 0; i < rows.length; i++) {\n",
       "      var el = rows[i];\n",
       "      el.style.display = expanded ? \"none\" : \"table-row\";\n",
       "    }\n",
       "    ellipsis.innerHTML = expanded ? \"&hellip;)\" : \"&lsaquo;&lsaquo;&lsaquo;\";\n",
       "    expanded = !expanded;\n",
       "  });\n",
       "})();\n",
       "</script>\n"
      ],
      "text/plain": [
       "GlyphRenderer(id='f796f1ab-ac73-44f7-af57-6034553bbc43', ...)"
      ]
     },
     "execution_count": 55,
     "metadata": {},
     "output_type": "execute_result"
    }
   ],
   "source": [
    "# Scatter plot of observed vs. catalog stellar photometry\n",
    "p = figure(title=\"Zeropoint stellar sample\",\n",
    "           x_axis_label=\"{0.label} [{0.unit}]\".format(m.extras['obs_mags']),\n",
    "           y_axis_label=\"{0.label} [{0.unit}]\".format(m.extras['catalog_mags']),\n",
    "           plot_width=350, plot_height=350)\n",
    "p.circle(df['obs_mags'], df['catalog_mags'], color='red', fill_alpha=0.5, size=10)"
   ]
  },
  {
   "cell_type": "code",
   "execution_count": 56,
   "metadata": {
    "collapsed": true
   },
   "outputs": [],
   "source": [
    "# Histogram of zeropoint estimates from individual matched stars.\n",
    "# We're not using the Histogram Bokeh chart for some extra control.\n",
    "hist_counts, hist_edges = np.histogram(df['delta_mags'], bins=10)\n",
    "h = figure(tools=\"xpan, xwheel_zoom, reset\",\n",
    "           active_scroll=\"xwheel_zoom\",\n",
    "           y_range=(0, hist_counts.max()+2),\n",
    "           y_axis_label=\"Count\",\n",
    "           x_axis_label=\"{0.label} - {1.label} [{0.unit}]\".format(m.extras['obs_mags'], m.extras['catalog_mags']),\n",
    "           plot_width=350, plot_height=350)\n",
    "# Draw histogram edges on the figure\n",
    "h.quad(bottom=0,\n",
    "       left=hist_edges[:-1],\n",
    "       right=hist_edges[1:],\n",
    "       top=hist_counts,\n",
    "       color=\"lightblue\",\n",
    "       line_color=\"#3A5785\")\n",
    "# Line at zeropoint estimate\n",
    "span = Span(location=m.extras['zp'].quantity.value,\n",
    "            dimension='height', line_color=\"black\",\n",
    "            line_dash='dashed', line_width=3)\n",
    "h.add_layout(span)"
   ]
  },
  {
   "cell_type": "code",
   "execution_count": 57,
   "metadata": {},
   "outputs": [
    {
     "data": {
      "text/html": [
       "\n",
       "<div class=\"bk-root\">\n",
       "    <div class=\"bk-plotdiv\" id=\"21e6ff5d-e153-4193-81ff-9c8854f6fbf9\"></div>\n",
       "</div>"
      ]
     },
     "metadata": {},
     "output_type": "display_data"
    },
    {
     "data": {
      "application/javascript": [
       "(function(root) {\n",
       "  function embed_document(root) {\n",
       "    var docs_json = {\"48cdc550-3fd5-4de7-9098-20ffd9c6eacc\":{\"roots\":{\"references\":[{\"attributes\":{\"data_source\":{\"id\":\"713514bc-fbfc-4ab3-9782-625835d667e8\",\"type\":\"ColumnDataSource\"},\"glyph\":{\"id\":\"aa1a4e59-03ca-44ad-ac92-163eba7dea08\",\"type\":\"Circle\"},\"hover_glyph\":null,\"muted_glyph\":null,\"nonselection_glyph\":{\"id\":\"80f6f661-da8b-4787-8970-cc1d80026b97\",\"type\":\"Circle\"},\"selection_glyph\":null,\"view\":{\"id\":\"a3f735f5-9220-46db-9b17-ea7ccaa85c01\",\"type\":\"CDSView\"}},\"id\":\"f796f1ab-ac73-44f7-af57-6034553bbc43\",\"type\":\"GlyphRenderer\"},{\"attributes\":{},\"id\":\"f8c20636-63c3-4a37-bd72-53e7bcd9529f\",\"type\":\"LinearScale\"},{\"attributes\":{\"plot\":{\"id\":\"761d5099-7d65-4ca5-bf25-0ef7d2e6b4f4\",\"subtype\":\"Figure\",\"type\":\"Plot\"},\"ticker\":{\"id\":\"3f8b36e3-ee82-4cb6-9aee-956b95464d06\",\"type\":\"BasicTicker\"}},\"id\":\"390c7e50-f2c0-425e-a6a2-9ea78d3f8a2e\",\"type\":\"Grid\"},{\"attributes\":{\"callback\":null,\"column_names\":[\"left\",\"right\",\"top\"],\"data\":{\"left\":{\"__ndarray__\":\"9yLMtCX4OEAOG3NFsfk4QCUTGtY8+zhAPQvBZsj8OEBUA2j3U/44QGv7Dojf/zhAgvO1GGsBOUCZ61yp9gI5QLHjAzqCBDlAyNuqyg0GOUA=\",\"dtype\":\"float64\",\"shape\":[10]},\"right\":{\"__ndarray__\":\"DhtzRbH5OEAlExrWPPs4QD0LwWbI/DhAVANo91P+OEBr+w6I3/84QILztRhrATlAmetcqfYCOUCx4wM6ggQ5QMjbqsoNBjlA39NRW5kHOUA=\",\"dtype\":\"float64\",\"shape\":[10]},\"top\":[4,5,11,15,18,21,11,4,7,4]}},\"id\":\"292ecf08-c5e0-499c-b961-831b158b4b2e\",\"type\":\"ColumnDataSource\"},{\"attributes\":{\"axis_label\":\"m_obs [mag]\",\"formatter\":{\"id\":\"ba50fa2e-77b5-4486-8df4-05335fd8531e\",\"type\":\"BasicTickFormatter\"},\"plot\":{\"id\":\"761d5099-7d65-4ca5-bf25-0ef7d2e6b4f4\",\"subtype\":\"Figure\",\"type\":\"Plot\"},\"ticker\":{\"id\":\"3f8b36e3-ee82-4cb6-9aee-956b95464d06\",\"type\":\"BasicTicker\"}},\"id\":\"cdabbf95-3dfd-4950-9916-9278ea3986d1\",\"type\":\"LinearAxis\"},{\"attributes\":{\"dimension\":\"height\",\"line_dash\":[6],\"line_width\":{\"value\":3},\"location\":24.998496127959037,\"plot\":{\"id\":\"18ebb42a-88c0-4a03-b043-39ca21ee2a4f\",\"subtype\":\"Figure\",\"type\":\"Plot\"}},\"id\":\"1e28a461-e241-4ba4-8702-25a49cdc9707\",\"type\":\"Span\"},{\"attributes\":{},\"id\":\"3f8b36e3-ee82-4cb6-9aee-956b95464d06\",\"type\":\"BasicTicker\"},{\"attributes\":{\"bottom\":{\"value\":0},\"fill_alpha\":{\"value\":0.1},\"fill_color\":{\"value\":\"#1f77b4\"},\"left\":{\"field\":\"left\"},\"line_alpha\":{\"value\":0.1},\"line_color\":{\"value\":\"#1f77b4\"},\"right\":{\"field\":\"right\"},\"top\":{\"field\":\"top\"}},\"id\":\"70e40739-0b94-4cb0-949a-29471d27a3c1\",\"type\":\"Quad\"},{\"attributes\":{\"axis_label\":\"m_cat [mag]\",\"formatter\":{\"id\":\"8ad707da-a7a3-4ed3-a2fd-7d228d6e6ed9\",\"type\":\"BasicTickFormatter\"},\"plot\":{\"id\":\"761d5099-7d65-4ca5-bf25-0ef7d2e6b4f4\",\"subtype\":\"Figure\",\"type\":\"Plot\"},\"ticker\":{\"id\":\"484bfc81-dcb2-4b46-ae97-8b9b915de8f6\",\"type\":\"BasicTicker\"}},\"id\":\"b8c62720-2619-4451-a6af-4f718a8536fd\",\"type\":\"LinearAxis\"},{\"attributes\":{\"data_source\":{\"id\":\"292ecf08-c5e0-499c-b961-831b158b4b2e\",\"type\":\"ColumnDataSource\"},\"glyph\":{\"id\":\"d3808d1a-5ebd-4cee-ae72-81acd4d304e5\",\"type\":\"Quad\"},\"hover_glyph\":null,\"muted_glyph\":null,\"nonselection_glyph\":{\"id\":\"70e40739-0b94-4cb0-949a-29471d27a3c1\",\"type\":\"Quad\"},\"selection_glyph\":null,\"view\":{\"id\":\"054d821b-1ca5-473d-a3a7-53666e8b250d\",\"type\":\"CDSView\"}},\"id\":\"831fb430-3595-45db-b37a-6c367ef9937d\",\"type\":\"GlyphRenderer\"},{\"attributes\":{},\"id\":\"484bfc81-dcb2-4b46-ae97-8b9b915de8f6\",\"type\":\"BasicTicker\"},{\"attributes\":{\"fill_alpha\":{\"value\":0.5},\"fill_color\":{\"value\":\"red\"},\"line_color\":{\"value\":\"red\"},\"size\":{\"units\":\"screen\",\"value\":10},\"x\":{\"field\":\"x\"},\"y\":{\"field\":\"y\"}},\"id\":\"aa1a4e59-03ca-44ad-ac92-163eba7dea08\",\"type\":\"Circle\"},{\"attributes\":{\"dimension\":1,\"plot\":{\"id\":\"761d5099-7d65-4ca5-bf25-0ef7d2e6b4f4\",\"subtype\":\"Figure\",\"type\":\"Plot\"},\"ticker\":{\"id\":\"484bfc81-dcb2-4b46-ae97-8b9b915de8f6\",\"type\":\"BasicTicker\"}},\"id\":\"991efa3b-e3ed-4510-b2d8-e7b7eb1ae867\",\"type\":\"Grid\"},{\"attributes\":{\"callback\":null},\"id\":\"ee289290-b0b4-48c3-bed8-20a2045ac4b6\",\"type\":\"DataRange1d\"},{\"attributes\":{\"active_drag\":\"auto\",\"active_inspect\":\"auto\",\"active_scroll\":{\"id\":\"4d960953-ee98-4ec3-b0f8-827087c57022\",\"type\":\"WheelZoomTool\"},\"active_tap\":\"auto\",\"tools\":[{\"id\":\"9e4208db-fabd-4d10-964a-cb923f9144c5\",\"type\":\"PanTool\"},{\"id\":\"4d960953-ee98-4ec3-b0f8-827087c57022\",\"type\":\"WheelZoomTool\"},{\"id\":\"a4884117-6c54-4b7f-b51b-4de29b7a050e\",\"type\":\"ResetTool\"}]},\"id\":\"621506e8-eede-43b5-b98a-1b197bf0bf85\",\"type\":\"Toolbar\"},{\"attributes\":{\"callback\":null},\"id\":\"82c76b8d-334c-424b-a16b-e2f8e48b94e9\",\"type\":\"DataRange1d\"},{\"attributes\":{\"source\":{\"id\":\"713514bc-fbfc-4ab3-9782-625835d667e8\",\"type\":\"ColumnDataSource\"}},\"id\":\"a3f735f5-9220-46db-9b17-ea7ccaa85c01\",\"type\":\"CDSView\"},{\"attributes\":{},\"id\":\"2c9eade6-8140-4650-a0f7-c68d19f81ead\",\"type\":\"ResetTool\"},{\"attributes\":{\"fill_alpha\":{\"value\":0.1},\"fill_color\":{\"value\":\"#1f77b4\"},\"line_alpha\":{\"value\":0.1},\"line_color\":{\"value\":\"#1f77b4\"},\"size\":{\"units\":\"screen\",\"value\":10},\"x\":{\"field\":\"x\"},\"y\":{\"field\":\"y\"}},\"id\":\"80f6f661-da8b-4787-8970-cc1d80026b97\",\"type\":\"Circle\"},{\"attributes\":{\"callback\":null,\"end\":23},\"id\":\"2144a8f0-40a6-451d-a94b-e43c4711bacd\",\"type\":\"Range1d\"},{\"attributes\":{},\"id\":\"ba50fa2e-77b5-4486-8df4-05335fd8531e\",\"type\":\"BasicTickFormatter\"},{\"attributes\":{},\"id\":\"913c1fb8-29f0-44bf-a1a0-e9276794f39a\",\"type\":\"LinearScale\"},{\"attributes\":{},\"id\":\"6aa84d42-3c84-4f83-9afd-701862cc5bd6\",\"type\":\"LinearScale\"},{\"attributes\":{},\"id\":\"41f05b66-1f91-43ab-81b6-f91386c8d55a\",\"type\":\"LinearScale\"},{\"attributes\":{},\"id\":\"ded6a371-64a1-4386-8095-df6eccfa258f\",\"type\":\"PanTool\"},{\"attributes\":{\"plot\":{\"id\":\"18ebb42a-88c0-4a03-b043-39ca21ee2a4f\",\"subtype\":\"Figure\",\"type\":\"Plot\"},\"ticker\":{\"id\":\"0f96e03a-d063-4d34-8b1d-e3f35cfcf039\",\"type\":\"BasicTicker\"}},\"id\":\"9b053e3d-8bc4-45ae-bf16-29b2cdc1cf21\",\"type\":\"Grid\"},{\"attributes\":{\"axis_label\":\"m_obs - m_cat [mag]\",\"formatter\":{\"id\":\"7514de91-d45a-4a23-b853-347c8af69a68\",\"type\":\"BasicTickFormatter\"},\"plot\":{\"id\":\"18ebb42a-88c0-4a03-b043-39ca21ee2a4f\",\"subtype\":\"Figure\",\"type\":\"Plot\"},\"ticker\":{\"id\":\"0f96e03a-d063-4d34-8b1d-e3f35cfcf039\",\"type\":\"BasicTicker\"}},\"id\":\"ffeb83e6-0679-480d-9790-1b80797aa6c3\",\"type\":\"LinearAxis\"},{\"attributes\":{},\"id\":\"0088f368-9bd5-4303-8fcc-ffb08de42363\",\"type\":\"WheelZoomTool\"},{\"attributes\":{\"overlay\":{\"id\":\"01a51e6f-6ef5-4e9d-98e5-664be37ae5fe\",\"type\":\"BoxAnnotation\"}},\"id\":\"99ad5229-4fe4-4a63-a64a-3426788e0628\",\"type\":\"BoxZoomTool\"},{\"attributes\":{},\"id\":\"0f96e03a-d063-4d34-8b1d-e3f35cfcf039\",\"type\":\"BasicTicker\"},{\"attributes\":{\"axis_label\":\"Count\",\"formatter\":{\"id\":\"ea16f709-41bb-4053-82be-6f3644b00775\",\"type\":\"BasicTickFormatter\"},\"plot\":{\"id\":\"18ebb42a-88c0-4a03-b043-39ca21ee2a4f\",\"subtype\":\"Figure\",\"type\":\"Plot\"},\"ticker\":{\"id\":\"66d4321e-5c79-4320-a7fc-eed64ae1ad90\",\"type\":\"BasicTicker\"}},\"id\":\"59d6f418-1377-44e2-b737-1a0af0c05778\",\"type\":\"LinearAxis\"},{\"attributes\":{\"active_drag\":\"auto\",\"active_inspect\":\"auto\",\"active_scroll\":\"auto\",\"active_tap\":\"auto\",\"tools\":[{\"id\":\"ded6a371-64a1-4386-8095-df6eccfa258f\",\"type\":\"PanTool\"},{\"id\":\"0088f368-9bd5-4303-8fcc-ffb08de42363\",\"type\":\"WheelZoomTool\"},{\"id\":\"99ad5229-4fe4-4a63-a64a-3426788e0628\",\"type\":\"BoxZoomTool\"},{\"id\":\"c6bac7a3-4313-4d87-900f-4cfef3a6df82\",\"type\":\"SaveTool\"},{\"id\":\"2c9eade6-8140-4650-a0f7-c68d19f81ead\",\"type\":\"ResetTool\"},{\"id\":\"3e3ed197-85b3-4590-ba25-1765e0824aae\",\"type\":\"HelpTool\"}]},\"id\":\"ab4d7e16-da3e-4deb-9556-f8db2ee79d47\",\"type\":\"Toolbar\"},{\"attributes\":{},\"id\":\"c6bac7a3-4313-4d87-900f-4cfef3a6df82\",\"type\":\"SaveTool\"},{\"attributes\":{\"below\":[{\"id\":\"cdabbf95-3dfd-4950-9916-9278ea3986d1\",\"type\":\"LinearAxis\"}],\"left\":[{\"id\":\"b8c62720-2619-4451-a6af-4f718a8536fd\",\"type\":\"LinearAxis\"}],\"plot_height\":350,\"plot_width\":350,\"renderers\":[{\"id\":\"cdabbf95-3dfd-4950-9916-9278ea3986d1\",\"type\":\"LinearAxis\"},{\"id\":\"390c7e50-f2c0-425e-a6a2-9ea78d3f8a2e\",\"type\":\"Grid\"},{\"id\":\"b8c62720-2619-4451-a6af-4f718a8536fd\",\"type\":\"LinearAxis\"},{\"id\":\"991efa3b-e3ed-4510-b2d8-e7b7eb1ae867\",\"type\":\"Grid\"},{\"id\":\"01a51e6f-6ef5-4e9d-98e5-664be37ae5fe\",\"type\":\"BoxAnnotation\"},{\"id\":\"f796f1ab-ac73-44f7-af57-6034553bbc43\",\"type\":\"GlyphRenderer\"}],\"title\":{\"id\":\"0b138e22-3e11-44b9-b363-c886bf4d533c\",\"type\":\"Title\"},\"toolbar\":{\"id\":\"ab4d7e16-da3e-4deb-9556-f8db2ee79d47\",\"type\":\"Toolbar\"},\"x_range\":{\"id\":\"ee289290-b0b4-48c3-bed8-20a2045ac4b6\",\"type\":\"DataRange1d\"},\"x_scale\":{\"id\":\"6aa84d42-3c84-4f83-9afd-701862cc5bd6\",\"type\":\"LinearScale\"},\"y_range\":{\"id\":\"fdc73af9-42d9-4095-9aae-2484b3cf93a8\",\"type\":\"DataRange1d\"},\"y_scale\":{\"id\":\"f8c20636-63c3-4a37-bd72-53e7bcd9529f\",\"type\":\"LinearScale\"}},\"id\":\"761d5099-7d65-4ca5-bf25-0ef7d2e6b4f4\",\"subtype\":\"Figure\",\"type\":\"Plot\"},{\"attributes\":{\"bottom_units\":\"screen\",\"fill_alpha\":{\"value\":0.5},\"fill_color\":{\"value\":\"lightgrey\"},\"left_units\":\"screen\",\"level\":\"overlay\",\"line_alpha\":{\"value\":1.0},\"line_color\":{\"value\":\"black\"},\"line_dash\":[4,4],\"line_width\":{\"value\":2},\"plot\":null,\"render_mode\":\"css\",\"right_units\":\"screen\",\"top_units\":\"screen\"},\"id\":\"01a51e6f-6ef5-4e9d-98e5-664be37ae5fe\",\"type\":\"BoxAnnotation\"},{\"attributes\":{},\"id\":\"66d4321e-5c79-4320-a7fc-eed64ae1ad90\",\"type\":\"BasicTicker\"},{\"attributes\":{\"dimension\":1,\"plot\":{\"id\":\"18ebb42a-88c0-4a03-b043-39ca21ee2a4f\",\"subtype\":\"Figure\",\"type\":\"Plot\"},\"ticker\":{\"id\":\"66d4321e-5c79-4320-a7fc-eed64ae1ad90\",\"type\":\"BasicTicker\"}},\"id\":\"f44ae8b6-3dc5-4492-8ca5-80af0881106f\",\"type\":\"Grid\"},{\"attributes\":{},\"id\":\"8ad707da-a7a3-4ed3-a2fd-7d228d6e6ed9\",\"type\":\"BasicTickFormatter\"},{\"attributes\":{},\"id\":\"ea16f709-41bb-4053-82be-6f3644b00775\",\"type\":\"BasicTickFormatter\"},{\"attributes\":{\"below\":[{\"id\":\"ffeb83e6-0679-480d-9790-1b80797aa6c3\",\"type\":\"LinearAxis\"}],\"left\":[{\"id\":\"59d6f418-1377-44e2-b737-1a0af0c05778\",\"type\":\"LinearAxis\"}],\"plot_height\":350,\"plot_width\":350,\"renderers\":[{\"id\":\"ffeb83e6-0679-480d-9790-1b80797aa6c3\",\"type\":\"LinearAxis\"},{\"id\":\"9b053e3d-8bc4-45ae-bf16-29b2cdc1cf21\",\"type\":\"Grid\"},{\"id\":\"59d6f418-1377-44e2-b737-1a0af0c05778\",\"type\":\"LinearAxis\"},{\"id\":\"f44ae8b6-3dc5-4492-8ca5-80af0881106f\",\"type\":\"Grid\"},{\"id\":\"831fb430-3595-45db-b37a-6c367ef9937d\",\"type\":\"GlyphRenderer\"},{\"id\":\"1e28a461-e241-4ba4-8702-25a49cdc9707\",\"type\":\"Span\"}],\"title\":{\"id\":\"09f57a4d-2448-461d-8c05-21164723be6e\",\"type\":\"Title\"},\"toolbar\":{\"id\":\"621506e8-eede-43b5-b98a-1b197bf0bf85\",\"type\":\"Toolbar\"},\"x_range\":{\"id\":\"82c76b8d-334c-424b-a16b-e2f8e48b94e9\",\"type\":\"DataRange1d\"},\"x_scale\":{\"id\":\"913c1fb8-29f0-44bf-a1a0-e9276794f39a\",\"type\":\"LinearScale\"},\"y_range\":{\"id\":\"2144a8f0-40a6-451d-a94b-e43c4711bacd\",\"type\":\"Range1d\"},\"y_scale\":{\"id\":\"41f05b66-1f91-43ab-81b6-f91386c8d55a\",\"type\":\"LinearScale\"}},\"id\":\"18ebb42a-88c0-4a03-b043-39ca21ee2a4f\",\"subtype\":\"Figure\",\"type\":\"Plot\"},{\"attributes\":{\"dimensions\":\"width\"},\"id\":\"9e4208db-fabd-4d10-964a-cb923f9144c5\",\"type\":\"PanTool\"},{\"attributes\":{\"bottom\":{\"value\":0},\"fill_color\":{\"value\":\"lightblue\"},\"left\":{\"field\":\"left\"},\"line_color\":{\"value\":\"#3A5785\"},\"right\":{\"field\":\"right\"},\"top\":{\"field\":\"top\"}},\"id\":\"d3808d1a-5ebd-4cee-ae72-81acd4d304e5\",\"type\":\"Quad\"},{\"attributes\":{\"dimensions\":\"width\"},\"id\":\"4d960953-ee98-4ec3-b0f8-827087c57022\",\"type\":\"WheelZoomTool\"},{\"attributes\":{},\"id\":\"3e3ed197-85b3-4590-ba25-1765e0824aae\",\"type\":\"HelpTool\"},{\"attributes\":{},\"id\":\"a4884117-6c54-4b7f-b51b-4de29b7a050e\",\"type\":\"ResetTool\"},{\"attributes\":{\"callback\":null,\"column_names\":[\"x\",\"y\"],\"data\":{\"x\":{\"__ndarray__\":\"jenHOwC3BcDoZXXiHzoWwERqDFkKkBDA+m6wgasLGcCYu1QixUcWwMenEj2a9BnAVro3yuHVGcC7bu07OpUZwAtEtsIPefu/EUm9uqZnFsDG7LGbT1EXwLGDl7Xw1u0/ryFW2pH95j8v7Oin0hAWwMARJNkk+BDAatIAMPdQAcC0rLLfcAcMwKLgCQ/m39y/pkGqnih5E8Aa4N3QEVAHwFuGMg24iRTADXsq4SfNFMAv1RhEweHVv3fwJGnFpRnA6LyX1zWtFsCH+OfObO0UwEwobwpgBRPAWl27/KoXDMBMB/e5XxsXwJzDaU+ZGAfAXEG+VK1cEsDaFBwgOskYwPapJwKc3RjA9v77r9vdCsDzMboCztLRvwDFGtN5PBrAlzHWmTia178E9gQ1sgLRv6gHpchLG/G/Pw42c3/m4r/zAjCKaXDeP0q0UE/pug3Af/XWIxy54T/mhAEIn3P1v8RkGgD+SQ3AHJlQkgy/8r/LGGCaF4oTwHEK6VOwVfu/LhFFIkdwEcBCoUUY6DjbPw1nC1hiRhPAIDxnPA1M7D8L214hAe62P00Sh3ORORHANc2hSGK4578IYZyVfjUYwJs9hf+3se4/K8mUQesNGcCwiMi+sAcXwHvbGhxYWRbAD/Llr3Qr7r+ZiuXMwmviP5BRxzYQswvAAORM4A3tcj8ompY8Ub/rP1kV+QH/ChLAQFKR/r5cEMB83TgJUGYEwKkaWmFRoxDAkxS+j1X8/L9t7Gig+yfdP3stzIEI7AfACgh6hDWQ5T/MKD7sMMwawNr3HD0zv+G/Eo3kh+WQE8B6heZTCmwLwOPyORg1ugTAx+nCAIhVBcAIp5PFIi7/v9kQeuEZTgrAMThT0J3vAcD6ShPZh+wYwM+FARGLJ/O/nBlLwuFHE8D0GotWmIsQwF7ne4ZDuwTAFTq/3koyzr/MQFPr7r0ZwMKYANuhodE/ZAgZUQH76D8cWsC4+V0VwBmo0TlYRgDAjVZ3FrfID8BvjOu7ynbyv2gIjYi89hTAX3FKCM6yCcB1JsCDkLOuv4kUiy3hWQnA8ml+x6z34D8=\",\"dtype\":\"float64\",\"shape\":[100]},\"y\":{\"__ndarray__\":\"sTzRpChJNkCuKvyod28zQFxWL74i3TRA8uH4oXu7MkCea1MQSG4zQBD+b/Q4fzJAodp9psSFMkAK8kWVmJcyQOeP0TdQRjdAiiifhqVhM0Bmz6VLRyszQCUW2Doh9TlAgbOmYiq8OUC4ykAdbnkzQGT/r1QqvDRARs1wO1XTNkAWo1+dhH41QCFb17UQjThA7UEUkqomNECy2MJWGx02QMLYz71m3zNAi72x6VvNM0CFmk5MYKU4QCwC/UmpmjJAIMSTSBpWM0CJneany78zQJJ/bf3LPzRARUvu7RB7NUDOnfPDoDozQBwQHoQeHDZAD528gNRoNEDuPhA/QMoyQObRWsfTxTJAfi5JVuimNUAjJF3DvLQ4QL/ZDGTJcDJAPm8w88mgOEC//XK5+LU4QO2JMR467DdAC8gVgXBqOEA10BvzAXY5QApPD7i7STVA+suzMUWOOUCtpux2Nag3QNoCWTVmVzVAAcJ7WWLVN0DUEtn2WRs0QFZpOIrzUDdATy75+FSjNEC4ARPCVm05QLjLqsxDKzRA1Nbk/praOUBuDmuCuxg5QGQ3F4LjsTRAG6t7jGI9OEA19MWbgO4yQEZ9/l138zlAfZXA3oDCMkBTg1NPFEQzQDgsU5eGaTNAeipsiGEOOEBnBOhAwpQ5QOXei+96jjVAw0CTO04AOUAYbPSFZeA5QH42FaNofDRA8Jxvi0zpNECkOdT9v3E2QBnd6Z932jRAvk4RS1guN0DRRFxcOno5QJ5rh69dBzZApgRJAYKsOUCkbuHlVk0yQOpHJiq8czhAbUuokIsdNEAXcr5uVY01QEAPhrm5bjZAUYfdkwBZNkBXeh2gTAY3QCHdDnFxuDVAdieI/ofBNkDJGRPO0McyQC4460DxyzdAVkjhLY4sNEDa1ly/tNs0QPjuo4TAYTZAg6QOH8G7OECSxeNKrI8yQFhARzcmRjlAZ27PRZ3FOUBYvSHtGrAzQGX77H3Q8jZAA8EMcEMDNUDWnqtYhtQ3QGdQDx3PvTNA4FdOZRDKNUBfgpA+e+04QL4GfB0O1TVAau+l8zSJOUA=\",\"dtype\":\"float64\",\"shape\":[100]}}},\"id\":\"713514bc-fbfc-4ab3-9782-625835d667e8\",\"type\":\"ColumnDataSource\"},{\"attributes\":{\"callback\":null},\"id\":\"fdc73af9-42d9-4095-9aae-2484b3cf93a8\",\"type\":\"DataRange1d\"},{\"attributes\":{\"plot\":null,\"text\":\"Zeropoint stellar sample\"},\"id\":\"0b138e22-3e11-44b9-b363-c886bf4d533c\",\"type\":\"Title\"},{\"attributes\":{\"source\":{\"id\":\"292ecf08-c5e0-499c-b961-831b158b4b2e\",\"type\":\"ColumnDataSource\"}},\"id\":\"054d821b-1ca5-473d-a3a7-53666e8b250d\",\"type\":\"CDSView\"},{\"attributes\":{\"plot\":null,\"text\":\"\"},\"id\":\"09f57a4d-2448-461d-8c05-21164723be6e\",\"type\":\"Title\"},{\"attributes\":{},\"id\":\"7514de91-d45a-4a23-b853-347c8af69a68\",\"type\":\"BasicTickFormatter\"},{\"attributes\":{\"children\":[{\"id\":\"761d5099-7d65-4ca5-bf25-0ef7d2e6b4f4\",\"subtype\":\"Figure\",\"type\":\"Plot\"},{\"id\":\"18ebb42a-88c0-4a03-b043-39ca21ee2a4f\",\"subtype\":\"Figure\",\"type\":\"Plot\"}]},\"id\":\"8c9c6421-c5b4-4338-9a9b-de58b4019eeb\",\"type\":\"Row\"}],\"root_ids\":[\"8c9c6421-c5b4-4338-9a9b-de58b4019eeb\"]},\"title\":\"Bokeh Application\",\"version\":\"0.12.10\"}};\n",
       "    var render_items = [{\"docid\":\"48cdc550-3fd5-4de7-9098-20ffd9c6eacc\",\"elementid\":\"21e6ff5d-e153-4193-81ff-9c8854f6fbf9\",\"modelid\":\"8c9c6421-c5b4-4338-9a9b-de58b4019eeb\",\"notebook_comms_target\":\"447259ff-291a-4ed4-8ea2-b366e8e00f07\"}];\n",
       "\n",
       "    root.Bokeh.embed.embed_items(docs_json, render_items);\n",
       "  }\n",
       "\n",
       "  if (root.Bokeh !== undefined) {\n",
       "    embed_document(root);\n",
       "  } else {\n",
       "    var attempts = 0;\n",
       "    var timer = setInterval(function(root) {\n",
       "      if (root.Bokeh !== undefined) {\n",
       "        embed_document(root);\n",
       "        clearInterval(timer);\n",
       "      }\n",
       "      attempts++;\n",
       "      if (attempts > 100) {\n",
       "        console.log(\"Bokeh: ERROR: Unable to embed document because BokehJS library is missing\")\n",
       "        clearInterval(timer);\n",
       "      }\n",
       "    }, 10, root)\n",
       "  }\n",
       "})(window);"
      ],
      "application/vnd.bokehjs_exec.v0+json": ""
     },
     "metadata": {
      "application/vnd.bokehjs_exec.v0+json": {
       "id": "8c9c6421-c5b4-4338-9a9b-de58b4019eeb"
      }
     },
     "output_type": "display_data"
    },
    {
     "data": {
      "text/html": [
       "<p><code>&lt;Bokeh Notebook handle for <strong>In[9]</strong>&gt;</code></p>"
      ],
      "text/plain": [
       "<bokeh.io.notebook.CommsHandle at 0x117bf0208>"
      ]
     },
     "execution_count": 57,
     "metadata": {},
     "output_type": "execute_result"
    }
   ],
   "source": [
    "# Plot side-by-side\n",
    "show(row(p, h), notebook_handle=True)"
   ]
  },
  {
   "cell_type": "code",
   "execution_count": null,
   "metadata": {
    "collapsed": true
   },
   "outputs": [],
   "source": []
  }
 ],
 "metadata": {
  "kernelspec": {
   "display_name": "Python 3",
   "language": "python",
   "name": "python3"
  },
  "language_info": {
   "codemirror_mode": {
    "name": "ipython",
    "version": 3
   },
   "file_extension": ".py",
   "mimetype": "text/x-python",
   "name": "python",
   "nbconvert_exporter": "python",
   "pygments_lexer": "ipython3",
   "version": "3.6.2"
  }
 },
 "nbformat": 4,
 "nbformat_minor": 2
}
