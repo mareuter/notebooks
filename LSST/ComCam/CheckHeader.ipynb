{
 "cells": [
  {
   "cell_type": "markdown",
   "metadata": {},
   "source": [
    "## ComCam Image Header Check"
   ]
  },
  {
   "cell_type": "code",
   "execution_count": null,
   "metadata": {},
   "outputs": [],
   "source": [
    "import logging\n",
    "import re\n",
    "import sys\n",
    "\n",
    "from astropy.time import Time, TimeDelta\n",
    "import numpy as np\n",
    "\n",
    "import lsst.daf.butler as dafButler\n",
    "from lsst_efd_client import EfdClient\n",
    "from lsst.ts.idl.enums import MTPtg as eMTPtg\n",
    "\n",
    "from check_utils import check, check_float, check_near, check_not_empty\n",
    "\n",
    "run_logging = False"
   ]
  },
  {
   "cell_type": "code",
   "execution_count": null,
   "metadata": {},
   "outputs": [],
   "source": [
    "if run_logging:\n",
    "    stream_handler = logging.StreamHandler(sys.stdout)\n",
    "\n",
    "    logger = logging.getLogger()\n",
    "    logger.addHandler(stream_handler)\n",
    "    logger.level = logging.NOTSET\n",
    "    logging.getLogger(\"matplotlib\").setLevel(logging.WARNING)"
   ]
  },
  {
   "cell_type": "code",
   "execution_count": null,
   "metadata": {},
   "outputs": [],
   "source": [
    "# TTS\n",
    "dataPath = \"/repo/LSSTComCam\"\n",
    "efd_name = \"tucson_teststand_efd\"\n",
    "# RSP\n",
    "#dataPath = \"/repo/main\"\n",
    "#efd_name = \"ldf_stable_efd\"\n",
    "\n",
    "collections = [\"LSSTComCam/raw/all\"]\n",
    "instrument = \"LSSTComCam\"\n",
    "butler = dafButler.Butler(dataPath, collections=collections, instrument=instrument)\n",
    "client = EfdClient(efd_name)"
   ]
  },
  {
   "cell_type": "code",
   "execution_count": null,
   "metadata": {},
   "outputs": [],
   "source": [
    "day_obs = 20220418\n",
    "seq_num = 17\n",
    "raft_name = \"R22\"\n",
    "detector = 0\n",
    "dataId = {\"instrument\": instrument, \"detector.raft\": raft_name, \"detector.id\": detector,\n",
    "          \"exposure.day_obs\": day_obs, \"exposure.seq_num\": seq_num}\n",
    "raw = butler.get('raw.metadata', dataId)"
   ]
  },
  {
   "cell_type": "code",
   "execution_count": null,
   "metadata": {},
   "outputs": [],
   "source": [
    "header = raw.toDict()\n",
    "#print(list(header.keys()))\n",
    "#print(header)"
   ]
  },
  {
   "cell_type": "code",
   "execution_count": null,
   "metadata": {},
   "outputs": [],
   "source": [
    "if day_obs == 20220401 and seq_num == 6:\n",
    "    header[\"DATE-BEG\"] = \"2022-04-01T23:56:31.438\"\n",
    "    header[\"DATE-END\"] = \"2022-04-01T23:56:32.537\"\n",
    "if day_obs == 20220414 and seq_num == 32:\n",
    "    header[\"DATE-BEG\"] = \"2022-04-14T21:08:36.863\"\n",
    "    header[\"DATE-END\"] = \"2022-04-14T21:08:41.922\""
   ]
  },
  {
   "cell_type": "code",
   "execution_count": null,
   "metadata": {},
   "outputs": [],
   "source": [
    "delta = TimeDelta(20.0, format=\"sec\", scale=\"tai\")\n",
    "obs_beg = Time(header[\"DATE-BEG\"], format=\"fits\", scale=\"tai\")\n",
    "obs_end = Time(header[\"DATE-END\"], format=\"fits\", scale=\"tai\")\n",
    "exp_time = TimeDelta(float(header[\"EXPTIME\"]), format=\"sec\", scale=\"tai\")\n",
    "#print(obs_beg)\n",
    "#print(header[\"DATE-BEG\"])\n",
    "obs_id = header[\"OBSID\"]\n",
    "#print(f\"IMGTYPE: {header['IMGTYPE']}\")\n",
    "#print(f\"EXPTIME: {header['EXPTIME']}\")\n",
    "#print(f\"DARKTIME: {header['DARKTIME']}\")\n",
    "print(f\"DATE-BEG: {header['DATE-BEG']}\")\n",
    "print(f\"DATE-END: {header['DATE-END']}\")"
   ]
  },
  {
   "cell_type": "code",
   "execution_count": null,
   "metadata": {},
   "outputs": [],
   "source": [
    "start_int_df = await client.select_time_series(\"lsst.sal.CCCamera.logevent_startIntegration\", \"*\",\n",
    "                                               obs_beg.utc, delta, is_window=True)\n",
    "end_image_tel_df = await client.select_time_series(\"lsst.sal.CCCamera.logevent_endOfImageTelemetry\", \"*\",\n",
    "                                                   obs_end.utc, delta, is_window=True)"
   ]
  },
  {
   "cell_type": "code",
   "execution_count": null,
   "metadata": {},
   "outputs": [],
   "source": [
    "print(f\"Start Integration Num Rows: {len(start_int_df)}\")\n",
    "print(f\"End of Image Telemetry Num Rows: {len(end_image_tel_df)}\")"
   ]
  },
  {
   "cell_type": "code",
   "execution_count": null,
   "metadata": {},
   "outputs": [],
   "source": [
    "start_int = start_int_df.loc[start_int_df[\"imageName\"] == obs_id]\n",
    "end_image_tel = end_image_tel_df.loc[end_image_tel_df[\"imageName\"] == obs_id]"
   ]
  },
  {
   "cell_type": "code",
   "execution_count": null,
   "metadata": {},
   "outputs": [],
   "source": [
    "# Scales are UTC because incoming timestamps are already TAI and astropy screws them up if the scale is TAI.\n",
    "date_obs = Time(end_image_tel[\"timestampDateObs\"][0], format=\"unix_tai\", scale=\"tai\")\n",
    "date_end = Time(end_image_tel[\"timestampDateEnd\"][0], format=\"unix_tai\", scale=\"tai\")\n",
    "date_start_int = Time(start_int[\"private_sndStamp\"][0], format=\"unix_tai\", scale=\"tai\").utc\n",
    "date_eoit = Time(end_image_tel[\"private_sndStamp\"][0], format=\"unix_tai\", scale=\"tai\").utc\n",
    "#print(date_start_int.isot)\n",
    "#print(date_eoit.isot)"
   ]
  },
  {
   "cell_type": "code",
   "execution_count": null,
   "metadata": {},
   "outputs": [],
   "source": [
    "check(\"DATE-BEG\", header, date_obs.isot)\n",
    "check(\"DATE-END\", header, date_end.isot)"
   ]
  },
  {
   "cell_type": "code",
   "execution_count": null,
   "metadata": {},
   "outputs": [],
   "source": [
    "date_diff = date_end - date_obs\n",
    "if date_diff.sec >= float(header[\"EXPTIME\"]):\n",
    "    print(\"DATE-END - DATE-BEG OK\")\n",
    "else:\n",
    "    print(f\"Problem with DATE-END - DATE-BEG: {date_diff.sec} seconds\")\n",
    "    print(f\"Exposure time: {header['EXPTIME']} seconds\")"
   ]
  },
  {
   "cell_type": "code",
   "execution_count": null,
   "metadata": {},
   "outputs": [],
   "source": [
    "image_readout_params_df = await client.select_top_n(\"lsst.sal.CCCamera.logevent_imageReadoutParameters\",\n",
    "                                                    \"*\", 1,\n",
    "                                                    time_cut=date_start_int.isot)"
   ]
  },
  {
   "cell_type": "code",
   "execution_count": null,
   "metadata": {},
   "outputs": [],
   "source": [
    "check(\"TELCODE\", header, start_int[\"imageSource\"][0])\n",
    "check(\"CONTRLLR\", header, start_int[\"imageController\"][0])\n",
    "check(\"DAYOBS\", header, start_int[\"imageDate\"][0])\n",
    "check(\"SEQNUM\", header, start_int[\"imageNumber\"][0])\n",
    "additional_keys = start_int[\"additionalKeys\"][0].split(\":\")\n",
    "additional_values = re.split(r'(?<!\\\\):', start_int[\"additionalValues\"][0])\n",
    "check(\"GROUPID\", header, additional_values[additional_keys.index(\"groupId\")].replace(\"\\\\\", \"\"))\n",
    "check(\"IMGTYPE\", header, additional_values[additional_keys.index(\"imageType\")])\n",
    "check(\"TESTTYPE\", header, additional_values[additional_keys.index(\"testType\")])\n",
    "check(\"OBSANNOT\", header, image_readout_params_df[\"daqAnnotation\"][0])\n",
    "check(\"CURINDEX\", header, start_int[\"imageIndex\"][0])\n",
    "check(\"MAXINDEX\", header, start_int[\"imagesInSequence\"][0])\n",
    "check_not_empty(\"TSTAND\", header)"
   ]
  },
  {
   "cell_type": "code",
   "execution_count": null,
   "metadata": {},
   "outputs": [],
   "source": [
    "check(\"OVERH\", header, image_readout_params_df[f\"overRows{detector}\"][0])\n",
    "check(\"OVERV\", header, image_readout_params_df[f\"overCols{detector}\"][0])\n",
    "check(\"PREH\", header, image_readout_params_df[f\"preCols{detector}\"][0])"
   ]
  },
  {
   "cell_type": "code",
   "execution_count": null,
   "metadata": {},
   "outputs": [],
   "source": [
    "shutter_motion_profile_df = await client.select_top_n(\"lsst.sal.CCCamera.logevent_endOfImageTelemetry\", \"*\", 1,\n",
    "                                                      time_cut=date_eoit.isot)"
   ]
  },
  {
   "cell_type": "code",
   "execution_count": null,
   "metadata": {},
   "outputs": [],
   "source": [
    "check_float(\"EXPTIME\", header, start_int[\"exposureTime\"][0])\n",
    "check_float(\"DARKTIME\", header, end_image_tel[\"darkTime\"][0])\n",
    "check_float(\"SHUTTIME\", header, shutter_motion_profile_df[\"measuredShutterOpenTime\"][0])"
   ]
  },
  {
   "cell_type": "code",
   "execution_count": null,
   "metadata": {},
   "outputs": [],
   "source": [
    "current_target_df = await client.select_top_n(\"lsst.sal.MTPtg.logevent_currentTarget\", \"*\", 1,\n",
    "                                              time_cut=date_start_int.isot)\n",
    "current_target_status_df = await client.select_top_n(\"lsst.sal.MTPtg.currentTargetStatus\", \"*\", 1,\n",
    "                                                     time_cut=date_start_int.isot)\n",
    "mount_positions_start_df = await client.select_top_n(\"lsst.sal.MTPtg.mountPosition\", \"*\", 1,\n",
    "                                                     time_cut=date_start_int.isot)\n",
    "mount_positions_end_df = await client.select_top_n(\"lsst.sal.MTPtg.mountPosition\", \"*\", 1,\n",
    "                                                   time_cut=date_eoit.isot)\n",
    "mount_az_start_df = await client.select_top_n(\"lsst.sal.MTMount.azimuth\", \"*\", 1,\n",
    "                                              time_cut=date_start_int.isot)\n",
    "mount_az_end_df = await client.select_top_n(\"lsst.sal.MTMount.azimuth\", \"*\", 1,\n",
    "                                            time_cut=date_eoit.isot)\n",
    "mount_el_start_df = await client.select_top_n(\"lsst.sal.MTMount.elevation\", \"*\", 1,\n",
    "                                              time_cut=date_start_int.isot)\n",
    "mount_el_end_df = await client.select_top_n(\"lsst.sal.MTMount.elevation\", \"*\", 1,\n",
    "                                            time_cut=date_eoit.isot)\n",
    "hexapod_app_df = await client.select_top_n(\"lsst.sal.MTHexapod.application\", \"*\", 1,\n",
    "                                           time_cut=date_start_int.isot, index=1)"
   ]
  },
  {
   "cell_type": "code",
   "execution_count": null,
   "metadata": {},
   "outputs": [],
   "source": [
    "if header[\"IMGTYPE\"] in [\"OBJECT\", \"ENGTEST\"]:\n",
    "    check(\"OBJECT\", header, current_target_df[\"targetName\"][0])\n",
    "    check_float(\"RA\", header, np.degrees(current_target_df[\"ra\"])[0])\n",
    "    check_float(\"DEC\", header, np.degrees(current_target_df[\"declination\"])[0])\n",
    "    check_float(\"ROTPA\", header, current_target_df[\"rotPA\"][0])\n",
    "    check(\"ROTCOORD\", header, \"sky\")\n",
    "    check_float(\"RASTART\", header, mount_positions_start_df[\"ra\"][0])\n",
    "    check_float(\"RAEND\", header, mount_positions_end_df[\"ra\"][0])\n",
    "    check_near(\"RA\", \"RASTART\", header)\n",
    "    check_near(\"RA\", \"RAEND\", header)\n",
    "    check_float(\"DECSTART\", header, mount_positions_start_df[\"declination\"][0])\n",
    "    check_float(\"DECEND\", header, mount_positions_end_df[\"declination\"][0])\n",
    "    check_near(\"DEC\", \"DECSTART\", header)\n",
    "    check_near(\"DEC\", \"DECEND\", header)\n",
    "else:\n",
    "    print(f\"No check on RA/DEC for {header['IMGTYPE']}\")\n",
    "check_float(\"AZSTART\", header, mount_az_start_df[\"actualPosition\"][0])\n",
    "check_float(\"AZEND\", header, mount_az_end_df[\"actualPosition\"][0])\n",
    "check_float(\"ELSTART\", header, mount_el_start_df[\"actualPosition\"][0])\n",
    "check_float(\"ELEND\", header, mount_el_end_df[\"actualPosition\"][0])\n",
    "check_float(\"FOCUSZ\", header, hexapod_app_df[\"demand1\"][0])\n",
    "check(\"TRACKSYS\", header, eMTPtg.TargetTypes(current_target_df[\"targetType\"][0]).name)\n",
    "check(\"RADESYS\", header, eMTPtg.CoordFrame(current_target_df[\"frame\"][0]).name)"
   ]
  },
  {
   "cell_type": "code",
   "execution_count": null,
   "metadata": {},
   "outputs": [],
   "source": [
    "sim_mtmount_df = await client.select_top_n(\"lsst.sal.MTMount.logevent_simulationMode\", \"mode\", 1,\n",
    "                                           time_cut=date_start_int.isot)\n",
    "sim_mtm1m3_df = await client.select_top_n(\"lsst.sal.MTM1M3.logevent_simulationMode\", \"mode\", 1,\n",
    "                                          time_cut=date_start_int.isot)\n",
    "sim_mtm2_df = await client.select_top_n(\"lsst.sal.MTM2.logevent_simulationMode\", \"mode\", 1,\n",
    "                                        time_cut=date_start_int.isot)\n",
    "sim_mtcamhex_df = await client.select_top_n(\"lsst.sal.MTHexapod.logevent_simulationMode\", \"mode\", 1,\n",
    "                                            time_cut=date_start_int.isot, index=1)\n",
    "sim_mtm2hex_df = await client.select_top_n(\"lsst.sal.MTHexapod.logevent_simulationMode\", \"mode\", 1,\n",
    "                                           time_cut=date_start_int.isot, index=2)\n",
    "sim_mtrotator_df = await client.select_top_n(\"lsst.sal.MTRotator.logevent_simulationMode\", \"mode\", 1,\n",
    "                                             time_cut=date_start_int.isot)\n",
    "sim_mtdome_df = await client.select_top_n(\"lsst.sal.MTDome.logevent_simulationMode\", \"mode\", 1,\n",
    "                                          time_cut=date_start_int.isot)\n",
    "sim_mtdometraj_df = await client.select_top_n(\"lsst.sal.MTDomeTrajectory.logevent_simulationMode\", \"mode\", 1,\n",
    "                                              time_cut=date_start_int.isot)"
   ]
  },
  {
   "cell_type": "code",
   "execution_count": null,
   "metadata": {},
   "outputs": [],
   "source": [
    "check(\"SIMULATE MTMOUNT\", header, sim_mtmount_df[\"mode\"][0])\n",
    "try:\n",
    "    value = sim_mtm1m3_df[\"mode\"][0]\n",
    "except KeyError:\n",
    "    value = \"None\"\n",
    "check(\"SIMULATE MTM1M3\", header, value)\n",
    "check(\"SIMULATE MTM2\", header, sim_mtm2_df[\"mode\"][0])\n",
    "check(\"SIMULATE CAMHEXAPOD\", header, sim_mtcamhex_df[\"mode\"][0])\n",
    "check(\"SIMULATE M2HEXAPOD\", header, sim_mtm2hex_df[\"mode\"][0])\n",
    "check(\"SIMULATE MTROTATOR\", header, sim_mtrotator_df[\"mode\"][0])\n",
    "check(\"SIMULATE MTDOME\", header, sim_mtdome_df[\"mode\"][0])\n",
    "check(\"SIMULATE MTDOMETRAJECTORY\", header, sim_mtdometraj_df[\"mode\"][0])"
   ]
  },
  {
   "cell_type": "code",
   "execution_count": null,
   "metadata": {},
   "outputs": [],
   "source": [
    "filter_pos_df = await client.select_top_n(\"lsst.sal.CCCamera.logevent_endSetFilter\", \"*\", 1,\n",
    "                                          time_cut=date_start_int.isot)"
   ]
  },
  {
   "cell_type": "code",
   "execution_count": null,
   "metadata": {},
   "outputs": [],
   "source": [
    "check(\"FILTBAND\", header, filter_pos_df[\"filterType\"][0])\n",
    "check(\"FILTER\", header, filter_pos_df[\"filterName\"][0])\n",
    "check(\"FILTSLOT\", header, filter_pos_df[\"filterSlot\"][0])\n",
    "check(\"FILTPOS\", header, filter_pos_df[\"filterPosition\"][0])"
   ]
  },
  {
   "cell_type": "code",
   "execution_count": null,
   "metadata": {},
   "outputs": [],
   "source": [
    "focal_plane_info_df = await client.select_top_n(\"lsst.sal.CCCamera.logevent_focalPlaneSummaryInfo\", \"*\", 1,\n",
    "                                                time_cut=date_start_int.isot)\n",
    "fp_ccd_df = await client.select_top_n(\"lsst.sal.CCCamera.focal_plane_Ccd\", \"*\", 1,\n",
    "                                      time_cut=date_start_int.isot)"
   ]
  },
  {
   "cell_type": "code",
   "execution_count": null,
   "metadata": {},
   "outputs": [],
   "source": [
    "check(\"CCD_MANU\", header, focal_plane_info_df[\"ccdManufacturer\"][0], index=detector)\n",
    "check(\"CCD_TYPE\", header, focal_plane_info_df[f\"ccdType{detector}\"][0])\n",
    "check(\"CCD_SERN\", header, focal_plane_info_df[\"ccdManSerNum\"][0], index=detector)\n",
    "check(\"LSST_NUM\", header, focal_plane_info_df[\"ccdLSSTName\"][0], index=detector)\n",
    "check(\"CCDSLOT\", header, focal_plane_info_df[\"ccdSlot\"][0], index=detector)\n",
    "check(\"RAFTBAY\", header, focal_plane_info_df[\"raftBay\"][0], index=detector)\n",
    "check(\"SEQCKSUM\", header, focal_plane_info_df[\"sequencerChecksum\"][0], index=detector)\n",
    "check(\"SEQNAME\", header, focal_plane_info_df[\"sequencerKey\"][0], index=detector)\n",
    "check(\"REBNAME\", header, focal_plane_info_df[\"rebLSSTName\"][0], index=detector)\n",
    "check(\"CONTNUM\", header, focal_plane_info_df[\"rebSerialNumber\"][0], index=detector)\n",
    "check_float(\"CCDTEMP\", header, fp_ccd_df[f\"temp{detector}\"][0])\n",
    "check_float(\"TEMP_SET\", header, focal_plane_info_df[f\"ccdTempSetPoint{detector}\"][0])"
   ]
  },
  {
   "cell_type": "code",
   "execution_count": null,
   "metadata": {},
   "outputs": [],
   "source": [
    "check(\"FACILITY\", header, \"Vera C. Rubin Observatory\")\n",
    "check_not_empty(\"DATE\", header)\n",
    "check_not_empty(\"MJD-OBS\", header)\n",
    "check_not_empty(\"MJD-BEG\", header)\n",
    "check_not_empty(\"MJD-END\", header)\n",
    "check(\"BUNIT\", header, \"adu\")\n",
    "check(\"TELESCOP\", header, \"Simonyi Survey Telescope\")\n",
    "check(\"INSTRUME\", header, \"ComCam\")\n",
    "check(\"OBSERVER\", header, \"LSST\")\n",
    "check_float(\"OBS-LONG\", header, -70.749417)\n",
    "check_float(\"OBS-LAT\", header, -30.244639)\n",
    "check_float(\"OBS-ELEV\", header, 2663.0)\n",
    "check_float(\"OBSGEO-X\", header, 1818938.94)\n",
    "check_float(\"OBSGEO-Y\", header, -5208470.95)\n",
    "check_float(\"OBSGEO-Z\", header, -3195172.08)\n",
    "check_not_empty(\"FILENAME\", header)\n",
    "check_not_empty(\"HEADVER\", header)\n",
    "check_not_empty(\"TSTAND\", header)\n",
    "check_not_empty(\"CHECKSUM\", header)\n",
    "check_not_empty(\"DATASUM\", header)\n",
    "check(\"TIMESYS\", header, \"TAI\")"
   ]
  },
  {
   "cell_type": "code",
   "execution_count": null,
   "metadata": {},
   "outputs": [],
   "source": [
    "# Segment headers\n",
    "check(\"XTENSION\", header, \"IMAGE\")\n",
    "check(\"BITPIX\", header, 32)\n",
    "check(\"INHERIT\", header, \"T\")\n",
    "check(\"PCOUNT\", header, 0)\n",
    "check(\"GCOUNT\", header, 1)\n",
    "check_not_empty(\"EXTNAME\", header)\n",
    "check_not_empty(\"DATASEC\", header)\n",
    "check_not_empty(\"DETSEC\", header)\n",
    "check_not_empty(\"DTV1\", header)\n",
    "check_not_empty(\"DTV2\", header)\n",
    "check_not_empty(\"DTM1_1\", header)\n",
    "check_not_empty(\"DTM1_2\", header)\n",
    "check_not_empty(\"DTM2_1\", header)\n",
    "check_not_empty(\"DTM2_2\", header)"
   ]
  },
  {
   "cell_type": "code",
   "execution_count": null,
   "metadata": {},
   "outputs": [],
   "source": []
  }
 ],
 "metadata": {
  "kernelspec": {
   "display_name": "LSST",
   "language": "python",
   "name": "lsst"
  },
  "language_info": {
   "codemirror_mode": {
    "name": "ipython",
    "version": 3
   },
   "file_extension": ".py",
   "mimetype": "text/x-python",
   "name": "python",
   "nbconvert_exporter": "python",
   "pygments_lexer": "ipython3",
   "version": "3.8.13"
  }
 },
 "nbformat": 4,
 "nbformat_minor": 4
}
