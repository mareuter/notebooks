{
 "cells": [
  {
   "cell_type": "code",
   "execution_count": null,
   "id": "c26752fe",
   "metadata": {},
   "outputs": [],
   "source": [
    "import asyncio\n",
    "import logging\n",
    "import sys\n",
    "\n",
    "from lsst.ts import salobj"
   ]
  },
  {
   "cell_type": "code",
   "execution_count": null,
   "id": "a3dd582c",
   "metadata": {},
   "outputs": [],
   "source": [
    "stream_handler = logging.StreamHandler(sys.stdout)\n",
    "\n",
    "logger = logging.getLogger()\n",
    "logger.addHandler(stream_handler)\n",
    "logger.level = logging.DEBUG"
   ]
  },
  {
   "cell_type": "code",
   "execution_count": null,
   "id": "968dae71",
   "metadata": {},
   "outputs": [],
   "source": [
    "domain = salobj.Domain()\n",
    "await asyncio.sleep(10)"
   ]
  },
  {
   "cell_type": "code",
   "execution_count": null,
   "id": "d72272a6",
   "metadata": {},
   "outputs": [],
   "source": [
    "CCCamera = salobj.Remote(domain, 'CCCamera')\n",
    "await CCCamera.start_task"
   ]
  },
  {
   "cell_type": "code",
   "execution_count": null,
   "id": "c96c2f78",
   "metadata": {},
   "outputs": [],
   "source": [
    "cal_images = {\n",
    "    \"day_obs\": 20210401,\n",
    "    \"bias\": {\"start\": 7, \"end\": 16},\n",
    "    \"dark\": {\"start\": 17, \"end\": 26},\n",
    "    \"flat\": {\"start\": 27, \"end\": 36},\n",
    "    \"daq_folder\": \"comcam-cal\"\n",
    "}\n",
    "ptc_images = {\n",
    "    \"day_obs\": 20210401,\n",
    "    \"ptc\": {\"start\": 42, \"end\": 61},\n",
    "    \"daq_folder\": \"comcam-ptc\"\n",
    "}\n",
    "file_stem = \"CC_O_{0}_{1:06}\""
   ]
  },
  {
   "cell_type": "code",
   "execution_count": null,
   "id": "d5df677d",
   "metadata": {},
   "outputs": [],
   "source": [
    "def make_file_list(idict, key):\n",
    "    image_files = []\n",
    "    for i in range(idict[key][\"start\"], idict[key][\"end\"] + 1):\n",
    "        image_files.append(file_stem.format(idict[\"day_obs\"], i))\n",
    "    return image_files"
   ]
  },
  {
   "cell_type": "code",
   "execution_count": null,
   "id": "16cd3db8",
   "metadata": {},
   "outputs": [],
   "source": [
    "# Create bias playlist\n",
    "ack = await CCCamera.cmd_playlist.set_start(playlist=\"comcam-bias.playlist\",\n",
    "                                            folder=cal_images[\"daq_folder\"],\n",
    "                                            images=\":\".join(make_file_list(cal_images, \"bias\")),\n",
    "                                            timeout=60)\n",
    "print(ack)"
   ]
  },
  {
   "cell_type": "code",
   "execution_count": null,
   "id": "f2cbdea3",
   "metadata": {},
   "outputs": [],
   "source": [
    "# Create dark playlist\n",
    "ack = await CCCamera.cmd_playlist.set_start(playlist=\"comcam-dark.playlist\",\n",
    "                                            folder=cal_images[\"daq_folder\"],\n",
    "                                            images=\":\".join(make_file_list(cal_images, \"dark\")),\n",
    "                                            timeout=60)\n",
    "print(ack)"
   ]
  },
  {
   "cell_type": "code",
   "execution_count": null,
   "id": "d566aa76",
   "metadata": {},
   "outputs": [],
   "source": [
    "# Create flat playlist\n",
    "ack = await CCCamera.cmd_playlist.set_start(playlist=\"comcam-flat.playlist\",\n",
    "                                            folder=cal_images[\"daq_folder\"],\n",
    "                                            images=\":\".join(make_file_list(cal_images, \"flat\")),\n",
    "                                            timeout=60)\n",
    "print(ack)"
   ]
  },
  {
   "cell_type": "code",
   "execution_count": null,
   "id": "7a09fffe",
   "metadata": {},
   "outputs": [],
   "source": [
    "# Create calibration playlist\n",
    "biases = make_file_list(cal_images, \"bias\")\n",
    "darks = make_file_list(cal_images, \"dark\")\n",
    "flats = make_file_list(cal_images, \"flat\")\n",
    "ack = await CCCamera.cmd_playlist.set_start(playlist=\"comcam-cal.playlist\",\n",
    "                                            folder=cal_images[\"daq_folder\"],\n",
    "                                            images=\":\".join(biases + darks + flats),\n",
    "                                            timeout=60)\n",
    "print(ack)"
   ]
  },
  {
   "cell_type": "code",
   "execution_count": null,
   "id": "1bf26989",
   "metadata": {},
   "outputs": [],
   "source": [
    "# Create ptc playlist\n",
    "ack = await CCCamera.cmd_playlist.set_start(playlist=\"comcam-ptc.playlist\",\n",
    "                                            folder=ptc_images[\"daq_folder\"],\n",
    "                                            images=\":\".join(make_file_list(ptc_images, \"ptc\")),\n",
    "                                            timeout=60)\n",
    "print(ack)"
   ]
  },
  {
   "cell_type": "code",
   "execution_count": null,
   "id": "7af1425d",
   "metadata": {},
   "outputs": [],
   "source": []
  }
 ],
 "metadata": {
  "kernelspec": {
   "display_name": "LSST",
   "language": "python",
   "name": "lsst"
  },
  "language_info": {
   "codemirror_mode": {
    "name": "ipython",
    "version": 3
   },
   "file_extension": ".py",
   "mimetype": "text/x-python",
   "name": "python",
   "nbconvert_exporter": "python",
   "pygments_lexer": "ipython3",
   "version": "3.8.8"
  }
 },
 "nbformat": 4,
 "nbformat_minor": 5
}
