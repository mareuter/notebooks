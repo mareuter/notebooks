{
 "cells": [
  {
   "cell_type": "code",
   "execution_count": null,
   "metadata": {},
   "outputs": [],
   "source": [
    "import matplotlib.pyplot as plt\n",
    "import numpy as np\n",
    "\n",
    "import lsst.afw.cameraGeom.utils as camGeomUtils\n",
    "import lsst.afw.display as afwDisplay\n",
    "import lsst.daf.persistence as dafPersist\n",
    "\n",
    "%matplotlib inline \n",
    "%config InlineBackend.figure_format = 'retina'\n",
    "\n",
    "afwDisplay.setDefaultBackend(\"matplotlib\")"
   ]
  },
  {
   "cell_type": "code",
   "execution_count": null,
   "metadata": {},
   "outputs": [],
   "source": [
    "def myCallback(im, ccd, imageSource):\n",
    "    \"\"\"Assemble the CCD image.  Just bias subtraction and gain correction\"\"\"\n",
    "    oim = camGeomUtils.rawCallback(im, ccd, imageSource,\n",
    "                                       subtractBias=True, correctGain=True)\n",
    "    return oim"
   ]
  },
  {
   "cell_type": "code",
   "execution_count": null,
   "metadata": {},
   "outputs": [],
   "source": [
    "dataPath = \"/lsstdata/offline/teststand/NCSA_comcam/gen2repo\"\n",
    "#dataPath = \"/lsstdata/offline/teststand/comcam/CCS/gen2repo\"\n",
    "butler = dafPersist.Butler(dataPath)"
   ]
  },
  {
   "cell_type": "code",
   "execution_count": null,
   "metadata": {},
   "outputs": [],
   "source": [
    "visit = 2020060500002\n",
    "raftName = \"R22\"\n",
    "dataId=dict(visit=visit, raftName=raftName)\n",
    "camera = butler.get('camera')"
   ]
  },
  {
   "cell_type": "code",
   "execution_count": null,
   "metadata": {},
   "outputs": [],
   "source": [
    "fig = plt.figure(figsize=(12,12))\n",
    "disp = afwDisplay.Display(1, \"matplotlib\")\n",
    "#disp.scale('asinh', 'zscale')\n",
    "disp.scale('linear', 0, max=1)\n",
    "\n",
    "dataType='raw'\n",
    "mos = camGeomUtils.showCamera(camera,\n",
    "                              camGeomUtils.ButlerImage(butler, dataType, visit=dataId[\"visit\"],\n",
    "                                                       verbose=False, callback = myCallback,\n",
    "                                                       background = np.nan),\n",
    "                              binSize=16, display=disp, overlay=False,\n",
    "                              title=\"%d %s\" % (visit, dataType))"
   ]
  },
  {
   "cell_type": "code",
   "execution_count": null,
   "metadata": {},
   "outputs": [],
   "source": []
  }
 ],
 "metadata": {
  "kernelspec": {
   "display_name": "LSST",
   "language": "python",
   "name": "lsst"
  },
  "language_info": {
   "codemirror_mode": {
    "name": "ipython",
    "version": 3
   },
   "file_extension": ".py",
   "mimetype": "text/x-python",
   "name": "python",
   "nbconvert_exporter": "python",
   "pygments_lexer": "ipython3",
   "version": "3.7.6"
  }
 },
 "nbformat": 4,
 "nbformat_minor": 4
}
