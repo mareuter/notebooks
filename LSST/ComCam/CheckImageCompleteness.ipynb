{
 "cells": [
  {
   "cell_type": "code",
   "execution_count": 1,
   "id": "8b5920de",
   "metadata": {},
   "outputs": [],
   "source": [
    "from astropy.time import Time, TimeDelta\n",
    "\n",
    "#import lsst.daf.butler as dafButler\n",
    "from lsst_efd_client import EfdClient"
   ]
  },
  {
   "cell_type": "code",
   "execution_count": 2,
   "id": "78996ae6",
   "metadata": {},
   "outputs": [],
   "source": [
    "# Summit\n",
    "#dataPath = \"/repo/LSSTComCam\"\n",
    "#efd_name = \"summit_efd\"\n",
    "# RSP\n",
    "#dataPath = \"/repo/main\"\n",
    "efd_name = \"ldf_stable_efd\"\n",
    "\n",
    "collections = [\"LSSTComCam/raw/all\"]\n",
    "instrument = \"LSSTComCam\"\n",
    "#butler = dafButler.Butler(dataPath, collections=collections, instrument=instrument)\n",
    "client = EfdClient(efd_name)"
   ]
  },
  {
   "cell_type": "code",
   "execution_count": 304,
   "id": "34a5ad5b",
   "metadata": {},
   "outputs": [],
   "source": [
    "obs_beg = Time(\"2021-06-04T12:00\", scale=\"tai\")\n",
    "delta = TimeDelta(24*3600.0, format=\"sec\", scale=\"tai\")\n",
    "obs_end = obs_beg + delta"
   ]
  },
  {
   "cell_type": "code",
   "execution_count": 305,
   "id": "f90d7139",
   "metadata": {},
   "outputs": [],
   "source": [
    "start_int_df = await client.select_time_series(\"lsst.sal.CCCamera.logevent_startIntegration\", \"imageName\",\n",
    "                                               obs_beg, obs_end)"
   ]
  },
  {
   "cell_type": "code",
   "execution_count": 306,
   "id": "cffb13e3",
   "metadata": {},
   "outputs": [],
   "source": [
    "if start_int_df.size == 0:\n",
    "    print(\"No images found!\")\n",
    "else:\n",
    "    num_images = start_int_df.count()[0]"
   ]
  },
  {
   "cell_type": "code",
   "execution_count": 307,
   "id": "5ec8af49",
   "metadata": {},
   "outputs": [],
   "source": [
    "img_oods_df = await client.select_time_series(\"lsst.sal.CCArchiver.logevent_imageInOODS\", \"obsid,sensor\",\n",
    "                                              obs_beg, obs_end)"
   ]
  },
  {
   "cell_type": "code",
   "execution_count": 308,
   "id": "1e016115",
   "metadata": {},
   "outputs": [],
   "source": [
    "if img_oods_df.size == 0:\n",
    "    print(\"No images in OODS!\")"
   ]
  },
  {
   "cell_type": "code",
   "execution_count": 309,
   "id": "40c27176",
   "metadata": {},
   "outputs": [],
   "source": [
    "oods_images = img_oods_df.groupby(\"obsid\").count()"
   ]
  },
  {
   "cell_type": "code",
   "execution_count": 310,
   "id": "884e9917",
   "metadata": {},
   "outputs": [],
   "source": [
    "bad_images = oods_images.index[oods_images.sensor != 9]"
   ]
  },
  {
   "cell_type": "code",
   "execution_count": 311,
   "id": "ac2427a7",
   "metadata": {},
   "outputs": [],
   "source": [
    "# Find images that have no sensors in OODS\n",
    "missing_images = []\n",
    "for image_name in start_int_df.imageName.array:\n",
    "    if image_name not in oods_images.index:\n",
    "        missing_images.append(image_name)"
   ]
  },
  {
   "cell_type": "code",
   "execution_count": 312,
   "id": "16940c13",
   "metadata": {},
   "outputs": [],
   "source": [
    "# Find images that do not have all 9 sensors in OODS\n",
    "some_missing_images = []\n",
    "standard_sensors = set([\"S00\", \"S01\", \"S02\", \"S10\", \"S11\", \"S12\", \"S20\", \"S21\", \"S22\"])\n",
    "for image_name in bad_images:\n",
    "    #print(image_name)\n",
    "    sensors = img_oods_df.sensor[img_oods_df.obsid == image_name].array\n",
    "    sensor_set = set([f\"S{x}\" for x in sensors])\n",
    "    #print(sensor_set)\n",
    "    missing_sensors = standard_sensors.difference(sensor_set)\n",
    "    some_missing_images.append((image_name, sorted(missing_sensors)))"
   ]
  },
  {
   "cell_type": "code",
   "execution_count": 313,
   "id": "10900931",
   "metadata": {},
   "outputs": [
    {
     "name": "stdout",
     "output_type": "stream",
     "text": [
      "Summary\n",
      "Total images: 218\n",
      "Images some missing sensors: 12\n",
      "Images missing all sensors: 1\n",
      "Percentage of bad images: 5.96%\n",
      "Images Missing All Sensors\n",
      "CC_O_20210604_000037\n",
      "Images Missing Some Sensors\n",
      "CC_O_20210604_000005   S00:S01:S02\n",
      "CC_O_20210604_000014   S00:S01:S02\n",
      "CC_O_20210604_000023   S00:S01:S02\n",
      "CC_O_20210604_000026   S00:S01:S02\n",
      "CC_O_20210604_000030   S10:S11:S12\n",
      "CC_O_20210604_000043   S00:S01:S02\n",
      "CC_O_20210604_000084   S00:S01:S02\n",
      "CC_O_20210604_000104   S00:S01:S02:S10:S11:S12\n",
      "CC_O_20210604_000124   S00:S01:S02\n",
      "CC_O_20210604_000134   S00:S01:S02\n",
      "CC_O_20210604_000136   S00:S01:S02\n",
      "CC_O_20210604_000169   S00:S01:S02\n"
     ]
    }
   ],
   "source": [
    "print(\"Summary\")\n",
    "print(f\"Total images: {num_images}\")\n",
    "print(f\"Images some missing sensors: {bad_images.size}\")\n",
    "print(f\"Images missing all sensors: {len(missing_images)}\")\n",
    "print(f\"Percentage of bad images: {(((bad_images.size + len(missing_images))/num_images)*100):.2f}%\")\n",
    "print(\"Images Missing All Sensors\")\n",
    "for image_name in missing_images:\n",
    "    print(image_name)\n",
    "print(\"Images Missing Some Sensors\")\n",
    "for image_name, missing_sensors in some_missing_images:\n",
    "    sensor_str = \":\".join(missing_sensors)\n",
    "    print(f\"{image_name}   {sensor_str}\")"
   ]
  },
  {
   "cell_type": "code",
   "execution_count": null,
   "id": "264de8af",
   "metadata": {},
   "outputs": [],
   "source": []
  },
  {
   "cell_type": "code",
   "execution_count": null,
   "id": "6b3aa2c1",
   "metadata": {},
   "outputs": [],
   "source": []
  }
 ],
 "metadata": {
  "kernelspec": {
   "display_name": "LSST",
   "language": "python",
   "name": "lsst"
  },
  "language_info": {
   "codemirror_mode": {
    "name": "ipython",
    "version": 3
   },
   "file_extension": ".py",
   "mimetype": "text/x-python",
   "name": "python",
   "nbconvert_exporter": "python",
   "pygments_lexer": "ipython3",
   "version": "3.8.8"
  }
 },
 "nbformat": 4,
 "nbformat_minor": 5
}
