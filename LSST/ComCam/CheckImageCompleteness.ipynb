{
 "cells": [
  {
   "cell_type": "code",
   "execution_count": null,
   "id": "3d66eb24",
   "metadata": {},
   "outputs": [],
   "source": [
    "from astropy.time import Time, TimeDelta\n",
    "\n",
    "#import lsst.daf.butler as dafButler\n",
    "from lsst_efd_client import EfdClient"
   ]
  },
  {
   "cell_type": "code",
   "execution_count": null,
   "id": "9c37eb11",
   "metadata": {},
   "outputs": [],
   "source": [
    "# Summit\n",
    "#dataPath = \"/repo/LSSTComCam\"\n",
    "efd_name = \"summit_efd\"\n",
    "# RSP\n",
    "#dataPath = \"/repo/main\"\n",
    "#efd_name = \"ldf_stable_efd\"\n",
    "\n",
    "collections = [\"LSSTComCam/raw/all\"]\n",
    "instrument = \"LSSTComCam\"\n",
    "#butler = dafButler.Butler(dataPath, collections=collections, instrument=instrument)\n",
    "client = EfdClient(efd_name)"
   ]
  },
  {
   "cell_type": "code",
   "execution_count": null,
   "id": "fcd6934c",
   "metadata": {},
   "outputs": [],
   "source": [
    "obs_beg = Time(\"2021-06-14T12:00\", scale=\"tai\")\n",
    "delta = TimeDelta(24*3600.0, format=\"sec\", scale=\"tai\")\n",
    "obs_end = obs_beg + delta"
   ]
  },
  {
   "cell_type": "code",
   "execution_count": null,
   "id": "2908b1bc",
   "metadata": {},
   "outputs": [],
   "source": [
    "start_int_df = await client.select_time_series(\"lsst.sal.CCCamera.logevent_startIntegration\", \"imageName\",\n",
    "                                               obs_beg, obs_end)"
   ]
  },
  {
   "cell_type": "code",
   "execution_count": null,
   "id": "dbf4e22e",
   "metadata": {},
   "outputs": [],
   "source": [
    "num_images = start_int_df.count()[0]"
   ]
  },
  {
   "cell_type": "code",
   "execution_count": null,
   "id": "2aa5f4df",
   "metadata": {},
   "outputs": [],
   "source": [
    "img_oods_df = await client.select_time_series(\"lsst.sal.CCArchiver.logevent_imageInOODS\", \"obsid,sensor\",\n",
    "                                              obs_beg, obs_end)"
   ]
  },
  {
   "cell_type": "code",
   "execution_count": null,
   "id": "2af745ad",
   "metadata": {},
   "outputs": [],
   "source": [
    "oods_images = img_oods_df.groupby(\"obsid\").count()"
   ]
  },
  {
   "cell_type": "code",
   "execution_count": null,
   "id": "6f55c16a",
   "metadata": {},
   "outputs": [],
   "source": [
    "bad_images = oods_images.index[oods_images.sensor != 9]"
   ]
  },
  {
   "cell_type": "code",
   "execution_count": null,
   "id": "34ef9cb4",
   "metadata": {},
   "outputs": [],
   "source": [
    "# Find images that have no sensors in OODS\n",
    "missing_images = []\n",
    "for image_name in start_int_df.imageName.array:\n",
    "    if image_name not in oods_images.index:\n",
    "        missing_images.append(image_name)"
   ]
  },
  {
   "cell_type": "code",
   "execution_count": null,
   "id": "611d3d8f",
   "metadata": {},
   "outputs": [],
   "source": [
    "# Find images that do not have all 9 sensors in OODS\n",
    "some_missing_images = []\n",
    "standard_sensors = set([\"S00\", \"S01\", \"S02\", \"S10\", \"S11\", \"S12\", \"S20\", \"S21\", \"S22\"])\n",
    "for image_name in bad_images:\n",
    "    #print(image_name)\n",
    "    sensors = img_oods_df.sensor[img_oods_df.obsid == image_name].array\n",
    "    sensor_set = set([f\"S{x}\" for x in sensors])\n",
    "    #print(sensor_set)\n",
    "    missing_sensors = standard_sensors.difference(sensor_set)\n",
    "    some_missing_images.append((image_name, sorted(missing_sensors)))"
   ]
  },
  {
   "cell_type": "code",
   "execution_count": null,
   "id": "6515401f",
   "metadata": {},
   "outputs": [],
   "source": [
    "print(\"Summary\")\n",
    "print(f\"Total images: {num_images}\")\n",
    "print(f\"Images some missing sensors: {bad_images.size}\")\n",
    "print(f\"Images missing all sensors: {len(missing_images)}\")\n",
    "print(f\"Percentage of bad images: {(((bad_images.size + len(missing_images))/num_images)*100):.2f}%\")\n",
    "print(\"Images Missing All Sensors\")\n",
    "for image_name in missing_images:\n",
    "    print(image_name)\n",
    "print(\"Images Missing Some Sensors\")\n",
    "for image_name, missing_sensors in some_missing_images:\n",
    "    sensor_str = \":\".join(missing_sensors)\n",
    "    print(f\"{image_name}   {sensor_str}\")"
   ]
  },
  {
   "cell_type": "code",
   "execution_count": null,
   "id": "f53a5069",
   "metadata": {},
   "outputs": [],
   "source": []
  }
 ],
 "metadata": {
  "kernelspec": {
   "display_name": "LSST",
   "language": "python",
   "name": "lsst"
  },
  "language_info": {
   "codemirror_mode": {
    "name": "ipython",
    "version": 3
   },
   "file_extension": ".py",
   "mimetype": "text/x-python",
   "name": "python",
   "nbconvert_exporter": "python",
   "pygments_lexer": "ipython3",
   "version": "3.8.8"
  }
 },
 "nbformat": 4,
 "nbformat_minor": 5
}
