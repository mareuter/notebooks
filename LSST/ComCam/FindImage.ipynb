{
 "cells": [
  {
   "cell_type": "code",
   "execution_count": null,
   "id": "48d7da5d",
   "metadata": {},
   "outputs": [],
   "source": [
    "import pathlib\n",
    "\n",
    "import fastparquet\n",
    "\n",
    "import comcam_utils as ccu\n",
    "import lsst.daf.butler as dafButler"
   ]
  },
  {
   "cell_type": "code",
   "execution_count": null,
   "id": "311332d6",
   "metadata": {},
   "outputs": [],
   "source": [
    "# NTS\n",
    "#dataPath = \"/repo/LSSTComCam\"\n",
    "# RSP\n",
    "dataPath = \"/repo/main\"\n",
    "instrument = \"LSSTComCam\"\n",
    "butler = dafButler.Butler(dataPath, collections=[\"LSSTComCam/raw/all\", \"LSSTComCam/calib/unbounded\"],\n",
    "                          instrument=instrument)"
   ]
  },
  {
   "cell_type": "code",
   "execution_count": null,
   "id": "25cb2a24",
   "metadata": {},
   "outputs": [],
   "source": [
    "day_obs = 20210401\n",
    "seq_num = 10\n",
    "medians = await ccu.make_image_dataframe(day_obs, seq_num, butler)"
   ]
  },
  {
   "cell_type": "code",
   "execution_count": null,
   "id": "af581931",
   "metadata": {},
   "outputs": [],
   "source": [
    "input_dir = pathlib.Path(f\"{day_obs}\")\n",
    "for input_file in input_dir.glob(\"*.parq\"):\n",
    "    pf = fastparquet.ParquetFile(str(input_file))\n",
    "    image_medians = pf.to_pandas()\n",
    "    if medians.equals(image_medians):\n",
    "        print(input_file)\n",
    "        break"
   ]
  },
  {
   "cell_type": "code",
   "execution_count": null,
   "id": "cc8ce75f",
   "metadata": {},
   "outputs": [],
   "source": []
  }
 ],
 "metadata": {
  "kernelspec": {
   "display_name": "LSST",
   "language": "python",
   "name": "lsst"
  },
  "language_info": {
   "codemirror_mode": {
    "name": "ipython",
    "version": 3
   },
   "file_extension": ".py",
   "mimetype": "text/x-python",
   "name": "python",
   "nbconvert_exporter": "python",
   "pygments_lexer": "ipython3",
   "version": "3.8.8"
  }
 },
 "nbformat": 4,
 "nbformat_minor": 5
}
