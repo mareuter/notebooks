{
 "cells": [
  {
   "cell_type": "code",
   "execution_count": null,
   "id": "9dd210e1",
   "metadata": {},
   "outputs": [],
   "source": [
    "import pathlib\n",
    "\n",
    "import fastparquet\n",
    "\n",
    "import comcam_utils as ccu\n",
    "import lsst.daf.butler as dafButler"
   ]
  },
  {
   "cell_type": "code",
   "execution_count": null,
   "id": "bf02a1f5",
   "metadata": {},
   "outputs": [],
   "source": [
    "# NTS\n",
    "dataPath = \"/repo/LSSTComCam\"\n",
    "# RSP\n",
    "#dataPath = \"/repo/main\"\n",
    "instrument = \"LSSTComCam\"\n",
    "butler = dafButler.Butler(dataPath, collections=[\"LSSTComCam/raw/all\", \"LSSTComCam/calib/unbounded\"],\n",
    "                          instrument=instrument)"
   ]
  },
  {
   "cell_type": "code",
   "execution_count": null,
   "id": "bb66c2c4",
   "metadata": {},
   "outputs": [],
   "source": [
    "day_obs = 20210615\n",
    "seq_num = 19\n",
    "medians = await ccu.make_image_dataframe(day_obs, seq_num, butler)"
   ]
  },
  {
   "cell_type": "code",
   "execution_count": null,
   "id": "29c2e192",
   "metadata": {},
   "outputs": [],
   "source": [
    "input_dir = pathlib.Path(\"playlist_images\")\n",
    "for input_file in input_dir.glob(\"*.parq\"):\n",
    "    pf = fastparquet.ParquetFile(str(input_file))\n",
    "    image_medians = pf.to_pandas()\n",
    "    if medians.equals(image_medians):\n",
    "        print(input_file)\n",
    "        break"
   ]
  },
  {
   "cell_type": "code",
   "execution_count": null,
   "id": "c0511bd1",
   "metadata": {},
   "outputs": [],
   "source": []
  }
 ],
 "metadata": {
  "kernelspec": {
   "display_name": "LSST",
   "language": "python",
   "name": "lsst"
  },
  "language_info": {
   "codemirror_mode": {
    "name": "ipython",
    "version": 3
   },
   "file_extension": ".py",
   "mimetype": "text/x-python",
   "name": "python",
   "nbconvert_exporter": "python",
   "pygments_lexer": "ipython3",
   "version": "3.8.8"
  }
 },
 "nbformat": 4,
 "nbformat_minor": 5
}
