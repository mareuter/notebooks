{
 "cells": [
  {
   "cell_type": "markdown",
   "id": "3131758a",
   "metadata": {},
   "source": [
    "This notebook gathers the per amp medians from all CCDs for a given set of images. This information can be used\n",
    "to fingerprint a particular simulated image."
   ]
  },
  {
   "cell_type": "code",
   "execution_count": null,
   "id": "698da247",
   "metadata": {},
   "outputs": [],
   "source": [
    "import pathlib\n",
    "\n",
    "import fastparquet\n",
    "\n",
    "import comcam_utils as ccu\n",
    "import lsst.daf.butler as dafButler"
   ]
  },
  {
   "cell_type": "code",
   "execution_count": null,
   "id": "39a7e86c",
   "metadata": {},
   "outputs": [],
   "source": [
    "# NTS\n",
    "dataPath = \"/readonly/repo/main\"\n",
    "# RSP\n",
    "#dataPath = \"/repo/main\"\n",
    "instrument = \"LSSTComCam\"\n",
    "collections = [\"LSSTComCam/raw/all\", \"LSSTComCam/calib/unbounded\"]\n",
    "#collections = [\"LSSTComCam/raw/CCS-C\", \"LSSTComCam/calib/unbounded\"]\n",
    "butler = dafButler.Butler(dataPath, collections=collections, instrument=instrument)"
   ]
  },
  {
   "cell_type": "code",
   "execution_count": null,
   "id": "15084e0e",
   "metadata": {},
   "outputs": [],
   "source": [
    "output_dir = pathlib.Path(\"playlist_images\")\n",
    "day_obs = 20210401\n",
    "#day_obs = 20200221\n",
    "#output_dir = pathlib.Path(\"cal_images\")\n",
    "#output_dir = pathlib.Path(\"ptc_images\")\n",
    "#output_dir = pathlib.Path(\"default_images\")\n",
    "if not output_dir.exists():\n",
    "    output_dir.mkdir()\n",
    "image_list = range(7, 37)\n",
    "#image_list = range(42, 62)\n",
    "#image_list = [10, 20, 124, 164]\n",
    "for seq_num in image_list:\n",
    "    data = await ccu.make_image_dataframe(day_obs, seq_num, butler)\n",
    "    fastparquet.write(output_dir / f\"median_{day_obs}{seq_num:05}.parq\", data)"
   ]
  },
  {
   "cell_type": "code",
   "execution_count": null,
   "id": "cb4211e7",
   "metadata": {},
   "outputs": [],
   "source": []
  }
 ],
 "metadata": {
  "kernelspec": {
   "display_name": "LSST",
   "language": "python",
   "name": "lsst"
  },
  "language_info": {
   "codemirror_mode": {
    "name": "ipython",
    "version": 3
   },
   "file_extension": ".py",
   "mimetype": "text/x-python",
   "name": "python",
   "nbconvert_exporter": "python",
   "pygments_lexer": "ipython3",
   "version": "3.8.8"
  }
 },
 "nbformat": 4,
 "nbformat_minor": 5
}
