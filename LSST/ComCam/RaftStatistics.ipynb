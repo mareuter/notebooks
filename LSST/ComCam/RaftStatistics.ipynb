{
 "cells": [
  {
   "cell_type": "markdown",
   "id": "6493f1d1",
   "metadata": {},
   "source": [
    "This notebook gathers the per amp medians from all CCDs for a given set of images. This information can be used\n",
    "to fingerprint a particular simulated image."
   ]
  },
  {
   "cell_type": "code",
   "execution_count": null,
   "id": "48bdeb35",
   "metadata": {},
   "outputs": [],
   "source": [
    "import pathlib\n",
    "\n",
    "import fastparquet\n",
    "\n",
    "import comcam_utils as ccu\n",
    "import lsst.daf.butler as dafButler"
   ]
  },
  {
   "cell_type": "code",
   "execution_count": null,
   "id": "26dcba15",
   "metadata": {},
   "outputs": [],
   "source": [
    "# NTS\n",
    "#dataPath = \"/readonly/repo/LSSTComCam\"\n",
    "# RSP\n",
    "dataPath = \"/repo/main\"\n",
    "instrument = \"LSSTComCam\"\n",
    "butler = dafButler.Butler(dataPath, collections=[\"LSSTComCam/raw/all\", \"LSSTComCam/calib/unbounded\"],\n",
    "                          instrument=instrument)"
   ]
  },
  {
   "cell_type": "code",
   "execution_count": null,
   "id": "9aefe9f8",
   "metadata": {},
   "outputs": [],
   "source": [
    "day_obs = 20210401\n",
    "output_dir = pathlib.Path(f\"{day_obs}\")\n",
    "if not output_dir.exists():\n",
    "    output_dir.mkdir()\n",
    "for seq_num in range(7, 37):\n",
    "    data = await ccu.make_image_dataframe(day_obs, seq_num, butler)\n",
    "    fastparquet.write(output_dir / f\"median_{seq_num:05}.parq\", data)"
   ]
  },
  {
   "cell_type": "code",
   "execution_count": null,
   "id": "824c6ef7",
   "metadata": {},
   "outputs": [],
   "source": []
  }
 ],
 "metadata": {
  "kernelspec": {
   "display_name": "LSST",
   "language": "python",
   "name": "lsst"
  },
  "language_info": {
   "codemirror_mode": {
    "name": "ipython",
    "version": 3
   },
   "file_extension": ".py",
   "mimetype": "text/x-python",
   "name": "python",
   "nbconvert_exporter": "python",
   "pygments_lexer": "ipython3",
   "version": "3.8.8"
  }
 },
 "nbformat": 4,
 "nbformat_minor": 5
}
