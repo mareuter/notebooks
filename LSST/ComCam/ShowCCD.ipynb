{
 "cells": [
  {
   "cell_type": "code",
   "execution_count": null,
   "metadata": {},
   "outputs": [],
   "source": [
    "import matplotlib.pyplot as plt\n",
    "\n",
    "import lsst.afw.cameraGeom.utils as cameraGeomUtils\n",
    "import lsst.afw.display as afwDisplay\n",
    "import lsst.daf.butler as dafButler\n",
    "\n",
    "%matplotlib inline \n",
    "%config InlineBackend.figure_format = 'retina'\n",
    "\n",
    "afwDisplay.setDefaultBackend(\"matplotlib\")"
   ]
  },
  {
   "cell_type": "code",
   "execution_count": null,
   "metadata": {},
   "outputs": [],
   "source": [
    "# NTS\n",
    "# dataPath = \"/repos/LSSTComCam\"\n",
    "# RSP\n",
    "dataPath = \"/repo/main\"\n",
    "instrument = \"LSSTComCam\"\n",
    "butler = dafButler.Butler(dataPath, collections=[\"LSSTComCam/raw/all\", \"LSSTComCam/calib/unbounded\"],\n",
    "                          instrument=instrument)"
   ]
  },
  {
   "cell_type": "code",
   "execution_count": null,
   "metadata": {},
   "outputs": [],
   "source": [
    "camera = butler.get(\"camera\", instrument=instrument)"
   ]
  },
  {
   "cell_type": "code",
   "execution_count": null,
   "metadata": {},
   "outputs": [],
   "source": [
    "day_obs = 20210401\n",
    "seq_num = 7\n",
    "raftName = \"R22\"\n",
    "detector = 0\n",
    "dataId = {\"instrument\": \"LSSTComCam\", \"detector.raft\": raftName, \"detector.id\": detector,\n",
    "          \"exposure.day_obs\": day_obs, \"exposure.seq_num\": seq_num}"
   ]
  },
  {
   "cell_type": "code",
   "execution_count": null,
   "metadata": {},
   "outputs": [],
   "source": [
    "raw = butler.get('raw', dataId)"
   ]
  },
  {
   "cell_type": "code",
   "execution_count": null,
   "metadata": {},
   "outputs": [],
   "source": [
    "disp = afwDisplay.Display(1)    # you only need this in every cell because I'm using %matplotlib notebook. DM Bug??\n",
    "disp.scale('asinh', 'zscale')\n",
    "disp.mtv(raw, title=(dataId[\"exposure.day_obs\"], dataId[\"exposure.seq_num\"]))\n",
    "#cameraGeomUtils.overlayCcdBoxes(raw.getDetector(), display=disp)"
   ]
  },
  {
   "cell_type": "code",
   "execution_count": null,
   "metadata": {},
   "outputs": [],
   "source": [
    "amp = raw.getDetector()[1]\n",
    "print(amp.getName())"
   ]
  },
  {
   "cell_type": "code",
   "execution_count": null,
   "metadata": {},
   "outputs": [],
   "source": [
    "data = raw[amp.getRawDataBBox()].image.array"
   ]
  },
  {
   "cell_type": "code",
   "execution_count": null,
   "metadata": {},
   "outputs": [],
   "source": [
    "import numpy as np"
   ]
  },
  {
   "cell_type": "code",
   "execution_count": null,
   "metadata": {},
   "outputs": [],
   "source": [
    "per_col_median = np.median(data, axis=0)"
   ]
  },
  {
   "cell_type": "code",
   "execution_count": null,
   "metadata": {},
   "outputs": [],
   "source": [
    "plt.plot(np.arange(per_col_median.shape[0]), per_col_median)"
   ]
  },
  {
   "cell_type": "code",
   "execution_count": null,
   "metadata": {},
   "outputs": [],
   "source": [
    "raw.getInfo().getMetadata().toDict()"
   ]
  },
  {
   "cell_type": "code",
   "execution_count": null,
   "metadata": {},
   "outputs": [],
   "source": [
    "raw.getInfo().getVisitInfo().getExposureTime()"
   ]
  },
  {
   "cell_type": "code",
   "execution_count": null,
   "metadata": {},
   "outputs": [],
   "source": [
    "bias = butler.queryMetadata('raw', ['dayObs', 'visit', 'seqnum'], imageType='BIAS')[-2]\n",
    "#print(bias)\n",
    "biasId = dict(visit=bias[1], seqnum=bias[2], dayObs=bias[0])\n",
    "biasData = butler.get('raw', biasId, imageType='BIAS')"
   ]
  },
  {
   "cell_type": "code",
   "execution_count": null,
   "metadata": {},
   "outputs": [],
   "source": [
    "disp = afwDisplay.Display(1)    # you only need this in every cell because I'm using %matplotlib notebook. DM Bug??\n",
    "disp.scale('asinh', 'zscale')\n",
    "disp.mtv(biasData, title=biasId.items())"
   ]
  }
 ],
 "metadata": {
  "kernelspec": {
   "display_name": "LSST",
   "language": "python",
   "name": "lsst"
  },
  "language_info": {
   "codemirror_mode": {
    "name": "ipython",
    "version": 3
   },
   "file_extension": ".py",
   "mimetype": "text/x-python",
   "name": "python",
   "nbconvert_exporter": "python",
   "pygments_lexer": "ipython3",
   "version": "3.8.8"
  }
 },
 "nbformat": 4,
 "nbformat_minor": 4
}
