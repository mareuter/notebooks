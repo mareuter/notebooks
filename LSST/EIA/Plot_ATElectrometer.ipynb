{
 "cells": [
  {
   "cell_type": "code",
   "execution_count": 1,
   "metadata": {},
   "outputs": [],
   "source": [
    "from astropy.io import fits\n",
    "import astropy.units as u\n",
    "import matplotlib\n",
    "import matplotlib.pyplot as plt\n",
    "%matplotlib inline"
   ]
  },
  {
   "cell_type": "code",
   "execution_count": 2,
   "metadata": {},
   "outputs": [],
   "source": [
    "hdu = fits.open(\"ID1_1528409348.86049008.fits\")"
   ]
  },
  {
   "cell_type": "code",
   "execution_count": 3,
   "metadata": {},
   "outputs": [
    {
     "data": {
      "text/plain": [
       "SIMPLE  =                    T / file does conform to FITS standard             \n",
       "BITPIX  =                  -32 / number of bits per data pixel                  \n",
       "NAXIS   =                    2 / number of data axes                            \n",
       "NAXIS1  =                    2 / length of data axis 1                          \n",
       "NAXIS2  =                    9 / length of data axis 2                          \n",
       "EXTEND  =                    T / FITS dataset may contain extensions            \n",
       "COMMENT   FITS (Flexible Image Transport System) format is defined in 'Astronomy\n",
       "COMMENT   and Astrophysics', volume 376, page 359; bibcode: 2001A&A...376..359H \n",
       "IUNIT   = 'NADC    '           / First value read of the unit                   \n",
       "EUNIT   = 'NADC    '           / Last value read of the unit                    \n",
       "ITEMP   = '26.400000'          / Initial temperature                            \n",
       "ETEMP   = '26.500000'          / End temperature                                \n",
       "ITIME   = '1528409347.651965'  / Initial time                                   \n",
       "ETIME   = '1528409348.699561'  / End reading time                               \n",
       "DERROR  = '306,\"Reading available\" 612,\"Questionable Humidity\" 306,\"Reading ava'\n",
       "HWINFO  = 'KEITHLEY INSTRUMENTS INC.,MODEL 6517B,4114296,A13/700x' / Device info"
      ]
     },
     "execution_count": 3,
     "metadata": {},
     "output_type": "execute_result"
    }
   ],
   "source": [
    "hdu[0].header"
   ]
  },
  {
   "cell_type": "code",
   "execution_count": 4,
   "metadata": {},
   "outputs": [],
   "source": [
    "data = hdu[0].data"
   ]
  },
  {
   "cell_type": "code",
   "execution_count": 5,
   "metadata": {},
   "outputs": [],
   "source": [
    "# Time is the second block\n",
    "time = data[:, 1] * u.second\n",
    "# Intensity is the first block\n",
    "intensity = data[:, 0] * u.A"
   ]
  },
  {
   "cell_type": "code",
   "execution_count": 6,
   "metadata": {},
   "outputs": [
    {
     "data": {
      "image/png": "[encoded data removed]",
      "text/plain": [
       "<Figure size 432x288 with 1 Axes>"
      ]
     },
     "metadata": {},
     "output_type": "display_data"
    }
   ],
   "source": [
    "plt.figure()\n",
    "plt.plot(time, intensity.to(u.uA), 'bo-')\n",
    "plt.xlabel(r'Time (sec)')\n",
    "plt.ylabel(r'Intensity ($\\mu$A)')\n",
    "plt.show()"
   ]
  }
 ],
 "metadata": {
  "kernelspec": {
   "display_name": "Python 3",
   "language": "python",
   "name": "python3"
  },
  "language_info": {
   "codemirror_mode": {
    "name": "ipython",
    "version": 3
   },
   "file_extension": ".py",
   "mimetype": "text/x-python",
   "name": "python",
   "nbconvert_exporter": "python",
   "pygments_lexer": "ipython3",
   "version": "3.6.5"
  }
 },
 "nbformat": 4,
 "nbformat_minor": 2
}
